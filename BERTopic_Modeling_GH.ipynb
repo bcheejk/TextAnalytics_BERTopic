{
  "cells": [
    {
      "cell_type": "markdown",
      "metadata": {
        "id": "TxbnMcAPQd_D"
      },
      "source": [
        "# Install necessary packages"
      ]
    },
    {
      "cell_type": "code",
      "execution_count": null,
      "metadata": {
        "id": "LJNSIg0FROp4"
      },
      "outputs": [],
      "source": [
        "# !pip install top2vec\n",
        "# !pip install pyLDAvis\n",
        "!pip install bertopic\n",
        "# !python -m spacy download en_core_web_lg"
      ]
    },
    {
      "cell_type": "markdown",
      "metadata": {
        "id": "6H5Pkj2oQmXR"
      },
      "source": [
        "# Read the transcripts"
      ]
    },
    {
      "cell_type": "code",
      "execution_count": 1,
      "metadata": {
        "colab": {
          "base_uri": "https://localhost:8080/"
        },
        "id": "o4nrANv0c07U",
        "outputId": "f0db5887-cbb3-4df3-c4c2-bf2e42e686be"
      },
      "outputs": [
        {
          "output_type": "stream",
          "name": "stdout",
          "text": [
            "Drive already mounted at /content/drive; to attempt to forcibly remount, call drive.mount(\"/content/drive\", force_remount=True).\n"
          ]
        }
      ],
      "source": [
        "from google.colab import drive\n",
        "drive.mount('/content/drive')"
      ]
    },
    {
      "cell_type": "code",
      "execution_count": 2,
      "metadata": {
        "colab": {
          "base_uri": "https://localhost:8080/",
          "height": 289
        },
        "id": "WAxIWrLiQCv4",
        "outputId": "201cb462-f56a-4de3-a125-3ec279ed995c"
      },
      "outputs": [
        {
          "output_type": "execute_result",
          "data": {
            "text/plain": [
              "               Company                                               Call  \\\n",
              "0  Abbott Laboratories  Abbott Laboratories, Q1 2018 Earnings Call, Ap...   \n",
              "1  Abbott Laboratories  Abbott Laboratories, Q1 2018 Earnings Call, Ap...   \n",
              "2  Abbott Laboratories  Abbott Laboratories, Q1 2018 Earnings Call, Ap...   \n",
              "3  Abbott Laboratories  Abbott Laboratories, Q1 2018 Earnings Call, Ap...   \n",
              "4  Abbott Laboratories  Abbott Laboratories, Q1 2018 Earnings Call, Ap...   \n",
              "\n",
              "  Date_of_call                          Type_of_text             Person  \\\n",
              "0   2018-04-18         Presentation Operator Message           Operator   \n",
              "1   2018-04-18                      Presenter Speech  Scott Leinenweber   \n",
              "2   2018-04-18                      Presenter Speech        Miles White   \n",
              "3   2018-04-18                      Presenter Speech         Brian Yoor   \n",
              "4   2018-04-18  Question and Answer Operator Message           Operator   \n",
              "\n",
              "                                                Text  Order    Industry  \n",
              "0  Good morning and thank you for standing by. We...      0  Healthcare  \n",
              "1  Good morning and thank you for joining us. \\r\\...      1  Healthcare  \n",
              "2  Okay. Thanks, Scott, and good morning. \\r\\nTod...      2  Healthcare  \n",
              "3  Okay. Thanks, Miles. \\r\\nAnd as Scott mentione...      3  Healthcare  \n",
              "4  [Operator Instructions] And our first question...      4  Healthcare  "
            ],
            "text/html": [
              "\n",
              "  <div id=\"df-4c63df30-2672-4696-bb9c-5b686171a238\" class=\"colab-df-container\">\n",
              "    <div>\n",
              "<style scoped>\n",
              "    .dataframe tbody tr th:only-of-type {\n",
              "        vertical-align: middle;\n",
              "    }\n",
              "\n",
              "    .dataframe tbody tr th {\n",
              "        vertical-align: top;\n",
              "    }\n",
              "\n",
              "    .dataframe thead th {\n",
              "        text-align: right;\n",
              "    }\n",
              "</style>\n",
              "<table border=\"1\" class=\"dataframe\">\n",
              "  <thead>\n",
              "    <tr style=\"text-align: right;\">\n",
              "      <th></th>\n",
              "      <th>Company</th>\n",
              "      <th>Call</th>\n",
              "      <th>Date_of_call</th>\n",
              "      <th>Type_of_text</th>\n",
              "      <th>Person</th>\n",
              "      <th>Text</th>\n",
              "      <th>Order</th>\n",
              "      <th>Industry</th>\n",
              "    </tr>\n",
              "  </thead>\n",
              "  <tbody>\n",
              "    <tr>\n",
              "      <th>0</th>\n",
              "      <td>Abbott Laboratories</td>\n",
              "      <td>Abbott Laboratories, Q1 2018 Earnings Call, Ap...</td>\n",
              "      <td>2018-04-18</td>\n",
              "      <td>Presentation Operator Message</td>\n",
              "      <td>Operator</td>\n",
              "      <td>Good morning and thank you for standing by. We...</td>\n",
              "      <td>0</td>\n",
              "      <td>Healthcare</td>\n",
              "    </tr>\n",
              "    <tr>\n",
              "      <th>1</th>\n",
              "      <td>Abbott Laboratories</td>\n",
              "      <td>Abbott Laboratories, Q1 2018 Earnings Call, Ap...</td>\n",
              "      <td>2018-04-18</td>\n",
              "      <td>Presenter Speech</td>\n",
              "      <td>Scott Leinenweber</td>\n",
              "      <td>Good morning and thank you for joining us. \\r\\...</td>\n",
              "      <td>1</td>\n",
              "      <td>Healthcare</td>\n",
              "    </tr>\n",
              "    <tr>\n",
              "      <th>2</th>\n",
              "      <td>Abbott Laboratories</td>\n",
              "      <td>Abbott Laboratories, Q1 2018 Earnings Call, Ap...</td>\n",
              "      <td>2018-04-18</td>\n",
              "      <td>Presenter Speech</td>\n",
              "      <td>Miles White</td>\n",
              "      <td>Okay. Thanks, Scott, and good morning. \\r\\nTod...</td>\n",
              "      <td>2</td>\n",
              "      <td>Healthcare</td>\n",
              "    </tr>\n",
              "    <tr>\n",
              "      <th>3</th>\n",
              "      <td>Abbott Laboratories</td>\n",
              "      <td>Abbott Laboratories, Q1 2018 Earnings Call, Ap...</td>\n",
              "      <td>2018-04-18</td>\n",
              "      <td>Presenter Speech</td>\n",
              "      <td>Brian Yoor</td>\n",
              "      <td>Okay. Thanks, Miles. \\r\\nAnd as Scott mentione...</td>\n",
              "      <td>3</td>\n",
              "      <td>Healthcare</td>\n",
              "    </tr>\n",
              "    <tr>\n",
              "      <th>4</th>\n",
              "      <td>Abbott Laboratories</td>\n",
              "      <td>Abbott Laboratories, Q1 2018 Earnings Call, Ap...</td>\n",
              "      <td>2018-04-18</td>\n",
              "      <td>Question and Answer Operator Message</td>\n",
              "      <td>Operator</td>\n",
              "      <td>[Operator Instructions] And our first question...</td>\n",
              "      <td>4</td>\n",
              "      <td>Healthcare</td>\n",
              "    </tr>\n",
              "  </tbody>\n",
              "</table>\n",
              "</div>\n",
              "    <div class=\"colab-df-buttons\">\n",
              "\n",
              "  <div class=\"colab-df-container\">\n",
              "    <button class=\"colab-df-convert\" onclick=\"convertToInteractive('df-4c63df30-2672-4696-bb9c-5b686171a238')\"\n",
              "            title=\"Convert this dataframe to an interactive table.\"\n",
              "            style=\"display:none;\">\n",
              "\n",
              "  <svg xmlns=\"http://www.w3.org/2000/svg\" height=\"24px\" viewBox=\"0 -960 960 960\">\n",
              "    <path d=\"M120-120v-720h720v720H120Zm60-500h600v-160H180v160Zm220 220h160v-160H400v160Zm0 220h160v-160H400v160ZM180-400h160v-160H180v160Zm440 0h160v-160H620v160ZM180-180h160v-160H180v160Zm440 0h160v-160H620v160Z\"/>\n",
              "  </svg>\n",
              "    </button>\n",
              "\n",
              "  <style>\n",
              "    .colab-df-container {\n",
              "      display:flex;\n",
              "      gap: 12px;\n",
              "    }\n",
              "\n",
              "    .colab-df-convert {\n",
              "      background-color: #E8F0FE;\n",
              "      border: none;\n",
              "      border-radius: 50%;\n",
              "      cursor: pointer;\n",
              "      display: none;\n",
              "      fill: #1967D2;\n",
              "      height: 32px;\n",
              "      padding: 0 0 0 0;\n",
              "      width: 32px;\n",
              "    }\n",
              "\n",
              "    .colab-df-convert:hover {\n",
              "      background-color: #E2EBFA;\n",
              "      box-shadow: 0px 1px 2px rgba(60, 64, 67, 0.3), 0px 1px 3px 1px rgba(60, 64, 67, 0.15);\n",
              "      fill: #174EA6;\n",
              "    }\n",
              "\n",
              "    .colab-df-buttons div {\n",
              "      margin-bottom: 4px;\n",
              "    }\n",
              "\n",
              "    [theme=dark] .colab-df-convert {\n",
              "      background-color: #3B4455;\n",
              "      fill: #D2E3FC;\n",
              "    }\n",
              "\n",
              "    [theme=dark] .colab-df-convert:hover {\n",
              "      background-color: #434B5C;\n",
              "      box-shadow: 0px 1px 3px 1px rgba(0, 0, 0, 0.15);\n",
              "      filter: drop-shadow(0px 1px 2px rgba(0, 0, 0, 0.3));\n",
              "      fill: #FFFFFF;\n",
              "    }\n",
              "  </style>\n",
              "\n",
              "    <script>\n",
              "      const buttonEl =\n",
              "        document.querySelector('#df-4c63df30-2672-4696-bb9c-5b686171a238 button.colab-df-convert');\n",
              "      buttonEl.style.display =\n",
              "        google.colab.kernel.accessAllowed ? 'block' : 'none';\n",
              "\n",
              "      async function convertToInteractive(key) {\n",
              "        const element = document.querySelector('#df-4c63df30-2672-4696-bb9c-5b686171a238');\n",
              "        const dataTable =\n",
              "          await google.colab.kernel.invokeFunction('convertToInteractive',\n",
              "                                                    [key], {});\n",
              "        if (!dataTable) return;\n",
              "\n",
              "        const docLinkHtml = 'Like what you see? Visit the ' +\n",
              "          '<a target=\"_blank\" href=https://colab.research.google.com/notebooks/data_table.ipynb>data table notebook</a>'\n",
              "          + ' to learn more about interactive tables.';\n",
              "        element.innerHTML = '';\n",
              "        dataTable['output_type'] = 'display_data';\n",
              "        await google.colab.output.renderOutput(dataTable, element);\n",
              "        const docLink = document.createElement('div');\n",
              "        docLink.innerHTML = docLinkHtml;\n",
              "        element.appendChild(docLink);\n",
              "      }\n",
              "    </script>\n",
              "  </div>\n",
              "\n",
              "\n",
              "<div id=\"df-522b0297-7f99-4743-b2cf-01146feaa09a\">\n",
              "  <button class=\"colab-df-quickchart\" onclick=\"quickchart('df-522b0297-7f99-4743-b2cf-01146feaa09a')\"\n",
              "            title=\"Suggest charts\"\n",
              "            style=\"display:none;\">\n",
              "\n",
              "<svg xmlns=\"http://www.w3.org/2000/svg\" height=\"24px\"viewBox=\"0 0 24 24\"\n",
              "     width=\"24px\">\n",
              "    <g>\n",
              "        <path d=\"M19 3H5c-1.1 0-2 .9-2 2v14c0 1.1.9 2 2 2h14c1.1 0 2-.9 2-2V5c0-1.1-.9-2-2-2zM9 17H7v-7h2v7zm4 0h-2V7h2v10zm4 0h-2v-4h2v4z\"/>\n",
              "    </g>\n",
              "</svg>\n",
              "  </button>\n",
              "\n",
              "<style>\n",
              "  .colab-df-quickchart {\n",
              "      --bg-color: #E8F0FE;\n",
              "      --fill-color: #1967D2;\n",
              "      --hover-bg-color: #E2EBFA;\n",
              "      --hover-fill-color: #174EA6;\n",
              "      --disabled-fill-color: #AAA;\n",
              "      --disabled-bg-color: #DDD;\n",
              "  }\n",
              "\n",
              "  [theme=dark] .colab-df-quickchart {\n",
              "      --bg-color: #3B4455;\n",
              "      --fill-color: #D2E3FC;\n",
              "      --hover-bg-color: #434B5C;\n",
              "      --hover-fill-color: #FFFFFF;\n",
              "      --disabled-bg-color: #3B4455;\n",
              "      --disabled-fill-color: #666;\n",
              "  }\n",
              "\n",
              "  .colab-df-quickchart {\n",
              "    background-color: var(--bg-color);\n",
              "    border: none;\n",
              "    border-radius: 50%;\n",
              "    cursor: pointer;\n",
              "    display: none;\n",
              "    fill: var(--fill-color);\n",
              "    height: 32px;\n",
              "    padding: 0;\n",
              "    width: 32px;\n",
              "  }\n",
              "\n",
              "  .colab-df-quickchart:hover {\n",
              "    background-color: var(--hover-bg-color);\n",
              "    box-shadow: 0 1px 2px rgba(60, 64, 67, 0.3), 0 1px 3px 1px rgba(60, 64, 67, 0.15);\n",
              "    fill: var(--button-hover-fill-color);\n",
              "  }\n",
              "\n",
              "  .colab-df-quickchart-complete:disabled,\n",
              "  .colab-df-quickchart-complete:disabled:hover {\n",
              "    background-color: var(--disabled-bg-color);\n",
              "    fill: var(--disabled-fill-color);\n",
              "    box-shadow: none;\n",
              "  }\n",
              "\n",
              "  .colab-df-spinner {\n",
              "    border: 2px solid var(--fill-color);\n",
              "    border-color: transparent;\n",
              "    border-bottom-color: var(--fill-color);\n",
              "    animation:\n",
              "      spin 1s steps(1) infinite;\n",
              "  }\n",
              "\n",
              "  @keyframes spin {\n",
              "    0% {\n",
              "      border-color: transparent;\n",
              "      border-bottom-color: var(--fill-color);\n",
              "      border-left-color: var(--fill-color);\n",
              "    }\n",
              "    20% {\n",
              "      border-color: transparent;\n",
              "      border-left-color: var(--fill-color);\n",
              "      border-top-color: var(--fill-color);\n",
              "    }\n",
              "    30% {\n",
              "      border-color: transparent;\n",
              "      border-left-color: var(--fill-color);\n",
              "      border-top-color: var(--fill-color);\n",
              "      border-right-color: var(--fill-color);\n",
              "    }\n",
              "    40% {\n",
              "      border-color: transparent;\n",
              "      border-right-color: var(--fill-color);\n",
              "      border-top-color: var(--fill-color);\n",
              "    }\n",
              "    60% {\n",
              "      border-color: transparent;\n",
              "      border-right-color: var(--fill-color);\n",
              "    }\n",
              "    80% {\n",
              "      border-color: transparent;\n",
              "      border-right-color: var(--fill-color);\n",
              "      border-bottom-color: var(--fill-color);\n",
              "    }\n",
              "    90% {\n",
              "      border-color: transparent;\n",
              "      border-bottom-color: var(--fill-color);\n",
              "    }\n",
              "  }\n",
              "</style>\n",
              "\n",
              "  <script>\n",
              "    async function quickchart(key) {\n",
              "      const quickchartButtonEl =\n",
              "        document.querySelector('#' + key + ' button');\n",
              "      quickchartButtonEl.disabled = true;  // To prevent multiple clicks.\n",
              "      quickchartButtonEl.classList.add('colab-df-spinner');\n",
              "      try {\n",
              "        const charts = await google.colab.kernel.invokeFunction(\n",
              "            'suggestCharts', [key], {});\n",
              "      } catch (error) {\n",
              "        console.error('Error during call to suggestCharts:', error);\n",
              "      }\n",
              "      quickchartButtonEl.classList.remove('colab-df-spinner');\n",
              "      quickchartButtonEl.classList.add('colab-df-quickchart-complete');\n",
              "    }\n",
              "    (() => {\n",
              "      let quickchartButtonEl =\n",
              "        document.querySelector('#df-522b0297-7f99-4743-b2cf-01146feaa09a button');\n",
              "      quickchartButtonEl.style.display =\n",
              "        google.colab.kernel.accessAllowed ? 'block' : 'none';\n",
              "    })();\n",
              "  </script>\n",
              "</div>\n",
              "\n",
              "    </div>\n",
              "  </div>\n"
            ],
            "application/vnd.google.colaboratory.intrinsic+json": {
              "type": "dataframe",
              "variable_name": "df",
              "summary": "{\n  \"name\": \"df\",\n  \"rows\": 44168,\n  \"fields\": [\n    {\n      \"column\": \"Company\",\n      \"properties\": {\n        \"dtype\": \"category\",\n        \"num_unique_values\": 40,\n        \"samples\": [\n          \"Kellogg Company\",\n          \"Intel Corporation\",\n          \"Honeywell International Inc.\"\n        ],\n        \"semantic_type\": \"\",\n        \"description\": \"\"\n      }\n    },\n    {\n      \"column\": \"Call\",\n      \"properties\": {\n        \"dtype\": \"category\",\n        \"num_unique_values\": 701,\n        \"samples\": [\n          \"Walmart Inc., Q2 2022 Earnings Call, Aug 17, 2021\",\n          \"Dollar Tree, Inc., Q3 2020 Earnings Call, Nov 26, 2019\",\n          \"American Express Company, Q4 2018 Earnings Call, Jan 17, 2019\"\n        ],\n        \"semantic_type\": \"\",\n        \"description\": \"\"\n      }\n    },\n    {\n      \"column\": \"Date_of_call\",\n      \"properties\": {\n        \"dtype\": \"object\",\n        \"num_unique_values\": 385,\n        \"samples\": [\n          \"2020-09-29\",\n          \"2021-02-11\",\n          \"2022-02-09\"\n        ],\n        \"semantic_type\": \"\",\n        \"description\": \"\"\n      }\n    },\n    {\n      \"column\": \"Type_of_text\",\n      \"properties\": {\n        \"dtype\": \"category\",\n        \"num_unique_values\": 5,\n        \"samples\": [\n          \"Presenter Speech\",\n          \"Answer\",\n          \"Question and Answer Operator Message\"\n        ],\n        \"semantic_type\": \"\",\n        \"description\": \"\"\n      }\n    },\n    {\n      \"column\": \"Person\",\n      \"properties\": {\n        \"dtype\": \"category\",\n        \"num_unique_values\": 1052,\n        \"samples\": [\n          \"Alison Sider;Wall Street Journal\",\n          \"Sameer Murukutla\",\n          \"Nitin Kumar\"\n        ],\n        \"semantic_type\": \"\",\n        \"description\": \"\"\n      }\n    },\n    {\n      \"column\": \"Text\",\n      \"properties\": {\n        \"dtype\": \"string\",\n        \"num_unique_values\": 41404,\n        \"samples\": [\n          \"Okay. A lot of questions to unpack. Okay. So on the buyback, I wouldn't read anything into the $150 million. Some quarters, we'll have higher levels of buyback than others. We were -- we did have an eye on our net cash position. And so that was something that we were trying to move in the right direction. I think you'll find in the fourth fiscal quarter that our buybacks are meaningfully higher than our third fiscal quarter. So nothing to read there. We do feel like this price is obviously a good price to be buying the stock back. And we are committed to what we've talked about previously, which is to return at least 50% of our free cash flow in the form of buybacks. And as we -- as I talked about in the prepared remarks, I think the metric we've hit so far is 55%. So we've done pretty well. And that doesn't even account for the converts, which, I think, by the end of this fiscal quarter, that is the fourth fiscal quarter, will be completely done with converged, conversions will be completely off the balance sheet, and we will remove that dilution as well. \\r\\nAs it relates -- no message on the CapEx as it relates to buybacks, other than to say that given the EUV investments, it does appear that we will operate maybe at a little bit of a different level from a percent of sales perspective than perhaps we previously were operating. We were thinking more in the low 30s. I think with EUV, it's safe to say that we probably are operating in the mid-30s as a percent of revenue for CapEx, at least as we build out the EUV part of the tool set.\",\n          \"No, that's fine. It's just a slippery slope when you start to put something in place. You don't know exactly when to peel it back. I just wondered how you were thinking about it. \\r\\nAnd then maybe just a clarification on the CARES loan. How much of the encumbered assets are you proposing to pledge against that, so we can know kind of quarter end, what your unencumbered assets are?\",\n          \"Sure, Ken. Thanks for the question. Well, obviously, as you think about the -- in particular, the first half, second half perspective on the year with Q1 coming in stronger than we expect on both the top and the bottom line, we would expect a little bit more balanced year in terms of the flow of margins and that we're seeing more of the cost, obviously, and the cost increase coming in, in the back half, offset by a little bit stronger performance in the first half. And we do still expect our pricing realization to come in sort of full force in Q2 and against the inflation expectations. So just to give you a little bit more color. We don't want to get any deeper on a quarter-by-quarter basis.\"\n        ],\n        \"semantic_type\": \"\",\n        \"description\": \"\"\n      }\n    },\n    {\n      \"column\": \"Order\",\n      \"properties\": {\n        \"dtype\": \"number\",\n        \"std\": 26,\n        \"min\": 0,\n        \"max\": 291,\n        \"num_unique_values\": 292,\n        \"samples\": [\n          84,\n          260,\n          45\n        ],\n        \"semantic_type\": \"\",\n        \"description\": \"\"\n      }\n    },\n    {\n      \"column\": \"Industry\",\n      \"properties\": {\n        \"dtype\": \"category\",\n        \"num_unique_values\": 8,\n        \"samples\": [\n          \"Semiconductor\",\n          \"Industrial\",\n          \"Healthcare\"\n        ],\n        \"semantic_type\": \"\",\n        \"description\": \"\"\n      }\n    }\n  ]\n}"
            }
          },
          "metadata": {},
          "execution_count": 2
        }
      ],
      "source": [
        "import pandas as pd\n",
        "import numpy as np\n",
        "df = pd.read_pickle(\"/content/drive/MyDrive/transcript_texts.pkl\")\n",
        "df.head()"
      ]
    },
    {
      "cell_type": "markdown",
      "source": [
        "# Filter date after 2021"
      ],
      "metadata": {
        "id": "7XVFCIc-Efhk"
      }
    },
    {
      "cell_type": "code",
      "execution_count": 3,
      "metadata": {
        "id": "9xg3TocdQKAM"
      },
      "outputs": [],
      "source": [
        "df = df[df['Date_of_call'] >= '2021-01-01']"
      ]
    },
    {
      "cell_type": "code",
      "execution_count": 4,
      "metadata": {
        "colab": {
          "base_uri": "https://localhost:8080/"
        },
        "id": "UW-imJJvzCnr",
        "outputId": "d05b6891-2679-4c3a-b0c8-65e83b24eeb6"
      },
      "outputs": [
        {
          "output_type": "execute_result",
          "data": {
            "text/plain": [
              "array(['Healthcare', 'Semiconductor', 'Transportation', 'Financial',\n",
              "       'Technology', 'Industrial', 'Oil and Gas', 'Consumer'],\n",
              "      dtype=object)"
            ]
          },
          "metadata": {},
          "execution_count": 4
        }
      ],
      "source": [
        "df.Industry.unique()"
      ]
    },
    {
      "cell_type": "code",
      "execution_count": 5,
      "metadata": {
        "colab": {
          "base_uri": "https://localhost:8080/"
        },
        "id": "q1CVO7jvdS8R",
        "outputId": "8c78acf6-7154-473b-b795-540f63277a55"
      },
      "outputs": [
        {
          "output_type": "execute_result",
          "data": {
            "text/plain": [
              "array(['Presentation Operator Message', 'Presenter Speech',\n",
              "       'Question and Answer Operator Message', 'Question', 'Answer'],\n",
              "      dtype=object)"
            ]
          },
          "metadata": {},
          "execution_count": 5
        }
      ],
      "source": [
        "df['Type_of_text'].unique()"
      ]
    },
    {
      "cell_type": "code",
      "execution_count": 6,
      "metadata": {
        "colab": {
          "base_uri": "https://localhost:8080/",
          "height": 235
        },
        "id": "A62ePY6mea3j",
        "outputId": "b738ac0c-c102-4bb8-9f86-94ce94b3d36f"
      },
      "outputs": [
        {
          "output_type": "execute_result",
          "data": {
            "text/plain": [
              "                                                                                                 Text\n",
              "Call                                                                                                 \n",
              "Abbott Laboratories, Q1 2021 Earnings Call, Apr...  Good morning, and thank you for standing by. W...\n",
              "Abbott Laboratories, Q1 2022 Earnings Call, Apr...  Good morning, and thank you for standing by. W...\n",
              "Abbott Laboratories, Q2 2021 Earnings Call, Jul...  Good morning, and thank you for standing by. W...\n",
              "Abbott Laboratories, Q3 2021 Earnings Call, Oct...  Good morning, and thank you for standing by. W...\n",
              "Abbott Laboratories, Q4 2020 Earnings Call, Jan...  Good morning, and thank you for standing by. W..."
            ],
            "text/html": [
              "\n",
              "  <div id=\"df-c410fabc-4d0a-4a4b-b329-62ccde6f9a08\" class=\"colab-df-container\">\n",
              "    <div>\n",
              "<style scoped>\n",
              "    .dataframe tbody tr th:only-of-type {\n",
              "        vertical-align: middle;\n",
              "    }\n",
              "\n",
              "    .dataframe tbody tr th {\n",
              "        vertical-align: top;\n",
              "    }\n",
              "\n",
              "    .dataframe thead th {\n",
              "        text-align: right;\n",
              "    }\n",
              "</style>\n",
              "<table border=\"1\" class=\"dataframe\">\n",
              "  <thead>\n",
              "    <tr style=\"text-align: right;\">\n",
              "      <th></th>\n",
              "      <th>Text</th>\n",
              "    </tr>\n",
              "    <tr>\n",
              "      <th>Call</th>\n",
              "      <th></th>\n",
              "    </tr>\n",
              "  </thead>\n",
              "  <tbody>\n",
              "    <tr>\n",
              "      <th>Abbott Laboratories, Q1 2021 Earnings Call, Apr 20, 2021</th>\n",
              "      <td>Good morning, and thank you for standing by. W...</td>\n",
              "    </tr>\n",
              "    <tr>\n",
              "      <th>Abbott Laboratories, Q1 2022 Earnings Call, Apr 20, 2022</th>\n",
              "      <td>Good morning, and thank you for standing by. W...</td>\n",
              "    </tr>\n",
              "    <tr>\n",
              "      <th>Abbott Laboratories, Q2 2021 Earnings Call, Jul 22, 2021</th>\n",
              "      <td>Good morning, and thank you for standing by. W...</td>\n",
              "    </tr>\n",
              "    <tr>\n",
              "      <th>Abbott Laboratories, Q3 2021 Earnings Call, Oct 20, 2021</th>\n",
              "      <td>Good morning, and thank you for standing by. W...</td>\n",
              "    </tr>\n",
              "    <tr>\n",
              "      <th>Abbott Laboratories, Q4 2020 Earnings Call, Jan 27, 2021</th>\n",
              "      <td>Good morning, and thank you for standing by. W...</td>\n",
              "    </tr>\n",
              "  </tbody>\n",
              "</table>\n",
              "</div>\n",
              "    <div class=\"colab-df-buttons\">\n",
              "\n",
              "  <div class=\"colab-df-container\">\n",
              "    <button class=\"colab-df-convert\" onclick=\"convertToInteractive('df-c410fabc-4d0a-4a4b-b329-62ccde6f9a08')\"\n",
              "            title=\"Convert this dataframe to an interactive table.\"\n",
              "            style=\"display:none;\">\n",
              "\n",
              "  <svg xmlns=\"http://www.w3.org/2000/svg\" height=\"24px\" viewBox=\"0 -960 960 960\">\n",
              "    <path d=\"M120-120v-720h720v720H120Zm60-500h600v-160H180v160Zm220 220h160v-160H400v160Zm0 220h160v-160H400v160ZM180-400h160v-160H180v160Zm440 0h160v-160H620v160ZM180-180h160v-160H180v160Zm440 0h160v-160H620v160Z\"/>\n",
              "  </svg>\n",
              "    </button>\n",
              "\n",
              "  <style>\n",
              "    .colab-df-container {\n",
              "      display:flex;\n",
              "      gap: 12px;\n",
              "    }\n",
              "\n",
              "    .colab-df-convert {\n",
              "      background-color: #E8F0FE;\n",
              "      border: none;\n",
              "      border-radius: 50%;\n",
              "      cursor: pointer;\n",
              "      display: none;\n",
              "      fill: #1967D2;\n",
              "      height: 32px;\n",
              "      padding: 0 0 0 0;\n",
              "      width: 32px;\n",
              "    }\n",
              "\n",
              "    .colab-df-convert:hover {\n",
              "      background-color: #E2EBFA;\n",
              "      box-shadow: 0px 1px 2px rgba(60, 64, 67, 0.3), 0px 1px 3px 1px rgba(60, 64, 67, 0.15);\n",
              "      fill: #174EA6;\n",
              "    }\n",
              "\n",
              "    .colab-df-buttons div {\n",
              "      margin-bottom: 4px;\n",
              "    }\n",
              "\n",
              "    [theme=dark] .colab-df-convert {\n",
              "      background-color: #3B4455;\n",
              "      fill: #D2E3FC;\n",
              "    }\n",
              "\n",
              "    [theme=dark] .colab-df-convert:hover {\n",
              "      background-color: #434B5C;\n",
              "      box-shadow: 0px 1px 3px 1px rgba(0, 0, 0, 0.15);\n",
              "      filter: drop-shadow(0px 1px 2px rgba(0, 0, 0, 0.3));\n",
              "      fill: #FFFFFF;\n",
              "    }\n",
              "  </style>\n",
              "\n",
              "    <script>\n",
              "      const buttonEl =\n",
              "        document.querySelector('#df-c410fabc-4d0a-4a4b-b329-62ccde6f9a08 button.colab-df-convert');\n",
              "      buttonEl.style.display =\n",
              "        google.colab.kernel.accessAllowed ? 'block' : 'none';\n",
              "\n",
              "      async function convertToInteractive(key) {\n",
              "        const element = document.querySelector('#df-c410fabc-4d0a-4a4b-b329-62ccde6f9a08');\n",
              "        const dataTable =\n",
              "          await google.colab.kernel.invokeFunction('convertToInteractive',\n",
              "                                                    [key], {});\n",
              "        if (!dataTable) return;\n",
              "\n",
              "        const docLinkHtml = 'Like what you see? Visit the ' +\n",
              "          '<a target=\"_blank\" href=https://colab.research.google.com/notebooks/data_table.ipynb>data table notebook</a>'\n",
              "          + ' to learn more about interactive tables.';\n",
              "        element.innerHTML = '';\n",
              "        dataTable['output_type'] = 'display_data';\n",
              "        await google.colab.output.renderOutput(dataTable, element);\n",
              "        const docLink = document.createElement('div');\n",
              "        docLink.innerHTML = docLinkHtml;\n",
              "        element.appendChild(docLink);\n",
              "      }\n",
              "    </script>\n",
              "  </div>\n",
              "\n",
              "\n",
              "<div id=\"df-8fef9a6d-b528-4a3d-b089-1dd04b32d13c\">\n",
              "  <button class=\"colab-df-quickchart\" onclick=\"quickchart('df-8fef9a6d-b528-4a3d-b089-1dd04b32d13c')\"\n",
              "            title=\"Suggest charts\"\n",
              "            style=\"display:none;\">\n",
              "\n",
              "<svg xmlns=\"http://www.w3.org/2000/svg\" height=\"24px\"viewBox=\"0 0 24 24\"\n",
              "     width=\"24px\">\n",
              "    <g>\n",
              "        <path d=\"M19 3H5c-1.1 0-2 .9-2 2v14c0 1.1.9 2 2 2h14c1.1 0 2-.9 2-2V5c0-1.1-.9-2-2-2zM9 17H7v-7h2v7zm4 0h-2V7h2v10zm4 0h-2v-4h2v4z\"/>\n",
              "    </g>\n",
              "</svg>\n",
              "  </button>\n",
              "\n",
              "<style>\n",
              "  .colab-df-quickchart {\n",
              "      --bg-color: #E8F0FE;\n",
              "      --fill-color: #1967D2;\n",
              "      --hover-bg-color: #E2EBFA;\n",
              "      --hover-fill-color: #174EA6;\n",
              "      --disabled-fill-color: #AAA;\n",
              "      --disabled-bg-color: #DDD;\n",
              "  }\n",
              "\n",
              "  [theme=dark] .colab-df-quickchart {\n",
              "      --bg-color: #3B4455;\n",
              "      --fill-color: #D2E3FC;\n",
              "      --hover-bg-color: #434B5C;\n",
              "      --hover-fill-color: #FFFFFF;\n",
              "      --disabled-bg-color: #3B4455;\n",
              "      --disabled-fill-color: #666;\n",
              "  }\n",
              "\n",
              "  .colab-df-quickchart {\n",
              "    background-color: var(--bg-color);\n",
              "    border: none;\n",
              "    border-radius: 50%;\n",
              "    cursor: pointer;\n",
              "    display: none;\n",
              "    fill: var(--fill-color);\n",
              "    height: 32px;\n",
              "    padding: 0;\n",
              "    width: 32px;\n",
              "  }\n",
              "\n",
              "  .colab-df-quickchart:hover {\n",
              "    background-color: var(--hover-bg-color);\n",
              "    box-shadow: 0 1px 2px rgba(60, 64, 67, 0.3), 0 1px 3px 1px rgba(60, 64, 67, 0.15);\n",
              "    fill: var(--button-hover-fill-color);\n",
              "  }\n",
              "\n",
              "  .colab-df-quickchart-complete:disabled,\n",
              "  .colab-df-quickchart-complete:disabled:hover {\n",
              "    background-color: var(--disabled-bg-color);\n",
              "    fill: var(--disabled-fill-color);\n",
              "    box-shadow: none;\n",
              "  }\n",
              "\n",
              "  .colab-df-spinner {\n",
              "    border: 2px solid var(--fill-color);\n",
              "    border-color: transparent;\n",
              "    border-bottom-color: var(--fill-color);\n",
              "    animation:\n",
              "      spin 1s steps(1) infinite;\n",
              "  }\n",
              "\n",
              "  @keyframes spin {\n",
              "    0% {\n",
              "      border-color: transparent;\n",
              "      border-bottom-color: var(--fill-color);\n",
              "      border-left-color: var(--fill-color);\n",
              "    }\n",
              "    20% {\n",
              "      border-color: transparent;\n",
              "      border-left-color: var(--fill-color);\n",
              "      border-top-color: var(--fill-color);\n",
              "    }\n",
              "    30% {\n",
              "      border-color: transparent;\n",
              "      border-left-color: var(--fill-color);\n",
              "      border-top-color: var(--fill-color);\n",
              "      border-right-color: var(--fill-color);\n",
              "    }\n",
              "    40% {\n",
              "      border-color: transparent;\n",
              "      border-right-color: var(--fill-color);\n",
              "      border-top-color: var(--fill-color);\n",
              "    }\n",
              "    60% {\n",
              "      border-color: transparent;\n",
              "      border-right-color: var(--fill-color);\n",
              "    }\n",
              "    80% {\n",
              "      border-color: transparent;\n",
              "      border-right-color: var(--fill-color);\n",
              "      border-bottom-color: var(--fill-color);\n",
              "    }\n",
              "    90% {\n",
              "      border-color: transparent;\n",
              "      border-bottom-color: var(--fill-color);\n",
              "    }\n",
              "  }\n",
              "</style>\n",
              "\n",
              "  <script>\n",
              "    async function quickchart(key) {\n",
              "      const quickchartButtonEl =\n",
              "        document.querySelector('#' + key + ' button');\n",
              "      quickchartButtonEl.disabled = true;  // To prevent multiple clicks.\n",
              "      quickchartButtonEl.classList.add('colab-df-spinner');\n",
              "      try {\n",
              "        const charts = await google.colab.kernel.invokeFunction(\n",
              "            'suggestCharts', [key], {});\n",
              "      } catch (error) {\n",
              "        console.error('Error during call to suggestCharts:', error);\n",
              "      }\n",
              "      quickchartButtonEl.classList.remove('colab-df-spinner');\n",
              "      quickchartButtonEl.classList.add('colab-df-quickchart-complete');\n",
              "    }\n",
              "    (() => {\n",
              "      let quickchartButtonEl =\n",
              "        document.querySelector('#df-8fef9a6d-b528-4a3d-b089-1dd04b32d13c button');\n",
              "      quickchartButtonEl.style.display =\n",
              "        google.colab.kernel.accessAllowed ? 'block' : 'none';\n",
              "    })();\n",
              "  </script>\n",
              "</div>\n",
              "\n",
              "    </div>\n",
              "  </div>\n"
            ],
            "application/vnd.google.colaboratory.intrinsic+json": {
              "type": "dataframe",
              "variable_name": "df2",
              "summary": "{\n  \"name\": \"df2\",\n  \"rows\": 242,\n  \"fields\": [\n    {\n      \"column\": \"Call\",\n      \"properties\": {\n        \"dtype\": \"string\",\n        \"num_unique_values\": 242,\n        \"samples\": [\n          \"Apple Inc., Q1 2021 Earnings Call, Jan 27, 2021\",\n          \"Advanced Micro Devices, Inc., Q1 2021 Earnings Call, Apr 27, 2021\",\n          \"Netflix, Inc., Q4 2021 Pre Recorded Earnings Call, Jan 20, 2022\"\n        ],\n        \"semantic_type\": \"\",\n        \"description\": \"\"\n      }\n    },\n    {\n      \"column\": \"Text\",\n      \"properties\": {\n        \"dtype\": \"string\",\n        \"num_unique_values\": 242,\n        \"samples\": [\n          \"Good day, and welcome to the Apple Q1 Fiscal Year 2021 Earnings Conference Call. Today's call is being recorded. At this time, for opening remarks and introductions, I would like to turn the call over to Tejas Gala, Director of Investor Relations and Corporate Finance. Please go ahead. Thank you. Good afternoon, and thank you for joining us. Speaking first today is Apple's CEO, Tim Cook, and he'll be followed by CFO, Luca Maestri. After that, we'll open the call to questions from analysts.\\r\\nPlease note that some of the information you'll hear during our discussion today will consist of forward-looking statements, including, without limitation, those regarding revenue, gross margin, operating expenses, other income and expense, taxes, capital allocation and future business outlook, including the potential impact of COVID-19 on the company's business and results of operations. These statements involve risks and uncertainties that may cause actual results or trends to differ materially from our forecast. For more information, please refer to the risk factors discussed in Apple's most recently filed annual report on Form 10-K and the Form 8-K filed with the SEC today, along with the associated press release. Apple assumes no obligation to update any forward-looking statements or information, which speak as of their respective dates. I'd now like to turn the call over to Tim for introductory remarks. Thank you, Tejas. Good afternoon, everyone. Thanks for joining the call today. It's with great gratitude for the tireless and innovative work of every Apple team member worldwide that I share the results of a very strong quarter for Apple. We achieved an all-time revenue record of $111.4 billion. We saw strong double-digit growth across every product category, and we achieved all-time revenue records in each of our geographic segments.\\r\\nIt is not far from many of our minds that this result caps off the most challenging year any of us can remember. And it is an understatement to say that the challenges it posed to Apple as a business paled in comparison to the challenge it posed to Apple as a community of individuals, to employees, to their families and to the communities we live in and love to call home.\\r\\nWhile these results show the central role that our products played in helping our users respond to these challenges, we are doubly aware that the work ahead of all of us to navigate the end of this pandemic, to restore normal life and prosperity in our neighborhoods and local economies and to build back with a sense of justice is profound and urgent. We will speak to these needs and Apple's efforts throughout today's call, but I want to first offer the context of a detailed look at our results this quarter, including why we outperformed our expectations.\\r\\nLet's get started with hardware. We hit a new high watermark for our installed base of active devices, with growth accelerating as we passed 1.65 billion devices worldwide during the December quarter. iPhone grew by 17% year-over-year driven by strong demand for the iPhone 12 family, and our active installed base of iPhones is now over 1 billion. The customer response to the new iPhone 12 models' unprecedented innovation from world-class cameras to the great and growing potential of 5G has been enthusiastic, even in light of the ongoing COVID-19 impact at retail locations.\\r\\niPad and Mac grew by 41% and 21%, respectively, reflecting the continuing role these devices have played in our users' lives during the COVID-19 pandemic. During this quarter, availability began for both our new iPad Air as well as the first generation of Macs to feature our groundbreaking M1 chip. The demand for all of these products has been very strong.\\r\\nWe have also continued our efforts to bring the latest iPad's enriching content and professional support to educators, students and parents. Educational districts and governments worldwide are continuing major deployments, including the largest iPad deployments ever to schools in Germany and Japan.\\r\\nWearables, Home and Accessories grew by 30% year-over-year, driven by significant holiday demand for the latest Apple Watch, our entire AirPods lineup, including the new AirPods Max as well as the new HomePod mini. This broad strength across the category led to new revenue records for each of its 3 subgroups, and we're very excited about the road ahead for these products. \\r\\nLook no further than the great potential of Fitness+, which pairs with Apple Watch to deliver real-time on-screen fitness data alongside world-class workouts by the world's best trainers. There are new sessions added each week, and customers are loving the flexibility, challenge and fun of these classes as well as how the pairing with Apple Watch pushes you to achieve your fitness goals.\\r\\nThis deep integration of hardware, software and services have always defined our approach here, and it has delivered an all-time quarterly Services record of $15.8 billion. This was the first quarter of the Apple One bundle, which brings together many of our great services into an easy subscription; and with new content being added to these services every day, we feel very optimistic about where we are headed.\\r\\nThe App Store ecosystem has been so important as individuals, families and businesses worldwide evolve and adapt to the COVID-19 pandemic, and we want to make sure that this unrivaled engine of innovation and opportunity continues. This quarter, we also took a significant new step to help smaller developers continue to experiment, innovate and scale the latest great app ideas. The App Store Small Business Program reduces the commission on the sale of digital goods and services to 15% for small businesses earning less than $1 million a year. The program launched on January 1, and we are already hearing from developers about how this change represents a transformation in their potential to create and grow on the App Store.\\r\\nTomorrow is International Privacy Day, and we continue to set new standards to protect users' right to privacy, not just for our own products but to be the ripple in the pond that moves the whole industry forward. Most recently, we're in the process of deploying new requirements across the App Store ecosystem that give users more knowledge about and new tools to control the ways that apps gather and share their personal data.\\r\\nThe winter holiday season is always a busy time for us and our products. But this year was unique. We had a record number of device activations during the last week of the quarter. And as COVID-19 kept us apart, we saw the highest volume of FaceTime calls ever this Christmas. As always, we could not have made so many holidays special without our talented and dedicated retail teams who helped us achieve a new all-time revenue record for retail, driven by very strong performance in our online store.\\r\\nParticularly, after the events of the last few weeks, we're focused on how we can help a moment of great national need. Because none of us should have any illusions about the challenges we face as we begin a new chapter in the American story, hope for healing, for unity and for progress begins with and depends on addressing the things that continue to wound us.\\r\\nIn our communities, we see how every burden from COVID-19 to the resulting economic challenges, to the closure of in-person learning for students falls heaviest on those who have always faced structural barriers to opportunity and equality. This month, Apple announced major new commitments through a $100 million Racial Equity and Justice Initiative. The Propel Center launched with a $25 million commitment and with the support of historically black colleges and universities across the country, will help support the next-generation of leaders in fields ranging from machine learning to app development to entrepreneurship and design.\\r\\nAnd our new Apple Developer Academy in Downtown Detroit will be the first of its kind in the United States. Detroit has a vibrant culture of black entrepreneurship, including over 50,000 black-owned businesses. We want to accelerate the potential of the app economy here, knowing there is no shortage of good ideas in such a creative, resilient and dedicated community. Finally, we're committing $35 million across 2 investments in Harlem Capital and the Clear Vision Impact Fund that support, accelerate and grow minority-owned businesses in areas of great potential and need.\\r\\nIn December, we concluded an unmatched year of giving. Since the inception of the Apple Giving program in 2011, Apple employees have donated nearly $600 million and volunteered more than 1.6 million hours to over 34,000 organizations of every stride. Through our partnership with (PRODUCT)RED, we've adapted our 14-year $250 million effort to support HIV and AIDS work globally to ensure that care continues even in the time of COVID. That includes delivering millions of units of personal protective equipment to health care providers in Zambia.\\r\\nAnd here in the United States, even with COVID's effects, we are ahead of schedule on our multiyear commitment to invest $350 billion throughout the American economy. As proud as this makes us, we know there is much more to be done. Looking forward, we continue to contend with the COVID-19 pandemic, but we must also now work to imagine what we will inherit on the other side. When a disease recedes, we cannot simply assume that healing follows. Even now, we see the deep scars that this period has left in our communities. Trust has been compromised. Opportunities have been lost. Entire portions of our lives that we took for granted, schools for children, meetings with our colleagues, small businesses that have endured for generations have simply disappeared. It will take a society-wide effort across the public and private sectors as individuals and communities, every one of us, to ensure that what's ahead of us is not simply the end of a disease but the beginning of something durable and hopeful for those who gave, suffered and endured during this time.\\r\\nAt Apple, we have every intention to be partners in this effort, and we look forward to working in communities around the world to make it possible. And as this chapter of uncertainty continues, so will our tireless work to help our customers stay safe, connected and well.\\r\\nWith that, I'll hand things over to Luca. Thank you, Tim. Good afternoon, everyone. We started our fiscal 2021 with exceptional business and financial performance during the December quarter as we set all-time records for revenue, operating income, net income, earnings per share and operating cash flow. We are thrilled with the way our teams continued to innovate and execute throughout this period of elevated uncertainty.\\r\\nOur revenue reached an all-time record of $111.4 billion, an increase of nearly $20 billion or 21% from a year ago. We grew strong double digits in each of our product categories, with all-time records for iPhone; Wearables, Home and Accessories; and Services as well as a December quarter record for Mac. We also achieved double-digit growth and new all-time records in each of our 5 geographic segments and in the vast majority of countries that we track.\\r\\nProducts revenue was an all-time record of $95.7 billion, up 21% over a year ago. As a consequence of this level of sales performance and the unmatched loyalty of our customers, our installed base of active devices passed 1.65 billion during the December quarter and reached an all-time record in each of our major product categories.\\r\\nOur Services set an all-time record of $15.8 billion, growing 24% year-over-year. We established new all-time records in most service categories and December quarter records in each geographic segment. I'll cover our Services business in more detail later.\\r\\nCompany gross margin was 39.8%, up 160 basis points sequentially, thanks to leverage from higher sales and a strong mix. Products gross margin was 35.1%, growing 530 basis points sequentially, driven by leverage and mix. Services gross margin was 68.4%, up 150 basis points sequentially, mainly due to a different mix.\\r\\nNet income, diluted earnings per share and operating cash flow were all-time records. Net income was $28.8 billion, up $6.5 billion or 29% over last year. Diluted earnings per share were $1.68, up 35% over last year and operating cash flow was $38.8 billion, an improvement of $8.2 billion.  \\r\\nLet me get into more detail for each of our revenue categories. iPhone revenue was a record $65.6 billion, growing 17% year-over-year as demand for the iPhone 12 family was very strong despite COVID-19 and social distancing measures, which have impacted store operations in a significant manner. Our active installed base of iPhones reached a new all-time high and has now surpassed 1 billion devices, thanks to the exceptional loyalty of our customer base and strength of our ecosystem. In fact, in the U.S., the latest survey of consumers from 451 Research indicates iPhone customer satisfaction of 98% for the iPhone 12 family.  \\r\\nTurning to Services. As I said, we reached an all-time revenue record of $15.8 billion and set all-time records in App Store, cloud services, Music, advertising, AppleCare and payment services. Our new service offerings, Apple TV+, Apple Arcade, Apple News+, Apple Card, Apple Fitness+ as well as the Apple One bundle are also contributing to overall Services growth and continue to add users, content and features.\\r\\nThe key drivers for our Services growth all continue to move in the right direction: First, our installed base growth has accelerated and is an all-time high across each major product category; second, the number of both transacting and paid accounts on our digital content stores reached a new all-time high during the December quarter with paid accounts increasing double digits in each of our geographic segments; third, paid subscriptions continue to grow nicely, and we exceeded our target of 600 million paid subscriptions before the end of calendar 2020. During the December quarter, we added more than 35 million sequentially, and we now have more than 620 million paid subscriptions across the services on our platform, up 140 million from just a year ago.\\r\\nFinally, we continue to improve the breadth and quality of our current Services offerings and are adding new services that we think our customers will love. For example, Apple Music recently released its biggest product update ever with features like Listen Now, all new search, personal radio stations and autoplay. 90% of Apple Music users on iOS 14 have already used these new features.\\r\\nIn payment services, we continue to expand our coverage with nearly 90% of stores in the United States now accepting Apple Pay so that customers can easily have a touchless payments experience.  \\r\\nWearables, Home and Accessories grew 30% year-over-year to $13 billion, setting new all-time revenue records in every geographic segment. As a result of this strong performance, our Wearables business is now the size of a Fortune 120 company. Importantly, Apple Watch continues to extend its reach with nearly 75% of the customers purchasing Apple Watch during the quarter being new to the product. We're very excited about the future of this category and believe that our integration of hardware, software and services uniquely positions us to provide great customer experience in this category.\\r\\nNext, I'd like to talk about Mac. We set a December quarter record for revenue at $8.7 billion, up 21% over last year. We grew strong double digits in each geographic segment and set all-time revenue records in Europe and rest of Asia Pacific as well as December quarter records in the Americas, Greater China and in Japan. This performance was driven by strong demand for the new MacBook Air, MacBook Pro and Mac mini, all powered by our brand-new M1 chip.\\r\\niPad performance was also very impressive with revenue of $8.4 billion, up 41%. We grew strong -- very strong double digits in every geographic segment, including an all-time record in Japan. During the quarter, the new -- the all-new iPad Air became available and customer response has been terrific. Both Mac and iPad are incredibly relevant products for our customers in the current working and learning environments. And we are delighted that the most recent surveys of consumers from 451 Research measured customer satisfaction at 93% for Mac and 94% for iPad. With this level of customer satisfaction and with around half of the customers purchasing Mac and iPad during the quarter being new to that product, the active installed base for both products continues to grow nicely and reached new all-time highs.\\r\\nIn the enterprise market, we are seeing many businesses shifting their technology investment in response to COVID. One example is how businesses are handling their hundreds of millions of office desk phones while more employees are working remotely. Last quarter, Mitsubishi UFG Bank, one of the largest banks in the world, announced that it will be replacing 75% of its fixed phones with iPhones. By doing so, it expects to realize significant cost savings while providing a secure mobile platform to employees.\\r\\nWe're also pleased with the rapid adoption of the Mac Employee Choice Program among the world's leading businesses, who are seeing improved productivity, increased employee satisfaction and talent retention. With the introduction of M1-powered Macs, we're excited to extend these experiences to an even broader range of customers and employees, especially in times of increased remote working.\\r\\nLet me now turn to our cash position. We ended the quarter with almost $196 billion in cash plus marketable securities and retired $1 billion of maturing debt, leaving us with total debt of $112 billion. As a result, net cash was $84 billion at the end of the quarter. We returned over $30 billion to shareholders during the December quarter, including $3.6 billion in dividends and equivalents and $24 billion through open market repurchases of 200 million Apple shares as we continue on our path to reaching a net cash neutral position over time.\\r\\nAs we move ahead into the March quarter, I'd like to provide some color on what we are seeing, which includes the types of forward-looking information that Tejas referred to at the beginning of the call. Given the continued uncertainty around the world in the near term, we will not be guiding to a specific revenue range. However, we are providing some directional insights assuming that COVID-related impacts of our business do not worsen from our current assumptions for the quarter.\\r\\nFor total company revenue, we believe growth will accelerate on a year-over-year basis and in aggregate, follow typical seasonality on a sequential basis. At the product category level, keep in mind 2 items: First, during the March quarter last year, we saw elevated activity in our digital services as lockdowns occurred around the world, so our Services business faces a tougher year-over-year comparison; second, we believe the year-over-year growth in the Wearables, Home and Accessories category will decelerate compared to Q1. As you know, we were chasing demand on AirPods last year as we expanded channel inventory from Q1 to Q2. This year, we plan to decrease AirPods channel inventory as is typical after the holiday quarter.\\r\\nWe expect gross margin to be similar to the December quarter. We expect OpEx to be between $10.7 billion and $10.9 billion. We expect OI&E to be up around $50 million and our tax rate to be around 17%. Finally, today, our Board of Directors has declared a cash dividend of $0.205 per share of common stock payable on February 11, 2021, to shareholders of record as of February 8, 2021.\\r\\nWith that, let's open the call to questions. Thank you, Luca. [Operator Instructions] Operator, may we have the first question, please? We'll go ahead and take our first question from Katy Huberty with Morgan Stanley. Congratulations on a really strong quarter. First question for Luca. The gross margin was particularly strong versus your outlook. Can you talk about whether you recognize the full impact of the weaker dollar in the December quarter given your typical currency hedges? And then how are you thinking about the headwinds and tailwinds on gross margins as you go into the March quarter? And then I have a follow-up for Tim. Yes, Katy. So yes, the gross margin was strong, was better than we had anticipated at the beginning of the quarter. The reason for that was obviously we had very strong leverage from higher sales. And the mix was strong, both the mix within products and the mix of services, and that was only partially offset by cost. As you know, we launch many new products during the fall, and that always comes with new cost structures. So in total, it was very good.\\r\\nOn -- from the FX standpoint, really, at the gross margin level, FX didn't play a role, neither sequentially nor on a year-over-year basis for the December quarter partially because of the hedges that you talked about but also because some currencies are still weaker against the dollar. They're still weaker than a year ago, look, specifically to emerging markets in Latin America, in Russia, in Turkey and so on.  \\r\\nClearly, if the dollar remains weak or continues to weaken, that can become a tailwind for us as we get into the March quarter. At current rates, we expect some level of benefit around 60 to 70 basis points for the March quarter. That's great. And Tim, one of the challenges with valuing Apple is just a limited visibility that investors have into the road map and any new categories that you might enter over time. Without, of course, commenting on any given opportunity, can you talk about the framework that you use internally to evaluate new markets that might be attractive and what you believe will determine your success as you look to enter new markets? Thanks, Katy, for the question, and thanks for not asking me any specifics. The framework that we use is very much around we ask ourselves if this is a product that we would want to use ourselves or a service that we would want to use ourselves, and that's a pretty high bar. And we ask ourselves if it's a big enough market to be in unless it's an adjacency product, of which we're looking at it very much from a customer experience point of view.\\r\\nAnd so there's no set way that we're looking at it, no formula kind of thing. But we're taking into account all of those things. And the kind of things that we love to work on are those where there's a requirement for hardware, software and services to come together because we believe that the magic really occurs at that intersection. And so hopefully, that gives you a little bit of insight into how we look at it.\\r\\nAnd I think we have some good -- really good opportunities out there. And I think if you look at our current portfolio of products, we're -- we still have relatively a low share in a number of cases in very big markets. And so we feel like we have really good upside there, and we feel like we have really good upside in the Services area, too, that we've been working on for quite some time with 4, 5 new services just coming online in the last year, year plus. And so -- yes. Thank you. We'll hear next from Wamsi Mohan with Bank of America. Luca, the iPhone growth exceeded your expectations despite a late launch. Can you maybe share some color on what drove that? Was it more on the unit side or the ASP side? You referred to very strong mix a couple of times on the call. And how does this change your view on the March quarter? And if you could share any color on if you're still supply constrained, and I have a follow-up for Tim. Yes. Yes, certainly, iPhone was one of the major factors why we exceeded our own internal expectations at the beginning of the quarter. We have a fantastic product lineup and we know that, and it's been fantastic to see the customer response for the -- for new models, particularly the Pro models, the Pro and the Pro Max. So we've done very, very well both on units and on pricing because of the strong mix.  \\r\\nAnd we've had some level of supply constraints as we went through the quarter, particularly on the Pro and the Pro Max. As you said correctly, we launched these products in the middle of the quarter, 2 models after 4 weeks, the other 2 models after 7 weeks. And so obviously, we had a very steep ramp, which fortunately went very, very well. The products are doing very well all around the world. I think you've seen that our performance has been particularly strong in China, where we've seen phenomenal customer response that probably there was also some level of pent-up demand for 5G iPhones given that the market is moving very quickly to 5G.\\r\\nAnd so as we look ahead into the March quarter, we're very optimistic. We believe we're going to be able to be in supply-demand balance for all the models at some point during the quarter. And it's -- the product is doing very well all around the world. Great. And Tim, you mentioned about the strength of the installed base performance, which continues to grow very impressively at this scale. Can you maybe help us think through how the switcher versus upgrade activity has been tracking in recent quarters? Would love to get your thoughts on that. Yes. Thanks for the question. If you look at this past quarter, which has -- we started selling 2 of the iPhones 4 weeks into the quarter and the other 2 7 weeks into the quarter. And so I would caution that this is in the early going. But in looking at the iPhone 12 family, we saw both switchers and upgraders increase on a year-over-year basis; and in fact, we saw the largest number of upgraders that we've ever seen in a quarter. And so we were very thrilled about that. We'll go ahead and take our next question from Shannon Cross with Cross Research. Tim, can you talk a bit about what you're seeing in China? Clearly, significant sequential growth, which I think has a lot to do with iPhone. But I'm curious, both from an iPhone as well as your other product categories, what you're seeing and how much back to normal you think the Chinese market is. And then I have a follow-up. Yes. China was more than an iPhone story. iPhone did do very well there. And sort of like the world, if you look at both switchers and upgraders, we were up year-over-year, and China also had a record number of upgraders during the quarter, the most we've ever seen in a quarter. I think probably some portion of this was that people probably delayed purchasing in the previous quarter as rumors started appearing about an iPhone.\\r\\nKeep in mind that 5G in China is -- the network is well established, and the overwhelming majority of phones being sold are 5G phones. And so I think there was some level of anticipation for us delivering an iPhone with 5G. And so iPhone did extremely well.\\r\\nHowever, the other products did as well. I mean we could not have turned in a performance like we did with only iPhone. iPad did extremely well, far beyond the company average. Mac was above the company average. Wearables, Home and Accessories was above the company average. And so if you really look at it, we did really well across the board there.\\r\\nIn terms of COVID, I think they're -- at least for last quarter, they were beat -- sort of beyond COVID, very much in the recovery stage. This quarter, there are different reports about some cases in some places and lockdowns occurring but we have not seen that in our business as yet. And of course, those cases are much smaller than the ones in other countries. Right. I guess the other thing I was curious about, with regard to the Services business, if we could dig a little bit more, I think this is one of the first times when, Luca, you talked about Apple TV+, Arcade, Apple Pay, some of the smaller services actually kind of moving the needle. And then I was also curious, you had a number of stores closed at least later in the quarter, and that typically has impacted some of your AppleCare revenue and yet you outperformed. So maybe if you could talk about a bit more about the drivers of the Services revenue. Yes. I mean, really, it's been strong across the board. There are 2 businesses during COVID that have been impacted negatively, and we talked about it in the past. One is AppleCare. Obviously, when the stores are closed, it's tougher, of course, for customers to have interaction with us. And advertising, which is -- it's in line with the overall level of economic activity.\\r\\nWhat happened during the December quarter is that in-store traffic improved. And so AppleCare, we grew. We didn't grow as much as company average, but we grew in AppleCare, set an all-time record there in spite of the fact that, yes, we are running -- particularly in December, we started closing a few stores, particularly here in the United States but also in Western Europe. But in total, we were able to support more customers than in past quarters.\\r\\nAnd we also saw a sequential acceleration in advertising and so that also helped the overall growth rate. Clearly, the strength was in digital services, in the App Store, in cloud services, in Music. Those were the services that really delivered very, very strong performance. It's something that we've seen happen during the COVID environment. We'll hear from Toni Sacconaghi with Bernstein. I also have one for Luca and one for Tim. Luca, I was wondering if we could just probe a little bit more into iPhone. Maybe you can just -- you talked about a drawdown in channel inventory last quarter. Our iPhone channel inventory is sort of at normal levels now exiting Q1. And should we be thinking about above-seasonal iPhone growth -- given that you're still not in supply-demand balance and you had fewer selling days in fiscal Q1, should we be thinking about sort of above-seasonal iPhone growth looking into Q2? So on the December performance, as you know, Toni, this was a very different cycle because we launched at a different time than usual. And so we had an initial part of the quarter where, obviously, we didn't have the new phones. And then as we launched the new phones, we also did the channel fill that typically happens, to a certain extent, in the September quarter.\\r\\nAt the end of the quarter, the demand has been very strong. And so we've been constrained, as I said, on -- especially in the Pro models. At the end of December, we exited with a level of iPhone channel inventory, which was slightly below a year ago. So we -- and we still had some level of supply constraints, which we believe we're going to be able to solve during the March quarter.\\r\\nIn terms of the sequential change, we talked about -- during the prepared remarks, we talked about total company average, and we said that we expect that sequential progression to be similar to the typical seasonality that you've seen in past years. Certainly, last year is not typical because of COVID. But if you go back, fiscal '17, '18, '19, that's our typical seasonal progression.\\r\\nAnd we mentioned a couple of product categories, Services and Wearables, where we're going to be having a slightly more difficult compare. And so I think you can draw your conclusions around the iPhone. Okay. And then, Tim, I was wondering if you could just comment more broadly around growth for Apple and sources of growth. The company this year is going to be well over $300 billion in revenue. Historically, you've eschewed acquisitions. And I'm wondering if you could comment whether you still feel confident that Apple has Apple organic growth opportunities and that you don't believe acquisitions are an important source of growth. And then I think perhaps most importantly, as you look out, let's say, over the next 5 years, what do you think is a realistic revenue growth rate for Apple going forward? Yes. Toni, as you know, we give some color on the current quarter but not beyond that in terms of growth rates, so I'll punt that part of your question. But if you back up and look at the sort of the ingredients that we have at this point, we have the strongest hardware portfolio that we've ever had. And we have a great product pipeline for the future, both in products and in services.\\r\\nWe have an installed base that has hit new highs that we just talked about earlier in our opening comments. And we're still attracting a fair number of switchers and, of course, upgraders. We just set an all-time Services record, and we have that installed base to compound that, and particularly with the added services that we've had over the last year or so, that as they grow and mature, will contribute even more to the Services revenue stream.\\r\\nAnd on the Wearables side, we've brought this thing from 0 to a Fortune 120 company, which was no small feat. But I still think that we're in the early stages of those products. If you look at our share in some of the other products, whether you look at iPhone or Mac or iPad, you find that the share numbers leave a fair amount of headroom for market share expansion. And this is particularly the case in some of the emerging markets, where we're proud of how we've done, but there's a lot more headroom in those markets.\\r\\nLike if you take India as an example, we doubled our business last quarter compared to the year ago quarter, but our absolute level of business there is still quite low relative to the size of the opportunity. And you can kind of take that and go around the world and find other markets that are like that as well.\\r\\nAnd of course, the other thing from a market point of view is we're -- we've been on a multiyear effort in the enterprise and have gained quite a bit of traction there. You've heard some of the things in Luca's comments today, and we comment some on it each quarter. We're very optimistic about what we can do in that space.\\r\\nAnd then, of course, we've got new things that we're not going to talk about that we think will contribute to the company as well just like other new things have contributed nicely to the company in the past. So we see lots of opportunity. Thank you for the question. We'll hear from Amit Daryanani with Evercore ISI. I have 2 questions as well. I guess starting with you, Luca, I just wanted to go back to the gross margin discussion, and we really haven't seen gross margins at this level, high 39%, I think, since 2016. Could you maybe step back and talk about what has enabled the shift higher? What are the key drivers to get you there? And is commodity tailwinds or in-sourcing of some components really a big part of this? So just love to understand the durability of the gross margin at these levels. And what are the big drivers that got us here? Well, Amit, of course, when you grow the way we've grown this quarter, 21%, it's -- obviously, we have a certain level of fixed cost in our product structures, right? And so a high level of sales helps margin expansion without a doubt, and so that has been probably the biggest factor, to be honest.\\r\\nAnd then as I was saying earlier, we've had, across the board, in services, in every product category, we've had a very strong mix of products, right? We were talking about the iPhone, the Pro and the Pro Max, and that's been pretty much the case in every product category. So the mix has also been very good.\\r\\nThe commodity environment is fairly benign. And the one thing that has not affected us this time around is the FX that it's true, it has not been a tailwind yet for the reasons that I was explaining to Katy, but at the same time, it has not been a negative. And the reality is that FX for us has been a negative over the last 5 or 6 years almost every quarter. And so that has changed, and that obviously makes a difference. Got it. And then, Tim, when I look at the growth rates on Mac and iPads, they've been in the 20% to 40% range for the last 3 quarters, and I suspect some of this is just folks contending with the pandemic. But love to understand, when you look at these growth rates, how much of this do you think is replacement cycle-driven folks upgrading what they have at home versus new customers and new folks that are coming into the Apple ecosystem? And do you see -- I guess what sort of growth rates do you think is more durable or predictable as we go forward over here? If you look at the switcher or the switchers, if you look at the new to Mac and new to iPad, these numbers are still about -- at a worldwide level, about half of the purchases are coming from people that are new. And so the installed base is still expanding with new customers in it. And so that's true on both iPad and Mac.\\r\\nIf you look at Mac, the M1, I think, gives us a new growth trajectory that we haven't had in the past. Certainly, if Q1 is a good proxy, there's lots of excitement about M1-based Macs. As you know, we're partly through the transition. We've got more -- a lot more to do there. We're early days of a 2-year transition, but we're excited about what we see so far.\\r\\nThe iPad, as we went out with the iPad Air, and we now have the best iPad lineup we've ever had, and it's clear that some people are using these as laptop replacements, others are using them as complementary to their desktop. But the level of growth there has been phenomenal. You look at it at 41%. And yes, part of it is work from home and part of it is just learning.\\r\\nBut I think I wouldn't underestimate how much of it is the product itself on -- in both the case of iPad and Mac. And of course, our share in the Mac is quite low in the -- for the total personal computer market. And so there's lots of headroom there. Congrats on a great quarter. Thank you. Thank you. We'll go ahead and take our next question from Samik Chatterjee with JPMorgan. Congrats on the record quarter from my side as well. I guess I wanted to start off with iPhone sales. I think in -- general impression we have is China and North America have more robust 5G infrastructure. I just wanted to see kind of what are you seeing in terms of customer engagement or velocity of sales for iPhone in Europe, where I think the general impression is that service providers haven't rolled out robust 5G services. Is that something that's impacting customer interest in the latest lineup in the region? And I have a follow-up. If you look at the 5G rollout in Europe, it's true that Europe is not in the place of -- certainly nowhere close to where China is and nowhere close to the U.S. either. But there are other regions that 5G is -- that has very good coverage. Like Korea is an example. And so the world, I would describe it right now, is more of a patchwork quilt. There are places that there's really excellent coverage. There are places where, within a country, that is very good but not from a nationwide point of view. And then there are places that really hasn't gotten started yet. Latin America is more closer to the last one. There's lots of opportunity ahead of us there. And I think Europe is where there are 5G implementations there. I think most of that growth is probably in front of us there as well. Got it. As a follow-up, if I can just ask you, I think you mentioned the momentum you're seeing for the Apple One bundle, which I think has been a couple of months now since you launched it. Any metrics to share in terms of what you're seeing for conversion rate of customers or even insights into which services are turning -- in that bundle, are turning out to be the anchor services that's driving adoption of that bundle? It's really too early to answer some of those questions. As you know, we just got started in the -- into the quarter in Q1, so we have less than a quarter on this right now. What we wanted to accomplish with it, we're clearly accomplishing, which is making our services very easy to subscribe to. Our customers clearly told us that they wanted to subscribe to several services or, in some cases, all of our services. And so we've made that very simple, and it's clear from the early going that it's working but we've just gotten started on it. We'll hear from Krish Sankar with Cowen. Congrats on the very strong results. My first question is for Tim. Tim, I want to talk a little bit about your search and advertising business. How do you think of the long-term growth opportunities in advertising? How do you think it -- how long can it grow at 2 to 3x the App Store growth rate? And also, are there any applications where your fundamental search technology, AR-infused could be adapted for other parts of the Services business? That's the first question. And then I have a quick follow-up for Luca after that. The search, advertising business is going well. It's a -- there's lots of intent from search, and we do it in a very private kind of manner, observing great privacy policies and so forth. And I think people see that and are willing to try it out. And we have been growing nicely in that area. It's a part of the advertising area that Luca spoke of earlier. Got it. Got it. And then a follow-up for Luca. When you look at your Services segment in the March quarter, in China, you typically see a bump due to gaming downloads during Chinese New Year. So should we see a similar trend this time around? But do you think with the pandemic and people staying primarily at home, that kind of seasonal bump might not happen in China for gaming downloads? Yes. I mean it -- and I think I was mentioning it during the prepared remarks. We -- clearly, in China, the March quarter is typically the strongest quarter for our Services business and for the App Store because of Chinese New Year, as you mentioned. And last year, what we saw was an increased level of activity because, after Chinese New Year, the whole country went into lockdown for several weeks. And so that propensity for playing games continued for several weeks, more than a typical cycle. So we expect to have a great quarter in China, but at the same time, we need to keep in mind that the compare is going to be particularly challenging because of what happened a year ago. We'll go ahead and take our next question from Chris Caso with Raymond James. The first question is on iPhone ASPs, and I know you don't disclose the numbers there, but I wonder if you could speak about it qualitatively. You spoke about the richer mix, but there were also some price differences as compared to a year ago. iPhone 12 came in at a higher price point. The Pro established a new price point. Can you speak to how that -- the level of benefit that you saw there? And going forward, are you confident that you can continue to improve the mix in iPhone going forward? So as I said earlier, we grew iPhone revenue 17%, and that growth came from both unit sales and ASPs because of the strong mix that I mentioned before. So I think that answers your question for the December quarter. What we've seen so far, it's very early because we launched the new products only a few weeks ago. What we've seen so far is a very high level of interest for the Pro models, the Pro and the Pro Max. We worked very hard to ramp up our supply. We've had some supply constraints during the December quarter. We think we're going to be able to solve them during the March quarter. But so far, the mix has been very, very strong on iPhone. Okay. As a follow-up question, if you could talk a bit to the benefit that you may have seen from some of the carrier actions? We've seen very aggressive trade-ins during the quarter. Did that provide a benefit, in your view, on units or mix or perhaps both? And what would be the level of permanence that you would see in some of those actions such that if those subsidies were removed, could that potentially be a headwind going forward? I think -- Chris, it's Tim. I think subsidies always help that anything that reduces the price to the customer is good for the customer and obviously good for the carrier that's doing it and good for us as well. And so it's a win across the board. I believe that, at least based on what I see right now, is that there would be probably continuing to have quite a bit of competition in the market, if you're talking about the U.S. market for customers as the carriers work to get more customers to move to 5G.\\r\\nIn -- outside of the U.S., the subsidies are not used in all geographies, and so it really varies greatly by country. Some of them are -- separate completely, the handset and the service; and in those areas, we don't have subsidies. We'll go ahead and hear from Jim Suva with Citigroup. It's amazing how your company has pivoted and progressed through this uncertain time in society. A lot of the pushback we get on our view on Apple is that everyone around them or that they know in developed countries has an iPhone or Apple product and the market is kind of being saturated some. But when I look at other countries like India, I believe statistically, you are materially below that in market share. So are you doing active efforts there? It seems like there's been some news reports of moving supply chain there or you recently opened up an Apple Store. How should we think about that? Because it just seems like you're really not full market share equally around the world. Yes. There are several markets, as I alluded to before, India is one of those, where our share is quite low. It's -- it did improve from the year ago quarter. Our business roughly doubled over that period of time, and so we feel very good about the trajectory. We are doing a number of things in the area. We put the online store there, for example, and last quarter was the first full quarter of the online store. And that has gotten a great reaction to it and has helped us achieve the results that we got to last quarter. \\r\\nWe're also going in there with retail stores in the future. And so we look for that to be another great initiative and we continue to develop the channel as well. And so there's lots of things, not only in India but in several of the other markets that you might name where our share is lower than we would like.\\r\\nAnd I -- again, I would also say, even in the developed markets, when you look at our share, definitely, everybody doesn't have an iPhone, not even close. And so we really don't have a significant share in any market. We're -- so there's headroom left even in those developed markets where you might hear that. Congratulations to you and your team and employees. Thank you, Jim. Appreciate that. Thank you. A replay of today's call will be available for 2 weeks on Apple Podcast, as a webcast on apple.com/investor and via telephone. The numbers for the telephone replay are (888) 203-1112 or (719) 457-0820. Please enter confirmation code 1828830. These replays will be available by approximately 5 p.m. Pacific Time today.\\r\\nMembers of the press with additional questions can contact Kristin Huguet at (408) 974-2414. Financial analysts can contact me with additional questions at (669) 227-2402. Thank you again for joining us. Once again, that does conclude today's conference. We do appreciate your participation.\",\n          \"Hello, and welcome to the AMD First Quarter 2021 Earnings Call and Webcast. [Operator Instructions] As a reminder, this conference is being recorded. \\r\\nIt's now my pleasure to turn the call over to Ruth Cotter, Senior Vice President, Worldwide Marketing, Human Resources and Investor Relations. Please go ahead, Ruth. Thank you, and welcome to AMD's First Quarter 2021 Financial Results Conference call. By now, you should have had the opportunity to review a copy of our earnings press release and accompanying slideware. If you've not reviewed these documents yet, they can be found on the Investor Relations page of amd.com.  \\r\\nParticipants on today's conference call are Dr. Lisa Su, our President and Chief Executive Officer; and Devinder Kumar, our Executive Vice President, Chief Financial Officer and Treasurer. This is a live call and will be replayed via webcast on our website. \\r\\nBefore we begin, I would like to note that our annual shareholder meeting will be held on Wednesday, May 19, as a virtual event accessible from our website. Dr. Lisa Su will provide a keynote presentation at the JPMorgan Technology, Media and Communications Conference on Monday, May 24. Dan McNamara, Senior Vice President and General Manager of our server business, will attend the Bank of America Global Technology Conference on Wednesday, the 9th of June. And our second quarter 2021 quiet time is expected to begin at the close of business on Friday, June 11.  \\r\\nToday's discussion contains forward-looking statements based on current beliefs, assumptions and expectations speak only as of today and as such, involve risks and uncertainties that could cause actual results to differ materially from our current expectations. Please refer to the cautionary statement in our press release for more information on factors that could cause actual results to differ materially.  \\r\\nWe will refer primarily to non-GAAP financial measures during this call. The full non-GAAP to GAAP reconciliations are available in today's press release and slides posted on our website.  \\r\\nNow with that, I'll hand the call over to Lisa. Lisa? Thank you, Ruth. And good afternoon to all those listening in today. Our business continued to accelerate significantly in the first quarter, driven by the best product portfolio in our history, strong execution and robust market demand. We delivered our sixth straight quarter of double-digit percentage year-over-year revenue growth and record quarterly revenue and profitability. First quarter revenue increased 93% year-over-year to $3.45 billion, with growth in all of our businesses. \\r\\nTurning to our Computing and Graphics segment. First quarter revenue increased 46% year-over-year to $2.1 billion, led by growth in both Ryzen and Radeon processor sales. In client computing, revenue grew by a significant double-digit percentage year-over-year and increased sequentially as we set records for client processor revenue and ASP.  \\r\\nAgainst the backdrop of strong overall PC demand, our revenue is growing significantly faster than the market, particularly in the ultrathin, gaming and commercial segments. As a result, we believe we gained client processor revenue share in the quarter. Our revenue share has doubled over the last 2 years as we have expanded in the premium products.  \\r\\nIn notebooks, we delivered our sixth straight quarter of record mobile processor revenue based on sustained demand for Ryzen 4000 Series processors and the launch of our new Ryzen 5000 Series processors. Ryzen Mobile 5000 Series processor revenue has ramped twice as fast as the prior generation. We expect continued growth in 2021 as the number of notebook platforms powered by our new processors is on track to increase by 50% compared to our prior generation.  \\r\\nWe're also making good progress in the commercial market as unit shipments of our Ryzen PRO Processors grew by a strong double-digit percentage sequentially. We secured multiple high-volume wins across Fortune 500 aerospace, automotive, electronics and engineering companies in the quarter. And we're well positioned for further growth as we have tripled our commercial notebook design wins with the largest OEMs this year.  \\r\\nIn graphics, revenue increased by a strong double-digit percentage year-over-year and sequentially, led by channel sales growth as revenue from our high-end Radeon 6000 GPUs more than doubled from the prior quarter. We introduced our Radeon 6700 XT deskstop GPU with leadership 1440p gaming performance in March and are on track for the first notebooks featuring our leading-edge mobile RDNA 2 architecture to launch later this quarter. We expect Radeon 6000 Series GPU sales to grow significantly over the coming quarters as we ramp production.  \\r\\nData center graphics revenue grew year-over-year and sequentially, driven largely by adoption of Instinct accelerators across cloud and HPC customers. \\r\\nWe are making great progress on our data center GPU road maps and expect revenue to grow in the second half of the year as we begin the production ramp of our next-generation AMD Instinct GPU to support multiple HPC wins including Frontier, the first U.S. exascale supercomputer. Frontier will use next-generation AMD CPUs, GPUs and software to deliver unprecedented scientific computing and AI capabilities, creating a blueprint for scientific, cloud and enterprise customers to enable exascale-class computing and AI performance over the coming years. \\r\\nNow turning to our Enterprise, Embedded and Semi-Custom segment. Revenue increased 286% year-over-year to $1.35 billion, driven by strong growth in both semi-custom and EPYC processor sales. Semi-custom revenue declined by a single-digit percentage sequentially, which is better than typical seasonality. We expect semi-custom sales to remain strong throughout 2021, driven by significant demand for the latest generation Sony and Microsoft consoles.  \\r\\nIn server, we delivered another quarter of record server processor revenue as EPYC processor sales more than doubled year-over-year and grew by a strong double-digit percentage sequentially. Sales of both our second- and third-gen EPYC processors increased sequentially as growing adoption of our second-gen offerings was complemented by third-gen EPYC processors successfully ramping into production across multiple cloud and enterprise customers.  Third-gen EPYC processors offer 25% more performance per watt compared to our previous generation and deliver both per socket and per core leadership across database, ERP, data analytics, Java, virtualization, cloud and supercomputing workloads.  \\r\\nCloud demand was particularly strong in the quarter as Tier 1 providers expanded their EPYC processor deployments to power more of their internal infrastructure and introduced 11 new AMD-powered instances. We expect the number of AMD-powered instances to double by the end of the year to 400 as Microsoft Azure, Amazon, Google, IBM, Oracle and Tencent significantly expand their offerings with third-gen EPYC processors.  \\r\\nFor the enterprise, Cisco, Dell, HP Enterprise, Lenovo and Supermicro all announced plans to expand their AMD-based offerings with more than 100 new third-gen EPYC processor-powered server platforms that deliver superior performance and total cost of ownership. In HPC, we built momentum with new high-volume wins, including the National Center for Atmospheric Research, Sweden's Institute of Science, as well as a unique on-prem and cloud solution for the United Kingdom's National Weather Modeling Service that will be the world's most powerful weather and climate forecasting supercomputer.  \\r\\nTaking a step back, I am very pleased with the progress we have made in our data center business over the last several years as each new EPYC processor generation has ramped significantly faster than the previous generation. We have established AMD as a trusted strategic partner to the largest cloud enterprise and HPC customers based on developing and consistently delivering a leadership multigeneration CPU road map.  \\r\\n2021 marks an inflection point in terms of the scale, ecosystem support and customer adoption of our EPYC and instant processors. In the first quarter, data center product revenue more than doubled year-over-year and represented a high-teens percentage of our overall revenue. We expect data center product revenue to grow significantly as we go through the year, driven by our strong pipeline of new cloud, enterprise and HPC wins.  \\r\\nWe significantly accelerated our business in the first quarter and now see higher growth for the year, driven by increased customer adoption for our products, overall market strength and additional supply from our supply chain partners. We also passed another major milestone with our pending acquisition of Xilinx in the quarter as shareholders voted overwhelmingly to approve the transaction. We remain on track to close the strategic acquisition by the end of the year. \\r\\nIn closing, we have entered a high-performance computing megacycle with the strongest products and the deepest customer relationships in our history. Our success is built on delivering a consistent cadence of leadership products. We are increasing our R&D investments and aggressively driving our road maps to continue setting the pace of innovation for the industry and deliver best-in-class growth over the coming years. \\r\\nNow I'd like to turn the call over to Devinder to provide some additional color on our first quarter financial performance. Devinder? Thank you, Lisa, and good afternoon, everyone. AMD had excellent execution and very strong financial performance in the first quarter. Our multi-generation product road map is driving significant revenue growth, and we delivered record financial results and free cash flow.  \\r\\nDriven by this momentum, we delivered first quarter revenue of $3.45 billion, up 93% from a year ago and up 6% from the prior quarter. Year-over-year growth was driven by strong increases in sales across all businesses. Gross margin was 46%, flat from a year ago despite significantly higher semi-custom product revenue.  \\r\\nOperating expenses were $830 million compared to $584 million a year ago as we continue to invest in our business. Operating income was $762 million, up $526 million from a year ago, driven primarily by revenue growth. Operating margin increased from 13% a year ago to 22%. \\r\\nNet income was $642 million, up $420 million from a year ago, excluding $15 million of Xilinx acquisition-related costs. Diluted earnings per share was $0.52 per share compared to $0.18 per share a year ago.  \\r\\nCurrent quarter results include a 15% effective tax rate compared to a 3% tax rate a year ago. We continue to anticipate a cash tax rate of approximately 3% for 2021. \\r\\nNow turning to business segment results. Computing and Graphics segment revenue was $2.1 billion, up 46% year-over-year due to the significantly higher client processor and graphics revenue. Computing and Graphics segment operating income was $485 million or 23% of revenue compared to $262 million a year ago.  \\r\\nEnterprise, Embedded and Semi-Custom segment revenue was $1.35 billion, up 286% from $348 million the prior year. The revenue increase was driven by the ramp of semi-custom product sales and very strong growth in EPYC processor revenue, which more than doubled year-over-year. EESC segment operating income was $277 million or 21% of revenue compared to an operating loss of $26 million a year ago. The higher operating income was driven by higher revenue. \\r\\nTurning to the balance sheet. Cash, cash equivalents and short-term investments were $3.1 billion, up from $2.3 billion at the end of the prior quarter. Inventory was $1.7 billion. Free cash flow was $832 million in the first quarter compared to negative free cash flow of $120 million in the first quarter of 2020. Principal debt was $314 million, including a $24 million reduction in our 2026 convertible notes, which have only $2 million remaining. \\r\\nLet me turn to the outlook for the second quarter of 2021. Today's outlook is based on current expectation and contemplates the current global supply environment and customer demand signals.  \\r\\nWe expect revenue to be approximately $3.6 billion, plus or minus $100 million, an increase of approximately 86% year-over-year and an increase of approximately 4% sequentially. The year-over-year increase is expected to be driven by growth in all businesses. The sequential increase is expected to be primarily driven by growth in data center and gaming. \\r\\nIn addition, for Q2 2021, we expect non-GAAP gross margin to be approximately 47%; non-GAAP operating expenses to be approximately $900 million; non-GAAP interest expense, taxes and other to be approximately $130 million. And the diluted share count in the second quarter is expected to be approximately 1.23 billion shares.  \\r\\nFor the full year 2021, we now expect revenue growth of approximately 50% over 2020, driven by growth across all businesses, up from the prior guidance of approximately 37%. We continue to expect non-GAAP gross margin to be approximately 47%, non-GAAP operating expenses to be approximately 26% of revenue, non-GAAP effective tax rate to be 15%, and we expect the company's cash tax rate to be approximately 3%.  \\r\\nIn closing, we had an excellent start in 2021 with very strong year-over-year growth in both segments. We continue to invest in the business and drive strong financial returns. \\r\\nWith that, I'll turn it back to Ruth for the question-and-answer session. Ruth? Thank you, Devinder. And operator, if you'd like to poll the audience for questions, please? [Operator Instructions] Our first question today is coming from Vivek Arya from Bank of America Securities. Lisa, you're guiding -- you're increasing the full year guidance by almost $1.2 billion, $1.3 billion. Could you give us some sense of what has changed in the last 3 months? Because your competitor was recently talking about cloud digestion, and you're raising guidance by $1.3 billion. So I'm curious what changed in the last 3 months? And if you could help us parse which products or end markets are contributing to this increase, how much from servers or PC or semi-customer, or if there is any crypto impact. So any color on what's driving this really strong guidance and increase for the year would be very helpful. Yes, absolutely, Vivek. Thanks for the question. So we are -- we started the year very strong, very pleased with the first quarter performance and what we see overall for the year. So we are increasing our full year guidance. We exceeded in the first quarter. We guided up in the second quarter, and then that's carrying through to the second half of the year.  \\r\\nWhat we've seen is the following. We came into the year with an overall strong demand picture, and that was certainly true. What we've seen over the last 90 days is consistent strong demand, very strong visibility from our customers on what they need throughout the year. Particularly, you asked about data center. I think we saw actually strong signals in the first quarter that it would be a strong data center year for us.  \\r\\nWe're on a product ramp cycle. We launched new products in PCs on the mobile side with our Ryzen 5000. We launched new products on the graphics side with Radeon 6000. And then the launch of the third-generation Milan has actually gone very, very well.  \\r\\nSo in terms of what we see, we see very strong demand for our products. We see good customer ordering patterns and strong backlog. And then we have also seen that the supply chain has been tight overall for the semiconductor industry. And we've been working very closely with our supply chain partners. And so we also have good visibility to additional supply as we go throughout the year. So with all that in place, I would say we feel very good about how the year is shaping up. \\r\\nIn terms of where you see the strength overall, I would say it's strength across all businesses. But particularly the strength in data center is good. And we also see just, again, very good visibility and very close working relationships with our customers.  \\r\\nYou asked about crypto. We do not -- we have negligible crypto in here. So this is really the foundational business, really the new products and just seeing the customers adopt and ramp quickly. Got it. Very helpful. And Lisa, for my follow-up, should we assume that now you are getting adequate supply? So you're kind of caught up from a supply perspective and supply is no longer a constraint. Or is that still a constraint? And if it is, in which end market? Because you're keeping full year gross margins steady at 47%. So I was curious if there is any impact from supply or rising input costs that could be impacting your gross margins, which you decided to keep to kind of flat versus your last outlook? Yes. I would say, Vivek, it's still early in the year. So the entire semiconductor supply chain is very, very tight. I think you hear that from all of our peers in the marketplace. That being said, we've been working very closely with our supply chain partners. We have seen improvements that have led to the improved full year guide. \\r\\nWe're going to continue to work on that because right now, I would say the channel -- the inventories are very low throughout the entire supply chain, whether you talk about at our customers or in the channels. And so there's quite more that we would like to be able to do. That being the case, I think we continue to work well with our partners and take lots of actions there.  \\r\\nAs it relates to overall costs and things like that, we are watching those things, I think, from logistics and some of the component costs and things like that. So there's -- mostly the gross margin guidance is reflective of the fact that we do have ramping of our new products. And we also have some ramp of the gaming products, which are a little bit below corporate average. But we'll see how things progress as we go throughout the year. Next question is coming from Blayne Curtis from Barclays. Nice results. Maybe just following up on Vivek's question. I was just curious. The semi-custom business obviously is not following any sort of seasonality, but there's a lot of talk about supply constraints there as well. You basically saw no seasonality in March, and it seems like it's not growing much in June. So just maybe just -- is that still impacted by maybe not your shortages or other shortages? And just any perspective on that business for the year. Yes. So thanks, Blayne, for the question. I think the semi-custom business, if you look at the console launches that happened last year, I mean they were phenomenally good launches, right, very, very good products. So you're right, seasonality is completely different this year than sort of a typical year. We had a strong first quarter better than seasonal. We were down but down single digits. There's a bit of growth as we go through the year, but it's just starting from such a high point in the first half of the year.  \\r\\nSo the way I would say it is I think there is a strong secular demand for gaming. And whether you're talking about consoles or you're talking about PC gaming or you're talking about the overall sort of gaming ecosystem, there's a significant demand. And so we believe there's strong demand, and we're continuing to ramp supply to meet that. And then I just want to ask you on the competitive landscape on the client side. You clearly gained a couple of points of share in March. Intel was talking about they're being more aggressive on their percent of 10-nanometer product. Just -- maybe just talk about the competitive landscape as you look through the rest of the year. And are you seeing any change to that landscape as they ramp 10-nanometer? Yes. So Blayne, I think the PC business has certainly had a very strong second half of last year and is strong this year. I think within that, we feel very good about our progress, particularly in notebooks and particularly in the premium segments of notebooks. So we had a strong record quarter for our notebook business. Our ASPs were up sequentially and year-over-year. I think we're seeing traction in sort of the premium ultrathin, gaming and commercial. \\r\\nWe feel very good about the platforms that we have and the platforms that we have throughout the year. Ryzen 5000 is a very competitive product. I will say that there are lots -- a bit of low-end units have come into the market, but our focus on the premium segments have done very well. So overall, pleased with the PC environment and feel that we're very competitive. Our next question is coming from Aaron Rakers from Wells Fargo. Congratulations on the quarter. I wanted to ask a little bit about the server CPU cycle. I know you've talked about kind of an expanding footprint with the cloud guys. But I'm curious of where we stand today as far as more of the traditional OEMs, the progression of their systems. I think you've said 100-plus systems. When do you think that those will all be shipping in the market? And how would you put the context of Milan relative to Rome on that front? And I have a follow-up. Sure. So Aaron, the data center business obviously is a very strategic focus for us. And with EPYC with each generation, we've really tried to expand the reach. I think here in the first quarter, what we saw is very strong results, doubling year-over-year. It is on the strength of cloud. But what we saw was both Rome ramping, so we saw Rome units up sequentially, and we also saw Milan ramping. \\r\\nAnd what that says, this is what we expected. We actually expected that we had a good footprint in Rome and that, that would continue to be well deployed as we come into the first half of this year, and that's played out. And then Milan is just a very, very good product. I mean it's extremely well positioned. Not only do we have per socket leadership, but we have per core leadership, which again expands the footprint. \\r\\nSo in terms of your question about cloud versus enterprise, we were more cloud weighted in the first quarter as some of those instances, both internal and external, ramped. We would expect that enterprise, both enterprise as well as HPC deployments, will increase as we go through the next couple of quarters. But we'll see Rome and Milan in the market together all through this year, and we expect strong adoption on the enterprise side. Yes. And then the other question kind of dovetailing off that is you talked in response to a couple of different questions. You've talked about visibility. Our visibility is very strong. It's improved, et cetera. So how would you characterize your visibility today relative to, let's say, what it was 3 months ago? And what gives you the confidence? Has there been something that's happened as far as discussions with the cloud guys that's given you more confidence in the visibility of the growth through the remainder of this year? Yes. So Aaron, I mean we -- when we started this year, we expected to have a strong product cycle, just given everything that we saw in terms of platforms, design wins, sort of customer engagements and process. But in the last 90 days, I think we've seen that really firm up. So from the standpoint of just the consistency in all of the schedules that were supposed to be met, I think customers are liking what they see. \\r\\nWe are having multi-quarter conversations, just given the tightness overall in the supply chain. I think everyone is wanting to be clearer and more transparent about their needs. And that's very helpful for us, frankly. That's very helpful for us in a tight environment. It gives us the ability to plan several quarters out. And so I think that's the differences is we have strong visibility into what customers want and what we can deliver. And so that gives us confidence that we have the right signals in place. Our next question today is coming from Matt Ramsay from Cowen and Company. Lisa, I wanted to ask a question about the enterprise notebook business. And I noticed you highlighted in the release and in the slides where you are in several different verticals in design wins on enterprise notebook in the Fortune 500. And I wonder if you might speak a little bit about the relationships that you're building with the big enterprise customers. Do you have FAE support, software support, firmware support, et cetera? Do you have the right people in place to really ramp that business more materially going forward? Yes, definitely, Matt. It's been a high focus for us to ramp our enterprise notebook business as well as the enterprise server business. And they actually share many of the same customers and IT departments.  And so yes, we've made very good progress on the enterprise notebook business. I think we have a great set of platforms with our OEM partners. We've also ramped up our field application support and our customer engagement models for deployment. Overall, I think we've gotten some very nice commercial notebook design wins.  \\r\\nAnd again in this environment, the -- for us, the important thing is to stay very focused on the longevity of the business that we win. And so a lot of focus is on those commercial pipelines and how they develop both on the notebook side as well as on the server side. And I think we've made good progress, but we still have a lot of opportunity to grow as we go through the coming quarters. For my follow-up, it's a bit unrelated. One of the businesses that maybe you've not had supply or there's been other parts of the business growing much more quickly, I wanted to ask a bit about gaming. The new RDNA 2 architecture, I think, brings some new features, but obviously there's a strong incumbent competitor in the gaming market. \\r\\nMaybe you could just talk about where you are competitively right now, how you see supply coming online that might support that gaming franchise a bit better and just maybe the lay of the land and gaming right now. Because it's one piece of the business that everything else is going so well, I think there are some opportunities there. Yes. So the consumer graphics or the gaming graphics business, as you talked about, has actually done well for us. It grew double digits this past quarter. We had a very deliberate strategy here with the launch of RDNA 2. We started at the top of the stack with our Big Navi product. And then we've now introduced a couple of additional products. And you'll see that both from the channel, sort of adding board cards into more OEM systems and notebook business as well as additional variants. \\r\\nSo it's an important market segment for us. We're happy with the progress. I think gamers really appreciate the product. \\r\\nIt's fair to say that the graphics demand is very high across the marketplace. So we've actually put quite a bit of product into the market, but the demand still exceeds supply. You'll see that increase as we go through the second half of the year. And overall, I think the progress that we've made with RDNA 2 is fantastic, and we continue to believe that gaming overall is a great secular growth story. Our next question today is coming from Toshiya Hari from Goldman Sachs. Lisa, I wanted to ask about the data center GPU business. I realize it's still a relatively small percentage of the overall business. You talked about production ramping in the second half of this year. You talked a little bit about Frontier as well. \\r\\nBut what kind of customer pull are you seeing in your data center GPU business? And then I got a quick follow-up. Yes, Toshiya. Thanks for the question. We're making very nice progress in the data center GPU business. It's in the investment mode now, so we're investing heavily in the business. We launched the CDNA architecture or the compute optimized architecture last year. You'll see updates to that this year as we bring out the next generation with our Frontier systems. The revenue is albeit on the lower side in terms of just size of the business relative to the rest of the business, but we will see growth into the second half of the year. \\r\\nAnd the business here is actually very strategic, right? It's the idea of really putting together heterogeneous systems and bringing our CPU technology with EPYC together with our GPU technology with Instinct with the software capabilities that we have been investing in, and really getting strong HPC systems as well as AI and machine learning capabilities. \\r\\nSo we will see growth in the second half this year. It will still be a smaller business, but we see it growing in this strategic time frame over the next couple of years. And it is very much that end-to-end story of what you need to really satisfy sort of the key workloads in the data center. Great. And then as my follow-up, I wanted to ask about the potential threat from ARM longer term. Within x86, obviously you've got significant runway from a market share perspective. But how are you thinking about the potential threat from ARM-based processors, both in your client business as well as your server business? \\r\\nYou've got Apple obviously internalizing some of their CPUs on the client side, hyperscalers talking about internal solutions. And your closest GPU competitor launched -- or introduced rather ARM-based CPU multiple years out. So any thoughts on ARM versus x86 and how you address that would be helpful. Yes, so absolutely. I think the key point here is you really have to have a very, very strong product road map, and that is really what we're focused on. I think the overarching trend that computing is becoming very important and so there are additional entrants trying to address different aspects of computing, I think is to be expected. And when you look at the data center, in particular, I think the trend that computing is becoming more workload optimized is also an important trend. These are the things that we've been thinking about for a long time, and we've been looking at ensuring that we address that in our road map. \\r\\nSo our focus is to continue to optimize solutions across the data center and across the PC ecosystem, make sure that what we have is very competitive, addressing what customers' needs are. And we also have the ability to customize solutions as well with our strong IP portfolio. So all that being the case, I think the answer is very competitive market, but we feel very good about the road map that we have in front of us. Our next question today is coming from John Pitzer from Credit Suisse. Congratulations on the solid result. Lisa, maybe another way to ask that last question of x86 versus ARM. I'm wondering if you could address it from the perspective of general-purpose compute versus semi-custom and ASIC? Because clearly as Moore's Law is coming up with some issues, the move towards semi-custom and ASIC is much more prevalent. I know to the answer to Toshiya's question, you said that you're doing -- or you have the ability to do semi-custom. Do you actually have engagements? And how do you see sort of general-purpose compute versus semi-custom and ASIC playing out over time? Yes. So John, the way I would address that is I think there's a whole range of computing solutions that you need. And this is back to a few years ago, our conversations about heterogeneous compute being you need to have the right compute for the right workload. So I think that's the overarching aspect of it. \\r\\nNo question that for our business, general purpose compute is the largest piece of our business and will continue to be so. We are doing -- we certainly do optimizations for specific customers today. And I think that's -- that for large cloud customers, they expect that, and we are doing that. \\r\\nWe do have the ability to optimize on a more specific basis. And if you look at the evolution of our architecture, I think that when we do these chiplet architectures and things like that, it really allows that. So lots of good engagements going on with customers overall, and I think the key is to be able to have the right IP building blocks. And that's what we're focused on, right, having the best CPU cores, the best GPU capability, having great interconnect. And then with the bringing on of Xilinx having the adaptive computing solutions there as well, it gives us a lot of options to optimize solutions with customers. That's helpful. And Lisa as my follow-up, you're still relatively early in this new gaming console cycle. And typically through those cycles, your products gross margins had some pretty good uplift. \\r\\nI'm wondering if you can just help characterize where you think you are in sort of the gross margin cycle for the gaming console business? And if you want to tell us kind of how dilutive you think it is to overall margins and where that might go by the end of the year, that would be helpful. Yes, John, I would say that we're still very early in the console cycle. And from -- if you think about it, we're only a couple of quarters into it. So I think this is a big cycle, and there's a lot of momentum in the cycle. We're going to continue to work on improving costs and improving margins and things like that. But I would say that we still have a ways to go and lots of opportunity there as we go through the next couple of years. Our next question today is coming from Mark Lipacis from Jefferies. Lisa, I guess you had indicated you believe -- I believe you said you thought you gained share in the server market. My back of the envelope calculation suggests you gained at least 2 points of share in service, which is an acceleration on my estimate of about 1% share gain a quarter over the previous 4 quarters. \\r\\nSo I guess can you tell me if my math is materially off? And if not, what is -- is this a new higher rate of share gains? And what would you chop this up to? Are you guys at a tipping point? Are your customers at a tipping point for embracing AMD as a supplier? Do they have increased comfort? Or is your ecosystem for support? Can you just maybe just give us a higher-level picture about where you think your customers are and really embracing and ramping up your server offerings at a higher rate. And I have a follow-up, if I may. Yes, sure. So in terms of our data center performance in the first quarter, it was quite strong. And when I look at the drivers of that, we saw cloud, in particular, quite strong. And when I look at the drivers underneath that, there are a couple of things that have come together. \\r\\nFirst of all, I mean we've been very, very deeply engaged with our customers the last number of quarters in qualifying new instances, qualifying new internal workloads, really expanding the regional capability of our coverage. And so all of those things, I think, have left -- led to some lift overall in the data center business. \\r\\nAnd then going forward, I think the other piece of it is if you recall when we did the Naples to Rome transition, that transition was pretty much people switched from Naples to Rome. What we're seeing in this cycle is a bit different. What we're seeing is that Rome has a set of very strong coverage in terms of applications that they're in, that are ramping very nicely, that are having good demand. And then on top of that, we're adding Milan, which is just a very strong product on top of that. \\r\\nSo I think those are some of the things that are perhaps a bit different about what we're seeing right now. That being this case, things move around from quarter to quarter. So I would say that the data center signals that we're seeing are positive. We're excited about what we're seeing. It's a lot of engagements with customers. \\r\\nAnd the main thing for us is as important as the current year is we're also very focused on the long-term road map. And so we're engagement -- we're engaging now on Zen 4 and beyond. So it really is a multigenerational discussion with our top customers. Great. That's very helpful. And then a follow-up on -- just coming back to ARM. You -- they -- you answered the previous questions with kind of talking about embracing the idea of having heterogeneous architectures in semi-custom and working with your customers to develop solutions. \\r\\nBut if I go back, AMD had an ARM server offering before. Can you give us an update on the state of that ARM server IP? Is that something that you can resurrect? Or have you've been keeping it, the development working on that? And can you discuss -- are your customers asking for your help in delivering semi-custom solutions that have an ARM component to it? \\r\\nBecause from what I can tell, it looks like 3 cloud service providers have ARM server offerings in their platform, and -- but there's a lot that don't and don't have quite the development capabilities. So I was hoping if you could just talk more specifically about the IP that you had. And are you bringing that back if your customers are asking for it? Yes, sure, Mark. So look, we know the ARM architecture well. Certainly, our engineers know it well. And we consider ARM a partner in many respects. We use ARM IP in various aspects of our devices.\\r\\nIn terms of that specific custom ARM design, we don't have that in plans right now. In terms of whether we would do custom ARM designs, I think the answer is yes. That's the whole idea of the semi-custom business. And so I think it's less about ARM versus x86 and much more about having the right IP in the right sort of combination to satisfy sort of the customer solutions. \\r\\nAnd that's the way we look at it. It's really -- what problem are you trying to solve? And let's look at sort of the collection of IP that we have and the capabilities that we have to help address that set of sort of issues. Our next question is coming from Ross Seymore from Deutsche Bank. Congratulations on the strong results and guide. Lisa, I wanted to ask you a little bit of a conceptual question. In your full year guidance, you clearly raised the revenues to a very strong number, but you kept the margins the same. I think people understand the operating margin side of it, that you have an opportunity to invest and great opportunities in front of you to grow. \\r\\nBut on the gross margin side of things, I'm just a little surprised, given the strength that you're talking about in the data center business, the HPC, Frontier, those things kicking in the back half of the year. I'm a little surprised that it didn't go up. Now you've delivered very consistent guidance and increases improvements over time, and I can't recall the last time you missed your gross margin guidance. But I'm just wondering what the puts and takes are that would keep that gross margin guidance flat for the year. Yes, Ross, sure. So let me perhaps start, and then Devinder may have a few comments. So I think from an overall revenue standpoint, I think we are very comfortable with the guide up, just given the visibility that we have on the customer demand front and on the supply front. \\r\\nOn the overall margins, we are guiding up sequentially as we go from Q1 to Q2. And then I think for the second half of the year, what we would say is, look, it's early in the year. And it's a very dynamic environment, Ross, I mean a very dynamic environment. And so we're watching the puts and takes, and there's always product mix things that come into play in terms of the puts and takes. \\r\\nBut I think we're confident that we're in a good place. And as we go through the year, we'll give you more updates on that. But there isn't anything more than that. I think it's just where we are in the year. And given the dynamic environment we have in the marketplace, that's what gives us approximately the 47% guide. I don't know, Devinder, you want to add to that? The only thing I'll add, Ross, I think as you know, the situation is pretty tight, as we talked about the overall global supply situation in semiconductors. So we are seeing some increases in component costs, but overall we are managing it. On the higher revenue by more than $1 billion, we are maintaining the 47% guide for 2021, which is up from last year. And last quarter was 45%, this quarter 46%, guiding 47%. The trend is very good, and we are very, very happy with that. That's really helpful. For my follow-up, I want to be a little more tactical, but it will somewhat fold into your answer to the first question. And that is for your second quarter guide from the midpoint of up roughly 4%, could you give us a little bit of puts and takes between your 2 main segments? \\r\\nAnd I guess the slightly longer-term question part of that would be data center being high teens in the first quarter was great sequential growth, doubling year-over-year. Any sort of color on how you think that percentage changes throughout the rest of the year, given your 50% growth guidance for the entirety of the year. Sure, Ross. So in terms of the second quarter, as we look at sequential growth, we do see sequential growth in the data center business, so on the server side as well as on the data center graphics side as well as some growth on the gaming side. \\r\\nAs we look at the full year, our expectation is that the percentage of the company that is sort of the data center percentage of the company will increase as we go through the next couple of quarters. And that's just the dynamic of some of the strength in the consumer businesses in the first half, so that's not normal seasonality. And just the acceleration or some of the growth that we see in the data center business as we go throughout the year would lead to a higher percentage of revenue in data center on higher revenue. Next question is coming from Stacy Rasgon from Bernstein Research. I first had a question on data center in the quarter. So the EESC was up almost $100 million. EPYC was up, and semi-custom was down, which means EPYC was up even more than that. Can you -- I know it was both Rome and Milan grew. But how much of the actual growth, the $100 million-plus sequentially that must have been EPYC, how much of that growth, how did that split out between Rome and Milan? Was it like the majority of the growth of that was Milan? And how do you see Milan as a percentage of a data center CPU mix in Q2? Sure, Stacy. So if I look at the first quarter, we shipped Milan as well in the fourth quarter, right? So we shipped a good amount of Milan in the fourth quarter, a good amount in the first quarter. \\r\\nI would say in terms of growth, it was probably more Rome-weighted in the first quarter compared to Milan, but there was good growth in both. And then as we go into the second quarter, we would still expect to see growth in both Rome and Milan, with Milan growing faster as that ramps. And we would expect by the third quarter that it would cross over and Milan would perhaps be higher than Rome. \\r\\nNow obviously, these things change a little bit as customers go through their ramps, but that's sort of what we see. So the meta point is Rome demand is robust and will stay a good part of the revenue for this year in its entirety. And then Milan is ramping quickly and customer adoption is strong. And so we expect it will ramp quickly as we go through the next couple of quarters. Hopefully, that answers your question. That does. I have a follow-up, if you don't mind. I actually do want to ask a question about OpEx. So I know the model you gave at the Analyst Day had a midpoint for OpEx revenue of 26.5%. I know you're running ahead of revenue and everything right now. But if I sort of back out the second half implied guidance for OpEx, it actually is at that 26.5% run rate in the second half to get to 26% for the full year. \\r\\nShould we think about, I guess, it's like as we go into 2022, do you think you're sort of at the model OpEx run rate, that sort of like more than 26%, 26.5% on whatever the revenue is? Is that the right way to think about the OpEx trajectory going forward? And I guess like -- do you think you're actually spending enough at this point, given where you're taking the road map? Are you spending at the right levels right now to ensure that, that road map is actually cemented and firm? Yes, Stacy, very good question. I think we are -- the revenue is well above our long-term model. And certainly in this year, it's well above our long-term model. Last year, it was well above our long-term model. \\r\\nAnd we're taking the opportunity to invest. And from that standpoint, our investments in R&D really, as you say, cementing the road map, our investments across sales and field support and all of the customer-facing support. And frankly, we're making investments in sort of some of the infrastructure surrounding the company as well since it's just a much larger company than it was a few years ago. \\r\\nSo I think the answer is yes. We're investing enough. And I think we're taking the opportunity to be very aggressive with those investments to -- given the strength of the revenue growth. Maybe, Devinder, you want to add to that or... No, I think that's good. I think you covered it. We've been very disciplined as you know, Stacy, over the years about managing the OpEx. It does scale with revenue, but OpEx is growing lower than -- a lower rate than revenue. And obviously, that shows up in the financial results from a model standpoint. The leverage, as you mentioned, the operating margin is going up for the company. Our next question is coming from Timothy Arcuri from UBS. Lisa, I wanted to ask also about share gains. You've done a great job this year in both client and in data center.  At the same time as was referenced before, Intel's tone is definitely changing. They use the word leveraging relationships. And they talked about other tactics to sort of stem or arrest some of the share losses and they're now offering x86 cores via foundry and things like that. \\r\\nSo I guess the question is sort of beyond this year, because the competitive environment this year is pretty much set. So can -- do you think we can extrapolate the success you've had this year into '22 and '23? Or do you think the competitive environment will intensify in the next few years? Well, Tim, I would say that we have always expected the competitive environment to be very strong, and we still do. So there's -- by the way, there are lots of competitors out there. \\r\\nFrom our standpoint, I think over the past few years and the past few generations, I think we've built a track record with customers, and we've built a set of deep relationships. And we've learned a ton about what's important to customers, where to spend the time, the effort, and where we need a close partnership. \\r\\nSo I feel very good about where we're positioned this year, but I feel very excited about what we have in the road map going forward. And I mean we are not slowing down. So there's a lot in the road map, and we have more resources and more capabilities to bring to the market. And I think we're going to be very competitive going forward. Totally. I guess as my follow-up then. Can you give just, Devinder, maybe give some sense of what the loading is for semi-custom first half to back half? It seems like it's going to be about even back half versus front half this year. Is that correct? I think slightly up in the second half. Because the launch of product in the second half of last year started out strong because it's a new console generation. And then maybe slightly up in the second as well, I would say. Our final question today is coming from Joe Moore from Morgan Stanley. You talked a little bit about the supply constraints that you've been dealing with. Can you talk about where those are coming from? Is that a wafer constraint, substrate constraint, both or other stuff? And where -- when you talk about making progress and kind of getting more supply out, what's the source of that progress? Yes. So I think, Joe, I would say overall the demand  if we look at coming into this year, the demand has been sort of higher than our expectations. And there are sort of industry-wide types of things that are going on. \\r\\nWe work very closely with our supply chain partners. So whether it's wafers or back-end assembly test capacity or substrate capacity, and we work it on a product line by product line level. So I don't know that there is a single thing that I would point out. \\r\\nI would say that on a product line level, what we've done and what we'll continue to do is ensure that there are multiple sources for things, particularly in the back end, that gives us flexibility to move things back and forth. We continue -- on the substrate side in particular, I think there has been under-investment in the industry. And so we've taken the opportunity to invest in some substrate capacity dedicated to AMD, and that will be something that we continue to do going forward. We're also -- I mean we also have fantastic engineering teams that are just looking at how we, together in the ecosystem, just get more productivity into the system. And and we work very closely with TSMC to make sure that we're forecasting well and getting the right support. \\r\\nSo I think it's all of the above in terms of making sure that we have the capabilities. And the other thing I'll mention, Joe, is just it's not just about processors, but it's included -- it's also ensuring that they're matched sets in the ecosystem. And so our teams are also working very closely with our OEMs to make sure that we're together ensuring that they're the full system components necessary. \\r\\nSo it is a complex supply chain environment. And I will tell you, given everything that I've seen, it is a complex environment because all markets are so hot. But I'm happy that we've been able to make progress. \\r\\nAnd by the way, we're not done, right? There's plenty more that we would like to do to get more capability in the supply environment. And so we're working closely with our partners across the board. Great. Well, definitely very impressive results in the context of everything going on. We've reached the end of our question-and-answer session. I'd like to turn the floor back for any further or closing comments. Thank you, Kevin. We'd like to thank everybody for joining today's call, and we'll look forward to engaging with you throughout the quarter. Thank you, everyone. Thank you. That does conclude today's teleconference webcast. You may disconnect your line at this time, and have a wonderful day. We thank you for your participation today.\",\n          \"Hello, and welcome to the Netflix Q4 2021 Earnings Interview. I'm Spencer Wang, VP of IR and Corporate Development. Joining me today are Co-CEO, Reed Hastings; Co-CEO and Chief Content Officer, Ted Sarandos; COO and Chief Product Officer, Greg Peters; and CFO, Spence Neumann. Our interviewer this quarter is Nidhi Gupta from Fidelity. As a reminder, we'll be making forward-looking statements and actual results may vary. \\r\\nNidhi, over to you now to kick off the Q&A. Thank you, Spencer. Good to be with you all again. Great to see all the new content over the quarter. I've been a little less productive so I think I can blame you all for that. As usual, I'd like to start with net adds during the quarter, which came in a little bit later than you expected. Just help us understand the underperformance there. Nidhi, 8.3 million versus 8.5 million, I mean... 222 million. In fairness, Nidhi said it was a little shy. So I'll take what Nidhi says. As she said, we delivered -- first, we're quite pleased with how the quarter played out. We delivered 8.3 million paid net adds. So it was just a bit shy, about 0.1% on roughly 222 million paying members. \\r\\nAnd overall, we're quite pleased with how our titles performed. We had big viewing. We started the quarter with Squid Game becoming a global phenomenon, and we ended the quarter in December with big TV series like the finale of La Casa de Papel, a big returning show in The Witcher, our 2 biggest movie releases of all time. \\r\\nSo overall, the business was healthy. Retention was strong. Churn was down. Viewing was up. But on the margin, we just -- we didn't grow acquisition quite as fast as we would have liked to see, and on our large subscriber base, a small change in acquisition can have a pretty big flow-through in paid net adds. And again, our acquisition was growing, just not growing quite as fast as we were perhaps hoping or forecasting. Great. And as we look ahead to Q1, the guidance was a bit below kind of what was expected and what you've done in previous Q1s. Maybe just help us understand what some of the key considerations were that went into the guidance? And does it raise any concerns for you about anything structural, whether it's competition or saturation? Or does it give you any pause in terms of sort of your return on content spend? Sure. No structural change in the business that we see. What's reflected in the guidance, we guided to 2.5 million paid net adds in Q1. And what's reflected there is pretty much the same trends we saw in Q4: so healthy retention with churn down, healthy viewing and engagement with viewing up and acquisition just growing but a bit slower than pre-COVID levels, just hasn't fully recovered. \\r\\nAnd we're trying to pinpoint what that is. It's tough to say exactly why our acquisition hasn't kind of recovered to pre-COVID levels. It's probably a bit of just overall COVID overhang that's still happening after 2 years of a global pandemic that we're still unfortunately not fully out of, some macroeconomic strain in some parts of the world like Latin America in particular. While we can't pinpoint or point a straight line using -- when we look at the data on a competitive impact, there may be some kind of more on the marginal kind of side of our growth, some impact from competition but -- which, again, we just don't see it specifically. \\r\\nSo overall, that's what's reflected in the guide. I'd say we -- our big titles are also landing, at least our known big titles, a little bit later in the quarter with Season 2 of Bridgerton in March, The Adam Project also in March. As you know, we also -- while we are taking -- changing prices in countries every quarter, in Q1 of this year, it happens to be our largest country, as we announced last week, actually our largest region with Canada as well. So that's probably a little bit more impact than a typical quarter. But Nidhi, you're right to reflect on 2 years ago, we were 10 million above plan, which was a shock. Last year, we were 10 million below or 9 million. And so the pull forward sort of makes it hard to read. In the prior years, we were very steady, so we can have confidence on incremental trends. But as Spence said, when you -- we reflect, of course, hey, that's a low guide, and we think it will be accurate. It's not sandbagged at all, kind of what's going on. \\r\\nAnd there's a number of potential explanations with COVID, but then we worry about hanging too much on that. There's more competition than there's ever been. But we've had Hulu and Amazon for 14 years. So it doesn't feel like any qualitative change there. And overall, confidence in streaming becomes all of entertainment. Linear dissipates over the next 10 to 20 years. Very high confidence in that thesis because everyone's coming into streaming. \\r\\nSo like market size, very large. Our execution is steady and getting better. So for now, we're just like staying calm and trying to figure out. Again, the COVID has introduced so much noise. It just wants us to give it some pause as we work on everything we've always worked on. And just to reiterate, I'd say we took a big bet years ago on this, that people would move on to Netflix and Netflix-type offerings to consume movies and film. That was a big, big bet that we've seen continue to go through. We have no change in our confidence in that. \\r\\nAnd I think what's really been great about 2021, even through all those conditions, we were able to kind of prove out to other theses that we've bet on starting years ago one big one around our investment in international programming. We're glad that we started that 7 years ago with Club de Cuervos. And now we were betting that you could take films and series from anywhere in the world and entertain the entire world. And we were getting more -- bigger and bigger milestones against that goal. \\r\\nAnd now we have proven to have kind of global sensations from France with Lupin, from Spain with La Casa de Papel and Elite and then in the biggest way possible in 2021 with Squid Game, which has become our biggest series ever. And it is unapologetically and perfectly Korean. So it's not built to be this kind of global thing. It's proving that great storytelling from anywhere in the world can entertain the world. \\r\\nAnd our other big bet was our investment in big-budget feature films and our bet that we could effectively release them and compete with big theatrical releases for audience and for attention. And Red Notice this year, of course, and Don't Look Up have become our #1 and #2 most watched movies ever on Netflix. And if you look at the hours that we publish out, you can do the math and back into it. They may be the most watched movies anywhere in the world this year. So I think those 2 bets coming through, it kind of strengthens our confidence in the overall bet in the service and pleasing customers and leaning into consumer-first business models. I think we could succeed there. Yes. No. And I think that's part of the question, right? I mean you -- this was probably the best content quarter you've had. And looking at sort of flattish subs versus previous Q4s, obviously, a great number, but it's kind of in line with what you've done the last few Q4s. What do you read from that? Is the customers sort of hurdle just higher in terms of the amount and quality of content that you need to deliver to get the same number of net adds? Well, I think what, I guess, Spence was saying, we didn't see it -- we didn't see a hit to our engagement. We didn't see a hit to retention, all those things that would classically lead you to looking at competition. But it's a stew of all those things. Not only are we in a pandemic. We've kind of come in of and out of COVID at different levels in 2021, particularly the back half of 2021. So it's created a lot of bumpiness certainly and not steady linear growth, which makes it a little tougher to predict, but all the fundamentals of the business are pretty solid. Got it. You announced a U.S. price increase last week. Maybe just help us understand kind of over what time frame you think this will flow through, what kind of churn you might expect. Yes, I'd say you can anticipate it flowing through over the next quarter, the quarter that we're in right now, Q1. And we largely are seeing in the price changes we've done most recently and for the earliest indications that we have in the U.S., which is still premature because we actually haven't actually rolled it out to any customers yet, what we've seen over the last couple of years, which is that sort of core theory that we have that if we've done a good job investing, the member subscription fees that they paid us into better stories, more great storytelling, bigger movies, more variety, then when we come back and ask them occasionally for a little bit more to keep that sort of cycle going, then they're generally willing to do that. And we don't see any significant disruption to the business otherwise in that regard. \\r\\nAnd I would say generally, when we look at that sort of core theory and we look at also the competitors, if you look at Disney+ as an example, the other streaming services out there as well, and their ability to grow even as we've been growing as well, I think it's really strong endorsement for the core idea that consumers around the world are willing to pay for great entertainment. And it encourages us to continue that investment and to try and deliver more entertainment value and earn more of that share. Yes. No, it's a good point about your streaming competitors. And when I look at sort of your steady price increases in the U.S., it doesn't seem like you feel too constrained by where those competitors are priced. So is that a true statement? \\r\\nAnd I guess as long as you're viewing share is sort of multiples of any other streaming service in the U.S., should we think about your price relative to cable actually as we sort of think about your runway -- not that you'll get there overnight, but as we think about your runway, is that really sort of the comparison we should be thinking about as opposed to other streaming services? We don't have an a priori sort of price target in any given country that we're tracking to. Mostly, we're listening to our members and sort of iteratively doing this walk where the metrics that we see in terms of engagement and churn and acquisition and those kind of things are really our signal that we've done a good job at sort of creating this more value and it's the right time to ask for a little bit more to keep that going. \\r\\nSo to the previous comments around competition and things like that, we don't think that it's immediately replaceable or substitutable good, let's say, right? And so if we have incredible stories, movies that you can only see on Netflix, great TV shows, unscripted, now games coming, then that really -- the value equation for any given member or member-to-be in a market is just are they getting good value for what they're paying. As long as we do a good job there, we feel like we're fulfilling that need. Great. You also made a price change in India in the other direction. Maybe just help us understand what you're trying to achieve with that price change. Yes. I think it follows a whole set of activities that we've been doing in India over the years that we've been operating there and learning more about Indian consumers' tastes, et cetera. And that's broadening the offering in the service across many, many different dimensions. So it's obviously at the core is the content and the programming and seeking to expand that and provide an increased variety and range of programming that appeals and attractive to more people in India while we're thinking about go-to-market and the partnerships that we have and making sure that we're available with those partners at that place where more people in India will find us, and it gets to payments and many, many, many things. \\r\\nAnd when we looked at it and we saw sort of the sum total of all those activities, we felt it was the right time to decrease our prices there, to increase accessibility to all of that sort of -- those incremental value or features that we've been trying to deliver to the market to more Indian consumers. And we also wanted to do it not just like we did with mobile, which is a good lower entry price point, but do it across the range of plans that we had under the theory that some of those features like the ability to watch on TV with a basic plan really unlocks more value in the service and therefore would create more retention, more attractiveness to those plan types for those Indian consumers. \\r\\nAnd again, we're doing this through the lens of what's the long-term sort of revenue maximization, our best guess at that exchange. And so in this case, we're -- basically anticipated that while we decrease ARM, average revenue per member, as a result of the price decreases, we're going to make it up in more subscriber adds. \\r\\nAnd I would say it's still very early in looking at India. And some of these effects, like retention, it takes a couple of months to get a very clean read on it. But the early data that we are seeing very much supports a positive read on that lens of revenue maximization through these changes. And Nidhi, as you well know, but not all viewers might, what's unique about India is cable is about $3 per month per household. So radically different pricing than the rest of the world, which does impact consumer expectations. Right. Right. If this approach doesn't give you the desired result, and it sounds like it is so far, but if fast forward 6 months or 12 months from now, it isn't giving you the desired result, would you consider sort of rightsizing your content spend in India or maybe consider an ad-supported model? I guess in other words, how hard do you want to push for India? And are there examples of success you see either in the media industry or outside of it that give you the confidence that you can make money in this market long term? I think it would be a long time before we adjust it materially because in our experience in Brazil, it was brutal for the first couple of years. We thought we'd never break even. I know we've got this great business. \\r\\nAnd then, Greg, why don't you talk about the experience in Japan? Yes. I would use the word brutal in my -- back to that. And obviously, it's a different country, different characteristics in terms of affluence and things like that. But it took us quite a while to unlock all of these components, product market fit, get the right content, all these different pieces. But then once you get that sort of flywheel spinning, it's an incredible market for us and a source of tremendous growth in membership and revenue in the region. \\r\\nSo I think we're quite bullish that India isn't fundamentally different in some way that we can't figure out how to tailor our service offering to be attractive to Indian consumers who love entertainment. We know that for sure. And so that, I think, gives us a lot of optimism just to continue to work away at it. I would just add -- sorry, go ahead, Reed. The great news is in every single other major market, we've got the flywheel spinning. The thing that frustrates us is why haven't we been as successful in India. But we're definitely leaning in there. And there wasn't an easy one in the bunch. Well, that's kind of what I was going to say, like what Ted touched on, like for as much as we have what we believe is a terrific business and a terrific business model that scales so well with content that can be created anywhere and travel everywhere. And you see that with our more than 222 basic -- million paying members around the world. It's also super hard. It's hard in every country. And every country is on different adoption curve.\\r\\nAnd we talk about product market fit, but it's -- even though everyone loves film and TV and even games, it is very specific. Entertainment is still fundamentally pretty local around the world. So it's global and local, and we need to figure that out. So that is actually a good thing about our business, is that it scales well but it's also super difficult. Otherwise, it'd be really easy for everybody to replicate it. The team going into producing original content in India being pretty -- almost impossible when we first started looking at it. And then this quarter alone, we've got original content coming out from Turkey. We have production in Russia, from Argentina, from Mexico, from Sweden, from Denmark. So we've got original content from all corners of the world with 20 originals coming out of Korea this year. \\r\\nSo the idea that they invested in this early and have built up on it and that it really is going to be something that is going to start to -- we think it will start flowering in India for all the same reasons, a good product market fit, content people love, value that fits through their life and product they can't live without. And I'll triple down on that point as well, Ted, because we're -- I mean, we're still learning even now as we have these incredible stories from all these places around the world, how to bring them to that global audience in increasingly effective ways. And it's simple things, obviously, like subtitling and dubbing. And we've subtitled 7 million run time minutes in '21 and dubbed 5 million run time minutes. But at that scale, we're learning actually how to do that better and how to make that localization more compelling to our members. \\r\\nBut it also gets to even like things that you wouldn't even anticipate like just how you present these titles in an emotionally, evocative way. And we describe a story maybe as nostalgic or eerie and that means something to us. But you can't just literally translate that. You have to find out in every culture and language around the world what is that similarly emotionally evocative descriptor that is going to communicate really easily and quickly what a story means. There's just -- there's so much work and incredibly fascinating things that we're learning about how to do that every day. And in many of those places where we built that out, there was 0 infrastructure for subtitling and dubbing. Well, speaking of content that travels well, South Korea, as you mentioned, Ted, has been a really bright spot for you. And as you said, you're launching 20 -- over 20 new shows there this year. What are sort of the unique factors that drove your success in South Korea? And more importantly, what do you think the adoption curve can look like here relative to maybe what you've seen in other markets? I'd say first and foremost, we've developed over the years an incredible team in Korea and South Korea that has worked with the talent community, that recognized the storytelling, that really works in Korea, that didn't try to make it different so it would travel but really try to find all the things about Korean cinema and Korean drama and build them up in a way that people could see kind of new levels of production value. \\r\\nBut it's not like we had to go in and teach anyone in South Korea how to make great content. It's an incredible market for that. And there's always been curiosity around the world. The Kdrama market has always had little pockets of success all over the place. But I think the ease of delivery that we've offered has kind of pushed that into the mainstream. \\r\\nYes, there was kind of a turning point with Parasite and Bong Joon-ho's Oscar last year that kind of opened up people's minds to it. But we saw that even way before that with Okja, working with Director Bong, that there was this incredible storytelling culture that we could tap into and that people would love Kdramas and watch them all over the world. It just wasn't that easy to find them. And in Netflix, we've been able to kind of put together the great storytelling and great delivery and a great value proposition that has grown the watching of Korean content in the U.S., the numbers I would have never believed 3 years ago. So 100% growth in 2021 over 2020. Will we get a second season of Squid Game? Absolutely. The Squid Game universe has just begun. Great. Looking forward to that. Shifting gears to Latin America. This region feels like it's maturing at a lower level of penetration than you've seen in the U.S. Is that due to competition, affordability? Account sharing Or something else? Or maybe you disagree with the statement that it's actually maturing. But help us understand if there's anything you can do differently to sort of drive penetration levels there higher. Well, first, I just wouldn't necessarily read through that it's maturing faster, Nidhi. I mean again, I just don't want to understate the impact of what we've been going through for the last 2 years. And Latin America, in particular, has been more strained. It has less kind of government funding and subsidization relative to many parts of the world to kind of fuel their economy. On top of that, we also continue to increase prices in that market last year across some big countries for us, Mexico, Brazil, Argentina. \\r\\nSo between macroeconomic factors and general strain, business is still growing there. We grew by about 2.5 million members last year, so under the kind of pre-COVID growth rates but still growing. And it is a market where pay TV is healthy. Folks love film and TV. And so I think there's a long runway of growth there. It's also been a great market for us for Spanish language content that we're creating for the rest of the world. \\r\\nSo we don't see, and the others can chime in, need to change strategy. We continue -- like we talked about with India, we're getting better everywhere, every year. We're getting better with our local content in Brazil and Mexico and so forth. So there's a lot more to come, but it's not a fundamental change in strategy. Great. That makes sense. Maybe just stepping back, you've talked about 800 million to 900 million homes globally outside of China. That's sort of your TAM. You're, call it, 25% penetrated into that. As you're seeing how various markets are playing out in terms of penetration levels, some higher, some lower, obviously, they're all still growing. Has your thought process changed at all on how many of these 800 million to 900 million homes you can have ultimately or sort of the time frame to get there, whether it's higher than you expected or lower than you expected? And how might you actually evolve your content strategy or your pricing strategy to get the next 200 million subscribers? Yes. I'd say, Nidhi, we -- on that pay TV comparison, we look at it. We're, in the U.S., at about 2/3 of the pay TV high-water mark. And so the back third is definitely going to be harder than the first 2/3 in terms of appealing more unscripted, more superhero, and we're working on all of that. Because we don't have sports and news, you might say, well, if we get to 80% or something of pay TV, that's a good accomplishment. But also, streaming TV is such a better experience than the old linear TV. In some ways, we think to ourselves we should be higher than pay TV, a combination of lower pricing and better experience. \\r\\nSo definitely frustrating for us, the current slower growth. That's why it could well be kind of just COVID effects where it could be as you're pushing on smaller market than we thought. But I'm not sure why. So we try to be really rigorous of thinking about the long term. It's possible that we'll get there, but slower than we thought, smart TV adoption, complexity, those kinds of things. But we're still focused on the original thesis of if we become incredibly compelling, everyone's going to want to be a Netflix member. And I know it feels like we've been saying it for a long time, but it's early days. It really is. And I think about the evolving value proposition and how it's still maturing. The idea that big-ticket movies that people really care about premiering and being part of your Netflix subscription is actually taking the value proposition to a new level than it was just a couple of years ago. \\r\\nSo I do think, like I said, it's dynamic market for sure. It may not be as steady as people can think about it in terms of we're going to add X number every month, every quarter, every week. But it's going to -- but there's no question that that's the direction the business is going in. Yes. Yes. And Ted, that's a good segue to where I wanted to go next. You had an incredible lineup of films in Q4 with a lot of viewing. I'm curious, what did having a strong film slate in the quarter do for you relative to periods where you didn't have that? Did you see more aggregate engagement, lower churn, more conversation? Just what is sort of unique about delighting your customers with a film versus a show in terms of kind of the benefits that you see? Yes. There's a big theory, which is that people differently value movies because they always have to pay for it. You had to buy a movie ticket. You have to buy a pay-per-view transaction or DVD. There's always kind of a transactional and a pretty big one for some people to see a big movie premier in your home. \\r\\nAnd so there was this kind of temporary effect that some other folks were doing -- this is our -- it's in our permanent model to premier our big movies on the service. And I think people look -- even if you really watch mostly television, you have a movie night, and we can service you on movie night. I think that's a very big important value proposition that we have that's different from everybody else. \\r\\nAnd these are the movies that people really love and care about. And you start seeing them at the scale of Don't Look Up and Red Notice in Q4, and it gets you super excited as to what could be next when -- what's coming next. And for that, we have things like The Adam Project coming up with Ryan Reynolds and Shawn Levy directed coming up in Q1. It's a phenomenal movie for the whole family. With a big action movie from the Russo brothers like Gray Man with Ryan Gosling, Knives Out 2, Enola Holmes 2. \\r\\nSo with this movie lineup that would be -- that any one studio would go for any one season, we've got new movies every week on Netflix, and they're big movies that people care about. And we think once the expectation is set and we keep delivering on it, people will react to that, too. Great. And Nidhi, I'd just add that at the core, what our members love and what they tell us they love is a great variety of high-quality content, and that means across TV film and hopefully games over time in a much broader way. So having a great film offering is, for us, a key part of that equation. And so I think we're just starting to fulfill more and more of that, our member kind of needs and wants and satisfaction. That's what we're seeing. But it's not like it's just so differential than something else as part of that overall quality and variety of entertainment offering. I also think it differentially serves people watching together. It's much easier to watch a movie together than to make sure you're all tracking on the same episode every week all over the -- if you travel or whatever you do. So that kind of together experience we can deliver on every weekend on Netflix is pretty great. \\r\\nAnd I think about even just in the upcoming quarter alone, Spence talked about variety, everyone has a very different taste. So any one movie is only going to serve a segment of the audience. Now you get big, exciting thing like Don't Look Up and Red Notice, you can get to a big chunk of the base, but you're still only getting about 60%. So to do that, to serve everyone, you have to have a big variety of output. \\r\\nSo it does seem like a lot of volume, but it's not all for you. So in Q1 alone, we have The Adam Project I mentioned. We have Munich from Germany; Texas Chainsaw Massacre, which is kind of a reinvention of that franchise; Tall Girl 2, which is a sequel to one of our big YA rom-coms; Home Team with Kevin James. Judd Apatow has got the movie The Bubble. That's all in Q1 and plus original local language films from all over the world as well. So to meet the kind of variety of taste, we're able to really step up and deliver no matter what that taste is. Yes. Yes, that makes sense. Reed, you talked on the Q3 call about sort of, over time, building out the whole experience of games, consumer products, live events, et cetera, around some of your IP. And it obviously starts with great IP and great storytelling. But what else do you have to get right operationally and strategically to really build a franchise? And do you feel like you have the pieces in place now? We're building those muscles steadily with our consumer products, both like the Squid Game tracksuits, and then we're making a big push on experiences that are mobile and portable and people, if we can set them up quickly and developing that muscle. Obviously, the gaming muscle, we're very young on and building. So if you think of a world in a few years where those are strong muscles and then you think of the next Bridgerton or Squid Game coming through, that's what we hope to be able to really pull those pieces together. \\r\\nAnd people talk about franchise like it's 0 or 1. But of course, there's a complete continuum that will add value in the short term to our various titles. And we're doing that already through the consumer products world and having people feel a bigger connection to those big franchises. So it's already working, but it's probably, I don't know, 20% of what it will be in a couple of years in terms of the auxiliary boost beyond just the title. Yes. And I'd say on that continuum, Reed, you've got Stranger Things, which I'd say is as valuable a franchise as exist today in entertainment around the world. We certainly have things that are in their early stages of becoming a franchise like Bridgerton, which we launched our second season of this, our second most popular show ever in Q1. And we're also -- this year, you'll see an origin story on Queen Charlotte and this incredible Bridgerton live experiences around the country and around the world that fans will flock to and flood their social media feeds with. And there's consumer products that go along with that as well. \\r\\nSo it's all those kind of makings of a franchise instead of trying to tapping into one that's been building for 50 years. Can you build it from whole cloth? And I think Stranger Things is a proof point that you can. We touched on gaming a little bit. It's very exciting to see some worldwide launches during the quarter. Greg, I know it's early days, but what has sort of the reception and engagement been from the subscriber base? And what have your learnings been as well? Yes. As you say, it's tremendously exciting to get to this point because we basically have been building the plumbing and all the technical infrastructure just to get to the point where we can do this, which is consistently launch games globally to all of our members. And it's great to do that. \\r\\nAnd now as you point out, we're now really getting to learn from all those games what are the discovery patterns, what are the engagement patterns, how are they performing, what do our members want from games on the service. And it's still very early days. But generally, what we're seeing is not surprisingly, we have a growing number of monthly active users, daily active users on these games. And so we're generally seeing good growth in that regard. \\r\\nBut really, the -- as we're doing this, we've been building in parallel what I'm super excited about it, which is the sort of internal development capacity, our own game studio. We've been hiring some incredible talent that brings a set of experience to this process. We've done an acquisition in this space. And that now allows us to incrementally gradually, over a period of time, get to that sort of the value that you and Reed were talking about where we get to deliver now interactive experiences that are tied to the IP that we're excited about, that are timed with that. And that, I think, is really when you're going to see a next level of unlock around the value we can deliver to members. Given that gamers tend to sort of consolidate their time around a smaller number of titles compared to video where we tend to consume a wider variety of content, does it -- would it be more efficient to sort of buy your way into some well-known titles to sort of anchor the product? \\r\\nJust the last couple of weeks, we've obviously seen a couple of major companies make big acquisitions or at least announce big acquisitions because this is obviously something that's difficult to build organically. I'm just curious what your reaction to that is. And why isn't Netflix participating in big acquisitions given your aspirations in gaming? Well, it's -- I mean it was exciting to see the activity in the space. And I think to some degree, it's an endorsement of the core thesis that we have around subscription being a great model to connect consumers around the world with games and game experiences. And we're open to licensing, accessing large game IP that people will recognize. And I think you'll see some of that happen over the year to come. \\r\\nBut we also see -- back to Ted's like building out a whole cloth and the ability to sort of take the franchises or the big titles, let's call it, that we are excited about and actually develop interactive experiences that are connected to those. We see a huge, long-term multiyear opportunity in that, too. \\r\\nSo we'll -- we're very open. We're going to be experimental and try a bunch of things. But I would say the eyes that we have on the long-term prize really center more around our ability to create properties that are connected to the universes, the characters, the stories that we're building in other places and sort of magnify that value for the fans of those stories. Nidhi, we have time for 2 more questions. Okay. Maybe Reed, just a bigger picture question for you. And Spencer, I might have more than a couple of questions. But you have this global subscription product that's inside sort of hundreds of millions of households around the world. And you really nailed 2D lean-back content, but there is this whole world of interactive or semi-interactive content, whether it's gaming or fitness or education. And at the more extreme end, there's VR content, and now everyone is talking about the metaverse. You've obviously already gotten going on gaming. But as you look at sort of this broad spectrum of content, how much of it do you want to sort of wrap your subscription around thinking about the long term? When you say how much do you want to, that would be a high number. But we have to be differentially great at it. There's no point of just being in it. That's very dilutive of the whole proposition. And so it took us several years to get great at English original series. And you saw in the letter on the Google Search trends how well we did there. \\r\\nWe built with a lot of effort a really strong film franchise, and that's -- Ted calls it just the third inning. It's like we're really just getting going to what we think we're going to be able to do there. Of course, we've got all the international content. We've got unscripted, documentaries. And then gaming, which initially we're focused on the mobile gaming, is a big one. \\r\\nSo I would say when mobile gaming is world-leading and we're some of the best producers and like where we are at film today, 2 of the top 10 for our gaming, then you should ask, okay, what's next. Because we're definitely crawl, walk, run and like let's nail the thing and not just be in it for the sake of being in it or for a press release, but we got to please our members by having the absolute best in the category. And Ted and Greg have been doing a terrific job on that, and we'll just continue to work on that. So queue it up for that. When we're winning in games, then we'll take the question. Great. Spence, just turning over to you on margins. Does the guidance for a lower level of margin -- and you gave a lot of explanation around that in the letter. But outside of sort of the FX impact, does it have more to do with some of these incremental investments we're talking about like games and perhaps consumer products? Or does it have more to do with sort of the lower level of revenue growth that you're expecting? No, it's really just FX, Nidhi. So as we said in the letter, we lost about $1 billion of expected revenue in '22 through FX. That's about 2 points of margin. So if you just kind of look at our guide and add that back on, we're right on our pace of adding about 3 points of margin per year. And I can't forget we were overdelivering on margin in the last couple of years. \\r\\nSo that's really all that's happening here. And the FX move happened in really the last 6 months of last year. So what we've always said is we don't want to swing the business unnecessarily fast. We want to be able to invest in a healthy way into our growth opportunities. And over time, we will then rightsize our -- appropriately our investment levels, our cost structure, our pricing in order to rightsize for where the currencies are coming in. And so this gives us some time to do it. \\r\\nSo it gives us a little time, but we will catch back up. We're still committed to roughly 3 -- average of 3 points of margin increase over any few year period. But there's no change there. We've been factoring in our content investment, our game investment all along. \\r\\nAnd I just want to say in our growth, too, we talk a lot about this deceleration. Obviously, we'd like to grow faster, but there's still very healthy growth in this business. What you're seeing in -- we ended the year last year with 19% growth year-over-year. What you've seen in the guide is 10% revenue growth for Q1, but that's a bit misleading again because of FX. There's about 4 points of drag in our revenue in Q1. \\r\\nSo the under -- what I would argue, FX-adjusted constant currency for Q1 year-over-year is about 14% growth. It's also a tough comp year-over-year in Q1 because you may remember, we increased prices in the U.S. in Q4 of '20, which flowed through to Q1 of '21 is when it was really materialized. So the year-over-year comp is tough. So the underlying organic revenue growth in the business is, right now, at least in Q1, more like 15%, plus 15%, 16%, 17%. So that's at least just in the quarter. \\r\\nAnd that's still very healthy underlying growth in the business. I don't want to dismiss that. We'd love to be growing faster. We'd love to not have the negative FX swings, but it's still very healthy growth in the business. Nidhi, since it's your last earnings interview, I will grant you one extra question. I have one last question. This will be the last one, but it's also for Spence. It's very exciting that you'll become sustainably free cash flow positive this year. Congratulations on reaching this milestone. I feel like I've been waiting 10 years to ask this question. But how will you balance M&A and buybacks with your free cash flow? And maybe sort of related to that, have we peaked in terms of that ratio of cash content spend to amortization? And how long will it take for earnings and free cash flow to kind of converge? I can't believe you wanted to end with me, Nidhi. There's so many more exciting people to speak with on the call. So we appreciate what you said there. It is a big milestone for us to be cash flow positive going forward. We're excited for that. The business model has been proving out. So that's great in terms of our increasing profits, profit margins over time as well as cash. \\r\\nIn terms of use of cash, and Spencer, you can chime in, too, but as we've talked about in prior calls, our top priority is to be responsible stewards of the business and our cash but to invest in the healthy growth of our business and strategically invest in the business, first organically, if there's been opportunistically M&A that -- M&A is not the strategy for us per se. M&A is a tactic to accelerate our strategy, whether it's to accelerate our content capabilities and capacity or just acquisition of IP like Dahl across film, TV and games as you've seen. \\r\\nAnd what's left over after that, we're not going to sit on excess cash, as we've said. Our capital allocation plan is as it's been, which is to have roughly 2 months of revenue in the form of cash on our balance sheet. And excess beyond that, we'll return to shareholders opportunistically as we have done. We did that to the tune of about $600 million last year in share repurchase, and we're authorized up to $5 billion share repurchase. So that's still our plan. \\r\\nIn terms of when the -- those ratios converge and earnings and cash flow look the same, I don't want to put a prediction out there. We're still very much in growth mode as a business. So it will continue to converge over time, but I don't want to declare a specific peak. It's been going in the right direction over a multiyear period, and it will continue to do so. The only thing I would add to that, Nidhi, is just on the capital allocation part. Just to remind you, our balance sheet target is for gross debt of about $10 billion to $15 billion. We ended the quarter slightly above the $15 billion mark. So as we said in the letter, we will be paying down about $700 million in Q1. But obviously, delevering a bit is something you should anticipate in terms of use of cash. \\r\\nAnd then just lastly, on the EPS free cash flow question. So I just want to remind you, there are some below-the-line items like the noncash remeasurement of our euro bonds that can skew EPS in any sort of given quarter, so just a call-out there. \\r\\nBut thank you for your questions. I'm going to turn it over to Ted now to -- for his closing remarks and to take us home. Nidhi, thank you so much for these and thanks for today. The love of film and TV and games has built big businesses for people who can figure out what people love, build a creative environment that creators know how to feed it and then deliver it to fans with a value proposition that they appreciate. I think those fans are positively moving from old linear models and transactional models to more fan-friendly subscription services that are with high-quality programming, delivered well with great value. \\r\\nThat's absolutely happening, and it's happening all over the world. The pace of the migration may be a little hard to call from time to time when there are kind of varied global events or even local conditions, but it's absolutely happening. There's no question of that. \\r\\nFilms that you love and series that you define yourself by and games that thrill you, that's a pretty great business. We're thrilled to be in it. We're also planning to continue to improve what we're doing and to grow this by growing revenue, by growing profits and by growing audience affinity around the world. \\r\\nSo once again, Nidhi, if I can see you in person, I'd give you this. I've got 2 of them. Where is the other one? Ted, I found one for you. Thank you, Nidhi.\"\n        ],\n        \"semantic_type\": \"\",\n        \"description\": \"\"\n      }\n    }\n  ]\n}"
            }
          },
          "metadata": {},
          "execution_count": 6
        }
      ],
      "source": [
        "df2 = df.groupby('Call')['Text'].apply(lambda x: ' '.join(x)).to_frame(name='Text')\n",
        "df2.head(5)"
      ]
    },
    {
      "cell_type": "code",
      "execution_count": 7,
      "metadata": {
        "colab": {
          "base_uri": "https://localhost:8080/"
        },
        "id": "ljBO39kP2uJ9",
        "outputId": "15113078-c6b7-4400-a140-20d4a06eb94a"
      },
      "outputs": [
        {
          "output_type": "execute_result",
          "data": {
            "text/plain": [
              "(242, 1)"
            ]
          },
          "metadata": {},
          "execution_count": 7
        }
      ],
      "source": [
        "df2.shape"
      ]
    },
    {
      "cell_type": "markdown",
      "metadata": {
        "id": "2EpKLDb51U3n"
      },
      "source": [
        "# Pre-processing"
      ]
    },
    {
      "cell_type": "code",
      "execution_count": 8,
      "metadata": {
        "id": "QPxtiizNQOvl"
      },
      "outputs": [],
      "source": [
        "import re\n",
        "df2['Text'] = df2['Text'].map(lambda x: re.sub('[\\n\\t\\r.,;\\'\\\"\\[\\]]*', '',x))\n",
        "# df2['Text'] = df2['Text'].apply(lambda x: [w for w in x if w.isalpha()])\n",
        "# Convert to lowercase\n",
        "df2['Text'] = df2['Text'].map(lambda x: x.lower())"
      ]
    },
    {
      "cell_type": "code",
      "execution_count": 9,
      "metadata": {
        "colab": {
          "base_uri": "https://localhost:8080/"
        },
        "id": "W9h6Xez3QSP0",
        "outputId": "54de12da-e759-4563-bcec-f0e9d912f287"
      },
      "outputs": [
        {
          "output_type": "stream",
          "name": "stdout",
          "text": [
            "['good', 'morning', 'and', 'thank', 'you', 'for', 'standing', 'by', 'welcome', 'to', 'abbotts', 'first', 'quarter', 'earnings', 'conference', 'call', 'operator', 'instructions', 'this', 'call', 'is', 'being', 'recorded', 'by', 'abbott', 'with', 'the', 'exception', 'of', 'any']\n"
          ]
        }
      ],
      "source": [
        "from gensim.utils import simple_preprocess\n",
        "\n",
        "def sent_to_words(sentences):\n",
        "    for sentence in sentences:\n",
        "        yield(simple_preprocess(str(sentence), deacc=True))  # deacc=True removes punctuations\n",
        "\n",
        "data = df2.Text.values.tolist()\n",
        "data_words = list(sent_to_words(data))\n",
        "\n",
        "print(data_words[:1][0][:30])"
      ]
    },
    {
      "cell_type": "code",
      "execution_count": 10,
      "metadata": {
        "id": "U3U7Nhs8gTzP"
      },
      "outputs": [],
      "source": [
        "import spacy\n",
        "nlp = spacy.load(\"en_core_web_sm\")"
      ]
    },
    {
      "cell_type": "code",
      "execution_count": 11,
      "metadata": {
        "colab": {
          "base_uri": "https://localhost:8080/"
        },
        "id": "7je77yq9QVsD",
        "outputId": "057616f1-7730-469e-d764-2430d121b9ac"
      },
      "outputs": [
        {
          "output_type": "stream",
          "name": "stderr",
          "text": [
            "[nltk_data] Downloading package stopwords to /root/nltk_data...\n",
            "[nltk_data]   Package stopwords is already up-to-date!\n"
          ]
        }
      ],
      "source": [
        "#NLTK Stop words\n",
        "import nltk\n",
        "nltk.download('stopwords')\n",
        "from nltk.corpus import stopwords\n",
        "\n",
        "stop_words = stopwords.words('english')\n",
        "stop_words.extend(['from', 'subject', 're', 'ie', 'st', 'th', 'rd','quarter','year','month','us','well','would',\n",
        "                   'think','question', 'billion', 'million', 'thousands','recorded','morning','new','weve',\n",
        "                   'thats', 'revenue', 'income','company','quarter','year','month','earnings','call','transcript',\n",
        "                   'new', 'business', 'results','report','statement','today','said','like','going','think','question','answer',\n",
        "                   'ask', 'know', 'well', 'would', 'could', 'may', 'great',\n",
        "                   'might', 'get', 'one', 'two', 'three', 'four', 'five', 'six', 'seven',\n",
        "                   'eight', 'nine', 'ten', 'zero', 'thousand', 'percent', 'percentage',\n",
        "                   'point', 'points', 'market', 'stock', 'price', 'share', 'analyst',\n",
        "                   'investor', 'conference', 'operator', 'good', 'morning', 'afternoon',\n",
        "                   'evening', 'thank', 'operator', 'forward', 'looking', 'statements',\n",
        "                   'information', 'future', 'events', 'circumstances', 'risks',\n",
        "                   'uncertainties', 'assumptions', 'factors', 'developments', 'events',\n",
        "                   'performance', 'results', 'forward', 'risks', 'statements',\n",
        "                   'events', 'developments','business','first','see','continue','strong','last','also',\n",
        "                   'going','really',' thats','next','get','back','thats','kind','content', 'product', 'lot',\n",
        "                   'expect','like','obviously','yes','time','right','years','look','im','look','bit','second',\n",
        "                   'little','across','capital','youre','still','got','go', 'say', 'talk', 'take', 'come', 'make'])\n",
        "\n",
        "\n",
        "# Define functions for stopwords, bigram, trigrams, lemmatization\n",
        "def remove_stopwords(texts):\n",
        "    return[[word for word in simple_preprocess(str(doc)) \\\n",
        "            if word not in stop_words] for doc in texts]\n",
        "\n",
        "# def make_bigrams(texts):\n",
        "    # return [bigram_mod[doc] for doc in texts]\n",
        "\n",
        "# def make_trigrams(texts):\n",
        "#     return [trigram_mod[bigram_mod[doc]] for doc in texts]\n",
        "\n",
        "def lemmatization(texts, allowed_postags=['NOUN', 'ADJ', 'VERB', 'ADV']):\n",
        "    texts_out = []\n",
        "    for sent in texts:\n",
        "        doc = nlp(\" \".join(sent))\n",
        "        texts_out.append([token.lemma_ for token in doc \\\n",
        "                          if token.pos_ in allowed_postags])\n",
        "    return texts_out"
      ]
    },
    {
      "cell_type": "code",
      "execution_count": 13,
      "metadata": {
        "id": "CUA3WcskQbDG"
      },
      "outputs": [],
      "source": [
        "data_words_nostops = remove_stopwords(data_words)"
      ]
    },
    {
      "cell_type": "markdown",
      "metadata": {
        "id": "vB69Bg_gK20t"
      },
      "source": [
        "# BERTopic\n",
        "\n"
      ]
    },
    {
      "cell_type": "code",
      "execution_count": 14,
      "metadata": {
        "id": "AcNC3p4eQdJ4"
      },
      "outputs": [],
      "source": [
        "flatten_data = [' '.join(sub) for sub in data_words_nostops]"
      ]
    },
    {
      "cell_type": "markdown",
      "source": [
        "# Input pre-processed data into BERTopic"
      ],
      "metadata": {
        "id": "YjvwPe7uE8s2"
      }
    },
    {
      "cell_type": "code",
      "execution_count": null,
      "metadata": {
        "id": "SkYAVOwTK32U"
      },
      "outputs": [],
      "source": [
        "from bertopic import BERTopic\n",
        "model = BERTopic(verbose=True, min_topic_size= 10,nr_topics=8)\n",
        "topics, _ = model.fit_transform(flatten_data)"
      ]
    },
    {
      "cell_type": "code",
      "execution_count": 17,
      "metadata": {
        "colab": {
          "base_uri": "https://localhost:8080/"
        },
        "id": "f_BTgO-9pqJo",
        "outputId": "f1bf9ea3-3db5-4a68-d615-e07e7ff3a001"
      },
      "outputs": [
        {
          "output_type": "stream",
          "name": "stderr",
          "text": [
            "2024-04-18 07:26:26,276 - BERTopic - WARNING: When you use `pickle` to save/load a BERTopic model,please make sure that the environments in which you saveand load the model are **exactly** the same. The version of BERTopic,its dependencies, and python need to remain the same.\n"
          ]
        }
      ],
      "source": [
        "model.save('/content/drive/MyDrive/BERTopic_model8')"
      ]
    },
    {
      "cell_type": "code",
      "execution_count": 18,
      "metadata": {
        "id": "srlloNrsK2MY"
      },
      "outputs": [],
      "source": [
        "saved_model = BERTopic.load(\"/content/drive/MyDrive/BERTopic_model8\")"
      ]
    },
    {
      "cell_type": "markdown",
      "metadata": {
        "id": "01XtKwtsPxqk"
      },
      "source": [
        "## Visualization"
      ]
    },
    {
      "cell_type": "code",
      "execution_count": 19,
      "metadata": {
        "colab": {
          "base_uri": "https://localhost:8080/",
          "height": 667
        },
        "id": "NKTsR9BciZ6I",
        "outputId": "220a664f-ccc2-4ad2-b1d0-030e68ea5448"
      },
      "outputs": [
        {
          "output_type": "display_data",
          "data": {
            "text/html": [
              "<html>\n",
              "<head><meta charset=\"utf-8\" /></head>\n",
              "<body>\n",
              "    <div>            <script src=\"https://cdnjs.cloudflare.com/ajax/libs/mathjax/2.7.5/MathJax.js?config=TeX-AMS-MML_SVG\"></script><script type=\"text/javascript\">if (window.MathJax && window.MathJax.Hub && window.MathJax.Hub.Config) {window.MathJax.Hub.Config({SVG: {font: \"STIX-Web\"}});}</script>                <script type=\"text/javascript\">window.PlotlyConfig = {MathJaxConfig: 'local'};</script>\n",
              "        <script charset=\"utf-8\" src=\"https://cdn.plot.ly/plotly-2.24.1.min.js\"></script>                <div id=\"8c608d57-ea10-4925-9135-e4a135809624\" class=\"plotly-graph-div\" style=\"height:650px; width:650px;\"></div>            <script type=\"text/javascript\">                                    window.PLOTLYENV=window.PLOTLYENV || {};                                    if (document.getElementById(\"8c608d57-ea10-4925-9135-e4a135809624\")) {                    Plotly.newPlot(                        \"8c608d57-ea10-4925-9135-e4a135809624\",                        [{\"customdata\":[[0,\"growth | demand | cash | supply | customers\",35],[1,\"growth | stores | sales | store | team\",30],[2,\"cash | debt | oil | production | carbon\",24],[3,\"dollar | tree | sales | fiscal | fedex\",21],[4,\"aircraft | travel | demand | capacity | united\",18],[5,\"loan | growth | banking | loans | higher\",18],[6,\"growth | ai | data | nvidia | johnson\",17]],\"hovertemplate\":\"\\u003cb\\u003eTopic %{customdata[0]}\\u003c\\u002fb\\u003e\\u003cbr\\u003e%{customdata[1]}\\u003cbr\\u003eSize: %{customdata[2]}\",\"legendgroup\":\"\",\"marker\":{\"color\":\"#B0BEC5\",\"size\":[35,30,24,21,18,18,17],\"sizemode\":\"area\",\"sizeref\":0.021875,\"symbol\":\"circle\",\"line\":{\"color\":\"DarkSlateGrey\",\"width\":2}},\"mode\":\"markers\",\"name\":\"\",\"orientation\":\"v\",\"showlegend\":false,\"x\":[-0.7765006422996521,-2.130950450897217,-0.790705144405365,-1.7086132764816284,-0.6414351463317871,-0.077778659760952,-2.0982894897460938],\"xaxis\":\"x\",\"y\":[1.5792031288146973,0.9865589141845703,0.7488505840301514,1.4214856624603271,-0.7116814851760864,1.1578178405761719,-1.0184417963027954],\"yaxis\":\"y\",\"type\":\"scatter\"}],                        {\"template\":{\"data\":{\"barpolar\":[{\"marker\":{\"line\":{\"color\":\"white\",\"width\":0.5},\"pattern\":{\"fillmode\":\"overlay\",\"size\":10,\"solidity\":0.2}},\"type\":\"barpolar\"}],\"bar\":[{\"error_x\":{\"color\":\"rgb(36,36,36)\"},\"error_y\":{\"color\":\"rgb(36,36,36)\"},\"marker\":{\"line\":{\"color\":\"white\",\"width\":0.5},\"pattern\":{\"fillmode\":\"overlay\",\"size\":10,\"solidity\":0.2}},\"type\":\"bar\"}],\"carpet\":[{\"aaxis\":{\"endlinecolor\":\"rgb(36,36,36)\",\"gridcolor\":\"white\",\"linecolor\":\"white\",\"minorgridcolor\":\"white\",\"startlinecolor\":\"rgb(36,36,36)\"},\"baxis\":{\"endlinecolor\":\"rgb(36,36,36)\",\"gridcolor\":\"white\",\"linecolor\":\"white\",\"minorgridcolor\":\"white\",\"startlinecolor\":\"rgb(36,36,36)\"},\"type\":\"carpet\"}],\"choropleth\":[{\"colorbar\":{\"outlinewidth\":1,\"tickcolor\":\"rgb(36,36,36)\",\"ticks\":\"outside\"},\"type\":\"choropleth\"}],\"contourcarpet\":[{\"colorbar\":{\"outlinewidth\":1,\"tickcolor\":\"rgb(36,36,36)\",\"ticks\":\"outside\"},\"type\":\"contourcarpet\"}],\"contour\":[{\"colorbar\":{\"outlinewidth\":1,\"tickcolor\":\"rgb(36,36,36)\",\"ticks\":\"outside\"},\"colorscale\":[[0.0,\"#440154\"],[0.1111111111111111,\"#482878\"],[0.2222222222222222,\"#3e4989\"],[0.3333333333333333,\"#31688e\"],[0.4444444444444444,\"#26828e\"],[0.5555555555555556,\"#1f9e89\"],[0.6666666666666666,\"#35b779\"],[0.7777777777777778,\"#6ece58\"],[0.8888888888888888,\"#b5de2b\"],[1.0,\"#fde725\"]],\"type\":\"contour\"}],\"heatmapgl\":[{\"colorbar\":{\"outlinewidth\":1,\"tickcolor\":\"rgb(36,36,36)\",\"ticks\":\"outside\"},\"colorscale\":[[0.0,\"#440154\"],[0.1111111111111111,\"#482878\"],[0.2222222222222222,\"#3e4989\"],[0.3333333333333333,\"#31688e\"],[0.4444444444444444,\"#26828e\"],[0.5555555555555556,\"#1f9e89\"],[0.6666666666666666,\"#35b779\"],[0.7777777777777778,\"#6ece58\"],[0.8888888888888888,\"#b5de2b\"],[1.0,\"#fde725\"]],\"type\":\"heatmapgl\"}],\"heatmap\":[{\"colorbar\":{\"outlinewidth\":1,\"tickcolor\":\"rgb(36,36,36)\",\"ticks\":\"outside\"},\"colorscale\":[[0.0,\"#440154\"],[0.1111111111111111,\"#482878\"],[0.2222222222222222,\"#3e4989\"],[0.3333333333333333,\"#31688e\"],[0.4444444444444444,\"#26828e\"],[0.5555555555555556,\"#1f9e89\"],[0.6666666666666666,\"#35b779\"],[0.7777777777777778,\"#6ece58\"],[0.8888888888888888,\"#b5de2b\"],[1.0,\"#fde725\"]],\"type\":\"heatmap\"}],\"histogram2dcontour\":[{\"colorbar\":{\"outlinewidth\":1,\"tickcolor\":\"rgb(36,36,36)\",\"ticks\":\"outside\"},\"colorscale\":[[0.0,\"#440154\"],[0.1111111111111111,\"#482878\"],[0.2222222222222222,\"#3e4989\"],[0.3333333333333333,\"#31688e\"],[0.4444444444444444,\"#26828e\"],[0.5555555555555556,\"#1f9e89\"],[0.6666666666666666,\"#35b779\"],[0.7777777777777778,\"#6ece58\"],[0.8888888888888888,\"#b5de2b\"],[1.0,\"#fde725\"]],\"type\":\"histogram2dcontour\"}],\"histogram2d\":[{\"colorbar\":{\"outlinewidth\":1,\"tickcolor\":\"rgb(36,36,36)\",\"ticks\":\"outside\"},\"colorscale\":[[0.0,\"#440154\"],[0.1111111111111111,\"#482878\"],[0.2222222222222222,\"#3e4989\"],[0.3333333333333333,\"#31688e\"],[0.4444444444444444,\"#26828e\"],[0.5555555555555556,\"#1f9e89\"],[0.6666666666666666,\"#35b779\"],[0.7777777777777778,\"#6ece58\"],[0.8888888888888888,\"#b5de2b\"],[1.0,\"#fde725\"]],\"type\":\"histogram2d\"}],\"histogram\":[{\"marker\":{\"line\":{\"color\":\"white\",\"width\":0.6}},\"type\":\"histogram\"}],\"mesh3d\":[{\"colorbar\":{\"outlinewidth\":1,\"tickcolor\":\"rgb(36,36,36)\",\"ticks\":\"outside\"},\"type\":\"mesh3d\"}],\"parcoords\":[{\"line\":{\"colorbar\":{\"outlinewidth\":1,\"tickcolor\":\"rgb(36,36,36)\",\"ticks\":\"outside\"}},\"type\":\"parcoords\"}],\"pie\":[{\"automargin\":true,\"type\":\"pie\"}],\"scatter3d\":[{\"line\":{\"colorbar\":{\"outlinewidth\":1,\"tickcolor\":\"rgb(36,36,36)\",\"ticks\":\"outside\"}},\"marker\":{\"colorbar\":{\"outlinewidth\":1,\"tickcolor\":\"rgb(36,36,36)\",\"ticks\":\"outside\"}},\"type\":\"scatter3d\"}],\"scattercarpet\":[{\"marker\":{\"colorbar\":{\"outlinewidth\":1,\"tickcolor\":\"rgb(36,36,36)\",\"ticks\":\"outside\"}},\"type\":\"scattercarpet\"}],\"scattergeo\":[{\"marker\":{\"colorbar\":{\"outlinewidth\":1,\"tickcolor\":\"rgb(36,36,36)\",\"ticks\":\"outside\"}},\"type\":\"scattergeo\"}],\"scattergl\":[{\"marker\":{\"colorbar\":{\"outlinewidth\":1,\"tickcolor\":\"rgb(36,36,36)\",\"ticks\":\"outside\"}},\"type\":\"scattergl\"}],\"scattermapbox\":[{\"marker\":{\"colorbar\":{\"outlinewidth\":1,\"tickcolor\":\"rgb(36,36,36)\",\"ticks\":\"outside\"}},\"type\":\"scattermapbox\"}],\"scatterpolargl\":[{\"marker\":{\"colorbar\":{\"outlinewidth\":1,\"tickcolor\":\"rgb(36,36,36)\",\"ticks\":\"outside\"}},\"type\":\"scatterpolargl\"}],\"scatterpolar\":[{\"marker\":{\"colorbar\":{\"outlinewidth\":1,\"tickcolor\":\"rgb(36,36,36)\",\"ticks\":\"outside\"}},\"type\":\"scatterpolar\"}],\"scatter\":[{\"fillpattern\":{\"fillmode\":\"overlay\",\"size\":10,\"solidity\":0.2},\"type\":\"scatter\"}],\"scatterternary\":[{\"marker\":{\"colorbar\":{\"outlinewidth\":1,\"tickcolor\":\"rgb(36,36,36)\",\"ticks\":\"outside\"}},\"type\":\"scatterternary\"}],\"surface\":[{\"colorbar\":{\"outlinewidth\":1,\"tickcolor\":\"rgb(36,36,36)\",\"ticks\":\"outside\"},\"colorscale\":[[0.0,\"#440154\"],[0.1111111111111111,\"#482878\"],[0.2222222222222222,\"#3e4989\"],[0.3333333333333333,\"#31688e\"],[0.4444444444444444,\"#26828e\"],[0.5555555555555556,\"#1f9e89\"],[0.6666666666666666,\"#35b779\"],[0.7777777777777778,\"#6ece58\"],[0.8888888888888888,\"#b5de2b\"],[1.0,\"#fde725\"]],\"type\":\"surface\"}],\"table\":[{\"cells\":{\"fill\":{\"color\":\"rgb(237,237,237)\"},\"line\":{\"color\":\"white\"}},\"header\":{\"fill\":{\"color\":\"rgb(217,217,217)\"},\"line\":{\"color\":\"white\"}},\"type\":\"table\"}]},\"layout\":{\"annotationdefaults\":{\"arrowhead\":0,\"arrowwidth\":1},\"autotypenumbers\":\"strict\",\"coloraxis\":{\"colorbar\":{\"outlinewidth\":1,\"tickcolor\":\"rgb(36,36,36)\",\"ticks\":\"outside\"}},\"colorscale\":{\"diverging\":[[0.0,\"rgb(103,0,31)\"],[0.1,\"rgb(178,24,43)\"],[0.2,\"rgb(214,96,77)\"],[0.3,\"rgb(244,165,130)\"],[0.4,\"rgb(253,219,199)\"],[0.5,\"rgb(247,247,247)\"],[0.6,\"rgb(209,229,240)\"],[0.7,\"rgb(146,197,222)\"],[0.8,\"rgb(67,147,195)\"],[0.9,\"rgb(33,102,172)\"],[1.0,\"rgb(5,48,97)\"]],\"sequential\":[[0.0,\"#440154\"],[0.1111111111111111,\"#482878\"],[0.2222222222222222,\"#3e4989\"],[0.3333333333333333,\"#31688e\"],[0.4444444444444444,\"#26828e\"],[0.5555555555555556,\"#1f9e89\"],[0.6666666666666666,\"#35b779\"],[0.7777777777777778,\"#6ece58\"],[0.8888888888888888,\"#b5de2b\"],[1.0,\"#fde725\"]],\"sequentialminus\":[[0.0,\"#440154\"],[0.1111111111111111,\"#482878\"],[0.2222222222222222,\"#3e4989\"],[0.3333333333333333,\"#31688e\"],[0.4444444444444444,\"#26828e\"],[0.5555555555555556,\"#1f9e89\"],[0.6666666666666666,\"#35b779\"],[0.7777777777777778,\"#6ece58\"],[0.8888888888888888,\"#b5de2b\"],[1.0,\"#fde725\"]]},\"colorway\":[\"#1F77B4\",\"#FF7F0E\",\"#2CA02C\",\"#D62728\",\"#9467BD\",\"#8C564B\",\"#E377C2\",\"#7F7F7F\",\"#BCBD22\",\"#17BECF\"],\"font\":{\"color\":\"rgb(36,36,36)\"},\"geo\":{\"bgcolor\":\"white\",\"lakecolor\":\"white\",\"landcolor\":\"white\",\"showlakes\":true,\"showland\":true,\"subunitcolor\":\"white\"},\"hoverlabel\":{\"align\":\"left\"},\"hovermode\":\"closest\",\"mapbox\":{\"style\":\"light\"},\"paper_bgcolor\":\"white\",\"plot_bgcolor\":\"white\",\"polar\":{\"angularaxis\":{\"gridcolor\":\"rgb(232,232,232)\",\"linecolor\":\"rgb(36,36,36)\",\"showgrid\":false,\"showline\":true,\"ticks\":\"outside\"},\"bgcolor\":\"white\",\"radialaxis\":{\"gridcolor\":\"rgb(232,232,232)\",\"linecolor\":\"rgb(36,36,36)\",\"showgrid\":false,\"showline\":true,\"ticks\":\"outside\"}},\"scene\":{\"xaxis\":{\"backgroundcolor\":\"white\",\"gridcolor\":\"rgb(232,232,232)\",\"gridwidth\":2,\"linecolor\":\"rgb(36,36,36)\",\"showbackground\":true,\"showgrid\":false,\"showline\":true,\"ticks\":\"outside\",\"zeroline\":false,\"zerolinecolor\":\"rgb(36,36,36)\"},\"yaxis\":{\"backgroundcolor\":\"white\",\"gridcolor\":\"rgb(232,232,232)\",\"gridwidth\":2,\"linecolor\":\"rgb(36,36,36)\",\"showbackground\":true,\"showgrid\":false,\"showline\":true,\"ticks\":\"outside\",\"zeroline\":false,\"zerolinecolor\":\"rgb(36,36,36)\"},\"zaxis\":{\"backgroundcolor\":\"white\",\"gridcolor\":\"rgb(232,232,232)\",\"gridwidth\":2,\"linecolor\":\"rgb(36,36,36)\",\"showbackground\":true,\"showgrid\":false,\"showline\":true,\"ticks\":\"outside\",\"zeroline\":false,\"zerolinecolor\":\"rgb(36,36,36)\"}},\"shapedefaults\":{\"fillcolor\":\"black\",\"line\":{\"width\":0},\"opacity\":0.3},\"ternary\":{\"aaxis\":{\"gridcolor\":\"rgb(232,232,232)\",\"linecolor\":\"rgb(36,36,36)\",\"showgrid\":false,\"showline\":true,\"ticks\":\"outside\"},\"baxis\":{\"gridcolor\":\"rgb(232,232,232)\",\"linecolor\":\"rgb(36,36,36)\",\"showgrid\":false,\"showline\":true,\"ticks\":\"outside\"},\"bgcolor\":\"white\",\"caxis\":{\"gridcolor\":\"rgb(232,232,232)\",\"linecolor\":\"rgb(36,36,36)\",\"showgrid\":false,\"showline\":true,\"ticks\":\"outside\"}},\"title\":{\"x\":0.05},\"xaxis\":{\"automargin\":true,\"gridcolor\":\"rgb(232,232,232)\",\"linecolor\":\"rgb(36,36,36)\",\"showgrid\":false,\"showline\":true,\"ticks\":\"outside\",\"title\":{\"standoff\":15},\"zeroline\":false,\"zerolinecolor\":\"rgb(36,36,36)\"},\"yaxis\":{\"automargin\":true,\"gridcolor\":\"rgb(232,232,232)\",\"linecolor\":\"rgb(36,36,36)\",\"showgrid\":false,\"showline\":true,\"ticks\":\"outside\",\"title\":{\"standoff\":15},\"zeroline\":false,\"zerolinecolor\":\"rgb(36,36,36)\"}}},\"xaxis\":{\"anchor\":\"y\",\"domain\":[0.0,1.0],\"title\":{\"text\":\"\"},\"visible\":false,\"range\":[-2.4505930185317992,-0.0661118607968092]},\"yaxis\":{\"anchor\":\"x\",\"domain\":[0.0,1.0],\"title\":{\"text\":\"\"},\"visible\":false,\"range\":[-1.1712080657482147,1.816083598136902]},\"legend\":{\"tracegroupgap\":0,\"itemsizing\":\"constant\"},\"margin\":{\"t\":60},\"title\":{\"font\":{\"size\":22,\"color\":\"Black\"},\"text\":\"\\u003cb\\u003eIntertopic Distance Map\\u003c\\u002fb\\u003e\",\"y\":0.95,\"x\":0.5,\"xanchor\":\"center\",\"yanchor\":\"top\"},\"hoverlabel\":{\"font\":{\"size\":16,\"family\":\"Rockwell\"},\"bgcolor\":\"white\"},\"width\":650,\"height\":650,\"sliders\":[{\"active\":0,\"pad\":{\"t\":50},\"steps\":[{\"args\":[{\"marker.color\":[[\"red\",\"#B0BEC5\",\"#B0BEC5\",\"#B0BEC5\",\"#B0BEC5\",\"#B0BEC5\",\"#B0BEC5\"]]}],\"label\":\"Topic 0\",\"method\":\"update\"},{\"args\":[{\"marker.color\":[[\"#B0BEC5\",\"red\",\"#B0BEC5\",\"#B0BEC5\",\"#B0BEC5\",\"#B0BEC5\",\"#B0BEC5\"]]}],\"label\":\"Topic 1\",\"method\":\"update\"},{\"args\":[{\"marker.color\":[[\"#B0BEC5\",\"#B0BEC5\",\"red\",\"#B0BEC5\",\"#B0BEC5\",\"#B0BEC5\",\"#B0BEC5\"]]}],\"label\":\"Topic 2\",\"method\":\"update\"},{\"args\":[{\"marker.color\":[[\"#B0BEC5\",\"#B0BEC5\",\"#B0BEC5\",\"red\",\"#B0BEC5\",\"#B0BEC5\",\"#B0BEC5\"]]}],\"label\":\"Topic 3\",\"method\":\"update\"},{\"args\":[{\"marker.color\":[[\"#B0BEC5\",\"#B0BEC5\",\"#B0BEC5\",\"#B0BEC5\",\"red\",\"#B0BEC5\",\"#B0BEC5\"]]}],\"label\":\"Topic 4\",\"method\":\"update\"},{\"args\":[{\"marker.color\":[[\"#B0BEC5\",\"#B0BEC5\",\"#B0BEC5\",\"#B0BEC5\",\"#B0BEC5\",\"red\",\"#B0BEC5\"]]}],\"label\":\"Topic 5\",\"method\":\"update\"},{\"args\":[{\"marker.color\":[[\"#B0BEC5\",\"#B0BEC5\",\"#B0BEC5\",\"#B0BEC5\",\"#B0BEC5\",\"#B0BEC5\",\"red\"]]}],\"label\":\"Topic 6\",\"method\":\"update\"}]}],\"shapes\":[{\"line\":{\"color\":\"#CFD8DC\",\"width\":2},\"type\":\"line\",\"x0\":-1.2583524396643042,\"x1\":-1.2583524396643042,\"y0\":-1.1712080657482147,\"y1\":1.816083598136902},{\"line\":{\"color\":\"#9E9E9E\",\"width\":2},\"type\":\"line\",\"x0\":-2.4505930185317992,\"x1\":-0.0661118607968092,\"y0\":0.3224377661943436,\"y1\":0.3224377661943436}],\"annotations\":[{\"showarrow\":false,\"text\":\"D1\",\"x\":-2.4505930185317992,\"y\":0.3224377661943436,\"yshift\":10},{\"showarrow\":false,\"text\":\"D2\",\"x\":-1.2583524396643042,\"xshift\":10,\"y\":1.816083598136902}]},                        {\"responsive\": true}                    ).then(function(){\n",
              "                            \n",
              "var gd = document.getElementById('8c608d57-ea10-4925-9135-e4a135809624');\n",
              "var x = new MutationObserver(function (mutations, observer) {{\n",
              "        var display = window.getComputedStyle(gd).display;\n",
              "        if (!display || display === 'none') {{\n",
              "            console.log([gd, 'removed!']);\n",
              "            Plotly.purge(gd);\n",
              "            observer.disconnect();\n",
              "        }}\n",
              "}});\n",
              "\n",
              "// Listen for the removal of the full notebook cells\n",
              "var notebookContainer = gd.closest('#notebook-container');\n",
              "if (notebookContainer) {{\n",
              "    x.observe(notebookContainer, {childList: true});\n",
              "}}\n",
              "\n",
              "// Listen for the clearing of the current output cell\n",
              "var outputEl = gd.closest('.output');\n",
              "if (outputEl) {{\n",
              "    x.observe(outputEl, {childList: true});\n",
              "}}\n",
              "\n",
              "                        })                };                            </script>        </div>\n",
              "</body>\n",
              "</html>"
            ]
          },
          "metadata": {}
        }
      ],
      "source": [
        "saved_model.visualize_topics()"
      ]
    },
    {
      "cell_type": "code",
      "execution_count": 30,
      "metadata": {
        "colab": {
          "base_uri": "https://localhost:8080/",
          "height": 617
        },
        "id": "znLbo6LUA9rd",
        "outputId": "b7232116-68b9-49e3-c068-f5ff4c560574"
      },
      "outputs": [
        {
          "output_type": "display_data",
          "data": {
            "text/html": [
              "<html>\n",
              "<head><meta charset=\"utf-8\" /></head>\n",
              "<body>\n",
              "    <div>            <script src=\"https://cdnjs.cloudflare.com/ajax/libs/mathjax/2.7.5/MathJax.js?config=TeX-AMS-MML_SVG\"></script><script type=\"text/javascript\">if (window.MathJax && window.MathJax.Hub && window.MathJax.Hub.Config) {window.MathJax.Hub.Config({SVG: {font: \"STIX-Web\"}});}</script>                <script type=\"text/javascript\">window.PlotlyConfig = {MathJaxConfig: 'local'};</script>\n",
              "        <script charset=\"utf-8\" src=\"https://cdn.plot.ly/plotly-2.24.1.min.js\"></script>                <div id=\"6fefbb46-f502-4953-b269-ee581f101513\" class=\"plotly-graph-div\" style=\"height:600px; width:1200px;\"></div>            <script type=\"text/javascript\">                                    window.PLOTLYENV=window.PLOTLYENV || {};                                    if (document.getElementById(\"6fefbb46-f502-4953-b269-ee581f101513\")) {                    Plotly.newPlot(                        \"6fefbb46-f502-4953-b269-ee581f101513\",                        [{\"marker\":{\"color\":\"#D55E00\"},\"orientation\":\"h\",\"x\":[0.016278270752830303,0.01638097631024246,0.016533662820816957,0.01663924702450869,0.019510942009479667,0.019830041603908357,0.021200409579155092,0.021632261686223855,0.02220664048865286,0.030971695363553115],\"y\":[\"industry  \",\"flow  \",\"dram  \",\"end  \",\"margin  \",\"customers  \",\"supply  \",\"cash  \",\"demand  \",\"growth  \"],\"type\":\"bar\",\"xaxis\":\"x\",\"yaxis\":\"y\"},{\"marker\":{\"color\":\"#0072B2\"},\"orientation\":\"h\",\"x\":[0.015115442093177816,0.01599627565740939,0.01637675574524087,0.01657026153030265,0.01829121195719032,0.018946620622435538,0.020602818828439295,0.02096141584138961,0.025451770952510392,0.032877211777046486],\"y\":[\"health  \",\"starbucks  \",\"investments  \",\"customers  \",\"guests  \",\"team  \",\"store  \",\"sales  \",\"stores  \",\"growth  \"],\"type\":\"bar\",\"xaxis\":\"x2\",\"yaxis\":\"y2\"},{\"marker\":{\"color\":\"#CC79A7\"},\"orientation\":\"h\",\"x\":[0.016207149963297803,0.016380964906535685,0.017177212013538185,0.01727218346359207,0.017396774295749182,0.01936384058883031,0.020202304897592453,0.0222154692725875,0.025224442483264286,0.03131860834303582],\"y\":[\"value  \",\"permian  \",\"cost  \",\"dividend  \",\"flow  \",\"carbon  \",\"production  \",\"oil  \",\"debt  \",\"cash  \"],\"type\":\"bar\",\"xaxis\":\"x3\",\"yaxis\":\"y3\"},{\"marker\":{\"color\":\"#E69F00\"},\"orientation\":\"h\",\"x\":[0.01914205655731475,0.019259546453482514,0.01955718397342436,0.022813575690133557,0.023066623888944548,0.02365595787695739,0.026939810676247188,0.027278810209444795,0.02954602688910936,0.04481316039281796],\"y\":[\"net  \",\"family  \",\"store  \",\"growth  \",\"costs  \",\"fedex  \",\"fiscal  \",\"sales  \",\"tree  \",\"dollar  \"],\"type\":\"bar\",\"xaxis\":\"x4\",\"yaxis\":\"y4\"},{\"marker\":{\"color\":\"#56B4E9\"},\"orientation\":\"h\",\"x\":[0.017566559021067484,0.01784872566259215,0.017953621050692252,0.01819053582201494,0.018917784054019563,0.022958652322622564,0.02344249280703237,0.024930205421425145,0.027077028176867222,0.028551487478929216],\"y\":[\"airlines  \",\"people  \",\"customers  \",\"network  \",\"airline  \",\"united  \",\"capacity  \",\"demand  \",\"travel  \",\"aircraft  \"],\"type\":\"bar\",\"xaxis\":\"x5\",\"yaxis\":\"y5\"},{\"marker\":{\"color\":\"#009E73\"},\"orientation\":\"h\",\"x\":[0.021665177572302394,0.022068322602341265,0.022348433298752027,0.022497980583383755,0.023685870694405888,0.023905232054131274,0.025064748266161202,0.02537480588882709,0.02653057580932403,0.027340242710054027],\"y\":[\"consumer  \",\"nii  \",\"rates  \",\"deposits  \",\"net  \",\"higher  \",\"loans  \",\"banking  \",\"growth  \",\"loan  \"],\"type\":\"bar\",\"xaxis\":\"x6\",\"yaxis\":\"y6\"},{\"marker\":{\"color\":\"#F0E442\"},\"orientation\":\"h\",\"x\":[0.015407561426246474,0.01586536109325795,0.01595209069826744,0.016622675197291877,0.01884125017906134,0.019237389179602337,0.023186908072126634,0.025162407483865265,0.02986594742508959,0.030480746350030525],\"y\":[\"center  \",\"covid  \",\"products  \",\"driven  \",\"people  \",\"johnson  \",\"nvidia  \",\"data  \",\"ai  \",\"growth  \"],\"type\":\"bar\",\"xaxis\":\"x7\",\"yaxis\":\"y7\"}],                        {\"template\":{\"data\":{\"barpolar\":[{\"marker\":{\"line\":{\"color\":\"white\",\"width\":0.5},\"pattern\":{\"fillmode\":\"overlay\",\"size\":10,\"solidity\":0.2}},\"type\":\"barpolar\"}],\"bar\":[{\"error_x\":{\"color\":\"#2a3f5f\"},\"error_y\":{\"color\":\"#2a3f5f\"},\"marker\":{\"line\":{\"color\":\"white\",\"width\":0.5},\"pattern\":{\"fillmode\":\"overlay\",\"size\":10,\"solidity\":0.2}},\"type\":\"bar\"}],\"carpet\":[{\"aaxis\":{\"endlinecolor\":\"#2a3f5f\",\"gridcolor\":\"#C8D4E3\",\"linecolor\":\"#C8D4E3\",\"minorgridcolor\":\"#C8D4E3\",\"startlinecolor\":\"#2a3f5f\"},\"baxis\":{\"endlinecolor\":\"#2a3f5f\",\"gridcolor\":\"#C8D4E3\",\"linecolor\":\"#C8D4E3\",\"minorgridcolor\":\"#C8D4E3\",\"startlinecolor\":\"#2a3f5f\"},\"type\":\"carpet\"}],\"choropleth\":[{\"colorbar\":{\"outlinewidth\":0,\"ticks\":\"\"},\"type\":\"choropleth\"}],\"contourcarpet\":[{\"colorbar\":{\"outlinewidth\":0,\"ticks\":\"\"},\"type\":\"contourcarpet\"}],\"contour\":[{\"colorbar\":{\"outlinewidth\":0,\"ticks\":\"\"},\"colorscale\":[[0.0,\"#0d0887\"],[0.1111111111111111,\"#46039f\"],[0.2222222222222222,\"#7201a8\"],[0.3333333333333333,\"#9c179e\"],[0.4444444444444444,\"#bd3786\"],[0.5555555555555556,\"#d8576b\"],[0.6666666666666666,\"#ed7953\"],[0.7777777777777778,\"#fb9f3a\"],[0.8888888888888888,\"#fdca26\"],[1.0,\"#f0f921\"]],\"type\":\"contour\"}],\"heatmapgl\":[{\"colorbar\":{\"outlinewidth\":0,\"ticks\":\"\"},\"colorscale\":[[0.0,\"#0d0887\"],[0.1111111111111111,\"#46039f\"],[0.2222222222222222,\"#7201a8\"],[0.3333333333333333,\"#9c179e\"],[0.4444444444444444,\"#bd3786\"],[0.5555555555555556,\"#d8576b\"],[0.6666666666666666,\"#ed7953\"],[0.7777777777777778,\"#fb9f3a\"],[0.8888888888888888,\"#fdca26\"],[1.0,\"#f0f921\"]],\"type\":\"heatmapgl\"}],\"heatmap\":[{\"colorbar\":{\"outlinewidth\":0,\"ticks\":\"\"},\"colorscale\":[[0.0,\"#0d0887\"],[0.1111111111111111,\"#46039f\"],[0.2222222222222222,\"#7201a8\"],[0.3333333333333333,\"#9c179e\"],[0.4444444444444444,\"#bd3786\"],[0.5555555555555556,\"#d8576b\"],[0.6666666666666666,\"#ed7953\"],[0.7777777777777778,\"#fb9f3a\"],[0.8888888888888888,\"#fdca26\"],[1.0,\"#f0f921\"]],\"type\":\"heatmap\"}],\"histogram2dcontour\":[{\"colorbar\":{\"outlinewidth\":0,\"ticks\":\"\"},\"colorscale\":[[0.0,\"#0d0887\"],[0.1111111111111111,\"#46039f\"],[0.2222222222222222,\"#7201a8\"],[0.3333333333333333,\"#9c179e\"],[0.4444444444444444,\"#bd3786\"],[0.5555555555555556,\"#d8576b\"],[0.6666666666666666,\"#ed7953\"],[0.7777777777777778,\"#fb9f3a\"],[0.8888888888888888,\"#fdca26\"],[1.0,\"#f0f921\"]],\"type\":\"histogram2dcontour\"}],\"histogram2d\":[{\"colorbar\":{\"outlinewidth\":0,\"ticks\":\"\"},\"colorscale\":[[0.0,\"#0d0887\"],[0.1111111111111111,\"#46039f\"],[0.2222222222222222,\"#7201a8\"],[0.3333333333333333,\"#9c179e\"],[0.4444444444444444,\"#bd3786\"],[0.5555555555555556,\"#d8576b\"],[0.6666666666666666,\"#ed7953\"],[0.7777777777777778,\"#fb9f3a\"],[0.8888888888888888,\"#fdca26\"],[1.0,\"#f0f921\"]],\"type\":\"histogram2d\"}],\"histogram\":[{\"marker\":{\"pattern\":{\"fillmode\":\"overlay\",\"size\":10,\"solidity\":0.2}},\"type\":\"histogram\"}],\"mesh3d\":[{\"colorbar\":{\"outlinewidth\":0,\"ticks\":\"\"},\"type\":\"mesh3d\"}],\"parcoords\":[{\"line\":{\"colorbar\":{\"outlinewidth\":0,\"ticks\":\"\"}},\"type\":\"parcoords\"}],\"pie\":[{\"automargin\":true,\"type\":\"pie\"}],\"scatter3d\":[{\"line\":{\"colorbar\":{\"outlinewidth\":0,\"ticks\":\"\"}},\"marker\":{\"colorbar\":{\"outlinewidth\":0,\"ticks\":\"\"}},\"type\":\"scatter3d\"}],\"scattercarpet\":[{\"marker\":{\"colorbar\":{\"outlinewidth\":0,\"ticks\":\"\"}},\"type\":\"scattercarpet\"}],\"scattergeo\":[{\"marker\":{\"colorbar\":{\"outlinewidth\":0,\"ticks\":\"\"}},\"type\":\"scattergeo\"}],\"scattergl\":[{\"marker\":{\"colorbar\":{\"outlinewidth\":0,\"ticks\":\"\"}},\"type\":\"scattergl\"}],\"scattermapbox\":[{\"marker\":{\"colorbar\":{\"outlinewidth\":0,\"ticks\":\"\"}},\"type\":\"scattermapbox\"}],\"scatterpolargl\":[{\"marker\":{\"colorbar\":{\"outlinewidth\":0,\"ticks\":\"\"}},\"type\":\"scatterpolargl\"}],\"scatterpolar\":[{\"marker\":{\"colorbar\":{\"outlinewidth\":0,\"ticks\":\"\"}},\"type\":\"scatterpolar\"}],\"scatter\":[{\"fillpattern\":{\"fillmode\":\"overlay\",\"size\":10,\"solidity\":0.2},\"type\":\"scatter\"}],\"scatterternary\":[{\"marker\":{\"colorbar\":{\"outlinewidth\":0,\"ticks\":\"\"}},\"type\":\"scatterternary\"}],\"surface\":[{\"colorbar\":{\"outlinewidth\":0,\"ticks\":\"\"},\"colorscale\":[[0.0,\"#0d0887\"],[0.1111111111111111,\"#46039f\"],[0.2222222222222222,\"#7201a8\"],[0.3333333333333333,\"#9c179e\"],[0.4444444444444444,\"#bd3786\"],[0.5555555555555556,\"#d8576b\"],[0.6666666666666666,\"#ed7953\"],[0.7777777777777778,\"#fb9f3a\"],[0.8888888888888888,\"#fdca26\"],[1.0,\"#f0f921\"]],\"type\":\"surface\"}],\"table\":[{\"cells\":{\"fill\":{\"color\":\"#EBF0F8\"},\"line\":{\"color\":\"white\"}},\"header\":{\"fill\":{\"color\":\"#C8D4E3\"},\"line\":{\"color\":\"white\"}},\"type\":\"table\"}]},\"layout\":{\"annotationdefaults\":{\"arrowcolor\":\"#2a3f5f\",\"arrowhead\":0,\"arrowwidth\":1},\"autotypenumbers\":\"strict\",\"coloraxis\":{\"colorbar\":{\"outlinewidth\":0,\"ticks\":\"\"}},\"colorscale\":{\"diverging\":[[0,\"#8e0152\"],[0.1,\"#c51b7d\"],[0.2,\"#de77ae\"],[0.3,\"#f1b6da\"],[0.4,\"#fde0ef\"],[0.5,\"#f7f7f7\"],[0.6,\"#e6f5d0\"],[0.7,\"#b8e186\"],[0.8,\"#7fbc41\"],[0.9,\"#4d9221\"],[1,\"#276419\"]],\"sequential\":[[0.0,\"#0d0887\"],[0.1111111111111111,\"#46039f\"],[0.2222222222222222,\"#7201a8\"],[0.3333333333333333,\"#9c179e\"],[0.4444444444444444,\"#bd3786\"],[0.5555555555555556,\"#d8576b\"],[0.6666666666666666,\"#ed7953\"],[0.7777777777777778,\"#fb9f3a\"],[0.8888888888888888,\"#fdca26\"],[1.0,\"#f0f921\"]],\"sequentialminus\":[[0.0,\"#0d0887\"],[0.1111111111111111,\"#46039f\"],[0.2222222222222222,\"#7201a8\"],[0.3333333333333333,\"#9c179e\"],[0.4444444444444444,\"#bd3786\"],[0.5555555555555556,\"#d8576b\"],[0.6666666666666666,\"#ed7953\"],[0.7777777777777778,\"#fb9f3a\"],[0.8888888888888888,\"#fdca26\"],[1.0,\"#f0f921\"]]},\"colorway\":[\"#636efa\",\"#EF553B\",\"#00cc96\",\"#ab63fa\",\"#FFA15A\",\"#19d3f3\",\"#FF6692\",\"#B6E880\",\"#FF97FF\",\"#FECB52\"],\"font\":{\"color\":\"#2a3f5f\"},\"geo\":{\"bgcolor\":\"white\",\"lakecolor\":\"white\",\"landcolor\":\"white\",\"showlakes\":true,\"showland\":true,\"subunitcolor\":\"#C8D4E3\"},\"hoverlabel\":{\"align\":\"left\"},\"hovermode\":\"closest\",\"mapbox\":{\"style\":\"light\"},\"paper_bgcolor\":\"white\",\"plot_bgcolor\":\"white\",\"polar\":{\"angularaxis\":{\"gridcolor\":\"#EBF0F8\",\"linecolor\":\"#EBF0F8\",\"ticks\":\"\"},\"bgcolor\":\"white\",\"radialaxis\":{\"gridcolor\":\"#EBF0F8\",\"linecolor\":\"#EBF0F8\",\"ticks\":\"\"}},\"scene\":{\"xaxis\":{\"backgroundcolor\":\"white\",\"gridcolor\":\"#DFE8F3\",\"gridwidth\":2,\"linecolor\":\"#EBF0F8\",\"showbackground\":true,\"ticks\":\"\",\"zerolinecolor\":\"#EBF0F8\"},\"yaxis\":{\"backgroundcolor\":\"white\",\"gridcolor\":\"#DFE8F3\",\"gridwidth\":2,\"linecolor\":\"#EBF0F8\",\"showbackground\":true,\"ticks\":\"\",\"zerolinecolor\":\"#EBF0F8\"},\"zaxis\":{\"backgroundcolor\":\"white\",\"gridcolor\":\"#DFE8F3\",\"gridwidth\":2,\"linecolor\":\"#EBF0F8\",\"showbackground\":true,\"ticks\":\"\",\"zerolinecolor\":\"#EBF0F8\"}},\"shapedefaults\":{\"line\":{\"color\":\"#2a3f5f\"}},\"ternary\":{\"aaxis\":{\"gridcolor\":\"#DFE8F3\",\"linecolor\":\"#A2B1C6\",\"ticks\":\"\"},\"baxis\":{\"gridcolor\":\"#DFE8F3\",\"linecolor\":\"#A2B1C6\",\"ticks\":\"\"},\"bgcolor\":\"white\",\"caxis\":{\"gridcolor\":\"#DFE8F3\",\"linecolor\":\"#A2B1C6\",\"ticks\":\"\"}},\"title\":{\"x\":0.05},\"xaxis\":{\"automargin\":true,\"gridcolor\":\"#EBF0F8\",\"linecolor\":\"#EBF0F8\",\"ticks\":\"\",\"title\":{\"standoff\":15},\"zerolinecolor\":\"#EBF0F8\",\"zerolinewidth\":2},\"yaxis\":{\"automargin\":true,\"gridcolor\":\"#EBF0F8\",\"linecolor\":\"#EBF0F8\",\"ticks\":\"\",\"title\":{\"standoff\":15},\"zerolinecolor\":\"#EBF0F8\",\"zerolinewidth\":2}}},\"xaxis\":{\"anchor\":\"y\",\"domain\":[0.0,0.175],\"showgrid\":true},\"yaxis\":{\"anchor\":\"x\",\"domain\":[0.6000000000000001,1.0],\"showgrid\":true},\"xaxis2\":{\"anchor\":\"y2\",\"domain\":[0.275,0.45],\"showgrid\":true},\"yaxis2\":{\"anchor\":\"x2\",\"domain\":[0.6000000000000001,1.0],\"showgrid\":true},\"xaxis3\":{\"anchor\":\"y3\",\"domain\":[0.55,0.7250000000000001],\"showgrid\":true},\"yaxis3\":{\"anchor\":\"x3\",\"domain\":[0.6000000000000001,1.0],\"showgrid\":true},\"xaxis4\":{\"anchor\":\"y4\",\"domain\":[0.825,1.0],\"showgrid\":true},\"yaxis4\":{\"anchor\":\"x4\",\"domain\":[0.6000000000000001,1.0],\"showgrid\":true},\"xaxis5\":{\"anchor\":\"y5\",\"domain\":[0.0,0.175],\"showgrid\":true},\"yaxis5\":{\"anchor\":\"x5\",\"domain\":[0.0,0.4],\"showgrid\":true},\"xaxis6\":{\"anchor\":\"y6\",\"domain\":[0.275,0.45],\"showgrid\":true},\"yaxis6\":{\"anchor\":\"x6\",\"domain\":[0.0,0.4],\"showgrid\":true},\"xaxis7\":{\"anchor\":\"y7\",\"domain\":[0.55,0.7250000000000001],\"showgrid\":true},\"yaxis7\":{\"anchor\":\"x7\",\"domain\":[0.0,0.4],\"showgrid\":true},\"xaxis8\":{\"anchor\":\"y8\",\"domain\":[0.825,1.0],\"showgrid\":true},\"yaxis8\":{\"anchor\":\"x8\",\"domain\":[0.0,0.4],\"showgrid\":true},\"annotations\":[{\"font\":{\"size\":16},\"showarrow\":false,\"text\":\"Topic 0\",\"x\":0.0875,\"xanchor\":\"center\",\"xref\":\"paper\",\"y\":1.0,\"yanchor\":\"bottom\",\"yref\":\"paper\"},{\"font\":{\"size\":16},\"showarrow\":false,\"text\":\"Topic 1\",\"x\":0.36250000000000004,\"xanchor\":\"center\",\"xref\":\"paper\",\"y\":1.0,\"yanchor\":\"bottom\",\"yref\":\"paper\"},{\"font\":{\"size\":16},\"showarrow\":false,\"text\":\"Topic 2\",\"x\":0.6375000000000001,\"xanchor\":\"center\",\"xref\":\"paper\",\"y\":1.0,\"yanchor\":\"bottom\",\"yref\":\"paper\"},{\"font\":{\"size\":16},\"showarrow\":false,\"text\":\"Topic 3\",\"x\":0.9125,\"xanchor\":\"center\",\"xref\":\"paper\",\"y\":1.0,\"yanchor\":\"bottom\",\"yref\":\"paper\"},{\"font\":{\"size\":16},\"showarrow\":false,\"text\":\"Topic 4\",\"x\":0.0875,\"xanchor\":\"center\",\"xref\":\"paper\",\"y\":0.4,\"yanchor\":\"bottom\",\"yref\":\"paper\"},{\"font\":{\"size\":16},\"showarrow\":false,\"text\":\"Topic 5\",\"x\":0.36250000000000004,\"xanchor\":\"center\",\"xref\":\"paper\",\"y\":0.4,\"yanchor\":\"bottom\",\"yref\":\"paper\"},{\"font\":{\"size\":16},\"showarrow\":false,\"text\":\"Topic 6\",\"x\":0.6375000000000001,\"xanchor\":\"center\",\"xref\":\"paper\",\"y\":0.4,\"yanchor\":\"bottom\",\"yref\":\"paper\"}],\"title\":{\"font\":{\"size\":22,\"color\":\"Black\"},\"text\":\"Topic Word Scores\",\"x\":0.5,\"xanchor\":\"center\",\"yanchor\":\"top\"},\"hoverlabel\":{\"font\":{\"size\":16,\"family\":\"Rockwell\"},\"bgcolor\":\"white\"},\"showlegend\":false,\"width\":1200,\"height\":600},                        {\"responsive\": true}                    ).then(function(){\n",
              "                            \n",
              "var gd = document.getElementById('6fefbb46-f502-4953-b269-ee581f101513');\n",
              "var x = new MutationObserver(function (mutations, observer) {{\n",
              "        var display = window.getComputedStyle(gd).display;\n",
              "        if (!display || display === 'none') {{\n",
              "            console.log([gd, 'removed!']);\n",
              "            Plotly.purge(gd);\n",
              "            observer.disconnect();\n",
              "        }}\n",
              "}});\n",
              "\n",
              "// Listen for the removal of the full notebook cells\n",
              "var notebookContainer = gd.closest('#notebook-container');\n",
              "if (notebookContainer) {{\n",
              "    x.observe(notebookContainer, {childList: true});\n",
              "}}\n",
              "\n",
              "// Listen for the clearing of the current output cell\n",
              "var outputEl = gd.closest('.output');\n",
              "if (outputEl) {{\n",
              "    x.observe(outputEl, {childList: true});\n",
              "}}\n",
              "\n",
              "                        })                };                            </script>        </div>\n",
              "</body>\n",
              "</html>"
            ]
          },
          "metadata": {}
        }
      ],
      "source": [
        "saved_model.visualize_barchart(n_words = 10,width = 300,height=300,top_n_topics=8)"
      ]
    },
    {
      "cell_type": "code",
      "execution_count": 22,
      "metadata": {
        "colab": {
          "base_uri": "https://localhost:8080/",
          "height": 817
        },
        "id": "5GYVzBUlMa7H",
        "outputId": "c15a8024-5011-45f3-9a83-ad25571c588e"
      },
      "outputs": [
        {
          "output_type": "display_data",
          "data": {
            "text/html": [
              "<html>\n",
              "<head><meta charset=\"utf-8\" /></head>\n",
              "<body>\n",
              "    <div>            <script src=\"https://cdnjs.cloudflare.com/ajax/libs/mathjax/2.7.5/MathJax.js?config=TeX-AMS-MML_SVG\"></script><script type=\"text/javascript\">if (window.MathJax && window.MathJax.Hub && window.MathJax.Hub.Config) {window.MathJax.Hub.Config({SVG: {font: \"STIX-Web\"}});}</script>                <script type=\"text/javascript\">window.PlotlyConfig = {MathJaxConfig: 'local'};</script>\n",
              "        <script charset=\"utf-8\" src=\"https://cdn.plot.ly/plotly-2.24.1.min.js\"></script>                <div id=\"bd9b383e-14a1-49d8-87e3-7eca6f67a920\" class=\"plotly-graph-div\" style=\"height:800px; width:800px;\"></div>            <script type=\"text/javascript\">                                    window.PLOTLYENV=window.PLOTLYENV || {};                                    if (document.getElementById(\"bd9b383e-14a1-49d8-87e3-7eca6f67a920\")) {                    Plotly.newPlot(                        \"bd9b383e-14a1-49d8-87e3-7eca6f67a920\",                        [{\"coloraxis\":\"coloraxis\",\"name\":\"0\",\"x\":[\"0_growth_demand_cash\",\"1_growth_stores_sales\",\"2_cash_debt_oil\",\"3_dollar_tree_sales\",\"4_aircraft_travel_demand\",\"5_loan_growth_banking\",\"6_growth_ai_data\"],\"y\":[\"0_growth_demand_cash\",\"1_growth_stores_sales\",\"2_cash_debt_oil\",\"3_dollar_tree_sales\",\"4_aircraft_travel_demand\",\"5_loan_growth_banking\",\"6_growth_ai_data\"],\"z\":[[1.0,0.8087514818995629,0.8561969645596125,0.8547341225002569,0.6613584373000513,0.8301838266376067,0.7610013156661499],[0.8087514818995629,1.0000000000000007,0.7366111274997322,0.8247790023796921,0.6318169373572062,0.7729566555066261,0.7042400537173444],[0.8561969645596125,0.7366111274997322,1.0000000000000002,0.810332802444147,0.626349584261682,0.7830663123794439,0.6850223579511691],[0.8547341225002569,0.8247790023796921,0.810332802444147,1.0000000000000004,0.6550968185257693,0.7960385956153639,0.694743287705178],[0.6613584373000513,0.6318169373572062,0.626349584261682,0.6550968185257693,1.0000000000000009,0.6042620217109185,0.566061191727635],[0.8301838266376067,0.7729566555066261,0.7830663123794439,0.7960385956153639,0.6042620217109185,1.0000000000000002,0.7216370758507225],[0.7610013156661499,0.7042400537173444,0.6850223579511691,0.694743287705178,0.566061191727635,0.7216370758507225,1.0000000000000013]],\"type\":\"heatmap\",\"xaxis\":\"x\",\"yaxis\":\"y\",\"hovertemplate\":\"x: %{x}\\u003cbr\\u003ey: %{y}\\u003cbr\\u003eSimilarity Score: %{z}\\u003cextra\\u003e\\u003c\\u002fextra\\u003e\"}],                        {\"template\":{\"data\":{\"histogram2dcontour\":[{\"type\":\"histogram2dcontour\",\"colorbar\":{\"outlinewidth\":0,\"ticks\":\"\"},\"colorscale\":[[0.0,\"#0d0887\"],[0.1111111111111111,\"#46039f\"],[0.2222222222222222,\"#7201a8\"],[0.3333333333333333,\"#9c179e\"],[0.4444444444444444,\"#bd3786\"],[0.5555555555555556,\"#d8576b\"],[0.6666666666666666,\"#ed7953\"],[0.7777777777777778,\"#fb9f3a\"],[0.8888888888888888,\"#fdca26\"],[1.0,\"#f0f921\"]]}],\"choropleth\":[{\"type\":\"choropleth\",\"colorbar\":{\"outlinewidth\":0,\"ticks\":\"\"}}],\"histogram2d\":[{\"type\":\"histogram2d\",\"colorbar\":{\"outlinewidth\":0,\"ticks\":\"\"},\"colorscale\":[[0.0,\"#0d0887\"],[0.1111111111111111,\"#46039f\"],[0.2222222222222222,\"#7201a8\"],[0.3333333333333333,\"#9c179e\"],[0.4444444444444444,\"#bd3786\"],[0.5555555555555556,\"#d8576b\"],[0.6666666666666666,\"#ed7953\"],[0.7777777777777778,\"#fb9f3a\"],[0.8888888888888888,\"#fdca26\"],[1.0,\"#f0f921\"]]}],\"heatmap\":[{\"type\":\"heatmap\",\"colorbar\":{\"outlinewidth\":0,\"ticks\":\"\"},\"colorscale\":[[0.0,\"#0d0887\"],[0.1111111111111111,\"#46039f\"],[0.2222222222222222,\"#7201a8\"],[0.3333333333333333,\"#9c179e\"],[0.4444444444444444,\"#bd3786\"],[0.5555555555555556,\"#d8576b\"],[0.6666666666666666,\"#ed7953\"],[0.7777777777777778,\"#fb9f3a\"],[0.8888888888888888,\"#fdca26\"],[1.0,\"#f0f921\"]]}],\"heatmapgl\":[{\"type\":\"heatmapgl\",\"colorbar\":{\"outlinewidth\":0,\"ticks\":\"\"},\"colorscale\":[[0.0,\"#0d0887\"],[0.1111111111111111,\"#46039f\"],[0.2222222222222222,\"#7201a8\"],[0.3333333333333333,\"#9c179e\"],[0.4444444444444444,\"#bd3786\"],[0.5555555555555556,\"#d8576b\"],[0.6666666666666666,\"#ed7953\"],[0.7777777777777778,\"#fb9f3a\"],[0.8888888888888888,\"#fdca26\"],[1.0,\"#f0f921\"]]}],\"contourcarpet\":[{\"type\":\"contourcarpet\",\"colorbar\":{\"outlinewidth\":0,\"ticks\":\"\"}}],\"contour\":[{\"type\":\"contour\",\"colorbar\":{\"outlinewidth\":0,\"ticks\":\"\"},\"colorscale\":[[0.0,\"#0d0887\"],[0.1111111111111111,\"#46039f\"],[0.2222222222222222,\"#7201a8\"],[0.3333333333333333,\"#9c179e\"],[0.4444444444444444,\"#bd3786\"],[0.5555555555555556,\"#d8576b\"],[0.6666666666666666,\"#ed7953\"],[0.7777777777777778,\"#fb9f3a\"],[0.8888888888888888,\"#fdca26\"],[1.0,\"#f0f921\"]]}],\"surface\":[{\"type\":\"surface\",\"colorbar\":{\"outlinewidth\":0,\"ticks\":\"\"},\"colorscale\":[[0.0,\"#0d0887\"],[0.1111111111111111,\"#46039f\"],[0.2222222222222222,\"#7201a8\"],[0.3333333333333333,\"#9c179e\"],[0.4444444444444444,\"#bd3786\"],[0.5555555555555556,\"#d8576b\"],[0.6666666666666666,\"#ed7953\"],[0.7777777777777778,\"#fb9f3a\"],[0.8888888888888888,\"#fdca26\"],[1.0,\"#f0f921\"]]}],\"mesh3d\":[{\"type\":\"mesh3d\",\"colorbar\":{\"outlinewidth\":0,\"ticks\":\"\"}}],\"scatter\":[{\"fillpattern\":{\"fillmode\":\"overlay\",\"size\":10,\"solidity\":0.2},\"type\":\"scatter\"}],\"parcoords\":[{\"type\":\"parcoords\",\"line\":{\"colorbar\":{\"outlinewidth\":0,\"ticks\":\"\"}}}],\"scatterpolargl\":[{\"type\":\"scatterpolargl\",\"marker\":{\"colorbar\":{\"outlinewidth\":0,\"ticks\":\"\"}}}],\"bar\":[{\"error_x\":{\"color\":\"#2a3f5f\"},\"error_y\":{\"color\":\"#2a3f5f\"},\"marker\":{\"line\":{\"color\":\"#E5ECF6\",\"width\":0.5},\"pattern\":{\"fillmode\":\"overlay\",\"size\":10,\"solidity\":0.2}},\"type\":\"bar\"}],\"scattergeo\":[{\"type\":\"scattergeo\",\"marker\":{\"colorbar\":{\"outlinewidth\":0,\"ticks\":\"\"}}}],\"scatterpolar\":[{\"type\":\"scatterpolar\",\"marker\":{\"colorbar\":{\"outlinewidth\":0,\"ticks\":\"\"}}}],\"histogram\":[{\"marker\":{\"pattern\":{\"fillmode\":\"overlay\",\"size\":10,\"solidity\":0.2}},\"type\":\"histogram\"}],\"scattergl\":[{\"type\":\"scattergl\",\"marker\":{\"colorbar\":{\"outlinewidth\":0,\"ticks\":\"\"}}}],\"scatter3d\":[{\"type\":\"scatter3d\",\"line\":{\"colorbar\":{\"outlinewidth\":0,\"ticks\":\"\"}},\"marker\":{\"colorbar\":{\"outlinewidth\":0,\"ticks\":\"\"}}}],\"scattermapbox\":[{\"type\":\"scattermapbox\",\"marker\":{\"colorbar\":{\"outlinewidth\":0,\"ticks\":\"\"}}}],\"scatterternary\":[{\"type\":\"scatterternary\",\"marker\":{\"colorbar\":{\"outlinewidth\":0,\"ticks\":\"\"}}}],\"scattercarpet\":[{\"type\":\"scattercarpet\",\"marker\":{\"colorbar\":{\"outlinewidth\":0,\"ticks\":\"\"}}}],\"carpet\":[{\"aaxis\":{\"endlinecolor\":\"#2a3f5f\",\"gridcolor\":\"white\",\"linecolor\":\"white\",\"minorgridcolor\":\"white\",\"startlinecolor\":\"#2a3f5f\"},\"baxis\":{\"endlinecolor\":\"#2a3f5f\",\"gridcolor\":\"white\",\"linecolor\":\"white\",\"minorgridcolor\":\"white\",\"startlinecolor\":\"#2a3f5f\"},\"type\":\"carpet\"}],\"table\":[{\"cells\":{\"fill\":{\"color\":\"#EBF0F8\"},\"line\":{\"color\":\"white\"}},\"header\":{\"fill\":{\"color\":\"#C8D4E3\"},\"line\":{\"color\":\"white\"}},\"type\":\"table\"}],\"barpolar\":[{\"marker\":{\"line\":{\"color\":\"#E5ECF6\",\"width\":0.5},\"pattern\":{\"fillmode\":\"overlay\",\"size\":10,\"solidity\":0.2}},\"type\":\"barpolar\"}],\"pie\":[{\"automargin\":true,\"type\":\"pie\"}]},\"layout\":{\"autotypenumbers\":\"strict\",\"colorway\":[\"#636efa\",\"#EF553B\",\"#00cc96\",\"#ab63fa\",\"#FFA15A\",\"#19d3f3\",\"#FF6692\",\"#B6E880\",\"#FF97FF\",\"#FECB52\"],\"font\":{\"color\":\"#2a3f5f\"},\"hovermode\":\"closest\",\"hoverlabel\":{\"align\":\"left\"},\"paper_bgcolor\":\"white\",\"plot_bgcolor\":\"#E5ECF6\",\"polar\":{\"bgcolor\":\"#E5ECF6\",\"angularaxis\":{\"gridcolor\":\"white\",\"linecolor\":\"white\",\"ticks\":\"\"},\"radialaxis\":{\"gridcolor\":\"white\",\"linecolor\":\"white\",\"ticks\":\"\"}},\"ternary\":{\"bgcolor\":\"#E5ECF6\",\"aaxis\":{\"gridcolor\":\"white\",\"linecolor\":\"white\",\"ticks\":\"\"},\"baxis\":{\"gridcolor\":\"white\",\"linecolor\":\"white\",\"ticks\":\"\"},\"caxis\":{\"gridcolor\":\"white\",\"linecolor\":\"white\",\"ticks\":\"\"}},\"coloraxis\":{\"colorbar\":{\"outlinewidth\":0,\"ticks\":\"\"}},\"colorscale\":{\"sequential\":[[0.0,\"#0d0887\"],[0.1111111111111111,\"#46039f\"],[0.2222222222222222,\"#7201a8\"],[0.3333333333333333,\"#9c179e\"],[0.4444444444444444,\"#bd3786\"],[0.5555555555555556,\"#d8576b\"],[0.6666666666666666,\"#ed7953\"],[0.7777777777777778,\"#fb9f3a\"],[0.8888888888888888,\"#fdca26\"],[1.0,\"#f0f921\"]],\"sequentialminus\":[[0.0,\"#0d0887\"],[0.1111111111111111,\"#46039f\"],[0.2222222222222222,\"#7201a8\"],[0.3333333333333333,\"#9c179e\"],[0.4444444444444444,\"#bd3786\"],[0.5555555555555556,\"#d8576b\"],[0.6666666666666666,\"#ed7953\"],[0.7777777777777778,\"#fb9f3a\"],[0.8888888888888888,\"#fdca26\"],[1.0,\"#f0f921\"]],\"diverging\":[[0,\"#8e0152\"],[0.1,\"#c51b7d\"],[0.2,\"#de77ae\"],[0.3,\"#f1b6da\"],[0.4,\"#fde0ef\"],[0.5,\"#f7f7f7\"],[0.6,\"#e6f5d0\"],[0.7,\"#b8e186\"],[0.8,\"#7fbc41\"],[0.9,\"#4d9221\"],[1,\"#276419\"]]},\"xaxis\":{\"gridcolor\":\"white\",\"linecolor\":\"white\",\"ticks\":\"\",\"title\":{\"standoff\":15},\"zerolinecolor\":\"white\",\"automargin\":true,\"zerolinewidth\":2},\"yaxis\":{\"gridcolor\":\"white\",\"linecolor\":\"white\",\"ticks\":\"\",\"title\":{\"standoff\":15},\"zerolinecolor\":\"white\",\"automargin\":true,\"zerolinewidth\":2},\"scene\":{\"xaxis\":{\"backgroundcolor\":\"#E5ECF6\",\"gridcolor\":\"white\",\"linecolor\":\"white\",\"showbackground\":true,\"ticks\":\"\",\"zerolinecolor\":\"white\",\"gridwidth\":2},\"yaxis\":{\"backgroundcolor\":\"#E5ECF6\",\"gridcolor\":\"white\",\"linecolor\":\"white\",\"showbackground\":true,\"ticks\":\"\",\"zerolinecolor\":\"white\",\"gridwidth\":2},\"zaxis\":{\"backgroundcolor\":\"#E5ECF6\",\"gridcolor\":\"white\",\"linecolor\":\"white\",\"showbackground\":true,\"ticks\":\"\",\"zerolinecolor\":\"white\",\"gridwidth\":2}},\"shapedefaults\":{\"line\":{\"color\":\"#2a3f5f\"}},\"annotationdefaults\":{\"arrowcolor\":\"#2a3f5f\",\"arrowhead\":0,\"arrowwidth\":1},\"geo\":{\"bgcolor\":\"white\",\"landcolor\":\"#E5ECF6\",\"subunitcolor\":\"white\",\"showland\":true,\"showlakes\":true,\"lakecolor\":\"white\"},\"title\":{\"x\":0.05},\"mapbox\":{\"style\":\"light\"}}},\"xaxis\":{\"anchor\":\"y\",\"domain\":[0.0,1.0],\"scaleanchor\":\"y\",\"constrain\":\"domain\"},\"yaxis\":{\"anchor\":\"x\",\"domain\":[0.0,1.0],\"autorange\":\"reversed\",\"constrain\":\"domain\"},\"coloraxis\":{\"colorbar\":{\"title\":{\"text\":\"Similarity Score\"}},\"colorscale\":[[0.0,\"rgb(247,252,240)\"],[0.125,\"rgb(224,243,219)\"],[0.25,\"rgb(204,235,197)\"],[0.375,\"rgb(168,221,181)\"],[0.5,\"rgb(123,204,196)\"],[0.625,\"rgb(78,179,211)\"],[0.75,\"rgb(43,140,190)\"],[0.875,\"rgb(8,104,172)\"],[1.0,\"rgb(8,64,129)\"]]},\"margin\":{\"t\":60},\"title\":{\"font\":{\"size\":22,\"color\":\"Black\"},\"text\":\"\\u003cb\\u003eSimilarity Matrix\\u003c\\u002fb\\u003e\",\"y\":0.95,\"x\":0.55,\"xanchor\":\"center\",\"yanchor\":\"top\"},\"hoverlabel\":{\"font\":{\"size\":16,\"family\":\"Rockwell\"},\"bgcolor\":\"white\"},\"width\":800,\"height\":800,\"showlegend\":true,\"legend\":{\"title\":{\"text\":\"Trend\"}}},                        {\"responsive\": true}                    ).then(function(){\n",
              "                            \n",
              "var gd = document.getElementById('bd9b383e-14a1-49d8-87e3-7eca6f67a920');\n",
              "var x = new MutationObserver(function (mutations, observer) {{\n",
              "        var display = window.getComputedStyle(gd).display;\n",
              "        if (!display || display === 'none') {{\n",
              "            console.log([gd, 'removed!']);\n",
              "            Plotly.purge(gd);\n",
              "            observer.disconnect();\n",
              "        }}\n",
              "}});\n",
              "\n",
              "// Listen for the removal of the full notebook cells\n",
              "var notebookContainer = gd.closest('#notebook-container');\n",
              "if (notebookContainer) {{\n",
              "    x.observe(notebookContainer, {childList: true});\n",
              "}}\n",
              "\n",
              "// Listen for the clearing of the current output cell\n",
              "var outputEl = gd.closest('.output');\n",
              "if (outputEl) {{\n",
              "    x.observe(outputEl, {childList: true});\n",
              "}}\n",
              "\n",
              "                        })                };                            </script>        </div>\n",
              "</body>\n",
              "</html>"
            ]
          },
          "metadata": {}
        }
      ],
      "source": [
        "saved_model.visualize_heatmap()"
      ]
    },
    {
      "cell_type": "code",
      "execution_count": 23,
      "metadata": {
        "id": "C_u2LK0gMvjz"
      },
      "outputs": [],
      "source": [
        "import numpy as np\n",
        "np_topics = np.array(topics)\n",
        "\n",
        "# Saving the topic array to local\n",
        "# np.save(\"drive/MyDrive/topics_arr\",np_topics)\n",
        "\n",
        "# Loading the topic array from local\n",
        "# topics = np.load(\"content/drive/MyDrive/topics_arr.npy\")\n",
        "topics = np_topics.tolist()"
      ]
    },
    {
      "cell_type": "code",
      "execution_count": 24,
      "metadata": {
        "id": "UQdvnzBqNVe-"
      },
      "outputs": [],
      "source": [
        "documents = pd.DataFrame({\"Transcript\": flatten_data,\n",
        "                          \"ID\": range(len(flatten_data)),\n",
        "                          \"Topic\": topics})\n",
        "documents_per_topic = documents.groupby(['Topic'], as_index=False).agg({'Transcript': ' '.join})\n",
        "cleaned_docs = saved_model._preprocess_text(documents_per_topic.Transcript.values)"
      ]
    },
    {
      "cell_type": "code",
      "execution_count": 25,
      "metadata": {
        "id": "Yr_3bs9SNopZ"
      },
      "outputs": [],
      "source": [
        "# Extract vectorizer and analyzer from BERTopic\n",
        "vectorizer = saved_model.vectorizer_model\n",
        "analyzer = vectorizer.build_analyzer()"
      ]
    },
    {
      "cell_type": "code",
      "execution_count": 26,
      "metadata": {
        "id": "d6dQNyjKNsZw"
      },
      "outputs": [],
      "source": [
        "import gensim.corpora as corpora\n",
        "# Extract features for Topic Coherence evaluation\n",
        "words = vectorizer.get_feature_names_out()\n",
        "tokens = [analyzer(doc) for doc in cleaned_docs]\n",
        "dictionary = corpora.Dictionary(tokens)\n",
        "corpus = [dictionary.doc2bow(token) for token in tokens]\n",
        "topic_words = [[words for words, _ in saved_model.get_topic(topic)]\n",
        "               for topic in range(len(set(topics))-1)]"
      ]
    },
    {
      "cell_type": "markdown",
      "metadata": {
        "id": "uEYtK71oN4rq"
      },
      "source": [
        "## Evaluation"
      ]
    },
    {
      "cell_type": "code",
      "execution_count": 27,
      "metadata": {
        "id": "ImkK8PfUNvWj"
      },
      "outputs": [],
      "source": [
        "from gensim.models.coherencemodel import CoherenceModel\n",
        "# Evaluate\n",
        "coherence_model = CoherenceModel(topics=topic_words,\n",
        "                                 texts=tokens,\n",
        "                                 corpus=corpus,\n",
        "                                 dictionary=dictionary,\n",
        "                                 coherence='c_v')\n",
        "coherence = coherence_model.get_coherence()"
      ]
    },
    {
      "cell_type": "code",
      "execution_count": 29,
      "metadata": {
        "colab": {
          "base_uri": "https://localhost:8080/"
        },
        "id": "6ne87y-oNyHh",
        "outputId": "1c824a77-af4b-4d88-b564-9f891e5c92d6"
      },
      "outputs": [
        {
          "output_type": "stream",
          "name": "stdout",
          "text": [
            "0.554748709202655\n"
          ]
        }
      ],
      "source": [
        "print(coherence)"
      ]
    }
  ],
  "metadata": {
    "colab": {
      "provenance": []
    },
    "kernelspec": {
      "display_name": "Python 3 (ipykernel)",
      "language": "python",
      "name": "python3"
    },
    "language_info": {
      "codemirror_mode": {
        "name": "ipython",
        "version": 3
      },
      "file_extension": ".py",
      "mimetype": "text/x-python",
      "name": "python",
      "nbconvert_exporter": "python",
      "pygments_lexer": "ipython3",
      "version": "3.10.5"
    }
  },
  "nbformat": 4,
  "nbformat_minor": 0
}