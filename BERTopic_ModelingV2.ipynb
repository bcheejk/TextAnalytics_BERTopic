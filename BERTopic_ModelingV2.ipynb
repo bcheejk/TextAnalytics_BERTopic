{
  "cells": [
    {
      "cell_type": "markdown",
      "metadata": {
        "id": "TxbnMcAPQd_D"
      },
      "source": [
        "# Install necessary packages"
      ]
    },
    {
      "cell_type": "code",
      "execution_count": null,
      "metadata": {
        "id": "LJNSIg0FROp4"
      },
      "outputs": [],
      "source": [
        "# !pip install top2vec\n",
        "# !pip install pyLDAvis\n",
        "!pip install bertopic\n",
        "!python -m spacy download en_core_web_lg"
      ]
    },
    {
      "cell_type": "markdown",
      "metadata": {
        "id": "6H5Pkj2oQmXR"
      },
      "source": [
        "# Read the transcripts"
      ]
    },
    {
      "cell_type": "code",
      "source": [
        "from google.colab import drive\n",
        "drive.mount('/content/drive')"
      ],
      "metadata": {
        "colab": {
          "base_uri": "https://localhost:8080/"
        },
        "id": "o4nrANv0c07U",
        "outputId": "44849283-3661-49f2-ff50-3a6989f1cf08"
      },
      "execution_count": 1,
      "outputs": [
        {
          "output_type": "stream",
          "name": "stdout",
          "text": [
            "Drive already mounted at /content/drive; to attempt to forcibly remount, call drive.mount(\"/content/drive\", force_remount=True).\n"
          ]
        }
      ]
    },
    {
      "cell_type": "code",
      "execution_count": 2,
      "metadata": {
        "colab": {
          "base_uri": "https://localhost:8080/",
          "height": 289
        },
        "id": "WAxIWrLiQCv4",
        "outputId": "d1447976-5c56-435d-ef0a-29a534a5d903"
      },
      "outputs": [
        {
          "output_type": "execute_result",
          "data": {
            "text/plain": [
              "               Company                                               Call  \\\n",
              "0  Abbott Laboratories  Abbott Laboratories, Q1 2018 Earnings Call, Ap...   \n",
              "1  Abbott Laboratories  Abbott Laboratories, Q1 2018 Earnings Call, Ap...   \n",
              "2  Abbott Laboratories  Abbott Laboratories, Q1 2018 Earnings Call, Ap...   \n",
              "3  Abbott Laboratories  Abbott Laboratories, Q1 2018 Earnings Call, Ap...   \n",
              "4  Abbott Laboratories  Abbott Laboratories, Q1 2018 Earnings Call, Ap...   \n",
              "\n",
              "  Date_of_call                          Type_of_text             Person  \\\n",
              "0   2018-04-18         Presentation Operator Message           Operator   \n",
              "1   2018-04-18                      Presenter Speech  Scott Leinenweber   \n",
              "2   2018-04-18                      Presenter Speech        Miles White   \n",
              "3   2018-04-18                      Presenter Speech         Brian Yoor   \n",
              "4   2018-04-18  Question and Answer Operator Message           Operator   \n",
              "\n",
              "                                                Text  Order    Industry  \n",
              "0  Good morning and thank you for standing by. We...      0  Healthcare  \n",
              "1  Good morning and thank you for joining us. \\r\\...      1  Healthcare  \n",
              "2  Okay. Thanks, Scott, and good morning. \\r\\nTod...      2  Healthcare  \n",
              "3  Okay. Thanks, Miles. \\r\\nAnd as Scott mentione...      3  Healthcare  \n",
              "4  [Operator Instructions] And our first question...      4  Healthcare  "
            ],
            "text/html": [
              "\n",
              "  <div id=\"df-0b15aa9c-50fe-4b5a-93de-645ac8b86615\" class=\"colab-df-container\">\n",
              "    <div>\n",
              "<style scoped>\n",
              "    .dataframe tbody tr th:only-of-type {\n",
              "        vertical-align: middle;\n",
              "    }\n",
              "\n",
              "    .dataframe tbody tr th {\n",
              "        vertical-align: top;\n",
              "    }\n",
              "\n",
              "    .dataframe thead th {\n",
              "        text-align: right;\n",
              "    }\n",
              "</style>\n",
              "<table border=\"1\" class=\"dataframe\">\n",
              "  <thead>\n",
              "    <tr style=\"text-align: right;\">\n",
              "      <th></th>\n",
              "      <th>Company</th>\n",
              "      <th>Call</th>\n",
              "      <th>Date_of_call</th>\n",
              "      <th>Type_of_text</th>\n",
              "      <th>Person</th>\n",
              "      <th>Text</th>\n",
              "      <th>Order</th>\n",
              "      <th>Industry</th>\n",
              "    </tr>\n",
              "  </thead>\n",
              "  <tbody>\n",
              "    <tr>\n",
              "      <th>0</th>\n",
              "      <td>Abbott Laboratories</td>\n",
              "      <td>Abbott Laboratories, Q1 2018 Earnings Call, Ap...</td>\n",
              "      <td>2018-04-18</td>\n",
              "      <td>Presentation Operator Message</td>\n",
              "      <td>Operator</td>\n",
              "      <td>Good morning and thank you for standing by. We...</td>\n",
              "      <td>0</td>\n",
              "      <td>Healthcare</td>\n",
              "    </tr>\n",
              "    <tr>\n",
              "      <th>1</th>\n",
              "      <td>Abbott Laboratories</td>\n",
              "      <td>Abbott Laboratories, Q1 2018 Earnings Call, Ap...</td>\n",
              "      <td>2018-04-18</td>\n",
              "      <td>Presenter Speech</td>\n",
              "      <td>Scott Leinenweber</td>\n",
              "      <td>Good morning and thank you for joining us. \\r\\...</td>\n",
              "      <td>1</td>\n",
              "      <td>Healthcare</td>\n",
              "    </tr>\n",
              "    <tr>\n",
              "      <th>2</th>\n",
              "      <td>Abbott Laboratories</td>\n",
              "      <td>Abbott Laboratories, Q1 2018 Earnings Call, Ap...</td>\n",
              "      <td>2018-04-18</td>\n",
              "      <td>Presenter Speech</td>\n",
              "      <td>Miles White</td>\n",
              "      <td>Okay. Thanks, Scott, and good morning. \\r\\nTod...</td>\n",
              "      <td>2</td>\n",
              "      <td>Healthcare</td>\n",
              "    </tr>\n",
              "    <tr>\n",
              "      <th>3</th>\n",
              "      <td>Abbott Laboratories</td>\n",
              "      <td>Abbott Laboratories, Q1 2018 Earnings Call, Ap...</td>\n",
              "      <td>2018-04-18</td>\n",
              "      <td>Presenter Speech</td>\n",
              "      <td>Brian Yoor</td>\n",
              "      <td>Okay. Thanks, Miles. \\r\\nAnd as Scott mentione...</td>\n",
              "      <td>3</td>\n",
              "      <td>Healthcare</td>\n",
              "    </tr>\n",
              "    <tr>\n",
              "      <th>4</th>\n",
              "      <td>Abbott Laboratories</td>\n",
              "      <td>Abbott Laboratories, Q1 2018 Earnings Call, Ap...</td>\n",
              "      <td>2018-04-18</td>\n",
              "      <td>Question and Answer Operator Message</td>\n",
              "      <td>Operator</td>\n",
              "      <td>[Operator Instructions] And our first question...</td>\n",
              "      <td>4</td>\n",
              "      <td>Healthcare</td>\n",
              "    </tr>\n",
              "  </tbody>\n",
              "</table>\n",
              "</div>\n",
              "    <div class=\"colab-df-buttons\">\n",
              "\n",
              "  <div class=\"colab-df-container\">\n",
              "    <button class=\"colab-df-convert\" onclick=\"convertToInteractive('df-0b15aa9c-50fe-4b5a-93de-645ac8b86615')\"\n",
              "            title=\"Convert this dataframe to an interactive table.\"\n",
              "            style=\"display:none;\">\n",
              "\n",
              "  <svg xmlns=\"http://www.w3.org/2000/svg\" height=\"24px\" viewBox=\"0 -960 960 960\">\n",
              "    <path d=\"M120-120v-720h720v720H120Zm60-500h600v-160H180v160Zm220 220h160v-160H400v160Zm0 220h160v-160H400v160ZM180-400h160v-160H180v160Zm440 0h160v-160H620v160ZM180-180h160v-160H180v160Zm440 0h160v-160H620v160Z\"/>\n",
              "  </svg>\n",
              "    </button>\n",
              "\n",
              "  <style>\n",
              "    .colab-df-container {\n",
              "      display:flex;\n",
              "      gap: 12px;\n",
              "    }\n",
              "\n",
              "    .colab-df-convert {\n",
              "      background-color: #E8F0FE;\n",
              "      border: none;\n",
              "      border-radius: 50%;\n",
              "      cursor: pointer;\n",
              "      display: none;\n",
              "      fill: #1967D2;\n",
              "      height: 32px;\n",
              "      padding: 0 0 0 0;\n",
              "      width: 32px;\n",
              "    }\n",
              "\n",
              "    .colab-df-convert:hover {\n",
              "      background-color: #E2EBFA;\n",
              "      box-shadow: 0px 1px 2px rgba(60, 64, 67, 0.3), 0px 1px 3px 1px rgba(60, 64, 67, 0.15);\n",
              "      fill: #174EA6;\n",
              "    }\n",
              "\n",
              "    .colab-df-buttons div {\n",
              "      margin-bottom: 4px;\n",
              "    }\n",
              "\n",
              "    [theme=dark] .colab-df-convert {\n",
              "      background-color: #3B4455;\n",
              "      fill: #D2E3FC;\n",
              "    }\n",
              "\n",
              "    [theme=dark] .colab-df-convert:hover {\n",
              "      background-color: #434B5C;\n",
              "      box-shadow: 0px 1px 3px 1px rgba(0, 0, 0, 0.15);\n",
              "      filter: drop-shadow(0px 1px 2px rgba(0, 0, 0, 0.3));\n",
              "      fill: #FFFFFF;\n",
              "    }\n",
              "  </style>\n",
              "\n",
              "    <script>\n",
              "      const buttonEl =\n",
              "        document.querySelector('#df-0b15aa9c-50fe-4b5a-93de-645ac8b86615 button.colab-df-convert');\n",
              "      buttonEl.style.display =\n",
              "        google.colab.kernel.accessAllowed ? 'block' : 'none';\n",
              "\n",
              "      async function convertToInteractive(key) {\n",
              "        const element = document.querySelector('#df-0b15aa9c-50fe-4b5a-93de-645ac8b86615');\n",
              "        const dataTable =\n",
              "          await google.colab.kernel.invokeFunction('convertToInteractive',\n",
              "                                                    [key], {});\n",
              "        if (!dataTable) return;\n",
              "\n",
              "        const docLinkHtml = 'Like what you see? Visit the ' +\n",
              "          '<a target=\"_blank\" href=https://colab.research.google.com/notebooks/data_table.ipynb>data table notebook</a>'\n",
              "          + ' to learn more about interactive tables.';\n",
              "        element.innerHTML = '';\n",
              "        dataTable['output_type'] = 'display_data';\n",
              "        await google.colab.output.renderOutput(dataTable, element);\n",
              "        const docLink = document.createElement('div');\n",
              "        docLink.innerHTML = docLinkHtml;\n",
              "        element.appendChild(docLink);\n",
              "      }\n",
              "    </script>\n",
              "  </div>\n",
              "\n",
              "\n",
              "<div id=\"df-8bab70c5-6eb8-42ca-82cf-31db2e77f189\">\n",
              "  <button class=\"colab-df-quickchart\" onclick=\"quickchart('df-8bab70c5-6eb8-42ca-82cf-31db2e77f189')\"\n",
              "            title=\"Suggest charts\"\n",
              "            style=\"display:none;\">\n",
              "\n",
              "<svg xmlns=\"http://www.w3.org/2000/svg\" height=\"24px\"viewBox=\"0 0 24 24\"\n",
              "     width=\"24px\">\n",
              "    <g>\n",
              "        <path d=\"M19 3H5c-1.1 0-2 .9-2 2v14c0 1.1.9 2 2 2h14c1.1 0 2-.9 2-2V5c0-1.1-.9-2-2-2zM9 17H7v-7h2v7zm4 0h-2V7h2v10zm4 0h-2v-4h2v4z\"/>\n",
              "    </g>\n",
              "</svg>\n",
              "  </button>\n",
              "\n",
              "<style>\n",
              "  .colab-df-quickchart {\n",
              "      --bg-color: #E8F0FE;\n",
              "      --fill-color: #1967D2;\n",
              "      --hover-bg-color: #E2EBFA;\n",
              "      --hover-fill-color: #174EA6;\n",
              "      --disabled-fill-color: #AAA;\n",
              "      --disabled-bg-color: #DDD;\n",
              "  }\n",
              "\n",
              "  [theme=dark] .colab-df-quickchart {\n",
              "      --bg-color: #3B4455;\n",
              "      --fill-color: #D2E3FC;\n",
              "      --hover-bg-color: #434B5C;\n",
              "      --hover-fill-color: #FFFFFF;\n",
              "      --disabled-bg-color: #3B4455;\n",
              "      --disabled-fill-color: #666;\n",
              "  }\n",
              "\n",
              "  .colab-df-quickchart {\n",
              "    background-color: var(--bg-color);\n",
              "    border: none;\n",
              "    border-radius: 50%;\n",
              "    cursor: pointer;\n",
              "    display: none;\n",
              "    fill: var(--fill-color);\n",
              "    height: 32px;\n",
              "    padding: 0;\n",
              "    width: 32px;\n",
              "  }\n",
              "\n",
              "  .colab-df-quickchart:hover {\n",
              "    background-color: var(--hover-bg-color);\n",
              "    box-shadow: 0 1px 2px rgba(60, 64, 67, 0.3), 0 1px 3px 1px rgba(60, 64, 67, 0.15);\n",
              "    fill: var(--button-hover-fill-color);\n",
              "  }\n",
              "\n",
              "  .colab-df-quickchart-complete:disabled,\n",
              "  .colab-df-quickchart-complete:disabled:hover {\n",
              "    background-color: var(--disabled-bg-color);\n",
              "    fill: var(--disabled-fill-color);\n",
              "    box-shadow: none;\n",
              "  }\n",
              "\n",
              "  .colab-df-spinner {\n",
              "    border: 2px solid var(--fill-color);\n",
              "    border-color: transparent;\n",
              "    border-bottom-color: var(--fill-color);\n",
              "    animation:\n",
              "      spin 1s steps(1) infinite;\n",
              "  }\n",
              "\n",
              "  @keyframes spin {\n",
              "    0% {\n",
              "      border-color: transparent;\n",
              "      border-bottom-color: var(--fill-color);\n",
              "      border-left-color: var(--fill-color);\n",
              "    }\n",
              "    20% {\n",
              "      border-color: transparent;\n",
              "      border-left-color: var(--fill-color);\n",
              "      border-top-color: var(--fill-color);\n",
              "    }\n",
              "    30% {\n",
              "      border-color: transparent;\n",
              "      border-left-color: var(--fill-color);\n",
              "      border-top-color: var(--fill-color);\n",
              "      border-right-color: var(--fill-color);\n",
              "    }\n",
              "    40% {\n",
              "      border-color: transparent;\n",
              "      border-right-color: var(--fill-color);\n",
              "      border-top-color: var(--fill-color);\n",
              "    }\n",
              "    60% {\n",
              "      border-color: transparent;\n",
              "      border-right-color: var(--fill-color);\n",
              "    }\n",
              "    80% {\n",
              "      border-color: transparent;\n",
              "      border-right-color: var(--fill-color);\n",
              "      border-bottom-color: var(--fill-color);\n",
              "    }\n",
              "    90% {\n",
              "      border-color: transparent;\n",
              "      border-bottom-color: var(--fill-color);\n",
              "    }\n",
              "  }\n",
              "</style>\n",
              "\n",
              "  <script>\n",
              "    async function quickchart(key) {\n",
              "      const quickchartButtonEl =\n",
              "        document.querySelector('#' + key + ' button');\n",
              "      quickchartButtonEl.disabled = true;  // To prevent multiple clicks.\n",
              "      quickchartButtonEl.classList.add('colab-df-spinner');\n",
              "      try {\n",
              "        const charts = await google.colab.kernel.invokeFunction(\n",
              "            'suggestCharts', [key], {});\n",
              "      } catch (error) {\n",
              "        console.error('Error during call to suggestCharts:', error);\n",
              "      }\n",
              "      quickchartButtonEl.classList.remove('colab-df-spinner');\n",
              "      quickchartButtonEl.classList.add('colab-df-quickchart-complete');\n",
              "    }\n",
              "    (() => {\n",
              "      let quickchartButtonEl =\n",
              "        document.querySelector('#df-8bab70c5-6eb8-42ca-82cf-31db2e77f189 button');\n",
              "      quickchartButtonEl.style.display =\n",
              "        google.colab.kernel.accessAllowed ? 'block' : 'none';\n",
              "    })();\n",
              "  </script>\n",
              "</div>\n",
              "\n",
              "    </div>\n",
              "  </div>\n"
            ],
            "application/vnd.google.colaboratory.intrinsic+json": {
              "type": "dataframe",
              "variable_name": "df",
              "summary": "{\n  \"name\": \"df\",\n  \"rows\": 44168,\n  \"fields\": [\n    {\n      \"column\": \"Company\",\n      \"properties\": {\n        \"dtype\": \"category\",\n        \"num_unique_values\": 40,\n        \"samples\": [\n          \"Kellogg Company\",\n          \"Intel Corporation\",\n          \"Honeywell International Inc.\"\n        ],\n        \"semantic_type\": \"\",\n        \"description\": \"\"\n      }\n    },\n    {\n      \"column\": \"Call\",\n      \"properties\": {\n        \"dtype\": \"category\",\n        \"num_unique_values\": 701,\n        \"samples\": [\n          \"Walmart Inc., Q2 2022 Earnings Call, Aug 17, 2021\",\n          \"Dollar Tree, Inc., Q3 2020 Earnings Call, Nov 26, 2019\",\n          \"American Express Company, Q4 2018 Earnings Call, Jan 17, 2019\"\n        ],\n        \"semantic_type\": \"\",\n        \"description\": \"\"\n      }\n    },\n    {\n      \"column\": \"Date_of_call\",\n      \"properties\": {\n        \"dtype\": \"object\",\n        \"num_unique_values\": 385,\n        \"samples\": [\n          \"2020-09-29\",\n          \"2021-02-11\",\n          \"2022-02-09\"\n        ],\n        \"semantic_type\": \"\",\n        \"description\": \"\"\n      }\n    },\n    {\n      \"column\": \"Type_of_text\",\n      \"properties\": {\n        \"dtype\": \"category\",\n        \"num_unique_values\": 5,\n        \"samples\": [\n          \"Presenter Speech\",\n          \"Answer\",\n          \"Question and Answer Operator Message\"\n        ],\n        \"semantic_type\": \"\",\n        \"description\": \"\"\n      }\n    },\n    {\n      \"column\": \"Person\",\n      \"properties\": {\n        \"dtype\": \"category\",\n        \"num_unique_values\": 1052,\n        \"samples\": [\n          \"Alison Sider;Wall Street Journal\",\n          \"Sameer Murukutla\",\n          \"Nitin Kumar\"\n        ],\n        \"semantic_type\": \"\",\n        \"description\": \"\"\n      }\n    },\n    {\n      \"column\": \"Text\",\n      \"properties\": {\n        \"dtype\": \"string\",\n        \"num_unique_values\": 41404,\n        \"samples\": [\n          \"Okay. A lot of questions to unpack. Okay. So on the buyback, I wouldn't read anything into the $150 million. Some quarters, we'll have higher levels of buyback than others. We were -- we did have an eye on our net cash position. And so that was something that we were trying to move in the right direction. I think you'll find in the fourth fiscal quarter that our buybacks are meaningfully higher than our third fiscal quarter. So nothing to read there. We do feel like this price is obviously a good price to be buying the stock back. And we are committed to what we've talked about previously, which is to return at least 50% of our free cash flow in the form of buybacks. And as we -- as I talked about in the prepared remarks, I think the metric we've hit so far is 55%. So we've done pretty well. And that doesn't even account for the converts, which, I think, by the end of this fiscal quarter, that is the fourth fiscal quarter, will be completely done with converged, conversions will be completely off the balance sheet, and we will remove that dilution as well. \\r\\nAs it relates -- no message on the CapEx as it relates to buybacks, other than to say that given the EUV investments, it does appear that we will operate maybe at a little bit of a different level from a percent of sales perspective than perhaps we previously were operating. We were thinking more in the low 30s. I think with EUV, it's safe to say that we probably are operating in the mid-30s as a percent of revenue for CapEx, at least as we build out the EUV part of the tool set.\",\n          \"No, that's fine. It's just a slippery slope when you start to put something in place. You don't know exactly when to peel it back. I just wondered how you were thinking about it. \\r\\nAnd then maybe just a clarification on the CARES loan. How much of the encumbered assets are you proposing to pledge against that, so we can know kind of quarter end, what your unencumbered assets are?\",\n          \"Sure, Ken. Thanks for the question. Well, obviously, as you think about the -- in particular, the first half, second half perspective on the year with Q1 coming in stronger than we expect on both the top and the bottom line, we would expect a little bit more balanced year in terms of the flow of margins and that we're seeing more of the cost, obviously, and the cost increase coming in, in the back half, offset by a little bit stronger performance in the first half. And we do still expect our pricing realization to come in sort of full force in Q2 and against the inflation expectations. So just to give you a little bit more color. We don't want to get any deeper on a quarter-by-quarter basis.\"\n        ],\n        \"semantic_type\": \"\",\n        \"description\": \"\"\n      }\n    },\n    {\n      \"column\": \"Order\",\n      \"properties\": {\n        \"dtype\": \"number\",\n        \"std\": 26,\n        \"min\": 0,\n        \"max\": 291,\n        \"num_unique_values\": 292,\n        \"samples\": [\n          84,\n          260,\n          45\n        ],\n        \"semantic_type\": \"\",\n        \"description\": \"\"\n      }\n    },\n    {\n      \"column\": \"Industry\",\n      \"properties\": {\n        \"dtype\": \"category\",\n        \"num_unique_values\": 8,\n        \"samples\": [\n          \"Semiconductor\",\n          \"Industrial\",\n          \"Healthcare\"\n        ],\n        \"semantic_type\": \"\",\n        \"description\": \"\"\n      }\n    }\n  ]\n}"
            }
          },
          "metadata": {},
          "execution_count": 2
        }
      ],
      "source": [
        "import pandas as pd\n",
        "import numpy as np\n",
        "df = pd.read_pickle(\"/content/drive/MyDrive/transcript_texts.pkl\")\n",
        "df.head()"
      ]
    },
    {
      "cell_type": "code",
      "execution_count": 3,
      "metadata": {
        "id": "9xg3TocdQKAM"
      },
      "outputs": [],
      "source": [
        "df = df[df['Date_of_call'] >= '2021-01-01']"
      ]
    },
    {
      "cell_type": "code",
      "source": [
        "df.Industry.unique()"
      ],
      "metadata": {
        "colab": {
          "base_uri": "https://localhost:8080/"
        },
        "id": "UW-imJJvzCnr",
        "outputId": "3cdacd94-7f4c-44a3-97c1-4ce43b05449c"
      },
      "execution_count": null,
      "outputs": [
        {
          "output_type": "execute_result",
          "data": {
            "text/plain": [
              "array(['Healthcare', 'Semiconductor', 'Transportation', 'Financial',\n",
              "       'Technology', 'Industrial', 'Oil and Gas', 'Consumer'],\n",
              "      dtype=object)"
            ]
          },
          "metadata": {},
          "execution_count": 25
        }
      ]
    },
    {
      "cell_type": "code",
      "source": [
        "df['Type_of_text'].unique()"
      ],
      "metadata": {
        "colab": {
          "base_uri": "https://localhost:8080/"
        },
        "id": "q1CVO7jvdS8R",
        "outputId": "7ce636fb-0c24-45d0-d12c-37a326e6e53c"
      },
      "execution_count": null,
      "outputs": [
        {
          "output_type": "execute_result",
          "data": {
            "text/plain": [
              "array(['Presentation Operator Message', 'Presenter Speech',\n",
              "       'Question and Answer Operator Message', 'Question', 'Answer'],\n",
              "      dtype=object)"
            ]
          },
          "metadata": {},
          "execution_count": 4
        }
      ]
    },
    {
      "cell_type": "code",
      "source": [
        "df2 = df.groupby('Call')['Text'].apply(lambda x: ' '.join(x)).to_frame(name='Text')\n",
        "df2.head(5)"
      ],
      "metadata": {
        "colab": {
          "base_uri": "https://localhost:8080/",
          "height": 235
        },
        "id": "A62ePY6mea3j",
        "outputId": "e569d80e-4186-41b2-849f-c759ee8392ff"
      },
      "execution_count": 4,
      "outputs": [
        {
          "output_type": "execute_result",
          "data": {
            "text/plain": [
              "                                                                                                 Text\n",
              "Call                                                                                                 \n",
              "Abbott Laboratories, Q1 2021 Earnings Call, Apr...  Good morning, and thank you for standing by. W...\n",
              "Abbott Laboratories, Q1 2022 Earnings Call, Apr...  Good morning, and thank you for standing by. W...\n",
              "Abbott Laboratories, Q2 2021 Earnings Call, Jul...  Good morning, and thank you for standing by. W...\n",
              "Abbott Laboratories, Q3 2021 Earnings Call, Oct...  Good morning, and thank you for standing by. W...\n",
              "Abbott Laboratories, Q4 2020 Earnings Call, Jan...  Good morning, and thank you for standing by. W..."
            ],
            "text/html": [
              "\n",
              "  <div id=\"df-097ad638-580d-44e5-9ce2-7fedafde8957\" class=\"colab-df-container\">\n",
              "    <div>\n",
              "<style scoped>\n",
              "    .dataframe tbody tr th:only-of-type {\n",
              "        vertical-align: middle;\n",
              "    }\n",
              "\n",
              "    .dataframe tbody tr th {\n",
              "        vertical-align: top;\n",
              "    }\n",
              "\n",
              "    .dataframe thead th {\n",
              "        text-align: right;\n",
              "    }\n",
              "</style>\n",
              "<table border=\"1\" class=\"dataframe\">\n",
              "  <thead>\n",
              "    <tr style=\"text-align: right;\">\n",
              "      <th></th>\n",
              "      <th>Text</th>\n",
              "    </tr>\n",
              "    <tr>\n",
              "      <th>Call</th>\n",
              "      <th></th>\n",
              "    </tr>\n",
              "  </thead>\n",
              "  <tbody>\n",
              "    <tr>\n",
              "      <th>Abbott Laboratories, Q1 2021 Earnings Call, Apr 20, 2021</th>\n",
              "      <td>Good morning, and thank you for standing by. W...</td>\n",
              "    </tr>\n",
              "    <tr>\n",
              "      <th>Abbott Laboratories, Q1 2022 Earnings Call, Apr 20, 2022</th>\n",
              "      <td>Good morning, and thank you for standing by. W...</td>\n",
              "    </tr>\n",
              "    <tr>\n",
              "      <th>Abbott Laboratories, Q2 2021 Earnings Call, Jul 22, 2021</th>\n",
              "      <td>Good morning, and thank you for standing by. W...</td>\n",
              "    </tr>\n",
              "    <tr>\n",
              "      <th>Abbott Laboratories, Q3 2021 Earnings Call, Oct 20, 2021</th>\n",
              "      <td>Good morning, and thank you for standing by. W...</td>\n",
              "    </tr>\n",
              "    <tr>\n",
              "      <th>Abbott Laboratories, Q4 2020 Earnings Call, Jan 27, 2021</th>\n",
              "      <td>Good morning, and thank you for standing by. W...</td>\n",
              "    </tr>\n",
              "  </tbody>\n",
              "</table>\n",
              "</div>\n",
              "    <div class=\"colab-df-buttons\">\n",
              "\n",
              "  <div class=\"colab-df-container\">\n",
              "    <button class=\"colab-df-convert\" onclick=\"convertToInteractive('df-097ad638-580d-44e5-9ce2-7fedafde8957')\"\n",
              "            title=\"Convert this dataframe to an interactive table.\"\n",
              "            style=\"display:none;\">\n",
              "\n",
              "  <svg xmlns=\"http://www.w3.org/2000/svg\" height=\"24px\" viewBox=\"0 -960 960 960\">\n",
              "    <path d=\"M120-120v-720h720v720H120Zm60-500h600v-160H180v160Zm220 220h160v-160H400v160Zm0 220h160v-160H400v160ZM180-400h160v-160H180v160Zm440 0h160v-160H620v160ZM180-180h160v-160H180v160Zm440 0h160v-160H620v160Z\"/>\n",
              "  </svg>\n",
              "    </button>\n",
              "\n",
              "  <style>\n",
              "    .colab-df-container {\n",
              "      display:flex;\n",
              "      gap: 12px;\n",
              "    }\n",
              "\n",
              "    .colab-df-convert {\n",
              "      background-color: #E8F0FE;\n",
              "      border: none;\n",
              "      border-radius: 50%;\n",
              "      cursor: pointer;\n",
              "      display: none;\n",
              "      fill: #1967D2;\n",
              "      height: 32px;\n",
              "      padding: 0 0 0 0;\n",
              "      width: 32px;\n",
              "    }\n",
              "\n",
              "    .colab-df-convert:hover {\n",
              "      background-color: #E2EBFA;\n",
              "      box-shadow: 0px 1px 2px rgba(60, 64, 67, 0.3), 0px 1px 3px 1px rgba(60, 64, 67, 0.15);\n",
              "      fill: #174EA6;\n",
              "    }\n",
              "\n",
              "    .colab-df-buttons div {\n",
              "      margin-bottom: 4px;\n",
              "    }\n",
              "\n",
              "    [theme=dark] .colab-df-convert {\n",
              "      background-color: #3B4455;\n",
              "      fill: #D2E3FC;\n",
              "    }\n",
              "\n",
              "    [theme=dark] .colab-df-convert:hover {\n",
              "      background-color: #434B5C;\n",
              "      box-shadow: 0px 1px 3px 1px rgba(0, 0, 0, 0.15);\n",
              "      filter: drop-shadow(0px 1px 2px rgba(0, 0, 0, 0.3));\n",
              "      fill: #FFFFFF;\n",
              "    }\n",
              "  </style>\n",
              "\n",
              "    <script>\n",
              "      const buttonEl =\n",
              "        document.querySelector('#df-097ad638-580d-44e5-9ce2-7fedafde8957 button.colab-df-convert');\n",
              "      buttonEl.style.display =\n",
              "        google.colab.kernel.accessAllowed ? 'block' : 'none';\n",
              "\n",
              "      async function convertToInteractive(key) {\n",
              "        const element = document.querySelector('#df-097ad638-580d-44e5-9ce2-7fedafde8957');\n",
              "        const dataTable =\n",
              "          await google.colab.kernel.invokeFunction('convertToInteractive',\n",
              "                                                    [key], {});\n",
              "        if (!dataTable) return;\n",
              "\n",
              "        const docLinkHtml = 'Like what you see? Visit the ' +\n",
              "          '<a target=\"_blank\" href=https://colab.research.google.com/notebooks/data_table.ipynb>data table notebook</a>'\n",
              "          + ' to learn more about interactive tables.';\n",
              "        element.innerHTML = '';\n",
              "        dataTable['output_type'] = 'display_data';\n",
              "        await google.colab.output.renderOutput(dataTable, element);\n",
              "        const docLink = document.createElement('div');\n",
              "        docLink.innerHTML = docLinkHtml;\n",
              "        element.appendChild(docLink);\n",
              "      }\n",
              "    </script>\n",
              "  </div>\n",
              "\n",
              "\n",
              "<div id=\"df-4b61f5d1-eb0f-4dee-8592-037b846317d6\">\n",
              "  <button class=\"colab-df-quickchart\" onclick=\"quickchart('df-4b61f5d1-eb0f-4dee-8592-037b846317d6')\"\n",
              "            title=\"Suggest charts\"\n",
              "            style=\"display:none;\">\n",
              "\n",
              "<svg xmlns=\"http://www.w3.org/2000/svg\" height=\"24px\"viewBox=\"0 0 24 24\"\n",
              "     width=\"24px\">\n",
              "    <g>\n",
              "        <path d=\"M19 3H5c-1.1 0-2 .9-2 2v14c0 1.1.9 2 2 2h14c1.1 0 2-.9 2-2V5c0-1.1-.9-2-2-2zM9 17H7v-7h2v7zm4 0h-2V7h2v10zm4 0h-2v-4h2v4z\"/>\n",
              "    </g>\n",
              "</svg>\n",
              "  </button>\n",
              "\n",
              "<style>\n",
              "  .colab-df-quickchart {\n",
              "      --bg-color: #E8F0FE;\n",
              "      --fill-color: #1967D2;\n",
              "      --hover-bg-color: #E2EBFA;\n",
              "      --hover-fill-color: #174EA6;\n",
              "      --disabled-fill-color: #AAA;\n",
              "      --disabled-bg-color: #DDD;\n",
              "  }\n",
              "\n",
              "  [theme=dark] .colab-df-quickchart {\n",
              "      --bg-color: #3B4455;\n",
              "      --fill-color: #D2E3FC;\n",
              "      --hover-bg-color: #434B5C;\n",
              "      --hover-fill-color: #FFFFFF;\n",
              "      --disabled-bg-color: #3B4455;\n",
              "      --disabled-fill-color: #666;\n",
              "  }\n",
              "\n",
              "  .colab-df-quickchart {\n",
              "    background-color: var(--bg-color);\n",
              "    border: none;\n",
              "    border-radius: 50%;\n",
              "    cursor: pointer;\n",
              "    display: none;\n",
              "    fill: var(--fill-color);\n",
              "    height: 32px;\n",
              "    padding: 0;\n",
              "    width: 32px;\n",
              "  }\n",
              "\n",
              "  .colab-df-quickchart:hover {\n",
              "    background-color: var(--hover-bg-color);\n",
              "    box-shadow: 0 1px 2px rgba(60, 64, 67, 0.3), 0 1px 3px 1px rgba(60, 64, 67, 0.15);\n",
              "    fill: var(--button-hover-fill-color);\n",
              "  }\n",
              "\n",
              "  .colab-df-quickchart-complete:disabled,\n",
              "  .colab-df-quickchart-complete:disabled:hover {\n",
              "    background-color: var(--disabled-bg-color);\n",
              "    fill: var(--disabled-fill-color);\n",
              "    box-shadow: none;\n",
              "  }\n",
              "\n",
              "  .colab-df-spinner {\n",
              "    border: 2px solid var(--fill-color);\n",
              "    border-color: transparent;\n",
              "    border-bottom-color: var(--fill-color);\n",
              "    animation:\n",
              "      spin 1s steps(1) infinite;\n",
              "  }\n",
              "\n",
              "  @keyframes spin {\n",
              "    0% {\n",
              "      border-color: transparent;\n",
              "      border-bottom-color: var(--fill-color);\n",
              "      border-left-color: var(--fill-color);\n",
              "    }\n",
              "    20% {\n",
              "      border-color: transparent;\n",
              "      border-left-color: var(--fill-color);\n",
              "      border-top-color: var(--fill-color);\n",
              "    }\n",
              "    30% {\n",
              "      border-color: transparent;\n",
              "      border-left-color: var(--fill-color);\n",
              "      border-top-color: var(--fill-color);\n",
              "      border-right-color: var(--fill-color);\n",
              "    }\n",
              "    40% {\n",
              "      border-color: transparent;\n",
              "      border-right-color: var(--fill-color);\n",
              "      border-top-color: var(--fill-color);\n",
              "    }\n",
              "    60% {\n",
              "      border-color: transparent;\n",
              "      border-right-color: var(--fill-color);\n",
              "    }\n",
              "    80% {\n",
              "      border-color: transparent;\n",
              "      border-right-color: var(--fill-color);\n",
              "      border-bottom-color: var(--fill-color);\n",
              "    }\n",
              "    90% {\n",
              "      border-color: transparent;\n",
              "      border-bottom-color: var(--fill-color);\n",
              "    }\n",
              "  }\n",
              "</style>\n",
              "\n",
              "  <script>\n",
              "    async function quickchart(key) {\n",
              "      const quickchartButtonEl =\n",
              "        document.querySelector('#' + key + ' button');\n",
              "      quickchartButtonEl.disabled = true;  // To prevent multiple clicks.\n",
              "      quickchartButtonEl.classList.add('colab-df-spinner');\n",
              "      try {\n",
              "        const charts = await google.colab.kernel.invokeFunction(\n",
              "            'suggestCharts', [key], {});\n",
              "      } catch (error) {\n",
              "        console.error('Error during call to suggestCharts:', error);\n",
              "      }\n",
              "      quickchartButtonEl.classList.remove('colab-df-spinner');\n",
              "      quickchartButtonEl.classList.add('colab-df-quickchart-complete');\n",
              "    }\n",
              "    (() => {\n",
              "      let quickchartButtonEl =\n",
              "        document.querySelector('#df-4b61f5d1-eb0f-4dee-8592-037b846317d6 button');\n",
              "      quickchartButtonEl.style.display =\n",
              "        google.colab.kernel.accessAllowed ? 'block' : 'none';\n",
              "    })();\n",
              "  </script>\n",
              "</div>\n",
              "\n",
              "    </div>\n",
              "  </div>\n"
            ],
            "application/vnd.google.colaboratory.intrinsic+json": {
              "type": "dataframe",
              "variable_name": "df2",
              "summary": "{\n  \"name\": \"df2\",\n  \"rows\": 242,\n  \"fields\": [\n    {\n      \"column\": \"Call\",\n      \"properties\": {\n        \"dtype\": \"string\",\n        \"num_unique_values\": 242,\n        \"samples\": [\n          \"Apple Inc., Q1 2021 Earnings Call, Jan 27, 2021\",\n          \"Advanced Micro Devices, Inc., Q1 2021 Earnings Call, Apr 27, 2021\",\n          \"Netflix, Inc., Q4 2021 Pre Recorded Earnings Call, Jan 20, 2022\"\n        ],\n        \"semantic_type\": \"\",\n        \"description\": \"\"\n      }\n    },\n    {\n      \"column\": \"Text\",\n      \"properties\": {\n        \"dtype\": \"string\",\n        \"num_unique_values\": 242,\n        \"samples\": [\n          \"Good day, and welcome to the Apple Q1 Fiscal Year 2021 Earnings Conference Call. Today's call is being recorded. At this time, for opening remarks and introductions, I would like to turn the call over to Tejas Gala, Director of Investor Relations and Corporate Finance. Please go ahead. Thank you. Good afternoon, and thank you for joining us. Speaking first today is Apple's CEO, Tim Cook, and he'll be followed by CFO, Luca Maestri. After that, we'll open the call to questions from analysts.\\r\\nPlease note that some of the information you'll hear during our discussion today will consist of forward-looking statements, including, without limitation, those regarding revenue, gross margin, operating expenses, other income and expense, taxes, capital allocation and future business outlook, including the potential impact of COVID-19 on the company's business and results of operations. These statements involve risks and uncertainties that may cause actual results or trends to differ materially from our forecast. For more information, please refer to the risk factors discussed in Apple's most recently filed annual report on Form 10-K and the Form 8-K filed with the SEC today, along with the associated press release. Apple assumes no obligation to update any forward-looking statements or information, which speak as of their respective dates. I'd now like to turn the call over to Tim for introductory remarks. Thank you, Tejas. Good afternoon, everyone. Thanks for joining the call today. It's with great gratitude for the tireless and innovative work of every Apple team member worldwide that I share the results of a very strong quarter for Apple. We achieved an all-time revenue record of $111.4 billion. We saw strong double-digit growth across every product category, and we achieved all-time revenue records in each of our geographic segments.\\r\\nIt is not far from many of our minds that this result caps off the most challenging year any of us can remember. And it is an understatement to say that the challenges it posed to Apple as a business paled in comparison to the challenge it posed to Apple as a community of individuals, to employees, to their families and to the communities we live in and love to call home.\\r\\nWhile these results show the central role that our products played in helping our users respond to these challenges, we are doubly aware that the work ahead of all of us to navigate the end of this pandemic, to restore normal life and prosperity in our neighborhoods and local economies and to build back with a sense of justice is profound and urgent. We will speak to these needs and Apple's efforts throughout today's call, but I want to first offer the context of a detailed look at our results this quarter, including why we outperformed our expectations.\\r\\nLet's get started with hardware. We hit a new high watermark for our installed base of active devices, with growth accelerating as we passed 1.65 billion devices worldwide during the December quarter. iPhone grew by 17% year-over-year driven by strong demand for the iPhone 12 family, and our active installed base of iPhones is now over 1 billion. The customer response to the new iPhone 12 models' unprecedented innovation from world-class cameras to the great and growing potential of 5G has been enthusiastic, even in light of the ongoing COVID-19 impact at retail locations.\\r\\niPad and Mac grew by 41% and 21%, respectively, reflecting the continuing role these devices have played in our users' lives during the COVID-19 pandemic. During this quarter, availability began for both our new iPad Air as well as the first generation of Macs to feature our groundbreaking M1 chip. The demand for all of these products has been very strong.\\r\\nWe have also continued our efforts to bring the latest iPad's enriching content and professional support to educators, students and parents. Educational districts and governments worldwide are continuing major deployments, including the largest iPad deployments ever to schools in Germany and Japan.\\r\\nWearables, Home and Accessories grew by 30% year-over-year, driven by significant holiday demand for the latest Apple Watch, our entire AirPods lineup, including the new AirPods Max as well as the new HomePod mini. This broad strength across the category led to new revenue records for each of its 3 subgroups, and we're very excited about the road ahead for these products. \\r\\nLook no further than the great potential of Fitness+, which pairs with Apple Watch to deliver real-time on-screen fitness data alongside world-class workouts by the world's best trainers. There are new sessions added each week, and customers are loving the flexibility, challenge and fun of these classes as well as how the pairing with Apple Watch pushes you to achieve your fitness goals.\\r\\nThis deep integration of hardware, software and services have always defined our approach here, and it has delivered an all-time quarterly Services record of $15.8 billion. This was the first quarter of the Apple One bundle, which brings together many of our great services into an easy subscription; and with new content being added to these services every day, we feel very optimistic about where we are headed.\\r\\nThe App Store ecosystem has been so important as individuals, families and businesses worldwide evolve and adapt to the COVID-19 pandemic, and we want to make sure that this unrivaled engine of innovation and opportunity continues. This quarter, we also took a significant new step to help smaller developers continue to experiment, innovate and scale the latest great app ideas. The App Store Small Business Program reduces the commission on the sale of digital goods and services to 15% for small businesses earning less than $1 million a year. The program launched on January 1, and we are already hearing from developers about how this change represents a transformation in their potential to create and grow on the App Store.\\r\\nTomorrow is International Privacy Day, and we continue to set new standards to protect users' right to privacy, not just for our own products but to be the ripple in the pond that moves the whole industry forward. Most recently, we're in the process of deploying new requirements across the App Store ecosystem that give users more knowledge about and new tools to control the ways that apps gather and share their personal data.\\r\\nThe winter holiday season is always a busy time for us and our products. But this year was unique. We had a record number of device activations during the last week of the quarter. And as COVID-19 kept us apart, we saw the highest volume of FaceTime calls ever this Christmas. As always, we could not have made so many holidays special without our talented and dedicated retail teams who helped us achieve a new all-time revenue record for retail, driven by very strong performance in our online store.\\r\\nParticularly, after the events of the last few weeks, we're focused on how we can help a moment of great national need. Because none of us should have any illusions about the challenges we face as we begin a new chapter in the American story, hope for healing, for unity and for progress begins with and depends on addressing the things that continue to wound us.\\r\\nIn our communities, we see how every burden from COVID-19 to the resulting economic challenges, to the closure of in-person learning for students falls heaviest on those who have always faced structural barriers to opportunity and equality. This month, Apple announced major new commitments through a $100 million Racial Equity and Justice Initiative. The Propel Center launched with a $25 million commitment and with the support of historically black colleges and universities across the country, will help support the next-generation of leaders in fields ranging from machine learning to app development to entrepreneurship and design.\\r\\nAnd our new Apple Developer Academy in Downtown Detroit will be the first of its kind in the United States. Detroit has a vibrant culture of black entrepreneurship, including over 50,000 black-owned businesses. We want to accelerate the potential of the app economy here, knowing there is no shortage of good ideas in such a creative, resilient and dedicated community. Finally, we're committing $35 million across 2 investments in Harlem Capital and the Clear Vision Impact Fund that support, accelerate and grow minority-owned businesses in areas of great potential and need.\\r\\nIn December, we concluded an unmatched year of giving. Since the inception of the Apple Giving program in 2011, Apple employees have donated nearly $600 million and volunteered more than 1.6 million hours to over 34,000 organizations of every stride. Through our partnership with (PRODUCT)RED, we've adapted our 14-year $250 million effort to support HIV and AIDS work globally to ensure that care continues even in the time of COVID. That includes delivering millions of units of personal protective equipment to health care providers in Zambia.\\r\\nAnd here in the United States, even with COVID's effects, we are ahead of schedule on our multiyear commitment to invest $350 billion throughout the American economy. As proud as this makes us, we know there is much more to be done. Looking forward, we continue to contend with the COVID-19 pandemic, but we must also now work to imagine what we will inherit on the other side. When a disease recedes, we cannot simply assume that healing follows. Even now, we see the deep scars that this period has left in our communities. Trust has been compromised. Opportunities have been lost. Entire portions of our lives that we took for granted, schools for children, meetings with our colleagues, small businesses that have endured for generations have simply disappeared. It will take a society-wide effort across the public and private sectors as individuals and communities, every one of us, to ensure that what's ahead of us is not simply the end of a disease but the beginning of something durable and hopeful for those who gave, suffered and endured during this time.\\r\\nAt Apple, we have every intention to be partners in this effort, and we look forward to working in communities around the world to make it possible. And as this chapter of uncertainty continues, so will our tireless work to help our customers stay safe, connected and well.\\r\\nWith that, I'll hand things over to Luca. Thank you, Tim. Good afternoon, everyone. We started our fiscal 2021 with exceptional business and financial performance during the December quarter as we set all-time records for revenue, operating income, net income, earnings per share and operating cash flow. We are thrilled with the way our teams continued to innovate and execute throughout this period of elevated uncertainty.\\r\\nOur revenue reached an all-time record of $111.4 billion, an increase of nearly $20 billion or 21% from a year ago. We grew strong double digits in each of our product categories, with all-time records for iPhone; Wearables, Home and Accessories; and Services as well as a December quarter record for Mac. We also achieved double-digit growth and new all-time records in each of our 5 geographic segments and in the vast majority of countries that we track.\\r\\nProducts revenue was an all-time record of $95.7 billion, up 21% over a year ago. As a consequence of this level of sales performance and the unmatched loyalty of our customers, our installed base of active devices passed 1.65 billion during the December quarter and reached an all-time record in each of our major product categories.\\r\\nOur Services set an all-time record of $15.8 billion, growing 24% year-over-year. We established new all-time records in most service categories and December quarter records in each geographic segment. I'll cover our Services business in more detail later.\\r\\nCompany gross margin was 39.8%, up 160 basis points sequentially, thanks to leverage from higher sales and a strong mix. Products gross margin was 35.1%, growing 530 basis points sequentially, driven by leverage and mix. Services gross margin was 68.4%, up 150 basis points sequentially, mainly due to a different mix.\\r\\nNet income, diluted earnings per share and operating cash flow were all-time records. Net income was $28.8 billion, up $6.5 billion or 29% over last year. Diluted earnings per share were $1.68, up 35% over last year and operating cash flow was $38.8 billion, an improvement of $8.2 billion.  \\r\\nLet me get into more detail for each of our revenue categories. iPhone revenue was a record $65.6 billion, growing 17% year-over-year as demand for the iPhone 12 family was very strong despite COVID-19 and social distancing measures, which have impacted store operations in a significant manner. Our active installed base of iPhones reached a new all-time high and has now surpassed 1 billion devices, thanks to the exceptional loyalty of our customer base and strength of our ecosystem. In fact, in the U.S., the latest survey of consumers from 451 Research indicates iPhone customer satisfaction of 98% for the iPhone 12 family.  \\r\\nTurning to Services. As I said, we reached an all-time revenue record of $15.8 billion and set all-time records in App Store, cloud services, Music, advertising, AppleCare and payment services. Our new service offerings, Apple TV+, Apple Arcade, Apple News+, Apple Card, Apple Fitness+ as well as the Apple One bundle are also contributing to overall Services growth and continue to add users, content and features.\\r\\nThe key drivers for our Services growth all continue to move in the right direction: First, our installed base growth has accelerated and is an all-time high across each major product category; second, the number of both transacting and paid accounts on our digital content stores reached a new all-time high during the December quarter with paid accounts increasing double digits in each of our geographic segments; third, paid subscriptions continue to grow nicely, and we exceeded our target of 600 million paid subscriptions before the end of calendar 2020. During the December quarter, we added more than 35 million sequentially, and we now have more than 620 million paid subscriptions across the services on our platform, up 140 million from just a year ago.\\r\\nFinally, we continue to improve the breadth and quality of our current Services offerings and are adding new services that we think our customers will love. For example, Apple Music recently released its biggest product update ever with features like Listen Now, all new search, personal radio stations and autoplay. 90% of Apple Music users on iOS 14 have already used these new features.\\r\\nIn payment services, we continue to expand our coverage with nearly 90% of stores in the United States now accepting Apple Pay so that customers can easily have a touchless payments experience.  \\r\\nWearables, Home and Accessories grew 30% year-over-year to $13 billion, setting new all-time revenue records in every geographic segment. As a result of this strong performance, our Wearables business is now the size of a Fortune 120 company. Importantly, Apple Watch continues to extend its reach with nearly 75% of the customers purchasing Apple Watch during the quarter being new to the product. We're very excited about the future of this category and believe that our integration of hardware, software and services uniquely positions us to provide great customer experience in this category.\\r\\nNext, I'd like to talk about Mac. We set a December quarter record for revenue at $8.7 billion, up 21% over last year. We grew strong double digits in each geographic segment and set all-time revenue records in Europe and rest of Asia Pacific as well as December quarter records in the Americas, Greater China and in Japan. This performance was driven by strong demand for the new MacBook Air, MacBook Pro and Mac mini, all powered by our brand-new M1 chip.\\r\\niPad performance was also very impressive with revenue of $8.4 billion, up 41%. We grew strong -- very strong double digits in every geographic segment, including an all-time record in Japan. During the quarter, the new -- the all-new iPad Air became available and customer response has been terrific. Both Mac and iPad are incredibly relevant products for our customers in the current working and learning environments. And we are delighted that the most recent surveys of consumers from 451 Research measured customer satisfaction at 93% for Mac and 94% for iPad. With this level of customer satisfaction and with around half of the customers purchasing Mac and iPad during the quarter being new to that product, the active installed base for both products continues to grow nicely and reached new all-time highs.\\r\\nIn the enterprise market, we are seeing many businesses shifting their technology investment in response to COVID. One example is how businesses are handling their hundreds of millions of office desk phones while more employees are working remotely. Last quarter, Mitsubishi UFG Bank, one of the largest banks in the world, announced that it will be replacing 75% of its fixed phones with iPhones. By doing so, it expects to realize significant cost savings while providing a secure mobile platform to employees.\\r\\nWe're also pleased with the rapid adoption of the Mac Employee Choice Program among the world's leading businesses, who are seeing improved productivity, increased employee satisfaction and talent retention. With the introduction of M1-powered Macs, we're excited to extend these experiences to an even broader range of customers and employees, especially in times of increased remote working.\\r\\nLet me now turn to our cash position. We ended the quarter with almost $196 billion in cash plus marketable securities and retired $1 billion of maturing debt, leaving us with total debt of $112 billion. As a result, net cash was $84 billion at the end of the quarter. We returned over $30 billion to shareholders during the December quarter, including $3.6 billion in dividends and equivalents and $24 billion through open market repurchases of 200 million Apple shares as we continue on our path to reaching a net cash neutral position over time.\\r\\nAs we move ahead into the March quarter, I'd like to provide some color on what we are seeing, which includes the types of forward-looking information that Tejas referred to at the beginning of the call. Given the continued uncertainty around the world in the near term, we will not be guiding to a specific revenue range. However, we are providing some directional insights assuming that COVID-related impacts of our business do not worsen from our current assumptions for the quarter.\\r\\nFor total company revenue, we believe growth will accelerate on a year-over-year basis and in aggregate, follow typical seasonality on a sequential basis. At the product category level, keep in mind 2 items: First, during the March quarter last year, we saw elevated activity in our digital services as lockdowns occurred around the world, so our Services business faces a tougher year-over-year comparison; second, we believe the year-over-year growth in the Wearables, Home and Accessories category will decelerate compared to Q1. As you know, we were chasing demand on AirPods last year as we expanded channel inventory from Q1 to Q2. This year, we plan to decrease AirPods channel inventory as is typical after the holiday quarter.\\r\\nWe expect gross margin to be similar to the December quarter. We expect OpEx to be between $10.7 billion and $10.9 billion. We expect OI&E to be up around $50 million and our tax rate to be around 17%. Finally, today, our Board of Directors has declared a cash dividend of $0.205 per share of common stock payable on February 11, 2021, to shareholders of record as of February 8, 2021.\\r\\nWith that, let's open the call to questions. Thank you, Luca. [Operator Instructions] Operator, may we have the first question, please? We'll go ahead and take our first question from Katy Huberty with Morgan Stanley. Congratulations on a really strong quarter. First question for Luca. The gross margin was particularly strong versus your outlook. Can you talk about whether you recognize the full impact of the weaker dollar in the December quarter given your typical currency hedges? And then how are you thinking about the headwinds and tailwinds on gross margins as you go into the March quarter? And then I have a follow-up for Tim. Yes, Katy. So yes, the gross margin was strong, was better than we had anticipated at the beginning of the quarter. The reason for that was obviously we had very strong leverage from higher sales. And the mix was strong, both the mix within products and the mix of services, and that was only partially offset by cost. As you know, we launch many new products during the fall, and that always comes with new cost structures. So in total, it was very good.\\r\\nOn -- from the FX standpoint, really, at the gross margin level, FX didn't play a role, neither sequentially nor on a year-over-year basis for the December quarter partially because of the hedges that you talked about but also because some currencies are still weaker against the dollar. They're still weaker than a year ago, look, specifically to emerging markets in Latin America, in Russia, in Turkey and so on.  \\r\\nClearly, if the dollar remains weak or continues to weaken, that can become a tailwind for us as we get into the March quarter. At current rates, we expect some level of benefit around 60 to 70 basis points for the March quarter. That's great. And Tim, one of the challenges with valuing Apple is just a limited visibility that investors have into the road map and any new categories that you might enter over time. Without, of course, commenting on any given opportunity, can you talk about the framework that you use internally to evaluate new markets that might be attractive and what you believe will determine your success as you look to enter new markets? Thanks, Katy, for the question, and thanks for not asking me any specifics. The framework that we use is very much around we ask ourselves if this is a product that we would want to use ourselves or a service that we would want to use ourselves, and that's a pretty high bar. And we ask ourselves if it's a big enough market to be in unless it's an adjacency product, of which we're looking at it very much from a customer experience point of view.\\r\\nAnd so there's no set way that we're looking at it, no formula kind of thing. But we're taking into account all of those things. And the kind of things that we love to work on are those where there's a requirement for hardware, software and services to come together because we believe that the magic really occurs at that intersection. And so hopefully, that gives you a little bit of insight into how we look at it.\\r\\nAnd I think we have some good -- really good opportunities out there. And I think if you look at our current portfolio of products, we're -- we still have relatively a low share in a number of cases in very big markets. And so we feel like we have really good upside there, and we feel like we have really good upside in the Services area, too, that we've been working on for quite some time with 4, 5 new services just coming online in the last year, year plus. And so -- yes. Thank you. We'll hear next from Wamsi Mohan with Bank of America. Luca, the iPhone growth exceeded your expectations despite a late launch. Can you maybe share some color on what drove that? Was it more on the unit side or the ASP side? You referred to very strong mix a couple of times on the call. And how does this change your view on the March quarter? And if you could share any color on if you're still supply constrained, and I have a follow-up for Tim. Yes. Yes, certainly, iPhone was one of the major factors why we exceeded our own internal expectations at the beginning of the quarter. We have a fantastic product lineup and we know that, and it's been fantastic to see the customer response for the -- for new models, particularly the Pro models, the Pro and the Pro Max. So we've done very, very well both on units and on pricing because of the strong mix.  \\r\\nAnd we've had some level of supply constraints as we went through the quarter, particularly on the Pro and the Pro Max. As you said correctly, we launched these products in the middle of the quarter, 2 models after 4 weeks, the other 2 models after 7 weeks. And so obviously, we had a very steep ramp, which fortunately went very, very well. The products are doing very well all around the world. I think you've seen that our performance has been particularly strong in China, where we've seen phenomenal customer response that probably there was also some level of pent-up demand for 5G iPhones given that the market is moving very quickly to 5G.\\r\\nAnd so as we look ahead into the March quarter, we're very optimistic. We believe we're going to be able to be in supply-demand balance for all the models at some point during the quarter. And it's -- the product is doing very well all around the world. Great. And Tim, you mentioned about the strength of the installed base performance, which continues to grow very impressively at this scale. Can you maybe help us think through how the switcher versus upgrade activity has been tracking in recent quarters? Would love to get your thoughts on that. Yes. Thanks for the question. If you look at this past quarter, which has -- we started selling 2 of the iPhones 4 weeks into the quarter and the other 2 7 weeks into the quarter. And so I would caution that this is in the early going. But in looking at the iPhone 12 family, we saw both switchers and upgraders increase on a year-over-year basis; and in fact, we saw the largest number of upgraders that we've ever seen in a quarter. And so we were very thrilled about that. We'll go ahead and take our next question from Shannon Cross with Cross Research. Tim, can you talk a bit about what you're seeing in China? Clearly, significant sequential growth, which I think has a lot to do with iPhone. But I'm curious, both from an iPhone as well as your other product categories, what you're seeing and how much back to normal you think the Chinese market is. And then I have a follow-up. Yes. China was more than an iPhone story. iPhone did do very well there. And sort of like the world, if you look at both switchers and upgraders, we were up year-over-year, and China also had a record number of upgraders during the quarter, the most we've ever seen in a quarter. I think probably some portion of this was that people probably delayed purchasing in the previous quarter as rumors started appearing about an iPhone.\\r\\nKeep in mind that 5G in China is -- the network is well established, and the overwhelming majority of phones being sold are 5G phones. And so I think there was some level of anticipation for us delivering an iPhone with 5G. And so iPhone did extremely well.\\r\\nHowever, the other products did as well. I mean we could not have turned in a performance like we did with only iPhone. iPad did extremely well, far beyond the company average. Mac was above the company average. Wearables, Home and Accessories was above the company average. And so if you really look at it, we did really well across the board there.\\r\\nIn terms of COVID, I think they're -- at least for last quarter, they were beat -- sort of beyond COVID, very much in the recovery stage. This quarter, there are different reports about some cases in some places and lockdowns occurring but we have not seen that in our business as yet. And of course, those cases are much smaller than the ones in other countries. Right. I guess the other thing I was curious about, with regard to the Services business, if we could dig a little bit more, I think this is one of the first times when, Luca, you talked about Apple TV+, Arcade, Apple Pay, some of the smaller services actually kind of moving the needle. And then I was also curious, you had a number of stores closed at least later in the quarter, and that typically has impacted some of your AppleCare revenue and yet you outperformed. So maybe if you could talk about a bit more about the drivers of the Services revenue. Yes. I mean, really, it's been strong across the board. There are 2 businesses during COVID that have been impacted negatively, and we talked about it in the past. One is AppleCare. Obviously, when the stores are closed, it's tougher, of course, for customers to have interaction with us. And advertising, which is -- it's in line with the overall level of economic activity.\\r\\nWhat happened during the December quarter is that in-store traffic improved. And so AppleCare, we grew. We didn't grow as much as company average, but we grew in AppleCare, set an all-time record there in spite of the fact that, yes, we are running -- particularly in December, we started closing a few stores, particularly here in the United States but also in Western Europe. But in total, we were able to support more customers than in past quarters.\\r\\nAnd we also saw a sequential acceleration in advertising and so that also helped the overall growth rate. Clearly, the strength was in digital services, in the App Store, in cloud services, in Music. Those were the services that really delivered very, very strong performance. It's something that we've seen happen during the COVID environment. We'll hear from Toni Sacconaghi with Bernstein. I also have one for Luca and one for Tim. Luca, I was wondering if we could just probe a little bit more into iPhone. Maybe you can just -- you talked about a drawdown in channel inventory last quarter. Our iPhone channel inventory is sort of at normal levels now exiting Q1. And should we be thinking about above-seasonal iPhone growth -- given that you're still not in supply-demand balance and you had fewer selling days in fiscal Q1, should we be thinking about sort of above-seasonal iPhone growth looking into Q2? So on the December performance, as you know, Toni, this was a very different cycle because we launched at a different time than usual. And so we had an initial part of the quarter where, obviously, we didn't have the new phones. And then as we launched the new phones, we also did the channel fill that typically happens, to a certain extent, in the September quarter.\\r\\nAt the end of the quarter, the demand has been very strong. And so we've been constrained, as I said, on -- especially in the Pro models. At the end of December, we exited with a level of iPhone channel inventory, which was slightly below a year ago. So we -- and we still had some level of supply constraints, which we believe we're going to be able to solve during the March quarter.\\r\\nIn terms of the sequential change, we talked about -- during the prepared remarks, we talked about total company average, and we said that we expect that sequential progression to be similar to the typical seasonality that you've seen in past years. Certainly, last year is not typical because of COVID. But if you go back, fiscal '17, '18, '19, that's our typical seasonal progression.\\r\\nAnd we mentioned a couple of product categories, Services and Wearables, where we're going to be having a slightly more difficult compare. And so I think you can draw your conclusions around the iPhone. Okay. And then, Tim, I was wondering if you could just comment more broadly around growth for Apple and sources of growth. The company this year is going to be well over $300 billion in revenue. Historically, you've eschewed acquisitions. And I'm wondering if you could comment whether you still feel confident that Apple has Apple organic growth opportunities and that you don't believe acquisitions are an important source of growth. And then I think perhaps most importantly, as you look out, let's say, over the next 5 years, what do you think is a realistic revenue growth rate for Apple going forward? Yes. Toni, as you know, we give some color on the current quarter but not beyond that in terms of growth rates, so I'll punt that part of your question. But if you back up and look at the sort of the ingredients that we have at this point, we have the strongest hardware portfolio that we've ever had. And we have a great product pipeline for the future, both in products and in services.\\r\\nWe have an installed base that has hit new highs that we just talked about earlier in our opening comments. And we're still attracting a fair number of switchers and, of course, upgraders. We just set an all-time Services record, and we have that installed base to compound that, and particularly with the added services that we've had over the last year or so, that as they grow and mature, will contribute even more to the Services revenue stream.\\r\\nAnd on the Wearables side, we've brought this thing from 0 to a Fortune 120 company, which was no small feat. But I still think that we're in the early stages of those products. If you look at our share in some of the other products, whether you look at iPhone or Mac or iPad, you find that the share numbers leave a fair amount of headroom for market share expansion. And this is particularly the case in some of the emerging markets, where we're proud of how we've done, but there's a lot more headroom in those markets.\\r\\nLike if you take India as an example, we doubled our business last quarter compared to the year ago quarter, but our absolute level of business there is still quite low relative to the size of the opportunity. And you can kind of take that and go around the world and find other markets that are like that as well.\\r\\nAnd of course, the other thing from a market point of view is we're -- we've been on a multiyear effort in the enterprise and have gained quite a bit of traction there. You've heard some of the things in Luca's comments today, and we comment some on it each quarter. We're very optimistic about what we can do in that space.\\r\\nAnd then, of course, we've got new things that we're not going to talk about that we think will contribute to the company as well just like other new things have contributed nicely to the company in the past. So we see lots of opportunity. Thank you for the question. We'll hear from Amit Daryanani with Evercore ISI. I have 2 questions as well. I guess starting with you, Luca, I just wanted to go back to the gross margin discussion, and we really haven't seen gross margins at this level, high 39%, I think, since 2016. Could you maybe step back and talk about what has enabled the shift higher? What are the key drivers to get you there? And is commodity tailwinds or in-sourcing of some components really a big part of this? So just love to understand the durability of the gross margin at these levels. And what are the big drivers that got us here? Well, Amit, of course, when you grow the way we've grown this quarter, 21%, it's -- obviously, we have a certain level of fixed cost in our product structures, right? And so a high level of sales helps margin expansion without a doubt, and so that has been probably the biggest factor, to be honest.\\r\\nAnd then as I was saying earlier, we've had, across the board, in services, in every product category, we've had a very strong mix of products, right? We were talking about the iPhone, the Pro and the Pro Max, and that's been pretty much the case in every product category. So the mix has also been very good.\\r\\nThe commodity environment is fairly benign. And the one thing that has not affected us this time around is the FX that it's true, it has not been a tailwind yet for the reasons that I was explaining to Katy, but at the same time, it has not been a negative. And the reality is that FX for us has been a negative over the last 5 or 6 years almost every quarter. And so that has changed, and that obviously makes a difference. Got it. And then, Tim, when I look at the growth rates on Mac and iPads, they've been in the 20% to 40% range for the last 3 quarters, and I suspect some of this is just folks contending with the pandemic. But love to understand, when you look at these growth rates, how much of this do you think is replacement cycle-driven folks upgrading what they have at home versus new customers and new folks that are coming into the Apple ecosystem? And do you see -- I guess what sort of growth rates do you think is more durable or predictable as we go forward over here? If you look at the switcher or the switchers, if you look at the new to Mac and new to iPad, these numbers are still about -- at a worldwide level, about half of the purchases are coming from people that are new. And so the installed base is still expanding with new customers in it. And so that's true on both iPad and Mac.\\r\\nIf you look at Mac, the M1, I think, gives us a new growth trajectory that we haven't had in the past. Certainly, if Q1 is a good proxy, there's lots of excitement about M1-based Macs. As you know, we're partly through the transition. We've got more -- a lot more to do there. We're early days of a 2-year transition, but we're excited about what we see so far.\\r\\nThe iPad, as we went out with the iPad Air, and we now have the best iPad lineup we've ever had, and it's clear that some people are using these as laptop replacements, others are using them as complementary to their desktop. But the level of growth there has been phenomenal. You look at it at 41%. And yes, part of it is work from home and part of it is just learning.\\r\\nBut I think I wouldn't underestimate how much of it is the product itself on -- in both the case of iPad and Mac. And of course, our share in the Mac is quite low in the -- for the total personal computer market. And so there's lots of headroom there. Congrats on a great quarter. Thank you. Thank you. We'll go ahead and take our next question from Samik Chatterjee with JPMorgan. Congrats on the record quarter from my side as well. I guess I wanted to start off with iPhone sales. I think in -- general impression we have is China and North America have more robust 5G infrastructure. I just wanted to see kind of what are you seeing in terms of customer engagement or velocity of sales for iPhone in Europe, where I think the general impression is that service providers haven't rolled out robust 5G services. Is that something that's impacting customer interest in the latest lineup in the region? And I have a follow-up. If you look at the 5G rollout in Europe, it's true that Europe is not in the place of -- certainly nowhere close to where China is and nowhere close to the U.S. either. But there are other regions that 5G is -- that has very good coverage. Like Korea is an example. And so the world, I would describe it right now, is more of a patchwork quilt. There are places that there's really excellent coverage. There are places where, within a country, that is very good but not from a nationwide point of view. And then there are places that really hasn't gotten started yet. Latin America is more closer to the last one. There's lots of opportunity ahead of us there. And I think Europe is where there are 5G implementations there. I think most of that growth is probably in front of us there as well. Got it. As a follow-up, if I can just ask you, I think you mentioned the momentum you're seeing for the Apple One bundle, which I think has been a couple of months now since you launched it. Any metrics to share in terms of what you're seeing for conversion rate of customers or even insights into which services are turning -- in that bundle, are turning out to be the anchor services that's driving adoption of that bundle? It's really too early to answer some of those questions. As you know, we just got started in the -- into the quarter in Q1, so we have less than a quarter on this right now. What we wanted to accomplish with it, we're clearly accomplishing, which is making our services very easy to subscribe to. Our customers clearly told us that they wanted to subscribe to several services or, in some cases, all of our services. And so we've made that very simple, and it's clear from the early going that it's working but we've just gotten started on it. We'll hear from Krish Sankar with Cowen. Congrats on the very strong results. My first question is for Tim. Tim, I want to talk a little bit about your search and advertising business. How do you think of the long-term growth opportunities in advertising? How do you think it -- how long can it grow at 2 to 3x the App Store growth rate? And also, are there any applications where your fundamental search technology, AR-infused could be adapted for other parts of the Services business? That's the first question. And then I have a quick follow-up for Luca after that. The search, advertising business is going well. It's a -- there's lots of intent from search, and we do it in a very private kind of manner, observing great privacy policies and so forth. And I think people see that and are willing to try it out. And we have been growing nicely in that area. It's a part of the advertising area that Luca spoke of earlier. Got it. Got it. And then a follow-up for Luca. When you look at your Services segment in the March quarter, in China, you typically see a bump due to gaming downloads during Chinese New Year. So should we see a similar trend this time around? But do you think with the pandemic and people staying primarily at home, that kind of seasonal bump might not happen in China for gaming downloads? Yes. I mean it -- and I think I was mentioning it during the prepared remarks. We -- clearly, in China, the March quarter is typically the strongest quarter for our Services business and for the App Store because of Chinese New Year, as you mentioned. And last year, what we saw was an increased level of activity because, after Chinese New Year, the whole country went into lockdown for several weeks. And so that propensity for playing games continued for several weeks, more than a typical cycle. So we expect to have a great quarter in China, but at the same time, we need to keep in mind that the compare is going to be particularly challenging because of what happened a year ago. We'll go ahead and take our next question from Chris Caso with Raymond James. The first question is on iPhone ASPs, and I know you don't disclose the numbers there, but I wonder if you could speak about it qualitatively. You spoke about the richer mix, but there were also some price differences as compared to a year ago. iPhone 12 came in at a higher price point. The Pro established a new price point. Can you speak to how that -- the level of benefit that you saw there? And going forward, are you confident that you can continue to improve the mix in iPhone going forward? So as I said earlier, we grew iPhone revenue 17%, and that growth came from both unit sales and ASPs because of the strong mix that I mentioned before. So I think that answers your question for the December quarter. What we've seen so far, it's very early because we launched the new products only a few weeks ago. What we've seen so far is a very high level of interest for the Pro models, the Pro and the Pro Max. We worked very hard to ramp up our supply. We've had some supply constraints during the December quarter. We think we're going to be able to solve them during the March quarter. But so far, the mix has been very, very strong on iPhone. Okay. As a follow-up question, if you could talk a bit to the benefit that you may have seen from some of the carrier actions? We've seen very aggressive trade-ins during the quarter. Did that provide a benefit, in your view, on units or mix or perhaps both? And what would be the level of permanence that you would see in some of those actions such that if those subsidies were removed, could that potentially be a headwind going forward? I think -- Chris, it's Tim. I think subsidies always help that anything that reduces the price to the customer is good for the customer and obviously good for the carrier that's doing it and good for us as well. And so it's a win across the board. I believe that, at least based on what I see right now, is that there would be probably continuing to have quite a bit of competition in the market, if you're talking about the U.S. market for customers as the carriers work to get more customers to move to 5G.\\r\\nIn -- outside of the U.S., the subsidies are not used in all geographies, and so it really varies greatly by country. Some of them are -- separate completely, the handset and the service; and in those areas, we don't have subsidies. We'll go ahead and hear from Jim Suva with Citigroup. It's amazing how your company has pivoted and progressed through this uncertain time in society. A lot of the pushback we get on our view on Apple is that everyone around them or that they know in developed countries has an iPhone or Apple product and the market is kind of being saturated some. But when I look at other countries like India, I believe statistically, you are materially below that in market share. So are you doing active efforts there? It seems like there's been some news reports of moving supply chain there or you recently opened up an Apple Store. How should we think about that? Because it just seems like you're really not full market share equally around the world. Yes. There are several markets, as I alluded to before, India is one of those, where our share is quite low. It's -- it did improve from the year ago quarter. Our business roughly doubled over that period of time, and so we feel very good about the trajectory. We are doing a number of things in the area. We put the online store there, for example, and last quarter was the first full quarter of the online store. And that has gotten a great reaction to it and has helped us achieve the results that we got to last quarter. \\r\\nWe're also going in there with retail stores in the future. And so we look for that to be another great initiative and we continue to develop the channel as well. And so there's lots of things, not only in India but in several of the other markets that you might name where our share is lower than we would like.\\r\\nAnd I -- again, I would also say, even in the developed markets, when you look at our share, definitely, everybody doesn't have an iPhone, not even close. And so we really don't have a significant share in any market. We're -- so there's headroom left even in those developed markets where you might hear that. Congratulations to you and your team and employees. Thank you, Jim. Appreciate that. Thank you. A replay of today's call will be available for 2 weeks on Apple Podcast, as a webcast on apple.com/investor and via telephone. The numbers for the telephone replay are (888) 203-1112 or (719) 457-0820. Please enter confirmation code 1828830. These replays will be available by approximately 5 p.m. Pacific Time today.\\r\\nMembers of the press with additional questions can contact Kristin Huguet at (408) 974-2414. Financial analysts can contact me with additional questions at (669) 227-2402. Thank you again for joining us. Once again, that does conclude today's conference. We do appreciate your participation.\",\n          \"Hello, and welcome to the AMD First Quarter 2021 Earnings Call and Webcast. [Operator Instructions] As a reminder, this conference is being recorded. \\r\\nIt's now my pleasure to turn the call over to Ruth Cotter, Senior Vice President, Worldwide Marketing, Human Resources and Investor Relations. Please go ahead, Ruth. Thank you, and welcome to AMD's First Quarter 2021 Financial Results Conference call. By now, you should have had the opportunity to review a copy of our earnings press release and accompanying slideware. If you've not reviewed these documents yet, they can be found on the Investor Relations page of amd.com.  \\r\\nParticipants on today's conference call are Dr. Lisa Su, our President and Chief Executive Officer; and Devinder Kumar, our Executive Vice President, Chief Financial Officer and Treasurer. This is a live call and will be replayed via webcast on our website. \\r\\nBefore we begin, I would like to note that our annual shareholder meeting will be held on Wednesday, May 19, as a virtual event accessible from our website. Dr. Lisa Su will provide a keynote presentation at the JPMorgan Technology, Media and Communications Conference on Monday, May 24. Dan McNamara, Senior Vice President and General Manager of our server business, will attend the Bank of America Global Technology Conference on Wednesday, the 9th of June. And our second quarter 2021 quiet time is expected to begin at the close of business on Friday, June 11.  \\r\\nToday's discussion contains forward-looking statements based on current beliefs, assumptions and expectations speak only as of today and as such, involve risks and uncertainties that could cause actual results to differ materially from our current expectations. Please refer to the cautionary statement in our press release for more information on factors that could cause actual results to differ materially.  \\r\\nWe will refer primarily to non-GAAP financial measures during this call. The full non-GAAP to GAAP reconciliations are available in today's press release and slides posted on our website.  \\r\\nNow with that, I'll hand the call over to Lisa. Lisa? Thank you, Ruth. And good afternoon to all those listening in today. Our business continued to accelerate significantly in the first quarter, driven by the best product portfolio in our history, strong execution and robust market demand. We delivered our sixth straight quarter of double-digit percentage year-over-year revenue growth and record quarterly revenue and profitability. First quarter revenue increased 93% year-over-year to $3.45 billion, with growth in all of our businesses. \\r\\nTurning to our Computing and Graphics segment. First quarter revenue increased 46% year-over-year to $2.1 billion, led by growth in both Ryzen and Radeon processor sales. In client computing, revenue grew by a significant double-digit percentage year-over-year and increased sequentially as we set records for client processor revenue and ASP.  \\r\\nAgainst the backdrop of strong overall PC demand, our revenue is growing significantly faster than the market, particularly in the ultrathin, gaming and commercial segments. As a result, we believe we gained client processor revenue share in the quarter. Our revenue share has doubled over the last 2 years as we have expanded in the premium products.  \\r\\nIn notebooks, we delivered our sixth straight quarter of record mobile processor revenue based on sustained demand for Ryzen 4000 Series processors and the launch of our new Ryzen 5000 Series processors. Ryzen Mobile 5000 Series processor revenue has ramped twice as fast as the prior generation. We expect continued growth in 2021 as the number of notebook platforms powered by our new processors is on track to increase by 50% compared to our prior generation.  \\r\\nWe're also making good progress in the commercial market as unit shipments of our Ryzen PRO Processors grew by a strong double-digit percentage sequentially. We secured multiple high-volume wins across Fortune 500 aerospace, automotive, electronics and engineering companies in the quarter. And we're well positioned for further growth as we have tripled our commercial notebook design wins with the largest OEMs this year.  \\r\\nIn graphics, revenue increased by a strong double-digit percentage year-over-year and sequentially, led by channel sales growth as revenue from our high-end Radeon 6000 GPUs more than doubled from the prior quarter. We introduced our Radeon 6700 XT deskstop GPU with leadership 1440p gaming performance in March and are on track for the first notebooks featuring our leading-edge mobile RDNA 2 architecture to launch later this quarter. We expect Radeon 6000 Series GPU sales to grow significantly over the coming quarters as we ramp production.  \\r\\nData center graphics revenue grew year-over-year and sequentially, driven largely by adoption of Instinct accelerators across cloud and HPC customers. \\r\\nWe are making great progress on our data center GPU road maps and expect revenue to grow in the second half of the year as we begin the production ramp of our next-generation AMD Instinct GPU to support multiple HPC wins including Frontier, the first U.S. exascale supercomputer. Frontier will use next-generation AMD CPUs, GPUs and software to deliver unprecedented scientific computing and AI capabilities, creating a blueprint for scientific, cloud and enterprise customers to enable exascale-class computing and AI performance over the coming years. \\r\\nNow turning to our Enterprise, Embedded and Semi-Custom segment. Revenue increased 286% year-over-year to $1.35 billion, driven by strong growth in both semi-custom and EPYC processor sales. Semi-custom revenue declined by a single-digit percentage sequentially, which is better than typical seasonality. We expect semi-custom sales to remain strong throughout 2021, driven by significant demand for the latest generation Sony and Microsoft consoles.  \\r\\nIn server, we delivered another quarter of record server processor revenue as EPYC processor sales more than doubled year-over-year and grew by a strong double-digit percentage sequentially. Sales of both our second- and third-gen EPYC processors increased sequentially as growing adoption of our second-gen offerings was complemented by third-gen EPYC processors successfully ramping into production across multiple cloud and enterprise customers.  Third-gen EPYC processors offer 25% more performance per watt compared to our previous generation and deliver both per socket and per core leadership across database, ERP, data analytics, Java, virtualization, cloud and supercomputing workloads.  \\r\\nCloud demand was particularly strong in the quarter as Tier 1 providers expanded their EPYC processor deployments to power more of their internal infrastructure and introduced 11 new AMD-powered instances. We expect the number of AMD-powered instances to double by the end of the year to 400 as Microsoft Azure, Amazon, Google, IBM, Oracle and Tencent significantly expand their offerings with third-gen EPYC processors.  \\r\\nFor the enterprise, Cisco, Dell, HP Enterprise, Lenovo and Supermicro all announced plans to expand their AMD-based offerings with more than 100 new third-gen EPYC processor-powered server platforms that deliver superior performance and total cost of ownership. In HPC, we built momentum with new high-volume wins, including the National Center for Atmospheric Research, Sweden's Institute of Science, as well as a unique on-prem and cloud solution for the United Kingdom's National Weather Modeling Service that will be the world's most powerful weather and climate forecasting supercomputer.  \\r\\nTaking a step back, I am very pleased with the progress we have made in our data center business over the last several years as each new EPYC processor generation has ramped significantly faster than the previous generation. We have established AMD as a trusted strategic partner to the largest cloud enterprise and HPC customers based on developing and consistently delivering a leadership multigeneration CPU road map.  \\r\\n2021 marks an inflection point in terms of the scale, ecosystem support and customer adoption of our EPYC and instant processors. In the first quarter, data center product revenue more than doubled year-over-year and represented a high-teens percentage of our overall revenue. We expect data center product revenue to grow significantly as we go through the year, driven by our strong pipeline of new cloud, enterprise and HPC wins.  \\r\\nWe significantly accelerated our business in the first quarter and now see higher growth for the year, driven by increased customer adoption for our products, overall market strength and additional supply from our supply chain partners. We also passed another major milestone with our pending acquisition of Xilinx in the quarter as shareholders voted overwhelmingly to approve the transaction. We remain on track to close the strategic acquisition by the end of the year. \\r\\nIn closing, we have entered a high-performance computing megacycle with the strongest products and the deepest customer relationships in our history. Our success is built on delivering a consistent cadence of leadership products. We are increasing our R&D investments and aggressively driving our road maps to continue setting the pace of innovation for the industry and deliver best-in-class growth over the coming years. \\r\\nNow I'd like to turn the call over to Devinder to provide some additional color on our first quarter financial performance. Devinder? Thank you, Lisa, and good afternoon, everyone. AMD had excellent execution and very strong financial performance in the first quarter. Our multi-generation product road map is driving significant revenue growth, and we delivered record financial results and free cash flow.  \\r\\nDriven by this momentum, we delivered first quarter revenue of $3.45 billion, up 93% from a year ago and up 6% from the prior quarter. Year-over-year growth was driven by strong increases in sales across all businesses. Gross margin was 46%, flat from a year ago despite significantly higher semi-custom product revenue.  \\r\\nOperating expenses were $830 million compared to $584 million a year ago as we continue to invest in our business. Operating income was $762 million, up $526 million from a year ago, driven primarily by revenue growth. Operating margin increased from 13% a year ago to 22%. \\r\\nNet income was $642 million, up $420 million from a year ago, excluding $15 million of Xilinx acquisition-related costs. Diluted earnings per share was $0.52 per share compared to $0.18 per share a year ago.  \\r\\nCurrent quarter results include a 15% effective tax rate compared to a 3% tax rate a year ago. We continue to anticipate a cash tax rate of approximately 3% for 2021. \\r\\nNow turning to business segment results. Computing and Graphics segment revenue was $2.1 billion, up 46% year-over-year due to the significantly higher client processor and graphics revenue. Computing and Graphics segment operating income was $485 million or 23% of revenue compared to $262 million a year ago.  \\r\\nEnterprise, Embedded and Semi-Custom segment revenue was $1.35 billion, up 286% from $348 million the prior year. The revenue increase was driven by the ramp of semi-custom product sales and very strong growth in EPYC processor revenue, which more than doubled year-over-year. EESC segment operating income was $277 million or 21% of revenue compared to an operating loss of $26 million a year ago. The higher operating income was driven by higher revenue. \\r\\nTurning to the balance sheet. Cash, cash equivalents and short-term investments were $3.1 billion, up from $2.3 billion at the end of the prior quarter. Inventory was $1.7 billion. Free cash flow was $832 million in the first quarter compared to negative free cash flow of $120 million in the first quarter of 2020. Principal debt was $314 million, including a $24 million reduction in our 2026 convertible notes, which have only $2 million remaining. \\r\\nLet me turn to the outlook for the second quarter of 2021. Today's outlook is based on current expectation and contemplates the current global supply environment and customer demand signals.  \\r\\nWe expect revenue to be approximately $3.6 billion, plus or minus $100 million, an increase of approximately 86% year-over-year and an increase of approximately 4% sequentially. The year-over-year increase is expected to be driven by growth in all businesses. The sequential increase is expected to be primarily driven by growth in data center and gaming. \\r\\nIn addition, for Q2 2021, we expect non-GAAP gross margin to be approximately 47%; non-GAAP operating expenses to be approximately $900 million; non-GAAP interest expense, taxes and other to be approximately $130 million. And the diluted share count in the second quarter is expected to be approximately 1.23 billion shares.  \\r\\nFor the full year 2021, we now expect revenue growth of approximately 50% over 2020, driven by growth across all businesses, up from the prior guidance of approximately 37%. We continue to expect non-GAAP gross margin to be approximately 47%, non-GAAP operating expenses to be approximately 26% of revenue, non-GAAP effective tax rate to be 15%, and we expect the company's cash tax rate to be approximately 3%.  \\r\\nIn closing, we had an excellent start in 2021 with very strong year-over-year growth in both segments. We continue to invest in the business and drive strong financial returns. \\r\\nWith that, I'll turn it back to Ruth for the question-and-answer session. Ruth? Thank you, Devinder. And operator, if you'd like to poll the audience for questions, please? [Operator Instructions] Our first question today is coming from Vivek Arya from Bank of America Securities. Lisa, you're guiding -- you're increasing the full year guidance by almost $1.2 billion, $1.3 billion. Could you give us some sense of what has changed in the last 3 months? Because your competitor was recently talking about cloud digestion, and you're raising guidance by $1.3 billion. So I'm curious what changed in the last 3 months? And if you could help us parse which products or end markets are contributing to this increase, how much from servers or PC or semi-customer, or if there is any crypto impact. So any color on what's driving this really strong guidance and increase for the year would be very helpful. Yes, absolutely, Vivek. Thanks for the question. So we are -- we started the year very strong, very pleased with the first quarter performance and what we see overall for the year. So we are increasing our full year guidance. We exceeded in the first quarter. We guided up in the second quarter, and then that's carrying through to the second half of the year.  \\r\\nWhat we've seen is the following. We came into the year with an overall strong demand picture, and that was certainly true. What we've seen over the last 90 days is consistent strong demand, very strong visibility from our customers on what they need throughout the year. Particularly, you asked about data center. I think we saw actually strong signals in the first quarter that it would be a strong data center year for us.  \\r\\nWe're on a product ramp cycle. We launched new products in PCs on the mobile side with our Ryzen 5000. We launched new products on the graphics side with Radeon 6000. And then the launch of the third-generation Milan has actually gone very, very well.  \\r\\nSo in terms of what we see, we see very strong demand for our products. We see good customer ordering patterns and strong backlog. And then we have also seen that the supply chain has been tight overall for the semiconductor industry. And we've been working very closely with our supply chain partners. And so we also have good visibility to additional supply as we go throughout the year. So with all that in place, I would say we feel very good about how the year is shaping up. \\r\\nIn terms of where you see the strength overall, I would say it's strength across all businesses. But particularly the strength in data center is good. And we also see just, again, very good visibility and very close working relationships with our customers.  \\r\\nYou asked about crypto. We do not -- we have negligible crypto in here. So this is really the foundational business, really the new products and just seeing the customers adopt and ramp quickly. Got it. Very helpful. And Lisa, for my follow-up, should we assume that now you are getting adequate supply? So you're kind of caught up from a supply perspective and supply is no longer a constraint. Or is that still a constraint? And if it is, in which end market? Because you're keeping full year gross margins steady at 47%. So I was curious if there is any impact from supply or rising input costs that could be impacting your gross margins, which you decided to keep to kind of flat versus your last outlook? Yes. I would say, Vivek, it's still early in the year. So the entire semiconductor supply chain is very, very tight. I think you hear that from all of our peers in the marketplace. That being said, we've been working very closely with our supply chain partners. We have seen improvements that have led to the improved full year guide. \\r\\nWe're going to continue to work on that because right now, I would say the channel -- the inventories are very low throughout the entire supply chain, whether you talk about at our customers or in the channels. And so there's quite more that we would like to be able to do. That being the case, I think we continue to work well with our partners and take lots of actions there.  \\r\\nAs it relates to overall costs and things like that, we are watching those things, I think, from logistics and some of the component costs and things like that. So there's -- mostly the gross margin guidance is reflective of the fact that we do have ramping of our new products. And we also have some ramp of the gaming products, which are a little bit below corporate average. But we'll see how things progress as we go throughout the year. Next question is coming from Blayne Curtis from Barclays. Nice results. Maybe just following up on Vivek's question. I was just curious. The semi-custom business obviously is not following any sort of seasonality, but there's a lot of talk about supply constraints there as well. You basically saw no seasonality in March, and it seems like it's not growing much in June. So just maybe just -- is that still impacted by maybe not your shortages or other shortages? And just any perspective on that business for the year. Yes. So thanks, Blayne, for the question. I think the semi-custom business, if you look at the console launches that happened last year, I mean they were phenomenally good launches, right, very, very good products. So you're right, seasonality is completely different this year than sort of a typical year. We had a strong first quarter better than seasonal. We were down but down single digits. There's a bit of growth as we go through the year, but it's just starting from such a high point in the first half of the year.  \\r\\nSo the way I would say it is I think there is a strong secular demand for gaming. And whether you're talking about consoles or you're talking about PC gaming or you're talking about the overall sort of gaming ecosystem, there's a significant demand. And so we believe there's strong demand, and we're continuing to ramp supply to meet that. And then I just want to ask you on the competitive landscape on the client side. You clearly gained a couple of points of share in March. Intel was talking about they're being more aggressive on their percent of 10-nanometer product. Just -- maybe just talk about the competitive landscape as you look through the rest of the year. And are you seeing any change to that landscape as they ramp 10-nanometer? Yes. So Blayne, I think the PC business has certainly had a very strong second half of last year and is strong this year. I think within that, we feel very good about our progress, particularly in notebooks and particularly in the premium segments of notebooks. So we had a strong record quarter for our notebook business. Our ASPs were up sequentially and year-over-year. I think we're seeing traction in sort of the premium ultrathin, gaming and commercial. \\r\\nWe feel very good about the platforms that we have and the platforms that we have throughout the year. Ryzen 5000 is a very competitive product. I will say that there are lots -- a bit of low-end units have come into the market, but our focus on the premium segments have done very well. So overall, pleased with the PC environment and feel that we're very competitive. Our next question is coming from Aaron Rakers from Wells Fargo. Congratulations on the quarter. I wanted to ask a little bit about the server CPU cycle. I know you've talked about kind of an expanding footprint with the cloud guys. But I'm curious of where we stand today as far as more of the traditional OEMs, the progression of their systems. I think you've said 100-plus systems. When do you think that those will all be shipping in the market? And how would you put the context of Milan relative to Rome on that front? And I have a follow-up. Sure. So Aaron, the data center business obviously is a very strategic focus for us. And with EPYC with each generation, we've really tried to expand the reach. I think here in the first quarter, what we saw is very strong results, doubling year-over-year. It is on the strength of cloud. But what we saw was both Rome ramping, so we saw Rome units up sequentially, and we also saw Milan ramping. \\r\\nAnd what that says, this is what we expected. We actually expected that we had a good footprint in Rome and that, that would continue to be well deployed as we come into the first half of this year, and that's played out. And then Milan is just a very, very good product. I mean it's extremely well positioned. Not only do we have per socket leadership, but we have per core leadership, which again expands the footprint. \\r\\nSo in terms of your question about cloud versus enterprise, we were more cloud weighted in the first quarter as some of those instances, both internal and external, ramped. We would expect that enterprise, both enterprise as well as HPC deployments, will increase as we go through the next couple of quarters. But we'll see Rome and Milan in the market together all through this year, and we expect strong adoption on the enterprise side. Yes. And then the other question kind of dovetailing off that is you talked in response to a couple of different questions. You've talked about visibility. Our visibility is very strong. It's improved, et cetera. So how would you characterize your visibility today relative to, let's say, what it was 3 months ago? And what gives you the confidence? Has there been something that's happened as far as discussions with the cloud guys that's given you more confidence in the visibility of the growth through the remainder of this year? Yes. So Aaron, I mean we -- when we started this year, we expected to have a strong product cycle, just given everything that we saw in terms of platforms, design wins, sort of customer engagements and process. But in the last 90 days, I think we've seen that really firm up. So from the standpoint of just the consistency in all of the schedules that were supposed to be met, I think customers are liking what they see. \\r\\nWe are having multi-quarter conversations, just given the tightness overall in the supply chain. I think everyone is wanting to be clearer and more transparent about their needs. And that's very helpful for us, frankly. That's very helpful for us in a tight environment. It gives us the ability to plan several quarters out. And so I think that's the differences is we have strong visibility into what customers want and what we can deliver. And so that gives us confidence that we have the right signals in place. Our next question today is coming from Matt Ramsay from Cowen and Company. Lisa, I wanted to ask a question about the enterprise notebook business. And I noticed you highlighted in the release and in the slides where you are in several different verticals in design wins on enterprise notebook in the Fortune 500. And I wonder if you might speak a little bit about the relationships that you're building with the big enterprise customers. Do you have FAE support, software support, firmware support, et cetera? Do you have the right people in place to really ramp that business more materially going forward? Yes, definitely, Matt. It's been a high focus for us to ramp our enterprise notebook business as well as the enterprise server business. And they actually share many of the same customers and IT departments.  And so yes, we've made very good progress on the enterprise notebook business. I think we have a great set of platforms with our OEM partners. We've also ramped up our field application support and our customer engagement models for deployment. Overall, I think we've gotten some very nice commercial notebook design wins.  \\r\\nAnd again in this environment, the -- for us, the important thing is to stay very focused on the longevity of the business that we win. And so a lot of focus is on those commercial pipelines and how they develop both on the notebook side as well as on the server side. And I think we've made good progress, but we still have a lot of opportunity to grow as we go through the coming quarters. For my follow-up, it's a bit unrelated. One of the businesses that maybe you've not had supply or there's been other parts of the business growing much more quickly, I wanted to ask a bit about gaming. The new RDNA 2 architecture, I think, brings some new features, but obviously there's a strong incumbent competitor in the gaming market. \\r\\nMaybe you could just talk about where you are competitively right now, how you see supply coming online that might support that gaming franchise a bit better and just maybe the lay of the land and gaming right now. Because it's one piece of the business that everything else is going so well, I think there are some opportunities there. Yes. So the consumer graphics or the gaming graphics business, as you talked about, has actually done well for us. It grew double digits this past quarter. We had a very deliberate strategy here with the launch of RDNA 2. We started at the top of the stack with our Big Navi product. And then we've now introduced a couple of additional products. And you'll see that both from the channel, sort of adding board cards into more OEM systems and notebook business as well as additional variants. \\r\\nSo it's an important market segment for us. We're happy with the progress. I think gamers really appreciate the product. \\r\\nIt's fair to say that the graphics demand is very high across the marketplace. So we've actually put quite a bit of product into the market, but the demand still exceeds supply. You'll see that increase as we go through the second half of the year. And overall, I think the progress that we've made with RDNA 2 is fantastic, and we continue to believe that gaming overall is a great secular growth story. Our next question today is coming from Toshiya Hari from Goldman Sachs. Lisa, I wanted to ask about the data center GPU business. I realize it's still a relatively small percentage of the overall business. You talked about production ramping in the second half of this year. You talked a little bit about Frontier as well. \\r\\nBut what kind of customer pull are you seeing in your data center GPU business? And then I got a quick follow-up. Yes, Toshiya. Thanks for the question. We're making very nice progress in the data center GPU business. It's in the investment mode now, so we're investing heavily in the business. We launched the CDNA architecture or the compute optimized architecture last year. You'll see updates to that this year as we bring out the next generation with our Frontier systems. The revenue is albeit on the lower side in terms of just size of the business relative to the rest of the business, but we will see growth into the second half of the year. \\r\\nAnd the business here is actually very strategic, right? It's the idea of really putting together heterogeneous systems and bringing our CPU technology with EPYC together with our GPU technology with Instinct with the software capabilities that we have been investing in, and really getting strong HPC systems as well as AI and machine learning capabilities. \\r\\nSo we will see growth in the second half this year. It will still be a smaller business, but we see it growing in this strategic time frame over the next couple of years. And it is very much that end-to-end story of what you need to really satisfy sort of the key workloads in the data center. Great. And then as my follow-up, I wanted to ask about the potential threat from ARM longer term. Within x86, obviously you've got significant runway from a market share perspective. But how are you thinking about the potential threat from ARM-based processors, both in your client business as well as your server business? \\r\\nYou've got Apple obviously internalizing some of their CPUs on the client side, hyperscalers talking about internal solutions. And your closest GPU competitor launched -- or introduced rather ARM-based CPU multiple years out. So any thoughts on ARM versus x86 and how you address that would be helpful. Yes, so absolutely. I think the key point here is you really have to have a very, very strong product road map, and that is really what we're focused on. I think the overarching trend that computing is becoming very important and so there are additional entrants trying to address different aspects of computing, I think is to be expected. And when you look at the data center, in particular, I think the trend that computing is becoming more workload optimized is also an important trend. These are the things that we've been thinking about for a long time, and we've been looking at ensuring that we address that in our road map. \\r\\nSo our focus is to continue to optimize solutions across the data center and across the PC ecosystem, make sure that what we have is very competitive, addressing what customers' needs are. And we also have the ability to customize solutions as well with our strong IP portfolio. So all that being the case, I think the answer is very competitive market, but we feel very good about the road map that we have in front of us. Our next question today is coming from John Pitzer from Credit Suisse. Congratulations on the solid result. Lisa, maybe another way to ask that last question of x86 versus ARM. I'm wondering if you could address it from the perspective of general-purpose compute versus semi-custom and ASIC? Because clearly as Moore's Law is coming up with some issues, the move towards semi-custom and ASIC is much more prevalent. I know to the answer to Toshiya's question, you said that you're doing -- or you have the ability to do semi-custom. Do you actually have engagements? And how do you see sort of general-purpose compute versus semi-custom and ASIC playing out over time? Yes. So John, the way I would address that is I think there's a whole range of computing solutions that you need. And this is back to a few years ago, our conversations about heterogeneous compute being you need to have the right compute for the right workload. So I think that's the overarching aspect of it. \\r\\nNo question that for our business, general purpose compute is the largest piece of our business and will continue to be so. We are doing -- we certainly do optimizations for specific customers today. And I think that's -- that for large cloud customers, they expect that, and we are doing that. \\r\\nWe do have the ability to optimize on a more specific basis. And if you look at the evolution of our architecture, I think that when we do these chiplet architectures and things like that, it really allows that. So lots of good engagements going on with customers overall, and I think the key is to be able to have the right IP building blocks. And that's what we're focused on, right, having the best CPU cores, the best GPU capability, having great interconnect. And then with the bringing on of Xilinx having the adaptive computing solutions there as well, it gives us a lot of options to optimize solutions with customers. That's helpful. And Lisa as my follow-up, you're still relatively early in this new gaming console cycle. And typically through those cycles, your products gross margins had some pretty good uplift. \\r\\nI'm wondering if you can just help characterize where you think you are in sort of the gross margin cycle for the gaming console business? And if you want to tell us kind of how dilutive you think it is to overall margins and where that might go by the end of the year, that would be helpful. Yes, John, I would say that we're still very early in the console cycle. And from -- if you think about it, we're only a couple of quarters into it. So I think this is a big cycle, and there's a lot of momentum in the cycle. We're going to continue to work on improving costs and improving margins and things like that. But I would say that we still have a ways to go and lots of opportunity there as we go through the next couple of years. Our next question today is coming from Mark Lipacis from Jefferies. Lisa, I guess you had indicated you believe -- I believe you said you thought you gained share in the server market. My back of the envelope calculation suggests you gained at least 2 points of share in service, which is an acceleration on my estimate of about 1% share gain a quarter over the previous 4 quarters. \\r\\nSo I guess can you tell me if my math is materially off? And if not, what is -- is this a new higher rate of share gains? And what would you chop this up to? Are you guys at a tipping point? Are your customers at a tipping point for embracing AMD as a supplier? Do they have increased comfort? Or is your ecosystem for support? Can you just maybe just give us a higher-level picture about where you think your customers are and really embracing and ramping up your server offerings at a higher rate. And I have a follow-up, if I may. Yes, sure. So in terms of our data center performance in the first quarter, it was quite strong. And when I look at the drivers of that, we saw cloud, in particular, quite strong. And when I look at the drivers underneath that, there are a couple of things that have come together. \\r\\nFirst of all, I mean we've been very, very deeply engaged with our customers the last number of quarters in qualifying new instances, qualifying new internal workloads, really expanding the regional capability of our coverage. And so all of those things, I think, have left -- led to some lift overall in the data center business. \\r\\nAnd then going forward, I think the other piece of it is if you recall when we did the Naples to Rome transition, that transition was pretty much people switched from Naples to Rome. What we're seeing in this cycle is a bit different. What we're seeing is that Rome has a set of very strong coverage in terms of applications that they're in, that are ramping very nicely, that are having good demand. And then on top of that, we're adding Milan, which is just a very strong product on top of that. \\r\\nSo I think those are some of the things that are perhaps a bit different about what we're seeing right now. That being this case, things move around from quarter to quarter. So I would say that the data center signals that we're seeing are positive. We're excited about what we're seeing. It's a lot of engagements with customers. \\r\\nAnd the main thing for us is as important as the current year is we're also very focused on the long-term road map. And so we're engagement -- we're engaging now on Zen 4 and beyond. So it really is a multigenerational discussion with our top customers. Great. That's very helpful. And then a follow-up on -- just coming back to ARM. You -- they -- you answered the previous questions with kind of talking about embracing the idea of having heterogeneous architectures in semi-custom and working with your customers to develop solutions. \\r\\nBut if I go back, AMD had an ARM server offering before. Can you give us an update on the state of that ARM server IP? Is that something that you can resurrect? Or have you've been keeping it, the development working on that? And can you discuss -- are your customers asking for your help in delivering semi-custom solutions that have an ARM component to it? \\r\\nBecause from what I can tell, it looks like 3 cloud service providers have ARM server offerings in their platform, and -- but there's a lot that don't and don't have quite the development capabilities. So I was hoping if you could just talk more specifically about the IP that you had. And are you bringing that back if your customers are asking for it? Yes, sure, Mark. So look, we know the ARM architecture well. Certainly, our engineers know it well. And we consider ARM a partner in many respects. We use ARM IP in various aspects of our devices.\\r\\nIn terms of that specific custom ARM design, we don't have that in plans right now. In terms of whether we would do custom ARM designs, I think the answer is yes. That's the whole idea of the semi-custom business. And so I think it's less about ARM versus x86 and much more about having the right IP in the right sort of combination to satisfy sort of the customer solutions. \\r\\nAnd that's the way we look at it. It's really -- what problem are you trying to solve? And let's look at sort of the collection of IP that we have and the capabilities that we have to help address that set of sort of issues. Our next question is coming from Ross Seymore from Deutsche Bank. Congratulations on the strong results and guide. Lisa, I wanted to ask you a little bit of a conceptual question. In your full year guidance, you clearly raised the revenues to a very strong number, but you kept the margins the same. I think people understand the operating margin side of it, that you have an opportunity to invest and great opportunities in front of you to grow. \\r\\nBut on the gross margin side of things, I'm just a little surprised, given the strength that you're talking about in the data center business, the HPC, Frontier, those things kicking in the back half of the year. I'm a little surprised that it didn't go up. Now you've delivered very consistent guidance and increases improvements over time, and I can't recall the last time you missed your gross margin guidance. But I'm just wondering what the puts and takes are that would keep that gross margin guidance flat for the year. Yes, Ross, sure. So let me perhaps start, and then Devinder may have a few comments. So I think from an overall revenue standpoint, I think we are very comfortable with the guide up, just given the visibility that we have on the customer demand front and on the supply front. \\r\\nOn the overall margins, we are guiding up sequentially as we go from Q1 to Q2. And then I think for the second half of the year, what we would say is, look, it's early in the year. And it's a very dynamic environment, Ross, I mean a very dynamic environment. And so we're watching the puts and takes, and there's always product mix things that come into play in terms of the puts and takes. \\r\\nBut I think we're confident that we're in a good place. And as we go through the year, we'll give you more updates on that. But there isn't anything more than that. I think it's just where we are in the year. And given the dynamic environment we have in the marketplace, that's what gives us approximately the 47% guide. I don't know, Devinder, you want to add to that? The only thing I'll add, Ross, I think as you know, the situation is pretty tight, as we talked about the overall global supply situation in semiconductors. So we are seeing some increases in component costs, but overall we are managing it. On the higher revenue by more than $1 billion, we are maintaining the 47% guide for 2021, which is up from last year. And last quarter was 45%, this quarter 46%, guiding 47%. The trend is very good, and we are very, very happy with that. That's really helpful. For my follow-up, I want to be a little more tactical, but it will somewhat fold into your answer to the first question. And that is for your second quarter guide from the midpoint of up roughly 4%, could you give us a little bit of puts and takes between your 2 main segments? \\r\\nAnd I guess the slightly longer-term question part of that would be data center being high teens in the first quarter was great sequential growth, doubling year-over-year. Any sort of color on how you think that percentage changes throughout the rest of the year, given your 50% growth guidance for the entirety of the year. Sure, Ross. So in terms of the second quarter, as we look at sequential growth, we do see sequential growth in the data center business, so on the server side as well as on the data center graphics side as well as some growth on the gaming side. \\r\\nAs we look at the full year, our expectation is that the percentage of the company that is sort of the data center percentage of the company will increase as we go through the next couple of quarters. And that's just the dynamic of some of the strength in the consumer businesses in the first half, so that's not normal seasonality. And just the acceleration or some of the growth that we see in the data center business as we go throughout the year would lead to a higher percentage of revenue in data center on higher revenue. Next question is coming from Stacy Rasgon from Bernstein Research. I first had a question on data center in the quarter. So the EESC was up almost $100 million. EPYC was up, and semi-custom was down, which means EPYC was up even more than that. Can you -- I know it was both Rome and Milan grew. But how much of the actual growth, the $100 million-plus sequentially that must have been EPYC, how much of that growth, how did that split out between Rome and Milan? Was it like the majority of the growth of that was Milan? And how do you see Milan as a percentage of a data center CPU mix in Q2? Sure, Stacy. So if I look at the first quarter, we shipped Milan as well in the fourth quarter, right? So we shipped a good amount of Milan in the fourth quarter, a good amount in the first quarter. \\r\\nI would say in terms of growth, it was probably more Rome-weighted in the first quarter compared to Milan, but there was good growth in both. And then as we go into the second quarter, we would still expect to see growth in both Rome and Milan, with Milan growing faster as that ramps. And we would expect by the third quarter that it would cross over and Milan would perhaps be higher than Rome. \\r\\nNow obviously, these things change a little bit as customers go through their ramps, but that's sort of what we see. So the meta point is Rome demand is robust and will stay a good part of the revenue for this year in its entirety. And then Milan is ramping quickly and customer adoption is strong. And so we expect it will ramp quickly as we go through the next couple of quarters. Hopefully, that answers your question. That does. I have a follow-up, if you don't mind. I actually do want to ask a question about OpEx. So I know the model you gave at the Analyst Day had a midpoint for OpEx revenue of 26.5%. I know you're running ahead of revenue and everything right now. But if I sort of back out the second half implied guidance for OpEx, it actually is at that 26.5% run rate in the second half to get to 26% for the full year. \\r\\nShould we think about, I guess, it's like as we go into 2022, do you think you're sort of at the model OpEx run rate, that sort of like more than 26%, 26.5% on whatever the revenue is? Is that the right way to think about the OpEx trajectory going forward? And I guess like -- do you think you're actually spending enough at this point, given where you're taking the road map? Are you spending at the right levels right now to ensure that, that road map is actually cemented and firm? Yes, Stacy, very good question. I think we are -- the revenue is well above our long-term model. And certainly in this year, it's well above our long-term model. Last year, it was well above our long-term model. \\r\\nAnd we're taking the opportunity to invest. And from that standpoint, our investments in R&D really, as you say, cementing the road map, our investments across sales and field support and all of the customer-facing support. And frankly, we're making investments in sort of some of the infrastructure surrounding the company as well since it's just a much larger company than it was a few years ago. \\r\\nSo I think the answer is yes. We're investing enough. And I think we're taking the opportunity to be very aggressive with those investments to -- given the strength of the revenue growth. Maybe, Devinder, you want to add to that or... No, I think that's good. I think you covered it. We've been very disciplined as you know, Stacy, over the years about managing the OpEx. It does scale with revenue, but OpEx is growing lower than -- a lower rate than revenue. And obviously, that shows up in the financial results from a model standpoint. The leverage, as you mentioned, the operating margin is going up for the company. Our next question is coming from Timothy Arcuri from UBS. Lisa, I wanted to ask also about share gains. You've done a great job this year in both client and in data center.  At the same time as was referenced before, Intel's tone is definitely changing. They use the word leveraging relationships. And they talked about other tactics to sort of stem or arrest some of the share losses and they're now offering x86 cores via foundry and things like that. \\r\\nSo I guess the question is sort of beyond this year, because the competitive environment this year is pretty much set. So can -- do you think we can extrapolate the success you've had this year into '22 and '23? Or do you think the competitive environment will intensify in the next few years? Well, Tim, I would say that we have always expected the competitive environment to be very strong, and we still do. So there's -- by the way, there are lots of competitors out there. \\r\\nFrom our standpoint, I think over the past few years and the past few generations, I think we've built a track record with customers, and we've built a set of deep relationships. And we've learned a ton about what's important to customers, where to spend the time, the effort, and where we need a close partnership. \\r\\nSo I feel very good about where we're positioned this year, but I feel very excited about what we have in the road map going forward. And I mean we are not slowing down. So there's a lot in the road map, and we have more resources and more capabilities to bring to the market. And I think we're going to be very competitive going forward. Totally. I guess as my follow-up then. Can you give just, Devinder, maybe give some sense of what the loading is for semi-custom first half to back half? It seems like it's going to be about even back half versus front half this year. Is that correct? I think slightly up in the second half. Because the launch of product in the second half of last year started out strong because it's a new console generation. And then maybe slightly up in the second as well, I would say. Our final question today is coming from Joe Moore from Morgan Stanley. You talked a little bit about the supply constraints that you've been dealing with. Can you talk about where those are coming from? Is that a wafer constraint, substrate constraint, both or other stuff? And where -- when you talk about making progress and kind of getting more supply out, what's the source of that progress? Yes. So I think, Joe, I would say overall the demand  if we look at coming into this year, the demand has been sort of higher than our expectations. And there are sort of industry-wide types of things that are going on. \\r\\nWe work very closely with our supply chain partners. So whether it's wafers or back-end assembly test capacity or substrate capacity, and we work it on a product line by product line level. So I don't know that there is a single thing that I would point out. \\r\\nI would say that on a product line level, what we've done and what we'll continue to do is ensure that there are multiple sources for things, particularly in the back end, that gives us flexibility to move things back and forth. We continue -- on the substrate side in particular, I think there has been under-investment in the industry. And so we've taken the opportunity to invest in some substrate capacity dedicated to AMD, and that will be something that we continue to do going forward. We're also -- I mean we also have fantastic engineering teams that are just looking at how we, together in the ecosystem, just get more productivity into the system. And and we work very closely with TSMC to make sure that we're forecasting well and getting the right support. \\r\\nSo I think it's all of the above in terms of making sure that we have the capabilities. And the other thing I'll mention, Joe, is just it's not just about processors, but it's included -- it's also ensuring that they're matched sets in the ecosystem. And so our teams are also working very closely with our OEMs to make sure that we're together ensuring that they're the full system components necessary. \\r\\nSo it is a complex supply chain environment. And I will tell you, given everything that I've seen, it is a complex environment because all markets are so hot. But I'm happy that we've been able to make progress. \\r\\nAnd by the way, we're not done, right? There's plenty more that we would like to do to get more capability in the supply environment. And so we're working closely with our partners across the board. Great. Well, definitely very impressive results in the context of everything going on. We've reached the end of our question-and-answer session. I'd like to turn the floor back for any further or closing comments. Thank you, Kevin. We'd like to thank everybody for joining today's call, and we'll look forward to engaging with you throughout the quarter. Thank you, everyone. Thank you. That does conclude today's teleconference webcast. You may disconnect your line at this time, and have a wonderful day. We thank you for your participation today.\",\n          \"Hello, and welcome to the Netflix Q4 2021 Earnings Interview. I'm Spencer Wang, VP of IR and Corporate Development. Joining me today are Co-CEO, Reed Hastings; Co-CEO and Chief Content Officer, Ted Sarandos; COO and Chief Product Officer, Greg Peters; and CFO, Spence Neumann. Our interviewer this quarter is Nidhi Gupta from Fidelity. As a reminder, we'll be making forward-looking statements and actual results may vary. \\r\\nNidhi, over to you now to kick off the Q&A. Thank you, Spencer. Good to be with you all again. Great to see all the new content over the quarter. I've been a little less productive so I think I can blame you all for that. As usual, I'd like to start with net adds during the quarter, which came in a little bit later than you expected. Just help us understand the underperformance there. Nidhi, 8.3 million versus 8.5 million, I mean... 222 million. In fairness, Nidhi said it was a little shy. So I'll take what Nidhi says. As she said, we delivered -- first, we're quite pleased with how the quarter played out. We delivered 8.3 million paid net adds. So it was just a bit shy, about 0.1% on roughly 222 million paying members. \\r\\nAnd overall, we're quite pleased with how our titles performed. We had big viewing. We started the quarter with Squid Game becoming a global phenomenon, and we ended the quarter in December with big TV series like the finale of La Casa de Papel, a big returning show in The Witcher, our 2 biggest movie releases of all time. \\r\\nSo overall, the business was healthy. Retention was strong. Churn was down. Viewing was up. But on the margin, we just -- we didn't grow acquisition quite as fast as we would have liked to see, and on our large subscriber base, a small change in acquisition can have a pretty big flow-through in paid net adds. And again, our acquisition was growing, just not growing quite as fast as we were perhaps hoping or forecasting. Great. And as we look ahead to Q1, the guidance was a bit below kind of what was expected and what you've done in previous Q1s. Maybe just help us understand what some of the key considerations were that went into the guidance? And does it raise any concerns for you about anything structural, whether it's competition or saturation? Or does it give you any pause in terms of sort of your return on content spend? Sure. No structural change in the business that we see. What's reflected in the guidance, we guided to 2.5 million paid net adds in Q1. And what's reflected there is pretty much the same trends we saw in Q4: so healthy retention with churn down, healthy viewing and engagement with viewing up and acquisition just growing but a bit slower than pre-COVID levels, just hasn't fully recovered. \\r\\nAnd we're trying to pinpoint what that is. It's tough to say exactly why our acquisition hasn't kind of recovered to pre-COVID levels. It's probably a bit of just overall COVID overhang that's still happening after 2 years of a global pandemic that we're still unfortunately not fully out of, some macroeconomic strain in some parts of the world like Latin America in particular. While we can't pinpoint or point a straight line using -- when we look at the data on a competitive impact, there may be some kind of more on the marginal kind of side of our growth, some impact from competition but -- which, again, we just don't see it specifically. \\r\\nSo overall, that's what's reflected in the guide. I'd say we -- our big titles are also landing, at least our known big titles, a little bit later in the quarter with Season 2 of Bridgerton in March, The Adam Project also in March. As you know, we also -- while we are taking -- changing prices in countries every quarter, in Q1 of this year, it happens to be our largest country, as we announced last week, actually our largest region with Canada as well. So that's probably a little bit more impact than a typical quarter. But Nidhi, you're right to reflect on 2 years ago, we were 10 million above plan, which was a shock. Last year, we were 10 million below or 9 million. And so the pull forward sort of makes it hard to read. In the prior years, we were very steady, so we can have confidence on incremental trends. But as Spence said, when you -- we reflect, of course, hey, that's a low guide, and we think it will be accurate. It's not sandbagged at all, kind of what's going on. \\r\\nAnd there's a number of potential explanations with COVID, but then we worry about hanging too much on that. There's more competition than there's ever been. But we've had Hulu and Amazon for 14 years. So it doesn't feel like any qualitative change there. And overall, confidence in streaming becomes all of entertainment. Linear dissipates over the next 10 to 20 years. Very high confidence in that thesis because everyone's coming into streaming. \\r\\nSo like market size, very large. Our execution is steady and getting better. So for now, we're just like staying calm and trying to figure out. Again, the COVID has introduced so much noise. It just wants us to give it some pause as we work on everything we've always worked on. And just to reiterate, I'd say we took a big bet years ago on this, that people would move on to Netflix and Netflix-type offerings to consume movies and film. That was a big, big bet that we've seen continue to go through. We have no change in our confidence in that. \\r\\nAnd I think what's really been great about 2021, even through all those conditions, we were able to kind of prove out to other theses that we've bet on starting years ago one big one around our investment in international programming. We're glad that we started that 7 years ago with Club de Cuervos. And now we were betting that you could take films and series from anywhere in the world and entertain the entire world. And we were getting more -- bigger and bigger milestones against that goal. \\r\\nAnd now we have proven to have kind of global sensations from France with Lupin, from Spain with La Casa de Papel and Elite and then in the biggest way possible in 2021 with Squid Game, which has become our biggest series ever. And it is unapologetically and perfectly Korean. So it's not built to be this kind of global thing. It's proving that great storytelling from anywhere in the world can entertain the world. \\r\\nAnd our other big bet was our investment in big-budget feature films and our bet that we could effectively release them and compete with big theatrical releases for audience and for attention. And Red Notice this year, of course, and Don't Look Up have become our #1 and #2 most watched movies ever on Netflix. And if you look at the hours that we publish out, you can do the math and back into it. They may be the most watched movies anywhere in the world this year. So I think those 2 bets coming through, it kind of strengthens our confidence in the overall bet in the service and pleasing customers and leaning into consumer-first business models. I think we could succeed there. Yes. No. And I think that's part of the question, right? I mean you -- this was probably the best content quarter you've had. And looking at sort of flattish subs versus previous Q4s, obviously, a great number, but it's kind of in line with what you've done the last few Q4s. What do you read from that? Is the customers sort of hurdle just higher in terms of the amount and quality of content that you need to deliver to get the same number of net adds? Well, I think what, I guess, Spence was saying, we didn't see it -- we didn't see a hit to our engagement. We didn't see a hit to retention, all those things that would classically lead you to looking at competition. But it's a stew of all those things. Not only are we in a pandemic. We've kind of come in of and out of COVID at different levels in 2021, particularly the back half of 2021. So it's created a lot of bumpiness certainly and not steady linear growth, which makes it a little tougher to predict, but all the fundamentals of the business are pretty solid. Got it. You announced a U.S. price increase last week. Maybe just help us understand kind of over what time frame you think this will flow through, what kind of churn you might expect. Yes, I'd say you can anticipate it flowing through over the next quarter, the quarter that we're in right now, Q1. And we largely are seeing in the price changes we've done most recently and for the earliest indications that we have in the U.S., which is still premature because we actually haven't actually rolled it out to any customers yet, what we've seen over the last couple of years, which is that sort of core theory that we have that if we've done a good job investing, the member subscription fees that they paid us into better stories, more great storytelling, bigger movies, more variety, then when we come back and ask them occasionally for a little bit more to keep that sort of cycle going, then they're generally willing to do that. And we don't see any significant disruption to the business otherwise in that regard. \\r\\nAnd I would say generally, when we look at that sort of core theory and we look at also the competitors, if you look at Disney+ as an example, the other streaming services out there as well, and their ability to grow even as we've been growing as well, I think it's really strong endorsement for the core idea that consumers around the world are willing to pay for great entertainment. And it encourages us to continue that investment and to try and deliver more entertainment value and earn more of that share. Yes. No, it's a good point about your streaming competitors. And when I look at sort of your steady price increases in the U.S., it doesn't seem like you feel too constrained by where those competitors are priced. So is that a true statement? \\r\\nAnd I guess as long as you're viewing share is sort of multiples of any other streaming service in the U.S., should we think about your price relative to cable actually as we sort of think about your runway -- not that you'll get there overnight, but as we think about your runway, is that really sort of the comparison we should be thinking about as opposed to other streaming services? We don't have an a priori sort of price target in any given country that we're tracking to. Mostly, we're listening to our members and sort of iteratively doing this walk where the metrics that we see in terms of engagement and churn and acquisition and those kind of things are really our signal that we've done a good job at sort of creating this more value and it's the right time to ask for a little bit more to keep that going. \\r\\nSo to the previous comments around competition and things like that, we don't think that it's immediately replaceable or substitutable good, let's say, right? And so if we have incredible stories, movies that you can only see on Netflix, great TV shows, unscripted, now games coming, then that really -- the value equation for any given member or member-to-be in a market is just are they getting good value for what they're paying. As long as we do a good job there, we feel like we're fulfilling that need. Great. You also made a price change in India in the other direction. Maybe just help us understand what you're trying to achieve with that price change. Yes. I think it follows a whole set of activities that we've been doing in India over the years that we've been operating there and learning more about Indian consumers' tastes, et cetera. And that's broadening the offering in the service across many, many different dimensions. So it's obviously at the core is the content and the programming and seeking to expand that and provide an increased variety and range of programming that appeals and attractive to more people in India while we're thinking about go-to-market and the partnerships that we have and making sure that we're available with those partners at that place where more people in India will find us, and it gets to payments and many, many, many things. \\r\\nAnd when we looked at it and we saw sort of the sum total of all those activities, we felt it was the right time to decrease our prices there, to increase accessibility to all of that sort of -- those incremental value or features that we've been trying to deliver to the market to more Indian consumers. And we also wanted to do it not just like we did with mobile, which is a good lower entry price point, but do it across the range of plans that we had under the theory that some of those features like the ability to watch on TV with a basic plan really unlocks more value in the service and therefore would create more retention, more attractiveness to those plan types for those Indian consumers. \\r\\nAnd again, we're doing this through the lens of what's the long-term sort of revenue maximization, our best guess at that exchange. And so in this case, we're -- basically anticipated that while we decrease ARM, average revenue per member, as a result of the price decreases, we're going to make it up in more subscriber adds. \\r\\nAnd I would say it's still very early in looking at India. And some of these effects, like retention, it takes a couple of months to get a very clean read on it. But the early data that we are seeing very much supports a positive read on that lens of revenue maximization through these changes. And Nidhi, as you well know, but not all viewers might, what's unique about India is cable is about $3 per month per household. So radically different pricing than the rest of the world, which does impact consumer expectations. Right. Right. If this approach doesn't give you the desired result, and it sounds like it is so far, but if fast forward 6 months or 12 months from now, it isn't giving you the desired result, would you consider sort of rightsizing your content spend in India or maybe consider an ad-supported model? I guess in other words, how hard do you want to push for India? And are there examples of success you see either in the media industry or outside of it that give you the confidence that you can make money in this market long term? I think it would be a long time before we adjust it materially because in our experience in Brazil, it was brutal for the first couple of years. We thought we'd never break even. I know we've got this great business. \\r\\nAnd then, Greg, why don't you talk about the experience in Japan? Yes. I would use the word brutal in my -- back to that. And obviously, it's a different country, different characteristics in terms of affluence and things like that. But it took us quite a while to unlock all of these components, product market fit, get the right content, all these different pieces. But then once you get that sort of flywheel spinning, it's an incredible market for us and a source of tremendous growth in membership and revenue in the region. \\r\\nSo I think we're quite bullish that India isn't fundamentally different in some way that we can't figure out how to tailor our service offering to be attractive to Indian consumers who love entertainment. We know that for sure. And so that, I think, gives us a lot of optimism just to continue to work away at it. I would just add -- sorry, go ahead, Reed. The great news is in every single other major market, we've got the flywheel spinning. The thing that frustrates us is why haven't we been as successful in India. But we're definitely leaning in there. And there wasn't an easy one in the bunch. Well, that's kind of what I was going to say, like what Ted touched on, like for as much as we have what we believe is a terrific business and a terrific business model that scales so well with content that can be created anywhere and travel everywhere. And you see that with our more than 222 basic -- million paying members around the world. It's also super hard. It's hard in every country. And every country is on different adoption curve.\\r\\nAnd we talk about product market fit, but it's -- even though everyone loves film and TV and even games, it is very specific. Entertainment is still fundamentally pretty local around the world. So it's global and local, and we need to figure that out. So that is actually a good thing about our business, is that it scales well but it's also super difficult. Otherwise, it'd be really easy for everybody to replicate it. The team going into producing original content in India being pretty -- almost impossible when we first started looking at it. And then this quarter alone, we've got original content coming out from Turkey. We have production in Russia, from Argentina, from Mexico, from Sweden, from Denmark. So we've got original content from all corners of the world with 20 originals coming out of Korea this year. \\r\\nSo the idea that they invested in this early and have built up on it and that it really is going to be something that is going to start to -- we think it will start flowering in India for all the same reasons, a good product market fit, content people love, value that fits through their life and product they can't live without. And I'll triple down on that point as well, Ted, because we're -- I mean, we're still learning even now as we have these incredible stories from all these places around the world, how to bring them to that global audience in increasingly effective ways. And it's simple things, obviously, like subtitling and dubbing. And we've subtitled 7 million run time minutes in '21 and dubbed 5 million run time minutes. But at that scale, we're learning actually how to do that better and how to make that localization more compelling to our members. \\r\\nBut it also gets to even like things that you wouldn't even anticipate like just how you present these titles in an emotionally, evocative way. And we describe a story maybe as nostalgic or eerie and that means something to us. But you can't just literally translate that. You have to find out in every culture and language around the world what is that similarly emotionally evocative descriptor that is going to communicate really easily and quickly what a story means. There's just -- there's so much work and incredibly fascinating things that we're learning about how to do that every day. And in many of those places where we built that out, there was 0 infrastructure for subtitling and dubbing. Well, speaking of content that travels well, South Korea, as you mentioned, Ted, has been a really bright spot for you. And as you said, you're launching 20 -- over 20 new shows there this year. What are sort of the unique factors that drove your success in South Korea? And more importantly, what do you think the adoption curve can look like here relative to maybe what you've seen in other markets? I'd say first and foremost, we've developed over the years an incredible team in Korea and South Korea that has worked with the talent community, that recognized the storytelling, that really works in Korea, that didn't try to make it different so it would travel but really try to find all the things about Korean cinema and Korean drama and build them up in a way that people could see kind of new levels of production value. \\r\\nBut it's not like we had to go in and teach anyone in South Korea how to make great content. It's an incredible market for that. And there's always been curiosity around the world. The Kdrama market has always had little pockets of success all over the place. But I think the ease of delivery that we've offered has kind of pushed that into the mainstream. \\r\\nYes, there was kind of a turning point with Parasite and Bong Joon-ho's Oscar last year that kind of opened up people's minds to it. But we saw that even way before that with Okja, working with Director Bong, that there was this incredible storytelling culture that we could tap into and that people would love Kdramas and watch them all over the world. It just wasn't that easy to find them. And in Netflix, we've been able to kind of put together the great storytelling and great delivery and a great value proposition that has grown the watching of Korean content in the U.S., the numbers I would have never believed 3 years ago. So 100% growth in 2021 over 2020. Will we get a second season of Squid Game? Absolutely. The Squid Game universe has just begun. Great. Looking forward to that. Shifting gears to Latin America. This region feels like it's maturing at a lower level of penetration than you've seen in the U.S. Is that due to competition, affordability? Account sharing Or something else? Or maybe you disagree with the statement that it's actually maturing. But help us understand if there's anything you can do differently to sort of drive penetration levels there higher. Well, first, I just wouldn't necessarily read through that it's maturing faster, Nidhi. I mean again, I just don't want to understate the impact of what we've been going through for the last 2 years. And Latin America, in particular, has been more strained. It has less kind of government funding and subsidization relative to many parts of the world to kind of fuel their economy. On top of that, we also continue to increase prices in that market last year across some big countries for us, Mexico, Brazil, Argentina. \\r\\nSo between macroeconomic factors and general strain, business is still growing there. We grew by about 2.5 million members last year, so under the kind of pre-COVID growth rates but still growing. And it is a market where pay TV is healthy. Folks love film and TV. And so I think there's a long runway of growth there. It's also been a great market for us for Spanish language content that we're creating for the rest of the world. \\r\\nSo we don't see, and the others can chime in, need to change strategy. We continue -- like we talked about with India, we're getting better everywhere, every year. We're getting better with our local content in Brazil and Mexico and so forth. So there's a lot more to come, but it's not a fundamental change in strategy. Great. That makes sense. Maybe just stepping back, you've talked about 800 million to 900 million homes globally outside of China. That's sort of your TAM. You're, call it, 25% penetrated into that. As you're seeing how various markets are playing out in terms of penetration levels, some higher, some lower, obviously, they're all still growing. Has your thought process changed at all on how many of these 800 million to 900 million homes you can have ultimately or sort of the time frame to get there, whether it's higher than you expected or lower than you expected? And how might you actually evolve your content strategy or your pricing strategy to get the next 200 million subscribers? Yes. I'd say, Nidhi, we -- on that pay TV comparison, we look at it. We're, in the U.S., at about 2/3 of the pay TV high-water mark. And so the back third is definitely going to be harder than the first 2/3 in terms of appealing more unscripted, more superhero, and we're working on all of that. Because we don't have sports and news, you might say, well, if we get to 80% or something of pay TV, that's a good accomplishment. But also, streaming TV is such a better experience than the old linear TV. In some ways, we think to ourselves we should be higher than pay TV, a combination of lower pricing and better experience. \\r\\nSo definitely frustrating for us, the current slower growth. That's why it could well be kind of just COVID effects where it could be as you're pushing on smaller market than we thought. But I'm not sure why. So we try to be really rigorous of thinking about the long term. It's possible that we'll get there, but slower than we thought, smart TV adoption, complexity, those kinds of things. But we're still focused on the original thesis of if we become incredibly compelling, everyone's going to want to be a Netflix member. And I know it feels like we've been saying it for a long time, but it's early days. It really is. And I think about the evolving value proposition and how it's still maturing. The idea that big-ticket movies that people really care about premiering and being part of your Netflix subscription is actually taking the value proposition to a new level than it was just a couple of years ago. \\r\\nSo I do think, like I said, it's dynamic market for sure. It may not be as steady as people can think about it in terms of we're going to add X number every month, every quarter, every week. But it's going to -- but there's no question that that's the direction the business is going in. Yes. Yes. And Ted, that's a good segue to where I wanted to go next. You had an incredible lineup of films in Q4 with a lot of viewing. I'm curious, what did having a strong film slate in the quarter do for you relative to periods where you didn't have that? Did you see more aggregate engagement, lower churn, more conversation? Just what is sort of unique about delighting your customers with a film versus a show in terms of kind of the benefits that you see? Yes. There's a big theory, which is that people differently value movies because they always have to pay for it. You had to buy a movie ticket. You have to buy a pay-per-view transaction or DVD. There's always kind of a transactional and a pretty big one for some people to see a big movie premier in your home. \\r\\nAnd so there was this kind of temporary effect that some other folks were doing -- this is our -- it's in our permanent model to premier our big movies on the service. And I think people look -- even if you really watch mostly television, you have a movie night, and we can service you on movie night. I think that's a very big important value proposition that we have that's different from everybody else. \\r\\nAnd these are the movies that people really love and care about. And you start seeing them at the scale of Don't Look Up and Red Notice in Q4, and it gets you super excited as to what could be next when -- what's coming next. And for that, we have things like The Adam Project coming up with Ryan Reynolds and Shawn Levy directed coming up in Q1. It's a phenomenal movie for the whole family. With a big action movie from the Russo brothers like Gray Man with Ryan Gosling, Knives Out 2, Enola Holmes 2. \\r\\nSo with this movie lineup that would be -- that any one studio would go for any one season, we've got new movies every week on Netflix, and they're big movies that people care about. And we think once the expectation is set and we keep delivering on it, people will react to that, too. Great. And Nidhi, I'd just add that at the core, what our members love and what they tell us they love is a great variety of high-quality content, and that means across TV film and hopefully games over time in a much broader way. So having a great film offering is, for us, a key part of that equation. And so I think we're just starting to fulfill more and more of that, our member kind of needs and wants and satisfaction. That's what we're seeing. But it's not like it's just so differential than something else as part of that overall quality and variety of entertainment offering. I also think it differentially serves people watching together. It's much easier to watch a movie together than to make sure you're all tracking on the same episode every week all over the -- if you travel or whatever you do. So that kind of together experience we can deliver on every weekend on Netflix is pretty great. \\r\\nAnd I think about even just in the upcoming quarter alone, Spence talked about variety, everyone has a very different taste. So any one movie is only going to serve a segment of the audience. Now you get big, exciting thing like Don't Look Up and Red Notice, you can get to a big chunk of the base, but you're still only getting about 60%. So to do that, to serve everyone, you have to have a big variety of output. \\r\\nSo it does seem like a lot of volume, but it's not all for you. So in Q1 alone, we have The Adam Project I mentioned. We have Munich from Germany; Texas Chainsaw Massacre, which is kind of a reinvention of that franchise; Tall Girl 2, which is a sequel to one of our big YA rom-coms; Home Team with Kevin James. Judd Apatow has got the movie The Bubble. That's all in Q1 and plus original local language films from all over the world as well. So to meet the kind of variety of taste, we're able to really step up and deliver no matter what that taste is. Yes. Yes, that makes sense. Reed, you talked on the Q3 call about sort of, over time, building out the whole experience of games, consumer products, live events, et cetera, around some of your IP. And it obviously starts with great IP and great storytelling. But what else do you have to get right operationally and strategically to really build a franchise? And do you feel like you have the pieces in place now? We're building those muscles steadily with our consumer products, both like the Squid Game tracksuits, and then we're making a big push on experiences that are mobile and portable and people, if we can set them up quickly and developing that muscle. Obviously, the gaming muscle, we're very young on and building. So if you think of a world in a few years where those are strong muscles and then you think of the next Bridgerton or Squid Game coming through, that's what we hope to be able to really pull those pieces together. \\r\\nAnd people talk about franchise like it's 0 or 1. But of course, there's a complete continuum that will add value in the short term to our various titles. And we're doing that already through the consumer products world and having people feel a bigger connection to those big franchises. So it's already working, but it's probably, I don't know, 20% of what it will be in a couple of years in terms of the auxiliary boost beyond just the title. Yes. And I'd say on that continuum, Reed, you've got Stranger Things, which I'd say is as valuable a franchise as exist today in entertainment around the world. We certainly have things that are in their early stages of becoming a franchise like Bridgerton, which we launched our second season of this, our second most popular show ever in Q1. And we're also -- this year, you'll see an origin story on Queen Charlotte and this incredible Bridgerton live experiences around the country and around the world that fans will flock to and flood their social media feeds with. And there's consumer products that go along with that as well. \\r\\nSo it's all those kind of makings of a franchise instead of trying to tapping into one that's been building for 50 years. Can you build it from whole cloth? And I think Stranger Things is a proof point that you can. We touched on gaming a little bit. It's very exciting to see some worldwide launches during the quarter. Greg, I know it's early days, but what has sort of the reception and engagement been from the subscriber base? And what have your learnings been as well? Yes. As you say, it's tremendously exciting to get to this point because we basically have been building the plumbing and all the technical infrastructure just to get to the point where we can do this, which is consistently launch games globally to all of our members. And it's great to do that. \\r\\nAnd now as you point out, we're now really getting to learn from all those games what are the discovery patterns, what are the engagement patterns, how are they performing, what do our members want from games on the service. And it's still very early days. But generally, what we're seeing is not surprisingly, we have a growing number of monthly active users, daily active users on these games. And so we're generally seeing good growth in that regard. \\r\\nBut really, the -- as we're doing this, we've been building in parallel what I'm super excited about it, which is the sort of internal development capacity, our own game studio. We've been hiring some incredible talent that brings a set of experience to this process. We've done an acquisition in this space. And that now allows us to incrementally gradually, over a period of time, get to that sort of the value that you and Reed were talking about where we get to deliver now interactive experiences that are tied to the IP that we're excited about, that are timed with that. And that, I think, is really when you're going to see a next level of unlock around the value we can deliver to members. Given that gamers tend to sort of consolidate their time around a smaller number of titles compared to video where we tend to consume a wider variety of content, does it -- would it be more efficient to sort of buy your way into some well-known titles to sort of anchor the product? \\r\\nJust the last couple of weeks, we've obviously seen a couple of major companies make big acquisitions or at least announce big acquisitions because this is obviously something that's difficult to build organically. I'm just curious what your reaction to that is. And why isn't Netflix participating in big acquisitions given your aspirations in gaming? Well, it's -- I mean it was exciting to see the activity in the space. And I think to some degree, it's an endorsement of the core thesis that we have around subscription being a great model to connect consumers around the world with games and game experiences. And we're open to licensing, accessing large game IP that people will recognize. And I think you'll see some of that happen over the year to come. \\r\\nBut we also see -- back to Ted's like building out a whole cloth and the ability to sort of take the franchises or the big titles, let's call it, that we are excited about and actually develop interactive experiences that are connected to those. We see a huge, long-term multiyear opportunity in that, too. \\r\\nSo we'll -- we're very open. We're going to be experimental and try a bunch of things. But I would say the eyes that we have on the long-term prize really center more around our ability to create properties that are connected to the universes, the characters, the stories that we're building in other places and sort of magnify that value for the fans of those stories. Nidhi, we have time for 2 more questions. Okay. Maybe Reed, just a bigger picture question for you. And Spencer, I might have more than a couple of questions. But you have this global subscription product that's inside sort of hundreds of millions of households around the world. And you really nailed 2D lean-back content, but there is this whole world of interactive or semi-interactive content, whether it's gaming or fitness or education. And at the more extreme end, there's VR content, and now everyone is talking about the metaverse. You've obviously already gotten going on gaming. But as you look at sort of this broad spectrum of content, how much of it do you want to sort of wrap your subscription around thinking about the long term? When you say how much do you want to, that would be a high number. But we have to be differentially great at it. There's no point of just being in it. That's very dilutive of the whole proposition. And so it took us several years to get great at English original series. And you saw in the letter on the Google Search trends how well we did there. \\r\\nWe built with a lot of effort a really strong film franchise, and that's -- Ted calls it just the third inning. It's like we're really just getting going to what we think we're going to be able to do there. Of course, we've got all the international content. We've got unscripted, documentaries. And then gaming, which initially we're focused on the mobile gaming, is a big one. \\r\\nSo I would say when mobile gaming is world-leading and we're some of the best producers and like where we are at film today, 2 of the top 10 for our gaming, then you should ask, okay, what's next. Because we're definitely crawl, walk, run and like let's nail the thing and not just be in it for the sake of being in it or for a press release, but we got to please our members by having the absolute best in the category. And Ted and Greg have been doing a terrific job on that, and we'll just continue to work on that. So queue it up for that. When we're winning in games, then we'll take the question. Great. Spence, just turning over to you on margins. Does the guidance for a lower level of margin -- and you gave a lot of explanation around that in the letter. But outside of sort of the FX impact, does it have more to do with some of these incremental investments we're talking about like games and perhaps consumer products? Or does it have more to do with sort of the lower level of revenue growth that you're expecting? No, it's really just FX, Nidhi. So as we said in the letter, we lost about $1 billion of expected revenue in '22 through FX. That's about 2 points of margin. So if you just kind of look at our guide and add that back on, we're right on our pace of adding about 3 points of margin per year. And I can't forget we were overdelivering on margin in the last couple of years. \\r\\nSo that's really all that's happening here. And the FX move happened in really the last 6 months of last year. So what we've always said is we don't want to swing the business unnecessarily fast. We want to be able to invest in a healthy way into our growth opportunities. And over time, we will then rightsize our -- appropriately our investment levels, our cost structure, our pricing in order to rightsize for where the currencies are coming in. And so this gives us some time to do it. \\r\\nSo it gives us a little time, but we will catch back up. We're still committed to roughly 3 -- average of 3 points of margin increase over any few year period. But there's no change there. We've been factoring in our content investment, our game investment all along. \\r\\nAnd I just want to say in our growth, too, we talk a lot about this deceleration. Obviously, we'd like to grow faster, but there's still very healthy growth in this business. What you're seeing in -- we ended the year last year with 19% growth year-over-year. What you've seen in the guide is 10% revenue growth for Q1, but that's a bit misleading again because of FX. There's about 4 points of drag in our revenue in Q1. \\r\\nSo the under -- what I would argue, FX-adjusted constant currency for Q1 year-over-year is about 14% growth. It's also a tough comp year-over-year in Q1 because you may remember, we increased prices in the U.S. in Q4 of '20, which flowed through to Q1 of '21 is when it was really materialized. So the year-over-year comp is tough. So the underlying organic revenue growth in the business is, right now, at least in Q1, more like 15%, plus 15%, 16%, 17%. So that's at least just in the quarter. \\r\\nAnd that's still very healthy underlying growth in the business. I don't want to dismiss that. We'd love to be growing faster. We'd love to not have the negative FX swings, but it's still very healthy growth in the business. Nidhi, since it's your last earnings interview, I will grant you one extra question. I have one last question. This will be the last one, but it's also for Spence. It's very exciting that you'll become sustainably free cash flow positive this year. Congratulations on reaching this milestone. I feel like I've been waiting 10 years to ask this question. But how will you balance M&A and buybacks with your free cash flow? And maybe sort of related to that, have we peaked in terms of that ratio of cash content spend to amortization? And how long will it take for earnings and free cash flow to kind of converge? I can't believe you wanted to end with me, Nidhi. There's so many more exciting people to speak with on the call. So we appreciate what you said there. It is a big milestone for us to be cash flow positive going forward. We're excited for that. The business model has been proving out. So that's great in terms of our increasing profits, profit margins over time as well as cash. \\r\\nIn terms of use of cash, and Spencer, you can chime in, too, but as we've talked about in prior calls, our top priority is to be responsible stewards of the business and our cash but to invest in the healthy growth of our business and strategically invest in the business, first organically, if there's been opportunistically M&A that -- M&A is not the strategy for us per se. M&A is a tactic to accelerate our strategy, whether it's to accelerate our content capabilities and capacity or just acquisition of IP like Dahl across film, TV and games as you've seen. \\r\\nAnd what's left over after that, we're not going to sit on excess cash, as we've said. Our capital allocation plan is as it's been, which is to have roughly 2 months of revenue in the form of cash on our balance sheet. And excess beyond that, we'll return to shareholders opportunistically as we have done. We did that to the tune of about $600 million last year in share repurchase, and we're authorized up to $5 billion share repurchase. So that's still our plan. \\r\\nIn terms of when the -- those ratios converge and earnings and cash flow look the same, I don't want to put a prediction out there. We're still very much in growth mode as a business. So it will continue to converge over time, but I don't want to declare a specific peak. It's been going in the right direction over a multiyear period, and it will continue to do so. The only thing I would add to that, Nidhi, is just on the capital allocation part. Just to remind you, our balance sheet target is for gross debt of about $10 billion to $15 billion. We ended the quarter slightly above the $15 billion mark. So as we said in the letter, we will be paying down about $700 million in Q1. But obviously, delevering a bit is something you should anticipate in terms of use of cash. \\r\\nAnd then just lastly, on the EPS free cash flow question. So I just want to remind you, there are some below-the-line items like the noncash remeasurement of our euro bonds that can skew EPS in any sort of given quarter, so just a call-out there. \\r\\nBut thank you for your questions. I'm going to turn it over to Ted now to -- for his closing remarks and to take us home. Nidhi, thank you so much for these and thanks for today. The love of film and TV and games has built big businesses for people who can figure out what people love, build a creative environment that creators know how to feed it and then deliver it to fans with a value proposition that they appreciate. I think those fans are positively moving from old linear models and transactional models to more fan-friendly subscription services that are with high-quality programming, delivered well with great value. \\r\\nThat's absolutely happening, and it's happening all over the world. The pace of the migration may be a little hard to call from time to time when there are kind of varied global events or even local conditions, but it's absolutely happening. There's no question of that. \\r\\nFilms that you love and series that you define yourself by and games that thrill you, that's a pretty great business. We're thrilled to be in it. We're also planning to continue to improve what we're doing and to grow this by growing revenue, by growing profits and by growing audience affinity around the world. \\r\\nSo once again, Nidhi, if I can see you in person, I'd give you this. I've got 2 of them. Where is the other one? Ted, I found one for you. Thank you, Nidhi.\"\n        ],\n        \"semantic_type\": \"\",\n        \"description\": \"\"\n      }\n    }\n  ]\n}"
            }
          },
          "metadata": {},
          "execution_count": 4
        }
      ]
    },
    {
      "cell_type": "markdown",
      "metadata": {
        "id": "2EpKLDb51U3n"
      },
      "source": [
        "# Pre-processing"
      ]
    },
    {
      "cell_type": "code",
      "execution_count": 25,
      "metadata": {
        "id": "QPxtiizNQOvl"
      },
      "outputs": [],
      "source": [
        "import re\n",
        "# df2['Text'] = df2['Text'].map(lambda x: re.sub('[\\n\\t\\r.,;\\'\\\"\\[\\]]*', '',x))\n",
        "\n",
        "# Convert to lowercase\n",
        "df2['Text'] = df2['Text'].map(lambda x: x.lower())"
      ]
    },
    {
      "cell_type": "code",
      "execution_count": 26,
      "metadata": {
        "colab": {
          "base_uri": "https://localhost:8080/"
        },
        "id": "W9h6Xez3QSP0",
        "outputId": "e37a0d80-f447-4bae-8fde-b51e84b66b0d"
      },
      "outputs": [
        {
          "output_type": "stream",
          "name": "stdout",
          "text": [
            "['good', 'morning', 'and', 'thank', 'you', 'for', 'standing', 'by', 'welcome', 'to', 'abbott', 'first', 'quarter', 'earnings', 'conference', 'call', 'operator', 'instructions', 'this', 'call', 'is', 'being', 'recorded', 'by', 'abbott', 'with', 'the', 'exception', 'of', 'any']\n"
          ]
        }
      ],
      "source": [
        "from gensim.utils import simple_preprocess\n",
        "\n",
        "def sent_to_words(sentences):\n",
        "    for sentence in sentences:\n",
        "        yield(simple_preprocess(str(sentence), deacc=True))  # deacc=True removes punctuations\n",
        "\n",
        "data = df2.Text.values.tolist()\n",
        "data_words = list(sent_to_words(data))\n",
        "\n",
        "print(data_words[:1][0][:30])"
      ]
    },
    {
      "cell_type": "code",
      "source": [
        "import spacy\n",
        "nlp = spacy.load(\"en_core_web_sm\")"
      ],
      "metadata": {
        "id": "U3U7Nhs8gTzP"
      },
      "execution_count": 7,
      "outputs": []
    },
    {
      "cell_type": "code",
      "execution_count": 27,
      "metadata": {
        "colab": {
          "base_uri": "https://localhost:8080/"
        },
        "id": "7je77yq9QVsD",
        "outputId": "8d4c1ca6-27a7-4fca-f6f1-3e91772c0300"
      },
      "outputs": [
        {
          "output_type": "stream",
          "name": "stderr",
          "text": [
            "[nltk_data] Downloading package stopwords to /root/nltk_data...\n",
            "[nltk_data]   Package stopwords is already up-to-date!\n"
          ]
        }
      ],
      "source": [
        "#NLTK Stop words\n",
        "import nltk\n",
        "nltk.download('stopwords')\n",
        "from nltk.corpus import stopwords\n",
        "\n",
        "stop_words = stopwords.words('english')\n",
        "stop_words.extend(['from', 'subject', 're', 'ie', 'st', 'th', 'rd','quarter','year','month','us','well','would',\n",
        "                   'think','question', 'billion', 'million', 'thousands','recorded','morning','new','weve',\n",
        "                   'thats', 'revenue', 'income','company','quarter','year','month','earnings','call','transcript',\n",
        "                   'new', 'business', 'results','report','statement','today','said','like','going','think','question','answer',\n",
        "                   'ask', 'know', 'well', 'would', 'could', 'may', 'great',\n",
        "                   'might', 'get', 'one', 'two', 'three', 'four', 'five', 'six', 'seven',\n",
        "                   'eight', 'nine', 'ten', 'zero', 'thousand', 'percent', 'percentage',\n",
        "                   'point', 'points', 'market', 'stock', 'price', 'share', 'analyst',\n",
        "                   'investor', 'conference', 'operator', 'good', 'morning', 'afternoon',\n",
        "                   'evening', 'thank', 'operator', 'forward', 'looking', 'statements',\n",
        "                   'information', 'future', 'events', 'circumstances', 'risks',\n",
        "                   'uncertainties', 'assumptions', 'factors', 'developments', 'events',\n",
        "                   'performance', 'results', 'forward', 'risks', 'statements',\n",
        "                   'events', 'developments','business','first','see','continue','strong','last','also',\n",
        "                   'going','really',' thats','next','get','back','thats','kind','content', 'product', 'lot',\n",
        "                   'expect','like','obviously','yes','time','right','years','look','im','look','bit','second',\n",
        "                   'little','across','capital','youre','still','got','go', 'say', 'talk', 'take', 'come', 'make'])\n",
        "\n",
        "\n",
        "# Define functions for stopwords, bigram, trigrams, lemmatization\n",
        "def remove_stopwords(texts):\n",
        "    return[[word for word in simple_preprocess(str(doc)) \\\n",
        "            if word not in stop_words] for doc in texts]\n",
        "\n",
        "# def make_bigrams(texts):\n",
        "    # return [bigram_mod[doc] for doc in texts]\n",
        "\n",
        "# def make_trigrams(texts):\n",
        "#     return [trigram_mod[bigram_mod[doc]] for doc in texts]\n",
        "\n",
        "def lemmatization(texts, allowed_postags=['NOUN', 'ADJ', 'VERB', 'ADV']):\n",
        "    texts_out = []\n",
        "    for sent in texts:\n",
        "        doc = nlp(\" \".join(sent))\n",
        "        texts_out.append([token.lemma_ for token in doc \\\n",
        "                          if token.pos_ in allowed_postags])\n",
        "    return texts_out"
      ]
    },
    {
      "cell_type": "code",
      "source": [
        "# x = lemmatization(data_words)"
      ],
      "metadata": {
        "id": "VFhIF1kxjB5O"
      },
      "execution_count": 14,
      "outputs": []
    },
    {
      "cell_type": "code",
      "execution_count": 28,
      "metadata": {
        "id": "CUA3WcskQbDG"
      },
      "outputs": [],
      "source": [
        "data_words_nostops = remove_stopwords(data_words)"
      ]
    },
    {
      "cell_type": "markdown",
      "metadata": {
        "id": "LJMVGocIGbAg"
      },
      "source": [
        "# LDA"
      ]
    },
    {
      "cell_type": "code",
      "execution_count": null,
      "metadata": {
        "id": "LIbucsVFG8x6"
      },
      "outputs": [],
      "source": [
        "# import gensim.corpora as corpora\n",
        "# # Create Dictionary\n",
        "# id2word = corpora.Dictionary(data_lemmatized)\n",
        "\n",
        "# # Create Corpus\n",
        "# texts = data_lemmatized\n",
        "\n",
        "# # Term Document Frequency\n",
        "# corpus = [id2word.doc2bow(text) for text in texts]\n",
        "\n",
        "# # view check\n",
        "# print(corpus[:1])"
      ]
    },
    {
      "cell_type": "code",
      "execution_count": null,
      "metadata": {
        "id": "DV_7RaOcHHxw"
      },
      "outputs": [],
      "source": [
        "# from gensim import matutils, models, utils\n",
        "# # Build LDA model\n",
        "# lda_model = models.LdaMulticore(corpus=corpus,\n",
        "#                                       id2word=id2word,\n",
        "#                                       num_topics=10,\n",
        "#                                       random_state=100,\n",
        "#                                       chunksize=100,\n",
        "#                                       passes=10,\n",
        "#                                       per_word_topics=True)"
      ]
    },
    {
      "cell_type": "code",
      "execution_count": null,
      "metadata": {
        "id": "hR_SfpzKHONR"
      },
      "outputs": [],
      "source": [
        "# # top 20 significant terms and their probabilities for each topic\n",
        "# topics=[]\n",
        "# for i in range(0,10):\n",
        "#     topic_list=[]\n",
        "#     for term, wt in lda_model.show_topic(i, topn=20):\n",
        "#         topic_list.append((term, round(wt,3)))\n",
        "#     topics.append(topic_list)"
      ]
    },
    {
      "cell_type": "code",
      "execution_count": null,
      "metadata": {
        "id": "j9SwZkV3HQyS"
      },
      "outputs": [],
      "source": [
        "# lda_topics = pd.DataFrame()\n",
        "# for i,topic in enumerate(topics):\n",
        "#   lda_topics[\"Topic_\"+str(i)] = pd.Series([x[0] for x in topic])\n",
        "\n",
        "# lda_topics.head()\n",
        "\n"
      ]
    },
    {
      "cell_type": "code",
      "execution_count": null,
      "metadata": {
        "id": "364WiZ7FIFNO"
      },
      "outputs": [],
      "source": [
        "# lda_topics.to_excel(\"LDA_output.xlsx\")"
      ]
    },
    {
      "cell_type": "markdown",
      "metadata": {
        "id": "HLjlB0xOP87g"
      },
      "source": [
        "## Visualization"
      ]
    },
    {
      "cell_type": "code",
      "execution_count": null,
      "metadata": {
        "colab": {
          "base_uri": "https://localhost:8080/",
          "height": 916
        },
        "id": "pY_EVm9ZJaun",
        "outputId": "17605d9b-1b50-430a-f069-3e9ea2125059"
      },
      "outputs": [
        {
          "name": "stderr",
          "output_type": "stream",
          "text": [
            "/usr/local/lib/python3.9/dist-packages/pyLDAvis/_prepare.py:243: FutureWarning: In a future version of pandas all arguments of DataFrame.drop except for the argument 'labels' will be keyword-only.\n",
            "  default_term_info = default_term_info.sort_values(\n"
          ]
        },
        {
          "data": {
            "text/html": [
              "\n",
              "<link rel=\"stylesheet\" type=\"text/css\" href=\"https://cdn.jsdelivr.net/gh/bmabey/pyLDAvis@3.4.0/pyLDAvis/js/ldavis.v1.0.0.css\">\n",
              "\n",
              "\n",
              "<div id=\"ldavis_el1621396838189563841102609542\" style=\"background-color:white;\"></div>\n",
              "<script type=\"text/javascript\">\n",
              "\n",
              "var ldavis_el1621396838189563841102609542_data = {\"mdsDat\": {\"x\": [0.024451799655159326, 0.03337757797271217, 0.04115077318849192, 0.02307919294593617, 0.002875384654023317, 0.08598572331896949, 0.0593591804396308, -0.14844859495224683, 0.04863924690755541, -0.17047028413023188], \"y\": [-0.022274802026516844, -0.0039003670203768496, 0.08853107257034204, -0.05597670890361863, -0.0731606896430524, 0.10122811664579456, 0.0453800607968965, -0.0158307004920953, -0.11922516692026822, 0.05522918499289533], \"topics\": [1, 2, 3, 4, 5, 6, 7, 8, 9, 10], \"cluster\": [1, 1, 1, 1, 1, 1, 1, 1, 1, 1], \"Freq\": [14.981122642937278, 14.969033892265804, 14.452788100735528, 12.360640602781379, 10.078884105716716, 8.244173345834522, 7.594657831567002, 7.183113709783083, 6.1143968423184845, 4.0211889260602005]}, \"tinfo\": {\"Term\": [\"store\", \"sale\", \"delivery\", \"customer\", \"loan\", \"guest\", \"demand\", \"aircraft\", \"service\", \"rate\", \"network\", \"capital\", \"growth\", \"expense\", \"deposit\", \"brand\", \"asset\", \"comp\", \"capacity\", \"consumer\", \"client\", \"cost\", \"production\", \"business\", \"inventory\", \"people\", \"patient\", \"credit\", \"category\", \"market\", \"assortment\", \"dollar_tree\", \"snack\", \"merchandising\", \"general_merchandise\", \"walmart\", \"banner\", \"yogurt\", \"cereal\", \"tobacco\", \"pet\", \"renovation\", \"foodservice\", \"reimbursement_pressure\", \"basket\", \"walgreens_boot\", \"omnichannel\", \"flipkart\", \"rollback\", \"sams_club\", \"online_grocery\", \"merchandise\", \"associate\", \"oliver\", \"dairy\", \"easter\", \"fdm\", \"apparel\", \"pet_food\", \"ecommerce\", \"pringle\", \"store\", \"remodel\", \"food\", \"toy\", \"consumable\", \"comp\", \"brand\", \"convenience\", \"category\", \"sale\", \"traffic\", \"beverage\", \"item\", \"club\", \"retailer\", \"home\", \"innovation\", \"growth\", \"profit\", \"team\", \"margin\", \"basis\", \"share\", \"point\", \"performance\", \"investment\", \"cost\", \"result\", \"year\", \"customer\", \"business\", \"benefit\", \"guidance\", \"price\", \"line\", \"mix\", \"market\", \"inventory\", \"thing\", \"consumer\", \"impact\", \"time\", \"rate\", \"patient\", \"pfizer\", \"therapy\", \"graphic\", \"gpu\", \"medicine\", \"dose\", \"notebook\", \"medical_device\", \"diagnostic\", \"surgery\", \"physician\", \"hyperscale\", \"diagnosis\", \"inference\", \"ppd\", \"mellanox\", \"oncology\", \"phase_iii\", \"booster\", \"antibody\", \"instrument\", \"cpu\", \"biosimilar\", \"bioproduction\", \"readout\", \"intel\", \"geforce\", \"supercomputer\", \"knee\", \"disease\", \"cancer\", \"nanometer\", \"drug\", \"pharmaceutical\", \"networking\", \"workload\", \"server\", \"treatment\", \"study\", \"gamer\", \"gaming\", \"architecture\", \"vaccine\", \"computing\", \"cloud\", \"software\", \"trial\", \"processor\", \"datum\", \"testing\", \"covid\", \"growth\", \"product\", \"application\", \"guidance\", \"business\", \"performance\", \"market\", \"system\", \"impact\", \"platform\", \"share\", \"term\", \"company\", \"segment\", \"opportunity\", \"margin\", \"point\", \"sale\", \"time\", \"result\", \"income\", \"world\", \"end\", \"customer\", \"number\", \"portfolio\", \"bit\", \"investment\", \"starbuck\", \"iphone\", \"guest\", \"film\", \"uber\", \"advertiser\", \"subscriber\", \"villagemd\", \"boot\", \"starbucks_reward\", \"privacy\", \"reed\", \"nestle\", \"eater\", \"backroom\", \"net_promoter\", \"daypart\", \"cold_beverage\", \"app\", \"reel\", \"espresso\", \"whatsapp\", \"television\", \"spence\", \"prop\", \"spark\", \"health_corner\", \"personalization\", \"cafe\", \"messenger\", \"drive_thru\", \"ad\", \"mcdonald\", \"taxi\", \"coffee\", \"membership\", \"movie\", \"video\", \"audience\", \"subscription\", \"apple\", \"content\", \"member\", \"experience\", \"engagement\", \"restaurant\", \"tv\", \"people\", \"partner\", \"community\", \"pharmacy\", \"story\", \"service\", \"menu\", \"model\", \"time\", \"world\", \"way\", \"thing\", \"country\", \"platform\", \"lot\", \"year\", \"business\", \"today\", \"term\", \"work\", \"product\", \"growth\", \"number\", \"opportunity\", \"customer\", \"company\", \"team\", \"investment\", \"market\", \"day\", \"part\", \"bit\", \"dealer\", \"fastener\", \"resource_industrie\", \"construction_industrie\", \"energy_transportation\", \"vending\", \"national_account\", \"locomotive\", \"dealer_inventorie\", \"caterpillar\", \"heavy_construction\", \"aftermarket\", \"recalibration\", \"onsite\", \"excavator\", \"holden\", \"eame\", \"turbine\", \"restructuring_charge\", \"pref\", \"absorption\", \"jam\", \"fte\", \"relatively_stable\", \"ci\", \"panic\", \"quarry\", \"placeholder\", \"decremental\", \"saas\", \"unwind\", \"distributor\", \"remeasurement\", \"cat\", \"mining\", \"incentive_compensation\", \"uop\", \"drawdown\", \"amit\", \"signing\", \"equipment\", \"honeywell\", \"deferral\", \"constraint\", \"backlog\", \"double_digit\", \"fire\", \"shareowner\", \"region\", \"branch\", \"strike\", \"profit\", \"slide\", \"half\", \"inventory\", \"margin\", \"cycle\", \"tariff\", \"demand\", \"disruption\", \"end\", \"sale\", \"order\", \"segment\", \"basis\", \"cost\", \"action\", \"outlook\", \"business\", \"product\", \"inflation\", \"point\", \"growth\", \"customer\", \"bit\", \"impact\", \"share\", \"thing\", \"level\", \"term\", \"market\", \"price\", \"service\", \"time\", \"environment\", \"part\", \"covid\", \"well\", \"midstream\", \"chemical\", \"rig\", \"barrel\", \"permian\", \"diamondback\", \"refining\", \"feedstock\", \"frac\", \"drilling\", \"permian_resource\", \"acreage\", \"polyethylene\", \"refinery\", \"exploration\", \"basin\", \"renewable\", \"ethylene\", \"ethane\", \"subsurface\", \"phillip\", \"ngl\", \"petrochemical\", \"oxys\", \"pad\", \"phillips_partner\", \"sulfur\", \"carbon_venture\", \"rodeo\", \"crude\", \"gasoline\", \"carbon\", \"turnaround\", \"oil\", \"project\", \"capture\", \"differential\", \"production\", \"gas\", \"capital\", \"debt\", \"dividend\", \"cash_flow\", \"aviation\", \"asset\", \"cash\", \"shareholder\", \"value\", \"price\", \"development\", \"return\", \"cost\", \"slide\", \"term\", \"activity\", \"opportunity\", \"business\", \"day\", \"portfolio\", \"plan\", \"earning\", \"market\", \"time\", \"margin\", \"thing\", \"growth\", \"lot\", \"today\", \"investment\", \"result\", \"rider\", \"courier\", \"earner\", \"carol\", \"skyline\", \"freighter\", \"upser\", \"rework\", \"shared_ride\", \"mapc\", \"air_force\", \"fighter\", \"dara\", \"kc_tanker\", \"passenger_traffic\", \"regulatory_authoritie\", \"commute\", \"satellite\", \"surepost\", \"ridesharing\", \"scooter\", \"accounting_quantity\", \"supplemental_slide\", \"suburb\", \"cowen\", \"dispatch\", \"postmate\", \"investorubercom\", \"wheeler\", \"dreamliner\", \"delivery\", \"mobility\", \"ride\", \"certification\", \"imperative\", \"airplane\", \"tanker\", \"widebody\", \"booking\", \"ebitda\", \"order\", \"city\", \"transformation\", \"service\", \"program\", \"recovery\", \"defense\", \"customer\", \"insurance\", \"action\", \"grocery\", \"profitability\", \"covid\", \"rate\", \"team\", \"business\", \"market\", \"driver\", \"effort\", \"safety\", \"supplier\", \"productivity\", \"work\", \"term\", \"progress\", \"volume\", \"production\", \"time\", \"margin\", \"cash\", \"company\", \"cost\", \"improvement\", \"number\", \"impact\", \"way\", \"part\", \"position\", \"growth\", \"casm_ex\", \"southwest\", \"prasm\", \"rasm\", \"casm\", \"gerry\", \"cabin\", \"united\", \"per_gallon\", \"asm\", \"flight_attendant\", \"fare\", \"mid_continent\", \"hunter\", \"nonfuel_unit\", \"southwest_airline\", \"flying\", \"seater\", \"oscar\", \"basic_economy\", \"leisure\", \"voluntary_separation\", \"salary_wage\", \"west_coast\", \"short_haul\", \"flight_schedule\", \"mileageplus\", \"max\", \"seat\", \"dawn\", \"burn\", \"load_factor\", \"airline\", \"traveler\", \"fly\", \"aircraft\", \"haul\", \"cargo\", \"pilot\", \"travel\", \"passenger\", \"flight\", \"fleet\", \"airport\", \"schedule\", \"fuel\", \"summer\", \"route\", \"hub\", \"capacity\", \"employee\", \"airplane\", \"demand\", \"cost\", \"plan\", \"network\", \"thing\", \"point\", \"time\", \"customer\", \"lot\", \"number\", \"people\", \"way\", \"industry\", \"term\", \"today\", \"day\", \"performance\", \"team\", \"year\", \"work\", \"result\", \"level\", \"business\", \"wealth_management\", \"ccar\", \"brokerage\", \"roe\", \"aum\", \"solium\", \"cet\", \"institutional_securitie\", \"ficc\", \"rwa\", \"cd\", \"gsib\", \"ipos\", \"strategic_imperative\", \"delinquency\", \"broker\", \"prime_brokerage\", \"sib\", \"platinum\", \"onboarding\", \"sme\", \"wholesale\", \"haircut\", \"auto_lease\", \"noncomp\", \"calvert\", \"underwriting_fee\", \"merrill\", \"vintage\", \"reserve_build\", \"adviser\", \"issuer\", \"debit\", \"fraud\", \"ipo\", \"page\", \"wealth\", \"firm\", \"client\", \"prepayment\", \"trading\", \"reserve\", \"bank\", \"charge_off\", \"institution\", \"mortgage\", \"deposit\", \"card\", \"inflow\", \"loan\", \"stress\", \"credit\", \"servicing\", \"equity\", \"revenue\", \"lending\", \"asset\", \"volatility\", \"ratio\", \"loss\", \"rate\", \"fee\", \"capital\", \"expense\", \"investment\", \"business\", \"market\", \"growth\", \"consumer\", \"activity\", \"thing\", \"basis\", \"term\", \"management\", \"income\", \"point\", \"bit\", \"time\", \"lot\", \"year\", \"level\", \"number\", \"result\", \"customer\", \"dram\", \"micron\", \"fedex\", \"consignment\", \"personal_electronic\", \"ssd\", \"millimeter\", \"analog\", \"communications_equipment\", \"ssds\", \"nvme\", \"automated_facilitie\", \"ti\", \"trailing\", \"comms\", \"alpha\", \"smartpost\", \"tnt_integration\", \"wafer_start\", \"securities_law\", \"ticom_ir\", \"jim_barber\", \"ware\", \"gaming_console\", \"node_transition\", \"todays_discussion\", \"gigabit\", \"obsolescence\", \"fab\", \"peak_surcharge\", \"sanjay\", \"memory\", \"smartphone\", \"drone\", \"wafer\", \"package\", \"qualification\", \"up\", \"surcharge\", \"lane\", \"ground\", \"calendar\", \"network\", \"density\", \"shipment\", \"node\", \"peak\", \"commerce\", \"volume\", \"demand\", \"technology\", \"capacity\", \"solution\", \"industry\", \"supply\", \"inventory\", \"transformation\", \"customer\", \"freight\", \"cost\", \"day\", \"growth\", \"market\", \"course\", \"bit\", \"margin\", \"term\", \"product\", \"operating\", \"share\", \"result\", \"year\", \"end\", \"time\", \"opportunity\", \"investment\", \"overdraft\", \"origination\", \"loan_balance\", \"debit_card\", \"nsf\", \"noninterest\", \"hike\", \"occ\", \"save\", \"overdraft_fee\", \"sofr\", \"wells_fargo\", \"forbearance\", \"cib\", \"consent\", \"criticism\", \"waterfall\", \"zelle\", \"epbo\", \"nonaccrual\", \"nii\", \"mortgage_origination\", \"asset_cap\", \"reserve_release\", \"ppp\", \"fee_waiver\", \"teller\", \"repricing\", \"wellsfargocom_id\", \"lender\", \"alert\", \"runoff\", \"banking\", \"personnel\", \"redeployment\", \"beta\", \"loan\", \"enforcement\", \"fee\", \"deposit\", \"allowance\", \"lending\", \"credit\", \"interest\", \"expense\", \"curve\", \"risk\", \"consumer\", \"card\", \"income\", \"equity\", \"company\", \"efficiency\", \"place\", \"level\", \"initiative\", \"progress\", \"mortgage\", \"rate\", \"investment\", \"growth\", \"business\", \"asset\", \"side\", \"customer\", \"point\", \"people\", \"way\", \"change\", \"thing\", \"product\", \"result\", \"market\"], \"Freq\": [8608.0, 10683.0, 3084.0, 14886.0, 2185.0, 2442.0, 6628.0, 2027.0, 6102.0, 8226.0, 2628.0, 5606.0, 23898.0, 4570.0, 1631.0, 3367.0, 3484.0, 2872.0, 3929.0, 3968.0, 1809.0, 9333.0, 3072.0, 22932.0, 3828.0, 5142.0, 1564.0, 1802.0, 2978.0, 14903.0, 676.9499544249513, 351.6566123479876, 301.1429169261559, 268.5673752387288, 218.5686718458513, 146.44716685742316, 140.77385890838485, 103.3440109092246, 379.24832317688896, 99.06490657738328, 94.58227010297999, 92.48668808253845, 92.45861448952651, 84.84425589132225, 204.83675152135888, 67.10786176354087, 150.01420692650305, 45.90094074177365, 44.232621475511294, 172.79811378334867, 40.64595971494361, 239.0514894282187, 542.7777846380806, 38.502730240337186, 37.972803892711156, 36.0841612228029, 34.891117926268805, 403.5524356342395, 33.51187957678382, 453.28581009191976, 113.86366845311511, 7608.209890489341, 243.84748774821205, 1197.7743131238572, 178.15963547429809, 149.35022059092023, 2434.0682293420596, 2624.0014311646623, 377.52296482953506, 2216.5640469203922, 6118.518017867792, 814.9398627607312, 488.3749540451438, 1408.8534297828915, 227.26431675642178, 350.3374854752214, 793.0329841780195, 828.3829553878661, 5462.56726857452, 1239.5853635249346, 1870.4092735845297, 2532.29539604507, 1896.7089801540778, 1965.587003220988, 2310.8871778962152, 1742.6552369752865, 1912.960039809014, 1999.3468915246526, 1741.5236950487313, 1685.8712435002228, 2220.617358309119, 2647.7994649166367, 1101.633944540969, 1346.623215534494, 1217.8457673180615, 1249.1962672149352, 1005.6528453460563, 1651.4497885132093, 1026.8577321718176, 1222.4765540343606, 1004.0772578448853, 1100.5952272266254, 1156.2416465258436, 1093.4958100134913, 1563.445950891989, 494.1970332209191, 384.33405827253125, 312.4239538984267, 306.44879453894123, 246.55294860805662, 524.8004339433913, 218.78660045509204, 208.51430029607175, 188.84537957822735, 174.4324818664661, 161.27456148598048, 147.54899894222305, 145.7542223525719, 330.46435705282835, 134.56314006731841, 134.10817395697916, 126.32050446138798, 123.93370629900812, 117.24217688442583, 116.19252410908791, 164.62766363085032, 110.94620563730427, 110.12573955206804, 107.83638031171023, 128.03530579271015, 103.33669249965828, 102.71212756393687, 101.20286444573864, 98.7971182644774, 295.928022317486, 176.05660258991918, 415.15543430538725, 327.4173356948619, 191.7437180248291, 191.82202900612873, 242.8016906741465, 480.8530849019441, 436.47905121454136, 613.1909516396495, 174.19642441106083, 612.2361963903293, 316.8726563587824, 1403.0124340518103, 262.5510814353826, 379.2353881615265, 541.251812378452, 394.04102151686766, 230.4927877260424, 1189.9766978911543, 578.6610716003534, 1810.8789646951163, 5732.322089267269, 2565.822373325166, 615.3514531064989, 1895.2223654801535, 4659.782805948266, 2034.7934950506074, 2996.6948800519917, 959.816810551441, 1555.1994132311315, 938.1199457831115, 1562.644938855812, 1914.099585117093, 1376.9747749472708, 1108.5723203790176, 1304.0476848570868, 1469.2874538361684, 1421.001919325206, 1407.0013912279248, 1439.9351846156203, 1187.649858682291, 918.10067226036, 918.0600099242918, 1013.5251893504482, 1270.9511521641975, 1001.9324652904849, 836.6195580830324, 930.2504343400908, 901.5187155491864, 894.5839607178202, 231.99690282727198, 2429.8689026989505, 214.1300460024198, 194.79919108430173, 191.71904072038174, 165.59310227613776, 161.45870825413326, 122.42426736967838, 118.07838403546144, 116.02162088805774, 104.12812383012995, 100.01565069325083, 95.99906921433465, 92.77332248115708, 85.70161128209081, 84.41550459166619, 81.96387236495379, 863.622767936261, 75.6844616468871, 68.07011353960861, 65.31553012039845, 65.21509468312645, 62.0835730126336, 59.775311409041755, 71.48347981484108, 56.128556651067946, 55.71234755208915, 55.39762704831061, 53.030128025578605, 157.8132943724908, 541.8454980296708, 127.76938043185095, 106.33790973878024, 441.9682996034426, 399.03376519277583, 157.62592997694432, 302.10373694175263, 146.85245008977535, 134.67070262115254, 339.0798946570517, 937.8066912526908, 1459.0608888981844, 1923.6870670308074, 636.1276266738869, 549.0376329520495, 150.46938527816184, 2648.0267674839542, 1333.4769523123532, 869.8687544617281, 641.7012424345976, 479.81110857801684, 2183.4507934983444, 224.52569191120213, 1134.4933367758053, 3198.1931685891354, 1372.2497540240736, 2049.8711082043797, 2400.183312171779, 722.4535271755249, 1030.9296513087324, 1780.300375108871, 1902.755759495275, 3454.79299149421, 1537.608143227086, 2280.797503140819, 1299.0406423718812, 1699.515648760834, 2689.5087691082854, 1356.3325205276965, 1340.0861806073865, 1797.2619069781545, 1308.2379031312842, 1228.4819275050888, 1271.2623751392825, 1436.8088127476299, 1141.1743969559252, 1044.5070936074594, 1011.5688302475011, 190.38726060397727, 157.1826664380118, 89.44050815721957, 86.25169475149704, 79.72520081023043, 64.76583246022889, 31.516711404026626, 31.126996070828728, 30.76799526162455, 30.767865262883436, 29.492689040070555, 202.17794213906765, 27.785656999284782, 177.73877309003728, 25.028186380788977, 24.90970645670226, 24.3905820195399, 40.77214124011504, 34.4482828365562, 22.794863722237064, 33.77145367658278, 21.32654186981755, 20.64976145937204, 20.338939112186274, 20.187966467039917, 20.00999819045807, 18.650899655336303, 21.13373284409416, 17.89753954004862, 17.740041422379676, 58.24106100228201, 127.00818507174468, 36.48852950768423, 80.7662864427987, 173.3952922945124, 125.902898632316, 99.69201388317244, 56.184304491032805, 111.92944537771737, 67.08699248246265, 571.6971723415758, 62.65888250647405, 102.79595668219778, 398.76538127287256, 410.1044286100924, 301.0506389563839, 97.99837171272115, 66.25714087576425, 577.699585643675, 270.76087656362387, 80.65253754432601, 1218.3850470558418, 1137.9559402049892, 1506.6993750630406, 1378.0579693785885, 3047.5951046879873, 740.8127575087028, 282.31668751602297, 1920.3534378704353, 320.69159161348085, 1594.7214483847422, 2335.171397978251, 918.7507258126207, 1247.3397038061366, 1656.38141127889, 1937.3777758664369, 646.4995622521416, 891.2130553404428, 3362.8627031123206, 1748.1492311844852, 521.2881919231689, 1849.3011773584633, 3134.961984354486, 2318.376749186545, 1506.6928379834876, 1419.5996242382773, 1455.8680844485082, 1620.808407191109, 1302.0908650326571, 1791.5943647540282, 1747.0600645889544, 985.3423952345748, 1106.0353064624862, 1316.2644420635727, 858.1017816993468, 908.6105268659325, 867.7383283804711, 464.7373132105786, 449.06822169972946, 429.0973002447378, 287.57566603340814, 798.6582916736819, 193.2068459476741, 186.67774991002145, 467.7994444423613, 173.00664398302231, 154.43168209364873, 130.82331568103004, 128.61138946971298, 127.2745482654788, 111.46871525788367, 301.4945572440457, 93.27398710190367, 92.1656692561849, 211.65400072381, 85.23876600706846, 79.22864407857757, 78.71394787338376, 81.63054708362964, 77.17107827114539, 76.09662022462086, 70.31081946579188, 65.39091947065968, 65.00447709787898, 59.72150798580522, 54.41017599184826, 53.21228337994711, 149.5425148634829, 203.52177342430647, 236.7682499052449, 276.93139295182243, 1029.7566909464083, 1438.7783405898097, 289.0288207965024, 115.13889943101071, 1745.7695728565411, 631.193600351803, 2132.732926196949, 964.5893582088001, 943.5284419657933, 1039.062381376127, 309.61403411827126, 1171.2535814583268, 1298.1484789967935, 761.0885730142268, 1151.696549105114, 1210.7858358850337, 691.2494359970942, 837.4258840162596, 1414.4458045362842, 739.4418035014403, 1536.074927865175, 693.597997703997, 1022.8885426261263, 1801.558892087082, 966.3982225797088, 759.6482292485022, 827.5014496710324, 831.3088296315924, 1216.4040185234328, 1124.9904350708625, 1003.9037348220871, 970.0610775297544, 1119.9453855630106, 854.4129030957464, 806.8954904078968, 790.0980619750611, 772.3807857594635, 136.4937722255482, 110.7317292108811, 81.6270014897339, 76.99525777840184, 63.920028947756336, 114.20146184868402, 60.47522406288187, 55.011494147101814, 35.20203441114108, 35.20065951396093, 30.78815926040373, 29.721715927356332, 28.169444624502006, 26.66780298132225, 25.556361183469896, 25.203212339855416, 24.26983056498638, 27.91639851443309, 22.481770588966278, 21.099071486638515, 21.0927342634872, 20.280535430618443, 19.725595652894278, 19.367530932537694, 18.985148492460965, 18.560732596700895, 18.32486495984572, 18.31360876333703, 18.30595238208043, 18.151547403149348, 2745.8364400784494, 469.5168833034045, 303.2777679759851, 142.29654435407747, 23.69807926295804, 669.5687830500322, 57.75234548250717, 63.805008270144576, 456.6890182938063, 164.7993750234992, 1207.4759257532403, 315.7872018440753, 422.5544088427534, 1950.73899947612, 1264.1588489588096, 723.2631504714691, 141.0471839569948, 3089.071023991455, 126.59383127308385, 612.4367763114569, 262.3186148352495, 361.0622439385402, 1001.556163025095, 1487.562547417451, 1269.1602046688424, 2787.013396750859, 2050.285717170153, 612.434695385995, 474.6136643096165, 393.6331865425429, 247.3067442346692, 391.82446594943724, 769.5909922120991, 1196.3694320131942, 554.976776083418, 631.4611418880125, 530.6829126873164, 967.8203976208974, 858.1221327904316, 559.768007867648, 646.3724096516811, 704.8301145469902, 520.397988137948, 628.6845927717676, 640.8224328073838, 562.6812044225546, 543.466384620395, 502.77631496021485, 520.4169641963264, 237.15100943016438, 180.0238934142643, 152.76668322608492, 152.25700612229716, 151.72147260735161, 171.9825609548011, 139.94877247079933, 91.67344933594292, 91.26029446604014, 87.46806837372164, 79.55879645023997, 289.2958597418001, 55.64774361952284, 80.07975863374311, 44.07718790126935, 72.88124134159638, 42.122432948206985, 41.09123454169862, 39.46715866866782, 38.755605295593696, 249.6089843365709, 34.303832475370626, 32.966122631739836, 31.644290632824845, 35.074007786804394, 29.83989881216814, 31.16225855116082, 26.67232299169809, 340.0123087906162, 25.42881903090859, 238.53675788411033, 99.16349024700568, 959.6190058010133, 92.48215252569713, 74.61294766398528, 1648.4789850046543, 169.3773506664158, 203.92031786055767, 454.00197473719857, 901.9598935550127, 317.02226223818576, 762.1524299084754, 687.092295271199, 238.97220905913326, 544.8243419288242, 799.2657137875955, 341.00651404400304, 206.38569129160047, 385.1857640236486, 1329.9939071452854, 615.7631061189495, 409.46518513389157, 1195.3878497044618, 1306.1338026269334, 846.3596180159913, 603.2929218745294, 1143.523038246592, 1139.0257114733927, 1217.498116462945, 1284.9536363919676, 928.5732380272176, 831.2970832251871, 745.4304292802954, 807.3512623076219, 626.4379015031734, 877.1978955071336, 657.2340510728707, 629.1632996021167, 650.3980084872741, 638.4839767052673, 628.6234871135683, 550.4238410173587, 588.8954879193662, 559.6776063839562, 552.911487932329, 439.78671085085557, 181.32033032357756, 108.56391790539426, 93.95283328599706, 88.71292098106856, 46.71224881327235, 45.08692730410364, 44.27828936878312, 42.837410480469394, 42.71661528176986, 40.98630385575778, 37.24685996715173, 37.188141915080124, 35.60675844193522, 95.46512193786265, 33.07257656661146, 30.68887133513908, 27.921565599538937, 26.827984711533485, 26.690394040052368, 19.537113146132054, 19.05016180142033, 18.542647132081314, 18.4299542313357, 16.642933464816014, 16.61319401120395, 16.586220077206534, 16.090258534686917, 16.107422293739138, 14.99696903801647, 219.5123018974134, 35.20208602737787, 72.06041342225006, 39.362447397467854, 56.91038434035196, 794.4074617460019, 245.48804789609216, 239.9065655890426, 1323.7333337083353, 109.1344621393358, 414.0132120232143, 516.3212277728237, 573.1342064652462, 169.9759584150298, 142.02057523222265, 364.35490507872316, 937.1201453602218, 946.0215246928952, 98.79872514850341, 1047.2996555418772, 159.1084430300833, 843.7555988027867, 116.60283284780853, 558.2488578459784, 917.0400446968157, 272.06270021865305, 1223.184587747688, 333.3751064762599, 302.1103271481608, 604.4430614308328, 1940.8503641248044, 513.5733858991747, 1290.01914040272, 1119.7088050346351, 1337.4139626259719, 2365.719133695958, 1821.2205365044113, 2273.2088170255, 809.991588371157, 592.3216999236276, 1049.9900393611715, 894.3280974956363, 1138.027693300179, 526.4798204165158, 648.3396767159807, 843.2746951773103, 732.9105939810646, 799.8811292590992, 708.2664416297329, 695.1970438102218, 652.2195847183991, 611.7147645727199, 614.7660419565549, 595.783774336191, 508.05456336889256, 275.3973190715781, 146.36379784362222, 120.74122017369626, 89.84178962738996, 78.26022526207343, 70.25683748134487, 191.9625426617382, 56.36469726070207, 54.46645634951818, 51.50818083758972, 45.38796798071326, 45.01427178213031, 38.897141022052516, 61.93454684437509, 34.401523894868745, 30.71082551404092, 29.436215426038913, 28.28983388539904, 24.954254146518984, 23.6177058554147, 20.40312253064864, 19.980721394055745, 19.261725856701396, 18.65201844025716, 18.631176392233385, 17.409323671303348, 17.34692039770798, 39.51661032556287, 16.149743972644767, 66.93223799939062, 339.4082161944473, 144.14253848941377, 84.50785135754636, 90.38231866922834, 606.4721334633984, 62.01305533689793, 828.7161715263986, 143.66525903463597, 92.75918027552567, 471.76195950011135, 459.5475961071269, 1378.0154553074094, 166.13714373064693, 350.8533690683676, 171.81634114798473, 358.9397254250639, 368.19031513940155, 987.0868906532864, 1322.4046177945327, 827.9383991169728, 873.0241378798639, 532.238082024459, 866.5532595745514, 528.8693640033822, 781.5837367576398, 312.51252584867484, 1662.85933216757, 296.53949258689437, 1070.9661504357246, 816.858578062693, 1660.1264355582052, 1275.8542445851285, 555.7229798235574, 836.9511667093317, 831.587675219216, 889.4596602064197, 753.2608564558204, 492.3395626999018, 624.0155570534989, 610.6733758966433, 621.874937477826, 536.1446925395911, 588.8890238578873, 522.0417157687908, 490.97708299676043, 311.3595891310781, 219.03361727310184, 146.61140664823182, 84.01570059539212, 77.41900666298915, 65.82416336584922, 61.40741278274875, 60.54779059005209, 60.943662792312765, 58.49450411224998, 57.95608553400281, 47.433801914583015, 42.62047225772953, 42.39024965014536, 40.93759550437191, 39.4407044947783, 38.8458449466038, 38.82063621752845, 38.78436827249807, 23.976794042644165, 22.524224479784337, 22.270289958613958, 22.24253165885682, 21.97748807822873, 21.90344026858711, 21.754086478463865, 21.539402960437933, 21.500639819455934, 21.36586902988526, 20.84112116505097, 59.56065965508218, 63.06618038490801, 669.9679188033883, 83.91936065678567, 39.68619431826982, 101.19347535545006, 1059.1714108223593, 39.3249860064992, 603.7054709457377, 692.8786267820221, 70.05209467757959, 208.80321720529088, 516.304737980963, 511.0918205152865, 782.8822418307166, 168.80905649855217, 400.96965196599956, 566.8935369480816, 330.71153143576606, 498.63145234640695, 252.594401570353, 654.0209946022426, 332.06961886330066, 366.9151934518031, 588.8627645985505, 342.14225971394796, 370.21204209210623, 166.31943093596172, 572.4805042243064, 562.5664200868654, 897.0445253320538, 862.9068613974079, 382.56651245314094, 380.6917684227048, 646.3183911576087, 507.94751111804965, 396.0183615354048, 384.0495167608101, 336.12897038656143, 364.7652166204667, 345.10476418000803, 338.48856784438027, 336.7368315368858], \"Total\": [8608.0, 10683.0, 3084.0, 14886.0, 2185.0, 2442.0, 6628.0, 2027.0, 6102.0, 8226.0, 2628.0, 5606.0, 23898.0, 4570.0, 1631.0, 3367.0, 3484.0, 2872.0, 3929.0, 3968.0, 1809.0, 9333.0, 3072.0, 22932.0, 3828.0, 5142.0, 1564.0, 1802.0, 2978.0, 14903.0, 678.0884778086822, 352.78498835338087, 302.2732261722799, 269.71435072845435, 219.69720740932638, 147.575696806569, 141.9022579175169, 104.47239338362188, 383.4257327930303, 100.19344378912851, 95.71066960890731, 93.61521603333439, 93.58701792762051, 85.97293328075747, 208.072580543706, 68.2370181829904, 152.7139815163733, 47.029827396750996, 45.36109484962351, 177.21703939002194, 41.77453666225525, 245.72912549343988, 558.6815614103069, 39.6319645857621, 39.10122549240751, 37.216076683035, 36.01952387537053, 416.95238045218247, 34.64027728417429, 468.5581130909589, 117.86476347621364, 8608.98659924918, 260.93967389686816, 1349.3102374699733, 191.0252855888072, 159.47977284322207, 2872.4353184843326, 3367.5239269004846, 432.3072192110077, 2978.4298455557387, 10683.739949950488, 1239.496309346031, 683.4984882449896, 2500.992356993509, 273.3165953581458, 463.5258506658386, 1477.683227966099, 1623.7433773658236, 23898.90424025808, 2974.183503834908, 6528.27006110542, 10694.100304103162, 7167.775919981386, 7760.314842537101, 10178.697045537556, 6915.619933528609, 8223.770133670008, 9333.374295617317, 7519.436496875934, 8294.184183102036, 14886.353838817833, 22932.36510479159, 3704.12995384823, 5636.3743848396325, 4584.959869332667, 4994.573208165974, 3175.9780129670467, 14903.99721675569, 3828.4999983916105, 10060.04692511217, 3968.4647050196063, 7380.29547576759, 12111.31313496156, 8226.110170667087, 1564.6679140285098, 495.30232346696886, 385.43903618811385, 313.5289744623466, 307.5537062950213, 247.6580256247569, 527.190030524311, 219.89163767702118, 209.61922357106846, 189.97050218899838, 175.5374175793595, 162.37950264388866, 148.65396888628297, 146.8594663594033, 333.04928386749856, 135.66809703090914, 135.2131001999495, 127.42544439635259, 125.03861849110018, 118.34819045198289, 117.29773415161908, 166.22249940243927, 112.05119400215463, 111.23065270713535, 108.94133867188893, 129.39331610728863, 104.44165250099974, 103.81705514719374, 102.30779884136716, 99.90215912102501, 300.53685094297185, 178.51680075976196, 427.05070545986297, 336.6289351200698, 195.0908640415817, 195.19418432861843, 249.30187228192176, 506.60307660886525, 460.55923216198875, 659.1516888237852, 178.41245362821292, 678.9909293862187, 338.08724024429574, 1698.5878327666726, 278.46332798707317, 434.0146150301759, 681.6862420574627, 475.97845380189193, 257.59673880312226, 2374.1649085397635, 901.3996874431353, 4489.7141987527, 23898.90424025808, 8731.382860758493, 1073.058354392023, 5636.3743848396325, 22932.36510479159, 6915.619933528609, 14903.99721675569, 2668.869713515524, 7380.29547576759, 2836.092910417071, 7760.314842537101, 12980.102097797875, 6754.2996584730245, 4442.41857854675, 6474.533709012342, 10694.100304103162, 10178.697045537556, 10683.739949950488, 12111.31313496156, 7519.436496875934, 3763.4462817418403, 3782.9542228148634, 5787.684172911916, 14886.353838817833, 6594.492486852604, 3560.5719540240398, 7469.283953925838, 8223.770133670008, 895.7079059905002, 233.1575730211254, 2442.0908516852705, 215.25387503225724, 195.92328663177892, 192.84283692780485, 166.71709496705694, 162.582784585255, 123.54957880717784, 119.2023002123118, 117.14545489593046, 105.2519268758549, 101.13956594677676, 97.12317944094826, 93.89766864364861, 86.82628495279926, 85.53941952944248, 83.08777823647468, 876.0653461890513, 76.80825553348923, 69.19402375579936, 66.43932218881413, 66.33931906055379, 63.20737687768043, 60.90000548683239, 72.83309541204153, 57.25430469782286, 56.83645893305166, 56.52161277754408, 54.153958507115014, 161.36664439560928, 562.947465220019, 131.5361393217932, 109.6366577862576, 473.8711249698678, 427.67543672190726, 164.38581130640208, 323.08431648116624, 153.97057103710566, 140.9358922437326, 372.755377319054, 1112.030449070096, 1998.1004039295904, 2903.8834119398207, 871.3472971426775, 763.5539966296262, 165.69166895317306, 5142.328851823456, 2291.488547613614, 1388.0848997907042, 1065.421805573743, 747.6330046993285, 6102.880453162593, 282.4430416136767, 2660.0556322771777, 12111.31313496156, 3782.9542228148634, 7179.644141579889, 10060.04692511217, 1627.33314481206, 2836.092910417071, 7389.289303534067, 8294.184183102036, 22932.36510479159, 6222.862466030333, 12980.102097797875, 4939.369941438298, 8731.382860758493, 23898.90424025808, 6594.492486852604, 6474.533709012342, 14886.353838817833, 6754.2996584730245, 6528.27006110542, 8223.770133670008, 14903.99721675569, 5897.286143542999, 5548.704230876171, 7469.283953925838, 191.46025831848, 158.25560109499784, 90.51343645604689, 87.32462328639023, 80.79814095808408, 65.83877044889289, 32.58964456616553, 32.199938947924025, 31.84092355594904, 31.84079368804558, 30.565617177338456, 209.7487311494092, 28.85948529854576, 185.29502803251376, 26.101114894232186, 25.9826419946382, 25.463510339688533, 42.587412514385726, 36.0631890507496, 23.872500494136894, 35.4450113722237, 22.429030158779618, 21.723416677954205, 21.412934205428265, 21.261938807168676, 21.08950557307239, 19.72382775443912, 22.382172134771828, 18.970562381474007, 18.813539432816622, 62.60847522623176, 139.74073896573407, 39.23018686001422, 89.09645426303345, 199.36054555518638, 145.2648954222507, 115.08725308531433, 62.641741619707425, 131.02593258301795, 76.06245438437199, 798.7720424212206, 71.20776826337683, 125.00296127625066, 601.0563677030545, 636.3100766729165, 464.0421648250292, 125.1641601432555, 80.06927967894163, 1128.7803812539635, 456.84499232202086, 103.29664854679272, 2974.183503834908, 2766.851388362873, 4268.638025237654, 3828.4999983916105, 10694.100304103162, 1756.6298734802563, 506.25257193019075, 6628.163741992769, 614.0391149451589, 5787.684172911916, 10683.739949950488, 2843.848206506979, 4442.41857854675, 7167.775919981386, 9333.374295617317, 1808.5369449408827, 2961.5845808366003, 22932.36510479159, 8731.382860758493, 1324.3158181603765, 10178.697045537556, 23898.90424025808, 14886.353838817833, 7469.283953925838, 7380.29547576759, 7760.314842537101, 10060.04692511217, 6897.012073582345, 12980.102097797875, 14903.99721675569, 4584.959869332667, 6102.880453162593, 12111.31313496156, 3940.879132964488, 5548.704230876171, 4489.7141987527, 465.82932248632767, 450.158962208747, 430.1880456845178, 288.66645484317746, 802.3927989015193, 194.29756773460804, 187.76850418268833, 470.7371708773862, 174.09741661031256, 155.52241033919896, 131.914112050142, 129.70211438527943, 128.3652611144116, 112.55943053922694, 304.7436171554151, 94.36495590274379, 93.25692030274459, 214.30360968450407, 86.32948623790922, 80.31936169222352, 79.80470316263911, 82.77379780991798, 78.2618070534779, 77.18740091728544, 71.40154694213818, 66.48173375367311, 66.09521718710003, 60.81224159030428, 55.50090448526412, 54.303668122575175, 152.6837993976218, 209.71365203908138, 253.01513058482936, 302.9358271252021, 1282.5399800859077, 2076.0805575590543, 359.49912770116424, 124.81480723377699, 3072.7302960319885, 956.6669736854178, 5606.983179655414, 2135.2851728856294, 2139.876581417589, 2549.479992334089, 505.81551424558523, 3484.885435274942, 4070.7002960909426, 2014.2212915823243, 4027.1392783081888, 4584.959869332667, 1879.446935925582, 2639.2344264384933, 9333.374295617317, 2766.851388362873, 12980.102097797875, 2665.7499206622288, 6474.533709012342, 22932.36510479159, 5897.286143542999, 3560.5719540240398, 4543.946745552131, 4646.831006197113, 14903.99721675569, 12111.31313496156, 10694.100304103162, 10060.04692511217, 23898.90424025808, 7389.289303534067, 6222.862466030333, 8223.770133670008, 7519.436496875934, 137.64735740753548, 111.88553874382761, 82.78055597946191, 78.1490435313271, 65.07357848463951, 116.27144394488832, 61.62896717897211, 56.175927091842624, 36.35559036278485, 36.35421513998563, 31.942115969694477, 30.875240427556427, 29.322993353039752, 27.821313659334837, 26.71003899416722, 26.358032759918736, 25.424014170810768, 29.27367136353538, 23.6355451194395, 22.252717866777452, 22.246394290819715, 21.43404653678979, 20.87914935946375, 20.521114107377887, 20.139182807033865, 19.714281562581384, 19.478405716280573, 19.46717444995, 19.459537599293085, 19.305059360312146, 3084.7753078976452, 536.9935551794482, 343.6007901929105, 166.12063978508556, 25.78358787005353, 1080.0741116384227, 70.72459193194916, 81.45043071904378, 809.972149378793, 254.7392170122302, 2843.848206506979, 595.1173104528616, 860.3550215712746, 6102.880453162593, 3689.614732149955, 2019.3794499950245, 243.50459076679184, 14886.353838817833, 215.24707664670146, 1808.5369449408827, 584.236391499124, 1022.2180353883379, 4489.7141987527, 8226.110170667087, 6528.27006110542, 22932.36510479159, 14903.99721675569, 2367.0430502926674, 1618.4770981942556, 1237.1161317065205, 599.2108203701056, 1357.7289077017094, 4939.369941438298, 12980.102097797875, 2997.3266279660156, 4215.93551439647, 3072.7302960319885, 12111.31313496156, 10694.100304103162, 4070.7002960909426, 6754.2996584730245, 9333.374295617317, 3339.2585442347604, 6594.492486852604, 7380.29547576759, 7179.644141579889, 5548.704230876171, 3219.955903762746, 23898.90424025808, 238.28852478246756, 181.1615629205885, 153.9040941614698, 153.39440743940227, 152.85887087563017, 173.31409608628016, 141.1382999211864, 92.81139327128373, 92.39771548469092, 88.60578839132006, 80.69621003193595, 293.81538848074024, 56.78519293040752, 81.86145008694368, 45.21963216601789, 74.81300568177072, 43.25993952484251, 42.228635964795146, 40.60505959166209, 39.893002867124004, 257.7979932513746, 35.44129086055768, 34.103530826609635, 32.78218337779808, 36.37162702092775, 30.977327585752334, 32.35301940492722, 27.810166203677863, 354.7624371272911, 26.566497081321664, 249.4507371109561, 104.60599564290898, 1056.654486169278, 98.21811128537566, 80.10196093492856, 2027.1762467137853, 191.95958544916493, 236.30504913030063, 571.7306197787017, 1211.154539116077, 388.81982817654887, 1009.3929723051253, 936.7166102152032, 298.38562153136996, 814.2970875276662, 1469.2198867210884, 509.3561500678102, 271.9692169761905, 625.0815805620518, 3929.0694395830246, 1567.6369154144807, 1080.0741116384227, 6628.163741992769, 9333.374295617317, 4543.946745552131, 2628.504807491183, 10060.04692511217, 10178.697045537556, 12111.31313496156, 14886.353838817833, 7389.289303534067, 6594.492486852604, 5142.328851823456, 7179.644141579889, 4154.185974736008, 12980.102097797875, 6222.862466030333, 5897.286143542999, 6915.619933528609, 6528.27006110542, 8294.184183102036, 4939.369941438298, 7519.436496875934, 6897.012073582345, 22932.36510479159, 440.87501605667245, 182.4086860116933, 109.65266895336009, 95.04114301055127, 89.8012256886484, 47.800565322562576, 46.175238071520205, 45.36659986109933, 43.92570996616126, 43.80498769562398, 42.074612983981126, 38.33643232055599, 38.27646459968633, 36.69685134566735, 98.52500240378494, 34.161192911370435, 31.77717781644913, 29.009879315677825, 27.91635886598493, 27.7824218972121, 20.625417744373465, 20.140628872271048, 19.634696896249242, 19.51827424985588, 17.73125293137791, 17.701506099861167, 17.674535998240497, 17.178559088768186, 17.198275776081285, 16.085276169910173, 236.69218273953274, 38.006120648769695, 79.8023464576546, 43.10777301367545, 63.57227837071341, 994.7556742728309, 294.64041025273843, 287.86672875169074, 1809.6501964412337, 127.24733103884502, 539.1126391552816, 689.7478387045439, 813.7681463908084, 213.52901703135277, 179.35612429615986, 531.7525977643782, 1631.0770298325033, 1660.5136945744182, 122.89900056367179, 2185.268911671583, 221.20787885695458, 1802.6262519835097, 153.2229026760465, 1114.954076103557, 2098.6740037524746, 481.94420355341686, 3484.885435274942, 634.3556178881761, 566.1398744291178, 1540.6570484650933, 8226.110170667087, 1327.8400419630163, 5606.983179655414, 4570.167342503243, 8223.770133670008, 22932.36510479159, 14903.99721675569, 23898.90424025808, 3968.4647050196063, 2665.7499206622288, 10060.04692511217, 7167.775919981386, 12980.102097797875, 2147.3450618040283, 3763.4462817418403, 10178.697045537556, 7469.283953925838, 12111.31313496156, 7389.289303534067, 8294.184183102036, 6897.012073582345, 6594.492486852604, 7519.436496875934, 14886.353838817833, 509.1728354602058, 276.5135961625886, 147.4801920568621, 121.85754164406683, 90.95810566181162, 79.3765029419479, 71.37319874722861, 195.1407454464839, 57.48101022128117, 55.58274032990493, 52.624454948919585, 46.50428319947728, 46.130858328042976, 40.01886782174333, 63.850110412064936, 35.52184449581999, 31.827106908868107, 30.552497212653606, 29.40613065677449, 26.07146877420328, 24.734028849266046, 21.522157300371685, 21.097306053635048, 20.378406565165303, 19.768294067124344, 19.757351808907305, 18.526719595516862, 18.46321972650358, 42.1971818051431, 17.266023714061213, 71.87069930241587, 388.2897419618519, 161.64249748079217, 94.44857406023372, 102.03819619947618, 751.4064962529033, 70.01029417584397, 1130.8354896109454, 173.45782085179118, 110.0418416000986, 693.052054757643, 707.763878769202, 2628.504807491183, 230.79963267054703, 624.2156030463382, 260.916816341591, 737.0337662592808, 874.0535055437044, 4215.93551439647, 6628.163741992769, 3596.4564881494007, 3929.0694395830246, 1857.4526554044746, 4154.185974736008, 1951.985246923341, 3828.4999983916105, 860.3550215712746, 14886.353838817833, 857.2527386007106, 9333.374295617317, 5897.286143542999, 23898.90424025808, 14903.99721675569, 2850.4084156458075, 7469.283953925838, 10694.100304103162, 12980.102097797875, 8731.382860758493, 3000.54007800203, 7760.314842537101, 7519.436496875934, 8294.184183102036, 5787.684172911916, 12111.31313496156, 6474.533709012342, 8223.770133670008, 312.60023333484304, 220.27438561554138, 147.85209207864608, 85.25651982071858, 78.6596499095886, 67.06486780990753, 62.64840984376937, 61.78844467836404, 62.20073757854123, 59.735149127401314, 59.19672675253925, 48.6744978294088, 43.86120573635164, 43.63097455164146, 42.178294820794044, 40.68146486815408, 40.086532971401446, 40.0612820607615, 40.02501020377843, 25.217488924100433, 23.764987207739964, 23.510967656423002, 23.483209637236556, 23.21823151164419, 23.14445555965346, 22.99478396504779, 22.78007533023517, 22.741434188677573, 22.606536098425078, 22.08224867401307, 66.22039131668387, 71.38091319494984, 882.1677157578287, 104.46350978880817, 45.03471133212255, 130.72777250507352, 2185.268911671583, 45.85181112695365, 1327.8400419630163, 1631.0770298325033, 97.47715768814226, 481.94420355341686, 1802.6262519835097, 1917.592399952866, 4570.167342503243, 456.33957848376895, 2004.9351999770765, 3968.4647050196063, 1660.5136945744182, 3763.4462817418403, 1114.954076103557, 6754.2996584730245, 1871.4666258743778, 2305.693175786591, 6897.012073582345, 2299.631581312773, 2997.3266279660156, 531.7525977643782, 8226.110170667087, 8223.770133670008, 23898.90424025808, 22932.36510479159, 3484.885435274942, 3465.9489051906903, 14886.353838817833, 10178.697045537556, 5142.328851823456, 7179.644141579889, 4416.566841255352, 10060.04692511217, 8731.382860758493, 7519.436496875934, 14903.99721675569], \"Category\": [\"Default\", \"Default\", \"Default\", \"Default\", \"Default\", \"Default\", \"Default\", \"Default\", \"Default\", \"Default\", \"Default\", \"Default\", \"Default\", \"Default\", \"Default\", \"Default\", \"Default\", \"Default\", \"Default\", \"Default\", \"Default\", \"Default\", \"Default\", \"Default\", \"Default\", \"Default\", \"Default\", \"Default\", \"Default\", \"Default\", \"Topic1\", \"Topic1\", \"Topic1\", \"Topic1\", \"Topic1\", \"Topic1\", \"Topic1\", \"Topic1\", \"Topic1\", \"Topic1\", \"Topic1\", \"Topic1\", \"Topic1\", \"Topic1\", \"Topic1\", \"Topic1\", \"Topic1\", \"Topic1\", \"Topic1\", \"Topic1\", \"Topic1\", \"Topic1\", \"Topic1\", \"Topic1\", \"Topic1\", \"Topic1\", \"Topic1\", \"Topic1\", \"Topic1\", \"Topic1\", \"Topic1\", \"Topic1\", \"Topic1\", \"Topic1\", \"Topic1\", \"Topic1\", \"Topic1\", \"Topic1\", \"Topic1\", \"Topic1\", \"Topic1\", \"Topic1\", \"Topic1\", \"Topic1\", \"Topic1\", \"Topic1\", \"Topic1\", \"Topic1\", \"Topic1\", \"Topic1\", \"Topic1\", \"Topic1\", \"Topic1\", \"Topic1\", \"Topic1\", \"Topic1\", \"Topic1\", \"Topic1\", \"Topic1\", \"Topic1\", \"Topic1\", \"Topic1\", \"Topic1\", \"Topic1\", \"Topic1\", \"Topic1\", \"Topic1\", \"Topic1\", \"Topic1\", \"Topic1\", \"Topic1\", \"Topic1\", \"Topic1\", \"Topic1\", \"Topic2\", \"Topic2\", \"Topic2\", \"Topic2\", \"Topic2\", \"Topic2\", \"Topic2\", \"Topic2\", \"Topic2\", \"Topic2\", \"Topic2\", \"Topic2\", \"Topic2\", \"Topic2\", \"Topic2\", \"Topic2\", \"Topic2\", \"Topic2\", \"Topic2\", \"Topic2\", \"Topic2\", \"Topic2\", \"Topic2\", \"Topic2\", \"Topic2\", \"Topic2\", \"Topic2\", \"Topic2\", \"Topic2\", \"Topic2\", \"Topic2\", \"Topic2\", \"Topic2\", \"Topic2\", \"Topic2\", \"Topic2\", \"Topic2\", \"Topic2\", \"Topic2\", \"Topic2\", \"Topic2\", \"Topic2\", \"Topic2\", \"Topic2\", \"Topic2\", \"Topic2\", \"Topic2\", \"Topic2\", \"Topic2\", \"Topic2\", \"Topic2\", \"Topic2\", \"Topic2\", \"Topic2\", \"Topic2\", \"Topic2\", \"Topic2\", \"Topic2\", \"Topic2\", \"Topic2\", \"Topic2\", \"Topic2\", \"Topic2\", \"Topic2\", \"Topic2\", \"Topic2\", \"Topic2\", \"Topic2\", \"Topic2\", \"Topic2\", \"Topic2\", \"Topic2\", \"Topic2\", \"Topic2\", \"Topic2\", \"Topic2\", \"Topic2\", \"Topic2\", \"Topic2\", \"Topic2\", \"Topic3\", \"Topic3\", \"Topic3\", \"Topic3\", \"Topic3\", \"Topic3\", \"Topic3\", \"Topic3\", \"Topic3\", \"Topic3\", \"Topic3\", \"Topic3\", \"Topic3\", \"Topic3\", \"Topic3\", \"Topic3\", \"Topic3\", \"Topic3\", \"Topic3\", \"Topic3\", \"Topic3\", \"Topic3\", \"Topic3\", \"Topic3\", \"Topic3\", \"Topic3\", \"Topic3\", \"Topic3\", \"Topic3\", \"Topic3\", \"Topic3\", \"Topic3\", \"Topic3\", \"Topic3\", \"Topic3\", \"Topic3\", \"Topic3\", \"Topic3\", \"Topic3\", \"Topic3\", \"Topic3\", \"Topic3\", \"Topic3\", \"Topic3\", \"Topic3\", \"Topic3\", \"Topic3\", \"Topic3\", \"Topic3\", \"Topic3\", \"Topic3\", \"Topic3\", \"Topic3\", \"Topic3\", \"Topic3\", \"Topic3\", \"Topic3\", \"Topic3\", \"Topic3\", \"Topic3\", \"Topic3\", \"Topic3\", \"Topic3\", \"Topic3\", \"Topic3\", \"Topic3\", \"Topic3\", \"Topic3\", \"Topic3\", \"Topic3\", \"Topic3\", \"Topic3\", \"Topic3\", \"Topic3\", \"Topic3\", \"Topic3\", \"Topic3\", \"Topic3\", \"Topic3\", \"Topic4\", \"Topic4\", \"Topic4\", \"Topic4\", \"Topic4\", \"Topic4\", \"Topic4\", \"Topic4\", \"Topic4\", \"Topic4\", \"Topic4\", \"Topic4\", \"Topic4\", \"Topic4\", \"Topic4\", \"Topic4\", \"Topic4\", \"Topic4\", \"Topic4\", \"Topic4\", \"Topic4\", \"Topic4\", \"Topic4\", \"Topic4\", \"Topic4\", \"Topic4\", \"Topic4\", \"Topic4\", \"Topic4\", \"Topic4\", \"Topic4\", \"Topic4\", \"Topic4\", \"Topic4\", \"Topic4\", \"Topic4\", \"Topic4\", \"Topic4\", \"Topic4\", \"Topic4\", \"Topic4\", \"Topic4\", \"Topic4\", \"Topic4\", \"Topic4\", \"Topic4\", \"Topic4\", \"Topic4\", \"Topic4\", \"Topic4\", \"Topic4\", \"Topic4\", \"Topic4\", \"Topic4\", \"Topic4\", \"Topic4\", \"Topic4\", \"Topic4\", \"Topic4\", \"Topic4\", \"Topic4\", \"Topic4\", \"Topic4\", \"Topic4\", \"Topic4\", \"Topic4\", \"Topic4\", \"Topic4\", \"Topic4\", \"Topic4\", \"Topic4\", \"Topic4\", \"Topic4\", \"Topic4\", \"Topic4\", \"Topic4\", \"Topic4\", \"Topic4\", \"Topic4\", \"Topic4\", \"Topic4\", \"Topic4\", \"Topic4\", \"Topic4\", \"Topic4\", \"Topic4\", \"Topic4\", \"Topic5\", \"Topic5\", \"Topic5\", \"Topic5\", \"Topic5\", \"Topic5\", \"Topic5\", \"Topic5\", \"Topic5\", \"Topic5\", \"Topic5\", \"Topic5\", \"Topic5\", \"Topic5\", \"Topic5\", \"Topic5\", \"Topic5\", \"Topic5\", \"Topic5\", \"Topic5\", \"Topic5\", \"Topic5\", \"Topic5\", \"Topic5\", \"Topic5\", \"Topic5\", \"Topic5\", \"Topic5\", \"Topic5\", \"Topic5\", \"Topic5\", \"Topic5\", \"Topic5\", \"Topic5\", \"Topic5\", \"Topic5\", \"Topic5\", \"Topic5\", \"Topic5\", \"Topic5\", \"Topic5\", \"Topic5\", \"Topic5\", \"Topic5\", \"Topic5\", \"Topic5\", \"Topic5\", \"Topic5\", \"Topic5\", \"Topic5\", \"Topic5\", \"Topic5\", \"Topic5\", \"Topic5\", \"Topic5\", \"Topic5\", \"Topic5\", \"Topic5\", \"Topic5\", \"Topic5\", \"Topic5\", \"Topic5\", \"Topic5\", \"Topic5\", \"Topic5\", \"Topic5\", \"Topic5\", \"Topic5\", \"Topic5\", \"Topic5\", \"Topic5\", \"Topic6\", \"Topic6\", \"Topic6\", \"Topic6\", \"Topic6\", \"Topic6\", \"Topic6\", \"Topic6\", \"Topic6\", \"Topic6\", \"Topic6\", \"Topic6\", \"Topic6\", \"Topic6\", \"Topic6\", \"Topic6\", \"Topic6\", \"Topic6\", \"Topic6\", \"Topic6\", \"Topic6\", \"Topic6\", \"Topic6\", \"Topic6\", \"Topic6\", \"Topic6\", \"Topic6\", \"Topic6\", \"Topic6\", \"Topic6\", \"Topic6\", \"Topic6\", \"Topic6\", \"Topic6\", \"Topic6\", \"Topic6\", \"Topic6\", \"Topic6\", \"Topic6\", \"Topic6\", \"Topic6\", \"Topic6\", \"Topic6\", \"Topic6\", \"Topic6\", \"Topic6\", \"Topic6\", \"Topic6\", \"Topic6\", \"Topic6\", \"Topic6\", \"Topic6\", \"Topic6\", \"Topic6\", \"Topic6\", \"Topic6\", \"Topic6\", \"Topic6\", \"Topic6\", \"Topic6\", \"Topic6\", \"Topic6\", \"Topic6\", \"Topic6\", \"Topic6\", \"Topic6\", \"Topic6\", \"Topic6\", \"Topic6\", \"Topic6\", \"Topic6\", \"Topic6\", \"Topic6\", \"Topic6\", \"Topic6\", \"Topic6\", \"Topic6\", \"Topic6\", \"Topic6\", \"Topic7\", \"Topic7\", \"Topic7\", \"Topic7\", \"Topic7\", \"Topic7\", \"Topic7\", \"Topic7\", \"Topic7\", \"Topic7\", \"Topic7\", \"Topic7\", \"Topic7\", \"Topic7\", \"Topic7\", \"Topic7\", \"Topic7\", \"Topic7\", \"Topic7\", \"Topic7\", \"Topic7\", \"Topic7\", \"Topic7\", \"Topic7\", \"Topic7\", \"Topic7\", \"Topic7\", \"Topic7\", \"Topic7\", \"Topic7\", \"Topic7\", \"Topic7\", \"Topic7\", \"Topic7\", \"Topic7\", \"Topic7\", \"Topic7\", \"Topic7\", \"Topic7\", \"Topic7\", \"Topic7\", \"Topic7\", \"Topic7\", \"Topic7\", \"Topic7\", \"Topic7\", \"Topic7\", \"Topic7\", \"Topic7\", \"Topic7\", \"Topic7\", \"Topic7\", \"Topic7\", \"Topic7\", \"Topic7\", \"Topic7\", \"Topic7\", \"Topic7\", \"Topic7\", \"Topic7\", \"Topic7\", \"Topic7\", \"Topic7\", \"Topic7\", \"Topic7\", \"Topic7\", \"Topic7\", \"Topic7\", \"Topic7\", \"Topic7\", \"Topic7\", \"Topic7\", \"Topic7\", \"Topic7\", \"Topic7\", \"Topic8\", \"Topic8\", \"Topic8\", \"Topic8\", \"Topic8\", \"Topic8\", \"Topic8\", \"Topic8\", \"Topic8\", \"Topic8\", \"Topic8\", \"Topic8\", \"Topic8\", \"Topic8\", \"Topic8\", \"Topic8\", \"Topic8\", \"Topic8\", \"Topic8\", \"Topic8\", \"Topic8\", \"Topic8\", \"Topic8\", \"Topic8\", \"Topic8\", \"Topic8\", \"Topic8\", \"Topic8\", \"Topic8\", \"Topic8\", \"Topic8\", \"Topic8\", \"Topic8\", \"Topic8\", \"Topic8\", \"Topic8\", \"Topic8\", \"Topic8\", \"Topic8\", \"Topic8\", \"Topic8\", \"Topic8\", \"Topic8\", \"Topic8\", \"Topic8\", \"Topic8\", \"Topic8\", \"Topic8\", \"Topic8\", \"Topic8\", \"Topic8\", \"Topic8\", \"Topic8\", \"Topic8\", \"Topic8\", \"Topic8\", \"Topic8\", \"Topic8\", \"Topic8\", \"Topic8\", \"Topic8\", \"Topic8\", \"Topic8\", \"Topic8\", \"Topic8\", \"Topic8\", \"Topic8\", \"Topic8\", \"Topic8\", \"Topic8\", \"Topic8\", \"Topic8\", \"Topic8\", \"Topic8\", \"Topic8\", \"Topic8\", \"Topic8\", \"Topic8\", \"Topic8\", \"Topic8\", \"Topic8\", \"Topic8\", \"Topic8\", \"Topic8\", \"Topic9\", \"Topic9\", \"Topic9\", \"Topic9\", \"Topic9\", \"Topic9\", \"Topic9\", \"Topic9\", \"Topic9\", \"Topic9\", \"Topic9\", \"Topic9\", \"Topic9\", \"Topic9\", \"Topic9\", \"Topic9\", \"Topic9\", \"Topic9\", \"Topic9\", \"Topic9\", \"Topic9\", \"Topic9\", \"Topic9\", \"Topic9\", \"Topic9\", \"Topic9\", \"Topic9\", \"Topic9\", \"Topic9\", \"Topic9\", \"Topic9\", \"Topic9\", \"Topic9\", \"Topic9\", \"Topic9\", \"Topic9\", \"Topic9\", \"Topic9\", \"Topic9\", \"Topic9\", \"Topic9\", \"Topic9\", \"Topic9\", \"Topic9\", \"Topic9\", \"Topic9\", \"Topic9\", \"Topic9\", \"Topic9\", \"Topic9\", \"Topic9\", \"Topic9\", \"Topic9\", \"Topic9\", \"Topic9\", \"Topic9\", \"Topic9\", \"Topic9\", \"Topic9\", \"Topic9\", \"Topic9\", \"Topic9\", \"Topic9\", \"Topic9\", \"Topic9\", \"Topic9\", \"Topic9\", \"Topic9\", \"Topic9\", \"Topic9\", \"Topic9\", \"Topic9\", \"Topic9\", \"Topic9\", \"Topic9\", \"Topic9\", \"Topic10\", \"Topic10\", \"Topic10\", \"Topic10\", \"Topic10\", \"Topic10\", \"Topic10\", \"Topic10\", \"Topic10\", \"Topic10\", \"Topic10\", \"Topic10\", \"Topic10\", \"Topic10\", \"Topic10\", \"Topic10\", \"Topic10\", \"Topic10\", \"Topic10\", \"Topic10\", \"Topic10\", \"Topic10\", \"Topic10\", \"Topic10\", \"Topic10\", \"Topic10\", \"Topic10\", \"Topic10\", \"Topic10\", \"Topic10\", \"Topic10\", \"Topic10\", \"Topic10\", \"Topic10\", \"Topic10\", \"Topic10\", \"Topic10\", \"Topic10\", \"Topic10\", \"Topic10\", \"Topic10\", \"Topic10\", \"Topic10\", \"Topic10\", \"Topic10\", \"Topic10\", \"Topic10\", \"Topic10\", \"Topic10\", \"Topic10\", \"Topic10\", \"Topic10\", \"Topic10\", \"Topic10\", \"Topic10\", \"Topic10\", \"Topic10\", \"Topic10\", \"Topic10\", \"Topic10\", \"Topic10\", \"Topic10\", \"Topic10\", \"Topic10\", \"Topic10\", \"Topic10\", \"Topic10\", \"Topic10\", \"Topic10\", \"Topic10\", \"Topic10\", \"Topic10\", \"Topic10\"], \"logprob\": [30.0, 29.0, 28.0, 27.0, 26.0, 25.0, 24.0, 23.0, 22.0, 21.0, 20.0, 19.0, 18.0, 17.0, 16.0, 15.0, 14.0, 13.0, 12.0, 11.0, 10.0, 9.0, 8.0, 7.0, 6.0, 5.0, 4.0, 3.0, 2.0, 1.0, -5.6546, -6.3096, -6.4646, -6.5791, -6.7851, -7.1856, -7.2251, -7.5342, -6.234, -7.5765, -7.6228, -7.6452, -7.6455, -7.7314, -6.85, -7.9659, -7.1615, -8.3457, -8.3828, -7.0201, -8.4673, -6.6956, -5.8755, -8.5215, -8.5354, -8.5864, -8.62, -6.1719, -8.6603, -6.0557, -7.4372, -3.2353, -6.6757, -5.084, -6.9896, -7.1659, -4.3749, -4.2998, -6.2386, -4.4685, -3.4532, -5.4691, -5.9812, -4.9217, -6.7461, -6.3133, -5.4964, -5.4528, -3.5666, -5.0497, -4.6383, -4.3354, -4.6244, -4.5887, -4.4268, -4.7091, -4.6158, -4.5717, -4.7097, -4.7422, -4.4667, -4.2908, -5.1677, -4.9669, -5.0674, -5.042, -5.2588, -4.7628, -5.238, -5.0636, -5.2604, -5.1686, -5.1193, -5.1751, -4.8168, -5.9685, -6.2199, -6.4271, -6.4464, -6.6639, -5.9084, -6.7833, -6.8314, -6.9305, -7.0099, -7.0883, -7.1773, -7.1895, -6.3709, -7.2694, -7.2728, -7.3326, -7.3517, -7.4072, -7.4162, -7.0677, -7.4624, -7.4698, -7.4908, -7.3191, -7.5334, -7.5395, -7.5543, -7.5784, -6.4813, -7.0006, -6.1428, -6.3802, -6.9153, -6.9149, -6.6792, -5.9959, -6.0927, -5.7528, -7.0112, -5.7543, -6.4129, -4.9251, -6.601, -6.2333, -5.8775, -6.195, -6.7312, -5.0897, -5.8107, -4.6699, -3.5176, -4.3214, -5.7492, -4.6243, -3.7247, -4.5533, -4.1662, -5.3047, -4.8221, -5.3275, -4.8173, -4.6144, -4.9438, -5.1606, -4.9982, -4.8789, -4.9123, -4.9222, -4.8991, -5.0917, -5.3491, -5.3492, -5.2502, -5.0239, -5.2617, -5.4421, -5.336, -5.3673, -5.34, -6.6896, -4.3407, -6.7697, -6.8644, -6.8803, -7.0268, -7.0521, -7.3288, -7.365, -7.3826, -7.4907, -7.531, -7.572, -7.6062, -7.6855, -7.7006, -7.7301, -5.3752, -7.8098, -7.9158, -7.9571, -7.9586, -8.0078, -8.0457, -7.8669, -8.1087, -8.1161, -8.1218, -8.1655, -7.0749, -5.8414, -7.2861, -7.4697, -6.0451, -6.1473, -7.0761, -6.4256, -7.1469, -7.2335, -6.3101, -5.2928, -4.8508, -4.5743, -5.6809, -5.8282, -7.1226, -4.2548, -4.9408, -5.368, -5.6722, -5.9629, -4.4477, -6.7223, -5.1024, -4.066, -4.9121, -4.5108, -4.353, -5.5537, -5.1981, -4.6518, -4.5853, -3.9888, -4.7983, -4.4041, -4.9669, -4.6982, -4.2392, -4.9238, -4.9358, -4.6423, -4.9599, -5.0228, -4.9886, -4.8662, -5.0965, -5.185, -5.2171, -6.7309, -6.9226, -7.4864, -7.5227, -7.6014, -7.8092, -8.5294, -8.5419, -8.5535, -8.5535, -8.5958, -6.6708, -8.6554, -6.7996, -8.76, -8.7647, -8.7858, -8.272, -8.4405, -8.8534, -8.4603, -8.92, -8.9523, -8.9674, -8.9749, -8.9837, -9.0541, -8.9291, -9.0953, -9.1041, -7.9154, -7.1357, -8.383, -7.5884, -6.8244, -7.1445, -7.3779, -7.9513, -7.2621, -7.774, -5.6314, -7.8423, -7.3472, -5.9916, -5.9635, -6.2727, -7.395, -7.7864, -5.6209, -6.3787, -7.5898, -4.8747, -4.943, -4.6623, -4.7515, -3.9579, -5.3722, -6.3369, -4.4197, -6.2095, -4.6055, -4.2241, -5.1569, -4.8512, -4.5676, -4.4109, -5.5084, -5.1874, -3.8594, -4.5136, -5.7237, -4.4574, -3.9296, -4.2313, -4.6623, -4.7218, -4.6966, -4.5893, -4.8082, -4.4891, -4.5143, -5.087, -4.9714, -4.7974, -5.2252, -5.168, -5.2141, -5.6344, -5.6687, -5.7142, -6.1144, -5.093, -6.5121, -6.5465, -5.6278, -6.6226, -6.7361, -6.902, -6.9191, -6.9295, -7.0621, -6.0671, -7.2403, -7.2523, -6.4209, -7.3304, -7.4035, -7.4101, -7.3737, -7.4299, -7.4439, -7.523, -7.5955, -7.6014, -7.6862, -7.7793, -7.8016, -6.7683, -6.4601, -6.3088, -6.1521, -4.8388, -4.5043, -6.1094, -7.0297, -4.3109, -5.3283, -4.1107, -4.9042, -4.9263, -4.8298, -6.0406, -4.7101, -4.6072, -5.1411, -4.7269, -4.6769, -5.2374, -5.0456, -4.5214, -5.17, -4.4389, -5.234, -4.8455, -4.2795, -4.9023, -5.143, -5.0575, -5.0529, -4.6722, -4.7504, -4.8642, -4.8985, -4.7549, -5.0255, -5.0827, -5.1037, -5.1264, -6.6587, -6.8678, -7.1728, -7.2312, -7.4173, -6.837, -7.4727, -7.5674, -8.0138, -8.0139, -8.1478, -8.1831, -8.2367, -8.2915, -8.3341, -8.348, -8.3857, -8.2457, -8.4622, -8.5257, -8.526, -8.5653, -8.593, -8.6114, -8.6313, -8.6539, -8.6667, -8.6673, -8.6677, -8.6762, -3.6571, -5.4232, -5.8603, -6.617, -8.4096, -5.0683, -7.5188, -7.4191, -5.4509, -6.4702, -4.4787, -5.8199, -5.5286, -3.999, -4.4328, -4.9912, -6.6259, -3.5393, -6.734, -5.1575, -6.0054, -5.6859, -4.6656, -4.2701, -4.4288, -3.6422, -3.9492, -5.1575, -5.4124, -5.5995, -6.0643, -5.6041, -4.9291, -4.4879, -5.256, -5.1269, -5.3008, -4.6999, -4.8202, -5.2474, -5.1036, -5.017, -5.3204, -5.1313, -5.1122, -5.2422, -5.277, -5.3548, -5.3203, -6.0242, -6.2998, -6.464, -6.4673, -6.4708, -6.3455, -6.5516, -6.9747, -6.9792, -7.0216, -7.1164, -5.8254, -7.4738, -7.1099, -7.7069, -7.2041, -7.7523, -7.7771, -7.8174, -7.8356, -5.973, -7.9576, -7.9974, -8.0383, -7.9354, -8.097, -8.0537, -8.2093, -5.6639, -8.257, -6.0184, -6.8961, -4.6264, -6.9659, -7.1806, -4.0853, -6.3608, -6.1752, -5.3748, -4.6883, -5.7339, -4.8567, -4.9604, -6.0165, -5.1924, -4.8092, -5.661, -6.1631, -5.5392, -4.3, -5.07, -5.478, -4.4067, -4.3181, -4.7519, -5.0905, -4.451, -4.455, -4.3883, -4.3344, -4.6592, -4.7699, -4.8789, -4.7991, -5.0528, -4.7162, -5.0048, -5.0485, -5.0153, -5.0338, -5.0494, -5.1822, -5.1146, -5.1655, -5.1777, -5.3509, -6.2369, -6.7498, -6.8944, -6.9518, -7.5932, -7.6286, -7.6467, -7.6798, -7.6826, -7.7239, -7.8196, -7.8212, -7.8646, -6.8784, -7.9385, -8.0133, -8.1078, -8.1477, -8.1529, -8.4649, -8.4901, -8.5171, -8.5232, -8.6252, -8.627, -8.6286, -8.659, -8.6579, -8.7293, -6.0458, -7.8761, -7.1597, -7.7644, -7.3957, -4.7596, -5.9339, -5.9569, -4.249, -6.7446, -5.4113, -5.1904, -5.0861, -6.3015, -6.4812, -5.539, -4.5944, -4.5849, -6.8441, -4.4832, -6.3676, -4.6993, -6.6784, -5.1124, -4.616, -5.8311, -4.328, -5.6279, -5.7264, -5.0329, -3.8663, -5.1958, -4.2748, -4.4164, -4.2387, -3.6683, -3.9299, -3.7082, -4.7402, -5.0531, -4.4806, -4.6411, -4.4001, -5.171, -4.9628, -4.6999, -4.8402, -4.7527, -4.8744, -4.893, -4.9568, -5.0209, -5.0159, -5.0473, -5.0455, -5.6579, -6.29, -6.4824, -6.778, -6.9161, -7.0239, -6.0188, -7.2442, -7.2785, -7.3343, -7.4608, -7.4691, -7.6152, -7.15, -7.738, -7.8515, -7.8939, -7.9336, -8.059, -8.1141, -8.2604, -8.2813, -8.318, -8.3501, -8.3513, -8.4191, -8.4227, -7.5994, -8.4942, -7.0724, -5.4489, -6.3053, -6.8392, -6.772, -4.8684, -7.1487, -4.5562, -6.3086, -6.7461, -5.1196, -5.1458, -4.0477, -6.1633, -5.4157, -6.1297, -5.3929, -5.3675, -4.3813, -4.0889, -4.5572, -4.5041, -4.999, -4.5116, -5.0053, -4.6148, -5.5314, -3.8598, -5.5839, -4.2998, -4.5706, -3.8614, -4.1247, -4.9558, -4.5463, -4.5528, -4.4855, -4.6517, -5.0769, -4.8399, -4.8615, -4.8434, -4.9917, -4.8979, -5.0183, -5.0797, -5.1161, -5.4678, -5.8692, -6.426, -6.5078, -6.67, -6.7395, -6.7536, -6.7471, -6.7881, -6.7973, -6.9977, -7.1047, -7.1101, -7.145, -7.1822, -7.1974, -7.1981, -7.199, -7.6799, -7.7424, -7.7538, -7.755, -7.767, -7.7704, -7.7772, -7.7871, -7.7889, -7.7952, -7.8201, -6.77, -6.7128, -4.3498, -6.4272, -7.176, -6.24, -3.8918, -7.1852, -4.4539, -4.3162, -6.6078, -5.5156, -4.6103, -4.6205, -4.194, -5.7283, -4.8631, -4.5168, -5.0558, -4.6452, -5.3252, -4.3739, -5.0517, -4.9519, -4.4788, -5.0218, -4.9429, -5.7431, -4.507, -4.5245, -4.0579, -4.0967, -4.9101, -4.915, -4.3857, -4.6266, -4.8756, -4.9062, -5.0395, -4.9578, -5.0132, -5.0325, -5.0377], \"loglift\": [30.0, 29.0, 28.0, 27.0, 26.0, 25.0, 24.0, 23.0, 22.0, 21.0, 20.0, 19.0, 18.0, 17.0, 16.0, 15.0, 14.0, 13.0, 12.0, 11.0, 10.0, 9.0, 8.0, 7.0, 6.0, 5.0, 4.0, 3.0, 2.0, 1.0, 1.8967, 1.8952, 1.8946, 1.8941, 1.8932, 1.8907, 1.8904, 1.8875, 1.8874, 1.8871, 1.8865, 1.8863, 1.8862, 1.8852, 1.8827, 1.8817, 1.8805, 1.8741, 1.8732, 1.8731, 1.871, 1.8708, 1.8695, 1.8695, 1.8691, 1.8675, 1.8666, 1.8657, 1.8653, 1.8652, 1.8638, 1.7748, 1.8306, 1.7793, 1.8287, 1.8328, 1.7328, 1.6489, 1.7629, 1.6029, 1.341, 1.479, 1.5622, 1.3245, 1.7139, 1.6184, 1.276, 1.2254, 0.4225, 1.0232, 0.6484, 0.4578, 0.5689, 0.5251, 0.4157, 0.52, 0.44, 0.3576, 0.4356, 0.3051, -0.0043, -0.2604, 0.6857, 0.4667, 0.5727, 0.5125, 0.7484, -0.3016, 0.5824, -0.2093, 0.5241, -0.0046, -0.4506, -0.1196, 1.8984, 1.897, 1.8963, 1.8957, 1.8956, 1.8947, 1.8946, 1.8941, 1.8939, 1.8932, 1.8929, 1.8924, 1.8917, 1.8916, 1.8914, 1.891, 1.891, 1.8905, 1.8903, 1.8898, 1.8897, 1.8895, 1.8893, 1.8892, 1.889, 1.8886, 1.8886, 1.8885, 1.8883, 1.8881, 1.8837, 1.8853, 1.8709, 1.8714, 1.8819, 1.8818, 1.8728, 1.847, 1.8455, 1.8269, 1.8753, 1.7957, 1.8344, 1.708, 1.8403, 1.7643, 1.6685, 1.7103, 1.788, 1.2085, 1.456, 0.9912, 0.4715, 0.6745, 1.3431, 0.8093, 0.3056, 0.6758, 0.2951, 0.8765, 0.342, 0.7929, 0.2965, -0.015, 0.3089, 0.5111, 0.2968, -0.0857, -0.0697, -0.1281, -0.2304, 0.0537, 0.4884, 0.4832, 0.1569, -0.5615, 0.0149, 0.4509, -0.1839, -0.3115, 1.933, 1.9293, 1.9293, 1.929, 1.9285, 1.9284, 1.9275, 1.9273, 1.9251, 1.9248, 1.9246, 1.9235, 1.9231, 1.9226, 1.9222, 1.9212, 1.9211, 1.9207, 1.92, 1.9195, 1.9179, 1.9172, 1.9172, 1.9163, 1.9156, 1.9156, 1.9144, 1.9143, 1.9142, 1.9133, 1.912, 1.8961, 1.9052, 1.9037, 1.8646, 1.865, 1.8923, 1.8671, 1.8869, 1.8888, 1.8396, 1.7639, 1.6199, 1.5225, 1.6196, 1.6045, 1.8379, 1.2706, 1.3929, 1.4669, 1.4273, 1.4908, 0.9064, 1.7048, 1.0821, 0.6027, 0.9202, 0.6808, 0.5013, 1.1222, 0.9223, 0.511, 0.462, 0.0415, 0.5363, 0.1954, 0.5987, 0.2977, -0.2502, 0.3528, 0.3591, -0.1799, 0.2928, 0.2639, 0.0673, -0.4049, 0.2918, 0.2643, -0.065, 2.085, 2.0839, 2.0787, 2.0783, 2.0773, 2.0742, 2.0572, 2.0568, 2.0564, 2.0564, 2.0549, 2.0539, 2.0527, 2.049, 2.0487, 2.0485, 2.0476, 2.0471, 2.0448, 2.0445, 2.0423, 2.0402, 2.04, 2.0392, 2.0388, 2.0381, 2.0347, 2.0333, 2.0324, 2.0319, 2.0183, 1.9951, 2.0182, 1.9925, 1.9511, 1.9476, 1.947, 1.9819, 1.9331, 1.9651, 1.7562, 1.9628, 1.8951, 1.6803, 1.6514, 1.658, 1.846, 1.9013, 1.4208, 1.5675, 1.8432, 1.1982, 1.2022, 1.0493, 1.0689, 0.8353, 1.2272, 1.5066, 0.8518, 1.4411, 0.8016, 0.57, 0.9608, 0.8205, 0.6257, 0.5184, 1.062, 0.8898, 0.1709, 0.4823, 1.1583, 0.3852, 0.0594, 0.2311, 0.4898, 0.4422, 0.4172, 0.265, 0.4235, 0.1103, -0.053, 0.5531, 0.3827, -0.1287, 0.5662, 0.2812, 0.447, 2.2924, 2.2923, 2.2922, 2.2909, 2.2901, 2.2891, 2.2889, 2.2885, 2.2884, 2.2877, 2.2864, 2.2863, 2.2862, 2.285, 2.284, 2.2831, 2.283, 2.2823, 2.282, 2.2811, 2.281, 2.2808, 2.2807, 2.2805, 2.2793, 2.2782, 2.2781, 2.2766, 2.2749, 2.2744, 2.2739, 2.2648, 2.2284, 2.205, 2.0752, 1.928, 2.0765, 2.214, 1.7294, 1.8789, 1.3281, 1.5001, 1.4759, 1.3972, 1.8039, 1.2044, 1.1519, 1.3215, 1.0429, 0.9632, 1.2945, 1.1468, 0.4079, 0.9752, 0.1605, 0.9484, 0.4495, -0.2492, 0.4861, 0.7499, 0.5916, 0.5738, -0.211, -0.0816, -0.0711, -0.0442, -0.7658, 0.1374, 0.2519, -0.0479, 0.019, 2.4872, 2.4853, 2.4816, 2.4808, 2.4778, 2.4777, 2.4768, 2.4747, 2.4634, 2.4634, 2.4589, 2.4576, 2.4555, 2.4533, 2.4515, 2.4509, 2.4492, 2.4482, 2.4456, 2.4424, 2.4424, 2.4403, 2.4388, 2.4378, 2.4367, 2.4354, 2.4346, 2.4346, 2.4346, 2.4341, 2.3793, 2.3614, 2.3708, 2.3409, 2.4113, 2.0175, 2.293, 2.2515, 1.9227, 2.0602, 1.639, 1.862, 1.7846, 1.3551, 1.4245, 1.4689, 1.9496, 0.9231, 1.9649, 1.4128, 1.6949, 1.455, 0.9954, 0.7855, 0.8579, 0.3881, 0.512, 1.1437, 1.2689, 1.3505, 1.6107, 1.2529, 0.6365, 0.1115, 0.8091, 0.5971, 0.7395, -0.0312, -0.027, 0.5116, 0.1491, -0.0877, 0.6368, 0.1453, 0.0518, -0.0506, 0.1723, 0.6387, -1.3313, 2.5729, 2.5714, 2.5703, 2.5703, 2.5703, 2.57, 2.5693, 2.5654, 2.5653, 2.5648, 2.5635, 2.5622, 2.5575, 2.5557, 2.5521, 2.5516, 2.5511, 2.5504, 2.5493, 2.5488, 2.5454, 2.5451, 2.5438, 2.5424, 2.5414, 2.5403, 2.5402, 2.5359, 2.5353, 2.534, 2.533, 2.5243, 2.4814, 2.5176, 2.5067, 2.3709, 2.4526, 2.4303, 2.3472, 2.283, 2.3736, 2.2968, 2.2678, 2.3557, 2.1759, 1.9689, 2.1765, 2.3018, 2.0936, 1.4945, 1.6433, 1.6078, 0.8649, 0.6112, 0.8971, 1.106, 0.4033, 0.3876, 0.2804, 0.128, 0.5036, 0.5067, 0.6464, 0.3925, 0.6859, -0.1167, 0.3298, 0.3399, 0.2138, 0.2529, -0.0021, 0.3834, 0.0307, 0.0662, -1.1474, 2.631, 2.6275, 2.6235, 2.6219, 2.6212, 2.6104, 2.6096, 2.6092, 2.6083, 2.6083, 2.6072, 2.6046, 2.6046, 2.6033, 2.6019, 2.6011, 2.5986, 2.5952, 2.5937, 2.5933, 2.5792, 2.5778, 2.5762, 2.5761, 2.5701, 2.57, 2.5699, 2.568, 2.5679, 2.5634, 2.5581, 2.5568, 2.5314, 2.5425, 2.5227, 2.4085, 2.4509, 2.4512, 2.3208, 2.4799, 2.3694, 2.3438, 2.2829, 2.4053, 2.4, 2.2554, 2.0793, 2.0708, 2.4152, 1.8979, 2.3039, 1.8743, 2.3603, 1.9417, 1.8055, 2.0616, 1.5865, 1.9901, 2.0054, 1.6978, 1.1893, 1.6835, 1.1641, 1.227, 0.8171, 0.362, 0.5313, 0.2808, 1.0443, 1.1292, 0.3736, 0.5522, 0.1993, 1.2277, 0.8748, 0.1427, 0.3119, -0.084, 0.2885, 0.1543, 0.275, 0.2557, 0.1294, -0.5849, 2.7923, 2.7905, 2.7869, 2.7853, 2.7822, 2.7804, 2.7788, 2.7781, 2.7749, 2.7742, 2.7731, 2.7702, 2.77, 2.7661, 2.7641, 2.7625, 2.7588, 2.7573, 2.7558, 2.7507, 2.7483, 2.7411, 2.7401, 2.7382, 2.7364, 2.7358, 2.7323, 2.7322, 2.7289, 2.7277, 2.7233, 2.66, 2.6799, 2.6833, 2.6732, 2.5802, 2.6732, 2.4837, 2.6061, 2.6237, 2.4099, 2.3627, 2.1488, 2.4658, 2.2184, 2.3767, 2.075, 1.93, 1.3427, 1.1826, 1.3258, 1.2903, 1.5447, 1.2272, 1.4887, 1.2056, 1.7818, 0.6026, 1.733, 0.6295, 0.8177, 0.1276, 0.3365, 1.1596, 0.6057, 0.2404, 0.114, 0.3443, 0.9871, 0.2739, 0.2838, 0.204, 0.4154, -0.2291, 0.2766, -0.0239, 3.2096, 3.2079, 3.2052, 3.1989, 3.1977, 3.1949, 3.1936, 3.1933, 3.1932, 3.1926, 3.1924, 3.1878, 3.1849, 3.1847, 3.1837, 3.1826, 3.1822, 3.1821, 3.1821, 3.1631, 3.16, 3.1594, 3.1593, 3.1587, 3.1585, 3.1581, 3.1576, 3.1575, 3.1571, 3.1557, 3.1076, 3.0897, 2.9384, 2.9946, 3.0872, 2.9575, 2.4893, 3.06, 2.4254, 2.3575, 2.8832, 2.3772, 1.9633, 1.8913, 1.4493, 2.2191, 1.6041, 1.2676, 1.6, 1.1924, 1.7288, 0.8788, 1.4845, 1.3756, 0.7529, 1.3083, 1.1222, 2.0513, 0.5485, 0.5313, -0.0689, -0.0664, 1.0043, 1.0048, 0.0767, 0.2159, 0.6498, 0.2854, 0.638, -0.1035, -0.0172, 0.1128, -0.5765]}, \"token.table\": {\"Topic\": [4, 9, 6, 5, 1, 2, 3, 4, 5, 6, 7, 8, 9, 10, 1, 2, 3, 4, 5, 6, 7, 8, 9, 10, 3, 4, 5, 3, 1, 7, 8, 4, 5, 6, 6, 7, 6, 7, 6, 7, 2, 6, 7, 1, 7, 10, 4, 5, 10, 9, 1, 4, 9, 3, 9, 2, 1, 3, 4, 8, 1, 3, 2, 3, 4, 2, 3, 4, 5, 7, 9, 10, 1, 2, 7, 1, 2, 3, 4, 5, 6, 7, 8, 9, 10, 10, 1, 6, 1, 2, 3, 8, 8, 9, 4, 5, 6, 7, 2, 4, 5, 6, 3, 3, 4, 5, 6, 7, 8, 10, 8, 10, 1, 5, 7, 7, 5, 1, 2, 3, 4, 5, 6, 7, 8, 9, 10, 1, 2, 1, 2, 3, 4, 5, 6, 7, 8, 9, 10, 2, 3, 10, 1, 3, 2, 2, 1, 2, 3, 4, 5, 6, 7, 8, 9, 10, 2, 4, 6, 7, 10, 2, 3, 4, 8, 10, 1, 2, 3, 7, 8, 8, 8, 6, 7, 1, 2, 3, 4, 5, 6, 7, 8, 9, 10, 7, 3, 1, 2, 3, 4, 8, 9, 8, 2, 3, 1, 2, 3, 4, 5, 6, 7, 9, 10, 1, 2, 3, 4, 5, 6, 7, 8, 9, 10, 1, 2, 3, 5, 7, 8, 9, 3, 4, 5, 7, 5, 1, 2, 3, 7, 8, 10, 6, 7, 6, 1, 2, 3, 4, 5, 6, 7, 8, 9, 10, 1, 2, 3, 4, 5, 6, 7, 9, 7, 7, 1, 4, 1, 2, 3, 4, 5, 7, 8, 10, 4, 8, 8, 1, 4, 2, 5, 6, 7, 8, 1, 2, 3, 4, 5, 6, 7, 8, 9, 10, 8, 10, 5, 4, 10, 1, 2, 3, 6, 7, 8, 2, 7, 8, 9, 10, 2, 3, 9, 1, 3, 6, 1, 3, 3, 1, 3, 4, 6, 9, 2, 9, 9, 1, 2, 3, 4, 5, 6, 7, 8, 10, 6, 1, 2, 3, 4, 6, 8, 1, 2, 3, 4, 5, 6, 7, 8, 9, 10, 2, 3, 10, 9, 1, 2, 3, 4, 5, 6, 7, 9, 10, 4, 1, 5, 1, 2, 3, 4, 6, 7, 8, 9, 10, 2, 3, 9, 1, 3, 6, 8, 1, 2, 3, 4, 5, 6, 7, 8, 9, 10, 1, 2, 3, 4, 5, 6, 7, 8, 9, 6, 1, 2, 3, 4, 5, 6, 7, 8, 9, 10, 1, 2, 3, 4, 5, 6, 7, 10, 6, 2, 1, 2, 3, 4, 5, 6, 7, 8, 10, 10, 5, 7, 1, 2, 3, 5, 6, 7, 8, 9, 10, 1, 2, 3, 4, 6, 7, 8, 9, 10, 1, 2, 3, 4, 5, 7, 8, 9, 10, 1, 6, 1, 2, 3, 4, 5, 6, 7, 8, 9, 10, 7, 1, 2, 3, 4, 5, 6, 7, 8, 9, 10, 3, 4, 4, 1, 8, 10, 1, 2, 3, 4, 5, 6, 7, 8, 9, 10, 4, 2, 3, 4, 5, 6, 8, 4, 6, 7, 4, 8, 1, 2, 3, 4, 5, 6, 7, 9, 1, 2, 3, 4, 5, 6, 7, 9, 10, 1, 3, 6, 9, 8, 10, 1, 2, 3, 4, 5, 6, 7, 8, 9, 10, 2, 2, 5, 3, 5, 7, 2, 6, 6, 1, 2, 3, 4, 6, 7, 1, 2, 4, 1, 2, 3, 4, 5, 7, 8, 9, 10, 1, 2, 3, 1, 2, 3, 4, 5, 6, 7, 8, 9, 9, 2, 4, 5, 6, 5, 3, 6, 1, 2, 3, 4, 5, 6, 7, 8, 9, 10, 3, 9, 2, 3, 4, 6, 1, 2, 3, 4, 5, 6, 7, 8, 9, 10, 1, 3, 1, 2, 5, 6, 1, 3, 6, 1, 2, 3, 4, 5, 6, 7, 9, 10, 1, 2, 3, 4, 5, 6, 7, 8, 9, 10, 2, 3, 4, 5, 6, 7, 8, 9, 10, 1, 2, 3, 4, 5, 6, 7, 8, 9, 10, 4, 3, 10, 1, 2, 3, 4, 5, 8, 1, 2, 3, 4, 5, 6, 7, 8, 9, 10, 10, 1, 2, 3, 4, 5, 6, 9, 1, 2, 3, 4, 5, 6, 7, 8, 10, 3, 5, 5, 4, 1, 2, 3, 4, 5, 6, 7, 8, 9, 10, 1, 2, 3, 4, 5, 6, 7, 8, 9, 10, 5, 2, 9, 6, 7, 4, 1, 9, 1, 3, 5, 7, 8, 10, 10, 5, 8, 6, 3, 1, 2, 3, 4, 5, 7, 2, 3, 5, 7, 8, 1, 2, 4, 6, 7, 6, 7, 7, 7, 1, 6, 7, 7, 1, 3, 6, 1, 10, 5, 2, 8, 1, 4, 6, 9, 4, 6, 4, 1, 3, 4, 5, 6, 7, 9, 10, 2, 3, 2, 3, 9, 1, 4, 5, 10, 1, 5, 2, 1, 7, 9, 2, 2, 1, 3, 6, 1, 2, 3, 4, 5, 6, 7, 8, 9, 1, 2, 3, 4, 5, 6, 7, 8, 9, 10, 8, 1, 3, 1, 2, 3, 4, 5, 6, 7, 8, 9, 10, 8, 1, 2, 3, 4, 5, 6, 7, 8, 9, 10, 4, 6, 7, 9, 3, 4, 10, 4, 1, 2, 3, 4, 6, 8, 9, 10, 4, 5, 3, 4, 6, 7, 9, 6, 7, 2, 1, 2, 3, 4, 5, 6, 7, 8, 9, 10, 6, 8, 1, 2, 3, 4, 5, 6, 7, 8, 9, 10, 1, 4, 9, 1, 2, 3, 4, 5, 6, 7, 8, 9, 10, 1, 2, 3, 4, 5, 6, 7, 8, 9, 10, 2, 5, 1, 3, 4, 5, 6, 7, 8, 10, 4, 6, 7, 8, 1, 2, 3, 4, 5, 6, 7, 9, 10, 1, 2, 3, 4, 5, 6, 8, 9, 2, 3, 8, 8, 1, 2, 1, 2, 4, 5, 6, 8, 10, 2, 1, 2, 3, 4, 5, 6, 7, 8, 9, 10, 1, 2, 3, 4, 5, 6, 7, 9, 10, 1, 2, 3, 4, 5, 6, 7, 8, 9, 10, 6, 3, 5, 8, 8, 7, 8, 1, 2, 3, 4, 5, 6, 7, 8, 9, 10, 4, 9, 6, 2, 1, 6, 9, 6, 7, 10, 8, 10, 1, 2, 3, 4, 5, 6, 7, 8, 9, 10, 1, 2, 3, 4, 5, 6, 7, 8, 9, 10, 6, 7, 4, 7, 8, 10, 10, 4, 1, 2, 3, 4, 5, 6, 7, 8, 10, 1, 2, 3, 4, 5, 6, 7, 8, 9, 10, 1, 2, 3, 4, 5, 6, 7, 8, 9, 10, 6, 1, 2, 3, 4, 5, 6, 7, 8, 9, 10, 1, 2, 3, 4, 5, 6, 7, 8, 9, 10, 7, 3, 6, 2, 2, 2, 1, 3, 6, 7, 8, 9, 10, 1, 3, 2, 4, 9, 1, 2, 3, 6, 1, 3, 1, 8, 3, 9, 7, 5, 7, 9, 2, 4, 1, 2, 3, 4, 5, 6, 7, 8, 9, 10, 1, 2, 3, 4, 6, 1, 2, 3, 4, 5, 6, 7, 8, 9, 10, 8, 10, 10, 2, 3, 2, 9, 4, 3, 3, 1, 2, 3, 4, 6, 7, 8, 9, 2, 3, 9, 5, 10, 2, 9, 9, 10, 8, 7, 10, 2, 10, 1, 2, 3, 4, 5, 6, 7, 8, 9, 10, 9, 9, 10, 4, 5, 7, 10, 1, 1, 3, 8, 2, 1, 4, 9, 1, 2, 3, 4, 5, 6, 7, 8, 9, 10, 1, 2, 3, 4, 5, 6, 7, 8, 9, 10, 1, 2, 3, 4, 5, 6, 7, 9, 10, 10, 7, 1, 2, 3, 4, 5, 6, 7, 8, 9, 10, 10, 10, 5, 1, 3, 4, 6, 9, 5, 2, 3, 4, 5, 8, 4, 1, 2, 3, 4, 5, 6, 7, 8, 9, 10, 1, 2, 3, 4, 5, 6, 7, 8, 9, 2, 6, 7, 6, 2, 1, 2, 3, 4, 6, 7, 8, 9, 9, 1, 2, 3, 4, 5, 6, 7, 8, 9, 10, 7, 1, 2, 3, 4, 5, 6, 7, 8, 9, 10, 5, 5, 9, 3, 4, 6, 10, 1, 1, 5, 2, 2, 5, 1, 2, 3, 2, 5, 5, 2, 1, 2, 3, 6, 7, 9, 1, 2, 3, 4, 5, 6, 7, 9, 10, 4, 1, 2, 3, 4, 5, 6, 7, 8, 9, 10, 1, 2, 3, 4, 5, 6, 8, 9, 10, 8, 1, 2, 3, 4, 5, 6, 7, 8, 9, 10, 5, 1, 2, 3, 4, 5, 6, 7, 8, 9, 10, 1, 2, 3, 4, 5, 6, 7, 8, 9, 10, 6, 2, 10, 7, 4, 2, 7, 8, 1, 2, 3, 4, 5, 7, 9, 10, 8, 1, 4, 3, 2, 9, 1, 2, 3, 4, 5, 6, 7, 8, 9, 10, 2, 3, 4, 5, 6, 7, 9, 10, 1, 2, 3, 4, 5, 6, 8, 9, 1, 2, 3, 4, 6, 7, 8, 9, 10, 1, 2, 3, 4, 5, 6, 7, 8, 9, 1, 2, 3, 4, 5, 6, 7, 8, 9, 10, 1, 2, 3, 4, 5, 6, 7, 8, 9, 10, 1, 2, 3, 4, 5, 6, 7, 9, 10, 3, 2, 9, 4, 7, 1, 2, 3, 4, 5, 6, 7, 8, 9, 10, 1, 2, 3, 4, 5, 7, 8, 9, 10, 2, 4, 1, 2, 3, 4, 5, 6, 7, 8, 9, 10, 4, 10, 3, 3, 5, 7, 5, 7, 1, 2, 3, 4, 5, 6, 7, 8, 9, 6, 1, 4, 1, 4, 1, 3, 4, 5, 1, 10, 1, 2, 4, 5, 6, 7, 8, 10, 8, 10, 4, 1, 3, 6, 10, 4, 10, 1, 2, 3, 4, 5, 6, 7, 8, 9, 10, 1, 2, 3, 9, 1, 2, 3, 4, 5, 6, 7, 8, 9, 10, 2, 3, 4, 6, 7, 8, 9, 6, 3, 6, 6, 6, 5, 1, 2, 3, 4, 5, 6, 7, 8, 9, 10, 5, 8, 1, 1, 4, 6, 7, 9, 4, 10, 8, 4, 1, 2, 3, 4, 5, 6, 7, 7, 1, 2, 3, 4, 5, 6, 7, 8, 10, 1, 6, 8, 9, 6, 10, 1, 2, 3, 5, 6, 7, 9, 6, 1, 3, 6, 7, 7, 9, 1, 2, 3, 4, 5, 6, 8, 9, 10, 2, 3, 9, 1, 2, 3, 4, 5, 6, 7, 8, 9, 10, 1, 4, 8, 1, 2, 3, 4, 5, 6, 7, 8, 9, 10, 6, 1, 2, 3, 4, 5, 6, 7, 8, 9, 10, 4, 9, 1, 2, 4, 5, 9, 7, 8, 1, 2, 3, 4, 5, 6, 7, 8, 9, 10, 3, 4, 6, 1, 2, 4, 5, 6, 7, 8, 10, 2, 3, 9, 9, 8, 1, 10, 2, 3, 4, 5, 6, 8, 1, 2, 3, 4, 5, 6, 8, 9, 10, 7, 6, 7, 3, 3, 9, 9, 3, 3, 1, 3, 1, 2, 3, 4, 5, 6, 7, 9, 10, 8, 1, 2, 3, 4, 5, 7, 8, 1, 3, 4, 5, 7, 2, 3, 5, 7, 3, 2, 3, 4, 5, 6, 5, 1, 2, 3, 6, 7, 8, 9, 2, 6, 1, 2, 3, 4, 5, 6, 9, 1, 2, 3, 4, 5, 6, 7, 9, 6, 9, 10, 6, 2, 1, 2, 3, 4, 5, 6, 7, 8, 9, 6, 7, 1, 2, 4, 5, 9, 2, 3, 1, 2, 3, 4, 5, 6, 7, 8, 9, 10, 1, 2, 3, 4, 5, 6, 7, 8, 9, 10, 3, 10, 1, 2, 3, 4, 5, 6, 7, 8, 9, 10, 1, 2, 3, 5, 6, 7, 2, 1, 2, 3, 4, 5, 6, 7, 8, 9, 10, 9, 9, 1, 2, 3, 4, 5, 6, 7, 8, 9, 10, 9, 1, 1, 2, 3, 4, 5, 6, 7, 8, 9, 10, 9, 1, 3, 1, 5, 7, 8, 10, 1, 3, 6, 7, 9, 1, 2, 3, 4, 6, 8, 9, 1, 3, 4, 6, 7, 8, 10, 3, 7, 2, 3, 5, 1, 2, 3, 5, 4, 5, 1, 2, 5, 7, 1, 2, 3, 3, 8, 7, 1, 2, 4, 4, 5, 1, 2, 3, 4, 5, 6, 7, 8, 9, 6, 2, 3, 6, 7, 1, 2, 3, 4, 5, 6, 7, 8, 9, 10, 4, 2, 3, 4, 9, 3, 8, 1, 2, 3, 4, 5, 6, 7, 8, 1, 2, 3, 4, 5, 6, 8, 9, 10, 7, 1, 2, 9, 9, 1, 1, 9, 10, 1, 2, 3, 4, 5, 6, 7, 8, 9, 10, 1, 2, 8, 10, 8, 5, 10, 10, 7, 3, 6, 8, 6, 7, 1, 2, 3, 4, 5, 6, 7, 8, 9, 10, 1, 2, 1, 2, 3, 4, 5, 6, 7, 8, 9, 10, 1, 2, 3, 4, 5, 6, 7, 8, 9, 10, 1, 10], \"Freq\": [0.9592323061474293, 0.028212714886689097, 0.9330949228682337, 0.9893642477523982, 0.1056102284967385, 0.023223191606612657, 0.0221173253396311, 0.35719480423504224, 0.012164528936797104, 0.33839507769635585, 0.022670258473121877, 0.0005529331334907775, 0.032623054875955876, 0.08459876942408896, 0.06677295518995309, 0.09453249835880999, 0.03826315409761357, 0.1856888360619482, 0.2603394994484688, 0.03638750928890702, 0.025133640436667735, 0.22207634535085521, 0.01538028743139369, 0.0551439573759725, 0.9627896624211071, 0.026645470362207758, 0.008881823454069253, 0.99562941024291, 0.05492365590419948, 0.012674689824046034, 0.9294772537633759, 0.9630570773565749, 0.03337326505691101, 0.9705055240990196, 0.1864662732768146, 0.8129534877253716, 0.0908527823016507, 0.908527823016507, 0.6203278023057518, 0.37867771812395895, 0.013405471682821924, 0.18432523563880146, 0.80097693304861, 0.06040435461746088, 0.03020217730873044, 0.9060653192619132, 0.20517627385059595, 0.07181169584770858, 0.7181169584770858, 0.9571575035750446, 0.09921700035802614, 0.8547926184691482, 0.04579246170370437, 0.01024901281085086, 0.9839052298416826, 0.9889364090363277, 0.0022829347247898197, 0.9862278011092022, 0.00570733681197455, 0.00570733681197455, 0.9689355881884265, 0.028780264995695838, 0.010730898179843733, 0.9094436207417563, 0.07511628725890612, 0.573128197066644, 0.05591494605528234, 0.12021713401885703, 0.016774483816584702, 0.001863831535176078, 0.17426824853896328, 0.057778777590458415, 0.059156328956834814, 0.9376278139658317, 0.9818771615210032, 0.06571234671935001, 0.04476474274331267, 0.018651976143046946, 0.014921580914437559, 0.3360225240539689, 0.011191185685828168, 0.02381713876727533, 0.3509441049684064, 0.02439104572552293, 0.1099031825044151, 0.9368395692007673, 0.9719311276879781, 0.026848926179225914, 0.998394784981158, 0.03896848572805545, 0.9547279003373585, 0.9910777867172287, 0.9222126797471815, 0.9676528032262158, 0.019770053939359336, 0.6128716721201394, 0.35783797630240394, 0.009885026969679668, 0.004714682526616807, 0.644339945304297, 0.11315238063880337, 0.23730568717304595, 0.9904399261811775, 0.007373107471226242, 0.020890471168474353, 0.011059661206839363, 0.011059661206839363, 0.03195013237531372, 0.7041317635021062, 0.21259126542035667, 0.23918354325485586, 0.7594927676812958, 0.9936416944257409, 0.9957716483670291, 0.003738817202879959, 0.9776150501856572, 0.9865219621378855, 0.2646567109766632, 0.11900483630105098, 0.07589522971602783, 0.23103400810614352, 0.04185398697575064, 0.038505668017690585, 0.014927922021351061, 0.1247248811877369, 0.04813208502211323, 0.04115642052615479, 0.9852331309792133, 0.009612030546138666, 0.2975057607941453, 0.0861200886509368, 0.05615353742757008, 0.10123834872759029, 0.07559130038326742, 0.09124949831980138, 0.07775105182278934, 0.09232937403956235, 0.087469933300638, 0.03401608517247034, 0.09179380762059786, 0.13004122746251362, 0.7725978808066986, 0.7139737810584357, 0.28383383919126337, 0.9913592151210473, 0.9889360290784628, 0.11138952610881833, 0.12450992702067434, 0.13548822166120691, 0.2017596344302755, 0.09813524355500461, 0.014860862257306292, 0.06105002873271774, 0.09813524355500461, 0.1120589343186069, 0.04270824378451087, 0.004938441405754252, 0.03580370019171833, 0.5642169306074234, 0.37038310543156894, 0.024692207028771264, 0.988608271517849, 0.9874578382044001, 0.5931990161971121, 0.1488469856140355, 0.2561043723065023, 0.7792075296151394, 0.03652535295070966, 0.13986537593320528, 0.028507592546895343, 0.01573856671859847, 0.9660084203036149, 0.9940478516429208, 0.04008807556881254, 0.9581050060946198, 0.1154699913375579, 0.2032062536378474, 0.150660430540507, 0.14664863325838642, 0.07857889893892725, 0.12153129375293577, 0.024114390184920516, 0.10317296053801436, 0.01905603709007281, 0.03763240276597903, 0.9919348616086348, 0.9730790983701617, 0.180851275177523, 0.05651602349297594, 0.024019309984514774, 0.07347083054086873, 0.015541906460568385, 0.6499342701692233, 0.9603702591235065, 0.9859016028236528, 0.005601713652407118, 0.12394792392665965, 0.09187926188403313, 0.013234685922353802, 0.0531932568802297, 0.12471146349910314, 0.021379108028417682, 0.33850254378327993, 0.2221900155810552, 0.011198580395837833, 0.0772251291159769, 0.0294275896169427, 0.023007024609609746, 0.11360833082419695, 0.3804184766844774, 0.008382404315129132, 0.02372042072153563, 0.23007024609609744, 0.08311064703936544, 0.031032730868775935, 0.027816479177419754, 0.033379775012903706, 0.027816479177419754, 0.8038962482274309, 0.013908239588709877, 0.038943070848387655, 0.05563295835483951, 0.015809331207798677, 0.003952332801949669, 0.9367028740620715, 0.039523328019496685, 0.9729571166599164, 0.009635572445008185, 0.03252005700190262, 0.06865345367068332, 0.11984243228478929, 0.5697032208111089, 0.1993359049561068, 0.13118636319491564, 0.8632909061858964, 0.985296767824593, 0.032918168927513286, 0.04470975182692103, 0.04520106778106302, 0.17761071742232915, 0.31886405423815106, 0.137568467159757, 0.12037240876478739, 0.02898764129437737, 0.04790330552884396, 0.045938041712276, 0.057266580023769754, 0.01804289507598225, 0.014905000280159252, 0.2941776371084063, 0.40753408660751217, 0.08119302784192013, 0.018435131925460126, 0.10786513360641564, 0.9943812820890914, 0.9945925856746822, 0.07856653845431798, 0.9091270878285366, 0.7443519286875582, 0.012422652846837912, 0.16552345549975922, 0.0349177269208417, 0.007050694859016112, 0.004364715865105212, 0.008729431730210424, 0.022495074074003786, 0.9735938213009668, 0.9922773084851727, 0.9744593495277007, 0.9884573923591631, 0.007824200994927413, 0.018059164736429954, 0.006019721578809985, 0.8548004641910179, 0.1203944315761997, 0.9745483050959067, 0.1648339142520654, 0.07607719119326095, 0.16913589827787479, 0.09713427089853853, 0.09917205280550087, 0.09305870708461383, 0.11479504742554554, 0.04935960619086573, 0.06022777636133158, 0.07607719119326095, 0.7961447224525867, 0.19669457848828611, 0.9972383107888845, 0.9406479898840081, 0.9626188832956036, 0.006721363888669534, 0.018483750693841217, 0.24701012290860536, 0.5309877472048932, 0.16971443818890572, 0.026885455554678136, 0.11936008429959262, 0.003315557897210906, 0.7316331093178733, 0.02044594036613392, 0.12488601412827746, 0.8732424827989932, 0.04838546738464078, 0.0760343058901498, 0.8305386641544619, 0.10244529778116711, 0.0621989307957086, 0.06541863043875316, 0.9327430533525451, 0.9869080837210646, 0.313481953063684, 0.1922079128273683, 0.04004331517236839, 0.03203465213789471, 0.42102685666947337, 0.015661680043250838, 0.971024162681552, 0.9742347913584015, 0.061955864524545365, 0.0842887924345559, 0.6267628155390055, 0.061955864524545365, 0.03313918335033822, 0.05114960908421769, 0.03241876632098304, 0.012967506528393217, 0.03458001740904858, 0.9439894046139388, 0.8473645983730359, 0.0006962732936508101, 0.058486956666668054, 0.05117608708333454, 0.006266459642857291, 0.035509937976191314, 0.10926373381645953, 0.20387013748680863, 0.19365442253648923, 0.08513095791932822, 0.10304547254235207, 0.095642780549367, 0.031091306370537263, 0.02250418365867459, 0.05877737442430139, 0.09682721126824462, 0.9444690685166593, 0.05386705713973342, 0.972063953135129, 0.9929627527972654, 0.01330989975295015, 0.10980667296183873, 0.054903336480919364, 0.6638312501783887, 0.009982424814712612, 0.0033274749382375375, 0.0848506109250572, 0.02495606203678153, 0.034938486851494144, 0.9848310449385393, 0.9342877616616353, 0.05643348895942764, 0.25299456455542285, 0.12473337595112981, 0.22930782245561238, 0.0002519866180830905, 0.004031785889329448, 0.010079464723323621, 0.2041091606473033, 0.031750313878469404, 0.14287641245311233, 0.010791071422580794, 0.8435020828650655, 0.14478020825295898, 0.874378181076591, 0.04857656561536616, 0.05782924478019782, 0.018505358329663303, 0.2141776314423255, 0.02057133828760705, 0.027642735823971972, 0.20753480345361905, 0.15149933509727276, 0.07553538277480713, 0.1399279573104938, 0.030107010723008233, 0.11474949638555808, 0.01810706338857079, 0.06759525567993262, 0.13703401833295428, 0.44367067819010314, 0.031339618542514214, 0.03072511621815119, 0.2249078507168667, 0.04301516270541166, 0.020278576703979784, 0.0012290046487260474, 0.9920853154592647, 0.09016251797087554, 0.17330849757825884, 0.17681676676000496, 0.06876207596222415, 0.06841124904404954, 0.019646307417778328, 0.1262976905428607, 0.07437530665301796, 0.19505976650508483, 0.007718192199841486, 0.045214459320460976, 0.4033664326569203, 0.10134275364930909, 0.19333079157714347, 0.005122820514140898, 0.22317678935518176, 0.01870943144294937, 0.009800178374878241, 0.9434345068541713, 0.9906186273915616, 0.03772273921184526, 0.005547461648800774, 0.009985430967841392, 0.028846800573764025, 0.055474616488007736, 0.01886136960592263, 0.08875938638081238, 0.4682057631587853, 0.28624902107811995, 0.9586675437179168, 0.9824225005651541, 0.013098966674202055, 0.0306789081203877, 0.03725295986047078, 0.08546267262108002, 0.16873399466213235, 0.05040106334063694, 0.1227156324815508, 0.0942280749411908, 0.039444310440498474, 0.37033824802468013, 0.14919704475977819, 0.08538020886523101, 0.1207145832657908, 0.1557130795826951, 0.20750548008237496, 0.08632066749946644, 0.04003666757173696, 0.1117130506238231, 0.04339544840829208, 0.0056927188538515965, 0.09563767674470683, 0.050665197799279214, 0.42183046707040334, 0.2982984679418237, 0.010246893936932875, 0.050665197799279214, 0.029032866154643143, 0.037571944435420536, 0.9718365478692902, 0.9548820498265194, 0.0661285150982049, 0.5012288724004066, 0.21396997241966936, 0.07707973415905411, 0.03875046744608185, 0.010108817594630047, 0.016005627858164242, 0.04254127404406812, 0.025693244719684705, 0.008845215395301292, 0.9410348652091195, 0.15379955761398553, 0.060875458857134294, 0.19347882606125413, 0.09173711209389876, 0.16380415948744215, 0.019839634223634297, 0.10665923014244422, 0.05663622077516116, 0.13853830051888222, 0.014413409478708677, 0.9820033905080147, 0.9923730473817133, 0.9735898503549554, 0.08771671900292305, 0.9022291097443514, 0.9852618917197083, 0.08195626618036438, 0.07867801553314979, 0.00655650129442915, 0.1198903093838473, 0.4519302677945807, 0.000936643042061307, 0.15688770954526893, 0.04308557993482012, 0.0402756508086362, 0.019669503883287448, 0.9488385024145712, 0.08213397512145598, 0.008213397512145598, 0.23408182909614955, 0.09034737263360158, 0.5790445246062647, 0.004106698756072799, 0.8239804797293949, 0.0799981048280966, 0.08799791531090626, 0.02029941589651936, 0.9642222550846695, 0.052515980527089744, 0.0009725181579090693, 0.03338979008821138, 0.010697699736999763, 0.006807627105363485, 0.8901782872061015, 0.0009725181579090693, 0.0042142453509393, 0.02579900054620385, 0.12356363419497633, 0.03605825222539602, 0.2896729885889555, 0.07830222972795203, 0.060499410637589145, 0.1802912611269801, 0.19945192235135373, 0.006185725277159987, 0.017331050113540546, 0.09965353815285813, 0.16031221355025005, 0.7192385797119326, 0.5744670440832714, 0.424872637726475, 0.02181492821972571, 0.29955620945623357, 0.18356463989769195, 0.00159621425997993, 0.36766135121537724, 0.09311249849882926, 0.00053207141999331, 0.00638485703991972, 0.014897999759812682, 0.01117349981985951, 0.994147695203386, 0.994891300608171, 0.995907172046593, 0.032047479691316084, 0.9213650411253375, 0.040059349614145104, 0.9849041775451599, 0.013309515912772431, 0.9637683189055632, 0.17099887848248524, 0.0732852336353508, 0.021171289716879125, 0.5227679999321692, 0.13517054203853593, 0.07654235513025529, 0.007156109287823437, 0.0787172021660578, 0.9088258795535765, 0.06262043389027136, 0.08084578405236525, 0.053274100473812945, 0.20141348512467877, 0.441146937256837, 0.007009750062343808, 0.06028385053615675, 0.053741417144635865, 0.03972191701994825, 0.9977748816437888, 0.9958458423006729, 0.0018968492234298531, 0.13791850148818202, 0.12067868880215928, 0.021549765857528443, 0.6486479523116061, 0.008619906343011376, 0.002154976585752844, 0.002154976585752844, 0.004309953171505688, 0.0538744146438211, 0.9976965867412275, 0.03192759250120832, 0.893972590033833, 0.06385518500241665, 0.9323980654006627, 0.9930703998538494, 0.9791366771725416, 0.018591202731124207, 0.0802689245455455, 0.1584255089714714, 0.1672973374738738, 0.1263179391532532, 0.04435914251201199, 0.25855043064144134, 0.0008449360478478474, 0.07519930825845843, 0.05154109891871869, 0.036754718081381366, 0.09528995106120217, 0.8999606489113537, 0.9713959968514432, 0.02376503967832277, 0.9425251931031896, 0.9905707811426687, 0.12589224768876497, 0.17646434718767057, 0.02840645588874697, 0.15042509595631917, 0.17883155184506616, 0.06778813337087346, 0.10501780661900395, 0.09705539095321881, 0.05164810161590358, 0.018292035988965852, 0.9673238881843408, 0.9884355161413227, 0.06673491502167811, 0.09813958091423251, 0.18842799535532642, 0.6477212340339346, 0.9667957662960396, 0.021342069896159815, 0.008536827958463927, 0.12450128513039277, 0.009083784752002905, 0.08870048640191074, 0.016030208385887482, 0.19930892426453434, 0.1608364241384044, 0.09511256975626572, 0.12877600736662942, 0.17740097280382147, 0.1668234912321222, 0.08464747518074349, 0.17114854470851057, 0.033982563028765636, 0.07970455692201395, 0.29348577161206685, 0.06734726127519007, 0.015446619558529833, 0.0092679717351179, 0.07846882735733156, 0.045291099808802165, 0.08101365740447711, 0.2985385170495692, 0.02168869568308836, 0.10206445027335699, 0.3929481335524244, 0.003189514071042406, 0.013395959098378105, 0.0408257801093428, 0.10850626627818201, 0.17519960828993084, 0.06047323757541991, 0.2755851826651279, 0.08086135767227577, 0.02522597910288945, 0.0737773498420123, 0.07066729762384784, 0.09261044382978592, 0.03732062661797343, 0.9901217905681997, 0.10904694661146737, 0.8505661835694455, 0.024100608412814514, 0.0642682891008387, 0.7299041405023824, 0.009181184157262672, 0.01147648019657834, 0.16067072275209676, 0.12712899408897316, 0.05430260426155739, 0.06394512277529188, 0.21771791802063664, 0.12459148921693776, 0.05937761400562818, 0.11088896290794664, 0.1319502533458404, 0.07790139957148653, 0.03222631187484948, 0.9743907572150559, 0.007511529799932568, 0.0025038432666441893, 0.0062596081666104735, 0.7160991742602382, 0.04006149226630703, 0.1414671445653967, 0.08763451433254663, 0.07354563004654537, 0.04305110051505095, 0.01524726476574721, 0.003587591709587579, 0.119287424343787, 0.003587591709587579, 0.013453468910953422, 0.5004690434874672, 0.22691517563141436, 0.9827438311722797, 0.9835735535688245, 0.9845998592619284, 0.9578134919257603, 0.15251082679572697, 0.10327849389897151, 0.07111336973975792, 0.10852994274129209, 0.029758210106483315, 0.0008752414737200975, 0.04791947068617534, 0.2450676126416273, 0.06958169716074775, 0.17132851848070907, 0.0957338710145713, 0.046489469737291816, 0.662561035367033, 0.004132397309981495, 0.016185222797427522, 0.06233032609222088, 0.046145103294793356, 0.0003443664424984579, 0.02272818520489822, 0.043734538197304156, 0.9855353516600954, 0.04739653015776126, 0.9479306031552253, 0.010210493111039524, 0.9836108363634742, 0.9920659926959291, 0.9716952428661151, 0.9899634517949949, 0.04142065178173915, 0.03163031590605535, 0.018827568991699614, 0.06702614561045063, 0.38709481846934407, 0.45487406683946263, 0.9567387122853658, 0.9936965370786119, 0.9789255548316831, 0.971652352647746, 0.9941749014642857, 0.08788458283433573, 0.03994753765197078, 0.015979015060788315, 0.7829717379786274, 0.04793704518236494, 0.02396852259118247, 0.003473829727861965, 0.02779063782289572, 0.05558127564579144, 0.07642425401296324, 0.8337191346868716, 0.012810704826984006, 0.014945822298148007, 0.04697258436560802, 0.1900254549335961, 0.7334128513448344, 0.2437108309147586, 0.7549091591749839, 0.991372456876718, 0.9684502291862696, 0.978102675392295, 0.04993635553128881, 0.9363066662116653, 0.9708751436390942, 0.8878610468755592, 0.0466905224984643, 0.06521850761690251, 0.9830423282762584, 0.9803652060655076, 0.9902109905840674, 0.06959301745994358, 0.9047092269792665, 0.23796949349265212, 0.24963466474229193, 0.1656454317448853, 0.3464555861143023, 0.008600564042827158, 0.9804643008822961, 0.9666987615862307, 0.12387526308684538, 0.006125699822975871, 0.04696369864281501, 0.12183336314585343, 0.10141436373593386, 0.5438260176175245, 0.028586599173887395, 0.02654469923289544, 0.9752682419949906, 0.016814969689568804, 0.9013375194175629, 0.0972030658195411, 0.9323594530927879, 0.02090591663570549, 0.2968640162270179, 0.6595816698565081, 0.02090591663570549, 0.02384203389423699, 0.9727549828848691, 0.9921298562549736, 0.9968265076395468, 0.9924178349254064, 0.9175936361725742, 0.9949481789254365, 0.9951233391906807, 0.4689882451466751, 0.08044688876603551, 0.4484486139723681, 0.01298603753962934, 0.005771572239835262, 0.007214465299794077, 0.004328679179876446, 0.01010025141971171, 0.23086288959341048, 0.04040100567884684, 0.008657358359752893, 0.6810455243005609, 0.2285878860838101, 0.23984363225927136, 0.11255746175461269, 0.13117756230509695, 0.04686407329560082, 0.021758319744386096, 0.01711375533741137, 0.09510896303651845, 0.06945925149169407, 0.037533101559066015, 0.9651393664026635, 0.004504336926043916, 0.9950489754806106, 0.23898341522931416, 0.33620903627286586, 0.050919257736312666, 0.10574173383568762, 0.10148367743961967, 0.009048369841644411, 0.07256437774965811, 0.024128986244385097, 0.04240314494417675, 0.018628996732797318, 0.9676747290980343, 0.2092002167249313, 0.1890532753606042, 0.029049078246239063, 0.35304000739582475, 0.06887442745479261, 0.008199336601761026, 0.037951215128151035, 0.017101473483672996, 0.07309122913569828, 0.014524539123119531, 0.02604714939501736, 0.005209429879003472, 0.8803936495515868, 0.08335087806405556, 0.9780923948960198, 0.9487784863542944, 0.9736879220417546, 0.9621808284607478, 0.5366508768536913, 0.027069401102329953, 0.17459763711002818, 0.12181230496048479, 0.025715931047213456, 0.0006767350275582488, 0.03925063159837843, 0.07444085303140736, 0.8847349318262765, 0.11234729293032082, 0.1679780740068962, 0.011198538267126414, 0.033595614801379244, 0.6159196046919527, 0.16957786518791426, 0.012215762107046928, 0.9772609685637542, 0.9956007303997161, 0.14918101905472697, 0.21069617132615842, 0.09633760631054575, 0.19240422076086494, 0.09484715107929961, 0.08685289120261579, 0.04647510402885681, 0.06598651796516987, 0.019511413936313064, 0.03780336450160656, 0.9308246827771752, 0.0387843617823823, 0.22250448420137808, 0.08415041730900032, 0.037433459657028614, 0.17129551139056293, 0.1314663103154845, 0.15572319217323904, 0.06977596880070133, 0.05031056977904646, 0.05809672938770841, 0.01916593134439865, 0.05507180504103136, 0.867380929396244, 0.0688397563012892, 0.22877967042524183, 0.24392536289241812, 0.045437077401528865, 0.01780283149650546, 0.10362842214383776, 0.005579991961591264, 0.012488553437847114, 0.17218260910053043, 0.037465660313541344, 0.13259123756352575, 0.007703073525020399, 0.18800313822002912, 0.09845490849166698, 0.058976656675937426, 0.18174439098095002, 0.025997873146943847, 0.15069137583321154, 0.04381123067355352, 0.20870514831852144, 0.035867436100876234, 0.9908443464219797, 0.0060051172510423015, 0.4606152034394323, 0.0007551068908843152, 0.3934106901507282, 0.04606152034394323, 0.0015102137817686304, 0.06569429950693542, 0.0007551068908843152, 0.030959382526256924, 0.024410288010810577, 0.11391467738378269, 0.048820576021621154, 0.805539504356749, 0.3430984364676318, 0.01826379509713629, 0.05870505566936665, 0.03174421528787975, 0.020438056418223945, 0.11610555454608071, 0.14437095172022021, 0.11871466813138588, 0.14871947436239552, 0.5099327957495678, 0.2734422238077393, 0.0923791296647768, 0.02463443457727381, 0.01170135642420506, 0.06651297335863929, 0.016012382475227977, 0.005542747779886607, 0.14496298970570853, 0.055754996040657125, 0.7917209437773312, 0.9698765200547649, 0.006016032748845343, 0.9926454035594815, 0.06039570990939736, 0.08362482910531942, 0.12079141981879472, 0.04645823839184412, 0.5900196275764203, 0.004645823839184412, 0.09756230062287266, 0.9861965751548604, 0.1277643778761441, 0.15018832991154898, 0.03546113345133795, 0.04641236584072173, 0.17052633292040456, 0.0010429745132746458, 0.03128923539823937, 0.15801063876110882, 0.013037181415933071, 0.26647998814167195, 0.2682512734573469, 0.03264986288429246, 0.01044795612297359, 0.35993208843644015, 0.10421836232666154, 0.003656784643040756, 0.001044795612297359, 0.20425754220413364, 0.015410735281386043, 0.23261836954412643, 0.10968205401401047, 0.15455198520156022, 0.0627449444248663, 0.09606299630938833, 0.04316754897447197, 0.010579089466983271, 0.16257750134892685, 0.059704976187227435, 0.06846008471162739, 0.924633415407968, 0.9950352330137675, 0.09438076082489581, 0.8966172278365102, 0.9666514498390536, 0.05262310295972663, 0.9209043017952161, 0.5633763718069839, 0.05038000202106456, 0.036385557015213295, 0.09716143246919594, 0.06757317731396754, 0.06037603416810118, 0.029588255155228393, 0.07996825717629295, 0.0059976192882219715, 0.00919634957527369, 0.9362865826715099, 0.9292748733722248, 0.9704789763203987, 0.9909695733409315, 0.09996197664498323, 0.04543726211135601, 0.8451330752712217, 0.027153043015251153, 0.9697515362589697, 0.9509901056731289, 0.5643806855534731, 0.4336601591201319, 0.12425670578170667, 0.11512231550837233, 0.10526297362604321, 0.1887773989822428, 0.0946786801347193, 0.05422638035281014, 0.08119458020741625, 0.09453368981292036, 0.05669121582339242, 0.08539929953958603, 0.2500714171048536, 0.16077449794651513, 0.04064411342857108, 0.1445568960365927, 0.08869626723574871, 0.08589322493033001, 0.05826323649120287, 0.09410213453905619, 0.02722955382406732, 0.05005432688247669, 0.03823872594889021, 0.9464084672350327, 0.001372828755297307, 0.034320718882432676, 0.4791172355987602, 0.4846085506199494, 0.9942368615373205, 0.9627347446259246, 0.05062775007436526, 0.04868052891765891, 0.03959349685302924, 0.06685459304691824, 0.08502865717617757, 0.11488604824567503, 0.08567773089507968, 0.39204052621687974, 0.11618419568347926, 0.09865630780640054, 0.1186852975942569, 0.24088920150259668, 0.10366355525336464, 0.11557268431641436, 0.05602703900116574, 0.12572251022242265, 0.09581435655271822, 0.01651038347377348, 0.0284195125368232, 0.18534515345457897, 0.0391180725884036, 0.009313826806762763, 0.17416856128646366, 0.05728003486159099, 0.05169173877753333, 0.0647310963070012, 0.24495364501786066, 0.05215743011787147, 0.12107974848791592, 0.9627494326374236, 0.23676606053793142, 0.13736545929313634, 0.05629272055443709, 0.28501696387030606, 0.0938835405924499, 0.08023115321546018, 0.01982401454740974, 0.007013212693659106, 0.07779990614832502, 0.0058910986626736495, 0.1107756513899424, 0.20108699407368708, 0.09641708724854466, 0.11721687642533578, 0.08158885044831614, 0.13754699294329611, 0.024892650918030664, 0.12218198739011817, 0.08561461609543701, 0.02261138371799551, 0.970867984112561, 0.9731165948763153, 0.02280742019241364, 0.9970459600006174, 0.9973430070634823, 0.9910282347039184, 0.015514735865641909, 0.7301935363861789, 0.12061455947160322, 0.06856512301912715, 0.021019964721192264, 0.021019964721192264, 0.022521390772705995, 0.06547020847074458, 0.9329504707081102, 0.1004404592378637, 0.023178567516430083, 0.8730593764521998, 0.06372966350015538, 0.13454040072255025, 0.7966207937519423, 0.003540536861119743, 0.9726156780156713, 0.02441712999202522, 0.9973514545053869, 0.9313936004365605, 0.9786911513225132, 0.994526141992314, 0.986172576161363, 0.9974254378874066, 0.9581795013320717, 0.9807603025879243, 0.1254009409453566, 0.8677745113418677, 0.31675282256131854, 0.14830077477771475, 0.04061740965249512, 0.2219788667054966, 0.018262091161586953, 0.056675455329062964, 0.0031486364071701646, 0.0229850457723422, 0.13318732002329797, 0.03872822780819302, 0.009311098712030426, 0.007448878969624341, 0.022346636908873025, 0.08379988840827383, 0.8752432789308601, 0.0748104654599435, 0.215409028686169, 0.4263068735255072, 0.0642843698173384, 0.050374886289610205, 0.007518639744717941, 0.009774231668133323, 0.09661452071962554, 0.031202354940579456, 0.023307783208625615, 0.6845288608468444, 0.31217524972685756, 0.9357334977231268, 0.03649950048801035, 0.9611535128509392, 0.9717815582416932, 0.02575806539917741, 0.9819069961021392, 0.9887327384084639, 0.9904834699164148, 0.019783110098106384, 0.012935110448761868, 0.12250310483827416, 0.00875022177416244, 0.06353421896891859, 0.22940798825304135, 0.018641776823215633, 0.5242524175998192, 0.9836358632322729, 0.01024620690866951, 0.005123103454334755, 0.9838771030086786, 0.9678103252885061, 0.3372722434447875, 0.6592139303693574, 0.9611350344892908, 0.9517204536992232, 0.9587590942271285, 0.9730287021897885, 0.9841218234720771, 0.9959451042047773, 0.97890087342753, 0.06596413611316665, 0.15194497559860456, 0.20562613464242294, 0.11706738638934402, 0.07885367995137163, 0.09538262440271683, 0.12601424622998042, 0.09280471563507584, 0.01834864475791532, 0.04807041643189386, 0.988133749802716, 0.9207494820416854, 0.9872396095666716, 0.15672026067096678, 0.8030938730900288, 0.02339108368223385, 0.016373758577563693, 0.9840541695985181, 0.9822283363355153, 0.013096377817806872, 0.9718375201374861, 0.9888135026477225, 0.9814591202167642, 0.9606302008749328, 0.037777592169238934, 0.26861830838689926, 0.05898938037776819, 0.03299406021129408, 0.14264098758014004, 0.10398128066589649, 0.07998560051222806, 0.0706539471191348, 0.014997300096042762, 0.16397048105006753, 0.06332193373884722, 0.12757675488664683, 0.20140446534163134, 0.20696471131732053, 0.023785496673781614, 0.158003656475835, 0.06456063382883581, 0.05822813146763421, 0.03320702457703277, 0.08062356664749352, 0.04556312674523101, 0.045009434648137885, 0.018636719033994595, 0.12694067115607638, 0.3231536753253025, 0.03446034840248057, 0.4244249032836127, 0.0038679982900743496, 0.0017581810409428862, 0.021449808699503213, 0.994214553762208, 0.9604714385891044, 0.08205067029737047, 0.1867243649154151, 0.07192095791497904, 0.30085245775702507, 0.07057032959732686, 0.02768788051186987, 0.08677786940915312, 0.07428455747087039, 0.06314187385023982, 0.03612930749719605, 0.9948808952643073, 0.9709526275108037, 0.9803709162873746, 0.035932614549705096, 0.013308375759150035, 0.0026616751518300074, 0.13973794547107538, 0.8064875710044922, 0.9777121673877639, 0.0010052719736743424, 0.0402108789469737, 0.1397328043407336, 0.019100167499812505, 0.7981859470974279, 0.9483389703330221, 0.10002335264360675, 0.11912691188725055, 0.1883322585812055, 0.16382203162709646, 0.10434868681197892, 0.09786068555942065, 0.06992623572201696, 0.06091512287124159, 0.0612755673852726, 0.03442245108996196, 0.09949864259083561, 0.12131852035198377, 0.58171794111221, 0.0008727951104459265, 0.0676416210595593, 0.05629528462376226, 0.060222862620768924, 0.00043639755522296324, 0.011782733991020007, 0.010287541195516774, 0.17231631502490596, 0.8152876397447043, 0.9734167743325918, 0.9989340140399406, 0.027135798813543378, 0.010854319525417351, 0.07598023667792146, 0.031206168635574884, 0.19809133133886667, 0.1180407248389137, 0.05020122780505525, 0.48708758870310365, 0.9266754329179926, 0.025863767921578677, 0.05795039729797327, 0.5149417853860175, 0.038503955251673515, 0.034614666842413565, 0.032086629376394595, 0.1448759932449332, 0.0632009366504742, 0.010501078705001868, 0.07700791050334703, 0.9848728350332157, 0.2520381421699466, 0.2942613994927374, 0.04468146066007658, 0.08459111484189256, 0.08140991052305216, 0.04381385948221102, 0.09399012760210285, 0.055671075579707074, 0.03166744299209311, 0.018075024538865933, 0.9933217499851548, 0.994586715963675, 0.9894665169767946, 0.9852830568836645, 0.11487264810707744, 0.0765817654047183, 0.8041085367495421, 0.9925748131131957, 0.9815163926396512, 0.9846166485310488, 0.997370649388735, 0.9841567976195804, 0.010251633308537296, 0.25154356574828934, 0.14548228616039122, 0.6025782433223946, 0.9916936183106173, 0.9906516575245836, 0.9834297059044419, 0.9915044533242966, 0.034981509312447444, 0.027985207449957954, 0.01574167919060135, 0.11194082979983182, 0.7940802613925569, 0.013992603724978977, 0.1309801335110307, 0.07329682968001386, 0.2502501226353136, 0.07459795683409694, 0.08977777363173295, 0.07893504734770723, 0.09845195465895352, 0.04423832323882493, 0.15917122184949753, 0.9382467382321417, 0.20202701558916591, 0.05061679039815704, 0.10607518683439865, 0.0640412435037552, 0.18222044543336532, 0.08626861667859807, 0.18618175946452545, 0.03411131526832322, 0.0651416085124108, 0.023547811185229577, 0.08497605953415643, 0.3307366964441441, 0.363528287882636, 0.005288966361047081, 0.003525977574031387, 0.09273321019702548, 0.10401633843392592, 0.0007051955148062774, 0.014456508053528687, 0.9671748428803343, 0.22704281202800566, 0.13960529463080748, 0.08331125253126301, 0.1816538985027185, 0.046862579548835444, 0.03202767491178271, 0.11190037338809973, 0.08282003052341358, 0.04479944711586784, 0.049908155997501896, 0.986145714030745, 0.13902260827521473, 0.23507459217445403, 0.0005617075081826859, 0.12273309053791685, 0.2134488531094206, 0.014885248966841175, 0.0028085375409134293, 0.11992455299700343, 0.06684319347373961, 0.0850986874896769, 0.12795206279643423, 0.17049922930884076, 0.10403869183690648, 0.08260982695109588, 0.14223797272030794, 0.15621331938496702, 0.046895052141411576, 0.07639856176680296, 0.07950419435894943, 0.013664783405444433, 0.9241002709454357, 0.9950755037806941, 0.9505516318280336, 0.9941256003201496, 0.9634516503894855, 0.047152265992662507, 0.08644582098654792, 0.8565994988667022, 0.26565118010013855, 0.05038212036381938, 0.09836509213888545, 0.21483285090200038, 0.2641244491800228, 0.08440640944068441, 0.013086265029563475, 0.008942281103535041, 0.9755428936786567, 0.9672101876571992, 0.025452899675189454, 0.9902219433357611, 0.8928684465053959, 0.1009329548223491, 0.0689466960274497, 0.2938824285821195, 0.19469997217053903, 0.20019738314947189, 0.053943345230778754, 0.003321352466438607, 0.030006701593341897, 0.029204995825580855, 0.08624063473200935, 0.03951264141107998, 0.05857982401919407, 0.0026035477341864034, 0.12073952617289445, 0.5682242929861825, 0.1728104808566225, 0.005532538935146107, 0.06443780642111348, 0.006834312802239309, 0.1583526717155492, 0.050083635705383, 0.004419144326945559, 0.34837587777420825, 0.13846652224429418, 0.2887174293604432, 0.003682620272454633, 0.007365240544909266, 0.41692114773723465, 0.00672453464092314, 0.006052081176830826, 0.4095241596322192, 0.03698494052507727, 0.03698494052507727, 0.000672453464092314, 0.07934950876289305, 0.00672453464092314, 0.20152256452972986, 0.05086977357061142, 0.043043654559748123, 0.03521753554888483, 0.028369681414379448, 0.3531536203652062, 0.06945680622141175, 0.05967415745783263, 0.15847890996998173, 0.11030962025751649, 0.12250601561768416, 0.09025332566524077, 0.03604712406449556, 0.11491714739357983, 0.34258319411670973, 0.13145003888180712, 0.018972170560260824, 0.004607527136063342, 0.028458255840391234, 0.14946652654402653, 0.13578767032013125, 0.11410167874566311, 0.05004459594108031, 0.1434611750310969, 0.18516500498199714, 0.01935057709721772, 0.00033363063960720207, 0.07873683094729969, 0.12344333665466477, 0.09151860668807185, 0.005298445650362055, 0.0664714090681785, 0.045759303344035926, 0.6931330264428178, 0.03130899702486668, 0.035644088920617455, 0.02119378260144822, 0.009633537546112826, 0.9852215861125498, 0.09998529619684483, 0.8855840520291971, 0.9633018619179428, 0.9909096592067536, 0.13286960389826197, 0.10661174987994121, 0.07524820202472475, 0.08983589870156962, 0.06904843093706568, 0.1808874387928763, 0.021516852598346174, 0.23595599374796566, 0.018477749124003493, 0.06953468749296052, 0.05475678608799579, 0.1024481804227018, 0.0017663479383224448, 0.04769139433470601, 0.11304626805263647, 0.015897131444902006, 0.5334370773733784, 0.02119617525986934, 0.11127992011431403, 0.9892319313763214, 0.970218273484279, 0.003961613058912584, 0.13519004563539191, 0.027236089780024012, 0.11934359339974158, 0.12281000482629009, 0.35803078019922474, 0.15202690113577041, 0.05744338935423247, 0.002476008161820365, 0.021293670191655137, 0.08882037614276575, 0.8882037614276576, 0.9881054255915755, 0.9894769705694354, 0.9877155190636662, 0.0065628938143765195, 0.9941853521524878, 0.0042486553510790075, 0.07353068974125436, 0.10010804747905715, 0.14351773178413502, 0.5120570924150003, 0.031892829285363335, 0.008859119245934261, 0.06998704204288066, 0.0442955962296713, 0.015946414642681667, 0.9484774614141984, 0.9886832606073797, 0.9340149186527608, 0.050981148959005365, 0.9176606812620965, 0.9350820300957252, 0.061316854432506576, 0.009332553954384542, 0.9892507191647615, 0.9827462232981522, 0.9673972106364903, 0.021747077929482727, 0.011598441562390788, 0.021747077929482727, 0.06524123378844818, 0.015947857148287333, 0.021747077929482727, 0.7480994807742058, 0.0927875324991263, 0.9325298391867005, 0.9475312531433225, 0.9832794277258293, 0.03667062201703312, 0.7190061245482564, 0.216094736886088, 0.026193301440737938, 0.9427896116495356, 0.027729106224986342, 0.2316662958352984, 0.15799056225736768, 0.08418183999066814, 0.09455495771463672, 0.10266726772953523, 0.042689369094793796, 0.0783303376848397, 0.08178804359282923, 0.08125608883775393, 0.04495017680386387, 0.7550819431046559, 0.017259015842392134, 0.051777047527176406, 0.17259015842392136, 0.10798586027259138, 0.0306907181827365, 0.0628970273868427, 0.028417331650681943, 0.3171374212216105, 0.10419688271916712, 0.11025924680464594, 0.054940174524651754, 0.12011058844354901, 0.06327592514218512, 0.21823303627961563, 0.027636498044143466, 0.14723582578690225, 0.0014294740367660414, 0.14675933444131356, 0.43694256390481995, 0.02144211055149062, 0.9790670639058597, 0.11350381347523655, 0.8818373200768378, 0.9880320447950329, 0.9437049499177035, 0.9976912632832952, 0.03890400048883964, 0.21496954116269087, 0.052869539125859004, 0.07581292402953367, 0.07082523165916961, 0.1486332326368489, 0.03940276972587605, 0.1386578478961208, 0.01995076948145623, 0.2000064640515987, 0.9759930007005694, 0.9890453441786187, 0.9699942240341491, 0.04779952725730016, 0.029415093696800097, 0.15810612862030052, 0.7574386626926025, 0.003676886712100012, 0.09806543075292634, 0.8825888767763371, 0.9816233781135294, 0.9567577682167792, 0.0016166630995597246, 0.15358299445817383, 0.13579970036301686, 0.2740243953753733, 0.07921649187842651, 0.31848263061326576, 0.03718325128987367, 0.9676417426623581, 0.5727395115067695, 0.13169545557934706, 0.021434441597491454, 0.21855642414909407, 0.02723765285969438, 0.0023400045412108575, 0.0011232021797812116, 0.0009360018164843429, 0.023961646501999178, 0.9762040975036209, 0.01692839475439805, 0.05565550410423714, 0.9322296937459721, 0.9564908908172712, 0.9806957662354879, 0.03561353766847988, 0.07122707533695977, 0.008596371161357213, 0.11052477207459273, 0.08350760556747007, 0.6692888975628115, 0.022104954414918547, 0.9439731996778437, 0.011275150865436111, 0.011275150865436111, 0.016912726298154167, 0.9583878235620694, 0.9709051467866633, 0.9589026309379448, 0.21452278373816708, 0.24963879031020703, 0.010804925099089212, 0.2807029499700885, 0.031064159659881487, 0.07225793660015911, 0.03196457008480559, 0.09071635031110319, 0.01845841371094407, 0.9494612690071902, 0.0019739319521979008, 0.047374366852749615, 0.011306136590672245, 0.016713419307950273, 0.3576999446005436, 0.18122589955483337, 0.017696561620182644, 0.31968510852755866, 0.03326298156386182, 0.029330412314932344, 0.005571139769316758, 0.027527984742506336, 0.019579318415229276, 0.21537250256752202, 0.7635934181939418, 0.25334023681921264, 0.20140935409380945, 0.0568275912702303, 0.18762125371758576, 0.07924936197549123, 0.01172632835734911, 0.04510126291288119, 0.06571898310162688, 0.08040910873610818, 0.018684808921050778, 0.962713014717745, 0.1335503706192481, 0.14347976620432232, 0.045675219691341355, 0.08042810423910109, 0.37781350201207364, 0.004964697792537104, 0.04666815924984878, 0.0764563460050714, 0.04815756858760991, 0.04219993123656538, 0.824286171483545, 0.16235939741342553, 0.08330455013656526, 0.07369248665926928, 0.2755458196824851, 0.004806031738647996, 0.5623057134218156, 0.9622885437558641, 0.9651884344402614, 0.09521202101559659, 0.12435266987188524, 0.12464119114769008, 0.08251708488018371, 0.15551296765880776, 0.06607137215930793, 0.05799277643677247, 0.09492349973979175, 0.08886455294789015, 0.10992660608164334, 0.10517672700348338, 0.8808550886541733, 0.9835020831858367, 0.04300917660431755, 0.021323877476090214, 0.4112978401320451, 0.26709060092933334, 0.0032527948692341003, 0.03035941877951827, 0.12722042155226704, 0.09613815946847452, 0.03711895134949257, 0.06805141080740304, 0.8908548323878217, 0.9740125010031104, 0.9696773295879509, 0.9957878301416142, 0.9797839032968505, 0.7936202414283087, 0.014669505386844892, 0.027872060235005297, 0.016136455925529383, 0.14816200440713342, 0.9832519695706465, 0.01884301055973805, 0.21965566595351785, 0.028533701704746194, 0.2476509959279858, 0.07052669666644813, 0.114673178549263, 0.0021534869211129203, 0.28641376050801837, 0.010767434605564601, 0.9935882485121987, 0.013366659859298562, 0.9757661697287952, 0.9748315597233499, 0.9808981650984037, 0.9826585590076372, 0.971524607809713, 0.9992096687036414, 0.989913783457447, 0.8837277085160663, 0.11615769039380472, 0.008025327884518672, 0.030763756890654907, 0.6420262307614938, 0.12974280079971853, 0.06018995913389004, 0.0013375546474197787, 0.04012663942259336, 0.033438866185494465, 0.054839740544210924, 0.9810105957292267, 0.013561903922689699, 0.04972698104986223, 0.135619039226897, 0.004520634640896567, 0.0678095196134485, 0.013561903922689699, 0.718780907902554, 0.038723424779730634, 0.019361712389865317, 0.7841493517895454, 0.09680856194932659, 0.048404280974663295, 0.9299832047671152, 0.01972231918755709, 0.022756522139488953, 0.027307826567386742, 0.9956987316315784, 0.007095424622356764, 0.9578823240181631, 0.03547712311178382, 0.989916594752578, 0.925875656681281, 0.9866434525506164, 0.14724471274179238, 0.027485679711801245, 0.04515504524081633, 0.03141220538491571, 0.669472627266016, 0.05497135942360249, 0.025522416875244012, 0.98721701711719, 0.9578934302194039, 0.09345625628958322, 0.04672812814479161, 0.050065851583705294, 0.30039510950223175, 0.015019755475111588, 0.4122088447058403, 0.08010536253392847, 0.021516556063217746, 0.18545222130678152, 0.07991863680623734, 0.2479526936808902, 0.13268542905650943, 0.04098391631089094, 0.02049195815544547, 0.27100614660576633, 0.0461207223791627, 0.8301730028249286, 0.12106689624530209, 0.9308014640164015, 0.991241653201008, 0.028476474372325308, 0.3597028341767407, 0.15662060904778918, 0.0921738512577898, 0.06632021005133656, 0.1626156562840682, 0.08880163718738286, 0.036719664322208946, 0.008243189949883642, 0.820082497694823, 0.16967224090237717, 0.28246770076600985, 0.017777687460797824, 0.5570342071049984, 0.033580076314840335, 0.10864142337154226, 0.01824207377699441, 0.9668299101807039, 0.28644648314125604, 0.05774883644077728, 0.18810496326067508, 0.05682975681572512, 0.0530002583780078, 0.1943853406985315, 0.09772880013054618, 0.018228412563534475, 0.027419208814056056, 0.02006657181363879, 0.0205758085059101, 0.18128955602504573, 0.17739683549690058, 0.07841051349549524, 0.0964838588047406, 0.10037657933288575, 0.018907499708133605, 0.06673235191105978, 0.23022661409315623, 0.029195403961088655, 0.9798110821829318, 0.9657562444844155, 0.07989151334764394, 0.14745646725881437, 0.17573051296622547, 0.1380574656885033, 0.1183349705901457, 0.0921410317876395, 0.06756495391117043, 0.08767265399191784, 0.06848944586890594, 0.02457607787646906, 0.05435990347299866, 0.6423343696095147, 0.0643443755394678, 0.015531400992285331, 0.1142667358718135, 0.10871980694599732, 0.996266501176566, 0.12147060635965916, 0.07017859909158704, 0.23856747566545172, 0.16113244918904052, 0.09642102141478673, 0.018985994938375533, 0.11371716340053198, 0.10437327060363512, 0.03886661791049651, 0.03628213692412078, 0.9754858598120745, 0.9703231182538292, 0.09544794912972655, 0.11889709926194311, 0.26405064127756533, 0.10865873793660913, 0.09288835879839306, 0.07992527228163954, 0.10048456236235054, 0.06605394403441284, 0.048632216295336456, 0.02493536387299085, 0.9491859142692066, 0.988088603964544, 0.08693748302380734, 0.13112936441298853, 0.2471531402784024, 0.11136354110073658, 0.1296830846584335, 0.06893933496712265, 0.1055784220825165, 0.011730935786946279, 0.0660467754580126, 0.04129932188007114, 0.9616673420490561, 0.9318138143405534, 0.06281890883194742, 0.04637249840621749, 0.10016459655742978, 0.007419599744994798, 0.7679285736069615, 0.07790579732244537, 0.6575251526404311, 0.04437286306162418, 0.16216264500702657, 0.13553892717005206, 0.9745403136769963, 0.06160247650232295, 0.0034869326322069594, 0.023246217548046396, 0.022083906670644075, 0.4916575011411813, 0.036031637199471916, 0.3638033046269261, 0.00908224313639447, 0.051190824950587015, 0.05201648341753197, 0.07596057895893557, 0.7447439371843466, 0.01651316933889904, 0.051190824950587015, 0.050907108012618475, 0.9366907874321799, 0.9466751930111115, 0.03474037405545363, 0.015198913649260964, 0.11345051350260375, 0.8277685614819608, 0.04622057957513487, 0.010504677176167015, 0.9627257816179955, 0.023481116624829157, 0.04951543745204018, 0.013204116653877381, 0.9143850782810086, 0.023107204144285416, 0.0663883710599159, 0.024141225839969416, 0.9052959689988531, 0.9952875094755114, 0.9618357167448329, 0.9912576113482957, 0.04791683536709192, 0.015972278455697306, 0.9263921504304437, 0.8689059589064122, 0.12164683424689772, 0.03095056736505631, 0.023876151967329153, 0.014148830795454313, 0.005305811548295367, 0.010611623096590734, 0.15121562912641798, 0.0008843019247158946, 0.030066265440340415, 0.7330862955894766, 0.9735681570933754, 0.8259802483777263, 0.0035323460372532842, 0.1253982843224916, 0.04474304980520827, 0.21429604003230512, 0.0675417414702051, 0.1586734294097833, 0.008442717683775637, 0.28605914034439806, 0.03699896867301676, 0.03575739254304976, 0.06530690443626448, 0.11695647144289191, 0.010180924265729445, 0.9872602352204621, 0.009285501793074134, 0.9347405138361294, 0.024761338114864355, 0.030951672643580445, 0.9902647467301494, 0.9303258191877698, 0.1529110758456294, 0.025222445500310005, 0.034680862562926254, 0.08039654503223814, 0.14187625593924377, 0.007882014218846876, 0.031528056875387504, 0.524942146975202, 0.08349273815930042, 0.08135798064954558, 0.007590248923572765, 0.20422513509987972, 0.11575129608448466, 0.14967022096170046, 0.0839671287170237, 0.23411174023644746, 0.039611611569895365, 0.9593330032410958, 0.03920100657385528, 0.06860176150424674, 0.8820226479117437, 0.9521823978412287, 0.9818717432864211, 0.9893227893164936, 0.9479883331622815, 0.9728953119448718, 0.12103663954140985, 0.10905832998955571, 0.28552947187559286, 0.08774808160079195, 0.09011588697732126, 0.07841614276388233, 0.11240111405053826, 0.040252691400998214, 0.021867379065594186, 0.05348454497572081, 0.00678793515894316, 0.01018190273841474, 0.8315220569705372, 0.14933457349674953, 0.9980152741144216, 0.9982196859529984, 0.9655980461210413, 0.9289348845205436, 0.9761399852845734, 0.9783362902962237, 0.9249962856596291, 0.9433667697515926, 0.7857539786469941, 0.20871590057810782, 0.12390244246856136, 0.10244221550505236, 0.2629890077886621, 0.061748766262926816, 0.10001275584880606, 0.15589032794247099, 0.11135023424462213, 0.001417184799477009, 0.013362028109354655, 0.06660768557541942, 0.024067207939838214, 0.9747219215634477, 0.01586062015716239, 0.24266748840458455, 0.3626795142604466, 0.10150796900583929, 0.07798138243938174, 0.11736858916300168, 0.03753680103861765, 0.01348152713358803, 0.025376992251459823, 0.0052868733857207965, 0.20327496505743545, 0.09717652540705396, 0.22943787574394997, 0.08849574398111365, 0.07342494289441173, 0.03882238359934413, 0.07583627106828404, 0.08379365404206265, 0.07499230620742874, 0.03496425852114844, 0.9859063879371917, 0.9735085347705089], \"Term\": [\"absorption\", \"absorption\", \"accounting_quantity\", \"acreage\", \"action\", \"action\", \"action\", \"action\", \"action\", \"action\", \"action\", \"action\", \"action\", \"action\", \"activity\", \"activity\", \"activity\", \"activity\", \"activity\", \"activity\", \"activity\", \"activity\", \"activity\", \"activity\", \"ad\", \"ad\", \"ad\", \"advertiser\", \"adviser\", \"adviser\", \"adviser\", \"aftermarket\", \"aftermarket\", \"air_force\", \"aircraft\", \"aircraft\", \"airline\", \"airline\", \"airplane\", \"airplane\", \"airport\", \"airport\", \"airport\", \"alert\", \"alert\", \"alert\", \"allowance\", \"allowance\", \"allowance\", \"alpha\", \"amit\", \"amit\", \"amit\", \"analog\", \"analog\", \"antibody\", \"app\", \"app\", \"app\", \"app\", \"apparel\", \"apparel\", \"apple\", \"apple\", \"apple\", \"application\", \"application\", \"application\", \"application\", \"application\", \"application\", \"application\", \"architecture\", \"architecture\", \"asm\", \"asset\", \"asset\", \"asset\", \"asset\", \"asset\", \"asset\", \"asset\", \"asset\", \"asset\", \"asset\", \"asset_cap\", \"associate\", \"associate\", \"assortment\", \"audience\", \"audience\", \"aum\", \"auto_lease\", \"automated_facilitie\", \"aviation\", \"aviation\", \"aviation\", \"aviation\", \"backlog\", \"backlog\", \"backlog\", \"backlog\", \"backroom\", \"bank\", \"bank\", \"bank\", \"bank\", \"bank\", \"bank\", \"bank\", \"banking\", \"banking\", \"banner\", \"barrel\", \"barrel\", \"basic_economy\", \"basin\", \"basis\", \"basis\", \"basis\", \"basis\", \"basis\", \"basis\", \"basis\", \"basis\", \"basis\", \"basis\", \"basket\", \"basket\", \"benefit\", \"benefit\", \"benefit\", \"benefit\", \"benefit\", \"benefit\", \"benefit\", \"benefit\", \"benefit\", \"benefit\", \"beta\", \"beta\", \"beta\", \"beverage\", \"beverage\", \"bioproduction\", \"biosimilar\", \"bit\", \"bit\", \"bit\", \"bit\", \"bit\", \"bit\", \"bit\", \"bit\", \"bit\", \"bit\", \"booking\", \"booking\", \"booking\", \"booking\", \"booking\", \"booster\", \"boot\", \"branch\", \"branch\", \"branch\", \"brand\", \"brand\", \"brand\", \"brand\", \"brand\", \"broker\", \"brokerage\", \"burn\", \"burn\", \"business\", \"business\", \"business\", \"business\", \"business\", \"business\", \"business\", \"business\", \"business\", \"business\", \"cabin\", \"cafe\", \"calendar\", \"calendar\", \"calendar\", \"calendar\", \"calendar\", \"calendar\", \"calvert\", \"cancer\", \"cancer\", \"capacity\", \"capacity\", \"capacity\", \"capacity\", \"capacity\", \"capacity\", \"capacity\", \"capacity\", \"capacity\", \"capital\", \"capital\", \"capital\", \"capital\", \"capital\", \"capital\", \"capital\", \"capital\", \"capital\", \"capital\", \"capture\", \"capture\", \"capture\", \"capture\", \"capture\", \"capture\", \"capture\", \"carbon\", \"carbon\", \"carbon\", \"carbon\", \"carbon_venture\", \"card\", \"card\", \"card\", \"card\", \"card\", \"card\", \"cargo\", \"cargo\", \"carol\", \"cash\", \"cash\", \"cash\", \"cash\", \"cash\", \"cash\", \"cash\", \"cash\", \"cash\", \"cash\", \"cash_flow\", \"cash_flow\", \"cash_flow\", \"cash_flow\", \"cash_flow\", \"cash_flow\", \"cash_flow\", \"cash_flow\", \"casm\", \"casm_ex\", \"cat\", \"cat\", \"category\", \"category\", \"category\", \"category\", \"category\", \"category\", \"category\", \"category\", \"caterpillar\", \"ccar\", \"cd\", \"cereal\", \"cereal\", \"certification\", \"certification\", \"certification\", \"certification\", \"cet\", \"change\", \"change\", \"change\", \"change\", \"change\", \"change\", \"change\", \"change\", \"change\", \"change\", \"charge_off\", \"charge_off\", \"chemical\", \"ci\", \"cib\", \"city\", \"city\", \"city\", \"city\", \"city\", \"city\", \"client\", \"client\", \"client\", \"client\", \"client\", \"cloud\", \"cloud\", \"cloud\", \"club\", \"club\", \"club\", \"coffee\", \"coffee\", \"cold_beverage\", \"commerce\", \"commerce\", \"commerce\", \"commerce\", \"commerce\", \"comms\", \"comms\", \"communications_equipment\", \"community\", \"community\", \"community\", \"community\", \"community\", \"community\", \"community\", \"community\", \"community\", \"commute\", \"comp\", \"comp\", \"comp\", \"comp\", \"comp\", \"comp\", \"company\", \"company\", \"company\", \"company\", \"company\", \"company\", \"company\", \"company\", \"company\", \"company\", \"computing\", \"computing\", \"consent\", \"consignment\", \"constraint\", \"constraint\", \"constraint\", \"constraint\", \"constraint\", \"constraint\", \"constraint\", \"constraint\", \"constraint\", \"construction_industrie\", \"consumable\", \"consumable\", \"consumer\", \"consumer\", \"consumer\", \"consumer\", \"consumer\", \"consumer\", \"consumer\", \"consumer\", \"consumer\", \"content\", \"content\", \"content\", \"convenience\", \"convenience\", \"convenience\", \"convenience\", \"cost\", \"cost\", \"cost\", \"cost\", \"cost\", \"cost\", \"cost\", \"cost\", \"cost\", \"cost\", \"country\", \"country\", \"country\", \"country\", \"country\", \"country\", \"country\", \"country\", \"country\", \"courier\", \"course\", \"course\", \"course\", \"course\", \"course\", \"course\", \"course\", \"course\", \"course\", \"course\", \"covid\", \"covid\", \"covid\", \"covid\", \"covid\", \"covid\", \"covid\", \"covid\", \"cowen\", \"cpu\", \"credit\", \"credit\", \"credit\", \"credit\", \"credit\", \"credit\", \"credit\", \"credit\", \"credit\", \"criticism\", \"crude\", \"crude\", \"curve\", \"curve\", \"curve\", \"curve\", \"curve\", \"curve\", \"curve\", \"curve\", \"curve\", \"customer\", \"customer\", \"customer\", \"customer\", \"customer\", \"customer\", \"customer\", \"customer\", \"customer\", \"cycle\", \"cycle\", \"cycle\", \"cycle\", \"cycle\", \"cycle\", \"cycle\", \"cycle\", \"cycle\", \"dairy\", \"dara\", \"datum\", \"datum\", \"datum\", \"datum\", \"datum\", \"datum\", \"datum\", \"datum\", \"datum\", \"datum\", \"dawn\", \"day\", \"day\", \"day\", \"day\", \"day\", \"day\", \"day\", \"day\", \"day\", \"day\", \"daypart\", \"dealer\", \"dealer_inventorie\", \"debit\", \"debit\", \"debit_card\", \"debt\", \"debt\", \"debt\", \"debt\", \"debt\", \"debt\", \"debt\", \"debt\", \"debt\", \"debt\", \"decremental\", \"defense\", \"defense\", \"defense\", \"defense\", \"defense\", \"defense\", \"deferral\", \"deferral\", \"deferral\", \"delinquency\", \"delinquency\", \"delivery\", \"delivery\", \"delivery\", \"delivery\", \"delivery\", \"delivery\", \"delivery\", \"delivery\", \"demand\", \"demand\", \"demand\", \"demand\", \"demand\", \"demand\", \"demand\", \"demand\", \"demand\", \"density\", \"density\", \"density\", \"density\", \"deposit\", \"deposit\", \"development\", \"development\", \"development\", \"development\", \"development\", \"development\", \"development\", \"development\", \"development\", \"development\", \"diagnosis\", \"diagnostic\", \"diamondback\", \"differential\", \"differential\", \"differential\", \"disease\", \"disease\", \"dispatch\", \"disruption\", \"disruption\", \"disruption\", \"disruption\", \"disruption\", \"disruption\", \"distributor\", \"distributor\", \"distributor\", \"dividend\", \"dividend\", \"dividend\", \"dividend\", \"dividend\", \"dividend\", \"dividend\", \"dividend\", \"dividend\", \"dollar_tree\", \"dose\", \"dose\", \"double_digit\", \"double_digit\", \"double_digit\", \"double_digit\", \"double_digit\", \"double_digit\", \"double_digit\", \"double_digit\", \"double_digit\", \"dram\", \"drawdown\", \"drawdown\", \"drawdown\", \"dreamliner\", \"drilling\", \"drive_thru\", \"drive_thru\", \"driver\", \"driver\", \"driver\", \"driver\", \"driver\", \"driver\", \"driver\", \"driver\", \"driver\", \"driver\", \"drone\", \"drone\", \"drug\", \"drug\", \"eame\", \"earner\", \"earning\", \"earning\", \"earning\", \"earning\", \"earning\", \"earning\", \"earning\", \"earning\", \"earning\", \"earning\", \"easter\", \"eater\", \"ebitda\", \"ebitda\", \"ebitda\", \"ebitda\", \"ecommerce\", \"ecommerce\", \"ecommerce\", \"efficiency\", \"efficiency\", \"efficiency\", \"efficiency\", \"efficiency\", \"efficiency\", \"efficiency\", \"efficiency\", \"efficiency\", \"effort\", \"effort\", \"effort\", \"effort\", \"effort\", \"effort\", \"effort\", \"effort\", \"effort\", \"effort\", \"employee\", \"employee\", \"employee\", \"employee\", \"employee\", \"employee\", \"employee\", \"employee\", \"employee\", \"end\", \"end\", \"end\", \"end\", \"end\", \"end\", \"end\", \"end\", \"end\", \"end\", \"energy_transportation\", \"enforcement\", \"enforcement\", \"engagement\", \"engagement\", \"engagement\", \"engagement\", \"engagement\", \"engagement\", \"environment\", \"environment\", \"environment\", \"environment\", \"environment\", \"environment\", \"environment\", \"environment\", \"environment\", \"environment\", \"epbo\", \"equipment\", \"equipment\", \"equipment\", \"equipment\", \"equipment\", \"equipment\", \"equipment\", \"equity\", \"equity\", \"equity\", \"equity\", \"equity\", \"equity\", \"equity\", \"equity\", \"equity\", \"espresso\", \"ethane\", \"ethylene\", \"excavator\", \"expense\", \"expense\", \"expense\", \"expense\", \"expense\", \"expense\", \"expense\", \"expense\", \"expense\", \"expense\", \"experience\", \"experience\", \"experience\", \"experience\", \"experience\", \"experience\", \"experience\", \"experience\", \"experience\", \"experience\", \"exploration\", \"fab\", \"fab\", \"fare\", \"fare\", \"fastener\", \"fdm\", \"fedex\", \"fee\", \"fee\", \"fee\", \"fee\", \"fee\", \"fee\", \"fee_waiver\", \"feedstock\", \"ficc\", \"fighter\", \"film\", \"fire\", \"fire\", \"fire\", \"fire\", \"fire\", \"fire\", \"firm\", \"firm\", \"firm\", \"firm\", \"firm\", \"fleet\", \"fleet\", \"fleet\", \"fleet\", \"fleet\", \"flight\", \"flight\", \"flight_attendant\", \"flight_schedule\", \"flipkart\", \"fly\", \"fly\", \"flying\", \"food\", \"food\", \"food\", \"foodservice\", \"forbearance\", \"frac\", \"fraud\", \"fraud\", \"freight\", \"freight\", \"freight\", \"freight\", \"freighter\", \"freighter\", \"fte\", \"fuel\", \"fuel\", \"fuel\", \"fuel\", \"fuel\", \"fuel\", \"fuel\", \"fuel\", \"gamer\", \"gamer\", \"gaming\", \"gaming\", \"gaming_console\", \"gas\", \"gas\", \"gas\", \"gas\", \"gasoline\", \"gasoline\", \"geforce\", \"general_merchandise\", \"gerry\", \"gigabit\", \"gpu\", \"graphic\", \"grocery\", \"grocery\", \"grocery\", \"ground\", \"ground\", \"ground\", \"ground\", \"ground\", \"ground\", \"ground\", \"ground\", \"ground\", \"growth\", \"growth\", \"growth\", \"growth\", \"growth\", \"growth\", \"growth\", \"growth\", \"growth\", \"growth\", \"gsib\", \"guest\", \"guest\", \"guidance\", \"guidance\", \"guidance\", \"guidance\", \"guidance\", \"guidance\", \"guidance\", \"guidance\", \"guidance\", \"guidance\", \"haircut\", \"half\", \"half\", \"half\", \"half\", \"half\", \"half\", \"half\", \"half\", \"half\", \"half\", \"haul\", \"haul\", \"haul\", \"haul\", \"health_corner\", \"heavy_construction\", \"hike\", \"holden\", \"home\", \"home\", \"home\", \"home\", \"home\", \"home\", \"home\", \"home\", \"honeywell\", \"honeywell\", \"hub\", \"hub\", \"hub\", \"hub\", \"hub\", \"hunter\", \"hunter\", \"hyperscale\", \"impact\", \"impact\", \"impact\", \"impact\", \"impact\", \"impact\", \"impact\", \"impact\", \"impact\", \"impact\", \"imperative\", \"imperative\", \"improvement\", \"improvement\", \"improvement\", \"improvement\", \"improvement\", \"improvement\", \"improvement\", \"improvement\", \"improvement\", \"improvement\", \"incentive_compensation\", \"incentive_compensation\", \"incentive_compensation\", \"income\", \"income\", \"income\", \"income\", \"income\", \"income\", \"income\", \"income\", \"income\", \"income\", \"industry\", \"industry\", \"industry\", \"industry\", \"industry\", \"industry\", \"industry\", \"industry\", \"industry\", \"industry\", \"inference\", \"inference\", \"inflation\", \"inflation\", \"inflation\", \"inflation\", \"inflation\", \"inflation\", \"inflation\", \"inflation\", \"inflow\", \"inflow\", \"inflow\", \"inflow\", \"initiative\", \"initiative\", \"initiative\", \"initiative\", \"initiative\", \"initiative\", \"initiative\", \"initiative\", \"initiative\", \"innovation\", \"innovation\", \"innovation\", \"innovation\", \"innovation\", \"innovation\", \"innovation\", \"innovation\", \"institution\", \"institution\", \"institution\", \"institutional_securitie\", \"instrument\", \"instrument\", \"insurance\", \"insurance\", \"insurance\", \"insurance\", \"insurance\", \"insurance\", \"insurance\", \"intel\", \"interest\", \"interest\", \"interest\", \"interest\", \"interest\", \"interest\", \"interest\", \"interest\", \"interest\", \"interest\", \"inventory\", \"inventory\", \"inventory\", \"inventory\", \"inventory\", \"inventory\", \"inventory\", \"inventory\", \"inventory\", \"investment\", \"investment\", \"investment\", \"investment\", \"investment\", \"investment\", \"investment\", \"investment\", \"investment\", \"investment\", \"investorubercom\", \"iphone\", \"ipo\", \"ipo\", \"ipos\", \"issuer\", \"issuer\", \"item\", \"item\", \"item\", \"item\", \"item\", \"item\", \"item\", \"item\", \"item\", \"item\", \"jam\", \"jim_barber\", \"kc_tanker\", \"knee\", \"lane\", \"lane\", \"lane\", \"leisure\", \"leisure\", \"lender\", \"lending\", \"lending\", \"level\", \"level\", \"level\", \"level\", \"level\", \"level\", \"level\", \"level\", \"level\", \"level\", \"line\", \"line\", \"line\", \"line\", \"line\", \"line\", \"line\", \"line\", \"line\", \"line\", \"load_factor\", \"load_factor\", \"loan\", \"loan\", \"loan\", \"loan\", \"loan_balance\", \"locomotive\", \"loss\", \"loss\", \"loss\", \"loss\", \"loss\", \"loss\", \"loss\", \"loss\", \"loss\", \"lot\", \"lot\", \"lot\", \"lot\", \"lot\", \"lot\", \"lot\", \"lot\", \"lot\", \"lot\", \"management\", \"management\", \"management\", \"management\", \"management\", \"management\", \"management\", \"management\", \"management\", \"management\", \"mapc\", \"margin\", \"margin\", \"margin\", \"margin\", \"margin\", \"margin\", \"margin\", \"margin\", \"margin\", \"margin\", \"market\", \"market\", \"market\", \"market\", \"market\", \"market\", \"market\", \"market\", \"market\", \"market\", \"max\", \"mcdonald\", \"mcdonald\", \"medical_device\", \"medicine\", \"mellanox\", \"member\", \"member\", \"member\", \"member\", \"member\", \"member\", \"member\", \"membership\", \"membership\", \"memory\", \"memory\", \"memory\", \"menu\", \"menu\", \"menu\", \"menu\", \"merchandise\", \"merchandise\", \"merchandising\", \"merrill\", \"messenger\", \"micron\", \"mid_continent\", \"midstream\", \"mileageplus\", \"millimeter\", \"mining\", \"mining\", \"mix\", \"mix\", \"mix\", \"mix\", \"mix\", \"mix\", \"mix\", \"mix\", \"mix\", \"mix\", \"mobility\", \"mobility\", \"mobility\", \"mobility\", \"mobility\", \"model\", \"model\", \"model\", \"model\", \"model\", \"model\", \"model\", \"model\", \"model\", \"model\", \"mortgage\", \"mortgage\", \"mortgage_origination\", \"movie\", \"movie\", \"nanometer\", \"nanometer\", \"national_account\", \"nestle\", \"net_promoter\", \"network\", \"network\", \"network\", \"network\", \"network\", \"network\", \"network\", \"network\", \"networking\", \"networking\", \"networking\", \"ngl\", \"nii\", \"node\", \"node\", \"node_transition\", \"nonaccrual\", \"noncomp\", \"nonfuel_unit\", \"noninterest\", \"notebook\", \"nsf\", \"number\", \"number\", \"number\", \"number\", \"number\", \"number\", \"number\", \"number\", \"number\", \"number\", \"nvme\", \"obsolescence\", \"occ\", \"oil\", \"oil\", \"oil\", \"oil\", \"oliver\", \"omnichannel\", \"omnichannel\", \"onboarding\", \"oncology\", \"online_grocery\", \"onsite\", \"onsite\", \"operating\", \"operating\", \"operating\", \"operating\", \"operating\", \"operating\", \"operating\", \"operating\", \"operating\", \"operating\", \"opportunity\", \"opportunity\", \"opportunity\", \"opportunity\", \"opportunity\", \"opportunity\", \"opportunity\", \"opportunity\", \"opportunity\", \"opportunity\", \"order\", \"order\", \"order\", \"order\", \"order\", \"order\", \"order\", \"order\", \"order\", \"origination\", \"oscar\", \"outlook\", \"outlook\", \"outlook\", \"outlook\", \"outlook\", \"outlook\", \"outlook\", \"outlook\", \"outlook\", \"outlook\", \"overdraft\", \"overdraft_fee\", \"oxys\", \"package\", \"package\", \"package\", \"package\", \"package\", \"pad\", \"page\", \"page\", \"page\", \"page\", \"page\", \"panic\", \"part\", \"part\", \"part\", \"part\", \"part\", \"part\", \"part\", \"part\", \"part\", \"part\", \"partner\", \"partner\", \"partner\", \"partner\", \"partner\", \"partner\", \"partner\", \"partner\", \"partner\", \"passenger\", \"passenger\", \"passenger\", \"passenger_traffic\", \"patient\", \"peak\", \"peak\", \"peak\", \"peak\", \"peak\", \"peak\", \"peak\", \"peak\", \"peak_surcharge\", \"people\", \"people\", \"people\", \"people\", \"people\", \"people\", \"people\", \"people\", \"people\", \"people\", \"per_gallon\", \"performance\", \"performance\", \"performance\", \"performance\", \"performance\", \"performance\", \"performance\", \"performance\", \"performance\", \"performance\", \"permian\", \"permian_resource\", \"personal_electronic\", \"personalization\", \"personnel\", \"personnel\", \"personnel\", \"pet\", \"pet_food\", \"petrochemical\", \"pfizer\", \"pharmaceutical\", \"pharmaceutical\", \"pharmacy\", \"pharmacy\", \"pharmacy\", \"phase_iii\", \"phillip\", \"phillips_partner\", \"physician\", \"pilot\", \"pilot\", \"pilot\", \"pilot\", \"pilot\", \"pilot\", \"place\", \"place\", \"place\", \"place\", \"place\", \"place\", \"place\", \"place\", \"place\", \"placeholder\", \"plan\", \"plan\", \"plan\", \"plan\", \"plan\", \"plan\", \"plan\", \"plan\", \"plan\", \"plan\", \"platform\", \"platform\", \"platform\", \"platform\", \"platform\", \"platform\", \"platform\", \"platform\", \"platform\", \"platinum\", \"point\", \"point\", \"point\", \"point\", \"point\", \"point\", \"point\", \"point\", \"point\", \"point\", \"polyethylene\", \"portfolio\", \"portfolio\", \"portfolio\", \"portfolio\", \"portfolio\", \"portfolio\", \"portfolio\", \"portfolio\", \"portfolio\", \"portfolio\", \"position\", \"position\", \"position\", \"position\", \"position\", \"position\", \"position\", \"position\", \"position\", \"position\", \"postmate\", \"ppd\", \"ppp\", \"prasm\", \"pref\", \"prepayment\", \"prepayment\", \"prepayment\", \"price\", \"price\", \"price\", \"price\", \"price\", \"price\", \"price\", \"price\", \"prime_brokerage\", \"pringle\", \"pringle\", \"privacy\", \"processor\", \"processor\", \"product\", \"product\", \"product\", \"product\", \"product\", \"product\", \"product\", \"product\", \"product\", \"product\", \"production\", \"production\", \"production\", \"production\", \"production\", \"production\", \"production\", \"production\", \"productivity\", \"productivity\", \"productivity\", \"productivity\", \"productivity\", \"productivity\", \"productivity\", \"productivity\", \"profit\", \"profit\", \"profit\", \"profit\", \"profit\", \"profit\", \"profit\", \"profit\", \"profit\", \"profitability\", \"profitability\", \"profitability\", \"profitability\", \"profitability\", \"profitability\", \"profitability\", \"profitability\", \"profitability\", \"program\", \"program\", \"program\", \"program\", \"program\", \"program\", \"program\", \"program\", \"program\", \"program\", \"progress\", \"progress\", \"progress\", \"progress\", \"progress\", \"progress\", \"progress\", \"progress\", \"progress\", \"progress\", \"project\", \"project\", \"project\", \"project\", \"project\", \"project\", \"project\", \"project\", \"project\", \"prop\", \"qualification\", \"qualification\", \"quarry\", \"rasm\", \"rate\", \"rate\", \"rate\", \"rate\", \"rate\", \"rate\", \"rate\", \"rate\", \"rate\", \"rate\", \"ratio\", \"ratio\", \"ratio\", \"ratio\", \"ratio\", \"ratio\", \"ratio\", \"ratio\", \"ratio\", \"readout\", \"recalibration\", \"recovery\", \"recovery\", \"recovery\", \"recovery\", \"recovery\", \"recovery\", \"recovery\", \"recovery\", \"recovery\", \"recovery\", \"redeployment\", \"redeployment\", \"reed\", \"reel\", \"refinery\", \"refinery\", \"refining\", \"refining\", \"region\", \"region\", \"region\", \"region\", \"region\", \"region\", \"region\", \"region\", \"region\", \"regulatory_authoritie\", \"reimbursement_pressure\", \"relatively_stable\", \"remeasurement\", \"remeasurement\", \"remodel\", \"remodel\", \"renewable\", \"renewable\", \"renovation\", \"repricing\", \"reserve\", \"reserve\", \"reserve\", \"reserve\", \"reserve\", \"reserve\", \"reserve\", \"reserve\", \"reserve_build\", \"reserve_release\", \"resource_industrie\", \"restaurant\", \"restaurant\", \"restaurant\", \"restaurant\", \"restructuring_charge\", \"restructuring_charge\", \"result\", \"result\", \"result\", \"result\", \"result\", \"result\", \"result\", \"result\", \"result\", \"result\", \"retailer\", \"retailer\", \"retailer\", \"retailer\", \"return\", \"return\", \"return\", \"return\", \"return\", \"return\", \"return\", \"return\", \"return\", \"return\", \"revenue\", \"revenue\", \"revenue\", \"revenue\", \"revenue\", \"revenue\", \"revenue\", \"rework\", \"ride\", \"ride\", \"rider\", \"ridesharing\", \"rig\", \"risk\", \"risk\", \"risk\", \"risk\", \"risk\", \"risk\", \"risk\", \"risk\", \"risk\", \"risk\", \"rodeo\", \"roe\", \"rollback\", \"route\", \"route\", \"route\", \"route\", \"route\", \"runoff\", \"runoff\", \"rwa\", \"saas\", \"safety\", \"safety\", \"safety\", \"safety\", \"safety\", \"safety\", \"safety\", \"salary_wage\", \"sale\", \"sale\", \"sale\", \"sale\", \"sale\", \"sale\", \"sale\", \"sale\", \"sale\", \"sams_club\", \"sams_club\", \"sanjay\", \"sanjay\", \"satellite\", \"save\", \"schedule\", \"schedule\", \"schedule\", \"schedule\", \"schedule\", \"schedule\", \"schedule\", \"scooter\", \"seat\", \"seat\", \"seat\", \"seat\", \"seater\", \"securities_law\", \"segment\", \"segment\", \"segment\", \"segment\", \"segment\", \"segment\", \"segment\", \"segment\", \"segment\", \"server\", \"server\", \"server\", \"service\", \"service\", \"service\", \"service\", \"service\", \"service\", \"service\", \"service\", \"service\", \"service\", \"servicing\", \"servicing\", \"servicing\", \"share\", \"share\", \"share\", \"share\", \"share\", \"share\", \"share\", \"share\", \"share\", \"share\", \"shared_ride\", \"shareholder\", \"shareholder\", \"shareholder\", \"shareholder\", \"shareholder\", \"shareholder\", \"shareholder\", \"shareholder\", \"shareholder\", \"shareholder\", \"shareowner\", \"shareowner\", \"shipment\", \"shipment\", \"shipment\", \"shipment\", \"shipment\", \"short_haul\", \"sib\", \"side\", \"side\", \"side\", \"side\", \"side\", \"side\", \"side\", \"side\", \"side\", \"side\", \"signing\", \"signing\", \"skyline\", \"slide\", \"slide\", \"slide\", \"slide\", \"slide\", \"slide\", \"slide\", \"slide\", \"smartphone\", \"smartphone\", \"smartphone\", \"smartpost\", \"sme\", \"snack\", \"sofr\", \"software\", \"software\", \"software\", \"software\", \"software\", \"solium\", \"solution\", \"solution\", \"solution\", \"solution\", \"solution\", \"solution\", \"solution\", \"solution\", \"solution\", \"southwest\", \"southwest_airline\", \"southwest_airline\", \"spark\", \"spence\", \"ssd\", \"ssds\", \"starbuck\", \"starbucks_reward\", \"store\", \"store\", \"story\", \"story\", \"story\", \"story\", \"story\", \"story\", \"story\", \"story\", \"story\", \"strategic_imperative\", \"stress\", \"stress\", \"stress\", \"stress\", \"stress\", \"stress\", \"stress\", \"strike\", \"strike\", \"strike\", \"strike\", \"strike\", \"study\", \"study\", \"study\", \"study\", \"subscriber\", \"subscription\", \"subscription\", \"subscription\", \"subsurface\", \"suburb\", \"sulfur\", \"summer\", \"summer\", \"summer\", \"summer\", \"summer\", \"summer\", \"summer\", \"supercomputer\", \"supplemental_slide\", \"supplier\", \"supplier\", \"supplier\", \"supplier\", \"supplier\", \"supplier\", \"supplier\", \"supply\", \"supply\", \"supply\", \"supply\", \"supply\", \"supply\", \"supply\", \"supply\", \"surcharge\", \"surcharge\", \"surcharge\", \"surepost\", \"surgery\", \"system\", \"system\", \"system\", \"system\", \"system\", \"system\", \"system\", \"system\", \"system\", \"tanker\", \"tanker\", \"tariff\", \"tariff\", \"tariff\", \"tariff\", \"tariff\", \"taxi\", \"taxi\", \"team\", \"team\", \"team\", \"team\", \"team\", \"team\", \"team\", \"team\", \"team\", \"team\", \"technology\", \"technology\", \"technology\", \"technology\", \"technology\", \"technology\", \"technology\", \"technology\", \"technology\", \"technology\", \"television\", \"teller\", \"term\", \"term\", \"term\", \"term\", \"term\", \"term\", \"term\", \"term\", \"term\", \"term\", \"testing\", \"testing\", \"testing\", \"testing\", \"testing\", \"testing\", \"therapy\", \"thing\", \"thing\", \"thing\", \"thing\", \"thing\", \"thing\", \"thing\", \"thing\", \"thing\", \"thing\", \"ti\", \"ticom_ir\", \"time\", \"time\", \"time\", \"time\", \"time\", \"time\", \"time\", \"time\", \"time\", \"time\", \"tnt_integration\", \"tobacco\", \"today\", \"today\", \"today\", \"today\", \"today\", \"today\", \"today\", \"today\", \"today\", \"today\", \"todays_discussion\", \"toy\", \"toy\", \"trading\", \"trading\", \"trading\", \"trading\", \"trading\", \"traffic\", \"traffic\", \"traffic\", \"traffic\", \"trailing\", \"transformation\", \"transformation\", \"transformation\", \"transformation\", \"transformation\", \"transformation\", \"transformation\", \"travel\", \"travel\", \"travel\", \"travel\", \"travel\", \"travel\", \"travel\", \"traveler\", \"traveler\", \"treatment\", \"treatment\", \"treatment\", \"trial\", \"trial\", \"trial\", \"trial\", \"turbine\", \"turbine\", \"turnaround\", \"turnaround\", \"turnaround\", \"turnaround\", \"tv\", \"tv\", \"tv\", \"uber\", \"underwriting_fee\", \"united\", \"unwind\", \"unwind\", \"unwind\", \"uop\", \"uop\", \"up\", \"up\", \"up\", \"up\", \"up\", \"up\", \"up\", \"up\", \"up\", \"upser\", \"vaccine\", \"vaccine\", \"vaccine\", \"vaccine\", \"value\", \"value\", \"value\", \"value\", \"value\", \"value\", \"value\", \"value\", \"value\", \"value\", \"vending\", \"video\", \"video\", \"video\", \"video\", \"villagemd\", \"vintage\", \"volatility\", \"volatility\", \"volatility\", \"volatility\", \"volatility\", \"volatility\", \"volatility\", \"volatility\", \"volume\", \"volume\", \"volume\", \"volume\", \"volume\", \"volume\", \"volume\", \"volume\", \"volume\", \"voluntary_separation\", \"wafer\", \"wafer\", \"wafer\", \"wafer_start\", \"walgreens_boot\", \"walmart\", \"ware\", \"waterfall\", \"way\", \"way\", \"way\", \"way\", \"way\", \"way\", \"way\", \"way\", \"way\", \"way\", \"wealth\", \"wealth\", \"wealth\", \"wealth\", \"wealth_management\", \"well\", \"wells_fargo\", \"wellsfargocom_id\", \"west_coast\", \"whatsapp\", \"wheeler\", \"wholesale\", \"widebody\", \"widebody\", \"work\", \"work\", \"work\", \"work\", \"work\", \"work\", \"work\", \"work\", \"work\", \"work\", \"workload\", \"workload\", \"world\", \"world\", \"world\", \"world\", \"world\", \"world\", \"world\", \"world\", \"world\", \"world\", \"year\", \"year\", \"year\", \"year\", \"year\", \"year\", \"year\", \"year\", \"year\", \"year\", \"yogurt\", \"zelle\"]}, \"R\": 30, \"lambda.step\": 0.01, \"plot.opts\": {\"xlab\": \"PC1\", \"ylab\": \"PC2\"}, \"topic.order\": [10, 4, 3, 2, 1, 7, 6, 5, 8, 9]};\n",
              "\n",
              "function LDAvis_load_lib(url, callback){\n",
              "  var s = document.createElement('script');\n",
              "  s.src = url;\n",
              "  s.async = true;\n",
              "  s.onreadystatechange = s.onload = callback;\n",
              "  s.onerror = function(){console.warn(\"failed to load library \" + url);};\n",
              "  document.getElementsByTagName(\"head\")[0].appendChild(s);\n",
              "}\n",
              "\n",
              "if(typeof(LDAvis) !== \"undefined\"){\n",
              "   // already loaded: just create the visualization\n",
              "   !function(LDAvis){\n",
              "       new LDAvis(\"#\" + \"ldavis_el1621396838189563841102609542\", ldavis_el1621396838189563841102609542_data);\n",
              "   }(LDAvis);\n",
              "}else if(typeof define === \"function\" && define.amd){\n",
              "   // require.js is available: use it to load d3/LDAvis\n",
              "   require.config({paths: {d3: \"https://d3js.org/d3.v5\"}});\n",
              "   require([\"d3\"], function(d3){\n",
              "      window.d3 = d3;\n",
              "      LDAvis_load_lib(\"https://cdn.jsdelivr.net/gh/bmabey/pyLDAvis@3.4.0/pyLDAvis/js/ldavis.v3.0.0.js\", function(){\n",
              "        new LDAvis(\"#\" + \"ldavis_el1621396838189563841102609542\", ldavis_el1621396838189563841102609542_data);\n",
              "      });\n",
              "    });\n",
              "}else{\n",
              "    // require.js not available: dynamically load d3 & LDAvis\n",
              "    LDAvis_load_lib(\"https://d3js.org/d3.v5.js\", function(){\n",
              "         LDAvis_load_lib(\"https://cdn.jsdelivr.net/gh/bmabey/pyLDAvis@3.4.0/pyLDAvis/js/ldavis.v3.0.0.js\", function(){\n",
              "                 new LDAvis(\"#\" + \"ldavis_el1621396838189563841102609542\", ldavis_el1621396838189563841102609542_data);\n",
              "            })\n",
              "         });\n",
              "}\n",
              "</script>"
            ],
            "text/plain": [
              "<IPython.core.display.HTML object>"
            ]
          },
          "execution_count": 17,
          "metadata": {},
          "output_type": "execute_result"
        }
      ],
      "source": [
        "import pyLDAvis.gensim_models\n",
        "import pyLDAvis\n",
        "\n",
        "#visualize the topics\n",
        "pyLDAvis.enable_notebook()\n",
        "LDAvis_prepared = pyLDAvis.gensim_models.prepare(lda_model, corpus, id2word)\n",
        "\n",
        "pyLDAvis.display(LDAvis_prepared)"
      ]
    },
    {
      "cell_type": "markdown",
      "metadata": {
        "id": "xOswkkhfPlPC"
      },
      "source": [
        "## Evaluation"
      ]
    },
    {
      "cell_type": "code",
      "execution_count": null,
      "metadata": {
        "colab": {
          "base_uri": "https://localhost:8080/"
        },
        "id": "ZGB559WUIbMi",
        "outputId": "648d6f5c-54ac-40b3-d084-8f62c25c5dfa"
      },
      "outputs": [
        {
          "name": "stdout",
          "output_type": "stream",
          "text": [
            "\n",
            "Coherence Score:  0.3355453170593397\n"
          ]
        }
      ],
      "source": [
        "# Compute Model Perplexity and coherence score\n",
        "from gensim.models import CoherenceModel\n",
        "\n",
        "#Compute Coherence Score\n",
        "coherence_model_lda = CoherenceModel(model=lda_model, texts=data_lemmatized,\n",
        "                                    dictionary=id2word, coherence='c_v')\n",
        "coherence_lda = coherence_model_lda.get_coherence()\n",
        "print('\\nCoherence Score: ', coherence_lda)"
      ]
    },
    {
      "cell_type": "markdown",
      "metadata": {
        "id": "vB69Bg_gK20t"
      },
      "source": [
        "# BERTopic\n",
        "\n"
      ]
    },
    {
      "cell_type": "code",
      "execution_count": 29,
      "metadata": {
        "colab": {
          "base_uri": "https://localhost:8080/",
          "height": 137
        },
        "id": "AcNC3p4eQdJ4",
        "outputId": "84cd7d07-4cde-49a1-ecb2-3cfe3499218d"
      },
      "outputs": [
        {
          "output_type": "execute_result",
          "data": {
            "text/plain": [
              "'standing welcome abbott instructions abbott exception participants questions asked session entire including session material copyrighted abbott cannot rebroadcast without abbott express written permission introduce mr scott leinenweber vice president relations licensing acquisitions joining robert ford president chief executive officer bob funck executive vice president finance chief financial officer robert bob provide opening remarks following comments questions started made purposes private securities litigation reform act including expected financial abbott cautions cause actual differ materially indicated economic competitive governmental technological affect abbott operations discussed item risk annual form ended december abbott undertakes obligation release publicly revisions result subsequent development except required law please note financial provided sales eps line items continuing operations past non gaap financial measures used help investors understand abbott ongoing non gaap financial measures reconciled comparable gaap financial measures news release regulatory filings available website abbott com unless otherwise noted commentary sales growth refers organic sales growth excludes impact foreign exchange turn robert thanks scott everyone joining reported ongoing per reflecting growth compared prior sales increased organic basis start issued full guidance reflected another track expectations full adjusted per guidance least remains unchanged reflects growth compared comprised several including global covid testing related sales rapid tests compromising roughly sales sales growth major areas resulted base organic sales growth excluding covid testing related sales nearly growth contributions momentum several recently launched products businesses impact significant investments making portfolio commercial initiatives strengthen sustainable growth profile summarize turning bob start nutrition sales increased nearly led adult nutrition sales growth pandemic brought awareness value nutrition including immune support helping bring users category specifically leading ensure glucerna brands pediatric nutrition sales declined recall experienced significant pantry stocking ahead shelter place restrictions several countries start global pandemic sales growth pediatric nutrition reflects difficult comparison several international markets capture leading portfolio infant formula toddler brands diagnostics sales increased led significant demand portfolio covid tests improvement base mentioned earlier covid testing related sales led rapid care platforms id binaxnow panbio demand shift towards rapid testing worldwide binaxnow received emergency use authorization counter nonprescription self use people without symptoms began shipping test kits major retailers yesterday importantly underlying base continues improve driven improving routine diagnostic testing levels continued rollout alinity platforms excluding covid testing related sales core lab molecular diagnostic businesses achieved double digit sales growth turning established pharmaceuticals sales grew particularly given comparison versus led double digit sales growth india china brazil elevated covid case levels several emerging markets executing high level ensure patients access branded generic medicines lastly cover medical devices sales grew nearly led growth structural heart rhythm management diabetes care although procedure volumes cardiovascular neuromodulation businesses impacted early elevated coast case rates certain countries including saw growth improve throughout exited momentum average march procedure levels mid single digits compared pre covid baselines cardiovascular areas even higher structural heart sales mid teens overall growth contributions coming several products within innovative portfolio including mitraclip triclip portico others mitraclip sales grew achieved highest number monthly procedures ever march january cms expanded reimbursement covered mitraclip significantly increases number people benefit leading device wrap diabetes care growth led freestyle libre sales nearly global user base libre surpassed users driven expansion awareness efforts ongoing launch activity every major around world summary start track expectations major businesses achieving growth particularly pleased growth contributions momentum several recently launched products positioned achieve eps growth forecasted beginning turn bob discuss outlook detail bob thanks robert scott mentioned earlier please note references sales growth rates unless otherwise noted organic basis consistent previous guidance turning sales increased led businesses along global covid testing related sales organic sales growth balanced growth growth internationally covid testing related sales balanced geographically half sales coming international markets foreign exchange favorable impact sales saw dollar strengthen somewhat versus several currencies resulted slightly less favorable impact sales compared exchange rates january based current rates exchange favorable impact approximately reported sales exchange favorable impact nearly full sales regarding aspects adjusted gross margin ratio sales adjusted investment sales adjusted sg expense sales robert mentioned strength created opportunity significantly increase investments sg strengthen pipeline growth initiatives combined investments areas increased approximately compared highest level since separation abbvie net interest expense nonoperating adjusted tax rate consistent full effective tax rate open questions instructions comes bob hopkins bank america congratulations profit growth recall put growth impressive guess love hear thoughts important topics robert mind topic binaxnow otc wondering capacity early thoughts demand play topic ahead list interest topic longer term oriented expressed confidence abbott ability drive double digit growth number based seeing anything changed views investors love hear assume conservative testing scenario impact goal double digit growth wanted list upfront okay thanks regarding binax otc launch excited significant opportunity quite frankly trend happening overseas happening move accelerated move hospital lab based testing rapid testing outside environment consumers people much faster rate quite frankly less hassle less process significant opportunity easy affordable key part bob surveillance testing serial testing needs contemplate areas needs affordable difficult serial testing pcr cost plus takes days opportunity able capitalize something people want buy homes homes maybe element medicine cabinet seeing shift happen towards end definitely move towards rapid specifically position otc require understanding retail retail environment retail channel capabilities nutrition diabetes operate operate pretty excited eliminate barriers exist frequent testing key aspect scale scale able meet demand quite frankly probably leaders terms production established capacity rapid tests per different platforms feel position feel opportunity mention confidence january commented honest nothing changed front nothing changed days start planning process every target double digit growth talked key elements laid key elements allowed confidence able drive double digit whether pace recovery base covid testing launches investment spend et cetera none changed mean pace recovery base done cardio neuro finished grew double digits prepared remarks core lab molecular diagnostics excluding covid libre growing rapidly nutrition epd accelerating growth rates pipeline supports sustained growth momentum launches mitraclip triclip mapping systems crm devices coming key launches feel excited given position given offering value proposition laa entering laa potential expansion indication cardiomems entering leadless pacemaker single chamber follow dual chamber entering tavr mean opportunities multibillion dollar segments working hard months ready position able capitalize underlying base pipeline heading direction changes anything acceleration talked days ago believe portion covid testing sustainable clear trend move towards rapid formats dominant producer rapid tests making wherever goes leader sure different components bob feel confident double digit thing different businesses probably thing try model probably different january mix businesses contribute double digit growth always ends differently terms plan double digit different versus set january history pretty consistent delivering caution guess already seem priced anything changed days perspective feel double digit conservative testing environment impact way things mean guess model start model different ways different parts elements explained difficult put assumption covid testing level required feel portion sustainable covid testing remained comes robbie marcus jpmorgan echo bob congratulations nice maybe follow robert love sense key topics touched double digit target eps growth part looks front loading expenses grew opex versus love meat bones terms road map double digit eps versus top line talked imply sort high operating margins high operating margin appear case regarding areas investment mean talked terms investments making bigger picture perspective want sure spending investing portion covid testing profits portion believe sustainable investment businesses devices diagnostics rapid diagnostics nutrition businesses opportunities invest clear programs build programs sustain growth beyond products mentioned whether ones launched quarters plus key areas entering drive growth already funded investments generation products diagnostics expansion portfolio devices lead launches sg side making sure supporting big growth products probably sg towards libre driving libre awareness growth international markets start ramp even throughout terms spend return top line making investments nutrition strengthen brand capitalize expansion especially adult nutrition side expanding footprint several device businesses clinical specialists sales force et cetera important able support expansion current products launch products helpful maybe quick follow interested hear devices commentary seeing exiting march april early feedback exit rates expecting terms catch helpful mean prepared comments mean saw nice recovery slowdown january nice pickup october november sorry october november saw procedure growth rates return growth december january saw decline cases increased saw real nice progression february growth march rob try try march tricky weeks things shut march versus versus march quite frankly whole versus actually growth rates higher pre pandemic rates saw real nice growth core lab positive saw double digit growth indicator routine testing coming hospitals saw double digit molecular diagnostic excluding covid pcr covid testing real positive sign strategy utilizing alinity launch covid build menu positive impact exit rate weeks april every week real nice progression bolus coming drop actually saw continued nice improvement structural heart ep even crm nice trend start opening europe area softer europe given shutdowns couple weeks europe pretty comes larry biegelsen wells fargo robert allocation favorite topic libre questions around important hit double digit eps growth target thoughts around allocation helping achieve eps buyback accretive deal something consider follow libre sure start every targeting double digit versus targeting double digit multiple ways terms mix et cetera balance sheet provides strategic flexibility try balanced approach larry terms balancing short long term investing providing return shareholders whether form dividend committed growing dividend important part identity repurchasing historically looked repurchasing offset dilution perspective always actively monitoring always actively always hear tip hand give competitive advantage something attractive something growth dilute top line growth profile best class better always interested always prudent deploying cash larry always keeping shareholders happy balancing long term short term internal external ceo versus prior ceo philosophy always abbott philosophy stewards stewards finding balance described helpful libre growth remainder comps easier talked aspirational goal latest libre launch europe give color certainly appreciated sure sure put goal growing mentioned comparison balance saw stocking international top pretty positive momentum effect reverse side becomes half sustain mid accelerate half believe portfolio momentum making investments whether field force whether direct consumer advertising around world significant investments building awareness category mean achieved surpassed users around world hey competitor reality penetration categories pretty significant plenty room invest grow commercial investments libre launched europe end want start usually small focused larry learn learn consumer learn hcp terms resonates learn manufacturing capabilities terms manufacture scale always learning curve platform learn insurance insurance switches things lined accelerate break strategic flexibility libre libre position feedback mean launched hcps close couple hundred patients tried reactions products extremely positive social media fluent german tell facial expression awesomeness coolness amazement factor videos patients using set whole standard every dimension size ease use accuracy alarm wear experience regarding libre frame answered provide details excited libre combination portfolio provides strategic flexibility comes vijay kumar evercore isi congrats printing robert want fiscal excluding contribution covid base looks organic versus pre pandemic levels math correct starting guess perhaps teens growth fiscal top line base vijay bob math spot around base saw portfolio businesses growth course rest particular medical device procedures improve base growth mid teens helpful guys antigen testing side saw press release yesterday launching asymptomatic consumer version guess revenues recognized recognized shipment early early demand retailers cvs walgreens walmart expectation fiscal unchanged remains unchanged difficult forecast tight range abbott forecast sales around level regarding regarding binax otc correct referring correct mean received approval several weeks ago immediately started manufacturing process different presentation previous binax test provide tests necessary consumables run tests started manufacturing began shipping literally yesterday retailers start cvs walgreens walmart retailers food merchants et cetera roll expand start manufacturing accelerating manufacturing ship booked asset transferred retailer opportunity channel diagnostic companies capacity manufacturing scale channel experience domain compete feel position start start initial stocking orders roll distribution given vijay opportunity households able testing hand ready house nice repeat purchase planning stocking robert comes matt miksic credit suisse quick pipeline opportunities around amulet cardiomems portugal provide maybe update programs secondly progression mitraclip device procedure impacted slowdown winter love sense trajectory looks heading couple amulet side listen experience category outside united states international markets filed fda late attractive approaching growing double digits amulet competitive current form investing part investments mentioned generations even current format performs experience europe believe segment initiated catalyst trial started trial late trial comparing amulet noac drugs currently standard treatment option people af risk stroke significant growth driver launch longer divulge probably frame shows commitment segment believe portfolio pipeline segment another mitraclip mitraclip impacted covid trajectory slowed icu beds hospitals moved towards treating covid growth mid teens prepared comments highest number procedures ever march catch looked procedures weeks april move positive making investments pipeline side versions mitraclip importantly development expand funnel patients treated creating patient referral networks cardiologists implanting centers done ncd approved january opens significant opportunity mitraclip remember maybe penetrated total available runway growth mitral space cardiomems file label expansion relatively soon significantly broaden opportunity plan pursue cms reimbursement obtain label expansion segment continues grow growth cardiomems north started recover pandemic position comes matt taylor ubs wanted idea double digit growth investments making called seen dtc stepping libre commercials guess investments sustainability historically thought abbott driving growth algorithm pre covid investments lead sustainable higher post covid organic growth quickly toggle environment changes quickly manage sure base side identity target sustaining growth rate pre covid investments making excluding comp probably higher end range mean factor maybe comparison base probably growing higher matt high end investments development portfolio development big portion covid cash flows profits part goes shareholders part goes flexibility toggle investment need mean probably list areas agreed steps opportunity invest exactly relates toggling mean toggling sustainable investment sustains growth rate easier toggle sg capabilities need follow diagnostics underlying growth called core lab molecular impressive wondering increased momentum underlying success covid diagnostics leverage larger installed base drive higher growth core diagnostic definitely elevated higher level partnership hospitals idns institutions relates covid testing large set accounts historically opportunity place instruments show core lab sure saw seeing strategy play molecular side seen growth rates molecular excluding covid long close excluding covid testing instruments placing getting test pull assays tests rapid side core lab perspective sustainability covid portion actual covid test portion installed base placing result talked building sustainability rapid testing channel beyond covid covid allowing example id instrument basically ceded opportunity much world outside covid placing instruments roughly boxes currently boxes almost quadrupled installed base productive covid testing perspective highest level pandemic probably productive assays installed base grow produce opportunity roll alinity platform core lab molecular side build rapid testing channel rapids comes joanne wuensch citibank put upfront give idea thinking remainder particularly questions covid diagnostic areas med tech starting support support high single digit growth rate anything add color neuromod vascular crm helpful sure growth rate diagnostic way least modeled let non covid diagnostic accelerate grow comps joanne producing mid teens growth numbers always least way managing always cagr growth rate seeing core lab cagr basically target able numbers covid testing difficult forecast give exact quarterly progression range given reiterate difficult exact calendarization exact mix exact geography terms covid testing though believe shift lab based pcr play role covid bigger role played rapid testing relates surveillance positioned regarding devices listen pleased crm saying completely turned around progression seeing launch icds crt ds gallant brand bluetooth capability europe numbers show picking ultimate measure excited ability enter leadless segment capabilities value proposition bring versus competitive systems done heart failure challenges probably probably slowest part device portfolio recover procedures require icu stays saw impact started pretty high around mid mostly condition cardiomems another opportunity saw growth covered device areas wanted hit hit neuromod slowdown trials towards end beginning saw start pick position recently launched remote programming monitoring system neurosphere create whole opportunity terms model terms ability service patients physicians better started roll applies scs dbs gotten feedback sequential improvement neuro lap comps neurosphere gets widely used nice pipeline products launching towards end comes josh jennings cowen congratulations wanted rob commentary potential pursue support need support double digit growth anything provide investors analysts terms areas focus mean thinking unit receive support acquisition specifically medical devices follow joanne thinking potential bolstering heart failure vascular neuromod softer businesses mean pipeline success internal development initiatives medical device area add lastly structural heart mean adding amulet portico near term thinking mentioned specialized sales force thinking individual sales teams mitraclip tavr left atrial appendage occlusion shape side hear thing always starts strategically strategic fit abbott position financial standpoint anything fit strategically fill eps want businesses grow operate fit always starts always starts strategic fit attractive timing areas mentioned areas areas mentioned diagnostics areas always studying always paying attention technologies companies et cetera tip hand give anything away terms competitive position regarding sales forces always depends tend viewpoint josh believe focused dedicated teams always best run businesses run businesses many many decades try bring things together sense sake synergies believe growth areas growth businesses fund growth growth areas quite frankly businesses talked structural heart areas high potential growth treat resource close saying set guidance least growth growth feel feel puts track achieve least multiple ways covid move towards rapid position segment covid testing unmatched capabilities scale et cetera believe portion tests covid testing remain least pleased pace recovery base abbott let non covid side making investments accelerate growth beyond talked feel position position questions concludes abbott webcast replay available central abbott relations website abbottinvestor com joining ladies gentlemen concludes participation disconnect everyone wonderful day'"
            ],
            "application/vnd.google.colaboratory.intrinsic+json": {
              "type": "string"
            }
          },
          "metadata": {},
          "execution_count": 29
        }
      ],
      "source": [
        "flatten_data = [' '.join(sub) for sub in data_words_nostops]\n",
        "flatten_data[0]"
      ]
    },
    {
      "cell_type": "code",
      "execution_count": null,
      "metadata": {
        "id": "DaqZVLZGL6lv"
      },
      "outputs": [],
      "source": [
        "# !pip install --upgrade joblib==1.1.0 # Little trick to downgrade your joblib while import BERTopic in Colab else it will throw joblib metadata error"
      ]
    },
    {
      "cell_type": "code",
      "execution_count": 32,
      "metadata": {
        "id": "SkYAVOwTK32U",
        "colab": {
          "base_uri": "https://localhost:8080/",
          "height": 219,
          "referenced_widgets": [
            "787b2fa313bf466dbddb05ab43c3a5d0",
            "b4bc316575fb48eaa5656eee8080be8f",
            "02d49ab8a07a4e1cb231799b2369ac52",
            "ff851aa95b1c4c82906ce1d97e5215c3",
            "36c4f1ebdbe647b491f19197f7d8242a",
            "676dc5799fe447c39f7b0118ae76d9ec",
            "0f391e6d48de452fb2d90c89f948914a",
            "c8a071db61e54595b4ee27bdbaaf6658",
            "a2759a798ed0451c87677094e36cc936",
            "20c130c9bc48461cb5c0e944211bdec6",
            "3ed03f68e21e4ad6ac9d3354afb90fd3"
          ]
        },
        "outputId": "a31a38cd-a6a0-46c2-9f19-00f3577c1755"
      },
      "outputs": [
        {
          "output_type": "stream",
          "name": "stderr",
          "text": [
            "2024-03-18 12:50:29,937 - BERTopic - Embedding - Transforming documents to embeddings.\n"
          ]
        },
        {
          "output_type": "display_data",
          "data": {
            "text/plain": [
              "Batches:   0%|          | 0/8 [00:00<?, ?it/s]"
            ],
            "application/vnd.jupyter.widget-view+json": {
              "version_major": 2,
              "version_minor": 0,
              "model_id": "787b2fa313bf466dbddb05ab43c3a5d0"
            }
          },
          "metadata": {}
        },
        {
          "output_type": "stream",
          "name": "stderr",
          "text": [
            "2024-03-18 12:51:31,467 - BERTopic - Embedding - Completed ✓\n",
            "2024-03-18 12:51:31,470 - BERTopic - Dimensionality - Fitting the dimensionality reduction algorithm\n",
            "2024-03-18 12:51:35,752 - BERTopic - Dimensionality - Completed ✓\n",
            "2024-03-18 12:51:35,755 - BERTopic - Cluster - Start clustering the reduced embeddings\n",
            "2024-03-18 12:51:35,773 - BERTopic - Cluster - Completed ✓\n",
            "2024-03-18 12:51:35,776 - BERTopic - Representation - Extracting topics from clusters using representation models.\n",
            "2024-03-18 12:51:37,435 - BERTopic - Representation - Completed ✓\n",
            "2024-03-18 12:51:37,437 - BERTopic - Topic reduction - Reducing number of topics\n",
            "2024-03-18 12:51:39,109 - BERTopic - Topic reduction - Reduced number of topics from 11 to 7\n"
          ]
        }
      ],
      "source": [
        "from bertopic import BERTopic\n",
        "model = BERTopic(verbose=True, min_topic_size= 10,nr_topics=7)\n",
        "topics, _ = model.fit_transform(flatten_data)"
      ]
    },
    {
      "cell_type": "code",
      "source": [
        "top_words = model.get_topic(1)\n",
        "print(top_words)"
      ],
      "metadata": {
        "colab": {
          "base_uri": "https://localhost:8080/"
        },
        "id": "Qcw3cTRxqERN",
        "outputId": "71a3bfed-7f4e-45bc-88d9-0779bbc78f4f"
      },
      "execution_count": 12,
      "outputs": [
        {
          "output_type": "stream",
          "name": "stdout",
          "text": [
            "[('go', 0.03569540836799916), ('cash', 0.028203463346111384), ('make', 0.024315127221620738), ('asset', 0.02425779212279445), ('low', 0.02286232284859017), ('debt', 0.021782472085567908), ('cost', 0.021338707804729885), ('say', 0.021100480878370097), ('project', 0.02092706584512893), ('high', 0.020807306082672023)]\n"
          ]
        }
      ]
    },
    {
      "cell_type": "code",
      "source": [
        "model.save(\"/content/drive/MyDrive/model_min_topic_size_10_nr_topics_7\")"
      ],
      "metadata": {
        "colab": {
          "base_uri": "https://localhost:8080/"
        },
        "id": "lYVulBaInz0i",
        "outputId": "40cb0617-700b-4722-b396-dcc4eda30842"
      },
      "execution_count": 34,
      "outputs": [
        {
          "output_type": "stream",
          "name": "stderr",
          "text": [
            "2024-03-18 12:54:25,491 - BERTopic - WARNING: When you use `pickle` to save/load a BERTopic model,please make sure that the environments in which you saveand load the model are **exactly** the same. The version of BERTopic,its dependencies, and python need to remain the same.\n"
          ]
        }
      ]
    },
    {
      "cell_type": "code",
      "source": [
        "model.save('/content/drive/MyDrive/BERTopic_model8')"
      ],
      "metadata": {
        "colab": {
          "base_uri": "https://localhost:8080/"
        },
        "id": "f_BTgO-9pqJo",
        "outputId": "209dd59c-bd44-4e93-ba21-d7284d41187e"
      },
      "execution_count": null,
      "outputs": [
        {
          "output_type": "stream",
          "name": "stderr",
          "text": [
            "2024-03-13 07:51:39,856 - BERTopic - WARNING: When you use `pickle` to save/load a BERTopic model,please make sure that the environments in which you saveand load the model are **exactly** the same. The version of BERTopic,its dependencies, and python need to remain the same.\n"
          ]
        }
      ]
    },
    {
      "cell_type": "code",
      "execution_count": 44,
      "metadata": {
        "id": "srlloNrsK2MY"
      },
      "outputs": [],
      "source": [
        "saved_model = BERTopic.load(\"/content/drive/MyDrive/model_min_topic_size_10_nr_topics_7\")"
      ]
    },
    {
      "cell_type": "markdown",
      "metadata": {
        "id": "01XtKwtsPxqk"
      },
      "source": [
        "## Visualization"
      ]
    },
    {
      "cell_type": "code",
      "execution_count": 33,
      "metadata": {
        "colab": {
          "base_uri": "https://localhost:8080/",
          "height": 617
        },
        "id": "8s6vnxM6MT1g",
        "outputId": "bca488e2-57e9-4ce5-9e9e-db98e10a04dc"
      },
      "outputs": [
        {
          "output_type": "display_data",
          "data": {
            "text/html": [
              "<html>\n",
              "<head><meta charset=\"utf-8\" /></head>\n",
              "<body>\n",
              "    <div>            <script src=\"https://cdnjs.cloudflare.com/ajax/libs/mathjax/2.7.5/MathJax.js?config=TeX-AMS-MML_SVG\"></script><script type=\"text/javascript\">if (window.MathJax && window.MathJax.Hub && window.MathJax.Hub.Config) {window.MathJax.Hub.Config({SVG: {font: \"STIX-Web\"}});}</script>                <script type=\"text/javascript\">window.PlotlyConfig = {MathJaxConfig: 'local'};</script>\n",
              "        <script charset=\"utf-8\" src=\"https://cdn.plot.ly/plotly-2.24.1.min.js\"></script>                <div id=\"3932f80b-c45d-44e1-bca4-05b6b758bc96\" class=\"plotly-graph-div\" style=\"height:600px; width:1200px;\"></div>            <script type=\"text/javascript\">                                    window.PLOTLYENV=window.PLOTLYENV || {};                                    if (document.getElementById(\"3932f80b-c45d-44e1-bca4-05b6b758bc96\")) {                    Plotly.newPlot(                        \"3932f80b-c45d-44e1-bca4-05b6b758bc96\",                        [{\"marker\":{\"color\":\"#D55E00\"},\"orientation\":\"h\",\"x\":[0.013131447566162467,0.013628303936211159,0.013866471353202016,0.013922718737039423,0.014669618281958799,0.01607375221006439,0.016746425118003956,0.017317613581992877,0.02097808554526566,0.022487248866127903],\"y\":[\"industry  \",\"end  \",\"higher  \",\"margin  \",\"flow  \",\"supply  \",\"cost  \",\"demand  \",\"growth  \",\"cash  \"],\"type\":\"bar\",\"xaxis\":\"x\",\"yaxis\":\"y\"},{\"marker\":{\"color\":\"#0072B2\"},\"orientation\":\"h\",\"x\":[0.01768367691213586,0.017868006442241437,0.01840710733292217,0.01895881927462209,0.020002805132345307,0.020190142685527625,0.02062649000397499,0.020975618381436547,0.021943980343617775,0.031390115889854055],\"y\":[\"investment  \",\"nii  \",\"deposits  \",\"loans  \",\"rates  \",\"higher  \",\"banking  \",\"loan  \",\"net  \",\"growth  \"],\"type\":\"bar\",\"xaxis\":\"x2\",\"yaxis\":\"y2\"},{\"marker\":{\"color\":\"#CC79A7\"},\"orientation\":\"h\",\"x\":[0.015722331079944116,0.016598007785657568,0.016606506552722385,0.01685855928495111,0.02004817955270623,0.020074670730972362,0.021418350969279285,0.024104446184494185,0.024273077559735654,0.028310244121459105],\"y\":[\"people  \",\"airline  \",\"max  \",\"airlines  \",\"customers  \",\"capacity  \",\"united  \",\"demand  \",\"travel  \",\"aircraft  \"],\"type\":\"bar\",\"xaxis\":\"x3\",\"yaxis\":\"y3\"},{\"marker\":{\"color\":\"#E69F00\"},\"orientation\":\"h\",\"x\":[0.01741259313036921,0.017431564810077956,0.01902985745743755,0.019743142774393756,0.02177824656960188,0.02272439365610478,0.025389512138145404,0.026296354484206336,0.03234530372083643,0.03641190469722497],\"y\":[\"spending  \",\"sales  \",\"care  \",\"card  \",\"health  \",\"stores  \",\"team  \",\"target  \",\"guests  \",\"growth  \"],\"type\":\"bar\",\"xaxis\":\"x4\",\"yaxis\":\"y4\"},{\"marker\":{\"color\":\"#56B4E9\"},\"orientation\":\"h\",\"x\":[0.016116440369529198,0.016409621803856786,0.016910563316341994,0.017784857159602267,0.01943373554133064,0.023205636115634205,0.02797286975262381,0.028025862003418715,0.03193328932316399,0.0348168653404207],\"y\":[\"basis  \",\"fastenal  \",\"medical  \",\"worldwide  \",\"impact  \",\"health  \",\"covid  \",\"sales  \",\"johnson  \",\"growth  \"],\"type\":\"bar\",\"xaxis\":\"x5\",\"yaxis\":\"y5\"},{\"marker\":{\"color\":\"#009E73\"},\"orientation\":\"h\",\"x\":[0.02298550400265069,0.022994576139904015,0.02332273768342228,0.02701622549929559,0.02908990485864829,0.030482591156664726,0.031660722484892934,0.037382726252205206,0.048302873370084036,0.05159497664191962],\"y\":[\"computing  \",\"growth  \",\"omniverse  \",\"software  \",\"center  \",\"gaming  \",\"world  \",\"data  \",\"ai  \",\"nvidia  \"],\"type\":\"bar\",\"xaxis\":\"x6\",\"yaxis\":\"y6\"}],                        {\"template\":{\"data\":{\"barpolar\":[{\"marker\":{\"line\":{\"color\":\"white\",\"width\":0.5},\"pattern\":{\"fillmode\":\"overlay\",\"size\":10,\"solidity\":0.2}},\"type\":\"barpolar\"}],\"bar\":[{\"error_x\":{\"color\":\"#2a3f5f\"},\"error_y\":{\"color\":\"#2a3f5f\"},\"marker\":{\"line\":{\"color\":\"white\",\"width\":0.5},\"pattern\":{\"fillmode\":\"overlay\",\"size\":10,\"solidity\":0.2}},\"type\":\"bar\"}],\"carpet\":[{\"aaxis\":{\"endlinecolor\":\"#2a3f5f\",\"gridcolor\":\"#C8D4E3\",\"linecolor\":\"#C8D4E3\",\"minorgridcolor\":\"#C8D4E3\",\"startlinecolor\":\"#2a3f5f\"},\"baxis\":{\"endlinecolor\":\"#2a3f5f\",\"gridcolor\":\"#C8D4E3\",\"linecolor\":\"#C8D4E3\",\"minorgridcolor\":\"#C8D4E3\",\"startlinecolor\":\"#2a3f5f\"},\"type\":\"carpet\"}],\"choropleth\":[{\"colorbar\":{\"outlinewidth\":0,\"ticks\":\"\"},\"type\":\"choropleth\"}],\"contourcarpet\":[{\"colorbar\":{\"outlinewidth\":0,\"ticks\":\"\"},\"type\":\"contourcarpet\"}],\"contour\":[{\"colorbar\":{\"outlinewidth\":0,\"ticks\":\"\"},\"colorscale\":[[0.0,\"#0d0887\"],[0.1111111111111111,\"#46039f\"],[0.2222222222222222,\"#7201a8\"],[0.3333333333333333,\"#9c179e\"],[0.4444444444444444,\"#bd3786\"],[0.5555555555555556,\"#d8576b\"],[0.6666666666666666,\"#ed7953\"],[0.7777777777777778,\"#fb9f3a\"],[0.8888888888888888,\"#fdca26\"],[1.0,\"#f0f921\"]],\"type\":\"contour\"}],\"heatmapgl\":[{\"colorbar\":{\"outlinewidth\":0,\"ticks\":\"\"},\"colorscale\":[[0.0,\"#0d0887\"],[0.1111111111111111,\"#46039f\"],[0.2222222222222222,\"#7201a8\"],[0.3333333333333333,\"#9c179e\"],[0.4444444444444444,\"#bd3786\"],[0.5555555555555556,\"#d8576b\"],[0.6666666666666666,\"#ed7953\"],[0.7777777777777778,\"#fb9f3a\"],[0.8888888888888888,\"#fdca26\"],[1.0,\"#f0f921\"]],\"type\":\"heatmapgl\"}],\"heatmap\":[{\"colorbar\":{\"outlinewidth\":0,\"ticks\":\"\"},\"colorscale\":[[0.0,\"#0d0887\"],[0.1111111111111111,\"#46039f\"],[0.2222222222222222,\"#7201a8\"],[0.3333333333333333,\"#9c179e\"],[0.4444444444444444,\"#bd3786\"],[0.5555555555555556,\"#d8576b\"],[0.6666666666666666,\"#ed7953\"],[0.7777777777777778,\"#fb9f3a\"],[0.8888888888888888,\"#fdca26\"],[1.0,\"#f0f921\"]],\"type\":\"heatmap\"}],\"histogram2dcontour\":[{\"colorbar\":{\"outlinewidth\":0,\"ticks\":\"\"},\"colorscale\":[[0.0,\"#0d0887\"],[0.1111111111111111,\"#46039f\"],[0.2222222222222222,\"#7201a8\"],[0.3333333333333333,\"#9c179e\"],[0.4444444444444444,\"#bd3786\"],[0.5555555555555556,\"#d8576b\"],[0.6666666666666666,\"#ed7953\"],[0.7777777777777778,\"#fb9f3a\"],[0.8888888888888888,\"#fdca26\"],[1.0,\"#f0f921\"]],\"type\":\"histogram2dcontour\"}],\"histogram2d\":[{\"colorbar\":{\"outlinewidth\":0,\"ticks\":\"\"},\"colorscale\":[[0.0,\"#0d0887\"],[0.1111111111111111,\"#46039f\"],[0.2222222222222222,\"#7201a8\"],[0.3333333333333333,\"#9c179e\"],[0.4444444444444444,\"#bd3786\"],[0.5555555555555556,\"#d8576b\"],[0.6666666666666666,\"#ed7953\"],[0.7777777777777778,\"#fb9f3a\"],[0.8888888888888888,\"#fdca26\"],[1.0,\"#f0f921\"]],\"type\":\"histogram2d\"}],\"histogram\":[{\"marker\":{\"pattern\":{\"fillmode\":\"overlay\",\"size\":10,\"solidity\":0.2}},\"type\":\"histogram\"}],\"mesh3d\":[{\"colorbar\":{\"outlinewidth\":0,\"ticks\":\"\"},\"type\":\"mesh3d\"}],\"parcoords\":[{\"line\":{\"colorbar\":{\"outlinewidth\":0,\"ticks\":\"\"}},\"type\":\"parcoords\"}],\"pie\":[{\"automargin\":true,\"type\":\"pie\"}],\"scatter3d\":[{\"line\":{\"colorbar\":{\"outlinewidth\":0,\"ticks\":\"\"}},\"marker\":{\"colorbar\":{\"outlinewidth\":0,\"ticks\":\"\"}},\"type\":\"scatter3d\"}],\"scattercarpet\":[{\"marker\":{\"colorbar\":{\"outlinewidth\":0,\"ticks\":\"\"}},\"type\":\"scattercarpet\"}],\"scattergeo\":[{\"marker\":{\"colorbar\":{\"outlinewidth\":0,\"ticks\":\"\"}},\"type\":\"scattergeo\"}],\"scattergl\":[{\"marker\":{\"colorbar\":{\"outlinewidth\":0,\"ticks\":\"\"}},\"type\":\"scattergl\"}],\"scattermapbox\":[{\"marker\":{\"colorbar\":{\"outlinewidth\":0,\"ticks\":\"\"}},\"type\":\"scattermapbox\"}],\"scatterpolargl\":[{\"marker\":{\"colorbar\":{\"outlinewidth\":0,\"ticks\":\"\"}},\"type\":\"scatterpolargl\"}],\"scatterpolar\":[{\"marker\":{\"colorbar\":{\"outlinewidth\":0,\"ticks\":\"\"}},\"type\":\"scatterpolar\"}],\"scatter\":[{\"fillpattern\":{\"fillmode\":\"overlay\",\"size\":10,\"solidity\":0.2},\"type\":\"scatter\"}],\"scatterternary\":[{\"marker\":{\"colorbar\":{\"outlinewidth\":0,\"ticks\":\"\"}},\"type\":\"scatterternary\"}],\"surface\":[{\"colorbar\":{\"outlinewidth\":0,\"ticks\":\"\"},\"colorscale\":[[0.0,\"#0d0887\"],[0.1111111111111111,\"#46039f\"],[0.2222222222222222,\"#7201a8\"],[0.3333333333333333,\"#9c179e\"],[0.4444444444444444,\"#bd3786\"],[0.5555555555555556,\"#d8576b\"],[0.6666666666666666,\"#ed7953\"],[0.7777777777777778,\"#fb9f3a\"],[0.8888888888888888,\"#fdca26\"],[1.0,\"#f0f921\"]],\"type\":\"surface\"}],\"table\":[{\"cells\":{\"fill\":{\"color\":\"#EBF0F8\"},\"line\":{\"color\":\"white\"}},\"header\":{\"fill\":{\"color\":\"#C8D4E3\"},\"line\":{\"color\":\"white\"}},\"type\":\"table\"}]},\"layout\":{\"annotationdefaults\":{\"arrowcolor\":\"#2a3f5f\",\"arrowhead\":0,\"arrowwidth\":1},\"autotypenumbers\":\"strict\",\"coloraxis\":{\"colorbar\":{\"outlinewidth\":0,\"ticks\":\"\"}},\"colorscale\":{\"diverging\":[[0,\"#8e0152\"],[0.1,\"#c51b7d\"],[0.2,\"#de77ae\"],[0.3,\"#f1b6da\"],[0.4,\"#fde0ef\"],[0.5,\"#f7f7f7\"],[0.6,\"#e6f5d0\"],[0.7,\"#b8e186\"],[0.8,\"#7fbc41\"],[0.9,\"#4d9221\"],[1,\"#276419\"]],\"sequential\":[[0.0,\"#0d0887\"],[0.1111111111111111,\"#46039f\"],[0.2222222222222222,\"#7201a8\"],[0.3333333333333333,\"#9c179e\"],[0.4444444444444444,\"#bd3786\"],[0.5555555555555556,\"#d8576b\"],[0.6666666666666666,\"#ed7953\"],[0.7777777777777778,\"#fb9f3a\"],[0.8888888888888888,\"#fdca26\"],[1.0,\"#f0f921\"]],\"sequentialminus\":[[0.0,\"#0d0887\"],[0.1111111111111111,\"#46039f\"],[0.2222222222222222,\"#7201a8\"],[0.3333333333333333,\"#9c179e\"],[0.4444444444444444,\"#bd3786\"],[0.5555555555555556,\"#d8576b\"],[0.6666666666666666,\"#ed7953\"],[0.7777777777777778,\"#fb9f3a\"],[0.8888888888888888,\"#fdca26\"],[1.0,\"#f0f921\"]]},\"colorway\":[\"#636efa\",\"#EF553B\",\"#00cc96\",\"#ab63fa\",\"#FFA15A\",\"#19d3f3\",\"#FF6692\",\"#B6E880\",\"#FF97FF\",\"#FECB52\"],\"font\":{\"color\":\"#2a3f5f\"},\"geo\":{\"bgcolor\":\"white\",\"lakecolor\":\"white\",\"landcolor\":\"white\",\"showlakes\":true,\"showland\":true,\"subunitcolor\":\"#C8D4E3\"},\"hoverlabel\":{\"align\":\"left\"},\"hovermode\":\"closest\",\"mapbox\":{\"style\":\"light\"},\"paper_bgcolor\":\"white\",\"plot_bgcolor\":\"white\",\"polar\":{\"angularaxis\":{\"gridcolor\":\"#EBF0F8\",\"linecolor\":\"#EBF0F8\",\"ticks\":\"\"},\"bgcolor\":\"white\",\"radialaxis\":{\"gridcolor\":\"#EBF0F8\",\"linecolor\":\"#EBF0F8\",\"ticks\":\"\"}},\"scene\":{\"xaxis\":{\"backgroundcolor\":\"white\",\"gridcolor\":\"#DFE8F3\",\"gridwidth\":2,\"linecolor\":\"#EBF0F8\",\"showbackground\":true,\"ticks\":\"\",\"zerolinecolor\":\"#EBF0F8\"},\"yaxis\":{\"backgroundcolor\":\"white\",\"gridcolor\":\"#DFE8F3\",\"gridwidth\":2,\"linecolor\":\"#EBF0F8\",\"showbackground\":true,\"ticks\":\"\",\"zerolinecolor\":\"#EBF0F8\"},\"zaxis\":{\"backgroundcolor\":\"white\",\"gridcolor\":\"#DFE8F3\",\"gridwidth\":2,\"linecolor\":\"#EBF0F8\",\"showbackground\":true,\"ticks\":\"\",\"zerolinecolor\":\"#EBF0F8\"}},\"shapedefaults\":{\"line\":{\"color\":\"#2a3f5f\"}},\"ternary\":{\"aaxis\":{\"gridcolor\":\"#DFE8F3\",\"linecolor\":\"#A2B1C6\",\"ticks\":\"\"},\"baxis\":{\"gridcolor\":\"#DFE8F3\",\"linecolor\":\"#A2B1C6\",\"ticks\":\"\"},\"bgcolor\":\"white\",\"caxis\":{\"gridcolor\":\"#DFE8F3\",\"linecolor\":\"#A2B1C6\",\"ticks\":\"\"}},\"title\":{\"x\":0.05},\"xaxis\":{\"automargin\":true,\"gridcolor\":\"#EBF0F8\",\"linecolor\":\"#EBF0F8\",\"ticks\":\"\",\"title\":{\"standoff\":15},\"zerolinecolor\":\"#EBF0F8\",\"zerolinewidth\":2},\"yaxis\":{\"automargin\":true,\"gridcolor\":\"#EBF0F8\",\"linecolor\":\"#EBF0F8\",\"ticks\":\"\",\"title\":{\"standoff\":15},\"zerolinecolor\":\"#EBF0F8\",\"zerolinewidth\":2}}},\"xaxis\":{\"anchor\":\"y\",\"domain\":[0.0,0.175],\"showgrid\":true},\"yaxis\":{\"anchor\":\"x\",\"domain\":[0.6000000000000001,1.0],\"showgrid\":true},\"xaxis2\":{\"anchor\":\"y2\",\"domain\":[0.275,0.45],\"showgrid\":true},\"yaxis2\":{\"anchor\":\"x2\",\"domain\":[0.6000000000000001,1.0],\"showgrid\":true},\"xaxis3\":{\"anchor\":\"y3\",\"domain\":[0.55,0.7250000000000001],\"showgrid\":true},\"yaxis3\":{\"anchor\":\"x3\",\"domain\":[0.6000000000000001,1.0],\"showgrid\":true},\"xaxis4\":{\"anchor\":\"y4\",\"domain\":[0.825,1.0],\"showgrid\":true},\"yaxis4\":{\"anchor\":\"x4\",\"domain\":[0.6000000000000001,1.0],\"showgrid\":true},\"xaxis5\":{\"anchor\":\"y5\",\"domain\":[0.0,0.175],\"showgrid\":true},\"yaxis5\":{\"anchor\":\"x5\",\"domain\":[0.0,0.4],\"showgrid\":true},\"xaxis6\":{\"anchor\":\"y6\",\"domain\":[0.275,0.45],\"showgrid\":true},\"yaxis6\":{\"anchor\":\"x6\",\"domain\":[0.0,0.4],\"showgrid\":true},\"xaxis7\":{\"anchor\":\"y7\",\"domain\":[0.55,0.7250000000000001],\"showgrid\":true},\"yaxis7\":{\"anchor\":\"x7\",\"domain\":[0.0,0.4],\"showgrid\":true},\"xaxis8\":{\"anchor\":\"y8\",\"domain\":[0.825,1.0],\"showgrid\":true},\"yaxis8\":{\"anchor\":\"x8\",\"domain\":[0.0,0.4],\"showgrid\":true},\"annotations\":[{\"font\":{\"size\":16},\"showarrow\":false,\"text\":\"Topic 0\",\"x\":0.0875,\"xanchor\":\"center\",\"xref\":\"paper\",\"y\":1.0,\"yanchor\":\"bottom\",\"yref\":\"paper\"},{\"font\":{\"size\":16},\"showarrow\":false,\"text\":\"Topic 1\",\"x\":0.36250000000000004,\"xanchor\":\"center\",\"xref\":\"paper\",\"y\":1.0,\"yanchor\":\"bottom\",\"yref\":\"paper\"},{\"font\":{\"size\":16},\"showarrow\":false,\"text\":\"Topic 2\",\"x\":0.6375000000000001,\"xanchor\":\"center\",\"xref\":\"paper\",\"y\":1.0,\"yanchor\":\"bottom\",\"yref\":\"paper\"},{\"font\":{\"size\":16},\"showarrow\":false,\"text\":\"Topic 3\",\"x\":0.9125,\"xanchor\":\"center\",\"xref\":\"paper\",\"y\":1.0,\"yanchor\":\"bottom\",\"yref\":\"paper\"},{\"font\":{\"size\":16},\"showarrow\":false,\"text\":\"Topic 4\",\"x\":0.0875,\"xanchor\":\"center\",\"xref\":\"paper\",\"y\":0.4,\"yanchor\":\"bottom\",\"yref\":\"paper\"},{\"font\":{\"size\":16},\"showarrow\":false,\"text\":\"Topic 5\",\"x\":0.36250000000000004,\"xanchor\":\"center\",\"xref\":\"paper\",\"y\":0.4,\"yanchor\":\"bottom\",\"yref\":\"paper\"}],\"title\":{\"font\":{\"size\":22,\"color\":\"Black\"},\"text\":\"Topic Word Scores\",\"x\":0.5,\"xanchor\":\"center\",\"yanchor\":\"top\"},\"hoverlabel\":{\"font\":{\"size\":16,\"family\":\"Rockwell\"},\"bgcolor\":\"white\"},\"showlegend\":false,\"width\":1200,\"height\":600},                        {\"responsive\": true}                    ).then(function(){\n",
              "                            \n",
              "var gd = document.getElementById('3932f80b-c45d-44e1-bca4-05b6b758bc96');\n",
              "var x = new MutationObserver(function (mutations, observer) {{\n",
              "        var display = window.getComputedStyle(gd).display;\n",
              "        if (!display || display === 'none') {{\n",
              "            console.log([gd, 'removed!']);\n",
              "            Plotly.purge(gd);\n",
              "            observer.disconnect();\n",
              "        }}\n",
              "}});\n",
              "\n",
              "// Listen for the removal of the full notebook cells\n",
              "var notebookContainer = gd.closest('#notebook-container');\n",
              "if (notebookContainer) {{\n",
              "    x.observe(notebookContainer, {childList: true});\n",
              "}}\n",
              "\n",
              "// Listen for the clearing of the current output cell\n",
              "var outputEl = gd.closest('.output');\n",
              "if (outputEl) {{\n",
              "    x.observe(outputEl, {childList: true});\n",
              "}}\n",
              "\n",
              "                        })                };                            </script>        </div>\n",
              "</body>\n",
              "</html>"
            ]
          },
          "metadata": {}
        }
      ],
      "source": [
        "model.visualize_barchart(n_words = 10,width = 300,height=300,top_n_topics=8)"
      ]
    },
    {
      "cell_type": "code",
      "execution_count": 37,
      "metadata": {
        "colab": {
          "base_uri": "https://localhost:8080/",
          "height": 817
        },
        "id": "5GYVzBUlMa7H",
        "outputId": "6b7a4693-08e3-4233-ba92-4b187296ffd1"
      },
      "outputs": [
        {
          "output_type": "display_data",
          "data": {
            "text/html": [
              "<html>\n",
              "<head><meta charset=\"utf-8\" /></head>\n",
              "<body>\n",
              "    <div>            <script src=\"https://cdnjs.cloudflare.com/ajax/libs/mathjax/2.7.5/MathJax.js?config=TeX-AMS-MML_SVG\"></script><script type=\"text/javascript\">if (window.MathJax && window.MathJax.Hub && window.MathJax.Hub.Config) {window.MathJax.Hub.Config({SVG: {font: \"STIX-Web\"}});}</script>                <script type=\"text/javascript\">window.PlotlyConfig = {MathJaxConfig: 'local'};</script>\n",
              "        <script charset=\"utf-8\" src=\"https://cdn.plot.ly/plotly-2.24.1.min.js\"></script>                <div id=\"f094b70e-0887-41b4-a1ad-fc1834012b5c\" class=\"plotly-graph-div\" style=\"height:800px; width:800px;\"></div>            <script type=\"text/javascript\">                                    window.PLOTLYENV=window.PLOTLYENV || {};                                    if (document.getElementById(\"f094b70e-0887-41b4-a1ad-fc1834012b5c\")) {                    Plotly.newPlot(                        \"f094b70e-0887-41b4-a1ad-fc1834012b5c\",                        [{\"coloraxis\":\"coloraxis\",\"name\":\"0\",\"x\":[\"0_cash_growth_demand\",\"1_growth_net_loan\",\"2_aircraft_travel_demand\",\"3_growth_guests_target\",\"4_growth_johnson_sales\",\"5_nvidia_ai_data\"],\"y\":[\"0_cash_growth_demand\",\"1_growth_net_loan\",\"2_aircraft_travel_demand\",\"3_growth_guests_target\",\"4_growth_johnson_sales\",\"5_nvidia_ai_data\"],\"z\":[[0.9999999999999994,0.8743566443470961,0.7428542498233528,0.8336207443848963,0.8105773974933808,0.704384336087629],[0.8743566443470961,1.0000000000000004,0.6674878880610242,0.822944920720953,0.7570531557739442,0.7117930334333868],[0.7428542498233528,0.6674878880610242,1.0000000000000009,0.6984013400525451,0.6740094653142854,0.5878206292389743],[0.8336207443848963,0.822944920720953,0.6984013400525451,1.0000000000000007,0.7600757482014711,0.7125465919277414],[0.8105773974933808,0.7570531557739442,0.6740094653142854,0.7600757482014711,1.0000000000000009,0.7007995874772319],[0.704384336087629,0.7117930334333868,0.5878206292389743,0.7125465919277414,0.7007995874772319,1.0000000000000009]],\"type\":\"heatmap\",\"xaxis\":\"x\",\"yaxis\":\"y\",\"hovertemplate\":\"x: %{x}\\u003cbr\\u003ey: %{y}\\u003cbr\\u003eSimilarity Score: %{z}\\u003cextra\\u003e\\u003c\\u002fextra\\u003e\"}],                        {\"template\":{\"data\":{\"histogram2dcontour\":[{\"type\":\"histogram2dcontour\",\"colorbar\":{\"outlinewidth\":0,\"ticks\":\"\"},\"colorscale\":[[0.0,\"#0d0887\"],[0.1111111111111111,\"#46039f\"],[0.2222222222222222,\"#7201a8\"],[0.3333333333333333,\"#9c179e\"],[0.4444444444444444,\"#bd3786\"],[0.5555555555555556,\"#d8576b\"],[0.6666666666666666,\"#ed7953\"],[0.7777777777777778,\"#fb9f3a\"],[0.8888888888888888,\"#fdca26\"],[1.0,\"#f0f921\"]]}],\"choropleth\":[{\"type\":\"choropleth\",\"colorbar\":{\"outlinewidth\":0,\"ticks\":\"\"}}],\"histogram2d\":[{\"type\":\"histogram2d\",\"colorbar\":{\"outlinewidth\":0,\"ticks\":\"\"},\"colorscale\":[[0.0,\"#0d0887\"],[0.1111111111111111,\"#46039f\"],[0.2222222222222222,\"#7201a8\"],[0.3333333333333333,\"#9c179e\"],[0.4444444444444444,\"#bd3786\"],[0.5555555555555556,\"#d8576b\"],[0.6666666666666666,\"#ed7953\"],[0.7777777777777778,\"#fb9f3a\"],[0.8888888888888888,\"#fdca26\"],[1.0,\"#f0f921\"]]}],\"heatmap\":[{\"type\":\"heatmap\",\"colorbar\":{\"outlinewidth\":0,\"ticks\":\"\"},\"colorscale\":[[0.0,\"#0d0887\"],[0.1111111111111111,\"#46039f\"],[0.2222222222222222,\"#7201a8\"],[0.3333333333333333,\"#9c179e\"],[0.4444444444444444,\"#bd3786\"],[0.5555555555555556,\"#d8576b\"],[0.6666666666666666,\"#ed7953\"],[0.7777777777777778,\"#fb9f3a\"],[0.8888888888888888,\"#fdca26\"],[1.0,\"#f0f921\"]]}],\"heatmapgl\":[{\"type\":\"heatmapgl\",\"colorbar\":{\"outlinewidth\":0,\"ticks\":\"\"},\"colorscale\":[[0.0,\"#0d0887\"],[0.1111111111111111,\"#46039f\"],[0.2222222222222222,\"#7201a8\"],[0.3333333333333333,\"#9c179e\"],[0.4444444444444444,\"#bd3786\"],[0.5555555555555556,\"#d8576b\"],[0.6666666666666666,\"#ed7953\"],[0.7777777777777778,\"#fb9f3a\"],[0.8888888888888888,\"#fdca26\"],[1.0,\"#f0f921\"]]}],\"contourcarpet\":[{\"type\":\"contourcarpet\",\"colorbar\":{\"outlinewidth\":0,\"ticks\":\"\"}}],\"contour\":[{\"type\":\"contour\",\"colorbar\":{\"outlinewidth\":0,\"ticks\":\"\"},\"colorscale\":[[0.0,\"#0d0887\"],[0.1111111111111111,\"#46039f\"],[0.2222222222222222,\"#7201a8\"],[0.3333333333333333,\"#9c179e\"],[0.4444444444444444,\"#bd3786\"],[0.5555555555555556,\"#d8576b\"],[0.6666666666666666,\"#ed7953\"],[0.7777777777777778,\"#fb9f3a\"],[0.8888888888888888,\"#fdca26\"],[1.0,\"#f0f921\"]]}],\"surface\":[{\"type\":\"surface\",\"colorbar\":{\"outlinewidth\":0,\"ticks\":\"\"},\"colorscale\":[[0.0,\"#0d0887\"],[0.1111111111111111,\"#46039f\"],[0.2222222222222222,\"#7201a8\"],[0.3333333333333333,\"#9c179e\"],[0.4444444444444444,\"#bd3786\"],[0.5555555555555556,\"#d8576b\"],[0.6666666666666666,\"#ed7953\"],[0.7777777777777778,\"#fb9f3a\"],[0.8888888888888888,\"#fdca26\"],[1.0,\"#f0f921\"]]}],\"mesh3d\":[{\"type\":\"mesh3d\",\"colorbar\":{\"outlinewidth\":0,\"ticks\":\"\"}}],\"scatter\":[{\"fillpattern\":{\"fillmode\":\"overlay\",\"size\":10,\"solidity\":0.2},\"type\":\"scatter\"}],\"parcoords\":[{\"type\":\"parcoords\",\"line\":{\"colorbar\":{\"outlinewidth\":0,\"ticks\":\"\"}}}],\"scatterpolargl\":[{\"type\":\"scatterpolargl\",\"marker\":{\"colorbar\":{\"outlinewidth\":0,\"ticks\":\"\"}}}],\"bar\":[{\"error_x\":{\"color\":\"#2a3f5f\"},\"error_y\":{\"color\":\"#2a3f5f\"},\"marker\":{\"line\":{\"color\":\"#E5ECF6\",\"width\":0.5},\"pattern\":{\"fillmode\":\"overlay\",\"size\":10,\"solidity\":0.2}},\"type\":\"bar\"}],\"scattergeo\":[{\"type\":\"scattergeo\",\"marker\":{\"colorbar\":{\"outlinewidth\":0,\"ticks\":\"\"}}}],\"scatterpolar\":[{\"type\":\"scatterpolar\",\"marker\":{\"colorbar\":{\"outlinewidth\":0,\"ticks\":\"\"}}}],\"histogram\":[{\"marker\":{\"pattern\":{\"fillmode\":\"overlay\",\"size\":10,\"solidity\":0.2}},\"type\":\"histogram\"}],\"scattergl\":[{\"type\":\"scattergl\",\"marker\":{\"colorbar\":{\"outlinewidth\":0,\"ticks\":\"\"}}}],\"scatter3d\":[{\"type\":\"scatter3d\",\"line\":{\"colorbar\":{\"outlinewidth\":0,\"ticks\":\"\"}},\"marker\":{\"colorbar\":{\"outlinewidth\":0,\"ticks\":\"\"}}}],\"scattermapbox\":[{\"type\":\"scattermapbox\",\"marker\":{\"colorbar\":{\"outlinewidth\":0,\"ticks\":\"\"}}}],\"scatterternary\":[{\"type\":\"scatterternary\",\"marker\":{\"colorbar\":{\"outlinewidth\":0,\"ticks\":\"\"}}}],\"scattercarpet\":[{\"type\":\"scattercarpet\",\"marker\":{\"colorbar\":{\"outlinewidth\":0,\"ticks\":\"\"}}}],\"carpet\":[{\"aaxis\":{\"endlinecolor\":\"#2a3f5f\",\"gridcolor\":\"white\",\"linecolor\":\"white\",\"minorgridcolor\":\"white\",\"startlinecolor\":\"#2a3f5f\"},\"baxis\":{\"endlinecolor\":\"#2a3f5f\",\"gridcolor\":\"white\",\"linecolor\":\"white\",\"minorgridcolor\":\"white\",\"startlinecolor\":\"#2a3f5f\"},\"type\":\"carpet\"}],\"table\":[{\"cells\":{\"fill\":{\"color\":\"#EBF0F8\"},\"line\":{\"color\":\"white\"}},\"header\":{\"fill\":{\"color\":\"#C8D4E3\"},\"line\":{\"color\":\"white\"}},\"type\":\"table\"}],\"barpolar\":[{\"marker\":{\"line\":{\"color\":\"#E5ECF6\",\"width\":0.5},\"pattern\":{\"fillmode\":\"overlay\",\"size\":10,\"solidity\":0.2}},\"type\":\"barpolar\"}],\"pie\":[{\"automargin\":true,\"type\":\"pie\"}]},\"layout\":{\"autotypenumbers\":\"strict\",\"colorway\":[\"#636efa\",\"#EF553B\",\"#00cc96\",\"#ab63fa\",\"#FFA15A\",\"#19d3f3\",\"#FF6692\",\"#B6E880\",\"#FF97FF\",\"#FECB52\"],\"font\":{\"color\":\"#2a3f5f\"},\"hovermode\":\"closest\",\"hoverlabel\":{\"align\":\"left\"},\"paper_bgcolor\":\"white\",\"plot_bgcolor\":\"#E5ECF6\",\"polar\":{\"bgcolor\":\"#E5ECF6\",\"angularaxis\":{\"gridcolor\":\"white\",\"linecolor\":\"white\",\"ticks\":\"\"},\"radialaxis\":{\"gridcolor\":\"white\",\"linecolor\":\"white\",\"ticks\":\"\"}},\"ternary\":{\"bgcolor\":\"#E5ECF6\",\"aaxis\":{\"gridcolor\":\"white\",\"linecolor\":\"white\",\"ticks\":\"\"},\"baxis\":{\"gridcolor\":\"white\",\"linecolor\":\"white\",\"ticks\":\"\"},\"caxis\":{\"gridcolor\":\"white\",\"linecolor\":\"white\",\"ticks\":\"\"}},\"coloraxis\":{\"colorbar\":{\"outlinewidth\":0,\"ticks\":\"\"}},\"colorscale\":{\"sequential\":[[0.0,\"#0d0887\"],[0.1111111111111111,\"#46039f\"],[0.2222222222222222,\"#7201a8\"],[0.3333333333333333,\"#9c179e\"],[0.4444444444444444,\"#bd3786\"],[0.5555555555555556,\"#d8576b\"],[0.6666666666666666,\"#ed7953\"],[0.7777777777777778,\"#fb9f3a\"],[0.8888888888888888,\"#fdca26\"],[1.0,\"#f0f921\"]],\"sequentialminus\":[[0.0,\"#0d0887\"],[0.1111111111111111,\"#46039f\"],[0.2222222222222222,\"#7201a8\"],[0.3333333333333333,\"#9c179e\"],[0.4444444444444444,\"#bd3786\"],[0.5555555555555556,\"#d8576b\"],[0.6666666666666666,\"#ed7953\"],[0.7777777777777778,\"#fb9f3a\"],[0.8888888888888888,\"#fdca26\"],[1.0,\"#f0f921\"]],\"diverging\":[[0,\"#8e0152\"],[0.1,\"#c51b7d\"],[0.2,\"#de77ae\"],[0.3,\"#f1b6da\"],[0.4,\"#fde0ef\"],[0.5,\"#f7f7f7\"],[0.6,\"#e6f5d0\"],[0.7,\"#b8e186\"],[0.8,\"#7fbc41\"],[0.9,\"#4d9221\"],[1,\"#276419\"]]},\"xaxis\":{\"gridcolor\":\"white\",\"linecolor\":\"white\",\"ticks\":\"\",\"title\":{\"standoff\":15},\"zerolinecolor\":\"white\",\"automargin\":true,\"zerolinewidth\":2},\"yaxis\":{\"gridcolor\":\"white\",\"linecolor\":\"white\",\"ticks\":\"\",\"title\":{\"standoff\":15},\"zerolinecolor\":\"white\",\"automargin\":true,\"zerolinewidth\":2},\"scene\":{\"xaxis\":{\"backgroundcolor\":\"#E5ECF6\",\"gridcolor\":\"white\",\"linecolor\":\"white\",\"showbackground\":true,\"ticks\":\"\",\"zerolinecolor\":\"white\",\"gridwidth\":2},\"yaxis\":{\"backgroundcolor\":\"#E5ECF6\",\"gridcolor\":\"white\",\"linecolor\":\"white\",\"showbackground\":true,\"ticks\":\"\",\"zerolinecolor\":\"white\",\"gridwidth\":2},\"zaxis\":{\"backgroundcolor\":\"#E5ECF6\",\"gridcolor\":\"white\",\"linecolor\":\"white\",\"showbackground\":true,\"ticks\":\"\",\"zerolinecolor\":\"white\",\"gridwidth\":2}},\"shapedefaults\":{\"line\":{\"color\":\"#2a3f5f\"}},\"annotationdefaults\":{\"arrowcolor\":\"#2a3f5f\",\"arrowhead\":0,\"arrowwidth\":1},\"geo\":{\"bgcolor\":\"white\",\"landcolor\":\"#E5ECF6\",\"subunitcolor\":\"white\",\"showland\":true,\"showlakes\":true,\"lakecolor\":\"white\"},\"title\":{\"x\":0.05},\"mapbox\":{\"style\":\"light\"}}},\"xaxis\":{\"anchor\":\"y\",\"domain\":[0.0,1.0],\"scaleanchor\":\"y\",\"constrain\":\"domain\"},\"yaxis\":{\"anchor\":\"x\",\"domain\":[0.0,1.0],\"autorange\":\"reversed\",\"constrain\":\"domain\"},\"coloraxis\":{\"colorbar\":{\"title\":{\"text\":\"Similarity Score\"}},\"colorscale\":[[0.0,\"rgb(247,252,240)\"],[0.125,\"rgb(224,243,219)\"],[0.25,\"rgb(204,235,197)\"],[0.375,\"rgb(168,221,181)\"],[0.5,\"rgb(123,204,196)\"],[0.625,\"rgb(78,179,211)\"],[0.75,\"rgb(43,140,190)\"],[0.875,\"rgb(8,104,172)\"],[1.0,\"rgb(8,64,129)\"]]},\"margin\":{\"t\":60},\"title\":{\"font\":{\"size\":22,\"color\":\"Black\"},\"text\":\"\\u003cb\\u003eSimilarity Matrix\\u003c\\u002fb\\u003e\",\"y\":0.95,\"x\":0.55,\"xanchor\":\"center\",\"yanchor\":\"top\"},\"hoverlabel\":{\"font\":{\"size\":16,\"family\":\"Rockwell\"},\"bgcolor\":\"white\"},\"width\":800,\"height\":800,\"showlegend\":true,\"legend\":{\"title\":{\"text\":\"Trend\"}}},                        {\"responsive\": true}                    ).then(function(){\n",
              "                            \n",
              "var gd = document.getElementById('f094b70e-0887-41b4-a1ad-fc1834012b5c');\n",
              "var x = new MutationObserver(function (mutations, observer) {{\n",
              "        var display = window.getComputedStyle(gd).display;\n",
              "        if (!display || display === 'none') {{\n",
              "            console.log([gd, 'removed!']);\n",
              "            Plotly.purge(gd);\n",
              "            observer.disconnect();\n",
              "        }}\n",
              "}});\n",
              "\n",
              "// Listen for the removal of the full notebook cells\n",
              "var notebookContainer = gd.closest('#notebook-container');\n",
              "if (notebookContainer) {{\n",
              "    x.observe(notebookContainer, {childList: true});\n",
              "}}\n",
              "\n",
              "// Listen for the clearing of the current output cell\n",
              "var outputEl = gd.closest('.output');\n",
              "if (outputEl) {{\n",
              "    x.observe(outputEl, {childList: true});\n",
              "}}\n",
              "\n",
              "                        })                };                            </script>        </div>\n",
              "</body>\n",
              "</html>"
            ]
          },
          "metadata": {}
        }
      ],
      "source": [
        "model.visualize_heatmap()"
      ]
    },
    {
      "cell_type": "code",
      "execution_count": 37,
      "metadata": {
        "id": "0Zk4_r3tMhZt"
      },
      "outputs": [],
      "source": []
    },
    {
      "cell_type": "code",
      "source": [
        "# model2.visualize_barchart(n_words = 10,width = 300,height=300,top_n_topics=5)"
      ],
      "metadata": {
        "id": "1TzQ6cXJ0qS2"
      },
      "execution_count": null,
      "outputs": []
    },
    {
      "cell_type": "markdown",
      "metadata": {
        "id": "Za017omFMzJL"
      },
      "source": [
        "Saving the topics to save time while demo session"
      ]
    },
    {
      "cell_type": "code",
      "execution_count": 52,
      "metadata": {
        "id": "C_u2LK0gMvjz"
      },
      "outputs": [],
      "source": [
        "import numpy as np\n",
        "np_topics = np.array(topics)\n",
        "\n",
        "# Saving the topic array to local\n",
        "# np.save(\"drive/MyDrive/topics_arr\",np_topics)\n",
        "\n",
        "# Loading the topic array from local\n",
        "# topics = np.load(\"content/drive/MyDrive/topics_arr.npy\")\n",
        "topics = np_topics.tolist()"
      ]
    },
    {
      "cell_type": "code",
      "execution_count": 53,
      "metadata": {
        "id": "UQdvnzBqNVe-"
      },
      "outputs": [],
      "source": [
        "documents = pd.DataFrame({\"Transcript\": flatten_data,\n",
        "                          \"ID\": range(len(flatten_data)),\n",
        "                          \"Topic\": topics})\n",
        "documents_per_topic = documents.groupby(['Topic'], as_index=False).agg({'Transcript': ' '.join})\n",
        "cleaned_docs = saved_model._preprocess_text(documents_per_topic.Transcript.values)"
      ]
    },
    {
      "cell_type": "code",
      "execution_count": 54,
      "metadata": {
        "id": "Yr_3bs9SNopZ"
      },
      "outputs": [],
      "source": [
        "# Extract vectorizer and analyzer from BERTopic\n",
        "vectorizer = saved_model.vectorizer_model\n",
        "analyzer = vectorizer.build_analyzer()"
      ]
    },
    {
      "cell_type": "code",
      "execution_count": 55,
      "metadata": {
        "id": "d6dQNyjKNsZw"
      },
      "outputs": [],
      "source": [
        "import gensim.corpora as corpora\n",
        "# Extract features for Topic Coherence evaluation\n",
        "words = vectorizer.get_feature_names_out()\n",
        "tokens = [analyzer(doc) for doc in cleaned_docs]\n",
        "dictionary = corpora.Dictionary(tokens)\n",
        "corpus = [dictionary.doc2bow(token) for token in tokens]\n",
        "topic_words = [[words for words, _ in saved_model.get_topic(topic)]\n",
        "               for topic in range(len(set(topics))-1)]"
      ]
    },
    {
      "cell_type": "markdown",
      "metadata": {
        "id": "uEYtK71oN4rq"
      },
      "source": [
        "## Evaluation"
      ]
    },
    {
      "cell_type": "code",
      "execution_count": 56,
      "metadata": {
        "id": "ImkK8PfUNvWj"
      },
      "outputs": [],
      "source": [
        "from gensim.models.coherencemodel import CoherenceModel\n",
        "# Evaluate\n",
        "coherence_model = CoherenceModel(topics=topic_words,\n",
        "                                 texts=tokens,\n",
        "                                 corpus=corpus,\n",
        "                                 dictionary=dictionary,\n",
        "                                 coherence='c_v')\n",
        "coherence = coherence_model.get_coherence()"
      ]
    },
    {
      "cell_type": "code",
      "execution_count": 58,
      "metadata": {
        "colab": {
          "base_uri": "https://localhost:8080/"
        },
        "id": "6ne87y-oNyHh",
        "outputId": "6200eafe-7330-4fa0-c364-fa3c7e3fa3b8"
      },
      "outputs": [
        {
          "output_type": "stream",
          "name": "stdout",
          "text": [
            "0.571279689526497\n"
          ]
        }
      ],
      "source": [
        "print(coherence)"
      ]
    },
    {
      "cell_type": "markdown",
      "metadata": {
        "id": "Wx3YyDTTLKiD"
      },
      "source": [
        "# Top2Vec"
      ]
    },
    {
      "cell_type": "code",
      "execution_count": null,
      "metadata": {
        "colab": {
          "base_uri": "https://localhost:8080/"
        },
        "id": "XRtW8XKm57Bv",
        "outputId": "94f1f52f-1d58-4494-897b-44abcd1c7eb7"
      },
      "outputs": [
        {
          "name": "stderr",
          "output_type": "stream",
          "text": [
            "2023-03-20 16:28:58,025 - top2vec - INFO - Pre-processing documents for training\n",
            "INFO:top2vec:Pre-processing documents for training\n",
            "2023-03-20 16:29:05,043 - top2vec - INFO - Creating joint document/word embedding\n",
            "INFO:top2vec:Creating joint document/word embedding\n",
            "2023-03-20 16:39:24,780 - top2vec - INFO - Creating lower dimension embedding of documents\n",
            "INFO:top2vec:Creating lower dimension embedding of documents\n",
            "2023-03-20 16:39:27,601 - top2vec - INFO - Finding dense areas of documents\n",
            "INFO:top2vec:Finding dense areas of documents\n",
            "2023-03-20 16:39:27,621 - top2vec - INFO - Finding topics\n",
            "INFO:top2vec:Finding topics\n"
          ]
        }
      ],
      "source": [
        "from top2vec import Top2Vec\n",
        "model2 = Top2Vec(flatten_data,topic_merge_delta=0.6,hdbscan_args={'min_cluster_size':7},workers=8)"
      ]
    },
    {
      "cell_type": "code",
      "execution_count": null,
      "metadata": {
        "id": "IZiOHeRs8vZT"
      },
      "outputs": [],
      "source": [
        "model2.get_num_topics()"
      ]
    },
    {
      "cell_type": "code",
      "execution_count": null,
      "metadata": {
        "id": "ZjoOAO-3833D"
      },
      "outputs": [],
      "source": [
        "model2.topic_words"
      ]
    },
    {
      "cell_type": "markdown",
      "metadata": {
        "id": "1fZc5VUm1iiP"
      },
      "source": [
        "Save the model to avoid re-training"
      ]
    },
    {
      "cell_type": "code",
      "execution_count": null,
      "metadata": {
        "id": "tgFEIWV0ypCe"
      },
      "outputs": [],
      "source": [
        "model2.save(\"Top2Vec_model\")"
      ]
    },
    {
      "cell_type": "markdown",
      "metadata": {
        "id": "XcBucnXI1tHn"
      },
      "source": [
        "Load the saved model"
      ]
    },
    {
      "cell_type": "code",
      "execution_count": null,
      "metadata": {
        "id": "lq0VopgHbBlh"
      },
      "outputs": [],
      "source": [
        "from top2vec import Top2Vec\n",
        "model = Top2Vec.load(\"drive/MyDrive/Top2Vec_model\")"
      ]
    },
    {
      "cell_type": "markdown",
      "metadata": {
        "id": "VJS4tNWm2Np8"
      },
      "source": [
        "### Visualization"
      ]
    },
    {
      "cell_type": "code",
      "execution_count": null,
      "metadata": {
        "id": "Ja1KxuXXy_U9"
      },
      "outputs": [],
      "source": [
        "import seaborn as sns\n",
        "from matplotlib import pyplot as plt\n",
        "import numpy as np\n",
        "import colorcet as cc\n",
        "import random\n",
        "\n",
        "sns.set_palette(\"bright\")\n",
        "palette = sns.color_palette(cc.glasbey, n_colors=25)"
      ]
    },
    {
      "cell_type": "code",
      "execution_count": null,
      "metadata": {
        "id": "XAUX01ED0A4x"
      },
      "outputs": [],
      "source": [
        "color = ['tomato','lime','mediumblue','crimson','gold','aqua','chocolate','darkorange','purple','red']"
      ]
    },
    {
      "cell_type": "code",
      "execution_count": null,
      "metadata": {
        "id": "8jq38YsYy910"
      },
      "outputs": [],
      "source": [
        "def show_bar_chart(topics_words,word_scores,no_of_words=5,no_of_topics=10):\n",
        "  fig, axes = plt.subplots(2, 5,figsize=(25, 10))\n",
        "  #plt.title(\"Topic word scores\")\n",
        "  row = 0\n",
        "  column = 0\n",
        "  for i in range(no_of_topics):\n",
        "    #color = (np.random.random(), np.random.random(), np.random.random())\n",
        "    sns.barplot(y = topics_words[i][:no_of_words],x = word_scores[i][:no_of_words],ax=axes[row,column],orient='h',color=color[i])\n",
        "    if (column == 4):\n",
        "      row += 1\n",
        "      column = 0\n",
        "    else:\n",
        "      column += 1\n",
        "  plt.show()\n"
      ]
    },
    {
      "cell_type": "code",
      "execution_count": null,
      "metadata": {
        "id": "zC5aGTYEq_VG"
      },
      "outputs": [],
      "source": [
        "topics_words, word_scores, topic_nums = model.get_topics(10)"
      ]
    },
    {
      "cell_type": "code",
      "execution_count": null,
      "metadata": {
        "colab": {
          "base_uri": "https://localhost:8080/",
          "height": 571
        },
        "id": "URRwui8H00kP",
        "outputId": "95a6262c-2761-4f4c-e8fb-f25daa1d7213"
      },
      "outputs": [
        {
          "data": {
            "image/png": "[encoded data removed]",
            "text/plain": [
              "<Figure size 1800x720 with 10 Axes>"
            ]
          },
          "metadata": {
            "needs_background": "light"
          },
          "output_type": "display_data"
        }
      ],
      "source": [
        "show_bar_chart(topics_words,word_scores,no_of_words=5,no_of_topics=10)"
      ]
    },
    {
      "cell_type": "markdown",
      "metadata": {
        "id": "2WEnke8s12Is"
      },
      "source": [
        "### Exploring the model results"
      ]
    },
    {
      "cell_type": "code",
      "execution_count": null,
      "metadata": {
        "id": "6RmHpk-j21Bw"
      },
      "outputs": [],
      "source": [
        "doc_topics = model.doc_top"
      ]
    },
    {
      "cell_type": "code",
      "execution_count": null,
      "metadata": {
        "colab": {
          "base_uri": "https://localhost:8080/"
        },
        "id": "LoSqznPs3Byd",
        "outputId": "4d21879a-59d4-4b2c-9d92-cf7510d7509c"
      },
      "outputs": [
        {
          "data": {
            "text/plain": [
              "701"
            ]
          },
          "execution_count": 22,
          "metadata": {},
          "output_type": "execute_result"
        }
      ],
      "source": [
        "len(doc_topics)"
      ]
    },
    {
      "cell_type": "code",
      "execution_count": null,
      "metadata": {
        "colab": {
          "base_uri": "https://localhost:8080/",
          "height": 206
        },
        "id": "NUrYGmh2tIrt",
        "outputId": "fd4f3cea-e682-44c2-c49b-d97724c8506b"
      },
      "outputs": [
        {
          "data": {
            "text/html": [
              "\n",
              "  <div id=\"df-b1a199f9-9c54-4981-b73a-36e8c44c5615\">\n",
              "    <div class=\"colab-df-container\">\n",
              "      <div>\n",
              "<style scoped>\n",
              "    .dataframe tbody tr th:only-of-type {\n",
              "        vertical-align: middle;\n",
              "    }\n",
              "\n",
              "    .dataframe tbody tr th {\n",
              "        vertical-align: top;\n",
              "    }\n",
              "\n",
              "    .dataframe thead th {\n",
              "        text-align: right;\n",
              "    }\n",
              "</style>\n",
              "<table border=\"1\" class=\"dataframe\">\n",
              "  <thead>\n",
              "    <tr style=\"text-align: right;\">\n",
              "      <th></th>\n",
              "      <th>Call</th>\n",
              "      <th>Text</th>\n",
              "      <th>Topic</th>\n",
              "    </tr>\n",
              "  </thead>\n",
              "  <tbody>\n",
              "    <tr>\n",
              "      <th>0</th>\n",
              "      <td>Abbott Laboratories, Q1 2018 Earnings Call, Ap...</td>\n",
              "      <td>good morning and thank you for joining us with...</td>\n",
              "      <td>13</td>\n",
              "    </tr>\n",
              "    <tr>\n",
              "      <th>1</th>\n",
              "      <td>Abbott Laboratories, Q1 2019 Earnings Call, Ap...</td>\n",
              "      <td>good morning and thank you for joining us with...</td>\n",
              "      <td>13</td>\n",
              "    </tr>\n",
              "    <tr>\n",
              "      <th>2</th>\n",
              "      <td>Abbott Laboratories, Q1 2020 Earnings Call, Ap...</td>\n",
              "      <td>good morning and thank you for joining us with...</td>\n",
              "      <td>13</td>\n",
              "    </tr>\n",
              "    <tr>\n",
              "      <th>3</th>\n",
              "      <td>Abbott Laboratories, Q1 2021 Earnings Call, Ap...</td>\n",
              "      <td>good morning and thank you for joining us with...</td>\n",
              "      <td>13</td>\n",
              "    </tr>\n",
              "    <tr>\n",
              "      <th>4</th>\n",
              "      <td>Abbott Laboratories, Q1 2022 Earnings Call, Ap...</td>\n",
              "      <td>good morning and thank you for joining us with...</td>\n",
              "      <td>13</td>\n",
              "    </tr>\n",
              "  </tbody>\n",
              "</table>\n",
              "</div>\n",
              "      <button class=\"colab-df-convert\" onclick=\"convertToInteractive('df-b1a199f9-9c54-4981-b73a-36e8c44c5615')\"\n",
              "              title=\"Convert this dataframe to an interactive table.\"\n",
              "              style=\"display:none;\">\n",
              "        \n",
              "  <svg xmlns=\"http://www.w3.org/2000/svg\" height=\"24px\"viewBox=\"0 0 24 24\"\n",
              "       width=\"24px\">\n",
              "    <path d=\"M0 0h24v24H0V0z\" fill=\"none\"/>\n",
              "    <path d=\"M18.56 5.44l.94 2.06.94-2.06 2.06-.94-2.06-.94-.94-2.06-.94 2.06-2.06.94zm-11 1L8.5 8.5l.94-2.06 2.06-.94-2.06-.94L8.5 2.5l-.94 2.06-2.06.94zm10 10l.94 2.06.94-2.06 2.06-.94-2.06-.94-.94-2.06-.94 2.06-2.06.94z\"/><path d=\"M17.41 7.96l-1.37-1.37c-.4-.4-.92-.59-1.43-.59-.52 0-1.04.2-1.43.59L10.3 9.45l-7.72 7.72c-.78.78-.78 2.05 0 2.83L4 21.41c.39.39.9.59 1.41.59.51 0 1.02-.2 1.41-.59l7.78-7.78 2.81-2.81c.8-.78.8-2.07 0-2.86zM5.41 20L4 18.59l7.72-7.72 1.47 1.35L5.41 20z\"/>\n",
              "  </svg>\n",
              "      </button>\n",
              "      \n",
              "  <style>\n",
              "    .colab-df-container {\n",
              "      display:flex;\n",
              "      flex-wrap:wrap;\n",
              "      gap: 12px;\n",
              "    }\n",
              "\n",
              "    .colab-df-convert {\n",
              "      background-color: #E8F0FE;\n",
              "      border: none;\n",
              "      border-radius: 50%;\n",
              "      cursor: pointer;\n",
              "      display: none;\n",
              "      fill: #1967D2;\n",
              "      height: 32px;\n",
              "      padding: 0 0 0 0;\n",
              "      width: 32px;\n",
              "    }\n",
              "\n",
              "    .colab-df-convert:hover {\n",
              "      background-color: #E2EBFA;\n",
              "      box-shadow: 0px 1px 2px rgba(60, 64, 67, 0.3), 0px 1px 3px 1px rgba(60, 64, 67, 0.15);\n",
              "      fill: #174EA6;\n",
              "    }\n",
              "\n",
              "    [theme=dark] .colab-df-convert {\n",
              "      background-color: #3B4455;\n",
              "      fill: #D2E3FC;\n",
              "    }\n",
              "\n",
              "    [theme=dark] .colab-df-convert:hover {\n",
              "      background-color: #434B5C;\n",
              "      box-shadow: 0px 1px 3px 1px rgba(0, 0, 0, 0.15);\n",
              "      filter: drop-shadow(0px 1px 2px rgba(0, 0, 0, 0.3));\n",
              "      fill: #FFFFFF;\n",
              "    }\n",
              "  </style>\n",
              "\n",
              "      <script>\n",
              "        const buttonEl =\n",
              "          document.querySelector('#df-b1a199f9-9c54-4981-b73a-36e8c44c5615 button.colab-df-convert');\n",
              "        buttonEl.style.display =\n",
              "          google.colab.kernel.accessAllowed ? 'block' : 'none';\n",
              "\n",
              "        async function convertToInteractive(key) {\n",
              "          const element = document.querySelector('#df-b1a199f9-9c54-4981-b73a-36e8c44c5615');\n",
              "          const dataTable =\n",
              "            await google.colab.kernel.invokeFunction('convertToInteractive',\n",
              "                                                     [key], {});\n",
              "          if (!dataTable) return;\n",
              "\n",
              "          const docLinkHtml = 'Like what you see? Visit the ' +\n",
              "            '<a target=\"_blank\" href=https://colab.research.google.com/notebooks/data_table.ipynb>data table notebook</a>'\n",
              "            + ' to learn more about interactive tables.';\n",
              "          element.innerHTML = '';\n",
              "          dataTable['output_type'] = 'display_data';\n",
              "          await google.colab.output.renderOutput(dataTable, element);\n",
              "          const docLink = document.createElement('div');\n",
              "          docLink.innerHTML = docLinkHtml;\n",
              "          element.appendChild(docLink);\n",
              "        }\n",
              "      </script>\n",
              "    </div>\n",
              "  </div>\n",
              "  "
            ],
            "text/plain": [
              "                                                Call  \\\n",
              "0  Abbott Laboratories, Q1 2018 Earnings Call, Ap...   \n",
              "1  Abbott Laboratories, Q1 2019 Earnings Call, Ap...   \n",
              "2  Abbott Laboratories, Q1 2020 Earnings Call, Ap...   \n",
              "3  Abbott Laboratories, Q1 2021 Earnings Call, Ap...   \n",
              "4  Abbott Laboratories, Q1 2022 Earnings Call, Ap...   \n",
              "\n",
              "                                                Text  Topic  \n",
              "0  good morning and thank you for joining us with...     13  \n",
              "1  good morning and thank you for joining us with...     13  \n",
              "2  good morning and thank you for joining us with...     13  \n",
              "3  good morning and thank you for joining us with...     13  \n",
              "4  good morning and thank you for joining us with...     13  "
            ]
          },
          "execution_count": 48,
          "metadata": {},
          "output_type": "execute_result"
        }
      ],
      "source": [
        "df3 = df2.copy()\n",
        "df3[\"Topic\"] = pd.Series(doc_topics)\n",
        "df3.head()"
      ]
    },
    {
      "cell_type": "code",
      "execution_count": null,
      "metadata": {
        "colab": {
          "base_uri": "https://localhost:8080/",
          "height": 206
        },
        "id": "uPu5CwCvtjhP",
        "outputId": "ed2c0bcb-5a47-4f14-b3ee-48ce2f994d54"
      },
      "outputs": [
        {
          "data": {
            "text/html": [
              "\n",
              "  <div id=\"df-465911d2-a4c4-46be-8137-a590f27bbf47\">\n",
              "    <div class=\"colab-df-container\">\n",
              "      <div>\n",
              "<style scoped>\n",
              "    .dataframe tbody tr th:only-of-type {\n",
              "        vertical-align: middle;\n",
              "    }\n",
              "\n",
              "    .dataframe tbody tr th {\n",
              "        vertical-align: top;\n",
              "    }\n",
              "\n",
              "    .dataframe thead th {\n",
              "        text-align: right;\n",
              "    }\n",
              "</style>\n",
              "<table border=\"1\" class=\"dataframe\">\n",
              "  <thead>\n",
              "    <tr style=\"text-align: right;\">\n",
              "      <th></th>\n",
              "      <th>Call</th>\n",
              "      <th>Text</th>\n",
              "      <th>Topic</th>\n",
              "      <th>Name</th>\n",
              "    </tr>\n",
              "  </thead>\n",
              "  <tbody>\n",
              "    <tr>\n",
              "      <th>0</th>\n",
              "      <td>Abbott Laboratories, Q1 2018 Earnings Call, Ap...</td>\n",
              "      <td>good morning and thank you for joining us with...</td>\n",
              "      <td>13</td>\n",
              "      <td>Topic_13</td>\n",
              "    </tr>\n",
              "    <tr>\n",
              "      <th>1</th>\n",
              "      <td>Abbott Laboratories, Q1 2019 Earnings Call, Ap...</td>\n",
              "      <td>good morning and thank you for joining us with...</td>\n",
              "      <td>13</td>\n",
              "      <td>Topic_13</td>\n",
              "    </tr>\n",
              "    <tr>\n",
              "      <th>2</th>\n",
              "      <td>Abbott Laboratories, Q1 2020 Earnings Call, Ap...</td>\n",
              "      <td>good morning and thank you for joining us with...</td>\n",
              "      <td>13</td>\n",
              "      <td>Topic_13</td>\n",
              "    </tr>\n",
              "    <tr>\n",
              "      <th>3</th>\n",
              "      <td>Abbott Laboratories, Q1 2021 Earnings Call, Ap...</td>\n",
              "      <td>good morning and thank you for joining us with...</td>\n",
              "      <td>13</td>\n",
              "      <td>Topic_13</td>\n",
              "    </tr>\n",
              "    <tr>\n",
              "      <th>4</th>\n",
              "      <td>Abbott Laboratories, Q1 2022 Earnings Call, Ap...</td>\n",
              "      <td>good morning and thank you for joining us with...</td>\n",
              "      <td>13</td>\n",
              "      <td>Topic_13</td>\n",
              "    </tr>\n",
              "  </tbody>\n",
              "</table>\n",
              "</div>\n",
              "      <button class=\"colab-df-convert\" onclick=\"convertToInteractive('df-465911d2-a4c4-46be-8137-a590f27bbf47')\"\n",
              "              title=\"Convert this dataframe to an interactive table.\"\n",
              "              style=\"display:none;\">\n",
              "        \n",
              "  <svg xmlns=\"http://www.w3.org/2000/svg\" height=\"24px\"viewBox=\"0 0 24 24\"\n",
              "       width=\"24px\">\n",
              "    <path d=\"M0 0h24v24H0V0z\" fill=\"none\"/>\n",
              "    <path d=\"M18.56 5.44l.94 2.06.94-2.06 2.06-.94-2.06-.94-.94-2.06-.94 2.06-2.06.94zm-11 1L8.5 8.5l.94-2.06 2.06-.94-2.06-.94L8.5 2.5l-.94 2.06-2.06.94zm10 10l.94 2.06.94-2.06 2.06-.94-2.06-.94-.94-2.06-.94 2.06-2.06.94z\"/><path d=\"M17.41 7.96l-1.37-1.37c-.4-.4-.92-.59-1.43-.59-.52 0-1.04.2-1.43.59L10.3 9.45l-7.72 7.72c-.78.78-.78 2.05 0 2.83L4 21.41c.39.39.9.59 1.41.59.51 0 1.02-.2 1.41-.59l7.78-7.78 2.81-2.81c.8-.78.8-2.07 0-2.86zM5.41 20L4 18.59l7.72-7.72 1.47 1.35L5.41 20z\"/>\n",
              "  </svg>\n",
              "      </button>\n",
              "      \n",
              "  <style>\n",
              "    .colab-df-container {\n",
              "      display:flex;\n",
              "      flex-wrap:wrap;\n",
              "      gap: 12px;\n",
              "    }\n",
              "\n",
              "    .colab-df-convert {\n",
              "      background-color: #E8F0FE;\n",
              "      border: none;\n",
              "      border-radius: 50%;\n",
              "      cursor: pointer;\n",
              "      display: none;\n",
              "      fill: #1967D2;\n",
              "      height: 32px;\n",
              "      padding: 0 0 0 0;\n",
              "      width: 32px;\n",
              "    }\n",
              "\n",
              "    .colab-df-convert:hover {\n",
              "      background-color: #E2EBFA;\n",
              "      box-shadow: 0px 1px 2px rgba(60, 64, 67, 0.3), 0px 1px 3px 1px rgba(60, 64, 67, 0.15);\n",
              "      fill: #174EA6;\n",
              "    }\n",
              "\n",
              "    [theme=dark] .colab-df-convert {\n",
              "      background-color: #3B4455;\n",
              "      fill: #D2E3FC;\n",
              "    }\n",
              "\n",
              "    [theme=dark] .colab-df-convert:hover {\n",
              "      background-color: #434B5C;\n",
              "      box-shadow: 0px 1px 3px 1px rgba(0, 0, 0, 0.15);\n",
              "      filter: drop-shadow(0px 1px 2px rgba(0, 0, 0, 0.3));\n",
              "      fill: #FFFFFF;\n",
              "    }\n",
              "  </style>\n",
              "\n",
              "      <script>\n",
              "        const buttonEl =\n",
              "          document.querySelector('#df-465911d2-a4c4-46be-8137-a590f27bbf47 button.colab-df-convert');\n",
              "        buttonEl.style.display =\n",
              "          google.colab.kernel.accessAllowed ? 'block' : 'none';\n",
              "\n",
              "        async function convertToInteractive(key) {\n",
              "          const element = document.querySelector('#df-465911d2-a4c4-46be-8137-a590f27bbf47');\n",
              "          const dataTable =\n",
              "            await google.colab.kernel.invokeFunction('convertToInteractive',\n",
              "                                                     [key], {});\n",
              "          if (!dataTable) return;\n",
              "\n",
              "          const docLinkHtml = 'Like what you see? Visit the ' +\n",
              "            '<a target=\"_blank\" href=https://colab.research.google.com/notebooks/data_table.ipynb>data table notebook</a>'\n",
              "            + ' to learn more about interactive tables.';\n",
              "          element.innerHTML = '';\n",
              "          dataTable['output_type'] = 'display_data';\n",
              "          await google.colab.output.renderOutput(dataTable, element);\n",
              "          const docLink = document.createElement('div');\n",
              "          docLink.innerHTML = docLinkHtml;\n",
              "          element.appendChild(docLink);\n",
              "        }\n",
              "      </script>\n",
              "    </div>\n",
              "  </div>\n",
              "  "
            ],
            "text/plain": [
              "                                                Call  \\\n",
              "0  Abbott Laboratories, Q1 2018 Earnings Call, Ap...   \n",
              "1  Abbott Laboratories, Q1 2019 Earnings Call, Ap...   \n",
              "2  Abbott Laboratories, Q1 2020 Earnings Call, Ap...   \n",
              "3  Abbott Laboratories, Q1 2021 Earnings Call, Ap...   \n",
              "4  Abbott Laboratories, Q1 2022 Earnings Call, Ap...   \n",
              "\n",
              "                                                Text  Topic      Name  \n",
              "0  good morning and thank you for joining us with...     13  Topic_13  \n",
              "1  good morning and thank you for joining us with...     13  Topic_13  \n",
              "2  good morning and thank you for joining us with...     13  Topic_13  \n",
              "3  good morning and thank you for joining us with...     13  Topic_13  \n",
              "4  good morning and thank you for joining us with...     13  Topic_13  "
            ]
          },
          "execution_count": 49,
          "metadata": {},
          "output_type": "execute_result"
        }
      ],
      "source": [
        "df3[\"Name\"] = df3[\"Topic\"].apply(lambda x: \"Topic_\" + str(x))\n",
        "df3.head()"
      ]
    },
    {
      "cell_type": "code",
      "execution_count": null,
      "metadata": {
        "colab": {
          "base_uri": "https://localhost:8080/"
        },
        "id": "xAcJQMzZuHRh",
        "outputId": "418f6e5e-532d-4f5a-e422-c947bc1e956e"
      },
      "outputs": [
        {
          "data": {
            "text/plain": [
              "{0: 'banking-wealth-deposit-loan-nii',\n",
              " 1: 'permian-barrels-basin-midstream-oil',\n",
              " 2: 'airline-airlines-flying-fly-aircraft',\n",
              " 3: 'fedex-raj-ground-brie-express',\n",
              " 4: 'mills-pet-hmm-kofi-buffalo',\n",
              " 5: 'nvidia-jensen-colette-gpus-computer',\n",
              " 6: 'tree-dollar-banner-banners-family',\n",
              " 7: 'guests-guest-fulfillment-cathy-assortment',\n",
              " 8: 'dram-nand-micron-sanjay-microns',\n",
              " 9: 'apple-luca-iphone-wearables-iphones',\n",
              " 10: 'starbucks-roz-coffee-beverages-nestle',\n",
              " 11: 'netflix-ted-reed-spence-films',\n",
              " 12: 'albert-angela-mikael-pfizer-frank',\n",
              " 13: 'abbott-libre-alinity-mitraclip-nutrition',\n",
              " 14: 'restaurants-mcdonalds-restaurant-franchisees-menu',\n",
              " 15: 'airplanes-airplane-bca-boeing-skyline',\n",
              " 16: 'marc-thermo-bioproduction-biotech-biosciences',\n",
              " 17: 'rafael-analog-millimeter-consignment-ti',\n",
              " 18: 'ashley-medical-johnson-surgery-pharmaceutical',\n",
              " 19: 'kellogg-pringles-snacks-cereal-foods',\n",
              " 20: 'lisa-amd-epyc-devinder-server',\n",
              " 21: 'intel-dcg-nanometer-modem-intels',\n",
              " 22: 'darius-honeywell-pmt-sps-intelligrated',\n",
              " 23: 'ge-renewables-healthcare-larry-aviation',\n",
              " 24: 'holden-fastenal-vending-onsites-onsite',\n",
              " 25: 'facebook-instagram-sheryl-ads-advertisers',\n",
              " 26: 'dealer-dealers-caterpillar-jim-mining',\n",
              " 27: 'propositions-sme-card-amex-billed',\n",
              " 28: 'walmart-ecommerce-brett-sams-omni',\n",
              " 29: 'pharmacy-stefano-walgreens-alex-boots',\n",
              " 30: 'uber-dara-eats-nelson-rides',\n",
              " 31: 'carol-smb-surcharges-smbs-ups'}"
            ]
          },
          "execution_count": 52,
          "metadata": {},
          "output_type": "execute_result"
        }
      ],
      "source": [
        "topic_words = model.topic_words\n",
        "word_dict = {}\n",
        "for i,words in enumerate(topic_words):\n",
        "  word_dict[i] = '-'.join(words[:5])\n",
        "\n",
        "word_dict\n"
      ]
    },
    {
      "cell_type": "code",
      "execution_count": null,
      "metadata": {
        "colab": {
          "base_uri": "https://localhost:8080/",
          "height": 206
        },
        "id": "IgXiuuXzuvsT",
        "outputId": "4f1325d7-08ad-40cb-e51c-456d3b83f63d"
      },
      "outputs": [
        {
          "data": {
            "text/html": [
              "\n",
              "  <div id=\"df-d0ce7bf1-47a4-44b0-bdec-035a204cfac3\">\n",
              "    <div class=\"colab-df-container\">\n",
              "      <div>\n",
              "<style scoped>\n",
              "    .dataframe tbody tr th:only-of-type {\n",
              "        vertical-align: middle;\n",
              "    }\n",
              "\n",
              "    .dataframe tbody tr th {\n",
              "        vertical-align: top;\n",
              "    }\n",
              "\n",
              "    .dataframe thead th {\n",
              "        text-align: right;\n",
              "    }\n",
              "</style>\n",
              "<table border=\"1\" class=\"dataframe\">\n",
              "  <thead>\n",
              "    <tr style=\"text-align: right;\">\n",
              "      <th></th>\n",
              "      <th>Call</th>\n",
              "      <th>Text</th>\n",
              "      <th>Topic</th>\n",
              "      <th>Name</th>\n",
              "      <th>Top_n_words</th>\n",
              "    </tr>\n",
              "  </thead>\n",
              "  <tbody>\n",
              "    <tr>\n",
              "      <th>0</th>\n",
              "      <td>Abbott Laboratories, Q1 2018 Earnings Call, Ap...</td>\n",
              "      <td>good morning and thank you for joining us with...</td>\n",
              "      <td>13</td>\n",
              "      <td>Topic_13</td>\n",
              "      <td>abbott-libre-alinity-mitraclip-nutrition</td>\n",
              "    </tr>\n",
              "    <tr>\n",
              "      <th>1</th>\n",
              "      <td>Abbott Laboratories, Q1 2019 Earnings Call, Ap...</td>\n",
              "      <td>good morning and thank you for joining us with...</td>\n",
              "      <td>13</td>\n",
              "      <td>Topic_13</td>\n",
              "      <td>abbott-libre-alinity-mitraclip-nutrition</td>\n",
              "    </tr>\n",
              "    <tr>\n",
              "      <th>2</th>\n",
              "      <td>Abbott Laboratories, Q1 2020 Earnings Call, Ap...</td>\n",
              "      <td>good morning and thank you for joining us with...</td>\n",
              "      <td>13</td>\n",
              "      <td>Topic_13</td>\n",
              "      <td>abbott-libre-alinity-mitraclip-nutrition</td>\n",
              "    </tr>\n",
              "    <tr>\n",
              "      <th>3</th>\n",
              "      <td>Abbott Laboratories, Q1 2021 Earnings Call, Ap...</td>\n",
              "      <td>good morning and thank you for joining us with...</td>\n",
              "      <td>13</td>\n",
              "      <td>Topic_13</td>\n",
              "      <td>abbott-libre-alinity-mitraclip-nutrition</td>\n",
              "    </tr>\n",
              "    <tr>\n",
              "      <th>4</th>\n",
              "      <td>Abbott Laboratories, Q1 2022 Earnings Call, Ap...</td>\n",
              "      <td>good morning and thank you for joining us with...</td>\n",
              "      <td>13</td>\n",
              "      <td>Topic_13</td>\n",
              "      <td>abbott-libre-alinity-mitraclip-nutrition</td>\n",
              "    </tr>\n",
              "  </tbody>\n",
              "</table>\n",
              "</div>\n",
              "      <button class=\"colab-df-convert\" onclick=\"convertToInteractive('df-d0ce7bf1-47a4-44b0-bdec-035a204cfac3')\"\n",
              "              title=\"Convert this dataframe to an interactive table.\"\n",
              "              style=\"display:none;\">\n",
              "        \n",
              "  <svg xmlns=\"http://www.w3.org/2000/svg\" height=\"24px\"viewBox=\"0 0 24 24\"\n",
              "       width=\"24px\">\n",
              "    <path d=\"M0 0h24v24H0V0z\" fill=\"none\"/>\n",
              "    <path d=\"M18.56 5.44l.94 2.06.94-2.06 2.06-.94-2.06-.94-.94-2.06-.94 2.06-2.06.94zm-11 1L8.5 8.5l.94-2.06 2.06-.94-2.06-.94L8.5 2.5l-.94 2.06-2.06.94zm10 10l.94 2.06.94-2.06 2.06-.94-2.06-.94-.94-2.06-.94 2.06-2.06.94z\"/><path d=\"M17.41 7.96l-1.37-1.37c-.4-.4-.92-.59-1.43-.59-.52 0-1.04.2-1.43.59L10.3 9.45l-7.72 7.72c-.78.78-.78 2.05 0 2.83L4 21.41c.39.39.9.59 1.41.59.51 0 1.02-.2 1.41-.59l7.78-7.78 2.81-2.81c.8-.78.8-2.07 0-2.86zM5.41 20L4 18.59l7.72-7.72 1.47 1.35L5.41 20z\"/>\n",
              "  </svg>\n",
              "      </button>\n",
              "      \n",
              "  <style>\n",
              "    .colab-df-container {\n",
              "      display:flex;\n",
              "      flex-wrap:wrap;\n",
              "      gap: 12px;\n",
              "    }\n",
              "\n",
              "    .colab-df-convert {\n",
              "      background-color: #E8F0FE;\n",
              "      border: none;\n",
              "      border-radius: 50%;\n",
              "      cursor: pointer;\n",
              "      display: none;\n",
              "      fill: #1967D2;\n",
              "      height: 32px;\n",
              "      padding: 0 0 0 0;\n",
              "      width: 32px;\n",
              "    }\n",
              "\n",
              "    .colab-df-convert:hover {\n",
              "      background-color: #E2EBFA;\n",
              "      box-shadow: 0px 1px 2px rgba(60, 64, 67, 0.3), 0px 1px 3px 1px rgba(60, 64, 67, 0.15);\n",
              "      fill: #174EA6;\n",
              "    }\n",
              "\n",
              "    [theme=dark] .colab-df-convert {\n",
              "      background-color: #3B4455;\n",
              "      fill: #D2E3FC;\n",
              "    }\n",
              "\n",
              "    [theme=dark] .colab-df-convert:hover {\n",
              "      background-color: #434B5C;\n",
              "      box-shadow: 0px 1px 3px 1px rgba(0, 0, 0, 0.15);\n",
              "      filter: drop-shadow(0px 1px 2px rgba(0, 0, 0, 0.3));\n",
              "      fill: #FFFFFF;\n",
              "    }\n",
              "  </style>\n",
              "\n",
              "      <script>\n",
              "        const buttonEl =\n",
              "          document.querySelector('#df-d0ce7bf1-47a4-44b0-bdec-035a204cfac3 button.colab-df-convert');\n",
              "        buttonEl.style.display =\n",
              "          google.colab.kernel.accessAllowed ? 'block' : 'none';\n",
              "\n",
              "        async function convertToInteractive(key) {\n",
              "          const element = document.querySelector('#df-d0ce7bf1-47a4-44b0-bdec-035a204cfac3');\n",
              "          const dataTable =\n",
              "            await google.colab.kernel.invokeFunction('convertToInteractive',\n",
              "                                                     [key], {});\n",
              "          if (!dataTable) return;\n",
              "\n",
              "          const docLinkHtml = 'Like what you see? Visit the ' +\n",
              "            '<a target=\"_blank\" href=https://colab.research.google.com/notebooks/data_table.ipynb>data table notebook</a>'\n",
              "            + ' to learn more about interactive tables.';\n",
              "          element.innerHTML = '';\n",
              "          dataTable['output_type'] = 'display_data';\n",
              "          await google.colab.output.renderOutput(dataTable, element);\n",
              "          const docLink = document.createElement('div');\n",
              "          docLink.innerHTML = docLinkHtml;\n",
              "          element.appendChild(docLink);\n",
              "        }\n",
              "      </script>\n",
              "    </div>\n",
              "  </div>\n",
              "  "
            ],
            "text/plain": [
              "                                                Call  \\\n",
              "0  Abbott Laboratories, Q1 2018 Earnings Call, Ap...   \n",
              "1  Abbott Laboratories, Q1 2019 Earnings Call, Ap...   \n",
              "2  Abbott Laboratories, Q1 2020 Earnings Call, Ap...   \n",
              "3  Abbott Laboratories, Q1 2021 Earnings Call, Ap...   \n",
              "4  Abbott Laboratories, Q1 2022 Earnings Call, Ap...   \n",
              "\n",
              "                                                Text  Topic      Name  \\\n",
              "0  good morning and thank you for joining us with...     13  Topic_13   \n",
              "1  good morning and thank you for joining us with...     13  Topic_13   \n",
              "2  good morning and thank you for joining us with...     13  Topic_13   \n",
              "3  good morning and thank you for joining us with...     13  Topic_13   \n",
              "4  good morning and thank you for joining us with...     13  Topic_13   \n",
              "\n",
              "                                Top_n_words  \n",
              "0  abbott-libre-alinity-mitraclip-nutrition  \n",
              "1  abbott-libre-alinity-mitraclip-nutrition  \n",
              "2  abbott-libre-alinity-mitraclip-nutrition  \n",
              "3  abbott-libre-alinity-mitraclip-nutrition  \n",
              "4  abbott-libre-alinity-mitraclip-nutrition  "
            ]
          },
          "execution_count": 53,
          "metadata": {},
          "output_type": "execute_result"
        }
      ],
      "source": [
        "df3[\"Top_n_words\"] = df3[\"Topic\"].apply(lambda x: word_dict[x])\n",
        "df3.head()"
      ]
    },
    {
      "cell_type": "code",
      "execution_count": null,
      "metadata": {
        "id": "MOqLdxVZvFN3"
      },
      "outputs": [],
      "source": [
        "df3.to_pickle(\"topic_modelling_results_v2.pkl\")"
      ]
    },
    {
      "cell_type": "code",
      "execution_count": null,
      "metadata": {
        "colab": {
          "base_uri": "https://localhost:8080/",
          "height": 299
        },
        "id": "-ifJBIwHv3Qh",
        "outputId": "15e1f84a-933e-467e-e6b7-e70461f16f18"
      },
      "outputs": [
        {
          "data": {
            "text/html": [
              "\n",
              "  <div id=\"df-14dfa207-e086-4129-b7ba-7fed41c5ca57\">\n",
              "    <div class=\"colab-df-container\">\n",
              "      <div>\n",
              "<style scoped>\n",
              "    .dataframe tbody tr th:only-of-type {\n",
              "        vertical-align: middle;\n",
              "    }\n",
              "\n",
              "    .dataframe tbody tr th {\n",
              "        vertical-align: top;\n",
              "    }\n",
              "\n",
              "    .dataframe thead th {\n",
              "        text-align: right;\n",
              "    }\n",
              "</style>\n",
              "<table border=\"1\" class=\"dataframe\">\n",
              "  <thead>\n",
              "    <tr style=\"text-align: right;\">\n",
              "      <th></th>\n",
              "      <th>Topic_0</th>\n",
              "      <th>Topic_1</th>\n",
              "      <th>Topic_2</th>\n",
              "      <th>Topic_3</th>\n",
              "      <th>Topic_4</th>\n",
              "      <th>Topic_5</th>\n",
              "      <th>Topic_6</th>\n",
              "      <th>Topic_7</th>\n",
              "      <th>Topic_8</th>\n",
              "      <th>Topic_9</th>\n",
              "      <th>...</th>\n",
              "      <th>Topic_22</th>\n",
              "      <th>Topic_23</th>\n",
              "      <th>Topic_24</th>\n",
              "      <th>Topic_25</th>\n",
              "      <th>Topic_26</th>\n",
              "      <th>Topic_27</th>\n",
              "      <th>Topic_28</th>\n",
              "      <th>Topic_29</th>\n",
              "      <th>Topic_30</th>\n",
              "      <th>Topic_31</th>\n",
              "    </tr>\n",
              "  </thead>\n",
              "  <tbody>\n",
              "    <tr>\n",
              "      <th>0</th>\n",
              "      <td>banking</td>\n",
              "      <td>permian</td>\n",
              "      <td>airline</td>\n",
              "      <td>fedex</td>\n",
              "      <td>mills</td>\n",
              "      <td>nvidia</td>\n",
              "      <td>tree</td>\n",
              "      <td>guests</td>\n",
              "      <td>dram</td>\n",
              "      <td>apple</td>\n",
              "      <td>...</td>\n",
              "      <td>darius</td>\n",
              "      <td>ge</td>\n",
              "      <td>holden</td>\n",
              "      <td>facebook</td>\n",
              "      <td>dealer</td>\n",
              "      <td>propositions</td>\n",
              "      <td>walmart</td>\n",
              "      <td>pharmacy</td>\n",
              "      <td>uber</td>\n",
              "      <td>carol</td>\n",
              "    </tr>\n",
              "    <tr>\n",
              "      <th>1</th>\n",
              "      <td>wealth</td>\n",
              "      <td>barrels</td>\n",
              "      <td>airlines</td>\n",
              "      <td>raj</td>\n",
              "      <td>pet</td>\n",
              "      <td>jensen</td>\n",
              "      <td>dollar</td>\n",
              "      <td>guest</td>\n",
              "      <td>nand</td>\n",
              "      <td>luca</td>\n",
              "      <td>...</td>\n",
              "      <td>honeywell</td>\n",
              "      <td>renewables</td>\n",
              "      <td>fastenal</td>\n",
              "      <td>instagram</td>\n",
              "      <td>dealers</td>\n",
              "      <td>sme</td>\n",
              "      <td>ecommerce</td>\n",
              "      <td>stefano</td>\n",
              "      <td>dara</td>\n",
              "      <td>smb</td>\n",
              "    </tr>\n",
              "    <tr>\n",
              "      <th>2</th>\n",
              "      <td>deposit</td>\n",
              "      <td>basin</td>\n",
              "      <td>flying</td>\n",
              "      <td>ground</td>\n",
              "      <td>hmm</td>\n",
              "      <td>colette</td>\n",
              "      <td>banner</td>\n",
              "      <td>fulfillment</td>\n",
              "      <td>micron</td>\n",
              "      <td>iphone</td>\n",
              "      <td>...</td>\n",
              "      <td>pmt</td>\n",
              "      <td>healthcare</td>\n",
              "      <td>vending</td>\n",
              "      <td>sheryl</td>\n",
              "      <td>caterpillar</td>\n",
              "      <td>card</td>\n",
              "      <td>brett</td>\n",
              "      <td>walgreens</td>\n",
              "      <td>eats</td>\n",
              "      <td>surcharges</td>\n",
              "    </tr>\n",
              "    <tr>\n",
              "      <th>3</th>\n",
              "      <td>loan</td>\n",
              "      <td>midstream</td>\n",
              "      <td>fly</td>\n",
              "      <td>brie</td>\n",
              "      <td>kofi</td>\n",
              "      <td>gpus</td>\n",
              "      <td>banners</td>\n",
              "      <td>cathy</td>\n",
              "      <td>sanjay</td>\n",
              "      <td>wearables</td>\n",
              "      <td>...</td>\n",
              "      <td>sps</td>\n",
              "      <td>larry</td>\n",
              "      <td>onsites</td>\n",
              "      <td>ads</td>\n",
              "      <td>jim</td>\n",
              "      <td>amex</td>\n",
              "      <td>sams</td>\n",
              "      <td>alex</td>\n",
              "      <td>nelson</td>\n",
              "      <td>smbs</td>\n",
              "    </tr>\n",
              "    <tr>\n",
              "      <th>4</th>\n",
              "      <td>nii</td>\n",
              "      <td>oil</td>\n",
              "      <td>aircraft</td>\n",
              "      <td>express</td>\n",
              "      <td>buffalo</td>\n",
              "      <td>computer</td>\n",
              "      <td>family</td>\n",
              "      <td>assortment</td>\n",
              "      <td>microns</td>\n",
              "      <td>iphones</td>\n",
              "      <td>...</td>\n",
              "      <td>intelligrated</td>\n",
              "      <td>aviation</td>\n",
              "      <td>onsite</td>\n",
              "      <td>advertisers</td>\n",
              "      <td>mining</td>\n",
              "      <td>billed</td>\n",
              "      <td>omni</td>\n",
              "      <td>boots</td>\n",
              "      <td>rides</td>\n",
              "      <td>ups</td>\n",
              "    </tr>\n",
              "  </tbody>\n",
              "</table>\n",
              "<p>5 rows × 32 columns</p>\n",
              "</div>\n",
              "      <button class=\"colab-df-convert\" onclick=\"convertToInteractive('df-14dfa207-e086-4129-b7ba-7fed41c5ca57')\"\n",
              "              title=\"Convert this dataframe to an interactive table.\"\n",
              "              style=\"display:none;\">\n",
              "        \n",
              "  <svg xmlns=\"http://www.w3.org/2000/svg\" height=\"24px\"viewBox=\"0 0 24 24\"\n",
              "       width=\"24px\">\n",
              "    <path d=\"M0 0h24v24H0V0z\" fill=\"none\"/>\n",
              "    <path d=\"M18.56 5.44l.94 2.06.94-2.06 2.06-.94-2.06-.94-.94-2.06-.94 2.06-2.06.94zm-11 1L8.5 8.5l.94-2.06 2.06-.94-2.06-.94L8.5 2.5l-.94 2.06-2.06.94zm10 10l.94 2.06.94-2.06 2.06-.94-2.06-.94-.94-2.06-.94 2.06-2.06.94z\"/><path d=\"M17.41 7.96l-1.37-1.37c-.4-.4-.92-.59-1.43-.59-.52 0-1.04.2-1.43.59L10.3 9.45l-7.72 7.72c-.78.78-.78 2.05 0 2.83L4 21.41c.39.39.9.59 1.41.59.51 0 1.02-.2 1.41-.59l7.78-7.78 2.81-2.81c.8-.78.8-2.07 0-2.86zM5.41 20L4 18.59l7.72-7.72 1.47 1.35L5.41 20z\"/>\n",
              "  </svg>\n",
              "      </button>\n",
              "      \n",
              "  <style>\n",
              "    .colab-df-container {\n",
              "      display:flex;\n",
              "      flex-wrap:wrap;\n",
              "      gap: 12px;\n",
              "    }\n",
              "\n",
              "    .colab-df-convert {\n",
              "      background-color: #E8F0FE;\n",
              "      border: none;\n",
              "      border-radius: 50%;\n",
              "      cursor: pointer;\n",
              "      display: none;\n",
              "      fill: #1967D2;\n",
              "      height: 32px;\n",
              "      padding: 0 0 0 0;\n",
              "      width: 32px;\n",
              "    }\n",
              "\n",
              "    .colab-df-convert:hover {\n",
              "      background-color: #E2EBFA;\n",
              "      box-shadow: 0px 1px 2px rgba(60, 64, 67, 0.3), 0px 1px 3px 1px rgba(60, 64, 67, 0.15);\n",
              "      fill: #174EA6;\n",
              "    }\n",
              "\n",
              "    [theme=dark] .colab-df-convert {\n",
              "      background-color: #3B4455;\n",
              "      fill: #D2E3FC;\n",
              "    }\n",
              "\n",
              "    [theme=dark] .colab-df-convert:hover {\n",
              "      background-color: #434B5C;\n",
              "      box-shadow: 0px 1px 3px 1px rgba(0, 0, 0, 0.15);\n",
              "      filter: drop-shadow(0px 1px 2px rgba(0, 0, 0, 0.3));\n",
              "      fill: #FFFFFF;\n",
              "    }\n",
              "  </style>\n",
              "\n",
              "      <script>\n",
              "        const buttonEl =\n",
              "          document.querySelector('#df-14dfa207-e086-4129-b7ba-7fed41c5ca57 button.colab-df-convert');\n",
              "        buttonEl.style.display =\n",
              "          google.colab.kernel.accessAllowed ? 'block' : 'none';\n",
              "\n",
              "        async function convertToInteractive(key) {\n",
              "          const element = document.querySelector('#df-14dfa207-e086-4129-b7ba-7fed41c5ca57');\n",
              "          const dataTable =\n",
              "            await google.colab.kernel.invokeFunction('convertToInteractive',\n",
              "                                                     [key], {});\n",
              "          if (!dataTable) return;\n",
              "\n",
              "          const docLinkHtml = 'Like what you see? Visit the ' +\n",
              "            '<a target=\"_blank\" href=https://colab.research.google.com/notebooks/data_table.ipynb>data table notebook</a>'\n",
              "            + ' to learn more about interactive tables.';\n",
              "          element.innerHTML = '';\n",
              "          dataTable['output_type'] = 'display_data';\n",
              "          await google.colab.output.renderOutput(dataTable, element);\n",
              "          const docLink = document.createElement('div');\n",
              "          docLink.innerHTML = docLinkHtml;\n",
              "          element.appendChild(docLink);\n",
              "        }\n",
              "      </script>\n",
              "    </div>\n",
              "  </div>\n",
              "  "
            ],
            "text/plain": [
              "   Topic_0    Topic_1   Topic_2  Topic_3  Topic_4   Topic_5  Topic_6  \\\n",
              "0  banking    permian   airline    fedex    mills    nvidia     tree   \n",
              "1   wealth    barrels  airlines      raj      pet    jensen   dollar   \n",
              "2  deposit      basin    flying   ground      hmm   colette   banner   \n",
              "3     loan  midstream       fly     brie     kofi      gpus  banners   \n",
              "4      nii        oil  aircraft  express  buffalo  computer   family   \n",
              "\n",
              "       Topic_7  Topic_8    Topic_9  ...       Topic_22    Topic_23  Topic_24  \\\n",
              "0       guests     dram      apple  ...         darius          ge    holden   \n",
              "1        guest     nand       luca  ...      honeywell  renewables  fastenal   \n",
              "2  fulfillment   micron     iphone  ...            pmt  healthcare   vending   \n",
              "3        cathy   sanjay  wearables  ...            sps       larry   onsites   \n",
              "4   assortment  microns    iphones  ...  intelligrated    aviation    onsite   \n",
              "\n",
              "      Topic_25     Topic_26      Topic_27   Topic_28   Topic_29 Topic_30  \\\n",
              "0     facebook       dealer  propositions    walmart   pharmacy     uber   \n",
              "1    instagram      dealers           sme  ecommerce    stefano     dara   \n",
              "2       sheryl  caterpillar          card      brett  walgreens     eats   \n",
              "3          ads          jim          amex       sams       alex   nelson   \n",
              "4  advertisers       mining        billed       omni      boots    rides   \n",
              "\n",
              "     Topic_31  \n",
              "0       carol  \n",
              "1         smb  \n",
              "2  surcharges  \n",
              "3        smbs  \n",
              "4         ups  \n",
              "\n",
              "[5 rows x 32 columns]"
            ]
          },
          "execution_count": 56,
          "metadata": {},
          "output_type": "execute_result"
        }
      ],
      "source": [
        "words_to_excel = pd.DataFrame()\n",
        "for i,words in enumerate(topic_words):\n",
        "  words_to_excel[\"Topic_\" + str(i)] = pd.Series(words)\n",
        "words_to_excel.head()"
      ]
    },
    {
      "cell_type": "code",
      "execution_count": null,
      "metadata": {
        "id": "9piZAtjswOd9"
      },
      "outputs": [],
      "source": [
        "words_to_excel.to_excel(\"topic_words.xlsx\")"
      ]
    },
    {
      "cell_type": "code",
      "execution_count": null,
      "metadata": {
        "colab": {
          "base_uri": "https://localhost:8080/",
          "height": 614
        },
        "id": "Jk3k7MPK5jr8",
        "outputId": "31db600a-ff75-4465-e05f-daf27771a91a"
      },
      "outputs": [
        {
          "data": {
            "text/html": [
              "\n",
              "  <div id=\"df-3fb6ec70-b1ec-4d15-8f46-add2f4d8b3b3\">\n",
              "    <div class=\"colab-df-container\">\n",
              "      <div>\n",
              "<style scoped>\n",
              "    .dataframe tbody tr th:only-of-type {\n",
              "        vertical-align: middle;\n",
              "    }\n",
              "\n",
              "    .dataframe tbody tr th {\n",
              "        vertical-align: top;\n",
              "    }\n",
              "\n",
              "    .dataframe thead th {\n",
              "        text-align: right;\n",
              "    }\n",
              "</style>\n",
              "<table border=\"1\" class=\"dataframe\">\n",
              "  <thead>\n",
              "    <tr style=\"text-align: right;\">\n",
              "      <th></th>\n",
              "      <th>Call</th>\n",
              "      <th>Text</th>\n",
              "    </tr>\n",
              "  </thead>\n",
              "  <tbody>\n",
              "    <tr>\n",
              "      <th>68</th>\n",
              "      <td>Apple Inc., Q1 2018 Earnings Call, Feb 01, 2018</td>\n",
              "      <td>thank you good afternoon and thanks to everyon...</td>\n",
              "    </tr>\n",
              "    <tr>\n",
              "      <th>69</th>\n",
              "      <td>Apple Inc., Q1 2019 Earnings Call, Jan 29, 2019</td>\n",
              "      <td>thank you good afternoon and thanks to everyon...</td>\n",
              "    </tr>\n",
              "    <tr>\n",
              "      <th>70</th>\n",
              "      <td>Apple Inc., Q1 2020 Earnings Call, Jan 28, 2020</td>\n",
              "      <td>thank you good afternoon and thank you for joi...</td>\n",
              "    </tr>\n",
              "    <tr>\n",
              "      <th>71</th>\n",
              "      <td>Apple Inc., Q1 2021 Earnings Call, Jan 27, 2021</td>\n",
              "      <td>thank you good afternoon and thank you for joi...</td>\n",
              "    </tr>\n",
              "    <tr>\n",
              "      <th>72</th>\n",
              "      <td>Apple Inc., Q1 2022 Earnings Call, Jan 27, 2022</td>\n",
              "      <td>thank you good afternoon and thank you for joi...</td>\n",
              "    </tr>\n",
              "    <tr>\n",
              "      <th>73</th>\n",
              "      <td>Apple Inc., Q2 2018 Earnings Call, May 01, 2018</td>\n",
              "      <td>audio gapand hell be followed by cfo luca maes...</td>\n",
              "    </tr>\n",
              "    <tr>\n",
              "      <th>74</th>\n",
              "      <td>Apple Inc., Q2 2019 Earnings Call, Apr 30, 2019</td>\n",
              "      <td>thank you good afternoon and thanks to everyon...</td>\n",
              "    </tr>\n",
              "    <tr>\n",
              "      <th>75</th>\n",
              "      <td>Apple Inc., Q2 2020 Earnings Call, Apr 30, 2020</td>\n",
              "      <td>thank you good afternoon and thank you for joi...</td>\n",
              "    </tr>\n",
              "    <tr>\n",
              "      <th>76</th>\n",
              "      <td>Apple Inc., Q2 2021 Earnings Call, Apr 28, 2021</td>\n",
              "      <td>thank you good afternoon and thank you for joi...</td>\n",
              "    </tr>\n",
              "    <tr>\n",
              "      <th>77</th>\n",
              "      <td>Apple Inc., Q2 2022 Earnings Call, Apr 28, 2022</td>\n",
              "      <td>thank you good afternoon and thank you for joi...</td>\n",
              "    </tr>\n",
              "    <tr>\n",
              "      <th>78</th>\n",
              "      <td>Apple Inc., Q3 2018 Earnings Call, Jul 31, 2018</td>\n",
              "      <td>thank you good afternoon and thanks to everyon...</td>\n",
              "    </tr>\n",
              "    <tr>\n",
              "      <th>79</th>\n",
              "      <td>Apple Inc., Q3 2019 Earnings Call, Jul 30, 2019</td>\n",
              "      <td>thank you good afternoon and thanks to everyon...</td>\n",
              "    </tr>\n",
              "    <tr>\n",
              "      <th>80</th>\n",
              "      <td>Apple Inc., Q3 2020 Earnings Call, Jul 30, 2020</td>\n",
              "      <td>thank you good afternoon and thank you for joi...</td>\n",
              "    </tr>\n",
              "    <tr>\n",
              "      <th>81</th>\n",
              "      <td>Apple Inc., Q3 2021 Earnings Call, Jul 27, 2021</td>\n",
              "      <td>thank you good afternoon and thank you for joi...</td>\n",
              "    </tr>\n",
              "    <tr>\n",
              "      <th>82</th>\n",
              "      <td>Apple Inc., Q4 2018 Earnings Call, Nov 01, 2018</td>\n",
              "      <td>thank you good afternoon and thanks to everyon...</td>\n",
              "    </tr>\n",
              "    <tr>\n",
              "      <th>83</th>\n",
              "      <td>Apple Inc., Q4 2019 Earnings Call, Oct 30, 2019</td>\n",
              "      <td>thank you good afternoon and thanks to everyon...</td>\n",
              "    </tr>\n",
              "    <tr>\n",
              "      <th>84</th>\n",
              "      <td>Apple Inc., Q4 2020 Earnings Call, Oct 29, 2020</td>\n",
              "      <td>thank you good afternoon and thank you for joi...</td>\n",
              "    </tr>\n",
              "    <tr>\n",
              "      <th>85</th>\n",
              "      <td>Apple Inc., Q4 2021 Earnings Call, Oct 28, 2021</td>\n",
              "      <td>thank you good afternoon and thank you for joi...</td>\n",
              "    </tr>\n",
              "  </tbody>\n",
              "</table>\n",
              "</div>\n",
              "      <button class=\"colab-df-convert\" onclick=\"convertToInteractive('df-3fb6ec70-b1ec-4d15-8f46-add2f4d8b3b3')\"\n",
              "              title=\"Convert this dataframe to an interactive table.\"\n",
              "              style=\"display:none;\">\n",
              "        \n",
              "  <svg xmlns=\"http://www.w3.org/2000/svg\" height=\"24px\"viewBox=\"0 0 24 24\"\n",
              "       width=\"24px\">\n",
              "    <path d=\"M0 0h24v24H0V0z\" fill=\"none\"/>\n",
              "    <path d=\"M18.56 5.44l.94 2.06.94-2.06 2.06-.94-2.06-.94-.94-2.06-.94 2.06-2.06.94zm-11 1L8.5 8.5l.94-2.06 2.06-.94-2.06-.94L8.5 2.5l-.94 2.06-2.06.94zm10 10l.94 2.06.94-2.06 2.06-.94-2.06-.94-.94-2.06-.94 2.06-2.06.94z\"/><path d=\"M17.41 7.96l-1.37-1.37c-.4-.4-.92-.59-1.43-.59-.52 0-1.04.2-1.43.59L10.3 9.45l-7.72 7.72c-.78.78-.78 2.05 0 2.83L4 21.41c.39.39.9.59 1.41.59.51 0 1.02-.2 1.41-.59l7.78-7.78 2.81-2.81c.8-.78.8-2.07 0-2.86zM5.41 20L4 18.59l7.72-7.72 1.47 1.35L5.41 20z\"/>\n",
              "  </svg>\n",
              "      </button>\n",
              "      \n",
              "  <style>\n",
              "    .colab-df-container {\n",
              "      display:flex;\n",
              "      flex-wrap:wrap;\n",
              "      gap: 12px;\n",
              "    }\n",
              "\n",
              "    .colab-df-convert {\n",
              "      background-color: #E8F0FE;\n",
              "      border: none;\n",
              "      border-radius: 50%;\n",
              "      cursor: pointer;\n",
              "      display: none;\n",
              "      fill: #1967D2;\n",
              "      height: 32px;\n",
              "      padding: 0 0 0 0;\n",
              "      width: 32px;\n",
              "    }\n",
              "\n",
              "    .colab-df-convert:hover {\n",
              "      background-color: #E2EBFA;\n",
              "      box-shadow: 0px 1px 2px rgba(60, 64, 67, 0.3), 0px 1px 3px 1px rgba(60, 64, 67, 0.15);\n",
              "      fill: #174EA6;\n",
              "    }\n",
              "\n",
              "    [theme=dark] .colab-df-convert {\n",
              "      background-color: #3B4455;\n",
              "      fill: #D2E3FC;\n",
              "    }\n",
              "\n",
              "    [theme=dark] .colab-df-convert:hover {\n",
              "      background-color: #434B5C;\n",
              "      box-shadow: 0px 1px 3px 1px rgba(0, 0, 0, 0.15);\n",
              "      filter: drop-shadow(0px 1px 2px rgba(0, 0, 0, 0.3));\n",
              "      fill: #FFFFFF;\n",
              "    }\n",
              "  </style>\n",
              "\n",
              "      <script>\n",
              "        const buttonEl =\n",
              "          document.querySelector('#df-3fb6ec70-b1ec-4d15-8f46-add2f4d8b3b3 button.colab-df-convert');\n",
              "        buttonEl.style.display =\n",
              "          google.colab.kernel.accessAllowed ? 'block' : 'none';\n",
              "\n",
              "        async function convertToInteractive(key) {\n",
              "          const element = document.querySelector('#df-3fb6ec70-b1ec-4d15-8f46-add2f4d8b3b3');\n",
              "          const dataTable =\n",
              "            await google.colab.kernel.invokeFunction('convertToInteractive',\n",
              "                                                     [key], {});\n",
              "          if (!dataTable) return;\n",
              "\n",
              "          const docLinkHtml = 'Like what you see? Visit the ' +\n",
              "            '<a target=\"_blank\" href=https://colab.research.google.com/notebooks/data_table.ipynb>data table notebook</a>'\n",
              "            + ' to learn more about interactive tables.';\n",
              "          element.innerHTML = '';\n",
              "          dataTable['output_type'] = 'display_data';\n",
              "          await google.colab.output.renderOutput(dataTable, element);\n",
              "          const docLink = document.createElement('div');\n",
              "          docLink.innerHTML = docLinkHtml;\n",
              "          element.appendChild(docLink);\n",
              "        }\n",
              "      </script>\n",
              "    </div>\n",
              "  </div>\n",
              "  "
            ],
            "text/plain": [
              "                                               Call  \\\n",
              "68  Apple Inc., Q1 2018 Earnings Call, Feb 01, 2018   \n",
              "69  Apple Inc., Q1 2019 Earnings Call, Jan 29, 2019   \n",
              "70  Apple Inc., Q1 2020 Earnings Call, Jan 28, 2020   \n",
              "71  Apple Inc., Q1 2021 Earnings Call, Jan 27, 2021   \n",
              "72  Apple Inc., Q1 2022 Earnings Call, Jan 27, 2022   \n",
              "73  Apple Inc., Q2 2018 Earnings Call, May 01, 2018   \n",
              "74  Apple Inc., Q2 2019 Earnings Call, Apr 30, 2019   \n",
              "75  Apple Inc., Q2 2020 Earnings Call, Apr 30, 2020   \n",
              "76  Apple Inc., Q2 2021 Earnings Call, Apr 28, 2021   \n",
              "77  Apple Inc., Q2 2022 Earnings Call, Apr 28, 2022   \n",
              "78  Apple Inc., Q3 2018 Earnings Call, Jul 31, 2018   \n",
              "79  Apple Inc., Q3 2019 Earnings Call, Jul 30, 2019   \n",
              "80  Apple Inc., Q3 2020 Earnings Call, Jul 30, 2020   \n",
              "81  Apple Inc., Q3 2021 Earnings Call, Jul 27, 2021   \n",
              "82  Apple Inc., Q4 2018 Earnings Call, Nov 01, 2018   \n",
              "83  Apple Inc., Q4 2019 Earnings Call, Oct 30, 2019   \n",
              "84  Apple Inc., Q4 2020 Earnings Call, Oct 29, 2020   \n",
              "85  Apple Inc., Q4 2021 Earnings Call, Oct 28, 2021   \n",
              "\n",
              "                                                 Text  \n",
              "68  thank you good afternoon and thanks to everyon...  \n",
              "69  thank you good afternoon and thanks to everyon...  \n",
              "70  thank you good afternoon and thank you for joi...  \n",
              "71  thank you good afternoon and thank you for joi...  \n",
              "72  thank you good afternoon and thank you for joi...  \n",
              "73  audio gapand hell be followed by cfo luca maes...  \n",
              "74  thank you good afternoon and thanks to everyon...  \n",
              "75  thank you good afternoon and thank you for joi...  \n",
              "76  thank you good afternoon and thank you for joi...  \n",
              "77  thank you good afternoon and thank you for joi...  \n",
              "78  thank you good afternoon and thanks to everyon...  \n",
              "79  thank you good afternoon and thanks to everyon...  \n",
              "80  thank you good afternoon and thank you for joi...  \n",
              "81  thank you good afternoon and thank you for joi...  \n",
              "82  thank you good afternoon and thanks to everyon...  \n",
              "83  thank you good afternoon and thanks to everyon...  \n",
              "84  thank you good afternoon and thank you for joi...  \n",
              "85  thank you good afternoon and thank you for joi...  "
            ]
          },
          "execution_count": 62,
          "metadata": {},
          "output_type": "execute_result"
        }
      ],
      "source": [
        "df2[df2.Call.apply(lambda x: x.split(\",\")[0].startswith('Apple'))]"
      ]
    },
    {
      "cell_type": "markdown",
      "metadata": {
        "id": "NT70NthUKulA"
      },
      "source": [
        "Airlines example of least probable hypothesis check"
      ]
    },
    {
      "cell_type": "code",
      "execution_count": null,
      "metadata": {
        "colab": {
          "base_uri": "https://localhost:8080/",
          "height": 81
        },
        "id": "pT9eEpOZvwn1",
        "outputId": "2ab3e276-16ac-436b-b5f5-a5121a989865"
      },
      "outputs": [
        {
          "data": {
            "text/html": [
              "\n",
              "  <div id=\"df-01784b3a-2980-405a-b8d0-76e5c4c28d7e\">\n",
              "    <div class=\"colab-df-container\">\n",
              "      <div>\n",
              "<style scoped>\n",
              "    .dataframe tbody tr th:only-of-type {\n",
              "        vertical-align: middle;\n",
              "    }\n",
              "\n",
              "    .dataframe tbody tr th {\n",
              "        vertical-align: top;\n",
              "    }\n",
              "\n",
              "    .dataframe thead th {\n",
              "        text-align: right;\n",
              "    }\n",
              "</style>\n",
              "<table border=\"1\" class=\"dataframe\">\n",
              "  <thead>\n",
              "    <tr style=\"text-align: right;\">\n",
              "      <th></th>\n",
              "      <th>Call</th>\n",
              "      <th>Text</th>\n",
              "    </tr>\n",
              "  </thead>\n",
              "  <tbody>\n",
              "    <tr>\n",
              "      <th>41</th>\n",
              "      <td>American Airlines Group Inc., Q2 2020 Earnings...</td>\n",
              "      <td>thanks sarah and good morning everyone and wel...</td>\n",
              "    </tr>\n",
              "  </tbody>\n",
              "</table>\n",
              "</div>\n",
              "      <button class=\"colab-df-convert\" onclick=\"convertToInteractive('df-01784b3a-2980-405a-b8d0-76e5c4c28d7e')\"\n",
              "              title=\"Convert this dataframe to an interactive table.\"\n",
              "              style=\"display:none;\">\n",
              "        \n",
              "  <svg xmlns=\"http://www.w3.org/2000/svg\" height=\"24px\"viewBox=\"0 0 24 24\"\n",
              "       width=\"24px\">\n",
              "    <path d=\"M0 0h24v24H0V0z\" fill=\"none\"/>\n",
              "    <path d=\"M18.56 5.44l.94 2.06.94-2.06 2.06-.94-2.06-.94-.94-2.06-.94 2.06-2.06.94zm-11 1L8.5 8.5l.94-2.06 2.06-.94-2.06-.94L8.5 2.5l-.94 2.06-2.06.94zm10 10l.94 2.06.94-2.06 2.06-.94-2.06-.94-.94-2.06-.94 2.06-2.06.94z\"/><path d=\"M17.41 7.96l-1.37-1.37c-.4-.4-.92-.59-1.43-.59-.52 0-1.04.2-1.43.59L10.3 9.45l-7.72 7.72c-.78.78-.78 2.05 0 2.83L4 21.41c.39.39.9.59 1.41.59.51 0 1.02-.2 1.41-.59l7.78-7.78 2.81-2.81c.8-.78.8-2.07 0-2.86zM5.41 20L4 18.59l7.72-7.72 1.47 1.35L5.41 20z\"/>\n",
              "  </svg>\n",
              "      </button>\n",
              "      \n",
              "  <style>\n",
              "    .colab-df-container {\n",
              "      display:flex;\n",
              "      flex-wrap:wrap;\n",
              "      gap: 12px;\n",
              "    }\n",
              "\n",
              "    .colab-df-convert {\n",
              "      background-color: #E8F0FE;\n",
              "      border: none;\n",
              "      border-radius: 50%;\n",
              "      cursor: pointer;\n",
              "      display: none;\n",
              "      fill: #1967D2;\n",
              "      height: 32px;\n",
              "      padding: 0 0 0 0;\n",
              "      width: 32px;\n",
              "    }\n",
              "\n",
              "    .colab-df-convert:hover {\n",
              "      background-color: #E2EBFA;\n",
              "      box-shadow: 0px 1px 2px rgba(60, 64, 67, 0.3), 0px 1px 3px 1px rgba(60, 64, 67, 0.15);\n",
              "      fill: #174EA6;\n",
              "    }\n",
              "\n",
              "    [theme=dark] .colab-df-convert {\n",
              "      background-color: #3B4455;\n",
              "      fill: #D2E3FC;\n",
              "    }\n",
              "\n",
              "    [theme=dark] .colab-df-convert:hover {\n",
              "      background-color: #434B5C;\n",
              "      box-shadow: 0px 1px 3px 1px rgba(0, 0, 0, 0.15);\n",
              "      filter: drop-shadow(0px 1px 2px rgba(0, 0, 0, 0.3));\n",
              "      fill: #FFFFFF;\n",
              "    }\n",
              "  </style>\n",
              "\n",
              "      <script>\n",
              "        const buttonEl =\n",
              "          document.querySelector('#df-01784b3a-2980-405a-b8d0-76e5c4c28d7e button.colab-df-convert');\n",
              "        buttonEl.style.display =\n",
              "          google.colab.kernel.accessAllowed ? 'block' : 'none';\n",
              "\n",
              "        async function convertToInteractive(key) {\n",
              "          const element = document.querySelector('#df-01784b3a-2980-405a-b8d0-76e5c4c28d7e');\n",
              "          const dataTable =\n",
              "            await google.colab.kernel.invokeFunction('convertToInteractive',\n",
              "                                                     [key], {});\n",
              "          if (!dataTable) return;\n",
              "\n",
              "          const docLinkHtml = 'Like what you see? Visit the ' +\n",
              "            '<a target=\"_blank\" href=https://colab.research.google.com/notebooks/data_table.ipynb>data table notebook</a>'\n",
              "            + ' to learn more about interactive tables.';\n",
              "          element.innerHTML = '';\n",
              "          dataTable['output_type'] = 'display_data';\n",
              "          await google.colab.output.renderOutput(dataTable, element);\n",
              "          const docLink = document.createElement('div');\n",
              "          docLink.innerHTML = docLinkHtml;\n",
              "          element.appendChild(docLink);\n",
              "        }\n",
              "      </script>\n",
              "    </div>\n",
              "  </div>\n",
              "  "
            ],
            "text/plain": [
              "                                                 Call  \\\n",
              "41  American Airlines Group Inc., Q2 2020 Earnings...   \n",
              "\n",
              "                                                 Text  \n",
              "41  thanks sarah and good morning everyone and wel...  "
            ]
          },
          "execution_count": 17,
          "metadata": {},
          "output_type": "execute_result"
        }
      ],
      "source": [
        "df2[df2[\"Call\"]==\"American Airlines Group Inc., Q2 2020 Earnings Call, Jul 23, 2020\"]"
      ]
    },
    {
      "cell_type": "code",
      "execution_count": null,
      "metadata": {
        "colab": {
          "base_uri": "https://localhost:8080/"
        },
        "id": "IbIKqeOv8UX7",
        "outputId": "5540f086-1ed5-49f2-ffe1-51db6bb8907b"
      },
      "outputs": [
        {
          "data": {
            "text/plain": [
              "Call    American Airlines Group Inc., Q2 2020 Earnings...\n",
              "Text    thanks sarah and good morning everyone and wel...\n",
              "Name: 41, dtype: object"
            ]
          },
          "execution_count": 18,
          "metadata": {},
          "output_type": "execute_result"
        }
      ],
      "source": [
        "df2.iloc[41]"
      ]
    },
    {
      "cell_type": "markdown",
      "metadata": {
        "id": "0ezx-KMkGmn5"
      },
      "source": [
        "Most dominant topic"
      ]
    },
    {
      "cell_type": "code",
      "execution_count": null,
      "metadata": {
        "colab": {
          "base_uri": "https://localhost:8080/"
        },
        "id": "rnn39mNS6OJl",
        "outputId": "912c8bfb-a03a-4eb4-97a6-fe2d777a4d00"
      },
      "outputs": [
        {
          "data": {
            "text/plain": [
              "2"
            ]
          },
          "execution_count": 23,
          "metadata": {},
          "output_type": "execute_result"
        }
      ],
      "source": [
        "doc_topics[41]"
      ]
    },
    {
      "cell_type": "markdown",
      "metadata": {
        "id": "So7S3hluGszP"
      },
      "source": [
        "Topic 2 words"
      ]
    },
    {
      "cell_type": "code",
      "execution_count": null,
      "metadata": {
        "colab": {
          "base_uri": "https://localhost:8080/"
        },
        "id": "NXNMW8wE6SU3",
        "outputId": "cc64207a-d84c-42d3-f9c1-a1a676b36ee4"
      },
      "outputs": [
        {
          "data": {
            "text/plain": [
              "array(['airline', 'airlines', 'flying', 'fly', 'aircraft', 'derek',\n",
              "       'flights', 'southwest', 'gerry', 'tammy', 'casm', 'leisure',\n",
              "       'vasu', 'passengers', 'seats', 'rasm', 'flight', 'fleet', 'robert',\n",
              "       'andrew', 'travel', 'schedule', 'grounding', 'seat', 'hawaii',\n",
              "       'uniteds', 'max', 'asm', 'asms', 'tom', 'fares', 'united', 'hubs',\n",
              "       'summer', 'boeing', 'travelers', 'mike', 'gary', 'mainline',\n",
              "       'passenger', 'american', 'load', 'routes', 'booking', 'operation',\n",
              "       'schedules', 'departure', 'attendants', 'airport', 'dfw'],\n",
              "      dtype='<U15')"
            ]
          },
          "execution_count": 24,
          "metadata": {},
          "output_type": "execute_result"
        }
      ],
      "source": [
        "model.topic_words[2]"
      ]
    },
    {
      "cell_type": "markdown",
      "metadata": {
        "id": "LhtTGAXWG9Dq"
      },
      "source": [
        "All topics discussed in the transcripts"
      ]
    },
    {
      "cell_type": "code",
      "execution_count": null,
      "metadata": {
        "id": "UYbPnDKTbgE7"
      },
      "outputs": [],
      "source": [
        "topic_nums,topic_score,topics_words,word_scores = model.get_documents_topics([41],num_topics=33)"
      ]
    },
    {
      "cell_type": "code",
      "execution_count": null,
      "metadata": {
        "colab": {
          "base_uri": "https://localhost:8080/"
        },
        "id": "Xc9k7Mz3dYdF",
        "outputId": "fce8f69e-fd50-4cd1-8353-107d3ab4cbe8"
      },
      "outputs": [
        {
          "data": {
            "text/plain": [
              "array([[ 2, 15, 22,  1,  0, 20, 21, 29, 27, 24, 30,  7, 23, 31, 16,  3,\n",
              "        11, 10,  9, 12, 25, 26, 17, 28,  8, 19, 14, 18,  6,  5,  4, 13]])"
            ]
          },
          "execution_count": 26,
          "metadata": {},
          "output_type": "execute_result"
        }
      ],
      "source": [
        "topic_nums"
      ]
    },
    {
      "cell_type": "markdown",
      "metadata": {
        "id": "q5vc1oSiHBbN"
      },
      "source": [
        "Topic score with COVID as the term"
      ]
    },
    {
      "cell_type": "code",
      "execution_count": null,
      "metadata": {
        "id": "5NNwq3wL7f-x"
      },
      "outputs": [],
      "source": [
        "topic_words2, word_scores2, topic_scores2, topic_nums2 = model.search_topics(keywords=[\"covid\"], num_topics=5)"
      ]
    },
    {
      "cell_type": "code",
      "execution_count": null,
      "metadata": {
        "colab": {
          "base_uri": "https://localhost:8080/"
        },
        "id": "lyqlePjY7mLT",
        "outputId": "56e0bf69-5d7d-4ae3-c30c-d8251c97966c"
      },
      "outputs": [
        {
          "data": {
            "text/plain": [
              "array([18, 12, 16, 13, 29])"
            ]
          },
          "execution_count": 31,
          "metadata": {},
          "output_type": "execute_result"
        }
      ],
      "source": [
        "topic_nums2"
      ]
    },
    {
      "cell_type": "code",
      "execution_count": null,
      "metadata": {
        "colab": {
          "base_uri": "https://localhost:8080/"
        },
        "id": "HM7REziAw0g_",
        "outputId": "8cf512d7-2b70-4feb-f6fd-4c7c8b9f143e"
      },
      "outputs": [
        {
          "data": {
            "text/plain": [
              "array([0.34367804, 0.26568945, 0.2394232 , 0.21826168, 0.1797369 ])"
            ]
          },
          "execution_count": 33,
          "metadata": {},
          "output_type": "execute_result"
        }
      ],
      "source": [
        "topic_scores2"
      ]
    },
    {
      "cell_type": "code",
      "execution_count": null,
      "metadata": {
        "colab": {
          "base_uri": "https://localhost:8080/"
        },
        "id": "S34w75WP8Mm3",
        "outputId": "2bf99684-79f5-4d96-a20a-ea8233b1263c"
      },
      "outputs": [
        {
          "name": "stdout",
          "output_type": "stream",
          "text": [
            "Document: 331, Score: 0.7421945333480835\n",
            "-----------\n",
            "good chris delorefice vice president investor relations johnson johnson welcome companys review business results third joining todays call joe wolk executive vice president chief financial officer additionally session joe pleased joined ashley mcavoy executive vice president worldwide chairman medical devices thibaut mongon executive vice president worldwide chairman consumer jennifer taubert executive vice president worldwide chairman pharmaceuticals logistics get details review made available via webcast accessible investor relations section johnson johnson website investorjnjcom also find additional materials including todays presentation associated schedulesplease note todays presentation includes forward looking statements encourage review cautionary statement regarding statements included todays presentation companys form identifies certain factors may cause companys actual results differ materially projected sec filings including form recent along reconciliations non gaap financial measures utilized todays discussion comparable gaap measures also available investorjnjcom several products compounds discussed today developed collaboration strategic partners licensed companies slide acknowledges todays agenda joe first provide perspective overall results third review sales results corporation business segments joe conclude providing insights cash position capital allocation deployment updated guidance along considerations balance initial high level thoughts next remaining time available questions anticipate webcast last minutesim pleased turn call joe wolk great chris good everyone thank interest johnson johnson might suspect pleased discuss strong third results performance positions exceed outlook provided start providing solid foundation future delivered strong earnings growth also making investments advance innovative pipeline across segments remain committed advancing solutions enhance lives patients consumers employees communities also delivering value shareholdersin moment chris provide details results let offer general observations context performance third many headlines surrounding company industry continue deliver life saving life enhancing products patients consumers translates solid financial performance must recognize businesses working litigious environment fundamentals johnson johnsons business strong remain confident ability navigate challenges deliver results focused mission done yearsfor pharmaceutical business even face significant generic biosimilar competition delivered market performance across broad base therapeutic areas led double digit growth key products particularly pleased progress regulatory approvals submissions notably fdas approval erleada treatment metastatic castration sensitive prostate cancer based titan data approval stelara ulcerative colitis eu additional indications productsin consumer health business third performance reflects continued strength areas prioritized earlier beauty counter medicines businesses fueled product innovations recent acquisitions large markets experiencing higher growth positions consumer business grow competitively market also improving profitability segmentour medical devices business continues accelerate growth tailwinds chris outline adjusted operational sales growth best quarterly growth posted since interventional solutions delivered yet another double digit growth surgery improved orthopaedics progress continues successfully executed multiple launches believe positioned continue momentumlet turn discussion back chris details third sales drivers notable line items return prior provide comments cash position guidance thank joe worldwide sales third increase versus third operational sales growth excludes effect translational currency increased currency negative impact points sales increased regions outside reported growth operational sales growth outside currency negatively impacting reported ous results points excluding net impact acquisitions divestitures adjusted operational sales growth worldwide outside usturning earnings net earnings diluted earnings per share versus diluted earnings per share ago excluding tax intangible asset amortization expense special items periods adjusted net earnings adjusted diluted earnings per share representing increases respectively compared third operational basis adjusted diluted earnings per share grew beginning consumer health comment business segment sales performance third highlighting items build upon slides front unless otherwise stated percentages quoted represent operational sales change comparison third therefore exclude impact currency translation worldwide consumer segment sales totaled growing excluding net impact acquisitions divestitures adjusted operational sales growth strong growth due primarily strong performance beauty otc franchises growth outside date basis consumer grew double digits across regions commerce channel beauty franchise grew adjusted exclude impact acquisition dr ci labo roc divestitureour priority brands neutrogena aveeno delivered strong performance results due share growth combined timing promotions club channel share growth neutrogena realized facial moisturizing treatment cleansing sun protection categories aveeno share gains due hair product line relaunch counter medicines grew globally adjusted exclude impact zarbees acquisition continues perform wellin otc adjusted operational sales growth growing share adult tylenol core contributor sales growth continues drive significant share growth driven rapid release gel tylenol arthritis products zyrtec continued grow market share however sales declined due lapping retail stocking due competitor supply consumer segment baby care declined globally negative adjusted exclude impact babycenter divestiture decline primarily due lapping retail stocking associated johnsons baby relaunch notably excluding relaunch comparisons baby flatmoving pharmaceutical segment worldwide pharmaceutical sales grew enabled double digit growth key products sales grew increased outside generic competition zytiga negatively impacted worldwide growth basis points respectively strong portfolio products commercial capabilities enabled deliver global growth market levels despite significant biosimilar generic headwindsour immunology portfolio delivered global sales growth driven strong double digit performance stelara tremfya simponi simponi aria sales growth partially offset continued erosion remicade almost due increased discounts modest share loss alternative mechanisms action biosimilars stelara growth almost primarily crohns disease indication market share increased points compared third tremfya grew achieved share psoriasis market points third additionally filed application fda seeking approval tremfya treatment adults active psoriatic arthritisour oncology therapeutic area delivered another strong worldwide growth almost darzalex continued strong performance growing globally adjusting impact favorable comparison prior onetime reimbursement adjustment outside grew continues benefit strong market growth point increase market share across lines therapy continued strong growth outside driven increased penetration share gains across emea countries commercially available latin america asia pacific regionof note received regulatory approval darzalex combination regimen newly diagnosed transplant eligible patients multiple myeloma usimbruvica grew globally driven largely market share gains strong market growth primarily cll indication along strong uptake outside european asia pacific latin america markets based second data across indications lines therapy imbruvica gained approximately points market share continues patient total patient share leader chronic lymphocytic leukemia gained points market share line zytiga growth declined declines almost due generic competition partially offset continued strong growth outside usin non metastatic castration resistant prostate cancer continue pleased launch progress erleada gained almost points market share joe highlighted received approval treatment patients metastatic castration sensitive prostate cancer also pleased launch progress emea erleada available countriesin neuroscience paliperidone long acting portfolio performed growing higher market share driven increased patient starts strong persistencyin addition continue progress launch spravato patient demand strong unmet needs remain high date sites certified rems program become spravato treatment center actively treating patients treatment resistant depression encouraged continued progression treatment centers certified treating patientsduring filed snda second indication rapid reduction depressive symptoms adults major depressive disorder active suicidal ideation intentin infectious diseases portfolio grew led strong growth symtuza juluca hiv partially offset cannibalization increased generic competition productsin cardiovascular metabolism product portfolio experience declining sales primarily driven declines invokana biosimilar competition procritxarelto flat volume increases offset rebates primarily due increase legislative rate doughnut hole along higher medicare doughnut hole utilization yesterday pleased announce approval additional indication xarelto treatment vte medically ill population total pulmonary hypertension portfolio grew strong performance opsumit uptravi growing respectively global basis benefited market penetration increased share growth offset tracleer negatively impacted recent generic entry continued generic competition outside usill turn attention medical devices segment worldwide medical devices sales declining excluding net impact acquisitions divestitures primarily divestitures lifescan asp adjusted operational sales growth worldwide growth aided onetime items contributing basis points growth largely related forward buying ahead consumption tax change japan primarily impacting vision business expect majority sell remainder occurring interventional solutions grew globally led continued strength business achieving growth worldwide continuing trend double digit growthgrowth strong regions driven newer product offerings ablation advanced catheters contributing atrial fibrillation procedure market growth pleased share results atrial fibrillation progression trial known attest showed patients treated catheter ablation almost less likely develop persistent atrial fibrillation patients standard antiarrhythmic drugs years study initiation additionally cerenovus business delivered fifth straight double digit growth driven product innovation including embotrap treatment ischemic stroke strong market growth vision growth driven contact lenses grew globally led daily disposables oasys familyas mentioned earlier total vision sales aided forward buying japan advance consumption tax increase worth approximately basis points globally surgical vision launched tecnis synergy intraocular lens continuous range vision intraocular growth continues improve significant acceleration delivering growth largest quarterly growth since progress reflects continued execution innovation commercial strategies aimed improve performance hips grew driven leadership position anterior approach continued strong demand primary stem actis kincise surgical automated systemtrauma growth globally driven market growth supported strong adoption newer innovation femoral neck system recon nails sales growth also aided onetime rebate reserve adjustment worth almost basis points globally adjusting item market leader trauma driving growth expect performance represent growth line overall global marketspine declined less primary driver decline continue see stabilization performance driven products viper prime system minimally invasive surgery newly launched conduit interbody platform eit cellular titanium printed technology treat degenerative spine disease lost share quarterknees growth declines offset strong double digit growth outside ous results expected represent market performance led innovation including attune revision market continues realize positive uptake attune revision system launched attune cementless knee select markets around worldpricing pressure continued impact categories orthopaedics show modest improvement compared however pure price negative across platforms spine hips trauma declined approximately knees declining moving results surgery business advanced surgery delivered global growth led strong performance energy primarily driven share gains products asia pacific grew approximately growth regions particularly asia pacific region pleased brought surgiflo back market end july market impacting global growth basis points wound closure grew almost driven share gains conventional barbed sutures continued strong market growth china timing purchases veterinary channel favorably impacted global growth almost basis points additionally launched industrys first powered circular stapler colorectal gastric thoracic surgery key innovation general surgery franchise expected selling days minor positive impact global growth rates third expect significant impact provide commentary earnings regarding consolidated statement earnings third please direct attention box section scheduleas referenced table non gaap measures third net earnings adjusted exclude intangible asset amortization expense special items tax basis primarily driven intangible amortization impact items adjusted earnings per share increase versus third adjusted eps constant currency basis versus third id like highlight noteworthy items changed statement earnings compared last cost products sold delevered slightly primarily driven negative impact currency pharmaceuticals business selling marketing administrative margins improved result favorable segment mix planned prioritization consumer medical devices businesses expense leveraging pharmaceuticals businesswe continue invest competitive levels investment research development percent sales higher third basis points increase primarily driven higher investment medical devices business related robotics digital programs key growth platforms change income expense line primarily driven contingent liability reversal third net interest expense lower primarily driven positive effect net investment hedging arrangements lower interest expense due lower average debt taxes effective tax rate compared third tax rate reminder regarding third company favorable financial impact approximately related tax reform current includes estimated tax benefit transition provisions swiss tax reform partially offset adjustment existing tax reserve positions negatively impacting effective tax rate encourage reference details specific tax matters excluding special items effective tax rate compared period last increase driven adjustment tax reserve positions previously notednow looking adjusted income tax third adjusted income tax enterprise percent sales increased primarily driven improvement selling marketing administrative margins previously notedthe following main drivers adjusted income tax segment decrease pharmaceutical margins basis points primarily driven negative impact currency cost goods sold consumer margins improved basis points primarily due planned optimization selling marketing expenses medical devices improved basis points due investment optimization selling marketing administrative expenses income items partially offset investment robotics digital surgery solutions concludes sales highlights johnson johnsons third reference slide summarizing notable developments occurring third mentioned commentsi turn call back joe thanks chris respect cash end third approximately net debt consisting approximately cash marketable securities approximately debt estimate date free cash flow approximately billionwe acted upon tenets capital allocation strategy designed continue drive shareholder value highlights include investing research development investing business deliver transformative health care solutions remains top priority johnson johnson previous years expect experience even higher levels investment fourth tangible examples investment directed progressing future digital surgery offerings activity related car cusatuzumab darzalex subcutaneous formulation line extensions within immunology portfolio stelara lupusat time continue evaluate strategic transactions enhance broad based business drive value creation invested nearly also use cash complete authorized share repurchase program announced last december deploying third quarteri provide updates guidance continue see strong results across enterprise increasing sales guidance comfortable models reflecting operational sales growth growth result sales constant currency basis approximately expect operational sales growth excluding impact acquisitions divestitures metrics basis points respective midpoints original guidance provided january basis points guidance provided last july although predicting impact currency movements utilizing euro spot rate relative dollar last week negative impact foreign currency translation slightly worse last guide basis points estimated negatively impact reported sales approximately points scenario expect reported sales growth range approximately billionmoving items impacting earnings net interest expense expected net interest income income expenses tightening range reminder account record royalty income gains losses arising items litigation investments development corporation divestitures asset sales write offsour effective tax rate guidance estimated approximately reflecting higher end tightening previous guidance rangegiven updates comfortable adjusted eps guidance range per share constant currency basis reflects operational constant currency growth approximately higher prior guidance reflective solid performance predicting impact currency movements give idea potential impact eps using recent exchange rates reported adjusted eps negatively impacted approximately per share versus prior guidance negative accounting reported adjusted eps range per share reflecting growth approximately midpoint also higher previous guidancewhile provide quarterly guidance providing guidance next yet provide comments consider looking ahead fourth better inform modeling one notable item fourth may recall fourth elevated level adjusted income approximately primarily due lifescan divestiture nothing similarly planned fourth yearlooking beyond fourth still process finalizing plans allow provide context line items preliminary insights qualitatively sales expect pharmaceutical business continue deliver growth market medical device business anticipated continue sales momentum remain focused optimizing consumer portfolio competitive growth improving profitability terms items robust plans still developed leaders continue balance improved operating efficiency investing sustainable long term success income expense early stage expect time record approximately half level income provided current guidance rangewe continue prefer investment progress robust pipeline assets includes continued investment digital surgery portfolio bolstered acquisition auris completed second effective tax rate based current legislation anticipate range relatively similar full tax guidance provided earlier dont forecast currency fluctuations based current exchange rates expect currency continue headwind although less years impactthat concludes financial summary pleased joined todays call ashley thibaut jennifer help address questions open call like thank johnson johnson associates around world continued hard work dedication celebrated anniversary initial public offering york stock exchange september significant milestone made possible tremendous efforts preceded themi turn call back chris begin portion thank joe move portion webcast reminder encourage take advantage ashley thibaut jennifer todays call directing questions areas expertise operator please provide instructions line wishing ask maybe joe one one ashley joe greater level financial disclosure typically get heading thank advance quick math sound like youre basically suggesting outlook providing official guidance top line accelerate next youre pretty comfortable kind relative type leverage done historically sort earnings growth rate kind ratio earnings relative sales decent way thinking yes david thanks comments certainly glad find outlook commentary helpful want emphasize though said prepared remarks teams still working plans want see momentum seen carry respect top line say recall back january little bit conservative years outlook given ability hold brands facing exclusivity risk zytiga procrit tracleer performed little bit better expect market pronounced thought beginning feeling good momentumwith respect income ratio sales growth ratio id say thats little bit early comment expect see moderating back towards around sales growth look lets take adjusted adjusted accounting divestitures acquisitions impact ratio thats little bit higher typically run obviously going digest pretty significant hit income line teams working plans ambitious goals next say stay tuned probably best direction give point time okay maybe quick follow ups joe first repo completed repo given operational performance companys historical discount thinking repo completed going forward ashley real quickly talk little bit market dynamics within vision specific dynamics youve talked pressure surgical business extent iol dynamics marketplace versus lasik franchise thatd super helpful david respect share repurchase pleased board authorized program completed continues one pillars within capital allocation strategy say terms pecking order know covered years probably least preferred options although still option simply doesnt provide capabilities going forward continue evaluate along dividend increase investment opportunistic acquisitions make sense value creation standpoint also really good strategic fit expand portfolio thank david vision get first acknowledge kind strong medical device growing chris mentioned experience forward buying japan consumption take looking around growth strongest years know journey since really enhanced performance look exited growth exited date tracking little bit north always say dont growth going linear turned corner really due predominantly near term strategic choices making strengthen competitiveness really strong seasoned leadership team got quarters underneath strong focus execution starting effectso vision vision good say contact lens particular healthy really driven strong growth united states around surgery strong outside performance double digit surgical business challenged really due fronts number one competitive inroads looking strengthen commercial execution strengthen leadership team revisited programs also accelerating innovation expect meaningful innovations premium iols monofocal iols next months earlier point yes believe seen softening lasik market united states thanks david questions maybe first talk tremfya dynamics particularly relative skyrizi product obviously tremfya obviously ramping nicely know theres investor concern though ramp could impacted strong launch competitor price volume business going forward second liability seems like kind liabilities somewhat dominated narrative story company address overhang whats companys approach towards settlement seems like right mix opioids talc others overshadowed strong underlying fundamentals company jennifer dont address chris around tremfya maybe give pharmaceutical perspective ill take litigation matters hi chris good everyone first really strong pharmaceutical group wanted highlight couple key points first sales operational growth sixth consecutive sales take look growth excluding zytiga also strong contribution international markets actually growth outside wellour growth broadly based key brands growing double digit rates offset erosion due biosimilars generics overall immunology business oncology business neuroscience notable call outs stelara growth darzalex imbruvica growth tremfya ill come back growth invega sustenna erleada growth strong performance across base business across key growth drivers additionally really nice progression pipeline number significant approvals filings worth calling outmost recently last friday got approval xarelto help prevent vte acutely medically ill patients got approval invokana treatment diabetic kidney disease darzalex got approval combination regimen newly diagnosed transplant eligible patients erleada got approval treatment metastatic castration sensitive prostate cancer expands opportunity product non metastatic space metastatic space also number regulatory submissions breakthrough designations granted strong performance key growth drivers good reasons optimism pipeline progression terms tremfya tremfya business grew versus third addition filed application use active psoriatic arthritis august today really pleased launch progress trajectory based strengths profile products got coupled strong longevity data believe got really competitive offering il right mechanism psoriasis areas exploring also got strong package drive continued growth settings discussed strengths package superiority data versus separate mechanisms approval versus label superiority data versus humira anti tnf versus stelara nonresponders il mechanism recent data versus cosentyx il pasi week actually years data demonstrates therapeutic longevity asset thats going presented next week take look believe got real competitive profile versus il also got competitive profile versus il dont see theyre bringing anything market different fact based strength data plus data strengths access market going continue compete arguably competitive space thanks jennifer chris respect second litigation broadly company important without going deep litany cases theres id say headline grabbers folks taken notice important give brief summary position unique right respect risperdal judgment heard last week first lets make sure people understand benefits risperdal provides psychosis decades whos list preferred medicines judgment based supreme court precedent suggest egregious dont expect stand appeal certainly amount expect come precedent hold respect opioids youve seen divergent paths oklahoma thought based theory law brought public nuisance facts underlie case even attorney general state said many times court proceedings johnson johnson theres opioid crisis less market share thats state oklahoma across country facts ignored couldnt find reasonable settlement approach decided pursue case currently appealing case made motions ohio saw something different saw reasonable amount proportion companies involved defendants particularly pleased see funds going victims opioid addiction many reasons thought best path stakeholders settlement thats something always kind take account terms best solution stakeholders including investors obviously want certainty lastly talc probably poster child big business plaintiffs attorneys made type approach outstanding cases product liability cases court system today related life sciences life science companies products never safer never effective plaintiffs bar total spent alone advertising tv trying drum numbers class action suits become industry may realize youll see headlines certainly verdicts ruled remind everyone theres currently case thats fully adjudicated stands judgment last week alone decisions favor company dont see headlines case going continue defend product know safe know cause cancer thats opinions johnson johnsons scientists thats opinion respected institutions like national cancer institute fda numerous prestigious universities continue evaluate situation unique merits cant underscore enough got small great legal team working matters todays results hopefully demonstrate phone anybody whos reading press release continue focused organization associates trying bring better solutions better innovation health care eventually win strong conviction around years know navigate matters going stay focused task hand last point may good sometimes get especially relates talc theres overhang business id like turn thibaut maybe give quick commentary respect consumer business whether hes seeing impact sure good everyone short answer see significant effect across consumer business joe referenced employees around world consumer sector hyper focused delivering personal health differentiated way strong brands within science endorsed professionals chris highlighted earlier delivered solid growth key priority areas declared beginning heard growth otc beauty strong performance brands like tylenol neutrogena aveeno perspective ground baby franchise represents approximately revenues approximately sales outside united states less impact events see performance business continue gain share beauty otc outperforming market positioned segments growing markets segments compete also saw increased adjusted ibt significantly basis points far date focused executing strategy great thanks thibaut chris thanks one china one china one med tech ashley first china joe color youre seeing across divisions expectations going forward obviously theres concern environment china remind much china accounts percent total sales one follow ashley yes sure larry good speak china continues perform extremely look strip significant divestitures lifescan asp overall growth say medical devices know company medical devices china around pharmaceuticals consumer healthy across board seen impacts tariffs dont know pending around health care fortunate way continue monitor business overall thats high watermark business continues go fairly strong terms growth levels thats helpful joe ashley advanced surgery business growing outside nicely soft turns around recent trends continue launch surgical robot thanks larry im going kind get specifically kind surgery business helpful share talked last hotspots address look areas really fire joe mentioned china like asia business continues perform double digit actually performed high single digit double digit franchises orthopaedics surgery interventional talked last time really largest market continue accelerate growth pleased see date business around time last number little bit south look global orthopaedics business command world leading position orthopaedics accelerated date business around really fueled strong around strongest since growth acceleration versus ago number turn attention surgery say energy business strong performance really double digit growth ous challenged get digital surgery offerings similarly endocutters endocutters globally softer versus second really due phasing due healthy comp last grew endocutters similarly seeing strong performance outside united states high single digit challenged versus robotic penetration happening united states appreciate commentary medical devices loved see growth ashley quick growth talked ex one timers sustainability know theres probably going volatility want make sure level growth isnt going fall sort reason wondering could talk look next quarters sustainability growth level headwinds particular coming thinking thanks danielle listen really good see number pleased pleased really kind enhancement feel confident continued progression dont anticipate perfect linear line every market adapt market really going accomplish youre seeing really benefit strength commercial execution say im equally bullish really innovation agenda look benefited really novel innovations circular power circular staple complex oncology cases first contact lens light adaptive lens launching cementless high growing segment knees news spine related symfony launch complex concern cervical deformity really going effect equally important really look innovations coming next lets say months going first kind smart micro catheter business qdot going deliver amount energy take procedure hours hours going another novel innovation vision related first ever drug eluting contact lens allergy premium intraocular lens coming going digital surgery robots orthopaedics business really beginning filing let alone digital surgery offerings monarch future verb eye platform thanks margins obviously posted really strong looks like consumer med tech key drivers improvement wondering level sustainable theres room improvement segments look darzalex looking ahead reasonable assume growth inflect positively next given frontline label maybe thibaut ashley like address levels investment respect businesses jennifer handle darzalex sure start consumer trends saw focused improving profitability level talked sequential improvement seen look expect see moderate acceleration top line market growing around remain focused driving productivity agenda thats agenda yes best way characterize relative turns bigger lift terms profit improvement profitability margins improving consumer unit youll still see continued improvements thibault mentioned degree probably saw build terence ashley kind investments expectations seeing strong performance asia made continued investment asia continued investment china continue command leadership position china command leadership position emerging markets really nice see emerging markets china continue make select investments areas like commercial infrastructure around world class sales force world class professional education seeing investments made particularly deployment models united states effect clearly innovation digital surgery rs acquisition continue verb orthotaxy robotic programs spine know invested since medical devices make sure playing attractive spaces fair terence little bit tough business leaders answer point time mentioned outset still developing plans go plans really looking investment opportunities available terms fortifying short term long term whats going make truly competitively advantaged years road thats little bit difficult answer always looking make sure got sustained periods time sales growth exceeds market respective segments profit little bit better growth sales growth terence oncology business another strong darzalex really one key drivers growth versus third last noted got great opportunity make strides front line setting right darzalex leader line two plus however end june gained approval front line setting transplant eligible patients combination revlimid end third gained approval front line transplant eligible patients combination velcade thalidomide based cassiopeia data really looking continue expand darzalex across various lines therapy various combinations really backbone therapy importantly believe key growth driver future filed subcu formulation going take several hour infusion product minutes thats going important catalyst growth particularly outpatient settings community settings also importantly studying darzalex amyloidosis smoldering myeloma theres near term short term growth continued long term growth potential asset based strength performance date additional data seeing opportunities front line setting growth potential coupled subcu formulation thats coming believe theres good reasons strong continued growth darzalex going forward wanted guess clarify timing around digital surgery platforms ashley mentioned filing orthotaxy want get clarification also updates progress monarch timing around verb might medical device day next wondering expect kind verb thoughts medtronic guess showcasing platform thank kristen listen couldnt bullish around going create value space really kind goal trying achieve really make medical intervention smarter less invasive personalized quite frankly change standard care next years years years really starts know strong footprint actually today world leader open surgery world leader minimally invasive laparoscopic surgery im pleased share monarch great start first endoluminal surgery conducted bronchoscopes using monarch system youll see chest end october sharing post market surveillance data stay tuned healthy pipeline monarch lung biopsies potentially lung treatment via ablation potential treatment via oncolytic viruses program way also looking applications monarch endourology treatment kidney stones also assessing potential application monarch gi endoscopy encouraged monarch equally encouraged acquisition rs verb brought leader head verb program kurt azarbarzin hes got years experience minimally invasive surgery robotics pretty fun watch kurt community dr fred moll one founders intuitive peter shen hes grown ethicon instrumentation andy conrad verily kind put thought leaders together different key opinion leaders around world really assessing create value assets next several years encouraged say programs conducted mean programs rsi platform verb conducted end end procedures multiple different indications general surgery gotten good feedback plus surgeons going take absolute best parallel advance programs equally pleased see dr fred moll engage orthopaedics team plan file orthopaedics program filing middle take step back really see healthy cadence news starting last launch monarch every single meaningful news completing assessment kristen mentioned around eye platform verb create amount value right changing timelines assessment complete stay tuned great maybe another update ashleys point progress monarch platform early limited date pleased progress placement systems amount date versus continues progress adoption standpoint marketplace congratulations strong hoping start around pharma business wanted update generics biosimilar headwind could called kind number way help headwind sit head second another pharma xarelto congrats line extension help terms proceed launching indication whether pricing considerations need undertake xarelto return growth blockbuster thats relatively anchor last number quarters josh jennifer take look first regarding sort biosimilar generic impact seeing incremental impact biosims generics business little bit less wed anticipated however number generic approvals erosion rates starting catch enter next work rest part little bit going carry working done relates xarelto excited indication actually eighth indication xarelto product really remains unmatched oral space terms number indication asset indications afib vte prevention treatment also cad pad acute medically ill indication first broadens xareltos base indications across areas really unmatched help formulary payer perspective within market americans hospitalized acute medical illnesses patients increased risk clots months post discharge currently theyre treated hospitals product like lovenox complications difficulties injections typically go untreated leave hospital know studies data much better patients actually treated days following medical illness believe patients start xarelto hospital theyre acute medical illness goal transition hospital script continue oral medication days may go good news xarelto milligrams right dose indication already available among hospital formularies thats dose market number years post knee hip surgery broad availability hospitals formulary access also payer access also got teams already deployed hospitals across range indication sets typical way next day launches teams already market getting ready working indication continuing drive uptake paradigm changing cad pad indication fighting competitive share afib vte treatment prevention indication feel good reached flat thats obviously want moving forward getting past donut hole rebate issues believe theres opportunity growth asset take look completing going forward follow ups could one digital surgery side ashley appreciate color strategy across major business lines one wanted ask partnership brainlab continues progress pretty solid set products mentioned going drive improving growth spine could amount better pressure coming sort increase robots space strategically one follow joe could sure thank matt spine world spine challenged performance challenged really working one give dedicated focus ill call like top markets spine really going growth contributors stabilizing leadership point view commercial execution point view clinical acumen engage spine surgeons rebuilding spine portfolio starting see fruit stabilization mentioned chris mentioned innovations around viper prime around conduit interbody cages around symfony going clearly digital surgery also going important launch date minimal effect know referenced strategic partnership brainlab offering end end navigation solution actually entered co marketing distribution agreement tianji market leader orthopaedics robotics china actually arm based robotic technology approved spine china clearly feel like digital surgery offering spine thats helpful joe could understand comments call youre working plan next still full outlook next could help understand perhaps puts takes spending youve mentioned bouncing near term long term challenges may elsewhere thatd super helpful maybe walk sg potential flex opportunities gross margin high level joe super helpful yes appreciate matt im going respectful teams letting finalize plans say terms puts takes feel good top line growth need see net incremental generic biosimilar erosions eventually land go fourth give pretty good insight saw medical devices expect around market see market overall know influenced higher segments dont id say pronounced presence working way towards ashley team line sight continued acceleration maybe step back overall pharma market see growth next consumer youve heard thibaut expect competitive market anticipate around focus prioritization skin health self care improving profitability profile going continue invest thats bias number years see issue ls theres share thats grow percent sales often going continue look opportunities advance pipeline really thrilled press release today simply financial results although pleased say items listed across businesses notable advancements pipeline really bodes future matt appreciate apologize cant give little bit detailed guidance today stay tuned report january pretty specific really quick ones given strength medical devices wondering could comment quick things one strong growth hips knees outside united states wondering could elaborate drove incremental growth market share market strength one last one verb wondering youd able position provide detailed update timelines filing approval ask part comments endocutters part one large competitors provided pretty specific timelines quick device questions sure thanks bob im pleased performance hips around strong portfolio hips really leading way anterior approach actually completed acquisition joint point going help kind inter operative software program enable digitally oriented procedure hips id say hips pretty balanced ous knees encouraged first several actually posted growth knees around really fueled ous performance ill come back attune performing seen pivot start primary revision attune working legacy transition legacy brands sigma really whats enabling knees couple things one strength commercial execution top markets also innovation strong foundation attune knee platform invested years bringing market performing efficacy safety point view full portfolio attune revision bearing rotating platform also launched cementless could add bob see next cementless fixed bearing digital surgery offering knees feel pretty confident joint platform start get back market performance relates verb progressing verb milestones bring market preparing kind validation studies active discussions regulatory authorities united states europe mentioned brought ceo verb kurt azarbarzin days ago letting get underneath hood needs focus need acceleration pleased customer feedback verb done brought combination rs leaders dr fred moll kurt verily partner verily whore creating kind connected future middle assessing really optimize assets make difference health care systems still middle expect completed end right holding timelines expect probably updates keep posted thanks bob great thanks ashley rob time one last ill turn joe wolk closing remarks ill keep one thanks squeezing maybe thibaut apologize missed earlier international consumer business seems lagged date growth give little bit detail international growth little slower youve alluded bit pickup market growth next consumer big factors driving better growth yes thank regarding said strong bit softer outside number factors internal external externally see softness emerging markets latin america especially rolling baby johnsons baby brand around world rollout completed end impact shipments outside already completed rollout last talked regarding next anticipate modest acceleration market geographies compete next joe mentioned finalizing plans grow competitively market continuing work profitability agenda improve profitability time invest behind growth opportunities see priority areas great thank jayson appreciate joe final comments sure first one thank webcast today time continued interest johnson johnson ashley thibaut jennifer chris certainly proud discuss quarterly results also engage discussing overall health business hopefully saw todays press release discussion conclude focused organization delivering innovation betterment health care much broader society manage challenges face deliver results years many many years many many decades hopefully saw display today thank time look forward next encounter\n",
            "-----------\n",
            "\n",
            "Document: 334, Score: 0.7150333523750305\n",
            "-----------\n",
            "hello chris delorefice vice president investor relations johnson johnson welcome companys review business results fourth full joining todays call alex gorsky chairman board directors chief executive officer joe wolk executive vice president chief financial officer thank interest johnson johnson pleased fourth full results performance illustrates track record consistent growth exceeding financial expectations making progress long term strategies sales business accelerated versus operational adjusted basis consistent guidance provided beginning acceleration driven continued strength pharmaceutical segment delivering objective restoring consumer growth market levels improving performance medical devices also marked another disciplined portfolio management including completion key divestitures also advancing portfolio strategic acquisitions collaborative agreements believe fortify long term performance enter confident strength business believe pharmaceutical business deliver growth absorbing significant impacts biosimilar generic competition expect consumer maintain market growth anticipate medical devices segment continue improve plan deliver innovation enduring impact patients caregivers consumers also delivering solid financial performance logistics get details review made available via webcast accessible investor relations section johnson johnson website investorjnjcom also find additional materials including todays presentation associated schedules please note todays presentation includes forward looking statements encourage review cautionary statement regarding statements included todays presentation companys form identifies certain factors may cause companys actual results differ materially projected sec filings including form recently filed form along reconciliations non gaap financial measures utilized todays discussion comparable gaap measures also available investorjnjcom several products compounds discussed today developed collaboration strategic partners licensed companies slide acknowledges relationships terms todays agenda begin review results corporation business segments alex reflect upon performance share perspectives health care johnson johnsons performance drivers joe conclude providing insights cash guidance remaining time available questions anticipate webcast last minutes im pleased share results worldwide sales fourth versus fourth operational basis sales increased currency negative impact sales regions outside operational growth currency negatively impacted reported ous results points excluding net impact acquisitions divestitures operational sales growth worldwide outside full consolidated sales increase compared full operationally full sales grew currency positive impact operational sales growth strong increasing regions outside increasing currency positively impacting reported ous results points excluding net impact acquisitions divestitures operational sales growth worldwide outside turning earnings net earnings diluted earnings per share versus diluted earnings per share negative ago excluding amortization expense special items periods adjusted net earnings current adjusted diluted earnings per share representing increases respectively compared fourth operational basis adjusted diluted earnings per share grew regarding full net earnings diluted earnings per share adjusted net earnings adjusted earnings per share respectively versus full results operational basis adjusted diluted earnings per share grew joe provide additional details earnings remarks beginning consumer comment business segment sales performance fourth highlighting items build upon slides front unless otherwise stated percentages quoted represent operational sales change comparison fourth therefore exclude impact currency translation part prepared remarks todays call provided additional commentary website full sales segment assist updating models worldwide consumer segment sales totaled growing market excluding net impact acquisitions divestitures divestiture compeed wound care franchise nizoral beauty franchise offset acquisition zarbees portfolio naturally based products otc business adjusted operational sales growth consumer continues grow share commerce channel outpacing category growth rates strong double digit growth across regions beauty franchise continues deliver strong performance growing adjusted impact nizoral divestiture growth driven strength aveeno neutrogena due products market growth ous growth primarily driven continued market expansion vogue portfolio including ogx maui moisture brands emea latin america additionally neutrogena continues perform strong asia fueled products including hydro boost platform counter medicines grew globally adjusting impact zarbees acquisition otc share growth outpacing category brands gaining share driving growth tylenol particular showed solid growth driven strong consumption addition benefiting seasonal retail stocking dynamics ous performance declined driven declining sales upper respiratory brands russia due soft cough cold flu season partially offset strong growth smoking cessation business canada oral care grew globally strong growth driven performance innovative launches including listerine ready tabs strong growth outside primarily china concluding consumer segment baby care grew globally recent performance trends johnsons baby relaunch continue positive consumption data points since launch however experienced net sales declines driven lower babycenter media sales coupled declines desitin due trade promotion spending shifts prior comparables sales growth outside led strong aveeno baby growth primarily china moving pharmaceutical segment worldwide sales grew double digit growth key products resulting continued market performance sales increased outside sales growth slowed fourth primarily due impact generic competition zytiga basis point impact growth along increased discounts primarily xarelto sales growth led oncology therapeutic area worldwide growth darzalex continued strong performance growing globally grew continues benefit strong market growth point increase market share across lines therapy based third data outside darzalex experiencing increased penetration share gains emea countries commercially available latin america asia pacific region imbruvica grew globally driven largely market share gains strong market growth across multiple indications strong uptake outside european asia pacific markets based third data across lines therapy imbruvica gained approximately points market share patient total patient share leader chronic lymphocytic leukemia worldwide zytiga growth slowed growth outside partially offset declines due generic competition strong sales growth europe asia driven market growth share gains primarily expanded indication metastatic high risk castration sensitive prostate cancer based latitude clinical trial non metastatic castration resistant prostate cancer continue pleased launch progress erleada penetration prescribers split evenly among urology oncology practices also received approval eu non metastatic castration resistant prostate cancer immunology delivered global sales growth driven continued strong performance stelara offset continued erosion remicade due increased discounts modest share loss biosimilars remicade maintained approximately infliximab volume share remain pleased uptake stelara crohns disease market shares increased approximately points compared fourth lastly sales newly launched treatment psoriasis tremfya totaled globally tremfya experiencing strong demand patients therapy achieved share psoriasis market point third neuroscience paliperidone long acting portfolio performed growing almost higher market share driven increased patient starts strong persistency experience declining sales cardiovascular metabolism product portfolio primarily driven declines xarelto invokana xarelto continues increase trx share growth however growth offset increased discounts higher medicare donut hole utilization remain excited potential significantly increase xareltos treatable patient population approximately patients supported fdas recent approval xareltos milligram vascular dose cad pad indication initial customer response positive confident value indication provide patients total pulmonary hypertension portfolio grew double digits increasing realized strong growth opsumit uptravi growing respectively global basis benefited market penetration increased share expected tracleer declining due increased use opsumit generic competition europe ill turn attention medical devices segment worldwide medical devices sales declining excluding net impact acquisitions divestitures primarily divestiture lifescan adjusted sales growth worldwide accelerated versus third adjusted operational growth driven continued strong performance interventional solutions advanced surgery general surgery vision orthopaedics continues lag market growth operational sales growth globally continued fourth straight sequential improvement due strengthening fundamentals including uptake launches interventional solutions grew globally continued strength business grew worldwide fueled market leadership position newer product offerings ablation advanced catheters contributing atrial fibrillation procedure market growth represents consecutive years double digit growth additionally realized strong growth cerenovus business double digit growth regions driven product innovation including embotrap treatment ischemic stroke strong vision results driven contact lenses grew globally strength astigmatism daily disposable lenses oasys family growth outside strong penetration emerging markets large contributor continues experience high consumption approximately however sales basically flat due inventory dynamics contact lenses grown market consecutive years orthopaedics hips grew expect represent performance line market driven leadership position anterior approach continued strong demand primary stem actis trauma growth increased versus prior globally driven improved market growth continue see strong adoption newer innovations tfna femoral nail experienced strong growth asia led china india spine delivered adjusted operational growth however growth aided onetime pricing related true ups worth basis points adjusting performance consistent third growth continue see stabilization performance driven products concorde lift expandable cage viper prime system minimally invasive surgery knees grew previously disclosed third results aided onetime impact price legislation india contributed basis points growth third adjusting knee portfolio showed strong sequential improvement primarily outside due strong performance asia continue see strong uptake attune revision system pricing pressure continued impact categories orthopaedics pure price negative across platforms approximately negative spine excluding onetime pricing true mentioned earlier negative hips negative knees negative trauma pleased results surgery business advanced surgery performance growth globally led biosurgery growth along strong performance energy biosurgery strength driven strong demand aided innovation surgicel powder endocutters also grew despite high growth comparables partially driven competitor supply disruption last general surgery wound closure grew growth regions barbed plus sutures experiencing strong adoption additionally market benefited customers adopting innovative technologies associated price premiums expected selling days material impact global growth rates fourth final comment regarding hospital setting let provide utilization trends third saw increase hospital admissions surgical procedures increasing lab procedures also preliminary estimates fourth indicate slight declining trend hospital admissions surgical procedures growth lab procedures growth consistent third approximately concludes segment sales highlights johnson johnsons fourth reference heres slide summarizing notable developments occurring fourth mentioned comments pleasure turn call alex thank chris thanks joining today pleased highlighting strong results delivered given focused execution performance driven strategy im proud share exceeded financial performance metrics set beginning last also delivered commitments patients employees communities defined credo youve heard mention throughout celebrating anniversary credo introduced general robert wood johnson credo blueprint shaping caring role johnson johnson plays society although credo etched stone living document select occasions evolved keep pace world live end anticipation anniversary introduced enhancements credo inspired feedback diverse johnson johnson employees representing regions sectors functions enhancements explicitly put patient first center focus reflect needs changing world generation employees underscore commitment diversity inclusion solidify commitment improving health humanity credo remains relevant today first introduced years ago im excited confident together propel johnson johnson forward shape next years beyond health care long term mindset remain focused leveraging broad based capabilities continue drive next generation growth across entire portfolio markets greater opportunity compete markets lead include platforms deliver sales annually consumer improved operational performance delivered market growth also making investments future ill discuss greater detail shortly key drivers development rollout innovative products continued geographic expansion across evolving consumer channels strong sales performance popular brands neutrogena aveeno tylenol motrin listerine strong performance newer brands ogx additionally global johnsons baby relaunch strong start continue launch markets pharmaceuticals strong track record success continued throughout achieved market performance even face biosimilar competition remicade driven double digit growth key products including stelara darzalex imbruvica invega sustenna opsumit name time continued invest advance robust pipeline translates better outcomes treatment options patients fighting cancer hiv pulmonary arterial hypertension cardiovascular disease schizophrenia diseases immune system fact recently ranked among top companies worldwide working expand access medicines access medicines index medical devices consistent sales momentum throughout fueled interventional solutions advanced surgery vision promised improved performance starting team delivering promise improving cadence innovation coupled continued portfolio optimization completed divestiture lifescan completed acquisitions strategic partnerships expect augment future growth know still work committed continuing build upon momentum return market growth value creation im proud highlight marked consecutive adjusted operational earnings growth johnson johnson approximately robust performance indicative strength broad based business results reflect ongoing commitment manage long term relentless drive innovation strategic portfolio management disciplined capital allocation strategy regularly discussed board directors part ongoing strategic planning youve heard say pleased performance important remember never satisfied looking ahead committed advancing innovation pipeline pharmaceutical business broadening reach consumer business meeting full potential medical devices business want emphasize priority drive superior performance across businesses ensure benchmark track hold every one johnson johnson leaders accountable key metrics focus innovation execution customer satisfaction financial performance portfolio management quality long term value creation importantly credo values leadership believe sustaining investment innovation key aspect strategy achieved record levels investment investing approximately across industries one top companies invest highest levels innovation remain committed strategic partner choice evidenced invested across number value creating acquisitions collaborations includes zarbees orthotaxy collaboration arrowhead hepatitis recently agreement argenx treatment acute myeloid leukemia high risk myelodysplastic syndrome hematological malignancies closed last week total signed acquisitions licenses various sizes including acquisition company markets drci labo line skin care products closed last week also signed innovation deals made investments johnson johnson development corporation additionally im pleased share last week announced collaboration apple inc johnson johnson conduct research study analyze whether heart health program using app johnson johnson combination apple watchs irregular rhythm notifications app accelerate diagnosis improve health outcomes people worldwide living atrial fibrillation afib condition lead stroke potentially devastating complications fact alone afib responsible approximately deaths every optimistic potential wearable technology aid earlier detection prevention frequent cause stroke based upon insights generated research program future may able develop ways detect health conditions earlier also exhibit measurable physiological symptoms moving forward continue enhance status preferred partner agnostic best science technology resides aggressively pursue innovation internally innovation ecosystem across innovation centers jlabs jjdc various strategic partnerships portfolio evolves innovation acquisitions growth initiatives also regularly evaluate existing businesses determine still fit strategy criteria value creation result seen undertake process consider different ownership business might value enhancing business might better fit another companys portfolio process also ensures continue invest promising areas portfolio believe make significant difference patients consumers create greater value shareholders executed divestitures including lifescan october also accepted binding offer divest asp business expect close first half im sure come accept change seeing across health care industry around world normal constant rapid challenges opportunities arise breathtaking speed committed thriving environment feel strongly broad base health care provides distinct competitive advantage positioned across vital aspects health care pharmaceuticals consumer medical devices unique insight challenges opportunities emerge better positioned believe organization meet needs patients consumers around world address challenges opportunities world economy present broad base heritage strategic choice grounded proven long term performance understanding industrys present future worlds largest broadly based health care company understand important role play leading responsibly representing industry integrity work many organizations similar aspirations business roundtable ceo force good embankment project inclusive capitalism look current marketplace business landscape external environment often asked potential impacts business industries end throughout course engage global leaders government officials business partners customers countries around world variety topics impact current access quality health care also drive quality health care future id like share perspective key topics today regarding overall health care cost drug pricing united states cost health care one pressing issues facing country today greatly recognize importance quality accessible health care medication central every individuals quality life share administrations goals reducing health care costs improving quality efficiency care effort offer solutions help achieve goals responded several administration proposals offering insights ways expand value based care value based arrangements understand passionate dialogue health care cost drug pricing theres likely nothing personal important every individual quality accessible health care also recognize people facing higher pocket costs seek medical care hospital doctors office alternative health care provider especially go pharmacy get medication important note medicines represent total health care cost medical devices represent total health care cost united states remaining accounted areas outside industry additionally agree value derived innovative medicines continues significant addressing health issues today reducing morbidity rates future furthermore medicines contributed greatly extending life expectancy example back life expectancy hiv patient months today close providing patients near normal life expectancy people surviving years diagnosis hiv patients still need take medication every day keep healthy rest lives also working various partners health care system transform way health care paid everyone involved held accountable rewarded value deliver key priorities focus participating health care cost drug pricing dialogue include system rewards innovation believe companies obligation continually help improve standard health care investing science technology develop solutions products additionally want see personalized value based health care system keeps patient center held accountable overall outcome next system values transparency transparency benefits participants health care system im really proud pharmaceutical business taken strong leadership stance increasing transparency industry last issued second annual report transparency showed net price medicines decreased preparing issue transparency report next couple months already tell net prices declined look forward providing information report released results demonstrate commitment responsible business practices put patients first including invest resources price medicines help people need medicines get access third continue engage dialogue develop proposals contain health care cost stakeholders need extremely careful cognizant avoiding unintended consequences may increase patients cost decrease patients access affordable quality health care know continues important issue responsibility help lead identify solutions continue unite around efforts address critical health consumer needs people around world continue seek opportunities work administration others share commitment developing results based health system turning topic global trade global health care company johnson johnson relies free trade open markets bring products patients consumers around world hopeful agreement reached china addresses concerns creates long term framework partnership future continue work government officials across globe fair equitable trade everyones best interest companies consumer also continue monitor developments closely front expect issue motion time lastly regarding global view committed leader global health care space help drive change people around world want need see recognize collaboration viable strategies developed conjunction health care industry governments community leaders health care professionals successfully solve issues seek solutions advance health humanity despite challenges lie ahead remain optimistic future health care industry based upon strategic plans place innovative technology solutions leverage every day talented people across johnson johnson remain committed delivering life saving life changing solutions patients consumers everywhere move talk long term objectives outlook important reiterate quality safety products top priority relates baby powder trusted product years remain committed ensuring facts talc understood continue defend safety product legacy working hard earn customers trust working equally hard keep continue focus meeting needs patients consumers around world come depend put trust every day consistently shared long term objectives remain focused growing sales organically faster rate market growing earnings faster sales coupled value creating strong dividend yield basis strong long term total shareholder returns keeping credo commitment everything must high quality quality safety remain paramount across johnson johnson enables operate position strength important stakeholders especially value experienced every patient consumer touch health care landscape continues evolve change business business strategies response changing dynamics enterprise level remain committed near term priorities consistent long term growth objectives regard outlook remain focused bringing innovative solutions patients consumers globally driving strong growth anticipating biosimilar generic impact pharmaceutical products near term expect impact sales approximately address impact deliberately actively managed portfolio last years especially throughout ive already mentioned regularly make portfolio management decisions gives flexibility invest innovation pursue deals divest withstand impact patent erosion robust long term strategy enabled make investments necessary withstand impact grow competitive rates additionally continuing progress current robust pipeline differentiated novel products even face short term pressures remain confident marketed portfolio near term pipeline across pharmaceutical business one key growth drivers future additionally expect deliver financial quality innovation commitments continue optimize portfolio let provide greater detail deeper insights regarding business segments mentioned pharmaceuticals expect drive growth end market products successfully launch products line extensions replenishing pipeline support sustained long term market growth industry leading pipeline stamped excellence pharmaceutical business delivered outstanding sustained performance past several years growing operationally approximately inclusive impact negative net price driven successful launches growth many blockbuster medicines pharmaceuticals industry leader performance measures including productivity commercial capabilities key catalysts growth include reaching patients continuing penetrate secure indications life changing products darzalex imbruvica stelara driving best class uptake successful product launches tremfya erleada securing regulatory approvals esketamine erdafitinib promising therapeutics potential peak fueled iconic brands unparalleled consumer insights consumer business achieved market growth moving forward concentrate enhancing leadership priority categories focusing critical geographies mega brands also continue look expand fast growing natural category evident acquisition zarbees otc premium beauty category recent acquisition company markets drci labo line skin care products confident strategies place allow move agility needed address market needs omnichannel approach large box retailers commerce channels better serve consumers consumer expect continue grow slightly market advance commerce digital capabilities deliver innovation win globally locally expanding margins key catalysts growth focus continuing build upon early success johnsons baby brand relaunch broadening scope innovation model accelerate growth beloved brands consumers around world wherever however shop enduring brand portfolio strength sustained innovation delivering differentiated products professionally endorsed science based thats history future medical devices expect accelerate growth improved execution enhance flow value innovation includes progression digital surgery platforms capitalize comprehensive portfolio accelerating growth strategy expect deliver commitment improve performance improved operational growth excluding acquisitions divestitures compared additionally delivered commitment improve cadence innovation exceeding goal delivering major product launches still fully recognize progress uniform across entire portfolio areas must improve specifically orthopaedics demonstrated positive progress throughout knees spine businesses believe sets beyond medical devices continue accelerate growth innovation strategic partnerships portfolio management business models key catalyst growth medical devices include fueling growth top platforms advanced surgery vision continuing increase cadence innovation launching major products across orthopaedics surgery interventional vision portfolios attune cementless echelon next gen powered stapler vizigo steerable sheath acuvue oasys transitions light intelligent technology maximizing market growth opportunities stroke sites care beyond hospital simplifying operations relentlessly focusing execution progressing efforts digital surgery including robotics critical element future success near term look next decade beyond throughout johnson johnsons history proudly passionately strived create maintain strong consistent sustainable business evidenced consecutive years adjusted operational earnings growth consecutive years dividend returns increases one companies hold aaa credit rating among standard poors top market cap companies also many notable annual recognitions major publication lists including fortune diversityinc time magazine working mother one admired respected diverse best places work strong results compelling recognitions possible without talented diverse dedicated employees around world today employ approximately global employees jobs numbers continue grow extend capabilities reach united around shared commitment common purpose inspires world without disease evident tireless efforts relentless passion drives ambition reach next frontier cancer care continue combat ebola bring healthy vision people everywhere create world free tuberculosis name areas focus purpose driven credo based culture puts patients people first certainly true way employees work consistently cultivate worlds best healthiest engaged workforce believe critical operating healthy business also positions deliver another years quality health care within reach everyone everywhere enables continue drive growth strong shareholder returns proud results delivered past several years continue working achieve exceed expectations beyond unique mission must lead stewards credo leaders health care around world deliver great results shareholder value also deliver best medicines solutions patients consumers around world lives touch hopes raise progress healing ultimately advancing health humanity lastly im honored led company almost years believe company better positioned lead profound change dynamic era johnson johnson im proud history could excited future look forward addressing questions upcoming ill turn joe provide additional details fourth results guidance thank joe thank alex good everyone alex chris mentioned pleased performance exhibited strength portfolio disciplined management business fact adjusted operational sales growth highest since adjusted eps growth highest years ended exceeding consensus estimates latest analyst models earnings per share results also higher end exceeded ranges provided october full guidance since chris already provided detailed overview sales alex provided overall business update ill provide commentary cash guidance start sharing highlights regarding full statement earnings please direct attention boxed section bottom schedule see provided earnings adjusted exclude intangible amortization expense special items adjusted operational eps growth latest guidance range reported adjusted eps reflects reported growth operational growth upper end estimate range reported eps exceeding operational guidance october driven strong sales results margin improvement regarding adjusted pretax operating margins latest guidance commented least basis point improvement versus full exceeded projections achieving basis point improvement continue invest business improvement attributable sales growth leveraging scale productivity coupled improved cost goods sold due mix volume moving next slide improvements reflected full adjusted income tax enterprise improved basis points versus looking adjusted pretax income segment medical devices lower previous primarily due reduced divestiture gains investments targeted improve sales growth pharmaceutical margins improved basis points driven improved cost goods leveraging sg timing milestones consumer margins slightly improved words certain items statement earnings turning consolidated statement earnings fourth please direct attention boxed section towards bottom schedule provide adjusted earnings excludes intangible amortization expense special items tax basis primarily driven intangible amortization litigation expense excluding impact items adjusted earnings per share increase versus fourth adjusted eps constant currency basis versus fourth highlight items changed gaap statement earnings compared last gross profit margin improved basis points primarily driven impact inventory step actelion favorable mix investment research development percent sales lower fourth primarily due lower milestone payments reminder fourth entered strategic licenses legend car asset exercised option idorsia compound treat patients resistant hypertension however worth noting full continued prioritize funding innovation increasing annual investment income expense net expense compared net income fourth excluding special items line income expense relatively flat net gain compared net gain prior period primarily reflecting divestiture gains regarding taxes tax rate includes adjustments related tax cuts jobs act highlighted tax footnote upcoming words cash end approximately net debt consists approximately cash marketable securities approximately debt estimate free cash flow generated improvement approximately announced december johnson johnson board directors authorized repurchase companys common stock authorization based continued strong performance confidence business going forward conviction board directors management team company shares attractive investment opportunity end completed approximately authorized amount lets focus companys guidance consider models alex mentioned focus continuing deliver growth even face biosimilar generics impact performance upcoming let provide general qualitative themes factor quantitative thinking items moving positive direction tailwinds include factors consistently heard exist across businesses starts breadth portfolio strength behind better platforms also expect consumer segment relying innovation improved go market models continue strength delivered second half expect grow slightly market additionally believe improved execution product introductions enable medical devices segment continue improve growth advancing goal market pharmaceuticals anticipate recently launched products erleada tremfya continue performing products like darzalex imbruvica stelara continued uptake indications added approved labels finally excited potential approvals launches nmes esketamine treatment resistant depression erdafitinib bladder cancer business offsets headwinds also consider notably anticipate continued biosimilar competition remicade procrit generic competition related velcade tracleer zytiga pricing pressure expected persist stronger dollar likely result negative impact reported results next slide illustrates qualitative factors reflected guidance consistent past practice guidance based constant currency basis reflecting results operations way manage business provide best understanding underlying performance despite headwinds generic biosimilar competition approximately continue grow implies balance portfolio grow organically netting factors expect range adjusted operational sales growth sales next considering negative impact net acquisitions divestitures comfortable models reflecting operational sales growth range predict impact currency movements utilizing euro spot rate relative dollar last week estimated negative impact foreign currency translation approximately result estimated reported sales decline minus minus compared slide recaps line items provide full guidance since discussed sales guidance focus remaining components guidance including eps expecting adjusted pretax operating margin slightly improve still prioritizing investment business long term although continuously evaluating external value creating opportunities line capital allocation strategy purposes models assuming major acquisitions major uses cash current share repurchase program comfortable modeling net interest expense lower due expected lower levels debt higher anticipated interest income prior aware income expense line record royalty income gains losses related items litigation investments johnson johnson development corporation divestitures asset sales write offs comfortable models reflecting net income expense excluding special items net income ranging recognize higher intend deploy portion income investments across enterprise fortify existing internal pipelines obtain external sources innovation bolster long term growth part continual portfolio management strategy reference level income consistent levels experienced subsequent years reduced income significant levels still delivered strong financial results produced adjusted earnings growth moving taxes effective tax rate guidance excluding special items approximately guidance takes account latest assumptions regarding income mix onetime favorable items planning reoccur considering factors comfortable adjusted eps guidance range per share constant currency basis reflecting operational constant currency growth approximately predicting impact currency movements provide insight potential impact eps using recent exchange rates reported adjusted eps negatively impacted approximately per share therefore reported adjusted eps range per share reflecting growth approximately per share midpoint often get asked first half second half dynamics quarterly nuances provide quarterly guidance factors consider modeling first half pharmaceutical segments stronger half include impact zytiga generic entries also expect higher level investment earlier anticipating closing recently announced argenx deal towards end obviously lap zytiga generics entry late fourth lastly based todays spot rates currency negative impact first half concludes financial summary trust see broad based strength business results guidance provided headwinds confident ability grow operational sales eps spite headwinds position extremely years beyond pleased turn call back chris initiate portion call thank thank joe move portion webcast please remember mark calendars pharmaceutical business review scheduled wednesday may move portion webcast rob please provide instructions line wishing ask guess first one little bit assumption net price pharma pricing mentioned erosion talk little bit dynamics second specifically xarelto little bit performance little bit whats happening net price product product thinking kind balancing guess competitive dynamics core indications step donut hole recent label expansion im trying get hands around pushes pulls product specifically great chris thanks respect net pharma pricing alex referred obviously experience greater see right provide details transparency report weeks terms going forward expect elevated levels say great testament strength innovative portfolio pharmaceutical segment grew face net price decreases greater dont predict obviously competitive reasons may look like going forward plan continued price decreases net basis future respect xarelto yes saw pricing dynamics catch respect donut hole provisions modest level inventory adjustments terms pipeline growing volume gaining prescription share feel good brand move expect cad pad indications differentiating factor moving forward expand market share brand also market going reach broader base patients im hoping could give little bit color medical device business youre seeing utilization perspective broadly see seasonal uptick generally youre expecting business considering moving parts relates economy slowing today also emerging could comment emerging markets sure danielle alex thank first look overall pleased continued improved performance saw particularly across hospital medical devices group look performance one strongest quarters saw really strong growth driven interventional solutions launch cerenovus almost growth saw really good performance biosurgicals energy wound closure see modest improvement across orthopaedics group particularly trauma almost hips around mentioned earlier also spine business regarding volumes see course dont line sight yet data expectation see continued slight improved trends coming overall continue see strong performance emerging markets bric growth across bric markets way consistent across one sectors china particularly remained particularly strong medical device group pleased hospital medical devices also vision care business thanks alex danielle build procedures see procedure increases admission surgical procedures increasing lab procedures see relatively consistent didnt see major seasonal dynamics one particular area thank joe one guidance one product related joe adjusted operational growth little expected based public comments want understand component sounds like expect consumer accelerate least stay consistent expect med tech accelerate versus implication pharma going midpoint slightly market growth said could achieve public comments math directionally accurate something change since ill throw product changes leadership verb talk progress youre making surgical robot orthotaxy remind expect launch believe said past sure larry thanks dont anything fundamentally changed although dont provide guidance segment qualitatively say youre directionally correct expect turned corner consumer business look first half growth second half growth feel really good innovative products premium skin care relaunch baby franchise chris noted prepared remarks great start medical devices expecting see seen throughout thats improved quarterly upticks respect growth getting path articulated analyst day may market pharmaceuticals really speaks tremendous strength health business headwind respect generic biosimilar competition still talking growth companies talking contraction dialogue going get back growth really speaks health business whether larry anniversary feel confident really portends strongly future outlook company longer term take base portfolio pharmaceuticals still growing market done historically also say testament strength broad based nature johnson johnson statement could made decade ago feel good talking growth despite headwind ill turn alex talk little bit surgical platform hey larry thanks talk verb though id like complement comments joe made remain extremely excited business prospects head put bit exclamation point joes comments look underlying strength pharma business growing excess like almost pull zytiga number additional indications going across oncology immunology platforms product launches esketamine erdafitinib expecting sets strong performance face significant headwinds also even accelerated growth beyond remain confident optimistic opportunities consistent youve seen happen past years youll see play go continue provide updates deliver regarding verb look opportunity visit ashley paul stoffels members leadership team based upon latest update feel frankly even confident progress seeing platform includes yes robotics id call front end also great work thats taking place back end system part really represents transition robotics digital surgery progress team made last months strong believe continue track going forward mentioned several times look youre going see continued news robotics platform course beyond whats important taking outlook digital surgery important dynamic next years want make sure get timely manner also manner ensures competitive ensures ultimately making even bigger difference area go forward aspect mentioned fact options platforms general surgery minimally invasive surgery also orthopedics additional benefit ultimately platform rolling look regarding changes management team say changes management team expect begin transition early startup mode prepare launch mode done actually course last months months bring additional leadership verb feel got kind capabilities backgrounds experiences ensure successful roll launch one joe follow alex joe want focus margins math looks like midpoint around basis points margin expansion obviously youre significant expansion obviously pharmaceutical headwinds youve talked help sort parse margin impact either currency pharmaceutical headwinds color could give sort underlying margin performance compares yes david thats astute observation part isnt margin expansion given pharmaceutical segment enjoys best margins across businesses growth going moderated somewhat reasonable expectation want continue like always invest long term delivering results important also want make sure positioned years going take opportunity terms segment performance already pharmaceutical sector thats best class terms overall margins medical device still top peer set want continue invest make sure accelerate deliver plans grow market consumer say thats probably biggest opportunity margin improvement lag peer set little bit midpoint perspective looking additional measures addition company infrastructure look complementary services finance human resources information technology make sure effective efficient okay helpful strategic questions first position talc clear wonder youd help understand expect impact derivative talc consumer franchise impact strategic activity perspective somewhat related noticed medical device business moved priority list last versus help understand underlying driver okay david thanks lot one comment answer questions want pick joes former comment whats really important way managing business particularly ensure continuing invest areas frankly important growth going forward simultaneously managing business believe appropriate way comes additional deal opportunities example argenx deal pharmaceutical group thats great investment look track record group way theyve able perform especially deals identify compounds like cd early create multibillion dollar platforms reaching many many patients significant unmet need thats good investment future thing medical device group medical device group joe mentioned top peer group comes investments things like digital certain cases david know frankly need improve performance areas invested additional funds areas relates straight execution field united states abroad places like china continue make sure deliver important maybe even deliver beyond relates issue regarding impact talc say impact long run strategic look consumer business still believe lot good growth opportunities demonstrated investment announced drci labo many exciting areas particularly areas like premium beauty naturals way early signs around zarbees otc group positive positives obviously watching baby relaunch closely chris mentioned earlier comments johnsons baby portion business negative results overall baby really related things mentioned regarding desitin activities last seeing core baby performance say overall medical device change ranking terms strategic importance remains critical brand know platforms marketplace went earlier areas particularly pleased see like ep like biosurgery like wound closure energy areas ortho positive signs back vision care business realized theres others got advance even faster including robotics others need continue turn around spine sports shoulders pockets business confident leadership plans business actually one things repeatedly talked improving orthopaedic franchise rambled spine sports shoulders pockets business aaos coming could please give idea youre approaching improving expect expect aaos sure joanne thank much look theres number reasons believe going see improving performance across platform number one starts knee platform continued launch attune revision cementless several additional platforms rolling reinforce profile north america chris mentioned earlier seeing good uptake attune worldwide basis also additional instrument sets launched know cementless section market growing faster remain confident launches going help reinforce platform spine continue focus areas severe deformity degeneration others number launches coming including interbody cage biomaterials area thats interest hips continued see strong performance additional launches announcing youll seeing particularly relates anterior approach mentioned look still work sports shoulders areas also confident overall launches taking place course many space frankly done back end head enable continue momentum joanne might add look little bit longer term also looking forward addition robotic digital capabilities orthotaxy platform orthopaedics wanted spend moment heart health program apple watches mean talk plan rolling across af across applications ultimately im trying get head around people wear watch going walk say hey physicians going handing see moving stage time frame hey joanne thank much look excited partnership apple area represent talking next step introducing digital adaptation almost consumer level augment currently across pharmaceutical medical device consumer area safe say still early days heres opportunity better detect patients either potential afib experiencing afib course longer term respond various treatments support programs helping ensure compliance broader wellness programs going great first step really appreciate commitment time resources prioritization apple placed way teams worked together look likely first many steps youll see pharma space device consumer space years come joe wondering give little bit color sales eps cadence example youre talking reported sales full range thinking first half positive growth enter fourth eps midpoint range plus thinking flattish growth eps growth first half high single fourth lastly tying lot companies telling fx hit first around maybe even second consistent youre viewing fx impact first half yes glenn thanks dont provide quarterly guidance say fx perspective first quarters last average lets use euro spot rate today standing something little bit less expect see pronounced effect terms reported results first half terms eps wouldnt stark flat high single digits flat first half high single digits second half mentioned itd little bit calibrated little bit softer first half little bit stronger second half spot rate assuming todays rate holds pretty consistent one maybe provide little detail income expense line believe mentioned provide income thats little bit estimating little color youre already incorporating start maybe little bit sense quarterly breakdown helpful given fairly large number pharma side one mentioned esketamine erdafitinib front fda know breakthrough designation im wondering youve seen impact given government shutdown interactions fda past sense reviews might take little bit longer youre previously estimating great thanks vamil thanks respect income guided point time account capture royalty income gains equity investments hold johnson johnson development corp gains might related divestitures expect first half dynamic respect divestitures planned notable one sterilization products business happen late first early second thats one component overall number remind folks seen levels subsequent years cognizant managing take opportunity income thats elevated levels invest long term making sure positioned across segments influence health care positive way result better return shareholders respect government shutdown say yes esketamine erdafitinib breakthrough designation certainly esketamine little bit near term pdufa date changed yet march receive information recently delay ad board meeting dont impact pdufa date monitoring situation closely obviously fda designation breakthrough status drug realizes importance patients suffer treatment resistant depression really havent mechanism action better couple decades hope level energy sides carry certainly hope sides come together reopen government partial shutdown monitoring closely quick ones joe pharma segment previously used number novel contracting approaches includes remicade zytiga opportunities broader portfolio specifically thinking payer approach erleada generic zytiga market one follow alex yes thanks geoff say looking contracts make sense know got say best class strategic customer group within pharmaceutical unit want make sure payers understand value medications bring based outcomes continue change contracting landscape want influence payment occurs outcomes based pilots across number therapeutic areas thats way could potentially long term solution certainly understand conversation around pharmaceutical pricing ill reiterate said earlier respect strong pharmaceutical performance got products make difference patients lives better health care system overall less costly utilize therapeutics growth delivered even though able decrease net price okay follow joe alex guys transparent drug pricing viable part ous reference pricing proposal really feel like assumptions pricing across portfolio say later stage products conservative enough geoff thanks look obviously engaged administration lot different groups right issue pharmaceutical pricing understand important critical things responsible way area changes around part especially part relates pocket costs addressed alleviate current pressure system regarding reference pricing concerns reference pricing overall time say regularly track pricing products global level tell take look net pricing overall actually quite competitive concerned unintended consequences around access innovation relates proposals still early days look continue work government others ultimately get right outcome ensures going continue get number great breakthrough therapies responsible prices transparent open way thank geoff thanks everyone questions asked continued interest company apologies couldnt get due time dont hesitate reach ir team needed ill turn call back alex closing remarks want thank continued support confidence johnson johnson pleased performance able generate course believe delivered priority commitments even excited reasons outlined enumerated behalf entire leadership team thank much look forward engaging coming weeks months\n",
            "-----------\n",
            "\n",
            "Document: 335, Score: 0.7117210626602173\n",
            "-----------\n",
            "good chris delorefice vice president investor relations johnson johnson welcome companys review business results fourth full joining todays call alex gorsky chairman board directors chief executive officer joe wolk executive vice president chief financial officera logistics get details review made available via webcast accessible investor relations section johnson johnson website investorjnjcom also find additional materials including todays presentation associated schedules please note todays presentation includes forward looking statements encourage review cautionary statement regarding statements included todays presentation companys form identifies certain factors may cause companys actual results differ materially projected sec filings including form recent along reconciliations non gaap financial measures utilized todays discussion comparable gaap measures also available investorjnjcom several products compounds discussed today developed collaboration strategic partners licensed companies slide acknowledges todays agenda review fourth sales results corporation business segments alex provide perspective overall results business highlights joe conclude providing insights cash position capital allocation deployment guidance remaining time available questions anticipate webcast last sales fourth increase versus fourth operational sales growth excludes effect translational currency increased currency negative impact points sales increased regions outside reported growth operational sales growth outside currency negatively impacting reported ous results points excluding net impact acquisitions divestitures adjusted operational sales growth worldwide outside full consolidated sales increase compared full operationally full sales grew currency negative impact points sales growth regions outside reported growth operational sales growth outside increased currency negatively impacting reported ous results points excluding net impact acquisitions divestitures adjusted operational sales growth worldwide outside usturning earnings net earnings diluted earnings per share versus diluted earnings per share ago excluding tax intangible asset amortization expense special items periods adjusted net earnings adjusted diluted earnings per share representing decreases respectively compared fourth operational basis adjusted diluted earnings per share declined regarding full net earnings diluted earnings per share adjusted net earnings adjusted diluted earnings per share respectively versus full operational basis adjusted diluted earnings per share grew beginning consumer comment business segment sales performance fourth highlighting items build upon slides front unless otherwise stated percentages quoted represent operational sales change comparison fourth therefore exclude impact currency translation part prepared remarks todays call provided additional commentary website full sales segment assist updating models worldwide consumer segment sales totaled growing excluding net impact acquisitions divestitures adjusted operational sales growth growth due primarily strong performance otc franchise growth outside counter medicines grew globally almost operationally adjusted basis otc growth around growing share multiple products adult tylenol driven rapid release gels pepcid zarbees however growth aided basis points stocking due incremental distribution trade promotion programsthe beauty franchise grew adjusted exclude impact acquisition dr ci labo roc divestiture neutrogena delivered strong performance globally growth outside driven anti aging cleansing innovation emea hand body moisture category strength asia pacific region share market growth largely offset lapping prior product pipeline builds higher trade investment neutrogena concluding consumer segment baby care declined globally negative adjusted exclude impact babycenter divestiture decline primarily due continued competitive pressures comparisons prior relaunch activities notably united statesmoving pharmaceutical segment worldwide pharmaceutical sales grew enabled double digit growth key products segment delivered seventh consecutive sales grew increased outside almost generic competition zytiga negatively impacted worldwide growth basis points respectively strong portfolio products commercial capabilities enabled deliver global growth market levels despite significant biosimilar generic headwinds oncology portfolio delivered another strong worldwide growth darzalex continued strong performance growing globally grew almost strong growth across lines therapy driven frontline medication multiple myeloma transplant ineligible population continued strong growth outside driven increased penetration share gains imbruvica grew globally driven largely market share gains strong market growth primarily chronic lymphocytic leukemia indication along strong uptake outside based third data imbruvica gained points market share cll line therapy worldwide zytiga growth declined declines almost due generic competition partially offset continued strong growth almost outside continue pleased launch progress erleada generated global sales full primarily united states continue grow market share non metastatic castration resistant prostate cancer gaining points sales reflects first full approved indication patients metastatic castration sensitive prostate cancer also pleased launch progress emea erleada available countriesour immunology therapeutic area delivered global sales growth driven strong double digit performance stelara tremfya sales growth partially offset continued erosion remicade due increased discounts modest share loss alternative mechanisms action biosimilars stelara growth almost primarily driven crohns disease indication market shares increased points versus fourth october received fda approval stelara treatment adults moderately severely active ulcerative colitis simponi aria delivered sales growth driven strong market growth simponi aria share gains tremfya grew achieved share psoriasis market points fourth neuroscience paliperidone long acting portfolio performed growing higher market share driven increased patient starts strong persistency addition continue progress launch spravato patient demand continues build unmet need remains high patient starts continue steadily increase patients treated date pleased report december spravato approved europe adults treatment resistant major depressive disorderin infectious diseases portfolio grew led strong growth symtuza juluca hiv partially offset cannibalization increased generic competition products cardiovascular metabolism product portfolio experience declining sales primarily driven declines invokana biosimilar competition procrit xarelto flat volume increases offset rebates primarily due increase legislative rate doughnut hole along higher medicare doughnut hole utilization total pulmonary hypertension portfolio sales declined result distributor model change realize efficiencies leveraging distribution capabilities change negatively impacted sales growth basis points sales growth adjusting onetime impact continue see strong share growth opsumit uptravi adjusting onetime distributor model impact worldwide sales respectively portfolio growth also impacted declining sales tracleer result continued generic competitionill turn attention medical devices segment worldwide medical devices sales growing excluding net impact acquisitions divestitures primarily divestiture asp adjusted operational sales growth worldwide onetime items negatively impacted growth basis points largely related bleed forward buying japan ahead consumption tax change primarily impacted vision business majority sold remainder expected occur additionally basis pleased report medical devices accelerated underlying sales growth worldwide basis points second half delivering solutions grew globally led continued strength business achieving growth worldwide almost continuing trend double digit growth consecutive growth strong regions driven newer product offerings ablation advanced catheters contributing atrial fibrillation procedural market growth additionally cerenovus business delivered sixth straight double digit growth driven strong market growth product innovation including embotrap treatment ischemic stroke vision grew adjusting negative impact japan consumption tax forward buy mentioned earlier growth primarily driven contact lenses grew globally adjusted bleed japan consumption tax forward buy led double digit growth daily disposables oasys family contact lens grew almost expect line overall market representing fourth consecutive contact lens grown market surgical vision saw continued strong ous growth cataract business due market performance iols primarily asia pacific offset weak performance due competitive pressures lower market growth refractive surgery continue see positive momentum orthopaedics delivering growth annual basis major platform accelerated versus prior adjusted growth franchise improved basis points progress reflects continued execution innovation commercial strategies aimed improve performancehips grew driven leadership position anterior approach continued strong demand primary stem actis enabling technologies kincise surgical automated system joint point navigation system knees growth driven strong performance innovations attune revision attune attune cementless rotating platform launched end ous growth led asia pacific additionally united states returned growth trauma growth globally driven market growth supported strong adoption newer innovations femoral neck system spine declined primary driver partially due repeating onetime favorable pricing related true negatively impacted global growth basis points excluding impact performance line full lost share continue see positive uptake newer products pleased strong start newly launched symphony surgical system use posterior cervical spine procedures pricing pressure continued impact categories orthopaedics pure price spine declined adjusting last years pricing related true trauma price consistent decline price hips knees improved compared negative flat results surgery business advanced surgery delivered global growth led biosurgery growth growth regions led asia pacific share gains market growth however growth tempered surgiflo continued ramp back united states energy endocutters grew approximately respectively ous growth driven share gains products asia pacific region partially offset competitive pressure united stateswound closure grew driven continued strong market growth china share gains conventional barbed sutures expected selling days immaterial impact global growth rates fourth selling days negatively impact medical devices growth basis points majority offset provide commentary earnings please direct attention boxed section bottom schedule see provided earnings adjusted exclude intangible amortization expense special items reported adjusted eps reflects reported growth operational growth exceeding high end reported operational adjusted eps guidance range october driven strong performance consistent guidance see slight decline adjusted pretax operating margins basis points driven investment digital surgery medical devicesmoving next slide full adjusted income tax enterprise improved basis points versus looking adjusted pretax income segment medical devices higher previous primarily due increased divestiture gains partially offset increase investments digital surgery pharmaceutical margins declined basis points driven reduced divestiture gains higher cost products sold due negative impact currency consumer margins improved basis points driven planned prioritization spending reductions partially offset reduced divestiture gains regarding consolidated statement earnings fourth please direct attention boxed section schedule referenced table non gaap measures fourth net earnings adjusted exclude intangible asset amortization expense special items tax basis primarily driven intangible amortization excluding impact items adjusted earnings per share decrease versus fourth adjusted eps constant currency basis versus fourth id like highlight noteworthy items changed statement earnings compared last cost products sold delevered slightly primarily driven increase amortization expense partially offset favorable segment mix selling marketing administrative margins improved result planned prioritization consumer business favorable segment mix partially offset increased investment medical devices business investment consistent slightly lower milestone payments pharmaceutical business offset increased investment digital solutions medical device business net interest expense lower primarily driven positive effect net investment hedging arrangements partially offset reduced interest income resulting lower rates interest earned cash balances change income expense line primarily driven lower litigation expense higher unrealized gains securities partially offset lower gains divestitures regarding taxes effective tax rate compared fourth tax rate current includes estimated tax expense transition provisions swiss tax reform partially offset reorganization certain foreign subsidiaries additional impacts recently issued regulations associated tax reform encourage reference details specific tax matters excluding special items effective tax rate relatively consistent period last looking adjusted income tax fourth adjusted income tax enterprise percentage sales decreased fourth primarily driven impact divestiture gains last following main drivers adjusted income tax segment medical devices declined basis points driven lifescan divestiture gain reported increased investment robotics digital solutions consumer margins declined basis points primarily driven divestiture roc slight increase pharmaceutical margins basis points primarily driven reduced milestone payments concludes sales highlights johnson johnsons fourth reference heres slide summarizing notable developments occurring fourth mentioned comments im pleased turn call alex gorsky thank chris thanks joining today pleased highlighting fourth full performance delivered strong earnings growth exceeding financial performance metrics set beginning accomplished also making strategic investments advance pipeline opportunities innovation across business segments faced variety challenges debates health care system country uncertainty global trade todays litigious environment name fewnow im proud despite challenges still remain focused delivered credo commitments patients employees communities shareholders ultimately driving purpose advance health humanity im confident positioned build momentum solid foundation move beyondwe remain focused long term mindset maintained century mindset directly linked focused execution relentless pursuit innovation talented passionate people culture caring world unwavering focus value creation stakeholders fact im proud highlight marked consecutive adjusted operational earnings growth johnson johnson performance indicative strength broad based business remain focused driving next generation innovation across entire portfolio markets markets greater opportunity compete markets lead include platforms deliver sales annuallyin pharmaceuticals strong track record success continued pharma segment outpaced market growing operationally offset loss exclusivity due biosimilar competition generic erosion competitive entrants market pressures important note robust growth attributed volume price sales growth reflection increased number patients reaching medicines unmet needs strong growth enabled deliver life saving life changing medicines people around globe also enabled become third largest pharmaceutical company world retain leadership position recognized pharmaceutical company fortune magazines annual admired companies list pharma investments continued fuel exceptional growth achieved double digit growth key products delivered strong performance across regions including developed emerging markets proud excited gained approval launch medicines spravato treatment resistant depression balversa metastatic urothelial cancer also continue maximize value market brands submitting numerous filings receiving approvals line extensions key brands including stelara darzalex erleada many peak sales potential greater continue expand portfolio strategic licensing acquisition assets platforms including cusatuzumab argenx investigational antibody treatment acute myeloid leukemia high risk myelodysplastic syndromes gene regulation platform meiragtx bermekimab xbiotech inc anti il alpha phase ii development treat atopic dermatitis hidradenitis suppurativa industry leading pipeline commercial capabilities robust productivity im confident positioned continue delivering sustained long term market growth beyondnow marked significant transformation consumer health business reestablished brand purpose made strategic decisions time accelerate growth reduce complexity improve operating margins fueled science based professionally endorsed brands strong consumer insights placed concerted focus throughout establishing clear plan path achieve benchmark profitability segment already way delivering basis points adjusted pretax margin improvement additionally successfully integrated acquisitions zarbees inc leader naturally based counter remedies dr ci labo line dermocosmetic skincare products strengthening position higher growth categories consumer business continues grow market priority areas beauty otc delivered solid operational growth im also pleased share medical devices accelerated growth result relentless focus execution innovation portfolio management underlying growth improved performance driven achieving consecutive double digit growth contact lens delivered growth market fourth straight energy endocutters businesses growing mid single digits improved performance orthopaedics major platform accelerating compared also fortified commitment accelerated entry one fastest growing health care categories exciting transformative field medicine digital surgery consistent historical pioneering spirit medical devices focused next frontier surgery acquisition auris health inc developer robotic technologies currently lung cancer accelerated entry robotics part digital surgery ecosystem designed make medical interventions smarter less invasive personalized elevate standard care additionally last announced agreement acquire remaining stake verb surgical strengthen ecosystem also successfully launched critical products across franchise throughout including attune cementless knee system first kind acuvue oasys contact lens transitions light intelligent technology industrys first powered circular stapler echelon vizigo steerable sheath market leading business team continues focus improving cadence innovation portfolio optimization included completion advanced sterilization products divestiture execution acquisitions strategic partnerships expect augment future growthwe committed building upon momentum im pleased share hosting medical device business review day may highlight strategies believe drive growth provide additional insights teams plans digital surgerylooking ahead across business segments know got work committed continuing deliver market growth pharmaceutical business broadening reach consumer business meeting full potential medical devices business one critical factors achieving goals business strategies sustaining investment innovation achieved record levels investment investing research development across industries remain top global companies invest highest levels innovation across johnson johnson recognize powerful impact technology innovation health care breakthroughs creating meaningful change peoples lives establishing competitive differentiation within industrynow remiss acknowledge many accomplishments possible without efforts passion engagement approximately global johnson johnson colleagues continue demonstrate commitment delivering health care solutions benefit patients consumers communities around world purpose driven credo based culture puts patients people first certainly true way employees work consistently cultivate worlds best healthiest engaged workforce fact johnson johnson colleagues truly driving force behind successful performance fulfilling purpose something never never take granted always celebratewe share common objective always making health patients consumers use products every day priority way last years front lines developing medicines revolutionary products literally saving peoples lives working prevent cancer offer less invasive surgeries end ebola hiv world expects global workforce united around committed prepared donow putting needs serve first also means protecting shared environment natural resources know human health directly linked health planet healthy people communities go hand hand healthy environment committed reducing environmental footprint operations products supply chain targets reduce carbon emissions procure electricity renewable resources looking long term optimizing operations improve water energy efficiency focusing sustainable design reduction product packaging goal delivering better health people everywhereso id like close began spite numerous industry challenges faced throughout im pleased remain focused meeting needs patients consumers globally delivering value stakeholders innovating driving growth achieving solid performance sustainable business model built long term provides increased confidence business strategic direction health care industry may sometimes feel like uncertain timesyou unwavering commitment hold accountable fulfill credo always keep patient center everything also ensure continued long term success johnson johnson incredible opportunity play leading role defining driving future health care putting within reach everyone everywhere excited confident beyondi look forward addressing questions upcoming ill turn joe provide additional details results guidance thank joe thank alex hello everyone appreciate joining todays call providing additional context around performance including end cash position capital allocation actions executed throughout conclude guidance alex chris mentioned delivered solid fourth results capped strong performance johnson johnson full results reflect continued commitment long term strategic objectives throughout maintained focus delivering life saving life changing products patients consumers across globe heading confident overall strategy ability drive results across enterprise yield strong shareholder returns solid results generated strong cash flow highest level ever free cash flow nearly billionwith respect cash position end approximately net debt consisting approximately cash marketable securities approximately debt although dont provide cash flow guidance transparency come record free cash flow generation expect decline approximately planning payment related agreement principle settle opioid litigation previously disclosedin executed elements capital allocation strategy first objective within framework invest growth opportunities solidify advance current business delivering transformative health care solutions creating access top priority johnson johnson alex mentioned invested investors johnson johnson know delivering competitive increasing dividend capital allocation priority returned almost investors approximately free cash flow increasing quarterly dividend satisfied dividend objectives seek opportunities capabilities create compelling value completed number strategic acquisitions totaling almost strengthen portfolio alex outlined earlier call finally executing important capital allocation priorities consider prudent ways return value shareholders share repurchase program began december concluded third lets move discussion guidance information assist financial modeling ahead ill begin qualitative comments considered outlook first projected sales growth includes benefit additional shipping days associated week fiscal calendar partially offset sku rationalization program consumer segment part efforts improve profitability consumer segment continue invest platforms differentiated brands greatest potential therefore plan rationalize approximately skus across global portfolio translating negative impact top line growth slightly basis points segment program primarily focused outside larger impact coming second half baby beauty franchises considering additional shipping days associated fiscal week consumer sku rationalization program net impact approximately basis points benefit companys sales growth outlookspecific segment adjusted sales guidance also assumes continued market performance pharmaceutical segment driven continued strong growth key products darzalex imbruvica tremfya stelara erleada due increased penetration indications continued acceleration sales growth medical devices generated recent launches improved execution consumer health business continue grow market executing sku rationalization program position segment benchmark profitability given factors expect adjusted operational sales growth full midpoint adjusted operational sales growth constant currency basis reflecting manage business performance considering negative impact net acquisitions divestitures estimate basis points comfortable models reflecting operational sales growth range billionas know predict impact currency movements utilizing euro spot rate relative dollar last week estimated negative impact foreign currency translation approximately basis points resulting estimated reported sales growth compared billionlets discuss earnings per share see screen heres slide depicting components assumptions included eps guidance using sales growth guidance referenced provides approximately growth eps next column based expected operating margin improvement approximately basis points translates incremental contribution net continued investments across segments operating margin improvement primarily driven continued efforts improve manufacturing capabilities optimize sales marketing administrative expenses consumer sku rationalization discussed results strong adjusted operational eps growth core business versus prior offsetting operating components anticipated reduced level income approximately compared may recall benefited large divestiture gain sale advanced sterilization products business second final element eps waterfall chart benefit share repurchase program completed adds eps compared resulting adjusted operational eps midpoint growth rate predicting impact currency movements using recent exchange rates reported adjusted eps negatively impacted approximately per share resulting adjusted reported earnings per share midpoint reflecting growth approximately continuing eps guidance slide provides summary additional items better provide insight full guidance referenced earlier expecting adjusted pretax operating margin improve approximately basis points still prioritizing investment business accelerates strengthens pipeline products long term although continuously evaluating external value creating opportunities purposes models currently assume major acquisitions major uses cash therefore comfortable modeling net interest expense reminder income expense line record royalty income gains losses related items litigation investments johnson johnson development corporation divestitures asset sales write offs comfortable models reflecting net income expense excluding special items net income ranging lower elevated levels divestiture gains expect event magnitude moving taxes effective tax rate guidance excluding special items approximately higher ended driven expected changes mix global earnings miscellaneous one time benefits expected reoccur considering factors comfortable adjusted eps guidance range per share constant currency basis reflecting operational constant currency growth approximately predicting impact currency movements provide insight potential impact eps using exchange rates last week reported adjusted eps negatively impacted approximately per share therefore estimate reported adjusted eps range per share per share midpointas final comment guidance assumes formal share repurchase program time wanted provide reminder since last time looked street estimates utilized average share count significantly lower assuming guidance estimate average diluted shares outstanding largely line fourth share count shares although provide quarterly guidance factors consider models beyond selling day fluctuations chris mentioned remarks medical device sales expect fourth benefit additional shipping days partially offset consumer sku rationalization program projecting throughout pronounced back halfwith respect earnings first included equity gain related consumer acquisition dr ci labo second included gain associated asp divestiture medical devices dont anticipate similar events income expense first half expect elevated levels income aligned todays guidance second half lastly based todays spot rates currency negative impact first half concludes prepared remarks financial summary results guidance results reinforce confidence broad based business head look forward delivering continued value behalf stakeholdersas alex mentioned hosting medical device business review day may look forward seeing person exciting event held york city yearfor planning purposes based investment community feedback please note highlighting consumer segment consumer focused events notable cpg conferences yeara special thank johnson johnson associates around world tireless efforts commitment make results attained possible outlook bright turn call back chris begin thank joe move portion webcast operator please provide instructions line wishing ask great first pharma elaborate little bit expectations growth guess specifically expecting terms patent exploration headwinds also elaborate competitive dynamics youre expecting tremfya stelara psoriasis launch skyrizi chris thanks thanks joining today pharmaceuticals mentioned prepared remarks expect continued growth market sat last expected bigger impact loss exclusivity generic biosimilar competition products teams credit based data safety efficacy familiarity products comfortability physicians patients products able retain business little bit longer expect bleed still even ill call neutralized headwind tailwind per se ill call neutralized headwind compared certainly expect portfolio products continue outperform general market pharmaceuticals general chris alex add one comment look extremely proud overall performance pharmaceutical group particularly immunology group within pharma step back moment look past several years first way able manage biosimilar impact remicade simultaneously launching multiple indications compounds like stelara launching tremfya note tremfya growth stelara growth frankly also clinical development competitive differentiation tremfya example comparative trials versus compounds also humira cosentyx whats really important areas products used short term results particularly important long term resultsso many patients psoriasis shift product product suffering condition long time excess months worth duration treatment effect compound like tremfya really helps explain uptake continued confidence use physicians patients marketplace combine penetration rate probably somewhere rate overall category theres still lot unmet need theres still lot opportunity compounds doesnt even include additional clinical development programs areas gi particularly compound like stelara seeing great impact lot opportunity ahead great great one really quick one income thats still bit historic levels income know number bit lumpy type level norm could number declining look beyond chris thanks say certainly experienced expect provide insights yet expect number come look see improving operating margins nearly basis points offset effect benefit continue thatbut truthful continually look manage portfolio rigorous fashion making sure best owners assets works ways look complement portfolio also look take underperforming businesses create value shareholders ways one extra week one litigation joe talk impact extra week full neutral eps impact international impact businesses others heard comments consumer im thinking pharma med tech one follow yes larry respect fiscal week translates shipping days say thats pretty much norm medical device pharmaceutical units youve asked little bit less consumer terms impact doesnt impact stocking holiday season youre absolutely correct assumptions around eps pretty much neutral still full week expenses without really benefit full week sales alex one litigation whats latest opioid litigation latest settlement previously announced important dates milestones lastly talc expect decision daubert hearing hey larry joe ill take thanks questions respect opioid settlement agreement principle announced shortly earnings set aside continue work negotiating committee state attorney generals finalize agreement principle remain say cautiously optimistic thats progressing highly engaged extent finalize agreement principle hope hear coming months lead negotiators representing states know counties respect talc daubert litigation awaiting judge wilsons verdict know thats evidentiary standards hearing able make sure theres great clarity certainty type scientific evidence needs presented know probably saw journal american medical association article published weeks ago probably one comprehensive reports evaluating studies independent sources found link talc cancer thats another independent source facts data scientific research bear end great couple questions joe one clarification one qualitative operational guidance way includes basis points net effect selling days adjusted consumer skus thats exactly right david okay follow one quick one qualitatively joe sort help understand see framing pharmaceutical consumer medical device business historically youve given sense sort businesses likely accelerate businesses sort stable across pharma md consumer see sort qualitative parameters driving guide yes thanks david great narratives across businesses look pharmaceuticals continue accelerate growth say market probably robust thought time last able retain business generic biosimilar competition healthy growth market looking complement portfolio certainly advancing pipeline got couple things hopefully filed around ponesimod multiple sclerosis hope gain approval darzalex subcutaneous formulation tremendous benefit patients see continued uptake balversa spravatoin medical devices pleased put context analyst community grew im sorry grew done going continue accelerate growth towards middle market range believe horizon thats opportunity launch differentiated offering around digital robotic surgeryin consumer alex mentioned remarks focused profitability focused putting investment behind stronghold categories skin health self care tylenol motrin self care aveeno neutrogena skin health brands continue extremely suspect grow line market category except sku rationalization looking deprioritize less productive brands okay joe one quick follow margins years youve sort income headwinds youve able offset significant sg gains driving margins youre talking basis points margin expansion medical devices jv agreement continues track spending dynamics visibility sort basis points underlying margin expansion headwinds tailwinds thinking yes dont know chris want add something wanted amplify consumer examples tylenol neutrogena full past neutrogena growth tylenol growth build sharing consumer right okay thanks chris respect margin expansion david look certainly manufacturing capabilities improving productivity point consumer sku rationalization design behind specifically improve profitability continue look opportunities enabling functions across finance hr information technology procurement get savings pretty good shape deliver one clarification extra week sku rationalization net impact overall top line correct thats correct kristen okay perfect wanted clarify big picture guess portfolio capital allocation know mentioned terms models need take consideration share count share repurchase activity guys pretty good position obviously share sorry cash flow perspective generating sounds like expectation pay opioid settlement guess get aggressive share repurchase perspective capital allocation going forward kristen alex thank much look really proud strong performance across businesses frankly relates capital allocation model confident going forward mentioned results earlier free cash flow spin indicative great discipline across various lines see front overall quite healthy also important note context also continuing invest acquisitions licensing agreements invested almost course yearso talked past continue invest brands research development appropriate rate go back last years add numbers invested time frame based upon number product launches pharma medical device business consumer business gotten good return continue keep healthy dividend time realize important time frame years pretty similar number course always take look value creating acquisitions time frame number comes investedover past note might say additional investment made auris combining later buyout verb verb verily right thing ahead medical devices probably things going represent secular shift domain shift digital robotic surgery bringing together creates exciting opportunity also continue value creating tuck opportunities pharmaceutical business talked end brought really exciting compounds bermekimab particular conditions represents great opportunity certainly area got lot capability lot expertiseand finally talk share repurchases demonstrated last years certainly employ share repurchases undervalued particularly significant way outcome way manage overall means things simultaneously necessarily order continue expect continue strategy going forward yes kristen quick comment thanks noticing comments around share count tip hat complement investment community go consensus income terms absolute dollars almost spot eerily close fact disconnect came form share count average share count used consensus shares less translates thought much line consensus expectations dont provide guidance assuming share repurchase thats currently authorized seems analysts may made assumption first robotics clearly put stake ground investments youre pursuing leadership digital surgery ecosystem wanted see understand going get big update med device day may could whet appetite today give updates progress auris launch timeline orthotaxy indications see robotics play today could come play next years portfolio second joe alex guess income line focus concerns could fall next within years talk process portfolio review pruning maybe underperforming assets assets dont fit roof could talk process regiment formula portfolio gets pruned every strategic opportunistic annually apologize background noise josh thank much look im really glad mentioned robotics digital terms entire platform course thats exactly isand lets start first acquisition auris health overall say great start couldnt thrilled robotics pioneer former ceo fred moll team monarch platform good start going play critical role lung cancer initiative look science technology distal parts lung brings terms potentially ablation leveraging neuwave technology even longer term potential dispense oncolytic viruses treating cancer unique ways exciting physicians performed bronchoscopy procedures monarch platform really pleased seeing itsecond saw announcement verb combining auris verb really helps ensure strong role next generation digital surgery platform ongoing development teams working together really comprehensive way look sorry feedback look platform something place next several decades therefore really important step right way say early results collaboration partnership seeing teams encouraging thats excited give preview joe mentioned may york provide clear transparent kind tangible evidence machines also digital platform component wellnext really excited progress thats made velys orthopaedics robotics platform exciting technology going offer portable low cost system thats easy use improve accuracy also nice combination ensure surgeon remains intimately involved look training technical support something easily coordinated ors surgeons progressing towards mid regulatory submission really step back going auris monarch plans place velys orthopaedics longer term bring next generation digital robotics platform broadly across surgery excited josh address regarding management portfolio say rigorous formulaic though meet management team executive committee monthly additions deletions portfolio makes sense makes sense probably defined terms aspirations markets play either space promise bringing better solutions space patients consumers across globe plans place businesses period time plans dont come fruition assess alternatives say alexs leadership gotten disciplined rigor thats proved pretty productive terms able take underperforming businesses turn gains reinvest back businesses areas got differentiated right win follow one business lines med devices orthopaedics clearly looks like able deliver pretty solid improvement knees wondering youd willing offer color spine growth within sort spine category like parts drivers decline follow could alex digital health thanks matt good speak proud knees performance look declining business almost point improvement team done nice job attune primary revision platform available patients also made entry cementless side business know fastest growing piece business alex mentioned look forward velys could horizonwith respect spine take account impact rebate adjustment impacted comparative growth basis points look growth probably half decline saw based comparison continue see pretty good growth outside specifically asia pacific dont know chris theres commentary spine yes matt say adjust say business stabilized low single digit declines seeing success innovation particular degenerative spine cage viper prime systems next level improvements come symphony system posterior cervical launched later really didnt get benefit expect see continued improvement next beyond thats great follow appreciate update overview robotic surgery strategy alex guess one things noticed quickly realize sort buzz worthy term see lot magazines artificial intelligence digital health whatever reason implementation innovation seems moving perhaps fastest categories digital surgery digital health wondering one competitors partnered smaller innovator space around stroke im sure youre watching im sure youre making investments looking im curious could give update preview perhaps youll talk spring sure thanks matt look areas across different innovation technology platforms touched technology whether ai whether ml whether digital whether cloud mean pharmaceutical portfolio example talked paul stoffels mathai mammen bill hait tell one important areas supporting data sciences capabilities insights gain reviewing large data sets coming developing much better insights frankly helping lead much faster productive identification targets certainly helping apply skills capabilities clinical development programs work hospitals large medical systems review medical health records example much detailed way terms patient selection tracking development certainly excited thereas relates medical devices consistent sharing thinking next generation certainly robotics component helps facilitate perhaps consistency exact procedure perhaps getting tighter space better access longer term digital ai component terms helping preoperatively developing detailed plan even applied terms additional guidance systems way help surgeon get particular area could also help stay away areas may could cause problemand course information utilized large health care systems really ensure theyve got effective efficient value added health care delivery programs place important ever hence reason partnering verb verily alphabet building capabilities something broadly across johnson johnson spending lot time thinking capabilities going become part business research development across one sectors wanted talk little bit medical devices specifically guys saw pretty strong sales growth acceleration operational adjusted basis next know ashley said past linear quarterly suspect looking another uptick help talk specifically drivers sure danielle thank much look really proud progress ashley team made last several years joe took improvement certainly expect trajectory continue coming years got moment though saw first half growth saw growth second half theres little bit lumpiness quarters consistent ashleys comments look still taking look timing holidays things always careful attribute look number days could potentially impact really doesnt change overall trend accelerated growth second half versus first halfnow look business really driven number factors surgery business youre seeing strong performance areas like another growth great technology expect continuous launch coming products also saw good performance energy business growth biosurgery coming growth one growth drivers frankly overcoming supply issue probably cut biosurgery growth rate half especially latter part work way thats going growth driver circular stapler launch also going going lap recall past definitely drivers core surgery businessif look orthopaedics seen steady cadence improvement knee business attune launch cementless revision going turned almost growing shows physicians increasing confidence platform starting see uptake attune primaries really pleased see course hip performance coming strong trauma pretty consistent market chris addressed issues spine see moving forwardand course theres vision care see vision care fundamentally strong performance contact lenses saw growth overall contact lens business whats important note growth united states transition lens astig lens daily disposables continue go frankly disappointed surgical performance particularly got plans place address look ongoing rollout going tecnis symphony synergy optimistic going make competitive astig area really across entire platform confident thats going lead continued growth trends go certainly setting even continued growth beyond maybe guys presented additional data ash bcma car program myeloma recently got breakthrough designation planning file approval later love initial thoughts overcoming hurdles faced car drugs longer term see drug playing role treatment paradigmthe second relates fda announcement meeting next testing methods asbestos talc wondering company participating key issues going discussed sure terence thank much let take first one regarding car data ash im sure saw released data excited saw results maybe important step back steps team taken last several years regarding car therapy look different development programs able support source legend way able accelerate development timelines ongoing great work supply chain ensure got strong integrity supply chain dependability thats put place really proud progress made results shared ash demonstrate increasing confidence way great news patients particularly failed multiple treatment lines difficult treat condition like multiple myelomaand going forward look truly opportunity transform way patients treated space got lot confidence reimbursement teams demonstrated areas work payers collaborative way also innovative products bringing frankly reimbursement programs introduced intend work way payers providers united states also abroad ultimately make sure therapy available patients get access effective data saw ash also cost effective overall health care system joe want sure terence respect meeting believe next february regarding testing methods around talc certainly welcome discussion around safety efficacy product specifically active participants meeting however say current internal testing methods exceed current fda standards cosmetic talc first view areas youre interested pharma consumer devices second optimistic regarding universal settlement opioids okay let take first part louise thanks lot look demonstrated mentioned earlier remained active really across areas acquisitions licensing agreements putting worth capital work continued pattern tuck acquisitions get technologies saw xbiotech opportunities pharmaceutical business expect continue also fair amount activity medical device group led auris earlier yearand consumer group course led dr ci labo also gave great toehold might say premium beauty segment particularly asia plans expand united states looking across segments expect ongoing cadence activity different areas louise respect opioid settlement continue work negotiating committee state attorney generals finalize agreement principle say remain optimistic confident agreement moving forward certainly cant predict agreement principle finalized continue monitor engage needed hopefully come resolution thanks everyone questions continued interest company apologies couldnt get time dont hesitate reach investor relations team neededill turn call back alex closing comments thank everybody ongoing support across mentioned earlier proud strong performance even excited confident prospects hold beyond chance review lot opportunities lie front look forward continuing keep updated throughout progress planso thank much everybody great day\n",
            "-----------\n",
            "\n",
            "Document: 329, Score: 0.7012710571289062\n",
            "-----------\n",
            "good chris delorefice vice president investor relations johnson johnson welcome companys review business results second updated financial outlook joining todays call joe wolk executive vice president chief financial officer also joining joe portion call jennifer taubert executive vice president worldwide chair pharmaceuticals thibaut mongon executive vice president worldwide chair consumer health ashley mcevoy executive vice president worldwide chair medical devices logistics get details review made available via webcast accessible investor relations section johnson johnson website investorjnjcom also find additional materials including todays presentation associated schedules please note todays presentation includes forward looking statements encourage review cautionary statement included todays presentation identifies certain risks factors may cause companys actual results differ materially projected particular uncertainty duration contemplated impact covid pandemic means results could change time contemplated impact covid companys business results outlook best estimate based information available todays date description risks uncertainties factors found sec filings including form subsequent form qs along reconciliations non gaap financial measures utilized todays discussion comparable gaap measures also available investorjnjcom several products compounds discussed today developed collaboration strategic partners licensed companies slide acknowledges relationships moving todays agenda review second sales results corporation business segments joe provide insights cash position capital allocation deployment outline updated guidance inclusive covid vaccine begin session segment leaders providing brief update respective businesses remaining time available questions anticipate webcast last minutes lets move second results worldwide sales second increase versus second operational sales growth excludes effect translational currency increased currency positive impact points sales increased regions outside reported growth operational sales growth outside currency positively impacting reported ous results points excluding net impact acquisitions divestitures adjusted operational sales growth worldwide outside turning earnings net earnings diluted earnings per share versus diluted earnings per share ago excluding tax intangible asset amortization expense special items periods adjusted net earnings adjusted diluted earnings per share representing increases respectively compared second operational basis adjusted diluted earnings per share increased comment business segment sales performance highlighting items build upon slides front unless otherwise stated percentages quoted represent operational sales change comparison second therefore exclude impact currency translation beginning consumer health worldwide consumer health sales totaled increased increases growth outside excluding impact divestitures worldwide growth date adjusted operational growth reflective performance given quarterly fluctuations covid impacts counter medicines grew globally driven strong growth zyrtec due timing increased incidence allergy season digestive health grew double digits driven pepcid sku stocking club channel coupled share growth increased covid related health care professional recommendations hydration benefit offering orsl asia pacific region skin health beauty franchise grew globally increasing ous increasing skin health beauty outside negatively impacted approximately basis points due divestitures worldwide growth driven market recovery key markets increased stocking products comparisons covid related destocking dynamics neutrogena aveeno delivered strong performance primarily due market recovery product innovation higher stocking due neutrogena rapid firming product launch partially offset competitive pressures ogx maui growth driven share gains market growth hair care oral care grew globally due strong ous performance listerine reflecting accelerated category increased demand continued successful promotional campaigns divestitures negatively impacted results basis points baby care franchise grew result market recovery ous strength johnsons aveeno baby commerce wound care delivered strong growth driven market growth increased consumer behaviors focused preparedness infection prevention seasonal stocking versus prior covid destocking dynamics moving pharmaceutical segment worldwide pharmaceutical sales grew strength increasing ous sales increasing excluding impact divestitures worldwide growth global sales included contribution covid vaccine additionally reminder comparison purposes negatively impacted access related constraints due covid resulting decrease roughly basis points total across key brands strong portfolio products commercial capabilities continues enable deliver strong adjusted operational growth market levels immunology therapeutic area delivered global sales growth driven strong double digit performance stelara tremfya offset declines remicade due biosimilar competition stelara continued show strength regions growing driven increased market growth share gains share increasing roughly points crohns disease nearly points ulcerative colitis tremfya strong double digit growth worldwide due share gains continued global expansion markets additional penetration psoriatic arthritis indication approved share increased points psoriasis nearly points psoriatic arthritis oncology portfolio delivered another strong growth darzalex continued exceptional performance trajectory growing driven share gains increased penetration subcutaneous formulation eu darzalex continues grow share across lines therapy nearly points share growth line erleada also continued global momentum growth driven market share increased nearly points across indications penetration gains especially metastatic indication imbruvica grew globally due volume gains driven market leading share partially offset modest share losses novel oral competition market remains slightly depressed due temporary covid impacts patient starts neuroscience paliperidone long acting portfolio strong double digit growth driven market share growth due increased patient starts strong persistency cardiovascular metabolism declined driven continued biosimilar competition procrit competitive pressures invokana partially offset growth xarelto due continued demand strength lastly pulmonary hypertension portfolio achieved growth opsumit growth uptravi growth driven market penetration share gains ill turn attention medical devices segment worldwide medical devices sales grew increasing ous increasing primarily due recovery procedures covid restrictions occurred second coupled success recently launched products commercial activities across business selling days minor positive impact growth expect full impact selling days excluding impact week minimal given extent procedure disruption covid thought may helpful provide context current performance versus second worldwide medical devices grew versus dollar platforms showing growth versus pace market recovery knees spine vision surgical slower markets compete procedures perceived deferrable patients geographically asia pacific markets surpassed emea latin america markets slower recover results remained levels looking results platforms interventional solutions delivered another strong worldwide growth strong double digit growth versus second reinforced global market share leadership position growing driven recovery market coupled market expansion activities strength broad based portfolio products worldwide orthopedics delivered growth versus prior driven primarily market recovery success newer product launches worldwide trauma delivered growth reflecting market recovery strength comprehensive portfolio success newer product introductions expanded market leading portfolio products launch next generation variable angle clavicle plate system designed enhance plate bone fit broad range patients simplify implant selection surgeon launched advanced tibial nailing system designed provide stable implant solution create efficiency within health care system streamlining instrumentation across portfolio worldwide hips grew driven market recovery continued leadership position anterior approach demand actis stem aided enabling technologies velys hip navigation innovative commercial programs focused expanding coverage actis hip fracture patients parts europe latin america knees returned growth increasing globally primarily due market recovery results reflect continued covid challenges related impact procedures markets like india japan australia dynamics including faster recovery trends primary knee procedures compared revisions began velys robotic assisted solution total knee procedures believe launch along differentiated velys digital solutions knee platform including second half launch attune cementless fixed bearing knee affixium printed technology enhance portfolio competitiveness procedures continue recover spine returned worldwide growth increasing reflecting market recovery positive impact recently launched products symphony conduit fibergraft strategic partnerships enhance offerings pac expandable cage advanced surgery grew versus prior addition positive impact procedure recovery biosurgery delivered sales growth positive share momentum driven products commercial strategies expand market penetration adoption endocutters energy grew around globally primarily due procedure recovery product introductions china tier hospital market expansion activities partially offset competitive pressure also achieved significant milestone within monarch robotic platform surpassing customers procedures general surgery grew globally wound closure growing globally driven recovery markets continued strength market leading suture portfolio including plus sutures stratafix barb suture family change channel inventory levels contributing points global growth global general surgery sales positively impacted points due prior unfavorable pricing adjustment communicated last worldwide vision grew primarily driven market recovery contact lens growth reflects strength market leading acuvue portfolio commercial initiatives prioritize eyes campaign launched raise awareness around importance routine screenings products including early success acuvue multifocal inventory build contributing points growth outside reflects market recovery strength acuvue day recent asia pacific acuvue define fresh beauty launch global surgical vision delivered growth driven market recovery positive momentum related products like tecnis eyhance tecnis synergy launched market veritas next generation device regarding consolidated statement earnings second please direct attention box section schedule see provided earnings adjusted exclude intangible amortization expense special items reported adjusted eps reflects reported increase operational increase id like highlight noteworthy items changed statement earnings compared last cost products sold improved basis points primarily driven recovery medical device prior covid related inventory impacts fixed cost deleveraging selling marketing administrative margins improved basis points due recovery medical device sales prior years negative covid impact continue invest research development competitive levels investing sales investment increase versus prior due portfolio progression income expense line showed net income second compared net expense second primarily due reduced litigation related items partially offset lower unrealized gains securities regarding taxes gaap basis effective tax rate declined second second primarily driven onetime tax benefit company recognized second resulting internal reorganization certain international subsidiaries second company additional tax benefits related transitional provisions swiss tax reform benefited tax rate excluding special items effective tax versus period last encourage review additional details specific tax matters lets look adjusted income tax segment second adjusted income tax enterprise percentage sales increased following main drivers change adjusted income tax segment medical devices margin improved driven primarily overall expense leveraging resulting covid related sales recovery consumer health margins improved basis points primarily driven supply chain efficiencies including benefit sku rationalization program partially offset increased investments brand marketing expenses pharmaceutical margins decreased basis points primarily driven increased research development investment inclusive covid vaccine net costs general portfolio progression moving important developments heres slide summarizing notable developments occurring second ill highlight starting pharmaceutical business continue make positive progress advancing strong pipeline innovative medicines therapies shared previously rigorous focusing differentiated medical innovation announced decision continue collaboration license agreement cusatuzumab investigational therapeutic antibody targets cd decision based upon janssens review available data consideration evolving standard care treatment aml received eu approval ponvory relapsing multiple sclerosis also approval rybrevant treatment patients locally advanced metastatic non small cell lung cancer epidermal factor receptor exon insertion mutations addition completed eu filing cilta cel bcma car treatment multiple myeloma anticipate approval bcma car later represent third nme approval within medical device portfolio continue make meaningful advancements innovation pipeline launching major first country launches first half including products noted earlier received fda approval launched tecnis synergy tecnis synergy toric ii intraocular lenses next generation presbyopia correcting lenses deliver widest range continuous vision best near vision among leading pc iols finally within surgery business enseal curved jaw tissue sealer launched expanding ethicon advanced bipolar energy portfolio concludes sales pipeline highlights johnson johnsons second im pleased turn call joe wolk thank chris good thanks joining today discuss strong first half specifically high growth experienced second updated outlook balance hope everyone safe healthy enjoyable summer chris referenced johnson johnsons businesses remain leaders better positioned within markets compete pandemic makes difficult reliably gauge results given likely noticed segments beat expectations continue poised growth value creation importantly beyond past months people driving force behind success guided credo demonstrated resilience agility remaining committed ensuring life saving medicines products reach patients consumers around world thanks efforts colleagues across world johnson johnson continues make significant strides towards mission improving human health everyone everywhere foundational healthy business focus commitment broader stakeholder stewardship proud share progress making transparent accountable manner weeks ago held annual esg investor update following publication health humanity report goals goals aim deliver even greater long term value broad set stakeholders hope opportunity view webcast replay still available johnson johnson website lets get results update cash position continue generate strong free cash flow approximately date ended second approximately cash marketable securities approximately debt resulting net debt financial position balance sheet remains strong enter back half positioned continue deploy capital strategic value creating way benefit stakeholders long term dividend remains key priority distributed shareholders regarding continually evaluate strategic opportunities potential enhance business also driving better health outcomes patients consumers since chris covered highlights second performance worldwide chairs provide sector specific commentary open session move directly providing update full guidance reflects strong date performance clarity first comment core business remark anticipated covid vaccine included enterprise guidance full continue expect base business defined excluding covid vaccine remain strong based confidence increasing tightening adjusted operational sales range adjusted operational sales growth constant currency basis consistent manage business performance maintaining estimate net impact acquisitions divestitures approximately basis points accounts previously completed divestitures medical devices consumer health within oncology pharmaceuticals resulting operational sales range midpoint dont predict currency movements utilizing euro spot rate relative dollar last week consideration currency movements change previous estimates resulting favorable currency impact increase basis points results estimated reported sales range increase midpoint versus words expected contribution covid vaccine updated full guidance goal always bring forth scientific capabilities resources develop safe efficacious vaccine complement measures end global pandemic proud part unprecedented collaboration health care industry led number authorized vaccines marketplace chris shared earlier reported vaccine specifically covid vaccine contributed second bringing date total point first half provisionally per dose given volumes pandemic period uncertain currently expect ultimate final profit price could much per dose final profit price fluctuate end know precisely variables go calculation namely net costs incurred volumes produced pandemic period given firm contracts place pending advanced purchase agreements expect recognize vaccine sales approximately half likely occur fourth regarding vaccine manufacturing continue expand global network include manufacturing sites various stages production july european medicines agencys committee medicinal products human use prudent expansion facility netherlands increasing capacity produce active drug substance fda also released batches drug substance manufactured emergent biosolutions bayview facility emergency use authorization continue work health authorities approval additional drug substance manufactured emergent appreciate many understandably looking beyond simply early provide specific information outlook covid vaccine given uncertainty need boosters variants recent published clinical data indicates vaccine appears durability least months effective recent delta variant highly prevalent viral variants time id caution wait include future vaccine projections models business covid vaccine market continue evolve look forward sharing additional details data become available including role vaccine play forecast future years given already provided base business updated guidance expectations reflected slide reflecting enterprise total midpoint moving items expecting operating margins nearly basis point improvement last slightly less prior guidance continue invest long term increasing income estimate range increase primarily attributable increased investment returns related employee benefit programs reminder pension service costs operating expenses investment performance related employee benefit programs income expense moving interest expense based date experience lowering estimate range finally lowering effective tax rate estimate range based certain onetime benefits realized first half result updates translate increasing earnings guidance also tightening guidance range adjusted operational per share guidance range midpoint per share predicting currency movements provide direction impact currency fluctuations reported adjusted eps expect slight change communicated earnings call currency impact eps per share accounting comfortable models reflecting reported adjusted eps ranging midpoint increasing consistent shared given profit nature vaccine significant eps contribution therefore eps guidance provided inclusive vaccine pleased want thank worldwide chairs jennifer taubert thibaut mongon ashley mcevoy participation portion call today know audience values leaders earnings calls time time jump portion call id like ask jennifer thibaut ashley provide brief business segment update quality outlook remainder jennifer lets start pharmaceutical segment thank joe hello everyone pleasure today id like start thanking janssen colleagues around world relentless focus delivering patients result im proud share pharmaceutical sector another strong market growth heard chris pharmaceuticals business delivered worldwide sales second adjusted operational growth approximately base business excluding covid vaccine demonstrated robust growth third consecutive sales exceeding growth broadly based across geographic regions therapeutic areas continue maximize value industry leading portfolio delivering double digit growth key brands including oncology medicines darzalex imbruvica erleada immunology medicines tremfya stelara pulmonary hypertension medicines opsumit uptravi invega sustenna trinza neuroscience portfolio leading commercial market access capabilities enabled increased market penetration share gains across key promoted brands shared transparency report growth continues come volume gains price strong indication life changing medicines reaching patients day worldwide important note continue top investor research development investment fuels pipeline builds foundation long term growth second continued deliver pipeline medicines ill highlight key milestones achievements first may fda approved amivantamab known rybrevant first bispecific antibody approved treatment non small cell lung cancer characterized egfr exon insertion mutations first approved treatment lung cancer hope important area going forward second nme approval ponvory ponesimod first nme approval fda march treatment adults relapsing forms multiple sclerosis second also approved european commission health canada also advanced bcma car cell therapy program cilta cel patients multiple myeloma second fda granted bcma car priority review marketing authorization filed european medicines agency submission made brazilian health regulatory agency anticipate fda approval cilta cel third nme approval later addition subcutaneous form darzalex continues benefit increasing number patients second european commission approved darzalex additional patient populations combination therapy treatment adults newly diagnosed systemic light chain amyloidosis first approved therapy rare life threatening blood disorder combination therapy adults pretreated multiple myeloma additionally subsequent fda approved darzalex faspro combination pomalidomide dexamethasone treatment patients multiple myeloma first subsequent relapse sixth indication specific subcutaneous form darzalex im proud pharmaceutical results second feel confident ability make tenth consecutive market growth outlook rest remains strong close id like invite join pharmaceuticals business review november look forward sharing comprehensive overview business robust pipeline long term growth outlook cover key therapeutic areas including oncology immunology always areas high interest delve deeper newer areas including retina gene therapy pipeline details behind breadth autoantibody program came acquisition momenta last hope youll able join pleasure opportunity connect today thibaut ill turn right thank jennifer good call like start congratulating consumer health colleagues continued focus flawlessly executing strategy last focus execution across broad based portfolio delivered solid results growing operationally continue demonstrate strong level performance strategy set couple years ago consumer health segment focused personal health science based professionally endorsed brands advancing digital capabilities continues strengthen ability meet needs consumers customers worldwide resulting strong quarterly results solid date performance consumer health sector grew operationally date basis adjusted operational growth acquisitions divestitures date basis chris stated remarks date results better representation performance given fluctuations see market due covid dynamics seasonality overall saw strong date performance brands strongholds zyrtec pepcid nicorette otc aveeno neutrogena ogx skin health specialty areas brands like listerine aveeno baby band aid also contributed nicely date results geographic perspective encouraged see grew across regions look future even continue see variability categories depending seasonality local market conditions confident strategy working right portfolio continue deliver solid results balanced terms categories compete terms geographic presence lastly able achieve solid sales results simultaneously improving margin profile efforts end end profitability improvement including portfolio optimization network improvements delivered plan date adjusted ibt approximately another basis point improvement last made great strides increasing profitability become leader within peer set continue look opportunities improve margin profile time investing grow top line launching products chris referenced remarks managing anticipated higher commodity distribution costs back half nutshell consumer health delivered strong solid first half strategy working confident ability continue deliver profitable growth line categories markets compete let hand ashley mcevoy ashley thank thank thibaut good thanks joining let begin across privileged feel work health care recognize matters especially united purpose profoundly change trajectory health humanity propelled med tech aspiration reimagine future health today ways one innovating across continuum patient care two prioritizing modernizing health three promoting health equity wellness continue see strong evidence focus actions impact human health improve competitiveness working med tech delivered sales representing adjusted operational growth versus chris mentioned versus bringing first half performance compared sales reflect market recovery positive competitive momentum dollar med tech platforms grew versus second share trends show maintained gained share platforms exciting pipeline achieved truly amazing results first half position continue growth momentum launched major products first half highest number first half launches years business include products strengthen core like tecnis synergy advanced premier intraocular lens surgical vision enseal curved tissue sealer next generation advanced energy solution surgery franchise continue focus significant global health concerns including myopia management plan portfolio solutions patients progressing things digital solutions covering entire paradigm care including open laparoscopic procedures orthopedics endoluminal interventional vision monarch platform achieved significant milestone reaching customers enabling bronchoscopies life changing potentially life saving detection treatment lung cancer velys robotic assisted solution total knee procedures launched united states received regulatory approval australia extremely pleased early customer engagement feedback confirming differentiation next generation solution ottava soft tissue digital surgery offering continues progress key development milestones also recognize digitization health care happening rapidly accelerating technology like making possible deliver ways care example innovative team china developed virtual solution powered artificial intelligence machine learning effectively train expand number highly skilled provide broader access high quality care learning curves went novice experts months first months launch newly trained physicians delivered care patients surprise business china strong continue leverage science influence industry trends positively impact patient outcomes human health uk modified nice guidelines recommend use plus sutures standard care giving evidence supporting role reducing surgical site infections unnecessary cost health care system okay regarding pandemic seeing light end covid tunnel remains know fluid situation pace continued recovery depend multiple factors including speed global populations vaccinated health care capacity ability manage surges rate patients seek treatment closing id like emphasize strong results continuing momentum attributed purpose driven globally diverse team embody winning spirit every day resilient agility creativity taken next level business built stronger relationships customers patients defined clear vision future thank look forward questions great thank jennifer thanks thibaut thanks ashley lets move portion webcast rob please provide instructions line wishing ask congratulations strong global surge covid surge despite high rates vaccinations many places world curious could impact business second half continues get worse yes thanks louise probably best maybe hear ashley jennifer specific perspective ashley yes louise say listen encouraged quite frankly several things ability hospitals manage capacity surges labor obviously vaccination efforts around world patient theres significant backlog care look uk goodness theres like patients waiting medical interventions folks waiting surgery past months know going linear know hospital systems united states starting delay care right improve never linear line yes add pharma side core categories pretty much back pre covid level exception actually cll really seeing strength coming back example united states europe anticipate modest ups downs team really extraordinary job last partnering health care systems physicians patients make sure could get stay therapies need outlook rest really remains strong sector regardless happens emerging variants blips relates covid yes id also add louise got really tip cap health care administrators health professionals across globe much better position handle pandemic march last certainly say favorable impact whatever unfavorable events may occur really need recognize great resiliency agility individuals shown thibaut want share little bit consumer momentum see maybe couple category dynamics see strong momentum across broad based portfolio told earlier categories continue impacted market level conditions seasonality said proven past months broad based portfolio terms categories geographies allowed weather whatever external conditions happen expect continued momentum back half great terrific thanks louise appreciate ashley finer point improvement devices mentioned expect continued acceleration relative joe could help operational ex covid vaccine sales eps cadence second half given easier comp extra week sure thanks larry heard relative pretty broad based say franchises posted growth versus orthopedics point united states point points orthopedics ous really due slower moving countries like japan india kind opening covid expect continued momentum youll recall last versus versus expect continued progress expect orthopedics go positive expect vision accelerate given lot product launches discussed category going high double digit expect high single digits end versus yes larry respect guidance overall almost mirror little bit ashley said comparables going pronounced second therell little bit benefit look third fourth know dont provide guidance im really looking underlying strength businesses improved share markets lead dont lead addition heard segment leaders improved cadence innovation approvals offerings offer better health care solutions thats thinking eps perspective challenging teams continue invest top line growth eps growth approach thats healthy take today top delivered january surprised upside want make sure dont deliver strong results current next quarters really middle back half decade positioned great thanks larry appreciate great guess core growth guidance youve raised twice im looking little bit color whats driving upside versus expectations device versus pharma consumer share gain versus overall market growth geographies standing im trying get sense like really real upside versus initial expectations slip second quick one mentioned pharma margins impacted increased investments guess thinking onetime event covid vaccine expenses et cetera entering kind sustained period ramp could see margins pressure yes chris let take stab maybe jennifer chime anything might missed respect guidance chris say coming like every company probably every industry remained little bit cautious respect recovery unfold variants took responsible prudent approach expectations beginning said dont want undermine operational performance teams executing upon go throughout learn really credit leaders youve heard today teams important reaching customers last months find status covid impacting businesses also johnson johnson could help recovery ill call goodwill factor respect approaching business today respect operating margins say covid investment vaccine specifically small part seeing really take great pride theres one big outlying expense item investment item even date respect milestones really maturity portfolio across segments really positions last might recall increased investment levels even questions uncertainty even though maybe competitors pulled back little bit know right answer invest long term actually pace months last years level comparator feel positioned answered larry earlier eps accretion kind hitting mark across aspects dont know jennifer theres anything else want add yes id add really focus medical innovator know invest versus areas business take look strength pipeline continued progression seeing assets transitioning later stages development require additional cost joe indicated earlier beauty right strength business allowing invest future waves innovation feel real good level investment pharma group yes another way takeaway investing pharmaceuticals investing digital surgery capabilities ashley mentioned investing consumer space connecting consumer digital enabled ways really across board yes chris add guess medical device side ashley alluded amount innovation seen strength youre seeing top line clearly result focus bringing strong innovation market poised period deliver nearly call major product launches significant increase youre seeing coupled recovery md results clearly pharm double digit growth date strong market performance investments paying focus innovation core focus thanks chris quick one med tech thank giving number versus curious reported number number adjusts currency one thing id love quick comment covid type questions curious especially device side ashley kind major geography right increasing levels hospitalization particularly concerned quite stage yet guess first real quick bob adjusted ops growth number consistency understand underlying organic yes bob thanks benefit learn like virus manifests around world starting china asia region terms procedure volume clearly really driven china seen japan lockdown know australia went back lockdowns recently know india digging countries going slower recover emea slower pace united states actually see lot acceleration happening right emea vast distribution uptake vaccinations quite frankly backlog patients really need cared mentioned shared little bit waiting list data uk significant recovery versus first look data like january medical procedures january versus may positive mentioned going vertical line given recent surges happening hospital systems like florida like michigan midwest systems unbelievably equipped manage huge respect admiration lot customers managing covid non covid patients thanks bob appreciate joe hoping thinking encouraging street exclude covid vaccine revenues forecast hoping help better understand covid vaccine margin impact seems margin dilutive thinking core businesses margin baseline forecast yes josh say point really minimal terms segment certainly johnson johnsons margin profile thus far months dilutive minimal amount expect dilution kind reverse second half profit theres material impact eps despite estimate provided earlier today thanks josh appreciate guess first one duration protection vaccines mean joe touched little bit maybe whats perspective often booster might required remind timing dose phase iii trial jennifer love details could provide darzalex subcu conversion imbruvica competitor dynamics mentioned yes terence thanks questions say terms booster whether needed really defer health officials around world call like durability least months vaccine thats better vaccines disparage manner whatsoever health officials still made type decisions booster needed defer data collected perfect relates darzalex starting darzalex saw strong results also significance additional indications continue come sixth indication specifically darzalex faspro application take look far across business already darzalex business subcutaneous form thats whether look united states whether look outside rapid adoption expanded additional patient populations darzalex confident uptake really providing significant benefits patients going multiple hour infusions minute injection lot good things come darzalex relates imbruvica seeing strong growth imbruvica outside united states right growth take look imbruvica overall double digit growth obviously less still bit impacted patient volumes patient starts still little bit cll due covid patient populations watchful waiting period sometimes treatment older therapies see slower growth rate particularly anticipate rebound move forward people get vaccinated relates competitive dynamics imbruvica remains prescribed treatment cll relapsed refractory mcl also waldenstrom btki wherever theyre prescribed also agent thats got demonstrated overall survival first line cll safety profile thats supported years follow clinical experience believe got great profile stands competitively imbruvica continue able deliver great growth going forward terence respect dose study vaccine expect data either late early point thanks terence appreciate one quick follow know questions early sort tone market covid trends back half clarify specifically ashley third businesses past med device businesses sort seasonally slightly flattish pattern talk improving momentum mean pattern see sort normal seasonal pattern momentum youre describing something actually take businesses sequentially one follow could yes matt thank tell experienced maybe bookends like electrical physiology business afib treating cardiac ablation kind recovered expeditiously team right really working refilling patient funnel bookend say cataract surgeries procedure volumes still expect one significantly accelerate balance go really depends procedure really meeting bell curve kind come back whats going affect pace really pace vaccinations pace hospitals able match capacity keep highly engaged healthy workforce managed surges seeing right pockets world really patient sentiment theres lot investment reassure patients go seek medical care seen lot facts data publications impact non covid patients havent seeked care expect continue dont expect perfect linear line keep saying learn every week take steps forward maybe step back thank super one vision could mentioned approval synergy know presbyopia correcting iol europe wondering tell done european business response youre thinking mapping sure seen really strong performance tecnis synergy emea growing market share emea vision surgery market lot available premium intraocular lenses pleased bring technology united states launched theres good pickup also complemented chris mentioning kind first innovation phacoemulsifier veritas combination really first advancement monofocals tecnis eyhance launched earlier combination innovations expect improve current run rate performance surgical vision heard grow versus ous expect start pick back half thanks ashley appreciate matt thanks two one could sort give bit update color orthotaxy adoption provide statistics monarch anything else sort add bucket second might reading tea leaves little bit sounded maybe little bit stronger idea concept interpreting correctly thanks joanne ill start ill turn colleagues talk bit businesses say encouraged hand demonstrations velys knee digital surgery offering done cases date keep hearing customers giving really positive feedback couple things value systems smaller footprint images interoperative capabilities really ease integration surgeons teams workflows reducing heavy physical financial burdens currently available marketplace offering got approval also australia going start cases australia say encouraging several different commercial models assessing seeing hospitals take really multiple archetypes stay tuned second joanne say med tech point view youve seen invested capital really behind getting eye health getting significant digital surgery really starting invest ill call standard care changing technologies like neuwave ablation liver ablation first indication right clinical trial partner technology endoluminal monarch technology lung cancer treatment tumors bleeding tumor cells also first human oncolytic viruses drug delivery using monarch starting get stronger foothold fast growing area stroke stroke business relative procedure less affected covid environment continue build ill turn colleagues talk little bit yes one things helps really successful truly agnostic source innovation win something thats really able get patients originated result products come internally externally example late last brought bermekimab made acquisition momenta brought taris drug delivery device bladder gene therapy geographic atrophy age related macular degeneration humira really work assertively find best technology key areas focus many times thats coming internal labs many times also coming externally strategy interest remains making sure got best innovation patients going forward feel like really good job front consumer health say strong portfolio iconic brands continue develop quickly obviously continuously scan market opportunities find either go market models close gaps portfolio look acquisitions made past couple years really pleased performance whether self care skin health performing thats encouraging future joanne ill say youre going force review transcripts maybe detail usually didnt language changed much always remain pretty aggressive comes rigorous portfolio management making sure making scientific expertise commercial capabilities got find deals really fit financial construct disciplined way whether med tech pharmaceuticals consumer look across board really monthly often opportunities may fit nicely within johnson johnson business thanks joanne appreciate thanks squeezing two unrelated questions require quick answers ill ask upfront guess first potential knock impact vaccine appreciate profit nature product expect see halo effect meaning vaccine help pull benefit areas portfolio second maybe thibaut much consumer margins go commentary inflationary pressures alluded commentary ill jump vaccine first really really proud able bringing forward covid vaccine see really start become vibrant vaccine business johnson johnson talking halo effect knock effect believe good world continue covid vaccine great start pipeline right got number vaccines development hope positive results coming including rsv vaccine hiv vaccine one prevention sepsis others looking hope start become vibrant vaccine business time yes consumer said seen first half continue back half pressure parts portfolio terms commodity inflation distribution costs prepared absorb terms margin improvement committed continuously improve margin profile said going mix continued search efficiencies also investments business whether brand building activities innovation program great thanks jayson appreciate thanks everyone questions continued interest apologies couldnt get time dont hesitate reach investor relations team needed ill turn call back joe brief closing remarks great thank chris thank really everyone joining todays call discuss second results updated outlook incredibly proud relentless focus colleagues apply really meet patient consumer needs around globe resulting strong financial performance across enterprise simultaneously investing strong future im confident outlook rest business performing even beyond mathematical comps hopefully thats takeaway today thank time bye\n",
            "-----------\n",
            "\n",
            "Document: 322, Score: 0.7007766962051392\n",
            "-----------\n",
            "good chris delorefice vice president investor relations johnson johnson welcome companys review business results first joining todays call joe wolk executive vice president chief financial officer additionally im pleased joined leaders business segments participate session joining joe brunswick ashley mcevoy executive vice president worldwide chairman medical devices thibaut mongon executive vice president worldwide chairman consumer jennifer taubert executive vice president worldwide chairman pharmaceuticals logistics get details review made available via webcast accessible investor relations section johnson johnson website investorjnjcom also find additional materials including todays presentation associated schedules please note todays presentation includes forward looking statements encourage review cautionary statement regarding statements included todays presentation companys form identifies certain factors may cause companys actual results differ materially projected sec filings including form along reconciliations non gaap financial measures utilized todays discussion comparable gaap measures also available investorjnjcom several products compounds discussed today developed collaboration strategic partners licensed companies slide acknowledges relationships made enhancements earnings materials posted website today including updated press release format additional information presentation find helpful enhanced materials also allow streamline focus comments todays call goal providing time engagement management session hope find changes useful always welcome feedback continue provide information effective manner regarding todays agenda joe first provide perspective overall results first review sales results corporation business segments joe conclude providing insights cash position capital allocation deployment guidance along considerations second remaining time available questions anticipate webcast last minutes im pleased turn call joe wolk great chris good everyone thank interest johnson johnson pleased strong start confident health business youve heard consistently say goal deliver solid financial operational performance also advancing innovation enduring impact patients caregivers consumers first demonstrated ability consistently deliver growth also executing long term strategies high level comments segments prior chris providing additional franchise product level sales insights pharmaceutical business delivered strong growth across immunology oncology neuroscience pulmonary hypertension portfolios ongoing investments pipeline coupled strong commercial execution around product launches line extensions enable offset erosion biosimilars generics youve heard say previous quarters global pharmaceutical growth continues driven volume rather price experience another negative price recently issued janssen transparency report available website led industry publishing annual report years ago proud contribute information health care providers legislators general public use facilitate meaningful dialogue topic health care costs consumer segment remain focused competitive growth observed broad market softness encouraged ability garner share key areas like otc tylenol regained status brand analgesics neutrogena ogx within beauty medical device segment continue make progress stated goal improved performance continuing enhance market leading positions many platforms additionally support long term objectives segment excited recent acquisition auris health enhance digital surgery capabilities strength first results reinforce confidence broad based business continue manage portfolio discipline make investments across enterprise position achieve long term sustainable growth across vital aspects health care ill turn call back chris discuss first sales drivers highlight notable line items return comments regarding cash position guidance thank joe worldwide sales first increase versus first operational sales growth excludes effect translational currency increased currency negative impact points sales increased regions outside reported growth declined ous operational sales growth currency negatively impacting reported ous results points excluding net impact acquisitions divestitures adjusted operational sales growth worldwide outside turning earnings net earnings diluted earnings per share versus diluted earnings per share ago excluding tax intangible asset amortization expense special items periods adjusted net earnings adjusted diluted earnings per share representing increases respectively compared first operational basis adjusted diluted earnings per share grew beginning consumer comment business segment sales performance first highlighting items build upon slides front unless otherwise stated percentages quoted represent operational sales change comparison first therefore exclude impact currency translation worldwide consumer segment sales totaled growing overall market growth categories participate slowed slightly excluding net impact acquisitions divestitures adjusted operational sales growth addition growing share key brands tylenol neutrogena consumer continues grow share commerce channel outpacing category growth rates channel strong double digit growth across regions beauty franchise grew almost adjusted impact nizoral roc divestitures along acquisition drci labo including portfolio dermocosmetic beauty products priority brands within franchise continue deliver strong performance ogx maui moisture along neutrogena delivering market growth globally sales growth neutrogena growing share across major categories including facial cleansing moisturizing treatment acne treatment sun protection ous sales growth strong across multiple regions driven launches ogx maui moisture brands continue experience strong growth mature markets addition benefiting market expansions counter medicines grew globally adjusting impact zarbees acquisition continues perform otc share growth outpacing category led tylenol grew including consumption growth driven rapid release gel tylenol arthritis products balance growth mainly associated inventory builds result prior years supply constraints driven hurricane maria ous grew almost strong sales asia driven strong performance nicorette quickmist smoking cessation portfolio motrin pediatric analgesics rhinocort allergy growth partially offset declines upper respiratory brands due soft cold cough flu season northern europe russia concluding consumer segment baby care declined globally declines occurred primarily aveeno driven channel shifts market softness declines outside primarily due retail destocking johnsons baby relaunch expands markets johnsons baby brand relaunched key markets growing markets china india canada experienced modest decline consistent overall market decline moving pharmaceutical segment worldwide pharmaceutical sales grew enabled double digit growth key products sales aided onetime pricing favorable adjustments worth almost basis points worldwide primarily driven prior period adjustments stelara invokana along prior comparable remicade highlighted first last even adjusting items delivered market performance globally sales increased outside aforementioned pricing adjustment impacted growth basis points reducing growth approximately slower growth primarily driven first full generic competition zytiga strong portfolio products commercial capabilities enabled deliver global growth competitive levels despite significant biosimilar generic headwinds oncology therapeutic area delivered another strong worldwide growth darzalex continued stellar performance growing globally grew continues benefit strong market growth point increase market share across lines therapy outside darzalex grew experiencing increased penetration share gains across latin america asia pacific region emea countries commercially available markets added imbruvica grew globally driven largely market share gains strong market growth across multiple indications strong uptake outside european asia pacific markets based fourth data across indications lines therapy imbruvica gained approximately points market share patient total patient share leader chronic lymphocytic leukemia gained points market share line therapy worldwide zytiga growth declined declines driven generic competition partially offset growth outside strong sales growth europe asia driven market growth share gains primarily expanded indication metastatic high risk castration sensitive prostate cancer based latitude clinical trial nonmetastatic castration resistant prostate cancer continue pleased launch progress erleada gained points market share penetration prescribers split evenly among urology oncology practices pleased received approval balversa last week treatment adults locally advanced metastatic urothelial cancer balversa first fgfr kinase inhibitor approved fda immunology portfolio delivered global sales growth driven continued strong performance stelara operational growth primarily crohns disease indication partially offset continued erosion remicade due increased discounts modest share loss alternative mechanisms action biosimilars remicade maintained approximately infliximab volume share previously mentioned prior period pricing adjustments remicade stelara favorable impact growth basis points respectively resulting underlying global performance decline remicade growth stelara remain pleased uptake stelara crohns disease market share increased approximately points compared first lastly sales recently launched treatment psoriasis tremfya totaled globally tremfya experiencing strong demand patients therapy achieved share psoriasis market points first neuroscience paliperidone long acting portfolio performed growing higher market share driven increased patient starts strong persistency addition spravato approved fda march first mechanism action decades treatment resistant depression excited treatment centers certified first first patient dosed experience declining sales cardiovascular metabolism product portfolio primarily driven declines xarelto invokana biosimilar competition procrit xarelto continues increase trx share growth however growth offset increase legislative rate doughnut hole along higher medicare doughnut hole utilization resulting overall decline xarelto seen positive response xareltos milligram vascular dose cad pad indication expect penetration expanded patient population occur time confident value indication provides patients total pulmonary hypertension portfolio grew double digits increasing realized strong growth opsumit uptravi growing respectively global basis benefited market penetration increased share expected tracleer declining due increased use opsumit generic competition europe ill turn attention medical devices segment worldwide medical devices sales declining excluding net impact acquisitions divestitures primarily divestiture lifescan adjusted operational sales growth worldwide acceleration versus fourth adjusted operational sales growth driven continued strong performance interventional solutions vision advanced surgery interventional solutions grew globally led continued strength business achieving growth worldwide continuing trend double digit growth continue market leader underpenetrated market gained full point market share growth driven newer product offerings ablation advanced catheters contributing atrial fibrillation procedural market growth additionally realized robust growth cerenovus business double digit growth globally driven product innovation including embotrap treatment ischemic stroke strong market growth strong vision results driven contact lenses grew globally strength daily disposables astigmatism lenses oasys family end also excited announce availability acuvue oasys transitions light intelligent technology market first kind photochromic contact lens named one time magazines best inventions seamlessly adapts changing light delivering effortless sight less squinting dawn dusk orthopaedics continues close gap versus market operational sales growth globally delivering fifth straight sequential improvement hips grew expect represent performance line market share gains outside primarily asia pacific region driven leadership position anterior approach continued strong demand primary stem actis trauma growth globally driven market growth supported strong adoption newer innovations femoral recon nails growth rate accelerated versus fourth also experienced strong growth asia however saw declines emea primarily driven timing tender offers impacted growth outside approximately basis points spine declined however continues improve overall performance fourth straight improved adjusted operational results continue see stabilization performance driven products viper prime system minimally invasive surgery expedium verse one pedicle screw system deformity knees declined almost sales declined improved performance fourth straight driven uptake attune revision system sales declines outside occurred emea partially offset continued growth asia latin america pricing pressure continued impact categories orthopaedics relatively stable overall compared fourth pure price negative across platforms approximately negative spine negative hips negative trauma negative knees pleased results surgery business advanced surgery performance almost growth globally led biosurgery growth approximately along strong performance endocutters energy biosurgery strength driven strong demand aided innovation surgicel powder endocutters energy performance primarily driven strong growth asia pacific region fueled continued adoption newer innovation general surgery wound closure grew barbed plus sutures experiencing strong adoption selling days significant impact global growth rates first expect significant impact subsequent final comment regarding hospital setting let provide utilization trends fourth hospital admissions increased lab procedures surgical procedures slightly positive preliminary estimates first indicate slight declining trend hospital admissions lab procedures growth flat respectively surgical procedures growth first expected increase close provide commentary earnings regarding consolidated statement earnings first please direct attention boxed section schedule referenced table non gaap measures first net earnings adjusted exclude intangible asset amortization expense special items tax basis primarily driven intangible amortization ipr charge related write ipr asset acquisition alios biopharma excluding net impact items adjusted earnings per share increase versus first adjusted eps constant currency basis versus first id like highlight noteworthy items changed statement earnings compared last cost products sold selling marketing administrative margins slightly improved primarily driven favorable segment mix continue invest competitive levels investment research development percent sales higher first basis points increase primarily driven higher pharmaceutical milestone payments including milestone payment argenx associated worldwide license collaboration agreement higher investments overall portfolio net interest expense lower result higher rates interest earned lower average debt balances regarding taxes tax rate includes adjustments relating tax cuts jobs act highlighted tax footnote excluding special items effective tax rate compared period last consistent expectations full adjusted effective tax rate lets look adjusted income tax segment first adjusted income tax enterprise consistent first looking adjusted tax income segment pharmaceutical margins decreased basis points primarily driven increased investments spend consumer margins improved basis points primarily driven gain related companys earlier investment ci holdings medical devices essentially flat improving basis points versus last concludes sales highlights johnson johnsons first reference heres slide summarizing notable developments occurring first mentioned comments turn call back joe thanks chris respect cash end first approximately net debt consisting approximately cash marketable securities approximately debt comments allocated capital first simultaneously executed across tenets strategy create shareholder value reinvestment business continues top priority johnson johnson invested represents basis point increase primarily driven milestone payments investments advance assets pipeline previously announced strengthened consumer business acquisition drci labo addition spending also used cash continue returning value shareholders form dividends buybacks paid quarterly dividend per share totaling dividend continue key priority going forward also made progress share repurchase program first another total authorization complete let provide comments updates guidance noted mornings press release first results elevated confidence performance strengthening outlook operational sales growth result increasing guidance basis points reflecting full adjusted operational sales growth operational sales growth negative impact translational currency however increased plan absorb impact strength operational sales outlook referenced therefore expectation total reported sales remains know predict impact currency movements light previous comments reported sales estimate remains minus minus utilizing average euro spot rate versus referenced back january turning guidance items updated starting income expense account record royalty income gains losses arising items litigation investments development corporation divestitures asset sales write offs increasing full expectations income excluding special items range within income one largest items previously announced successful closing divestiture advanced sterilization products business closed reflected second results factors add confidence business result increasing high end range adjusted operational eps per share also tightening range reflecting increase bringing midpoint per share predicting impact currency movements however estimated negative impact currency eps increased estimated resulting adjusted eps range per share items guidance remain consistent provided january strength business reflected makes even confident guidance provided enables absorb impact eps incremental currency headwinds investment auris health additionally higher level expected income provides flexibility deploy higher levels investment fortify accelerate pipelines saw elevated level spend first summary light last years basis point improvement operating margins years eps growth sales growth ratio coupled capital deployment johnson johnson continues create compelling value proposition investors provide quarterly guidance last wed like provide qualitative factors consider modeling heres know expect second divestiture advanced sterilization products business closed april noted earlier comprises large majority income given divestiture minimal advanced sterilization products sales second also expect currency still headwind second significant experienced first finally looking back second represented highest sales might anticipate challenging comparison particularly expect generic biosimilar erosion pharmaceutical segment potentially accelerate concludes overview first performance mentioned earlier call pleased solid first results also unrelenting pursuit growth meeting patient needs driving value johnson johnson shareholders hand call back chris let take moment thank advance ashley jennifer thibaut part call welcome thibaut first johnson johnson earnings call thibaut seasoned global leader lived worked continents across segments johnson johnsons business years company prior role thibaut served leader johnson johnson consumer asia pacific region great ill turn call back chris initiate portion thank joe move portion webcast rob please provide instructions line wishing ask one ashley one joe ashley talk auris deal surgical robot whats plan rolling monarch long take integrate neuwave onto platform price paid made people feel hedge verb joint venture auris also surgical robot development confirm still plan launch surgical robot joe ill ask second front income talk might create headwind eps growth youre thinking line item going forward go ahead ashley okay great thanks larry listen pleased welcome auris family spent time last week close really welcome dr fred moll many know true pioneer field robotics view acquisition auris highly complementary verb program orthopaedics program orthotaxy im excited product monarch know world leader open surgery world leader laparoscopic surgery im pleased share endoluminal surgery plan take advantage world class robotics expertise advanced instrumentation partnership verily creating connected experience clearly robust global infrastructure competitive value proposition field digital surgery thanks larry great respect income number ranges look upper end pretty much par experienced elevated sales growth able manage look towards intentions mind anniversary generic biosimilar erosion later provides tailwind top line growth additionally number id say cost improvement initiatives throughout organization notably supply chain announced little bit earlier partnership jabil thats going extremely use funds really flexibility invest spoke auris investment otherwise dilutive things equal able absorb strength first income proceeds going throughout course lost larry need manage towards provide consistency terms earnings growth become expected johnson johnson couple joe ill start maybe one ashley joe want talk guidance youre raising guidance earlier last expression kind confidence driving sort confidence early raise guidance talked factors expect whats changed mind pharma stronger consumer little weaker broad themes across segments still hold whats providing incremental confidence great thanks david yes much confident point maybe ago certainly balance thought occur january recall january discussion forecasted range generic biosimilar erosion probably higher end range based first results subsided little bit probably closer number also though attributable strengths core products darzalex imbruvica tremendous impact patients health care system overall thats translating good business johnson johnson medical devices gotten number begins striving obviously looking better performance moving forward got pretty quickly fourth ill call unadjusted adjusted growth leaning gives little bit confidence saw theres still work orthopaedics growth positive sign okay helpful ashley devices questions first larrys auris investor community expect see prototype platform update regulatory time lines either ex still early first global approval market another recon ashley coming aaos ortho performance getting better recon performance took small step backward particular much attributable changes market growth relative share dynamics worldwide franchise sure thanks david questions auris real value actually mentioned first generation monarch endoluminal lung program really preventing intercepting curing lung cancer one top cancers lot people get diagnosed end late stage survival rate early detection makes big deal better outcomes monarch really nice enabler early diagnosis accessing distal parts lung better diagnosis imagine larrys earlier really active development program bringing potential treatments like ablation potential dispersal oncolytic viruses thats really generation mentioned another area assessing obviously digital surgery broader indications general surgery orthopaedics say view auris acquisition highly complementary verb program verb last week im pleased theyre knocking risk every day completed preclinical procedural developments several procedures theyve engaged hundreds surgeons theyre engaging right notified bodies regulatory pathways say stay tuned going take best insight dr fred moll really assess programs make sure highly differentiated value proposition launch first ones broader one pharma market id interested views medicare part reform potential shift away drug rebates time guess specifically potential change part relates longer term see broader market including commercial market moving towards net pricing dynamic versus current kind gross price rebate structure lets say next years second tremfya little bit color terms youre seeing competitive landscape psoriasis shaping il il tnfs thinking youre thinking abbvies risankizumab launch later kind positioning within il chris jennifer first piece first part chris really around medicare part rebate reform take look really supportive rebate reform finding ways actually get dollars discounts rebates actually back patient pocket costs know really one things causing lot pain marketplace right supportive administrations efforts rebate reform taking look actually implement pretty rapid way going depend ultimately comes looking closely believe poised able move marketplace following sort market dynamics rebate reform really look forward patients able affordable pocket costs terms tremfya really terrific tremfya globally talked product performing really market clinical data comparative data continue reinforce seeing really true leading brand psoriasis recall got head head superiority versus humira got superiority versus stelara patients stelara inadequate responders recently announced data shows superior efficacy versus cosentyx pasi weeks really able demonstrate product performs rapidly patients got great durability together whats important providers patients importantly data years demonstrating really consistency effect believe thats going good whether competing versus il whether competing versus old anti tnf whether competing upcoming il coming got strong portfolio data help continue succeed id like turn moment expense items headwinds youll seeing pharmaceutical business throughout rest impact gross margins joanne joe first let say nice job tv great ill say expense one go guidance say see slight improvement always look opportunities invest slight improvement targeting remember last improved basis points operating margins given current eps growth rate sales growth ratio thats extremely healthy going look areas invest cost initiatives say closer infancy supply chain one mentioned earlier reply getting started start see impact beyond terrific second want drill little bit knees one seems one components orthopaedics thats lagging somewhat robotic knee systems market turning system arrives end next thank joanne ashley thanks david forgive wasnt answering knees say consider performance knees stabilizing posted decline united states pretty consistent prior quarters experience decline ous predominantly driven emea included really due predominantly onetimers say stable committing really get news attunes knee performance got data registries getting news congresses saw las vegas attune revision performing quite plan launch cementless offering later clearly las vegas saw peek robotics offering aaos combination believe eventually get market performance interim challenged get cementless get robot thanks ashley maybe build ashleys comment experienced positive growth ous comp referenced worth little basis points put context quick questions first joe wanted clarify guidance increase growth basis points basically net talked headwind little bit better strong core pharma growth obviously also price increase pharma talked things different guidance bob say thats largely im sure referenced price increase actually experienced price decrease overall ppa adjustment chris referenced commentary stronger outlook respect pharmas group driven core portfolio products impacted quickly respect generics biosimilar erosion id say medical device probably tick stronger thought back january consumer continuing monitor feel good share levels attained might slight market contraction dont know maybe thibaut speak words yes absolutely joe see saw first contraction market compared experienced second half looking expect market little bit estimate full growth market compete around full yes maybe put context around numbers bob growth categories compete second half last closer see deceleration see temporary something thats much sustainable another bob yes one quick one one vision care sort stood positive result im curious better contact lens growth view market related market share related im wondering could provide color contact lens youre referring terms putting perspective meaningful maybe increase growth could drive franchise sure thanks bob ashley get try oasys transitions light management lot baseball players opening season started use yes pleased performance contact lenses mentioned years consistent market performance strong ous performance contact lens really innovation driving market healthy performing bit market gaining market share contact lens business really emerging markets driving innovation meaningful innovation developed markets shared completed phase iii trials allergy drug eluting contact lens antihistamine expect come market want follow questions around updated guidance mean came seems like momentum sustained versus thats full zytiga understand joe said things got little bit better things looked maybe incrementally little bit worse consumer side feels like appreciate comps get harder move looks like guidance suggests still meaningful step operational adjusted sales growth number guess im pushing little bit sounds like right read updated guidance youre updating partially outperformance saw maybe gives little bit confidence potential upside deceleration suggested pretty strong argue pretty significant trying get little bit whats reflected okay danielle confident january clear guidance terms confidence see unfolds things havent mentioned yet one zytiga held pretty good small molecule first given usual erosion rates expect accelerate recall thats going comparison brand growing throughout also tracleer velcade probably see generics coming months procrit activity terms erosion competitor generic entry manufacturing issues remediated understand taking account guidance providing today quick follow consumer side things wondering seems like tends maybe im misremembering seems like tends little bit weak guys past dynamic market changed causes softer versus back half sounds like youre calling market contraction versus anything specific color yes thank danielle true different consumer business due macro factors also seasonality business result affected example season cold flu segments saw soft cold flu seasons parts world impact thats happened example yes macro seasonal effects impact performance two jennifer first esketamine thanks details prepared remarks chris wondered could give incremental color mentioned centers already certified first dose patient provided commercial setting anything else help share maybe start one trigger centers certification ramp going course color share second cardiovascular xarelto appreciate details doughnut hole decline theres positive things horizon including filing prevention dvt medically ill patients whats outlook xarelto terms returning growth lastly category invokana expectations terms whether credence data turn franchise around thanks yes received approval launched spravato esketamine first following breakthrough therapy designations approved treatment treatment resistant depression along oral antidepressant patients whove tried antidepressant therapies current episode product also available rems program anticipated part rems program requires certify sites also enroll patients rems program prior administration interest spravato really high across insurance plans providers patients actually quick update know spoke center certification earlier today number got numbers actually high sites certified approved begin treating patients importantly actually got number patients actually dosed product actually multiple doses successfully believe strong start spravato going important growth driver sites rems program important component thats patients need go treatment right number high sites already certified track plans looking forward able hopefully treat large number patients spravato help treatment resistant depression early days still realize market weeks encouraged signs seeing move xarelto xarelto trxs share grew first unfortunately growth offset increase doughnut hole expenses moved also greater percentage patients medicare medicaid heavily discounted channels give little bit dynamics whats going underneath hopefully reasons belief success asset going forward cad pad launch going launch really consistent even better launch benchmarks products like entresto brilinta proven successful market seen positive response milligram vascular dose launched really expect significant contributor going forward reminder theres patients cad pad starting subset extraordinary need product like xarelto patients cad pad additionally filed medically ill filed snda end december based mariner magellan trials look forward hopefully getting approval able launch indication last invokana invokana recently reported results credence study showing product significantly reduces risk renal failure patients type diabetes chronic kidney disease reduction risk progression end stage kidney disease things like dialysis transplant doubling serum creatinine renal cardiovascular death really really robust results also secondary end points extraordinarily positive study plan work regulators get indication along lines also work payers see got opportunity enhance formulary positions get product available patients limited safety labeling product thats impacted hopeful credence data bringing forward another opportunity patients help work try shift balance perceptions around benefit risk profile pah coming years post close actelion curious uptravi trajectory commercial drivers say geographically share notable next maybe different original expectation joe pharma talked headwinds generics biosimilars launches may take time though change growth profile back guys view market maybe higher level view trough risk deceleration pharma could persist going ill go ahead start actelion total pulmonary hypertension portfolio grew double digits first increase go little bit deeper together opsumit uptravi delivered sales opsumit growth uptravi growth uptravi significant driver business going forward also anticipated deal originally strong growth seeing uptravi really coming different areas continued share gains also greater market penetration earlier use believe put commercial capabilities across assets uptravi newest one continue get approval get registration access reimbursement asset globally lift selling product really first oral pra really trying drive earlier earlier usage pah treatment continuum believe best thing patients aggressive treatment earlier therapy really showing results seen growth great thanks jennifer geoff answer second terms trough say expect largest impact generic biosimilar erosion thats specific january outline impact continue see great core growth look immunology stelara still market opportunities within crohns disease indications tremfya patients psoriasis still treated biologic got great opportunity oncology still significant imbruvica darzalex remember outside still zytiga exclusivity good shape actelion assets jennifer referenced xarelto indications see trough anniversary patent losses even stronger first back market projection pharmaceutical couple could one high level one pharma following chris earlier around rebate reform guess im im getting investors also wondering actual list prices safe harbor removed part safe assume list price come net prices currently possible list prices may end higher price net prices currently market second specific one apologize missed prepared remarks terms remicade biosimilar impact share percentage infliximab market still brand sure dont start look one start first okay going say remicade one ive ive got one continuing see erosion remicade expected take look team really competing marketplace try ensure patients like stay remicade access availability right able retain volume share infliximab obviously albeit lower competitive price market terms rebate reform going wait see ultimately going come forward terms rebate rule options could include patients essentially rebate flow pharmacy theres others require essentially involve lowering list prices going forward really important business growth robust growth seen first also last due volume due price however move forward whatever type rebate reform believe going positive patients help patient pocket costs based business model going really poised succeed environment mentioned earlier working number different scenarios see ultimately comes forward believe really positioned able continue succeed environment yes vamil put number around last pharmaceutical business discounts experienced net price decrease yet still growth unfortunately increased discounts arent getting patients go pharmacy monthly basis theyre experiencing elevated co pays least years ago even recently thats system really needs fixed impact really drive growth thats innovation unmet medical needs couple med devices response earlier joe mentioned youre looking better performance going forward context baseline growth comment related growth yes guess quick answer one jayson ashley smiling want see better performance really benchmarked anchored statement last medical device analyst day want market youve see consistent trajectory every whether going say bar see quarters play really looking horizon make sure market performance better yes add jayson say listen quarters arent necessarily always linear consistent improving growth acceleration thats absolutely plan achieve okay thats helpful consumer obviously bit challenging looks like expectation market growth basis points appreciate seasonal dynamics source softness geographic nature price dynamic little color yes thank see deceleration first said related seasonality structure portfolio look otc business pleased performance overall saw softness due cold flu season russia western europe look beauty see deceleration market continue outperform market important geographies like united states baby another category saw deceleration winter affects winter related products really seasonality also see impact destocking retailers geographies say broadly based across geographies said expect softness expected seen rebound balance hit projected growth markets compete great thank jayson appreciate thanks everyone questions continued interest company apologies couldnt get time dont hesitate reach investor relations team needed want remind pharmaceutical business review brunswick may look forward seeing turn call back joe brief closing remarks thank chris thanks participated listened todays webcast hope enjoyed expanded management panel sensed confidence outlook set even better performance beyond chris referenced look forward seeing many pharmaceutical business review day great day\n",
            "-----------\n",
            "\n"
          ]
        }
      ],
      "source": [
        "documents, document_scores, document_ids = model.search_documents_by_topic(topic_num=18, num_docs=5)\n",
        "for doc, score, doc_id in zip(documents, document_scores, document_ids):\n",
        "    print(f\"Document: {doc_id}, Score: {score}\")\n",
        "    print(\"-----------\")\n",
        "    print(doc)\n",
        "    print(\"-----------\")\n",
        "    print()"
      ]
    },
    {
      "cell_type": "code",
      "execution_count": null,
      "metadata": {
        "colab": {
          "base_uri": "https://localhost:8080/"
        },
        "id": "BZhK6Wk4dbQt",
        "outputId": "67f7fb72-ed89-4fef-bdb3-3c08cf19f646"
      },
      "outputs": [
        {
          "data": {
            "text/plain": [
              "array([[0.6494784 , 0.13284017, 0.12833051, 0.1262695 , 0.11789929],\n",
              "       [0.69041306, 0.18522732, 0.15652812, 0.15303034, 0.14585689]],\n",
              "      dtype=float32)"
            ]
          },
          "execution_count": 22,
          "metadata": {},
          "output_type": "execute_result"
        }
      ],
      "source": [
        "topic_score"
      ]
    },
    {
      "cell_type": "code",
      "execution_count": null,
      "metadata": {
        "colab": {
          "base_uri": "https://localhost:8080/"
        },
        "id": "_iFJXTNXRXWv",
        "outputId": "710ddf40-6907-40d8-d1aa-d59585d4bf3f"
      },
      "outputs": [
        {
          "data": {
            "text/plain": [
              "32"
            ]
          },
          "execution_count": 62,
          "metadata": {},
          "output_type": "execute_result"
        }
      ],
      "source": [
        "model.get_num_topics()"
      ]
    },
    {
      "cell_type": "code",
      "execution_count": null,
      "metadata": {
        "id": "5Hupik5VBeH2"
      },
      "outputs": [],
      "source": [
        "import numpy as np\n",
        "topic_nums,topic_score,topics_words,word_scores = model.get_documents_topics(np.arange(701),num_topics=5)"
      ]
    },
    {
      "cell_type": "code",
      "execution_count": null,
      "metadata": {
        "id": "zuLW8uJEBxfb"
      },
      "outputs": [],
      "source": [
        "topic_nums = topic_nums.tolist()\n",
        "topic_score = topic_score.tolist()\n",
        "topics_words = topics_words.tolist()\n",
        "word_scores = word_scores.tolist()"
      ]
    },
    {
      "cell_type": "code",
      "execution_count": null,
      "metadata": {
        "colab": {
          "base_uri": "https://localhost:8080/",
          "height": 424
        },
        "id": "V1ja6-sKA255",
        "outputId": "b4cc658d-bca2-49c3-e663-4b356034090b"
      },
      "outputs": [
        {
          "data": {
            "text/html": [
              "\n",
              "  <div id=\"df-d022fe6a-4196-4695-808c-2c8d59a0d763\">\n",
              "    <div class=\"colab-df-container\">\n",
              "      <div>\n",
              "<style scoped>\n",
              "    .dataframe tbody tr th:only-of-type {\n",
              "        vertical-align: middle;\n",
              "    }\n",
              "\n",
              "    .dataframe tbody tr th {\n",
              "        vertical-align: top;\n",
              "    }\n",
              "\n",
              "    .dataframe thead th {\n",
              "        text-align: right;\n",
              "    }\n",
              "</style>\n",
              "<table border=\"1\" class=\"dataframe\">\n",
              "  <thead>\n",
              "    <tr style=\"text-align: right;\">\n",
              "      <th></th>\n",
              "      <th>Call</th>\n",
              "      <th>Text</th>\n",
              "      <th>Topic</th>\n",
              "      <th>Name</th>\n",
              "      <th>Top_n_words</th>\n",
              "      <th>top_5_topics</th>\n",
              "      <th>top_5_topics_score</th>\n",
              "      <th>top_5_topics_words</th>\n",
              "      <th>top_5_word_scores</th>\n",
              "    </tr>\n",
              "  </thead>\n",
              "  <tbody>\n",
              "    <tr>\n",
              "      <th>0</th>\n",
              "      <td>Abbott Laboratories, Q1 2018 Earnings Call, Ap...</td>\n",
              "      <td>good morning and thank you for joining us with...</td>\n",
              "      <td>13</td>\n",
              "      <td>Topic_13</td>\n",
              "      <td>abbott-libre-alinity-mitraclip-nutrition</td>\n",
              "      <td>[13, 12, 11, 18, 16]</td>\n",
              "      <td>[0.601823091506958, 0.13026341795921326, 0.129...</td>\n",
              "      <td>[[abbott, libre, alinity, mitraclip, nutrition...</td>\n",
              "      <td>[[0.7602687478065491, 0.7529654502868652, 0.69...</td>\n",
              "    </tr>\n",
              "    <tr>\n",
              "      <th>1</th>\n",
              "      <td>Abbott Laboratories, Q1 2019 Earnings Call, Ap...</td>\n",
              "      <td>good morning and thank you for joining us with...</td>\n",
              "      <td>13</td>\n",
              "      <td>Topic_13</td>\n",
              "      <td>abbott-libre-alinity-mitraclip-nutrition</td>\n",
              "      <td>[13, 18, 12, 9, 19]</td>\n",
              "      <td>[0.6743338108062744, 0.1959945559501648, 0.191...</td>\n",
              "      <td>[[abbott, libre, alinity, mitraclip, nutrition...</td>\n",
              "      <td>[[0.7602687478065491, 0.7529654502868652, 0.69...</td>\n",
              "    </tr>\n",
              "    <tr>\n",
              "      <th>2</th>\n",
              "      <td>Abbott Laboratories, Q1 2020 Earnings Call, Ap...</td>\n",
              "      <td>good morning and thank you for joining us with...</td>\n",
              "      <td>13</td>\n",
              "      <td>Topic_13</td>\n",
              "      <td>abbott-libre-alinity-mitraclip-nutrition</td>\n",
              "      <td>[13, 12, 18, 16, 19]</td>\n",
              "      <td>[0.5312502384185791, 0.16475310921669006, 0.15...</td>\n",
              "      <td>[[abbott, libre, alinity, mitraclip, nutrition...</td>\n",
              "      <td>[[0.7602687478065491, 0.7529654502868652, 0.69...</td>\n",
              "    </tr>\n",
              "    <tr>\n",
              "      <th>3</th>\n",
              "      <td>Abbott Laboratories, Q1 2021 Earnings Call, Ap...</td>\n",
              "      <td>good morning and thank you for joining us with...</td>\n",
              "      <td>13</td>\n",
              "      <td>Topic_13</td>\n",
              "      <td>abbott-libre-alinity-mitraclip-nutrition</td>\n",
              "      <td>[13, 16, 19, 18, 9]</td>\n",
              "      <td>[0.6785067319869995, 0.21797850728034973, 0.17...</td>\n",
              "      <td>[[abbott, libre, alinity, mitraclip, nutrition...</td>\n",
              "      <td>[[0.7602687478065491, 0.7529654502868652, 0.69...</td>\n",
              "    </tr>\n",
              "    <tr>\n",
              "      <th>4</th>\n",
              "      <td>Abbott Laboratories, Q1 2022 Earnings Call, Ap...</td>\n",
              "      <td>good morning and thank you for joining us with...</td>\n",
              "      <td>13</td>\n",
              "      <td>Topic_13</td>\n",
              "      <td>abbott-libre-alinity-mitraclip-nutrition</td>\n",
              "      <td>[13, 18, 16, 12, 29]</td>\n",
              "      <td>[0.6344333291053772, 0.21608230471611023, 0.19...</td>\n",
              "      <td>[[abbott, libre, alinity, mitraclip, nutrition...</td>\n",
              "      <td>[[0.7602687478065491, 0.7529654502868652, 0.69...</td>\n",
              "    </tr>\n",
              "  </tbody>\n",
              "</table>\n",
              "</div>\n",
              "      <button class=\"colab-df-convert\" onclick=\"convertToInteractive('df-d022fe6a-4196-4695-808c-2c8d59a0d763')\"\n",
              "              title=\"Convert this dataframe to an interactive table.\"\n",
              "              style=\"display:none;\">\n",
              "        \n",
              "  <svg xmlns=\"http://www.w3.org/2000/svg\" height=\"24px\"viewBox=\"0 0 24 24\"\n",
              "       width=\"24px\">\n",
              "    <path d=\"M0 0h24v24H0V0z\" fill=\"none\"/>\n",
              "    <path d=\"M18.56 5.44l.94 2.06.94-2.06 2.06-.94-2.06-.94-.94-2.06-.94 2.06-2.06.94zm-11 1L8.5 8.5l.94-2.06 2.06-.94-2.06-.94L8.5 2.5l-.94 2.06-2.06.94zm10 10l.94 2.06.94-2.06 2.06-.94-2.06-.94-.94-2.06-.94 2.06-2.06.94z\"/><path d=\"M17.41 7.96l-1.37-1.37c-.4-.4-.92-.59-1.43-.59-.52 0-1.04.2-1.43.59L10.3 9.45l-7.72 7.72c-.78.78-.78 2.05 0 2.83L4 21.41c.39.39.9.59 1.41.59.51 0 1.02-.2 1.41-.59l7.78-7.78 2.81-2.81c.8-.78.8-2.07 0-2.86zM5.41 20L4 18.59l7.72-7.72 1.47 1.35L5.41 20z\"/>\n",
              "  </svg>\n",
              "      </button>\n",
              "      \n",
              "  <style>\n",
              "    .colab-df-container {\n",
              "      display:flex;\n",
              "      flex-wrap:wrap;\n",
              "      gap: 12px;\n",
              "    }\n",
              "\n",
              "    .colab-df-convert {\n",
              "      background-color: #E8F0FE;\n",
              "      border: none;\n",
              "      border-radius: 50%;\n",
              "      cursor: pointer;\n",
              "      display: none;\n",
              "      fill: #1967D2;\n",
              "      height: 32px;\n",
              "      padding: 0 0 0 0;\n",
              "      width: 32px;\n",
              "    }\n",
              "\n",
              "    .colab-df-convert:hover {\n",
              "      background-color: #E2EBFA;\n",
              "      box-shadow: 0px 1px 2px rgba(60, 64, 67, 0.3), 0px 1px 3px 1px rgba(60, 64, 67, 0.15);\n",
              "      fill: #174EA6;\n",
              "    }\n",
              "\n",
              "    [theme=dark] .colab-df-convert {\n",
              "      background-color: #3B4455;\n",
              "      fill: #D2E3FC;\n",
              "    }\n",
              "\n",
              "    [theme=dark] .colab-df-convert:hover {\n",
              "      background-color: #434B5C;\n",
              "      box-shadow: 0px 1px 3px 1px rgba(0, 0, 0, 0.15);\n",
              "      filter: drop-shadow(0px 1px 2px rgba(0, 0, 0, 0.3));\n",
              "      fill: #FFFFFF;\n",
              "    }\n",
              "  </style>\n",
              "\n",
              "      <script>\n",
              "        const buttonEl =\n",
              "          document.querySelector('#df-d022fe6a-4196-4695-808c-2c8d59a0d763 button.colab-df-convert');\n",
              "        buttonEl.style.display =\n",
              "          google.colab.kernel.accessAllowed ? 'block' : 'none';\n",
              "\n",
              "        async function convertToInteractive(key) {\n",
              "          const element = document.querySelector('#df-d022fe6a-4196-4695-808c-2c8d59a0d763');\n",
              "          const dataTable =\n",
              "            await google.colab.kernel.invokeFunction('convertToInteractive',\n",
              "                                                     [key], {});\n",
              "          if (!dataTable) return;\n",
              "\n",
              "          const docLinkHtml = 'Like what you see? Visit the ' +\n",
              "            '<a target=\"_blank\" href=https://colab.research.google.com/notebooks/data_table.ipynb>data table notebook</a>'\n",
              "            + ' to learn more about interactive tables.';\n",
              "          element.innerHTML = '';\n",
              "          dataTable['output_type'] = 'display_data';\n",
              "          await google.colab.output.renderOutput(dataTable, element);\n",
              "          const docLink = document.createElement('div');\n",
              "          docLink.innerHTML = docLinkHtml;\n",
              "          element.appendChild(docLink);\n",
              "        }\n",
              "      </script>\n",
              "    </div>\n",
              "  </div>\n",
              "  "
            ],
            "text/plain": [
              "                                                Call  \\\n",
              "0  Abbott Laboratories, Q1 2018 Earnings Call, Ap...   \n",
              "1  Abbott Laboratories, Q1 2019 Earnings Call, Ap...   \n",
              "2  Abbott Laboratories, Q1 2020 Earnings Call, Ap...   \n",
              "3  Abbott Laboratories, Q1 2021 Earnings Call, Ap...   \n",
              "4  Abbott Laboratories, Q1 2022 Earnings Call, Ap...   \n",
              "\n",
              "                                                Text  Topic      Name  \\\n",
              "0  good morning and thank you for joining us with...     13  Topic_13   \n",
              "1  good morning and thank you for joining us with...     13  Topic_13   \n",
              "2  good morning and thank you for joining us with...     13  Topic_13   \n",
              "3  good morning and thank you for joining us with...     13  Topic_13   \n",
              "4  good morning and thank you for joining us with...     13  Topic_13   \n",
              "\n",
              "                                Top_n_words          top_5_topics  \\\n",
              "0  abbott-libre-alinity-mitraclip-nutrition  [13, 12, 11, 18, 16]   \n",
              "1  abbott-libre-alinity-mitraclip-nutrition   [13, 18, 12, 9, 19]   \n",
              "2  abbott-libre-alinity-mitraclip-nutrition  [13, 12, 18, 16, 19]   \n",
              "3  abbott-libre-alinity-mitraclip-nutrition   [13, 16, 19, 18, 9]   \n",
              "4  abbott-libre-alinity-mitraclip-nutrition  [13, 18, 16, 12, 29]   \n",
              "\n",
              "                                  top_5_topics_score  \\\n",
              "0  [0.601823091506958, 0.13026341795921326, 0.129...   \n",
              "1  [0.6743338108062744, 0.1959945559501648, 0.191...   \n",
              "2  [0.5312502384185791, 0.16475310921669006, 0.15...   \n",
              "3  [0.6785067319869995, 0.21797850728034973, 0.17...   \n",
              "4  [0.6344333291053772, 0.21608230471611023, 0.19...   \n",
              "\n",
              "                                  top_5_topics_words  \\\n",
              "0  [[abbott, libre, alinity, mitraclip, nutrition...   \n",
              "1  [[abbott, libre, alinity, mitraclip, nutrition...   \n",
              "2  [[abbott, libre, alinity, mitraclip, nutrition...   \n",
              "3  [[abbott, libre, alinity, mitraclip, nutrition...   \n",
              "4  [[abbott, libre, alinity, mitraclip, nutrition...   \n",
              "\n",
              "                                   top_5_word_scores  \n",
              "0  [[0.7602687478065491, 0.7529654502868652, 0.69...  \n",
              "1  [[0.7602687478065491, 0.7529654502868652, 0.69...  \n",
              "2  [[0.7602687478065491, 0.7529654502868652, 0.69...  \n",
              "3  [[0.7602687478065491, 0.7529654502868652, 0.69...  \n",
              "4  [[0.7602687478065491, 0.7529654502868652, 0.69...  "
            ]
          },
          "execution_count": 82,
          "metadata": {},
          "output_type": "execute_result"
        }
      ],
      "source": [
        "df3[\"top_5_topics\"] = pd.Series(topic_nums)\n",
        "df3[\"top_5_topics_score\"] = pd.Series(topic_score)\n",
        "df3[\"top_5_topics_words\"] = pd.Series(topics_words)\n",
        "df3[\"top_5_word_scores\"] = pd.Series(word_scores)\n",
        "df3.head()"
      ]
    },
    {
      "cell_type": "code",
      "execution_count": null,
      "metadata": {
        "id": "jTK5WRU9DTbd"
      },
      "outputs": [],
      "source": [
        "df3.to_pickle(\"Top2Vec_5dominant_df.pkl\")"
      ]
    },
    {
      "cell_type": "markdown",
      "metadata": {
        "id": "q9Fystj81ABj"
      },
      "source": [
        "### Evaluation"
      ]
    },
    {
      "cell_type": "code",
      "execution_count": null,
      "metadata": {
        "colab": {
          "base_uri": "https://localhost:8080/"
        },
        "id": "C3bqdaK4RnJn",
        "outputId": "378abe09-2098-4374-a1fe-b5b088776b75"
      },
      "outputs": [
        {
          "name": "stdout",
          "output_type": "stream",
          "text": [
            "Model Coherence C_V is:0.865496888651982\n"
          ]
        }
      ],
      "source": [
        "import gensim.corpora as corpora\n",
        "from gensim.utils import tokenize\n",
        "from gensim.models import CoherenceModel\n",
        "topic_words = model.topic_words\n",
        "tokenized = [list(tokenize(s)) for s in flatten_data]\n",
        "id2word = corpora.Dictionary(tokenized)\n",
        "corpus = [id2word.doc2bow(text) for text in tokenized]\n",
        "\n",
        "cm = CoherenceModel(topics=[s.tolist() for s in topic_words] ,texts=tokenized\n",
        "                    , corpus=corpus, dictionary=id2word, coherence='c_v')\n",
        "\n",
        "print(\"Model Coherence C_V is:{0}\".format(cm.get_coherence()))"
      ]
    }
  ],
  "metadata": {
    "colab": {
      "collapsed_sections": [
        "TxbnMcAPQd_D",
        "LJMVGocIGbAg",
        "HLjlB0xOP87g",
        "xOswkkhfPlPC",
        "Wx3YyDTTLKiD",
        "2WEnke8s12Is",
        "q9Fystj81ABj"
      ],
      "provenance": []
    },
    "kernelspec": {
      "display_name": "Python 3 (ipykernel)",
      "language": "python",
      "name": "python3"
    },
    "language_info": {
      "codemirror_mode": {
        "name": "ipython",
        "version": 3
      },
      "file_extension": ".py",
      "mimetype": "text/x-python",
      "name": "python",
      "nbconvert_exporter": "python",
      "pygments_lexer": "ipython3",
      "version": "3.10.5"
    },
    "widgets": {
      "application/vnd.jupyter.widget-state+json": {
        "787b2fa313bf466dbddb05ab43c3a5d0": {
          "model_module": "@jupyter-widgets/controls",
          "model_name": "HBoxModel",
          "model_module_version": "1.5.0",
          "state": {
            "_dom_classes": [],
            "_model_module": "@jupyter-widgets/controls",
            "_model_module_version": "1.5.0",
            "_model_name": "HBoxModel",
            "_view_count": null,
            "_view_module": "@jupyter-widgets/controls",
            "_view_module_version": "1.5.0",
            "_view_name": "HBoxView",
            "box_style": "",
            "children": [
              "IPY_MODEL_b4bc316575fb48eaa5656eee8080be8f",
              "IPY_MODEL_02d49ab8a07a4e1cb231799b2369ac52",
              "IPY_MODEL_ff851aa95b1c4c82906ce1d97e5215c3"
            ],
            "layout": "IPY_MODEL_36c4f1ebdbe647b491f19197f7d8242a"
          }
        },
        "b4bc316575fb48eaa5656eee8080be8f": {
          "model_module": "@jupyter-widgets/controls",
          "model_name": "HTMLModel",
          "model_module_version": "1.5.0",
          "state": {
            "_dom_classes": [],
            "_model_module": "@jupyter-widgets/controls",
            "_model_module_version": "1.5.0",
            "_model_name": "HTMLModel",
            "_view_count": null,
            "_view_module": "@jupyter-widgets/controls",
            "_view_module_version": "1.5.0",
            "_view_name": "HTMLView",
            "description": "",
            "description_tooltip": null,
            "layout": "IPY_MODEL_676dc5799fe447c39f7b0118ae76d9ec",
            "placeholder": "​",
            "style": "IPY_MODEL_0f391e6d48de452fb2d90c89f948914a",
            "value": "Batches: 100%"
          }
        },
        "02d49ab8a07a4e1cb231799b2369ac52": {
          "model_module": "@jupyter-widgets/controls",
          "model_name": "FloatProgressModel",
          "model_module_version": "1.5.0",
          "state": {
            "_dom_classes": [],
            "_model_module": "@jupyter-widgets/controls",
            "_model_module_version": "1.5.0",
            "_model_name": "FloatProgressModel",
            "_view_count": null,
            "_view_module": "@jupyter-widgets/controls",
            "_view_module_version": "1.5.0",
            "_view_name": "ProgressView",
            "bar_style": "success",
            "description": "",
            "description_tooltip": null,
            "layout": "IPY_MODEL_c8a071db61e54595b4ee27bdbaaf6658",
            "max": 8,
            "min": 0,
            "orientation": "horizontal",
            "style": "IPY_MODEL_a2759a798ed0451c87677094e36cc936",
            "value": 8
          }
        },
        "ff851aa95b1c4c82906ce1d97e5215c3": {
          "model_module": "@jupyter-widgets/controls",
          "model_name": "HTMLModel",
          "model_module_version": "1.5.0",
          "state": {
            "_dom_classes": [],
            "_model_module": "@jupyter-widgets/controls",
            "_model_module_version": "1.5.0",
            "_model_name": "HTMLModel",
            "_view_count": null,
            "_view_module": "@jupyter-widgets/controls",
            "_view_module_version": "1.5.0",
            "_view_name": "HTMLView",
            "description": "",
            "description_tooltip": null,
            "layout": "IPY_MODEL_20c130c9bc48461cb5c0e944211bdec6",
            "placeholder": "​",
            "style": "IPY_MODEL_3ed03f68e21e4ad6ac9d3354afb90fd3",
            "value": " 8/8 [00:58&lt;00:00,  6.40s/it]"
          }
        },
        "36c4f1ebdbe647b491f19197f7d8242a": {
          "model_module": "@jupyter-widgets/base",
          "model_name": "LayoutModel",
          "model_module_version": "1.2.0",
          "state": {
            "_model_module": "@jupyter-widgets/base",
            "_model_module_version": "1.2.0",
            "_model_name": "LayoutModel",
            "_view_count": null,
            "_view_module": "@jupyter-widgets/base",
            "_view_module_version": "1.2.0",
            "_view_name": "LayoutView",
            "align_content": null,
            "align_items": null,
            "align_self": null,
            "border": null,
            "bottom": null,
            "display": null,
            "flex": null,
            "flex_flow": null,
            "grid_area": null,
            "grid_auto_columns": null,
            "grid_auto_flow": null,
            "grid_auto_rows": null,
            "grid_column": null,
            "grid_gap": null,
            "grid_row": null,
            "grid_template_areas": null,
            "grid_template_columns": null,
            "grid_template_rows": null,
            "height": null,
            "justify_content": null,
            "justify_items": null,
            "left": null,
            "margin": null,
            "max_height": null,
            "max_width": null,
            "min_height": null,
            "min_width": null,
            "object_fit": null,
            "object_position": null,
            "order": null,
            "overflow": null,
            "overflow_x": null,
            "overflow_y": null,
            "padding": null,
            "right": null,
            "top": null,
            "visibility": null,
            "width": null
          }
        },
        "676dc5799fe447c39f7b0118ae76d9ec": {
          "model_module": "@jupyter-widgets/base",
          "model_name": "LayoutModel",
          "model_module_version": "1.2.0",
          "state": {
            "_model_module": "@jupyter-widgets/base",
            "_model_module_version": "1.2.0",
            "_model_name": "LayoutModel",
            "_view_count": null,
            "_view_module": "@jupyter-widgets/base",
            "_view_module_version": "1.2.0",
            "_view_name": "LayoutView",
            "align_content": null,
            "align_items": null,
            "align_self": null,
            "border": null,
            "bottom": null,
            "display": null,
            "flex": null,
            "flex_flow": null,
            "grid_area": null,
            "grid_auto_columns": null,
            "grid_auto_flow": null,
            "grid_auto_rows": null,
            "grid_column": null,
            "grid_gap": null,
            "grid_row": null,
            "grid_template_areas": null,
            "grid_template_columns": null,
            "grid_template_rows": null,
            "height": null,
            "justify_content": null,
            "justify_items": null,
            "left": null,
            "margin": null,
            "max_height": null,
            "max_width": null,
            "min_height": null,
            "min_width": null,
            "object_fit": null,
            "object_position": null,
            "order": null,
            "overflow": null,
            "overflow_x": null,
            "overflow_y": null,
            "padding": null,
            "right": null,
            "top": null,
            "visibility": null,
            "width": null
          }
        },
        "0f391e6d48de452fb2d90c89f948914a": {
          "model_module": "@jupyter-widgets/controls",
          "model_name": "DescriptionStyleModel",
          "model_module_version": "1.5.0",
          "state": {
            "_model_module": "@jupyter-widgets/controls",
            "_model_module_version": "1.5.0",
            "_model_name": "DescriptionStyleModel",
            "_view_count": null,
            "_view_module": "@jupyter-widgets/base",
            "_view_module_version": "1.2.0",
            "_view_name": "StyleView",
            "description_width": ""
          }
        },
        "c8a071db61e54595b4ee27bdbaaf6658": {
          "model_module": "@jupyter-widgets/base",
          "model_name": "LayoutModel",
          "model_module_version": "1.2.0",
          "state": {
            "_model_module": "@jupyter-widgets/base",
            "_model_module_version": "1.2.0",
            "_model_name": "LayoutModel",
            "_view_count": null,
            "_view_module": "@jupyter-widgets/base",
            "_view_module_version": "1.2.0",
            "_view_name": "LayoutView",
            "align_content": null,
            "align_items": null,
            "align_self": null,
            "border": null,
            "bottom": null,
            "display": null,
            "flex": null,
            "flex_flow": null,
            "grid_area": null,
            "grid_auto_columns": null,
            "grid_auto_flow": null,
            "grid_auto_rows": null,
            "grid_column": null,
            "grid_gap": null,
            "grid_row": null,
            "grid_template_areas": null,
            "grid_template_columns": null,
            "grid_template_rows": null,
            "height": null,
            "justify_content": null,
            "justify_items": null,
            "left": null,
            "margin": null,
            "max_height": null,
            "max_width": null,
            "min_height": null,
            "min_width": null,
            "object_fit": null,
            "object_position": null,
            "order": null,
            "overflow": null,
            "overflow_x": null,
            "overflow_y": null,
            "padding": null,
            "right": null,
            "top": null,
            "visibility": null,
            "width": null
          }
        },
        "a2759a798ed0451c87677094e36cc936": {
          "model_module": "@jupyter-widgets/controls",
          "model_name": "ProgressStyleModel",
          "model_module_version": "1.5.0",
          "state": {
            "_model_module": "@jupyter-widgets/controls",
            "_model_module_version": "1.5.0",
            "_model_name": "ProgressStyleModel",
            "_view_count": null,
            "_view_module": "@jupyter-widgets/base",
            "_view_module_version": "1.2.0",
            "_view_name": "StyleView",
            "bar_color": null,
            "description_width": ""
          }
        },
        "20c130c9bc48461cb5c0e944211bdec6": {
          "model_module": "@jupyter-widgets/base",
          "model_name": "LayoutModel",
          "model_module_version": "1.2.0",
          "state": {
            "_model_module": "@jupyter-widgets/base",
            "_model_module_version": "1.2.0",
            "_model_name": "LayoutModel",
            "_view_count": null,
            "_view_module": "@jupyter-widgets/base",
            "_view_module_version": "1.2.0",
            "_view_name": "LayoutView",
            "align_content": null,
            "align_items": null,
            "align_self": null,
            "border": null,
            "bottom": null,
            "display": null,
            "flex": null,
            "flex_flow": null,
            "grid_area": null,
            "grid_auto_columns": null,
            "grid_auto_flow": null,
            "grid_auto_rows": null,
            "grid_column": null,
            "grid_gap": null,
            "grid_row": null,
            "grid_template_areas": null,
            "grid_template_columns": null,
            "grid_template_rows": null,
            "height": null,
            "justify_content": null,
            "justify_items": null,
            "left": null,
            "margin": null,
            "max_height": null,
            "max_width": null,
            "min_height": null,
            "min_width": null,
            "object_fit": null,
            "object_position": null,
            "order": null,
            "overflow": null,
            "overflow_x": null,
            "overflow_y": null,
            "padding": null,
            "right": null,
            "top": null,
            "visibility": null,
            "width": null
          }
        },
        "3ed03f68e21e4ad6ac9d3354afb90fd3": {
          "model_module": "@jupyter-widgets/controls",
          "model_name": "DescriptionStyleModel",
          "model_module_version": "1.5.0",
          "state": {
            "_model_module": "@jupyter-widgets/controls",
            "_model_module_version": "1.5.0",
            "_model_name": "DescriptionStyleModel",
            "_view_count": null,
            "_view_module": "@jupyter-widgets/base",
            "_view_module_version": "1.2.0",
            "_view_name": "StyleView",
            "description_width": ""
          }
        }
      }
    }
  },
  "nbformat": 4,
  "nbformat_minor": 0
}